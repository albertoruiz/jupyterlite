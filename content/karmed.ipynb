{
  "metadata": {
    "language_info": {
      "codemirror_mode": {
        "name": "python",
        "version": 3
      },
      "file_extension": ".py",
      "mimetype": "text/x-python",
      "name": "python",
      "nbconvert_exporter": "python",
      "pygments_lexer": "ipython3",
      "version": "3.8"
    },
    "kernelspec": {
      "name": "python",
      "display_name": "Python (Pyodide)",
      "language": "python"
    }
  },
  "nbformat_minor": 4,
  "nbformat": 4,
  "cells": [
    {
      "cell_type": "markdown",
      "source": "# k-armed bandit",
      "metadata": {}
    },
    {
      "cell_type": "markdown",
      "source": "Exploration - exploitation trade-off",
      "metadata": {}
    },
    {
      "cell_type": "code",
      "source": "import numpy as np\nimport matplotlib.pyplot as plt\n%matplotlib inline",
      "metadata": {
        "tags": [],
        "trusted": true
      },
      "execution_count": null,
      "outputs": []
    },
    {
      "cell_type": "markdown",
      "source": "$\\epsilon$-greedy",
      "metadata": {}
    },
    {
      "cell_type": "code",
      "source": "def epsilon_greedy(p,eps,T=100,trials=100):\n    Gfinal = []\n    for _ in range(trials):\n        G = 0\n        lg = []\n        N = 0\n        n = np.zeros(len(p))\n        s = np.zeros(len(p))\n        for k in range(T):\n            if np.random.rand() < eps:\n                [w] = np.random.randint(0,len(p),1)\n            else:\n                w = np.argmax(s)\n            #w = 2\n            #print(w)\n            outcome = np.random.rand() < p[w]\n            R = 1 if outcome else 0\n            G += R\n            s[w] = (s[w]*n[w] + R)/(n[w]+1)\n            n[w] += 1\n            lg.append(G)\n        lg = np.array(lg)\n        #print(n, s)\n        plt.plot(lg/np.arange(1,T+1),color='blue',alpha=0.05)\n        Gfinal.append(lg[-1])\n    plt.plot([0,T],[max(p),max(p)])\n    Gmean = np.mean(Gfinal)/T\n    plt.plot([0,T],[Gmean,Gmean])\n    plt.ylim(0,1)\n    plt.title(f'$\\epsilon$={eps:.2f}    $\\overline{{G}}$={Gmean:.2f}')\n\np = [0.5, 0.7, 0.8]\n\nfor eps in [0.05,0.1,0.2,0.3,0.4,0.5]:\n    epsilon_greedy(p, eps)\n    plt.show()",
      "metadata": {
        "tags": [],
        "trusted": true
      },
      "execution_count": null,
      "outputs": []
    },
    {
      "cell_type": "markdown",
      "source": "Upper Confidence Bound",
      "metadata": {}
    },
    {
      "cell_type": "code",
      "source": "def UCB(p,c,T=100,trials=100):\n    Gfinal = []\n    for _ in range(trials):\n        G = 0\n        lg = []\n        N = 0\n        n = np.zeros(len(p))\n        s = np.zeros(len(p))\n        for k in range(T):\n            ucb = s + c*np.sqrt(np.log(max(1,k))/np.maximum(n,0.001))\n            w = np.argmax(ucb)\n            outcome = np.random.rand() < p[w]\n            R = 1 if outcome else 0\n            G += R\n            s[w] = (s[w]*n[w] + R)/(n[w]+1)\n            n[w] += 1\n            lg.append(G)\n        lg = np.array(lg)\n        #print(n, s, ucb)\n        plt.plot(lg/np.arange(1,T+1),color='green',alpha=0.1)\n        Gfinal.append(lg[-1])\n    plt.plot([0,T],[max(p),max(p)])\n    Gmean = np.mean(Gfinal)/T\n    plt.plot([0,T],[Gmean,Gmean])\n    plt.ylim(0,1)\n    plt.title(f'c={c:.1f}    $\\overline{{G}}$={Gmean:.2f}')\n\np = [0.5, 0.7, 0.8]\n\nfor c in [3, 2, 1, 0.5, 0.1, 0.01]:\n    UCB(p, c, trials=100)\n    plt.show()",
      "metadata": {
        "tags": [],
        "trusted": true
      },
      "execution_count": null,
      "outputs": []
    }
  ]
}