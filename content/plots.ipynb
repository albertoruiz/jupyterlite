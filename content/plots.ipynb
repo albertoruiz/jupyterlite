{
  "metadata": {
    "language_info": {
      "codemirror_mode": {
        "name": "python",
        "version": 3
      },
      "file_extension": ".py",
      "mimetype": "text/x-python",
      "name": "python",
      "nbconvert_exporter": "python",
      "pygments_lexer": "ipython3",
      "version": "3.8"
    },
    "kernelspec": {
      "name": "python",
      "display_name": "Python (Pyodide)",
      "language": "python"
    }
  },
  "nbformat_minor": 4,
  "nbformat": 4,
  "cells": [
    {
      "cell_type": "markdown",
      "source": "# Some graphics",
      "metadata": {}
    },
    {
      "cell_type": "markdown",
      "source": "## Newton's Method",
      "metadata": {}
    },
    {
      "cell_type": "code",
      "source": "import numpy as np\nimport matplotlib.pyplot as plt\n%matplotlib inline\n\nfrom matplotlib import rc\n#rc('font',**{'family':'sans-serif','sans-serif':['Helvetica']})\n## for Palatino and other serif fonts use:\n#rc('font',**{'family':'serif','serif':['Palatino']})\n#rc('text', usetex=True)\n#rc('font', size=14)",
      "metadata": {
        "trusted": true
      },
      "execution_count": null,
      "outputs": []
    },
    {
      "cell_type": "code",
      "source": "def f(x):\n    y = 2*x**3 + 20 *x - 10\n    return y",
      "metadata": {
        "trusted": true
      },
      "execution_count": null,
      "outputs": []
    },
    {
      "cell_type": "code",
      "source": "from scipy.optimize import fsolve",
      "metadata": {
        "trusted": true
      },
      "execution_count": null,
      "outputs": []
    },
    {
      "cell_type": "code",
      "source": "[x_s] = fsolve(f,4)\nx_s",
      "metadata": {
        "trusted": true
      },
      "execution_count": null,
      "outputs": []
    },
    {
      "cell_type": "code",
      "source": "def fp(x):\n    y = 6*x**2 + 20\n    return y",
      "metadata": {
        "trusted": true
      },
      "execution_count": null,
      "outputs": []
    },
    {
      "cell_type": "code",
      "source": "def tan(x):\n    a = fp(x)\n    y = f(x)\n    b = y - a*x\n    def r(x):\n        return a*x+b\n    return r",
      "metadata": {
        "trusted": true
      },
      "execution_count": null,
      "outputs": []
    },
    {
      "cell_type": "code",
      "source": "x = np.linspace(-2,5,100)\n\ndef common():\n    plt.plot(x,f(x),lw=4);\n    plt.plot(x,0*x,color='black');\n    plt.ylim(-100,400)\n    plt.text(3,320,'$y=f(x)$',fontsize=20)\n    plt.xticks(np.arange(-2,6))\n\naxcol = 'gray'\ncontext = {'axes.edgecolor':axcol, 'xtick.color':axcol, 'ytick.color':axcol}",
      "metadata": {
        "trusted": true
      },
      "execution_count": null,
      "outputs": []
    },
    {
      "cell_type": "code",
      "source": "with plt.rc_context(context):\n    common()\n    plt.annotate('', xy=(x_s,0),  xycoords='data', fontsize=20,\n                xytext=(-1, 200), textcoords='data',\n                arrowprops=dict(color='gray', shrink=0.05, width=0.1, headwidth=6),\n                horizontalalignment='center', verticalalignment='top', \n                );\n\n    plt.text(-1.6,210,'$f(x^*)=0$', fontsize=20)\n    plt.text(x_s,-50,'$x^*$',horizontalalignment='center', fontsize=20);",
      "metadata": {
        "trusted": true
      },
      "execution_count": null,
      "outputs": []
    },
    {
      "cell_type": "code",
      "source": "def newton(x0,n,labels=False):\n    with plt.rc_context(context):\n        common()\n        plt.plot(x0,0,'o',color='black');\n        plt.plot([x0,x0],[0,f(x0)],ls='dotted',color='gray')\n        #plt.text(x0,-50,'$x_0$',horizontalalignment='center', fontsize=20);\n        #plt.text(x0+0.2,f(x0)/2,'$\\epsilon_0$',fontsize=20)\n        if labels:\n            plt.text(x0,-50,f'$x_{0}$',horizontalalignment='center', fontsize=20);\n        for k in range(n):\n            plt.plot(x,tan(x0)(x),color='red',lw=1)\n            plt.plot([x0,x0],[0,f(x0)],ls='dotted',color='gray')\n            plt.plot(x0,f(x0),'o',color='red');\n            \n            x1 = x0 - f(x0)/fp(x0)\n            plt.plot(x1,0,'o',color='black');\n            x0 = x1\n            if labels:\n                plt.text(x0,-50,f'$x_{k+1}$',horizontalalignment='center', fontsize=20);",
      "metadata": {
        "tags": [],
        "trusted": true
      },
      "execution_count": null,
      "outputs": []
    },
    {
      "cell_type": "code",
      "source": "newton(4,0,labels=True)",
      "metadata": {
        "trusted": true
      },
      "execution_count": null,
      "outputs": []
    },
    {
      "cell_type": "code",
      "source": "newton(4,1,labels=True)",
      "metadata": {
        "trusted": true
      },
      "execution_count": null,
      "outputs": []
    },
    {
      "cell_type": "code",
      "source": "newton(4,3)",
      "metadata": {
        "trusted": true
      },
      "execution_count": null,
      "outputs": []
    },
    {
      "cell_type": "markdown",
      "source": "## Spiral of Primes",
      "metadata": {}
    },
    {
      "cell_type": "markdown",
      "source": "[3Blue1Brown](https://youtu.be/EK32jo7i5LQ)",
      "metadata": {}
    },
    {
      "cell_type": "code",
      "source": "import sympy.ntheory as nt\nimport numpy as np\nimport matplotlib.pyplot as plt\n%matplotlib inline\n\ndef spiral(MAX,szn=1, szp=5):\n    primes = list(nt.primerange(1,MAX))\n    numbers = np.arange(1,MAX)\n\n    plt.figure(figsize=(8,8))\n    ax = plt.subplot(111, projection='polar')\n    if szn>0: ax.plot(numbers, numbers, '.', markersize=szn)\n    if szp>0: ax.plot(primes, primes, '.',color='red',markersize=szp)\n    ax.grid(True)\n    #ax.set_title(\"números primos\");\n    ax.axis('off')\n    ax.set_rmax(MAX)",
      "metadata": {
        "trusted": true
      },
      "execution_count": null,
      "outputs": []
    },
    {
      "cell_type": "code",
      "source": "spiral(10000)",
      "metadata": {
        "trusted": true
      },
      "execution_count": null,
      "outputs": []
    },
    {
      "cell_type": "code",
      "source": "spiral(300000,szn=0,szp=1)",
      "metadata": {
        "trusted": true
      },
      "execution_count": null,
      "outputs": []
    }
  ]
}