{
  "metadata": {
    "language_info": {
      "codemirror_mode": {
        "name": "python",
        "version": 3
      },
      "file_extension": ".py",
      "mimetype": "text/x-python",
      "name": "python",
      "nbconvert_exporter": "python",
      "pygments_lexer": "ipython3",
      "version": "3.8"
    },
    "kernelspec": {
      "name": "python",
      "display_name": "Python (Pyodide)",
      "language": "python"
    }
  },
  "nbformat_minor": 4,
  "nbformat": 4,
  "cells": [
    {
      "cell_type": "markdown",
      "source": "# Some graphics",
      "metadata": {}
    },
    {
      "cell_type": "markdown",
      "source": "## Animations / Videos",
      "metadata": {
        "tags": []
      }
    },
    {
      "cell_type": "markdown",
      "source": "Code for preparation of both animations and videos.",
      "metadata": {}
    },
    {
      "cell_type": "code",
      "source": "import numpy as np\nimport matplotlib.pyplot as plt",
      "metadata": {
        "trusted": true
      },
      "execution_count": null,
      "outputs": []
    },
    {
      "cell_type": "code",
      "source": "plt.rc('animation', html='html5')\nimport sys\nif 'pyodide' in sys.modules:\n    %pip install ipywidgets\n    %pip install ipympl\n\ndef metaAnimation(fig, fotogram, nframes, video=True, sleep=1/50):\n    if video:\n        def create(frames,interval):\n            from matplotlib import animation\n            return animation.FuncAnimation(fig, fotogram, frames=frames, interval=interval, blit=True, repeat=False)\n        return create\n    else:\n        fig.canvas.toolbar_visible = False\n        fig.canvas.header_visible = False\n        fig.canvas.footer_visible = False\n        fig.canvas.capture_scroll = False\n\n        import time\n        def play(n):\n            for k in range(n):\n                fotogram(k)\n                fig.canvas.draw()\n                time.sleep(sleep)\n\n        import ipywidgets as widgets\n        play_button =  widgets.Button(description=\"Play\")\n        play_button.on_click(lambda b: play(nframes))\n        display(play_button)\n\n        return play",
      "metadata": {
        "trusted": true
      },
      "execution_count": null,
      "outputs": []
    },
    {
      "cell_type": "code",
      "source": "def makeAnimation(w, nframes=100, init=None, video=True):\n\n    fig, ax = plt.subplots(figsize=(5,5))\n\n    ax.set_xlim(( -2,2))\n    ax.set_ylim((-2,2))\n    ax.grid()\n\n    if video:\n        plt.close()\n\n    [line] = ax.plot([],[],color='green',lw=2)\n    [point] = ax.plot([],'.',markersize=15)\n\n    def fotogram(n):\n\n        dt = 1/25\n\n        t = np.arange(0,n+1)*dt\n        x = np.cos(2*np.pi*w*t)\n        y = np.sin(2*np.pi*w*t)\n        point.set_data(x[-1],y[-1])\n        line.set_data(x,y)\n\n        return ()\n\n    if init is not None:\n        fotogram(init)\n\n    return metaAnimation(fig,fotogram,nframes,video)",
      "metadata": {
        "trusted": true
      },
      "execution_count": null,
      "outputs": []
    },
    {
      "cell_type": "code",
      "source": "if 'pyodide' not in sys.modules:\n    %matplotlib inline\n    create = makeAnimation(1)\n    create(frames=101, interval=1000/25)",
      "metadata": {
        "trusted": true
      },
      "execution_count": null,
      "outputs": []
    },
    {
      "cell_type": "code",
      "source": "# uncomment the next line to enable the button\n# %matplotlib widget\nplay = makeAnimation(1, nframes=51, init=20, video=False)",
      "metadata": {
        "trusted": true
      },
      "execution_count": null,
      "outputs": []
    },
    {
      "cell_type": "markdown",
      "source": "## Graph paper",
      "metadata": {}
    },
    {
      "cell_type": "code",
      "source": "import numpy as np\nimport matplotlib.pyplot as plt\n%matplotlib inline",
      "metadata": {
        "trusted": true
      },
      "execution_count": null,
      "outputs": []
    },
    {
      "cell_type": "code",
      "source": "def grid(ax = None, big=1, small=0.2, color='rosybrown'):\n    if ax is None:\n        ax = plt.gca()\n    ax.xaxis.set_major_locator(plt.MultipleLocator(big))\n    ax.xaxis.set_minor_locator(plt.MultipleLocator(small))\n    ax.yaxis.set_major_locator(plt.MultipleLocator(big))\n    ax.yaxis.set_minor_locator(plt.MultipleLocator(small))\n    col = color\n    ax.grid(which='major', axis='x', linewidth=0.75, linestyle='-', color=col)\n    ax.grid(which='minor', axis='x', linewidth=0.25, linestyle='-', color=col)\n    ax.grid(which='major', axis='y', linewidth=0.75, linestyle='-', color=col)\n    ax.grid(which='minor', axis='y', linewidth=0.25, linestyle='-', color=col)\n    #ax.set_xticklabels([])\n    #ax.set_yticklabels([])\n\n    ax.tick_params(which='minor', length=0)\n    ax.tick_params(which='major', length=0)\n\n    ax.tick_params(axis='x', colors=col, labelsize= 8)\n    ax.tick_params(axis='y', colors=col, labelsize= 8)\n\n    for x in ['bottom', 'top', 'left', 'right']:\n        ax.spines[x].set_visible(False)\n\n    if False:\n        ax.spines['bottom'].set_position('zero')\n        ax.spines['bottom'].set_linewidth(1.5)\n        ax.spines['top'].set_visible(False)\n        ax.spines['left'].set_position('zero')\n        ax.spines['left'].set_linewidth(1.5)\n        ax.spines['right'].set_visible(False)",
      "metadata": {
        "trusted": true
      },
      "execution_count": null,
      "outputs": []
    },
    {
      "cell_type": "code",
      "source": "fig, ax = plt.subplots(figsize=(5,5))\nax.axis('equal')\nt = np.linspace(0,2*np.pi,100)\nax.plot(3*np.cos(t),3*np.sin(t),color='red')\nax.plot(1*np.cos(t),1*np.sin(t),color='blue')\ngrid(ax,small=0.2)",
      "metadata": {
        "trusted": true
      },
      "execution_count": null,
      "outputs": []
    },
    {
      "cell_type": "markdown",
      "source": "## Newton's Method",
      "metadata": {}
    },
    {
      "cell_type": "code",
      "source": "import numpy as np\nimport matplotlib.pyplot as plt\n%matplotlib inline\n\nfrom matplotlib import rc\n#rc('font',**{'family':'sans-serif','sans-serif':['Helvetica']})\n## for Palatino and other serif fonts use:\n#rc('font',**{'family':'serif','serif':['Palatino']})\n#rc('text', usetex=True)\n#rc('font', size=14)",
      "metadata": {
        "trusted": true
      },
      "execution_count": null,
      "outputs": []
    },
    {
      "cell_type": "code",
      "source": "def f(x):\n    y = 2*x**3 + 20 *x - 10\n    return y",
      "metadata": {
        "trusted": true
      },
      "execution_count": null,
      "outputs": []
    },
    {
      "cell_type": "code",
      "source": "from scipy.optimize import fsolve",
      "metadata": {
        "trusted": true
      },
      "execution_count": null,
      "outputs": []
    },
    {
      "cell_type": "code",
      "source": "[x_s] = fsolve(f,4)\nx_s",
      "metadata": {
        "trusted": true
      },
      "execution_count": null,
      "outputs": []
    },
    {
      "cell_type": "code",
      "source": "def fp(x):\n    y = 6*x**2 + 20\n    return y",
      "metadata": {
        "trusted": true
      },
      "execution_count": null,
      "outputs": []
    },
    {
      "cell_type": "code",
      "source": "def tan(x):\n    a = fp(x)\n    y = f(x)\n    b = y - a*x\n    def r(x):\n        return a*x+b\n    return r",
      "metadata": {
        "trusted": true
      },
      "execution_count": null,
      "outputs": []
    },
    {
      "cell_type": "code",
      "source": "x = np.linspace(-2,5,100)\n\ndef common():\n    plt.plot(x,f(x),lw=4);\n    plt.plot(x,0*x,color='black');\n    plt.ylim(-100,400)\n    plt.text(3,320,'$y=f(x)$',fontsize=20)\n    plt.xticks(np.arange(-2,6))\n\naxcol = 'gray'\ncontext = {'axes.edgecolor':axcol, 'xtick.color':axcol, 'ytick.color':axcol}",
      "metadata": {
        "trusted": true
      },
      "execution_count": null,
      "outputs": []
    },
    {
      "cell_type": "code",
      "source": "with plt.rc_context(context):\n    common()\n    plt.annotate('', xy=(x_s,0),  xycoords='data', fontsize=20,\n                xytext=(-1, 200), textcoords='data',\n                arrowprops=dict(color='gray', shrink=0.05, width=0.1, headwidth=6),\n                horizontalalignment='center', verticalalignment='top', \n                );\n\n    plt.text(-1.6,210,'$f(x^*)=0$', fontsize=20)\n    plt.text(x_s,-50,'$x^*$',horizontalalignment='center', fontsize=20);",
      "metadata": {
        "trusted": true
      },
      "execution_count": null,
      "outputs": []
    },
    {
      "cell_type": "code",
      "source": "def newton(x0,n,labels=False):\n    with plt.rc_context(context):\n        common()\n        plt.plot(x0,0,'o',color='black');\n        plt.plot([x0,x0],[0,f(x0)],ls='dotted',color='gray')\n        #plt.text(x0,-50,'$x_0$',horizontalalignment='center', fontsize=20);\n        #plt.text(x0+0.2,f(x0)/2,'$\\epsilon_0$',fontsize=20)\n        if labels:\n            plt.text(x0,-50,f'$x_{0}$',horizontalalignment='center', fontsize=20);\n        for k in range(n):\n            plt.plot(x,tan(x0)(x),color='red',lw=1)\n            plt.plot([x0,x0],[0,f(x0)],ls='dotted',color='gray')\n            plt.plot(x0,f(x0),'o',color='red');\n\n            x1 = x0 - f(x0)/fp(x0)\n            plt.plot(x1,0,'o',color='black');\n            x0 = x1\n            if labels:\n                plt.text(x0,-50,f'$x_{k+1}$',horizontalalignment='center', fontsize=20);",
      "metadata": {
        "tags": [],
        "trusted": true
      },
      "execution_count": null,
      "outputs": []
    },
    {
      "cell_type": "code",
      "source": "newton(4,0,labels=True)",
      "metadata": {
        "trusted": true
      },
      "execution_count": null,
      "outputs": []
    },
    {
      "cell_type": "code",
      "source": "newton(4,1,labels=True)",
      "metadata": {
        "trusted": true
      },
      "execution_count": null,
      "outputs": []
    },
    {
      "cell_type": "code",
      "source": "newton(4,3)",
      "metadata": {
        "trusted": true
      },
      "execution_count": null,
      "outputs": []
    },
    {
      "cell_type": "markdown",
      "source": "## Spiral of Primes",
      "metadata": {}
    },
    {
      "cell_type": "markdown",
      "source": "[3Blue1Brown](https://youtu.be/EK32jo7i5LQ)",
      "metadata": {}
    },
    {
      "cell_type": "code",
      "source": "import sympy.ntheory as nt\nimport numpy as np\nimport matplotlib.pyplot as plt\n%matplotlib inline\n\ndef spiral(MAX,szn=1, szp=5):\n    primes = list(nt.primerange(1,MAX))\n    numbers = np.arange(1,MAX)\n\n    plt.figure(figsize=(8,8))\n    ax = plt.subplot(111, projection='polar')\n    if szn>0: ax.plot(numbers, numbers, '.', markersize=szn)\n    if szp>0: ax.plot(primes, primes, '.',color='red',markersize=szp)\n    ax.grid(True)\n    #ax.set_title(\"números primos\");\n    ax.axis('off')\n    ax.set_rmax(MAX)",
      "metadata": {
        "trusted": true
      },
      "execution_count": null,
      "outputs": []
    },
    {
      "cell_type": "code",
      "source": "spiral(10000)",
      "metadata": {
        "trusted": true
      },
      "execution_count": null,
      "outputs": []
    },
    {
      "cell_type": "code",
      "source": "spiral(300000,szn=0,szp=1)",
      "metadata": {
        "trusted": true
      },
      "execution_count": null,
      "outputs": []
    }
  ]
}