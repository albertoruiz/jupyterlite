{
 "cells": [
  {
   "cell_type": "markdown",
   "metadata": {},
   "source": [
    "# Midpoint Method"
   ]
  },
  {
   "cell_type": "code",
   "execution_count": null,
   "metadata": {},
   "outputs": [],
   "source": [
    "from scipy.integrate import odeint\n",
    "import numpy as np\n",
    "import matplotlib.pyplot as plt\n",
    "\n",
    "t = np.linspace(0,10,1000)\n",
    "\n",
    "g = 10\n",
    "l =  1\n",
    "\n",
    "\n",
    "x0 = np.radians(80)\n",
    "\n",
    "\n",
    "def deriv(z,t):\n",
    "    x,v = z\n",
    "    dx = v\n",
    "    dv = -g/l * np.sin(x)\n",
    "    return np.array([dx,dv])\n",
    "\n",
    "x,v = odeint( deriv, [x0, 0], t ).T\n",
    "\n",
    "x = np.degrees(x)\n",
    "\n",
    "plt.plot(t,x,label='odeint')\n",
    "\n",
    "\n",
    "def Euler(dot, x0, h, Tmax):\n",
    "    T = [0]\n",
    "    X = [x0]\n",
    "    while True:\n",
    "        x = X[-1]\n",
    "        t = T[-1]\n",
    "        X.append( x + h*dot(x,t) )\n",
    "        T.append( t + h)\n",
    "        if t > Tmax:\n",
    "            break\n",
    "    return T, np.array(X).T\n",
    "\n",
    "h = 0.02\n",
    "t, (x,v) = Euler( deriv, [x0, 0], h, 10 )\n",
    "\n",
    "x = np.degrees(x)\n",
    "\n",
    "plt.plot(t, x, label=F'Euler {h}');\n",
    "\n",
    "\n",
    "def Midpoint(dot, x0, h, Tmax):\n",
    "    T = [0]\n",
    "    X = [x0]\n",
    "    while True:\n",
    "        x = X[-1]\n",
    "        t = T[-1]\n",
    "        X.append( x + h*dot( x+h/2*dot(x,t), t+h/2) )\n",
    "        T.append( t + h)\n",
    "        if t > Tmax:\n",
    "            break\n",
    "    return T, np.array(X).T\n",
    "\n",
    "\n",
    "h = 0.1\n",
    "t, (x,v) = Midpoint( deriv, [x0, 0], h, 10 )\n",
    "\n",
    "x = np.degrees(x)\n",
    "\n",
    "plt.plot(t, x, label=F'Midpoint {h}');\n",
    "\n",
    "\n",
    "plt.legend(loc=(0.95,0.7)); plt.xlabel('Time (s)'); plt.ylabel('Amplitude (deg)');"
   ]
  }
 ],
 "metadata": {
  "kernelspec": {
   "display_name": "Python 3 (ipykernel)",
   "language": "python",
   "name": "python3"
  },
  "language_info": {
   "codemirror_mode": {
    "name": "ipython",
    "version": 3
   },
   "file_extension": ".py",
   "mimetype": "text/x-python",
   "name": "python",
   "nbconvert_exporter": "python",
   "pygments_lexer": "ipython3",
   "version": "3.10.8"
  }
 },
 "nbformat": 4,
 "nbformat_minor": 5
}
