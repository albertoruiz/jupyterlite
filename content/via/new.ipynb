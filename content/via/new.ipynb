{
  "metadata": {
    "language_info": {
      "codemirror_mode": {
        "name": "python",
        "version": 3
      },
      "file_extension": ".py",
      "mimetype": "text/x-python",
      "name": "python",
      "nbconvert_exporter": "python",
      "pygments_lexer": "ipython3",
      "version": "3.8"
    },
    "kernelspec": {
      "name": "python",
      "display_name": "Python (Pyodide)",
      "language": "python"
    }
  },
  "nbformat_minor": 4,
  "nbformat": 4,
  "cells": [
    {
      "cell_type": "code",
      "source": "import cv2 as cv\nimport numpy as np\nimport matplotlib.pyplot as plt\n\n%pip install -q https://raw.githubusercontent.com/albertoruiz/jupyterlite/main/content/umucv/umucv-0.3-py3-none-any.whl",
      "metadata": {
        "trusted": true
      },
      "execution_count": null,
      "outputs": []
    },
    {
      "cell_type": "code",
      "source": "%pip install ipympl\n%matplotlib widget\n\nr = np.linspace(-3,3,40)\nx,y = np.meshgrid(r,r)\nz = np.exp(-(x**2+y**2)/4)\n\nfig = plt.figure(figsize=(6,4))\nplt.subplots_adjust(top=1)\nfig.canvas.toolbar_visible = False\nfig.canvas.header_visible = False\nfig.canvas.footer_visible = False\nfig.canvas.capture_scroll = False\nax = fig.add_subplot(111, projection='3d')\nax.plot_surface(x,y,z, cmap='coolwarm', linewidth=0);\nax.view_init(60, 20)\nplt.suptitle('Example of interactive plot')\nplt.show()",
      "metadata": {
        "trusted": true
      },
      "execution_count": null,
      "outputs": []
    }
  ]
}