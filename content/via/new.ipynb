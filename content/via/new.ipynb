{
  "metadata": {
    "language_info": {
      "codemirror_mode": {
        "name": "python",
        "version": 3
      },
      "file_extension": ".py",
      "mimetype": "text/x-python",
      "name": "python",
      "nbconvert_exporter": "python",
      "pygments_lexer": "ipython3",
      "version": "3.8"
    },
    "kernelspec": {
      "name": "python",
      "display_name": "Python (Pyodide)",
      "language": "python"
    }
  },
  "nbformat_minor": 4,
  "nbformat": 4,
  "cells": [
    {
      "cell_type": "code",
      "source": "import cv2 as cv\nimport numpy as np\nimport matplotlib.pyplot as plt\n\n# umucv\n%pip install -q 'https://raw.githubusercontent.com/albertoruiz/jupyterlite/main/content/umucv/umucv-0.3-py3-none-any.whl'\n\n# matplotlib interactivo\n%pip install ipympl",
      "metadata": {
        "trusted": true
      },
      "execution_count": null,
      "outputs": []
    }
  ]
}