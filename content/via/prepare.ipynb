{
  "metadata": {
    "language_info": {
      "codemirror_mode": {
        "name": "python",
        "version": 3
      },
      "file_extension": ".py",
      "mimetype": "text/x-python",
      "name": "python",
      "nbconvert_exporter": "python",
      "pygments_lexer": "ipython3",
      "version": "3.8"
    },
    "kernelspec": {
      "name": "python",
      "display_name": "Python (Pyodide)",
      "language": "python"
    }
  },
  "nbformat_minor": 4,
  "nbformat": 4,
  "cells": [
    {
      "cell_type": "markdown",
      "source": "Run this first to download the desired notebooks and data to local storage:",
      "metadata": {}
    },
    {
      "cell_type": "code",
      "source": "images = 'coins.png cube3.png poles.jpg'\n\nnotebooks = 'VIA captura graphs stacks'\n\nimport getfiles\n\nfor file in images.split():\n    await getfiles.getfile(getfiles.path+'images/'+file,'/drive/images/'+file)\n        \nfor file in notebooks.split():\n    await getfiles.getfile(getfiles.path+'notebooks/'+file+'.ipynb','/drive/via/'+file+'.ipynb')",
      "metadata": {
        "trusted": true
      },
      "execution_count": null,
      "outputs": []
    },
    {
      "cell_type": "markdown",
      "source": "Then open the desired notebook:\n\n- [VIA Index](VIA.ipynb)\n\n- [new template](new.ipnb)",
      "metadata": {}
    }
  ]
}