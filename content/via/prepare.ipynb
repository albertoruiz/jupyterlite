{
  "metadata": {
    "language_info": {
      "codemirror_mode": {
        "name": "python",
        "version": 3
      },
      "file_extension": ".py",
      "mimetype": "text/x-python",
      "name": "python",
      "nbconvert_exporter": "python",
      "pygments_lexer": "ipython3",
      "version": "3.8"
    },
    "kernelspec": {
      "name": "python",
      "display_name": "Python (Pyodide)",
      "language": "python"
    }
  },
  "nbformat_minor": 4,
  "nbformat": 4,
  "cells": [
    {
      "cell_type": "markdown",
      "source": "Descarga al almacenamiento local del navegador los notebooks deseados y sus imágenes de ejemplo:",
      "metadata": {}
    },
    {
      "cell_type": "code",
      "source": "images = 'coins.png cube3.png poles.jpg'\n\nnotebooks = 'VIA captura graphs stacks'\n\nimport getfiles\n\nfor file in images.split():\n    await getfiles.getfile(getfiles.path+'images/'+file,'/drive/images/'+file)\n        \nfor file in notebooks.split():\n    await getfiles.getfile(getfiles.path+'notebooks/'+file+'.ipynb','/drive/via/'+file+'.ipynb')",
      "metadata": {
        "trusted": true
      },
      "execution_count": null,
      "outputs": []
    },
    {
      "cell_type": "markdown",
      "source": "Una vez hecho esto puedes abrir los notebooks, por ejemplo:\n\n- [VIA index](VIA.ipynb)\n- [new.ipynb](new.ipynb) es un esqueleto con los imports necesarios.",
      "metadata": {}
    }
  ]
}