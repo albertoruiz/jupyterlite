{
  "metadata": {
    "kernelspec": {
      "name": "python",
      "display_name": "Python (Pyodide)",
      "language": "python"
    },
    "language_info": {
      "codemirror_mode": {
        "name": "python",
        "version": 3
      },
      "file_extension": ".py",
      "mimetype": "text/x-python",
      "name": "python",
      "nbconvert_exporter": "python",
      "pygments_lexer": "ipython3",
      "version": "3.8"
    }
  },
  "nbformat_minor": 4,
  "nbformat": 4,
  "cells": [
    {
      "cell_type": "markdown",
      "source": "#### Helper code",
      "metadata": {
        "tags": [],
        "jp-MarkdownHeadingCollapsed": true
      }
    },
    {
      "cell_type": "code",
      "source": "import sys\nif 'pyodide' in sys.modules:\n    %pip install ipywidgets\n    %pip install ipympl\n\nimport numpy             as np\nimport matplotlib.pyplot as plt\nfrom mpl_toolkits import mplot3d\n\n%run \"animate.ipy\"\n\nplt.rc('figure', figsize=(4,3))\n\n#save_path = \"../data/schrodinger\"\n#load_path = save_path\nload_path = \"https://raw.githubusercontent.com/albertoruiz/jupyterlite/main/data/schrodinger\"\n\nANIM = False\nMKVIDEO = not ANIM and False\nSAVEVIDEO = True\nPREVIEW = not ANIM and not MKVIDEO\n%matplotlib widget",
      "metadata": {
        "tags": [],
        "trusted": true
      },
      "execution_count": null,
      "outputs": []
    },
    {
      "cell_type": "code",
      "source": "def wave1(nframes=100, init=0, video=False):\n    fig = figure(6,2,True)\n    if video:\n        plt.close()\n\n    ax = fig.add_subplot(111)\n\n    ax.set_xlim(( 0, 2*np.pi))\n    ax.set_ylim((-1.1, 1.1))\n    ax.grid()\n    ax.set_title('real wave')\n    [line] = ax.plot([], [])\n\n    x = np.linspace(0,2*np.pi,300)\n\n    def fotogram(t):\n        line.set_data(x,np.sin(2*x-t*2*np.pi/100))\n        return ()\n\n    if init is not None:\n        fotogram(0)\n\n    return metaAnimation(fig,fotogram,nframes,video)",
      "metadata": {
        "tags": [],
        "trusted": true
      },
      "execution_count": null,
      "outputs": []
    },
    {
      "cell_type": "code",
      "source": "def muelle(k=5, w=1, dt=0.1, nframes=100, init=0, video=False):\n    fig = figure(6,4,True)\n    if video:\n        plt.close()\n    ax = fig.add_subplot(111, projection='3d')\n\n    ax.set_zlim((-1,1))\n    ax.set_ylim((-1,1))\n    ax.set_xlim((0,1*2*np.pi))\n    ax.set_xticks(np.arange(7),[\"\"]*7)\n    ax.set_yticks([-1,0,1],[\"\",\"\",\"\"])\n    ax.set_zticks([-1,0,1],[\"\",\"\",\"\"])\n    #ax.set_xlabel('time')\n    #ax.set_ylabel('real')\n    #ax.set_zlabel('imag')\n    ax.set_title('complex wave')\n\n    ax.set_box_aspect([ub - lb for lb, ub in (getattr(ax, f'get_{a}lim')() for a in 'xyz')],zoom=1)\n\n    [line] = ax.plot3D([], [], [])\n\n    x = np.linspace(0,1*2*np.pi,100)\n\n    z = np.exp(1j*x*k)\n\n    def fotogram(t):\n        zt = z * np.exp(-1j*t*w*dt)\n        line.set_data(x,np.real(zt))\n        line.set_3d_properties(np.imag(zt))\n        return ()\n\n    if init is not None:\n        fotogram(0)\n\n    return metaAnimation(fig,fotogram,nframes,video)",
      "metadata": {
        "tags": [],
        "trusted": true
      },
      "execution_count": null,
      "outputs": []
    },
    {
      "cell_type": "code",
      "source": "def packet(ks=(4.9,5,5.1), v=1, dt=0.1, nframes=100, init=0, video=False):\n    fig = figure(6,4,True)\n    if video:\n        plt.close()\n    ax = fig.add_subplot(111, projection='3d')\n\n    ax.set_zlim((-1,1))\n    ax.set_ylim((-1,1))\n    ax.set_xlim((0,1*2*np.pi))\n    ax.set_xticks(np.arange(7),[\"\"]*7)\n    ax.set_yticks([-1,0,1],[\"\",\"\",\"\"])\n    ax.set_zticks([-1,0,1],[\"\",\"\",\"\"])\n    #ax.set_xlabel('time')\n    #ax.set_ylabel('real')\n    #ax.set_zlabel('imag')\n    ax.set_title('wave packet')\n\n    ax.set_box_aspect([ub - lb for lb, ub in (getattr(ax, f'get_{a}lim')() for a in 'xyz')],zoom=1)\n\n    [line] = ax.plot3D([], [], [])\n\n    x = np.linspace(0,1*2*np.pi,500)\n\n    zs = [np.exp(1j*x*k) for k in ks]\n\n    def fotogram(t):\n        zt = np.mean(([z * np.exp(-1j*t*k*v*dt) for k,z in zip(ks,zs)]),axis=0)\n        line.set_data(x,np.real(zt))\n        line.set_3d_properties(np.imag(zt))\n        return ()\n\n    if init is not None:\n        fotogram(0)\n\n    return metaAnimation(fig,fotogram,nframes,video)",
      "metadata": {
        "tags": [],
        "trusted": true
      },
      "execution_count": null,
      "outputs": []
    },
    {
      "cell_type": "markdown",
      "source": "# La función exponencial",
      "metadata": {}
    },
    {
      "cell_type": "markdown",
      "source": "Es una de las funciones matemáticas más importantes. La encontramos de forma natural partiendo prácticamente de cero.",
      "metadata": {}
    },
    {
      "cell_type": "markdown",
      "source": "Partimos de los números naturales $\\mathbb N$, la suma, la multiplicación y las potencias. Para invertir la suma inventamos los enteros $\\mathbb Z$, para invertir la multiplicación inventamos lo racionales $\\mathbb Q$ y para invertir las potencias inventamos los reales $\\mathbb R$ y los complejos $\\mathbb C$. Combinando las tres operaciones básicas podemos definir polinomios.",
      "metadata": {}
    },
    {
      "cell_type": "markdown",
      "source": "Aparece de forma natural el concepto de límite y de derivada. La derivadas de las tres operaciones básicas se deducen sin problemas a partir de la definición. ",
      "metadata": {}
    },
    {
      "cell_type": "markdown",
      "source": "Surge la idea de ampliar nuestro catálogo de funciones a series de potencias, una generalización de los polinomios a infinitos términos. Si una función se puede expresar así, sus coeficientes vienen dados por sus infinitas derivadas.",
      "metadata": {}
    },
    {
      "cell_type": "markdown",
      "source": "Una serie de potencias especialmente interesante es la que corresponde a una función cuya derivada es ella misma: $f'(x)=f(x)$. Es una ecuación diferencial muy simple, que podemos resolver fácilmente en forma de serie:",
      "metadata": {}
    },
    {
      "cell_type": "markdown",
      "source": "Crece más rápido que cualquier polinomio. Lo más interesante es que tiene las propiedades del exponente de una potencia: $ f(x)f(y) = f(x+y)$, lo que se comprueba fácilmente multiplicando las dos series y comprobando que las sucesivas diagonales contienen las correspondientes expansiones binomiales. Tiene sentido llamarla $\\exp$, eligiendo la constante unidad para que $\\exp(0)=1$. La constante $e=\\exp(1)$ es el número de Euler.",
      "metadata": {}
    },
    {
      "cell_type": "markdown",
      "source": "Cuando aplicamos la función exponencial a un número complejo $\\exp(a+ib) = \\exp(a)\\exp(ib)$ la parte real da lugar a un factor que no aporta nada nuevo pero la parte imaginaria es muy interesante: su serie de potencias se separa en dos subseries, una real y otra compleja, dependiendo de las sucesivas potencias de la unidad imaginaria $i$.",
      "metadata": {}
    },
    {
      "cell_type": "markdown",
      "source": "Curiosamente, las derivadas de estas series cumplen las mismas relaciones que las funciones trigonométricas $\\sin(x)$ y $\\cos(x)$ (lo que se comprueba fácilmente con argumentos geométricos). Obtenemos la relación de Euler $\\exp(ix) = \\cos(x)+i \\sin(x)$.",
      "metadata": {}
    },
    {
      "cell_type": "markdown",
      "source": "Estas dos propiedades que caracterizan a la función exponencial, ser función propia del operador diferencial $\\exp'(x)=\\exp(x)$, y la identidad suma-producto $\\exp(x+y)= \\exp(x)\\exp(y)$, la convierten en una herramienta poderosísima. Sin ir más lejos, nos proporciona la base ortonormal $H_k \\propto \\exp(i2\\pi k x)$ que se emplea en el análisis de Fourier para modelar señales como combinación lineal de senos y cosenos (\"ondas puras\").",
      "metadata": {}
    },
    {
      "cell_type": "markdown",
      "source": "$$\\left< H_j, H_k\\right> \\propto \\int_0^{2\\pi}\\exp(-i2\\pi jx) \\exp(i2\\pi jx) dx = \\int_0^{2\\pi}\\exp\\left[-i2\\pi (k-j) x\\right] dx = \\delta_{i,j} $$",
      "metadata": {}
    },
    {
      "cell_type": "markdown",
      "source": "La transformada de Fourier diagonaliza el operador gradiente, convirtiendo las ecuaciones diferenciales en ecuaciones algebraicas.",
      "metadata": {}
    },
    {
      "cell_type": "markdown",
      "source": "La transformada de Fourier convierte la convolución en el domino espacial en multiplicación punto a punto en el dominio frecuencial.",
      "metadata": {}
    },
    {
      "cell_type": "markdown",
      "source": "Un caso especialmente interesante es el de las ondas viajeras. Una función $g$ que se desplaza sin deformarse a lo largo del eje $x$ con velocidad $v$ puede escribirse como\n\n$$f(x,t) = g(x-vt)$$\n\nSi $g$ es una onda de tipo seno o coseno tenemos algo como lo siguiente:",
      "metadata": {}
    },
    {
      "cell_type": "code",
      "source": "metadisplay('exp1', wave1, dict())",
      "metadata": {
        "tags": [],
        "jupyter": {
          "source_hidden": true
        },
        "trusted": true
      },
      "execution_count": null,
      "outputs": []
    },
    {
      "cell_type": "markdown",
      "source": "Es preferible usar la exponencial compleja $g(x) = \\exp(i 2\\pi k x)$, donde $k$ es la frecuencia espacial, lo que da lugar a\n\n$$f(x,t) = \\exp[i2\\pi k (x-vt)] = \\exp(i2\\pi k x)\\; \\exp(-i2\\pi \\underbrace{kv}_\\nu t ).  $$\n\nLa dependencia temporal queda factorizada y el movimiento en la dirección espacial se produce como consecuencia del giro de la onda en plano (complejo) perpendicular:",
      "metadata": {}
    },
    {
      "cell_type": "code",
      "source": "metadisplay('exp2',muelle, dict(k=5, w=2))",
      "metadata": {
        "tags": [],
        "jupyter": {
          "source_hidden": true
        },
        "trusted": true
      },
      "execution_count": null,
      "outputs": []
    },
    {
      "cell_type": "markdown",
      "source": " La frecuencia temporal $\\nu = k v$ depende de la frecuencia espacial $k$ y de la velocidad $v$, la velocidad de fase.  ",
      "metadata": {}
    },
    {
      "cell_type": "markdown",
      "source": "Este tipo de ondas puras tienen la longitud de onda perfectamente definida y se extienden infinitamente en el espacio.",
      "metadata": {}
    },
    {
      "cell_type": "markdown",
      "source": "Una característica muy importante de estas ondas viajeras exponenciales es que las frecuencias espacial y temporal son esencialmente los autovalores de los operadores diferenciales:\n\n$$\\frac{\\partial}{\\partial x} f(x,t) = i 2\\pi k\\; f(x,t)$$\n\n$$\\frac{\\partial}{\\partial t} f(x,t) = -i 2\\pi \\nu\\; f(x,t)$$",
      "metadata": {}
    },
    {
      "cell_type": "markdown",
      "source": "Una forma de onda arbitraria se puede expresar en la base de Fourier. Cada uno de sus componentes $H_k$ avanzará obedeciendo a este giro perpendicular con su propia frecuencia $\\nu_k$. Estas frecuencias pueden elegirse para que tengan todas la misma velocidad de fase $v$.",
      "metadata": {}
    },
    {
      "cell_type": "code",
      "source": "metadisplay('exp3',packet, dict(ks=(20,21,22), v=5/20))",
      "metadata": {
        "tags": [],
        "jupyter": {
          "source_hidden": true
        },
        "trusted": true
      },
      "execution_count": null,
      "outputs": []
    },
    {
      "cell_type": "markdown",
      "source": "Como cada componente se mueve a la misma velocidad el paquete de ondas se mueve rígidamente. En esta caso la velocidad de fase coincide con la velocidad de grupo. No hay dispersión.",
      "metadata": {}
    },
    {
      "cell_type": "markdown",
      "source": "Si queremos un paquete bien localizado, sin repeticiones, hay que utilizar un número infinito de componentes con longitudes de onda repartidas alrededor de un valor central. Esto puede hacerse con una ponderación gaussiana. Por las propiedades de la transformada de Fourier de una campana de Gauss, si tenemos una onda compuesta por frecuencias $k \\pm \\sigma_k$ su extensión espacial estárá en $x \\pm \\sigma_x$, con $\\sigma_k \\sigma_x = 1$. Si la onda está bien localizada su frecuencia espacial/longitud de onda no lo estará, y viceversa.",
      "metadata": {}
    },
    {
      "cell_type": "markdown",
      "source": "En este gráfico comprobamos que la superposición (rojo) de ondas puras con ponderación gaussiana de $\\sigma_k$ (verde) produce una gaussiana de $\\sigma_x = 1/\\sigma_k$ (azul):",
      "metadata": {}
    },
    {
      "cell_type": "code",
      "source": "%matplotlib inline\n\ndef gaussian(sigma, x):\n    return np.exp(-0.5*(x/sigma)**2)/np.sqrt(2*np.pi)/sigma\n\nx = np.linspace(-15,15,1000)\ndx = x[1]-x[0]\n\nsigma = 2\ng = gaussian(sigma,x)\nplt.plot(x, g, lw=5, alpha=0.5);\n\ndk = 0.1\n\nks = np.arange(-4/sigma,4/sigma+dk,dk)\n\nh = 1/(np.sqrt(2*np.pi)*sigma)*dk*np.sum([np.cos(k*x) * gaussian(1/sigma, k) for k in ks],axis=0)\nplt.plot(x,h,color='black',lw=1);\n\nplt.plot(ks, 1/sigma *  gaussian(1/sigma, ks), color='green');",
      "metadata": {
        "tags": [],
        "jupyter": {
          "source_hidden": true
        },
        "trusted": true
      },
      "execution_count": null,
      "outputs": []
    },
    {
      "cell_type": "markdown",
      "source": "Puede interpretarse como la envolvente gaussiana de una constante.\n\nSi desplazamos la gaussiana de frecuencias a una posición $\\bar k$ conseguimos un paquete de ondas de esta frecuencia media con la misma envolvente:",
      "metadata": {}
    },
    {
      "cell_type": "code",
      "source": "x = np.linspace(-15,15,1000)\ndx = x[1]-x[0]\n\nsigma = 3\ng = gaussian(sigma,x)\nplt.plot(x, g, lw=5, alpha=0.5);\n\ndk = 0.1\n\nkm = 3\n\nks = np.arange(km-4/sigma,km+4/sigma+dk,dk)\n\nh = 1/(np.sqrt(2*np.pi)*sigma)*dk*np.sum([np.exp(-1j*k*0)*np.exp(1j*k*x) * gaussian(1/sigma, k-km) for k in ks],axis=0)\nplt.plot(x,np.abs(h),color='black',lw=1);\nplt.plot(x,np.real(h),color='blue',alpha=0.5);\nplt.plot(x,np.imag(h),color='red',alpha=0.5);\n\nplt.plot(ks, 1/sigma *  gaussian(1/sigma, km-ks), color='green', lw=1);",
      "metadata": {
        "tags": [],
        "jupyter": {
          "source_hidden": true
        },
        "trusted": true
      },
      "execution_count": null,
      "outputs": []
    }
  ]
}