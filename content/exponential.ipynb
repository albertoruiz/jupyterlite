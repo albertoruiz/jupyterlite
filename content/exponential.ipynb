{
 "cells": [
  {
   "cell_type": "markdown",
   "metadata": {
    "editable": true,
    "slideshow": {
     "slide_type": ""
    },
    "tags": []
   },
   "source": [
    "# The exponential function"
   ]
  },
  {
   "cell_type": "markdown",
   "metadata": {},
   "source": [
    "> The development of complex power series thus places the exponential function at the very core of the development of the elementary functions—it reveals a connection between the trigonometric and exponential functions which was never imagined when these functions were first defined, and which could never have been discovered without the use of complex numbers. As a by-product of this relationship, we obtain a hitherto unsuspected connection between the numbers $e$ and $\\pi$: (...)\n",
    "\n",
    "--Spivak"
   ]
  },
  {
   "cell_type": "markdown",
   "metadata": {
    "editable": true,
    "slideshow": {
     "slide_type": ""
    },
    "tags": []
   },
   "source": [
    "#### Helper code"
   ]
  },
  {
   "cell_type": "code",
   "execution_count": null,
   "metadata": {
    "editable": true,
    "slideshow": {
     "slide_type": ""
    },
    "tags": [
     "hide-input"
    ]
   },
   "outputs": [],
   "source": [
    "import sys\n",
    "if 'pyodide' in sys.modules:\n",
    "    %pip install ipywidgets\n",
    "    %pip install ipympl\n",
    "\n",
    "import numpy             as np\n",
    "import matplotlib.pyplot as plt\n",
    "from mpl_toolkits import mplot3d\n",
    "\n",
    "%run \"animate.ipy\"\n",
    "\n",
    "plt.rc('figure', figsize=(4,3))\n",
    "\n",
    "#save_path = \"../data/schrodinger\"\n",
    "#load_path = save_path\n",
    "load_path = \"https://raw.githubusercontent.com/albertoruiz/jupyterlite/main/data/schrodinger\"\n",
    "\n",
    "ANIM = False\n",
    "MKVIDEO = not ANIM and False\n",
    "SAVEVIDEO = False\n",
    "PREVIEW = not ANIM and not MKVIDEO\n",
    "\n",
    "if ANIM:\n",
    "    %matplotlib widget\n",
    "else:\n",
    "    %matplotlib inline"
   ]
  },
  {
   "cell_type": "code",
   "execution_count": null,
   "metadata": {
    "editable": true,
    "slideshow": {
     "slide_type": ""
    },
    "tags": [
     "hide-input"
    ]
   },
   "outputs": [],
   "source": [
    "def wave1(nframes=100, init=0, video=False):\n",
    "    fig = figure(6,2,True)\n",
    "    if video:\n",
    "        plt.close()\n",
    "\n",
    "    ax = fig.add_subplot(111)\n",
    "\n",
    "    ax.set_xlim(( 0, 2*np.pi))\n",
    "    ax.set_ylim((-1.1, 1.1))\n",
    "    ax.grid()\n",
    "    ax.set_title('real wave')\n",
    "    [line] = ax.plot([], [])\n",
    "\n",
    "    x = np.linspace(0,2*np.pi,300)\n",
    "\n",
    "    def fotogram(t):\n",
    "        line.set_data(x,np.sin(2*x-t*2*np.pi/100))\n",
    "        return ()\n",
    "\n",
    "    if init is not None:\n",
    "        fotogram(0)\n",
    "\n",
    "    return metaAnimation(fig,fotogram,nframes,video)"
   ]
  },
  {
   "cell_type": "code",
   "execution_count": null,
   "metadata": {
    "editable": true,
    "slideshow": {
     "slide_type": ""
    },
    "tags": [
     "hide-input"
    ]
   },
   "outputs": [],
   "source": [
    "def muelle(k=5, w=1, dt=0.1, nframes=100, init=0, video=False):\n",
    "    fig = figure(6,4,True)\n",
    "    if video:\n",
    "        plt.close()\n",
    "    ax = fig.add_subplot(111, projection='3d')\n",
    "\n",
    "    ax.set_zlim((-1,1))\n",
    "    ax.set_ylim((-1,1))\n",
    "    ax.set_xlim((0,1*2*np.pi))\n",
    "    ax.set_xticks(np.arange(7),[\"\"]*7)\n",
    "    ax.set_yticks([-1,0,1],[\"\",\"\",\"\"])\n",
    "    ax.set_zticks([-1,0,1],[\"\",\"\",\"\"])\n",
    "    #ax.set_xlabel('time')\n",
    "    #ax.set_ylabel('real')\n",
    "    #ax.set_zlabel('imag')\n",
    "    ax.set_title('complex wave')\n",
    "\n",
    "    ax.set_box_aspect([ub - lb for lb, ub in (getattr(ax, f'get_{a}lim')() for a in 'xyz')],zoom=1)\n",
    "\n",
    "    [line] = ax.plot3D([], [], [])\n",
    "\n",
    "    x = np.linspace(0,1*2*np.pi,100)\n",
    "\n",
    "    z = np.exp(1j*x*k)\n",
    "\n",
    "    def fotogram(t):\n",
    "        zt = z * np.exp(-1j*t*w*dt)\n",
    "        line.set_data(x,np.real(zt))\n",
    "        line.set_3d_properties(np.imag(zt))\n",
    "        return ()\n",
    "\n",
    "    if init is not None:\n",
    "        fotogram(0)\n",
    "\n",
    "    return metaAnimation(fig,fotogram,nframes,video)"
   ]
  },
  {
   "cell_type": "code",
   "execution_count": null,
   "metadata": {
    "editable": true,
    "slideshow": {
     "slide_type": ""
    },
    "tags": [
     "hide-input"
    ]
   },
   "outputs": [],
   "source": [
    "def packet(ks=(4.9,5,5.1), v=1, dt=0.1, nframes=100, init=0, video=False):\n",
    "    fig = figure(6,4,True)\n",
    "    if video:\n",
    "        plt.close()\n",
    "    ax = fig.add_subplot(111, projection='3d')\n",
    "\n",
    "    ax.set_zlim((-1,1))\n",
    "    ax.set_ylim((-1,1))\n",
    "    ax.set_xlim((0,1*2*np.pi))\n",
    "    ax.set_xticks(np.arange(7),[\"\"]*7)\n",
    "    ax.set_yticks([-1,0,1],[\"\",\"\",\"\"])\n",
    "    ax.set_zticks([-1,0,1],[\"\",\"\",\"\"])\n",
    "    #ax.set_xlabel('time')\n",
    "    #ax.set_ylabel('real')\n",
    "    #ax.set_zlabel('imag')\n",
    "    ax.set_title('wave packet')\n",
    "\n",
    "    ax.set_box_aspect([ub - lb for lb, ub in (getattr(ax, f'get_{a}lim')() for a in 'xyz')],zoom=1)\n",
    "\n",
    "    [line] = ax.plot3D([], [], [])\n",
    "\n",
    "    x = np.linspace(0,1*2*np.pi,500)\n",
    "\n",
    "    zs = [np.exp(1j*x*k) for k in ks]\n",
    "\n",
    "    def fotogram(t):\n",
    "        zt = np.mean(([z * np.exp(-1j*t*k*v*dt) for k,z in zip(ks,zs)]),axis=0)\n",
    "        line.set_data(x,np.real(zt))\n",
    "        line.set_3d_properties(np.imag(zt))\n",
    "        return ()\n",
    "\n",
    "    if init is not None:\n",
    "        fotogram(0)\n",
    "\n",
    "    return metaAnimation(fig,fotogram,nframes,video)"
   ]
  },
  {
   "cell_type": "markdown",
   "metadata": {},
   "source": [
    "## Motivación"
   ]
  },
  {
   "cell_type": "markdown",
   "metadata": {},
   "source": [
    "Es una de las funciones matemáticas más importantes. La encontramos de forma natural partiendo prácticamente de cero."
   ]
  },
  {
   "cell_type": "markdown",
   "metadata": {},
   "source": [
    "Partimos de la suma, multiplicación y potencias de los números naturales $\\mathbb N$. Para invertir la suma inventamos los enteros $\\mathbb Z$, para invertir la multiplicación inventamos lo racionales $\\mathbb Q$ y para invertir las potencias inventamos los reales $\\mathbb R$ y los complejos $\\mathbb C$. Combinando las tres operaciones básicas podemos definir polinomios. Aparece de forma natural el concepto de límite y de derivada. La derivadas de las tres operaciones básicas se deducen sin problemas a partir de la definición. "
   ]
  },
  {
   "cell_type": "markdown",
   "metadata": {},
   "source": [
    "Surge la idea de ampliar nuestro catálogo de funciones a series de potencias, una generalización de los polinomios a infinitos términos. Si una función se puede expresar así, sus coeficientes vienen dados por sus infinitas derivadas."
   ]
  },
  {
   "cell_type": "markdown",
   "metadata": {},
   "source": [
    "Una serie de potencias especialmente interesante es la que corresponde a una función cuya derivada es ella misma: $f'(x)=f(x)$. Es una ecuación diferencial muy simple, que podemos resolver fácilmente en forma de serie:"
   ]
  },
  {
   "cell_type": "markdown",
   "metadata": {},
   "source": [
    "Crece más rápido que cualquier polinomio. Lo más interesante es que tiene las propiedades del exponente de una potencia: $ f(x)f(y) = f(x+y)$, lo que se comprueba fácilmente (ver el notebook [series](series.ipynb)) multiplicando las dos series y comprobando que las sucesivas diagonales contienen las correspondientes expansiones binomiales. Tiene sentido llamarla $\\exp$, eligiendo la constante unidad para que $\\exp(0)=1$. La constante $e=\\exp(1)$ es el número de Euler."
   ]
  },
  {
   "cell_type": "markdown",
   "metadata": {},
   "source": [
    "$$\\exp(x) = 1 + x + \\frac{x^2}{2} + \\frac{x^3}{2·3} + \\ldots $$"
   ]
  },
  {
   "cell_type": "markdown",
   "metadata": {},
   "source": [
    "La función exponencial se puede expresar también como el siguiente límite:\n",
    "\n",
    "$$e^x=\\lim _{n\\to \\infty }\\left(1+{\\frac {x}{n}}\\right)^{n}$$\n",
    "\n",
    "Es fácil comprobar que su derivada es la misma función. Y que la expansión binomial produce unos coeficientes que se van aproximando a los de la serie."
   ]
  },
  {
   "cell_type": "markdown",
   "metadata": {},
   "source": [
    "Cuando aplicamos la función exponencial a un número complejo $\\exp(a+ib) = \\exp(a)\\exp(ib)$ la parte imaginaria es muy interesante: su serie de potencias se separa en dos subseries, una real y otra compleja, dependiendo de las sucesivas potencias de la unidad imaginaria $i$."
   ]
  },
  {
   "cell_type": "markdown",
   "metadata": {},
   "source": [
    "Curiosamente, las derivadas de estas series cumplen las mismas relaciones que las funciones trigonométricas $\\sin(x)$ y $\\cos(x)$ (lo que se comprueba fácilmente con argumentos geométricos). Obtenemos la relación de Euler $\\exp(ix) = \\cos(x)+i \\sin(x)$."
   ]
  },
  {
   "cell_type": "markdown",
   "metadata": {},
   "source": [
    "Estas dos propiedades que caracterizan a la función exponencial, ser función propia del operador diferencial $\\exp'(x)=\\exp(x)$, y la identidad suma-producto $\\exp(x+y)= \\exp(x)\\exp(y)$, la convierten en una herramienta poderosísima. Sin ir más lejos, nos proporciona la base ortonormal $H_k \\propto \\exp(i2\\pi k x)$ que se emplea en el análisis de Fourier para modelar señales como combinación lineal de senos y cosenos (\"ondas puras\")."
   ]
  },
  {
   "cell_type": "markdown",
   "metadata": {
    "tags": []
   },
   "source": [
    "## Transformada de Fourier"
   ]
  },
  {
   "cell_type": "markdown",
   "metadata": {
    "tags": []
   },
   "source": [
    "La transformada inversa (síntesis) nos da la expresión de la función en la base de frecuencias:\n",
    "\n",
    "$$  h(x) = \\int \\exp(2 \\pi i k x) \\mathcal F\\{h\\}(k) dk  $$\n",
    "\n",
    "La transformada directa (análisis) nos da las coordenadas de la función en esa base: \n",
    "\n",
    "$$  \\mathcal F\\{h\\}(k)   = \\int \\exp(-2 \\pi i k x) h(x) dx =  \\left<H_k, h\\right>$$"
   ]
  },
  {
   "cell_type": "markdown",
   "metadata": {},
   "source": [
    "$$\\left< H_j, H_k\\right> \\propto \\int_0^1\\exp(-i2\\pi jx) \\exp(i2\\pi jx) dx = \\int_0^1\\exp\\left[-i2\\pi (k-j) x\\right] dx = \\delta_{i,j} $$"
   ]
  },
  {
   "cell_type": "markdown",
   "metadata": {},
   "source": [
    "La transformada de un desplazamiento introduce una fase:\n",
    "\n",
    "$$h(x-a) = (h  \\circ d_a)(x) = \\int \\exp\\left[2 \\pi i k (x-a)\\right] \\mathcal F\\{h\\}(k) dk = \\int \\exp(2 \\pi i k x)  \\underbrace{ \\exp(-2 \\pi i k a) \\mathcal F\\{h\\}}_{\\mathcal F\\{h\\circ  d_a\\}(k) }(k) dk$$"
   ]
  },
  {
   "cell_type": "markdown",
   "metadata": {},
   "source": [
    "La transformada de Fourier convierte la convolución en el domino espacial en multiplicación punto a punto en el dominio frecuencial."
   ]
  },
  {
   "cell_type": "markdown",
   "metadata": {},
   "source": [
    "$$\\mathcal F  \\{f \\circledast h\\}(k) =  \\int \\exp(-2\\pi ikx) \\underbrace {\\int f(a)  h(x-a) da}_{(f \\circledast h)(x)} \\; dx =$$ \n",
    "\n",
    "$$= \\int \\int \\exp(-2\\pi ikx)  f(a)  h(x-a) da \\; dx =$$ \n",
    "\n",
    "$$= \\int  f(a)  \\int \\exp(-2\\pi ikx)  h(x-a) dx \\; da =$$ \n",
    "\n",
    "$$= \\int  f(a)  \\exp(-2\\pi  ika)  \\mathcal  F\\{h\\}(k) \\; da =$$ \n",
    "\n",
    "$$=  \\mathcal  F\\{h\\}(k)  \\int  f(a)  \\exp(-2\\pi  ika)  \\; da =$$ \n",
    "\n",
    "$$=  \\mathcal  F\\{h\\}(k)  \\;  \\mathcal F  \\{f\\}(k)$$ "
   ]
  },
  {
   "cell_type": "markdown",
   "metadata": {},
   "source": [
    "La TF diagonaliza cualquier matriz circulante. Si $H$ es la base de Fourier por columnas, en forma matricial $\\mathcal F\\{h\\} = H^* h$, donde $H^*=H^{-1}$. Usamos la notación $C(v)$ para la matriz circulante de un vector $v$ y $D(v)$ para la matriz diagonal con diagonal $v$. El producto elemento a elemento $\\odot$ es equivalente al producto por matriz diagonal. Entonces:\n",
    "\n",
    "$$f \\circledast  h = C(h) f$$\n",
    "\n",
    "$$ H^*(f \\circledast  h) = (H^* h)  \\odot (H^* f) = D(H^*h)\\, H^* f = H^* C(h) \\, f$$ \n",
    "\n",
    "$$ H\\, D(H^*h)\\, H^* f = C(h) \\, f $$"
   ]
  },
  {
   "cell_type": "markdown",
   "metadata": {},
   "source": [
    "La transformada de Fourier diagonaliza el operador gradiente, convirtiendo las ecuaciones diferenciales en ecuaciones algebraicas. Las columnas de $H$ son $H_k = \\exp(2\\pi i k x)$.\n",
    "\n",
    "$$\\nabla H_k = \\frac{d}{dx} H_k = 2 \\pi i k H_k$$\n",
    "\n",
    "\n",
    "$$ H^* \\nabla h = H* \\nabla H H^* h = H^* H\\, D(2\\pi i k)\\, H^* h $$\n",
    "\n",
    "\n",
    "$$ \\nabla h = H\\, D(2\\pi i k)\\, H^* \\,h$$"
   ]
  },
  {
   "cell_type": "markdown",
   "metadata": {},
   "source": [
    "Tiene sentido porque en la aproximación discreta la matriz del operador gradiente es circulante. Pero además, se puede \"deducir\" a partir solo de la transformada del desplazamiento. Si $\\mathcal F\\{f(x-h)\\} = e^{-2\\pi i k h}\\, \\mathcal F \\{f(x)\\}$\n",
    "\n",
    "$$\\mathcal F \\left\\{ \\frac{f(x+h)-f(x)}{h}\\right\\} = \\frac{e^{2\\pi i k h} - 1}{h}\\, \\mathcal F \\{f(x)\\}= \\frac{ 2\\pi i k h + \\ldots }{h}\\, \\mathcal F \\{f(x)\\}$$"
   ]
  },
  {
   "cell_type": "markdown",
   "metadata": {},
   "source": [
    "La transformada una gaussiana es otra gaussiana de ancho recíproco. Se demuestra fácilmente completando el cuadrado ($x^2+bx=(x+b/2)^2-b^2/4$) y recordando que la integral de la gausiana (desplazada o no) es $\\sqrt{2\\pi}\\sigma$.\n",
    "\n",
    "$$\\int_\\mathbb{R}  \\exp(-ikx)\\; \\exp\\left(\\frac{-x^2}{2\\sigma^2}\\right) \\; dx =$$ \n",
    "\n",
    "$$= \\int \\exp\\left(-ikx + \\frac{-x^2}{2\\sigma^2}\\right) \\; dx =$$ \n",
    "\n",
    "$$=\\int \\exp\\left[\\left(\\frac{-1}{2\\sigma^2}\\right)\\left(x^2 +  2\\sigma^2 i k x\\right)\\right] \\; dx =$$\n",
    "\n",
    "$$=\\int \\exp\\left[\\left(\\frac{-1}{2\\sigma^2}\\right)\\left(\\left(x + \\sigma^2 i k\\right)^2 - \\frac{(2\\sigma^2 i k)^2}{4} \\right)\\right] \\; dx =$$\n",
    "\n",
    "$$=\\exp\\left(\\frac{-4\\sigma^4k^2}{8\\sigma^2}\\right)\\int\\exp\\left(\\frac{-(x+\\sigma^2ik)^2}{2\\sigma^2}\\right)\\;dx=$$\n",
    "\n",
    "$$=\\exp\\left(\\frac{-k^2}{2\\sigma^{-2}}\\right) \\sqrt{2\\pi}\\sigma$$"
   ]
  },
  {
   "cell_type": "markdown",
   "metadata": {},
   "source": [
    "La convolución de dos gaussianas es gaussiana (propiedad de cascading, scale-space, etc.). La demostración es trivial en el dominio de la frecuencia donde la convolución es un producto: $e^{-ak^2}e^{-bk^2} = e^{-(a+b)k^2}$."
   ]
  },
  {
   "cell_type": "code",
   "execution_count": null,
   "metadata": {},
   "outputs": [],
   "source": [
    "from numpy.fft import fft, ifft\n",
    "\n",
    "def gaussian(sigma, x):\n",
    "    return np.exp(-0.5*(x/sigma)**2)/np.sqrt(2*np.pi)/sigma\n",
    "\n",
    "def mkDeriv(x):\n",
    "    n = len(x)\n",
    "    dx = x[1]-x[0]\n",
    "    oper = np.diag(np.ones(n-1),1) - np.diag(np.ones(n-1),-1)\n",
    "    oper[0,-1] = -1\n",
    "    oper[-1,0] = 1\n",
    "    return oper/(2*dx)\n",
    "\n",
    "def mkDerivF(x):\n",
    "    n = len(x)\n",
    "    w = np.roll(np.arange(-n//2,n//2,1),n//2) * 1j * 2*np.pi / (x2-x1)\n",
    "    w [n//2] *= 2\n",
    "    return w\n",
    "\n",
    "def mask(n,w):\n",
    "    x = np.arange(n)\n",
    "    m = 1 - np.exp(-0.5*((x-n//2)/w)**2)\n",
    "    return m\n",
    "\n",
    "def mkIntegF(x):\n",
    "    d = mkDerivF(x)\n",
    "    d[1:] = 1/d[1:]\n",
    "    d[0] = 0\n",
    "    return d"
   ]
  },
  {
   "cell_type": "markdown",
   "metadata": {},
   "source": [
    "Comparamos la derivada calculada en el dominio espacial (una aproximación por diferencias finitas) con la derivada en el dominio de la frecuencia, de una función muy suave:"
   ]
  },
  {
   "cell_type": "code",
   "execution_count": null,
   "metadata": {},
   "outputs": [],
   "source": [
    "n = 200\n",
    "x1 = -2\n",
    "x2 = 2\n",
    "x = np.linspace(x1,x2,n)\n",
    "dx = x[1]-x[0]\n",
    "Der = mkDeriv(x)\n",
    "DerF = mkDerivF(x)\n",
    "IntF = mkIntegF(x)\n",
    "\n",
    "fun = gaussian(1/2,x)\n",
    "der1 = Der@fun\n",
    "der2 = ifft(DerF * fft(fun))\n",
    "\n",
    "def compareDeriv(fun,ders,derf):\n",
    "    plt.figure(figsize=(6,3))\n",
    "    plt.plot(x,fun,label='some function');\n",
    "    plt.plot(x,der1,lw=5,color='red',alpha=0.5,label='derivative (spatial)');\n",
    "    plt.plot(x,np.real(der2),lw=1, color=\"black\",label='derivative (frequential)');\n",
    "    plt.legend(loc=(1.05,0));\n",
    "\n",
    "compareDeriv(fun,der1,der2)"
   ]
  },
  {
   "cell_type": "markdown",
   "metadata": {},
   "source": [
    "Si hay discontinuidades el resultado es malo:"
   ]
  },
  {
   "cell_type": "code",
   "execution_count": null,
   "metadata": {},
   "outputs": [],
   "source": [
    "fun = (x-(-1))*(x>=-1)*(x<0)\n",
    "\n",
    "der1 = Der@fun\n",
    "der2 = ifft(DerF*mask(n,40)*fft(fun))\n",
    "\n",
    "compareDeriv(fun,der1,der2)\n",
    "plt.ylim(-1.5,1.5);"
   ]
  },
  {
   "cell_type": "markdown",
   "metadata": {},
   "source": [
    "Pero mientras la función sea bastante suave y periódica todo va bastante bien:"
   ]
  },
  {
   "cell_type": "code",
   "execution_count": null,
   "metadata": {},
   "outputs": [],
   "source": [
    "n = 200\n",
    "x1 = -1\n",
    "x2 = 4\n",
    "x = np.linspace(x1,x2,n)\n",
    "Der = mkDeriv(x)\n",
    "DerF = mkDerivF(x)\n",
    "\n",
    "g = np.sin(x)**2*(x>0)*(x<np.pi)\n",
    "\n",
    "der1 = Der@g\n",
    "der2 = ifft(DerF*fft(g))\n",
    "\n",
    "compareDeriv(g,der1,der2)"
   ]
  },
  {
   "cell_type": "code",
   "execution_count": null,
   "metadata": {},
   "outputs": [],
   "source": [
    "g = np.sin(x)**1*(x>0)*(x<np.pi)\n",
    "\n",
    "der1 = Der@g\n",
    "der2 = ifft(DerF*fft(g))\n",
    "\n",
    "compareDeriv(g, der1, der2)"
   ]
  },
  {
   "cell_type": "markdown",
   "metadata": {},
   "source": [
    "Para resolver\n",
    "\n",
    "$$f(x) + 3\\frac{df(x)}{dx} = g(x)$$"
   ]
  },
  {
   "cell_type": "markdown",
   "metadata": {},
   "source": [
    "simplemente hacemos una división elemento a elemento en el dominio de la frecuencia:"
   ]
  },
  {
   "cell_type": "code",
   "execution_count": null,
   "metadata": {},
   "outputs": [],
   "source": [
    "f = ifft( fft(g) / (1+3*DerF) )\n",
    "\n",
    "plt.figure(figsize=(6,3))\n",
    "plt.plot(x,g,lw=5,alpha=0.5, label='g(x)')\n",
    "plt.plot(x,np.real(f),label='f(x)')\n",
    "plt.plot(x,np.real(Der@f),label=\"f'(x)\")\n",
    "plt.plot(x,np.real(f+3*Der@f),color='black',lw=1, label=\"f+3f'(x)\" )\n",
    "plt.grid()\n",
    "plt.legend();"
   ]
  },
  {
   "cell_type": "markdown",
   "metadata": {},
   "source": [
    "## Paquete de ondas"
   ]
  },
  {
   "cell_type": "markdown",
   "metadata": {},
   "source": [
    "Un caso especialmente interesante es el de las ondas viajeras. Una función $g$ que se desplaza sin deformarse a lo largo del eje $x$ con velocidad $v$ puede escribirse como\n",
    "\n",
    "$$f(x,t) = g(x-vt)$$\n",
    "\n",
    "Si $g$ es una onda de tipo seno tenemos algo como lo siguiente:"
   ]
  },
  {
   "cell_type": "code",
   "execution_count": null,
   "metadata": {
    "tags": []
   },
   "outputs": [],
   "source": [
    "metadisplay('exp1', wave1, dict())"
   ]
  },
  {
   "cell_type": "markdown",
   "metadata": {},
   "source": [
    "Es preferible usar la exponencial compleja $g(x) = \\exp(i 2\\pi k x)$, donde $k$ es la frecuencia espacial, lo que da lugar a\n",
    "\n",
    "$$f(x,t) = \\exp[i2\\pi k (x-vt)] = \\exp(i2\\pi k x)\\; \\exp(-i2\\pi \\underbrace{kv}_\\nu t ).  $$\n",
    "\n",
    "La dependencia temporal queda factorizada y el movimiento en la dirección espacial se produce como consecuencia del giro de la onda en plano (complejo) perpendicular:"
   ]
  },
  {
   "cell_type": "code",
   "execution_count": null,
   "metadata": {
    "tags": []
   },
   "outputs": [],
   "source": [
    "metadisplay('exp2',muelle, dict(k=5, w=2))"
   ]
  },
  {
   "cell_type": "markdown",
   "metadata": {},
   "source": [
    " La frecuencia temporal $\\nu = k v$ depende de la frecuencia espacial $k$ y de la velocidad $v$, la velocidad de fase.  "
   ]
  },
  {
   "cell_type": "markdown",
   "metadata": {},
   "source": [
    "Este tipo de ondas puras tienen la longitud de onda perfectamente definida y se extienden infinitamente en el espacio."
   ]
  },
  {
   "cell_type": "markdown",
   "metadata": {},
   "source": [
    "Una característica muy importante de estas ondas viajeras exponenciales es que las frecuencias espacial y temporal son esencialmente los autovalores de los operadores diferenciales:\n",
    "\n",
    "$$\\frac{\\partial}{\\partial x} f(x,t) = i 2\\pi k\\; f(x,t)$$\n",
    "\n",
    "$$\\frac{\\partial}{\\partial t} f(x,t) = -i 2\\pi \\nu\\; f(x,t)$$"
   ]
  },
  {
   "cell_type": "markdown",
   "metadata": {},
   "source": [
    "Una forma de onda arbitraria se puede expresar en la base de Fourier. Cada uno de sus componentes $H_k$ avanzará obedeciendo a este giro perpendicular con su propia frecuencia $\\nu_k$. Estas frecuencias pueden elegirse para que tengan todas la misma velocidad de fase $v$."
   ]
  },
  {
   "cell_type": "code",
   "execution_count": null,
   "metadata": {
    "tags": []
   },
   "outputs": [],
   "source": [
    "metadisplay('exp3',packet, dict(ks=(20,21,22), v=5/20))"
   ]
  },
  {
   "cell_type": "markdown",
   "metadata": {},
   "source": [
    "Como cada componente se mueve a la misma velocidad el paquete de ondas se mueve rígidamente. En esta caso la velocidad de fase coincide con la velocidad de grupo. No hay dispersión."
   ]
  },
  {
   "cell_type": "markdown",
   "metadata": {},
   "source": [
    "Si queremos un paquete bien localizado, sin repeticiones, hay que utilizar un número infinito de componentes con longitudes de onda repartidas alrededor de un valor central. Esto puede hacerse con una ponderación gaussiana. Por las propiedades de la transformada de Fourier de una campana de Gauss, si tenemos una onda compuesta por frecuencias $k \\pm \\sigma_k$ su extensión espacial estárá en $x \\pm \\sigma_x$, con $\\sigma_k \\sigma_x = 1$. Si la onda está bien localizada su frecuencia espacial/longitud de onda no lo estará, y viceversa."
   ]
  },
  {
   "cell_type": "markdown",
   "metadata": {},
   "source": [
    "En este gráfico comprobamos que la superposición (rojo) de ondas puras con ponderación gaussiana de $\\sigma_k$ (verde) produce una gaussiana de $\\sigma_x = 1/\\sigma_k$ (azul):"
   ]
  },
  {
   "cell_type": "code",
   "execution_count": null,
   "metadata": {
    "tags": []
   },
   "outputs": [],
   "source": [
    "x = np.linspace(-15,15,1000)\n",
    "dx = x[1]-x[0]\n",
    "\n",
    "sigma = 2\n",
    "g = gaussian(sigma,x)\n",
    "\n",
    "figure()\n",
    "plt.plot(x, g, lw=5, alpha=0.5);\n",
    "\n",
    "dk = 0.1\n",
    "\n",
    "ks = np.arange(-4/sigma,4/sigma+dk,dk)\n",
    "\n",
    "h = 1/(np.sqrt(2*np.pi)*sigma)*dk*np.sum([np.cos(k*x) * gaussian(1/sigma, k) for k in ks],axis=0)\n",
    "plt.plot(x,h,color='black',lw=1);\n",
    "\n",
    "plt.plot(ks, 1/sigma *  gaussian(1/sigma, ks), color='green');"
   ]
  },
  {
   "cell_type": "markdown",
   "metadata": {},
   "source": [
    "Puede interpretarse como la envolvente gaussiana de una constante.\n",
    "\n",
    "Si desplazamos la gaussiana de frecuencias a una posición $\\bar k$ conseguimos un paquete de ondas de esta frecuencia media con la misma envolvente:"
   ]
  },
  {
   "cell_type": "code",
   "execution_count": null,
   "metadata": {
    "tags": []
   },
   "outputs": [],
   "source": [
    "x = np.linspace(-15,15,1000)\n",
    "dx = x[1]-x[0]\n",
    "\n",
    "sigma = 3\n",
    "g = gaussian(sigma,x)\n",
    "\n",
    "figure()\n",
    "plt.plot(x, g, lw=5, alpha=0.5);\n",
    "\n",
    "dk = 0.1\n",
    "\n",
    "km = 3\n",
    "\n",
    "ks = np.arange(km-4/sigma,km+4/sigma+dk,dk)\n",
    "\n",
    "h = 1/(np.sqrt(2*np.pi)*sigma)*dk*np.sum([np.exp(-1j*k*0)*np.exp(1j*k*x) * gaussian(1/sigma, k-km) for k in ks],axis=0)\n",
    "plt.plot(x,np.abs(h),color='black',lw=1);\n",
    "plt.plot(x,np.real(h),color='blue',alpha=0.5,lw=1);\n",
    "plt.plot(x,np.imag(h),color='red',alpha=0.5,lw=1);\n",
    "\n",
    "plt.plot(ks, 1/sigma *  gaussian(1/sigma, km-ks), color='green', lw=1);"
   ]
  },
  {
   "cell_type": "markdown",
   "metadata": {},
   "source": [
    "## Exponential map"
   ]
  },
  {
   "cell_type": "markdown",
   "metadata": {},
   "source": [
    "La exponencial puede interpretarse como el resultado de aplicar infinitas veces un operador infinitesimal:\n",
    "\n",
    "$$e^X=\\lim _{n\\to \\infty }\\left(1+{\\frac {X}{n}}\\right)^{n}$$"
   ]
  },
  {
   "cell_type": "markdown",
   "metadata": {},
   "source": [
    "La serie de potencias de la función exponencial tiene sentido también para operadores más generales como las transformaciones lineales. Pero en este caso, la propiedad suma-producto $e^{X+Y} = e^X e^Y$ solo se cumple cuando $X$ e $Y$ conmutan. Si no es así, necesitamos la fórmula de [Baker-Campbell-Hausdorff](https://en.wikipedia.org/wiki/Baker%E2%80%93Campbell%E2%80%93Hausdorff_formula)."
   ]
  },
  {
   "cell_type": "markdown",
   "metadata": {
    "editable": true,
    "slideshow": {
     "slide_type": ""
    },
    "tags": []
   },
   "source": [
    "En el notebook [Lie](Lie.ipynb) hay algunos ejemplos de esto."
   ]
  }
 ],
 "metadata": {
  "kernelspec": {
   "display_name": "Python 3 (ipykernel)",
   "language": "python",
   "name": "python3"
  },
  "language_info": {
   "codemirror_mode": {
    "name": "ipython",
    "version": 3
   },
   "file_extension": ".py",
   "mimetype": "text/x-python",
   "name": "python",
   "nbconvert_exporter": "python",
   "pygments_lexer": "ipython3",
   "version": "3.11.9"
  }
 },
 "nbformat": 4,
 "nbformat_minor": 4
}
