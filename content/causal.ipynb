{
  "metadata": {
    "language_info": {
      "codemirror_mode": {
        "name": "python",
        "version": 3
      },
      "file_extension": ".py",
      "mimetype": "text/x-python",
      "name": "python",
      "nbconvert_exporter": "python",
      "pygments_lexer": "ipython3",
      "version": "3.8"
    },
    "kernelspec": {
      "name": "python",
      "display_name": "Python (Pyodide)",
      "language": "python"
    }
  },
  "nbformat_minor": 4,
  "nbformat": 4,
  "cells": [
    {
      "cell_type": "markdown",
      "source": "# Causal Inference",
      "metadata": {}
    },
    {
      "cell_type": "markdown",
      "source": "Pearl, Glymour, and Jewell (2016). Causal Inferece in Statistics, A Primer",
      "metadata": {}
    },
    {
      "cell_type": "code",
      "source": "import numpy as np\nimport matplotlib\n\nimport umucv.prob as pr\n\ndef S(k):\n    return lambda x: x[k]\n\ndef equal(k,v):\n    return lambda x: x[k] == v",
      "metadata": {
        "tags": [],
        "jupyter": {
          "source_hidden": true
        },
        "trusted": true
      },
      "execution_count": 1,
      "outputs": []
    },
    {
      "cell_type": "markdown",
      "source": "## Simpson Paradox",
      "metadata": {}
    },
    {
      "cell_type": "code",
      "source": "exper = pr.P({\n    ('Men','Drug','Recover'):81,\n    ('Men','Drug','Fail'):    87-81,\n    ('Men','NoDrug','Recover'): 234,\n    ('Men','NoDrug','Fail'): 270-234,\n    ('Women','Drug','Recover'):192,\n    ('Women','Drug','Fail'):    263-192,\n    ('Women','NoDrug','Recover'): 55,\n    ('Women','NoDrug','Fail'): 80-55})",
      "metadata": {
        "trusted": true
      },
      "execution_count": 2,
      "outputs": []
    },
    {
      "cell_type": "code",
      "source": "exper",
      "metadata": {
        "trusted": true
      },
      "execution_count": 3,
      "outputs": [
        {
          "execution_count": 3,
          "output_type": "execute_result",
          "data": {
            "text/plain": " 11.6%  ('Men', 'Drug', 'Recover')\n  0.9%  ('Men', 'Drug', 'Fail')\n 33.4%  ('Men', 'NoDrug', 'Recover')\n  5.1%  ('Men', 'NoDrug', 'Fail')\n 27.4%  ('Women', 'Drug', 'Recover')\n 10.1%  ('Women', 'Drug', 'Fail')\n  7.9%  ('Women', 'NoDrug', 'Recover')\n  3.6%  ('Women', 'NoDrug', 'Fail')"
          },
          "metadata": {}
        }
      ]
    },
    {
      "cell_type": "code",
      "source": "exper >> S(0)",
      "metadata": {
        "trusted": true
      },
      "execution_count": 4,
      "outputs": [
        {
          "execution_count": 4,
          "output_type": "execute_result",
          "data": {
            "text/plain": " 51.0%  Men\n 49.0%  Women"
          },
          "metadata": {}
        }
      ]
    },
    {
      "cell_type": "code",
      "source": "exper >> S(1)",
      "metadata": {
        "trusted": true
      },
      "execution_count": 5,
      "outputs": [
        {
          "execution_count": 5,
          "output_type": "execute_result",
          "data": {
            "text/plain": " 50.0%  Drug\n 50.0%  NoDrug"
          },
          "metadata": {}
        }
      ]
    },
    {
      "cell_type": "code",
      "source": "exper >> S(2)",
      "metadata": {
        "trusted": true
      },
      "execution_count": 6,
      "outputs": [
        {
          "execution_count": 6,
          "output_type": "execute_result",
          "data": {
            "text/plain": " 80.3%  Recover\n 19.7%  Fail"
          },
          "metadata": {}
        }
      ]
    },
    {
      "cell_type": "markdown",
      "source": "The drug is good for men:",
      "metadata": {}
    },
    {
      "cell_type": "code",
      "source": "exper | equal(1,'Drug') | equal(0,'Men')",
      "metadata": {
        "trusted": true
      },
      "execution_count": 7,
      "outputs": [
        {
          "execution_count": 7,
          "output_type": "execute_result",
          "data": {
            "text/plain": " 93.1%  ('Men', 'Drug', 'Recover')\n  6.9%  ('Men', 'Drug', 'Fail')"
          },
          "metadata": {}
        }
      ]
    },
    {
      "cell_type": "code",
      "source": "exper | equal(1,'NoDrug') | equal(0,'Men')",
      "metadata": {
        "trusted": true
      },
      "execution_count": 8,
      "outputs": [
        {
          "execution_count": 8,
          "output_type": "execute_result",
          "data": {
            "text/plain": " 86.7%  ('Men', 'NoDrug', 'Recover')\n 13.3%  ('Men', 'NoDrug', 'Fail')"
          },
          "metadata": {}
        }
      ]
    },
    {
      "cell_type": "markdown",
      "source": "And the drug is good for women:",
      "metadata": {}
    },
    {
      "cell_type": "code",
      "source": "exper | equal(1,'Drug') | equal(0,'Women')",
      "metadata": {
        "trusted": true
      },
      "execution_count": 9,
      "outputs": [
        {
          "execution_count": 9,
          "output_type": "execute_result",
          "data": {
            "text/plain": " 73.0%  ('Women', 'Drug', 'Recover')\n 27.0%  ('Women', 'Drug', 'Fail')"
          },
          "metadata": {}
        }
      ]
    },
    {
      "cell_type": "code",
      "source": "exper | equal(1,'NoDrug') | equal(0,'Women')",
      "metadata": {
        "trusted": true
      },
      "execution_count": 10,
      "outputs": [
        {
          "execution_count": 10,
          "output_type": "execute_result",
          "data": {
            "text/plain": " 68.8%  ('Women', 'NoDrug', 'Recover')\n 31.2%  ('Women', 'NoDrug', 'Fail')"
          },
          "metadata": {}
        }
      ]
    },
    {
      "cell_type": "markdown",
      "source": "But the drug is worse for people of unknown gender:",
      "metadata": {}
    },
    {
      "cell_type": "code",
      "source": "exper | equal(1,'Drug')",
      "metadata": {
        "trusted": true
      },
      "execution_count": 11,
      "outputs": [
        {
          "execution_count": 11,
          "output_type": "execute_result",
          "data": {
            "text/plain": " 23.1%  ('Men', 'Drug', 'Recover')\n  1.7%  ('Men', 'Drug', 'Fail')\n 54.9%  ('Women', 'Drug', 'Recover')\n 20.3%  ('Women', 'Drug', 'Fail')"
          },
          "metadata": {}
        }
      ]
    },
    {
      "cell_type": "code",
      "source": "(exper | equal(1,'Drug')) >> S(2)",
      "metadata": {
        "trusted": true
      },
      "execution_count": 12,
      "outputs": [
        {
          "execution_count": 12,
          "output_type": "execute_result",
          "data": {
            "text/plain": " 78.0%  Recover\n 22.0%  Fail"
          },
          "metadata": {}
        }
      ]
    },
    {
      "cell_type": "code",
      "source": "(exper | equal(1,'NoDrug')) >> S(2)",
      "metadata": {
        "trusted": true
      },
      "execution_count": 13,
      "outputs": [
        {
          "execution_count": 13,
          "output_type": "execute_result",
          "data": {
            "text/plain": " 82.6%  Recover\n 17.4%  Fail"
          },
          "metadata": {}
        }
      ]
    },
    {
      "cell_type": "markdown",
      "source": "## Adjustment formula",
      "metadata": {}
    },
    {
      "cell_type": "markdown",
      "source": "Section 3.2",
      "metadata": {}
    },
    {
      "cell_type": "markdown",
      "source": "The causal model says that we must control for gender:",
      "metadata": {}
    },
    {
      "cell_type": "code",
      "source": "# P(recover | drug and man)\np11 = (exper | equal(1,'Drug') | equal(0,'Men') ).prob(equal(2,'Recover'))\np11",
      "metadata": {
        "trusted": true
      },
      "execution_count": 14,
      "outputs": [
        {
          "execution_count": 14,
          "output_type": "execute_result",
          "data": {
            "text/plain": "0.9310344827586207"
          },
          "metadata": {}
        }
      ]
    },
    {
      "cell_type": "code",
      "source": "# P(recover | drug and woman)\np21 = (exper | equal(1,'Drug') | equal(0,'Women') ).prob(equal(2,'Recover'))\np21",
      "metadata": {
        "trusted": true
      },
      "execution_count": 15,
      "outputs": [
        {
          "execution_count": 15,
          "output_type": "execute_result",
          "data": {
            "text/plain": "0.7300380228136882"
          },
          "metadata": {}
        }
      ]
    },
    {
      "cell_type": "code",
      "source": "# P(recover | nodrug and man)\np12 = (exper | equal(1,'NoDrug') | equal(0,'Men') ).prob(equal(2,'Recover'))\np12",
      "metadata": {
        "trusted": true
      },
      "execution_count": 16,
      "outputs": [
        {
          "execution_count": 16,
          "output_type": "execute_result",
          "data": {
            "text/plain": "0.8666666666666667"
          },
          "metadata": {}
        }
      ]
    },
    {
      "cell_type": "code",
      "source": "# P(recover | nodrug and woman)\np22 = (exper | equal(1,'NoDrug') | equal(0,'Women') ).prob(equal(2,'Recover'))\np22",
      "metadata": {
        "trusted": true
      },
      "execution_count": 17,
      "outputs": [
        {
          "execution_count": 17,
          "output_type": "execute_result",
          "data": {
            "text/plain": "0.6875"
          },
          "metadata": {}
        }
      ]
    },
    {
      "cell_type": "code",
      "source": "# P(man)\np1 = exper.prob(equal(0,'Men'))\np1",
      "metadata": {
        "trusted": true
      },
      "execution_count": 18,
      "outputs": [
        {
          "execution_count": 18,
          "output_type": "execute_result",
          "data": {
            "text/plain": "0.51"
          },
          "metadata": {}
        }
      ]
    },
    {
      "cell_type": "code",
      "source": "# P(woman)\np2 = exper.prob(equal(0,'Women'))\np2",
      "metadata": {
        "trusted": true
      },
      "execution_count": 19,
      "outputs": [
        {
          "execution_count": 19,
          "output_type": "execute_result",
          "data": {
            "text/plain": "0.49"
          },
          "metadata": {}
        }
      ]
    },
    {
      "cell_type": "code",
      "source": "# P(recover | do(Drug))\nd1 = p11*p1 + p21*p2\nd1",
      "metadata": {
        "trusted": true
      },
      "execution_count": 20,
      "outputs": [
        {
          "execution_count": 20,
          "output_type": "execute_result",
          "data": {
            "text/plain": "0.8325462173856037"
          },
          "metadata": {}
        }
      ]
    },
    {
      "cell_type": "code",
      "source": "# P(recover | do(NoDrug))\nd2 = p12*p1 + p22*p2\nd2",
      "metadata": {
        "trusted": true
      },
      "execution_count": 21,
      "outputs": [
        {
          "execution_count": 21,
          "output_type": "execute_result",
          "data": {
            "text/plain": "0.778875"
          },
          "metadata": {}
        }
      ]
    },
    {
      "cell_type": "code",
      "source": "print(f\"ACE = {100*(d1-d2):.0f}%\")",
      "metadata": {
        "trusted": true
      },
      "execution_count": 22,
      "outputs": [
        {
          "name": "stdout",
          "text": "ACE = 5%\n",
          "output_type": "stream"
        }
      ]
    },
    {
      "cell_type": "markdown",
      "source": "> \"A more informal interpretation of ACE here is that it is simply the difference in the fraction of the population that would recover if everyone took the drug compared to when no one takes the drug.\"",
      "metadata": {}
    }
  ]
}