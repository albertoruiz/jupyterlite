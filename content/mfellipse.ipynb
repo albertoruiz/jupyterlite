{
  "metadata": {
    "hide_input": false,
    "varInspector": {
      "cols": {
        "lenName": 16,
        "lenType": 16,
        "lenVar": 40
      },
      "kernels_config": {
        "python": {
          "delete_cmd_postfix": "",
          "delete_cmd_prefix": "del ",
          "library": "var_list.py",
          "varRefreshCmd": "print(var_dic_list())"
        },
        "r": {
          "delete_cmd_postfix": ") ",
          "delete_cmd_prefix": "rm(",
          "library": "var_list.r",
          "varRefreshCmd": "cat(var_dic_list()) "
        }
      },
      "types_to_exclude": [
        "module",
        "function",
        "builtin_function_or_method",
        "instance",
        "_Feature"
      ],
      "window_display": false
    },
    "kernelspec": {
      "name": "python",
      "display_name": "Python (Pyodide)",
      "language": "python"
    },
    "language_info": {
      "codemirror_mode": {
        "name": "python",
        "version": 3
      },
      "file_extension": ".py",
      "mimetype": "text/x-python",
      "name": "python",
      "nbconvert_exporter": "python",
      "pygments_lexer": "ipython3",
      "version": "3.8"
    }
  },
  "nbformat_minor": 4,
  "nbformat": 4,
  "cells": [
    {
      "cell_type": "markdown",
      "source": "# Multifocal Ellipse\n\nhttps://en.wikipedia.org/wiki/N-ellipse",
      "metadata": {}
    },
    {
      "cell_type": "code",
      "source": "import numpy             as np\nimport matplotlib.pyplot as plt\n\n%matplotlib inline\n\ndef dist(x0,y0):\n    return np.sqrt((x-x0)**2 + (y-y0)**2)\n\nr = np.linspace(-3,3,200)\nx,y = np.meshgrid(r,r)\n\ndef hyper(pos,neg,t,levels=[0],colors=['black']):\n    z = abs(sum([dist(x,y) for (x,y) in pos]) - sum([dist(x,y) for (x,y) in neg])) - t\n\n    plt.figure(figsize=(5,5))\n    plt.contour(x,y,z, colors=colors, levels=levels);\n    if pos: plt.plot(*np.array(pos).T,'.')\n    if neg: plt.plot(*np.array(neg).T,'.')\n    plt.axis('equal');",
      "metadata": {
        "trusted": true
      },
      "execution_count": null,
      "outputs": []
    },
    {
      "cell_type": "code",
      "source": "hyper( [(0,0)], [],  2 )",
      "metadata": {
        "trusted": true
      },
      "execution_count": null,
      "outputs": []
    },
    {
      "cell_type": "code",
      "source": "hyper( [(1,0),(-1,0)], [], 3 )",
      "metadata": {
        "trusted": true
      },
      "execution_count": null,
      "outputs": []
    },
    {
      "cell_type": "code",
      "source": "hyper( [(1,0)], [(-1,0)], 1 )",
      "metadata": {
        "trusted": true
      },
      "execution_count": null,
      "outputs": []
    },
    {
      "cell_type": "code",
      "source": "hyper( [(1,0),(-1,0),(0,1)], [], 4 )",
      "metadata": {
        "trusted": true
      },
      "execution_count": null,
      "outputs": []
    },
    {
      "cell_type": "code",
      "source": "hyper( [(2,0),(-2,0)], [(0,1)], 2.5 )",
      "metadata": {
        "trusted": true
      },
      "execution_count": null,
      "outputs": []
    },
    {
      "cell_type": "code",
      "source": "hyper( [(2,0),(-2,0)],[(0,0.9)], 2.5, levels=np.arange(0,0.3,0.05), colors=['gray'] )",
      "metadata": {
        "trusted": true
      },
      "execution_count": null,
      "outputs": []
    },
    {
      "cell_type": "code",
      "source": "hyper( [(1,0),(0,-1)], [(-1,0),(0,1)], 1.3)",
      "metadata": {
        "trusted": true
      },
      "execution_count": null,
      "outputs": []
    }
  ]
}