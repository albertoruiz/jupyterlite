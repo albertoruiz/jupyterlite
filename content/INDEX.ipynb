{
  "metadata": {
    "language_info": {
      "codemirror_mode": {
        "name": "python",
        "version": 3
      },
      "file_extension": ".py",
      "mimetype": "text/x-python",
      "name": "python",
      "nbconvert_exporter": "python",
      "pygments_lexer": "ipython3",
      "version": "3.8"
    },
    "kernelspec": {
      "name": "python",
      "display_name": "Python (Pyodide)",
      "language": "python"
    }
  },
  "nbformat_minor": 4,
  "nbformat": 4,
  "cells": [
    {
      "cell_type": "markdown",
      "source": "# Computational Experiments",
      "metadata": {}
    },
    {
      "cell_type": "markdown",
      "source": "A collection of learning exercises and notes to [myself](http://dis.um.es/profesores/alberto) running directly in the browser.",
      "metadata": {
        "jp-MarkdownHeadingCollapsed": true
      }
    },
    {
      "cell_type": "markdown",
      "source": "Do **not** trust this material. It is provisional, incomplete, and contains many errors.",
      "metadata": {}
    },
    {
      "cell_type": "markdown",
      "source": "Package versions in this instance of jupyterlite:",
      "metadata": {}
    },
    {
      "cell_type": "code",
      "source": "from platform import python_version\nprint(f'python      {python_version()}')\nimport numpy\nprint(f'numpy       {numpy.__version__}')\nimport matplotlib\nprint(f'matplotlib  {matplotlib.__version__}')\nimport sympy\nprint(f'sympy       {sympy.__version__}')\nimport cv2\nprint(f'OpenCV      {cv2.__version__}')",
      "metadata": {
        "tags": [],
        "jupyter": {
          "source_hidden": true
        },
        "trusted": true
      },
      "execution_count": 6,
      "outputs": [
        {
          "name": "stdout",
          "text": "python      3.10.2\nnumpy       1.22.4\nmatplotlib  3.5.2\nsympy       1.10.1\nOpenCV      4.6.0\n",
          "output_type": "stream"
        }
      ]
    },
    {
      "cell_type": "markdown",
      "source": "## Symbolic Computation",
      "metadata": {}
    },
    {
      "cell_type": "markdown",
      "source": "- [Many sympy examples](sympy.ipynb) and case studies\n- [Series for $\\pi$](machinlike.ipynb) (Machin-like expressions and generalized binomial expansion)\n- [Brachistochrone](braquistocrona.ipynb)",
      "metadata": {}
    },
    {
      "cell_type": "markdown",
      "source": "## Tensor calculus",
      "metadata": {}
    },
    {
      "cell_type": "markdown",
      "source": "- [Tensor equations](tensolve.ipynb)\n- [Riemann](Riemann.ipynb)\n- [Shor's algorithm](shor.ipynb)",
      "metadata": {}
    },
    {
      "cell_type": "markdown",
      "source": "## Probability",
      "metadata": {}
    },
    {
      "cell_type": "markdown",
      "source": "- [Introduction](Bayes0.ipynb)\n- [Probabilistic DSL](probok.ipynb)\n- [Grid models](grid.ipynb)\n- [Kalman filter](Kalman.ipynb)\n- [3D parabolic motion from single camera (UKF)](ukf-parabolic.ipynb)\n- [Markov-Chain Monte-Carlo (MCMC)](MCMC.ipynb)\n- [Boltzmann, Bose, and Fermi distributions](Boltzmann-Bose-Fermi.ipynb)\n- [Logistic Regression](logistic.ipynb)\n- [Kelly criterion](kelly.ipynb)\n- [K-armed-bandit](karmed.ipynb)\n- [Causal inference](causal.ipynb)",
      "metadata": {}
    },
    {
      "cell_type": "markdown",
      "source": "## Orbits",
      "metadata": {}
    },
    {
      "cell_type": "markdown",
      "source": "- [Gauss determines the orbit of Ceres](orbits/ceres.ipynb)\n- [Bayesian discovery of Neptune (UKF)](neptune.ipynb)",
      "metadata": {}
    },
    {
      "cell_type": "markdown",
      "source": "## Number Theory",
      "metadata": {}
    },
    {
      "cell_type": "markdown",
      "source": "- [Factorization methods](numbers.ipynb)",
      "metadata": {}
    },
    {
      "cell_type": "markdown",
      "source": "## Games",
      "metadata": {}
    },
    {
      "cell_type": "markdown",
      "source": "- [Monte Carlo Tree Search](MCTS/testnbgame.ipynb)",
      "metadata": {}
    },
    {
      "cell_type": "markdown",
      "source": "## Misc",
      "metadata": {}
    },
    {
      "cell_type": "markdown",
      "source": "- [OpenCV](opencv.ipynb) in the browser\n- [Multifocal Ellipse](mfellipse.ipynb)\n- [Dynamic programming](dpcsw.ipynb) (change problem and sequence alignment)\n- [Misc graphics](plots.ipynb) (Newton's method and spiral of primes)",
      "metadata": {}
    }
  ]
}