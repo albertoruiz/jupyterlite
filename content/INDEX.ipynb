{
  "metadata": {
    "language_info": {
      "codemirror_mode": {
        "name": "python",
        "version": 3
      },
      "file_extension": ".py",
      "mimetype": "text/x-python",
      "name": "python",
      "nbconvert_exporter": "python",
      "pygments_lexer": "ipython3",
      "version": "3.8"
    },
    "kernelspec": {
      "name": "python",
      "display_name": "Python (Pyodide)",
      "language": "python"
    }
  },
  "nbformat_minor": 4,
  "nbformat": 4,
  "cells": [
    {
      "cell_type": "markdown",
      "source": "# Computational Experiments",
      "metadata": {}
    },
    {
      "cell_type": "markdown",
      "source": "_[Alberto Ruiz](http://dis.um.es/profesores/alberto)_<BR>\nUniversity of Murcia",
      "metadata": {
        "jp-MarkdownHeadingCollapsed": true
      }
    },
    {
      "cell_type": "markdown",
      "source": "## Symbolic Computation",
      "metadata": {}
    },
    {
      "cell_type": "markdown",
      "source": "- [Sympy examples](sympy.ipynb)\n\n- [Brachistochrone](braquistocrona.ipynb)\n\n- [Series for $\\pi$](machinlike.ipynb)",
      "metadata": {}
    },
    {
      "cell_type": "markdown",
      "source": "## Tensor calculus",
      "metadata": {}
    },
    {
      "cell_type": "markdown",
      "source": "- [Tensor equations](tensolve.ipynb)\n\n- [Riemann](Riemann.ipynb)",
      "metadata": {}
    },
    {
      "cell_type": "markdown",
      "source": "## Probability",
      "metadata": {}
    },
    {
      "cell_type": "markdown",
      "source": "- [Introduction](Bayes0.ipynb)\n\n- [Probabilistic DSL](probok.ipynb)\n\n- [Grid models](grid.ipynb)\n\n- [Kalman filter](Kalman.ipynb)\n\n- [Markov-Chain Monte-Carlo (MCMC)](MCMC.ipynb)\n\n- [Boltzmann, Bose, and Fermi distributions](Boltzmann-Bose-Fermi.ipynb)\n\n- [Logistic Regression](logistic.ipynb)\n\n- [Kelly Criterion](kelly.ipynb)\n\n- [K-armed-bandit](karmed.ipynb)",
      "metadata": {}
    },
    {
      "cell_type": "markdown",
      "source": "## Misc",
      "metadata": {}
    },
    {
      "cell_type": "markdown",
      "source": "- [OpenCV in the browser](opencv.ipynb)",
      "metadata": {}
    }
  ]
}