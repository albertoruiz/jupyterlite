{
  "metadata": {
    "language_info": {
      "codemirror_mode": {
        "name": "python",
        "version": 3
      },
      "file_extension": ".py",
      "mimetype": "text/x-python",
      "name": "python",
      "nbconvert_exporter": "python",
      "pygments_lexer": "ipython3",
      "version": "3.8"
    },
    "kernelspec": {
      "name": "python",
      "display_name": "Python (Pyodide)",
      "language": "python"
    }
  },
  "nbformat_minor": 4,
  "nbformat": 4,
  "cells": [
    {
      "cell_type": "markdown",
      "source": "# Computational Experiments",
      "metadata": {}
    },
    {
      "cell_type": "markdown",
      "source": "A collection of learning exercises and notes to [myself](http://dis.um.es/profesores/alberto) running directly in the browser.",
      "metadata": {
        "jp-MarkdownHeadingCollapsed": true
      }
    },
    {
      "cell_type": "markdown",
      "source": "Do **not** trust this material. It is provisional, incomplete, and contains many errors.",
      "metadata": {}
    },
    {
      "cell_type": "markdown",
      "source": "Package versions in this instance of jupyterlite:",
      "metadata": {}
    },
    {
      "cell_type": "code",
      "source": "from platform import python_version\nprint(f'python      {python_version()}')\nimport numpy\nprint(f'numpy       {numpy.__version__}')\nimport matplotlib\nprint(f'matplotlib  {matplotlib.__version__}')\nimport sympy\nprint(f'sympy       {sympy.__version__}')\nimport cv2\nprint(f'OpenCV      {cv2.__version__}')",
      "metadata": {
        "tags": [],
        "jupyter": {
          "source_hidden": true
        },
        "trusted": true
      },
      "execution_count": 1,
      "outputs": [
        {
          "name": "stdout",
          "text": "python      3.11.3\nnumpy       1.25.2\nmatplotlib  3.5.2\nsympy       1.12\nOpenCV      4.8.0\n",
          "output_type": "stream"
        }
      ]
    },
    {
      "cell_type": "markdown",
      "source": "## Symbolic Computation",
      "metadata": {
        "tags": []
      }
    },
    {
      "cell_type": "markdown",
      "source": "- [Many sympy examples](sympy.ipynb) and case studies\n- [Series for $\\pi$](machinlike.ipynb) (Machin-like expressions and generalized binomial expansion)\n- [Brachistochrone](braquistocrona.ipynb)",
      "metadata": {}
    },
    {
      "cell_type": "markdown",
      "source": "## Tensor calculus",
      "metadata": {}
    },
    {
      "cell_type": "markdown",
      "source": "- [Tensor equations](tensolve.ipynb)\n- [Riemann](Riemann.ipynb)\n- [Shor's algorithm](shor.ipynb)",
      "metadata": {}
    },
    {
      "cell_type": "markdown",
      "source": "## Physics",
      "metadata": {}
    },
    {
      "cell_type": "markdown",
      "source": "- [Lagrangian and Hamiltonian Mechanics](lagrange/Mechanics.ipynb)\n    - [Double pendulum](lagrange/double.ipynb)\n    - [Triple pendulum](lagrange/triple.ipynb)\n    - [Constrained movement](lagrange/constrained.ipynb) (brachistochrone)\n    - [Kepler orbit](lagrange/kepler.ipynb)\n    - [Moving pendulum](lagrange/moving.ipynb)\n    - [Sliding pendulum](lagrange/sliding.ipynb)\n    - [Free fall](lagrange/freefall.ipynb)\n- [Power series](series.ipynb)\n- [Exponential function](exponential.ipynb)\n- [Exponential map](Lie.ipynb)\n- [Schrödinger equation](schrodinger.ipynb)\n- [Collisions](choques.ipynb)",
      "metadata": {}
    },
    {
      "cell_type": "markdown",
      "source": "## Orbits",
      "metadata": {}
    },
    {
      "cell_type": "markdown",
      "source": "- [Kepler's problem](orbits/theory.ipynb)\n- [Kepler's equation](orbits/keplerec.ipynb)\n- [Gauss determines the orbit of Ceres](orbits/ceres.ipynb)",
      "metadata": {}
    },
    {
      "cell_type": "markdown",
      "source": "## Probability",
      "metadata": {}
    },
    {
      "cell_type": "markdown",
      "source": "- [Introduction](Bayes0.ipynb)\n- [Probabilistic DSL](probok.ipynb)\n- [Grid models](grid.ipynb)\n- [Kalman filter](Kalman.ipynb)\n- [UKF](ukf-parabolic.ipynb)\n- [Bayesian localization of Neptune](neptune.ipynb)\n- [Markov-Chain Monte-Carlo (MCMC)](MCMC.ipynb)\n- [Boltzmann, Bose, and Fermi distributions](Boltzmann-Bose-Fermi.ipynb)\n- [Logistic Regression](logistic.ipynb)\n- [Kelly criterion](kelly.ipynb)\n- [K-armed-bandit](karmed.ipynb)\n- [Causal inference](causal.ipynb)\n- [Parrondo's paradox](parrondo.ipynb)\n- [(in)transitive correlations](correlations.ipynb)",
      "metadata": {}
    },
    {
      "cell_type": "markdown",
      "source": "## Number Theory",
      "metadata": {}
    },
    {
      "cell_type": "markdown",
      "source": "- [Factorization methods](numbers.ipynb)",
      "metadata": {}
    },
    {
      "cell_type": "markdown",
      "source": "## Games",
      "metadata": {}
    },
    {
      "cell_type": "markdown",
      "source": "- [Monte Carlo Tree Search](MCTS/testnbgame.ipynb)",
      "metadata": {}
    },
    {
      "cell_type": "markdown",
      "source": "## Misc",
      "metadata": {}
    },
    {
      "cell_type": "markdown",

      "source": "- [OpenCV](opencv.ipynb) in the browser\n- [Multifocal Ellipse](mfellipse.ipynb)\n- [Dynamic programming](dpcsw.ipynb) (change problem and sequence alignment)\n- [Misc graphics](plots.ipynb) (Newton's method and spiral of primes)\n- [Midpoint method](Midpoint.ipynb) vs Euler's.\n- [Random rectangles](overlap.ipynb)\n- [Deformable grid](deformable.ipynb)\n- [Sequence acceleration](aitken.ipynb) (Aitken, Shanks)\n- [Cellular automata](cellular.ipynb) (Life and WireWorld)",
      "metadata": {}
    }
  ]
}