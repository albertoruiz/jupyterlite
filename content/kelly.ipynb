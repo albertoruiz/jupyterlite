{
  "metadata": {
    "language_info": {
      "codemirror_mode": {
        "name": "python",
        "version": 3
      },
      "file_extension": ".py",
      "mimetype": "text/x-python",
      "name": "python",
      "nbconvert_exporter": "python",
      "pygments_lexer": "ipython3",
      "version": "3.8"
    },
    "kernelspec": {
      "name": "python",
      "display_name": "Python (Pyodide)",
      "language": "python"
    }
  },
  "nbformat_minor": 4,
  "nbformat": 4,
  "cells": [
    {
      "cell_type": "markdown",
      "source": "# Kelly criterion",
      "metadata": {}
    },
    {
      "cell_type": "markdown",
      "source": "Supongamos un juego en el que se gana con probabilidad $p$ la proporción $b$ de lo apostado. Por ejemplo, si $p=0.6$ y $b=1$, el 60% de las veces ganamos la cantidad apostada y el 40% de las veces la perdemos.",
      "metadata": {}
    },
    {
      "cell_type": "markdown",
      "source": "Este juego tiene esperanza matemática positiva, por lo que interesa apostar. Si nos dejan jugar repetidas veces, en teoría podríamos ganar una cantidad ilimitada de dinero. Pero si tengo un presupuesto limitado no es razonable apostarlo casi todo por el riesgo de perder. Y si apuesto muy poco cada vez, mi riqueza aumentaría muy lentamente.",
      "metadata": {}
    },
    {
      "cell_type": "markdown",
      "source": "¿Qué proporción $f$ de mi dinero debo apostar repetidamente en este juego para maximizar las ganancias? La solución es el [Kelly criterion](https://en.wikipedia.org/wiki/Kelly_criterion), que maximiza no el valor esperado de los resultados, sino su logaritmo, lo que es equivalente a maximizar la media geométrica.",
      "metadata": {}
    },
    {
      "cell_type": "code",
      "source": "import numpy as np\nimport matplotlib.pyplot as plt\n%matplotlib inline",
      "metadata": {
        "trusted": true
      },
      "execution_count": null,
      "outputs": []
    },
    {
      "cell_type": "code",
      "source": "b = 1\np = 0.7\n\nf = np.linspace(0,1,100)[1:-1]\n\n\nplt.plot(f, p*(1+f*b) + (1-p)*(1-f) );\n\nL = p*np.log(1+f*b) + (1-p)*np.log(1-f)\n\nplt.plot(f, L );\nfm = f[np.argmax(L)]\nplt.plot([fm,fm],plt.axis()[2:]);",
      "metadata": {
        "trusted": true
      },
      "execution_count": null,
      "outputs": []
    },
    {
      "cell_type": "code",
      "source": "def kelly(f, p, b, cap, minbet, n, trials=100):\n    wfinal = []\n    for _ in range(trials):\n        w = 1\n        ws = [w]\n        for k in range(n):\n            outcome = np.random.rand() < p\n            if outcome:\n                w += f*w*b\n            else:\n                w -= f*w\n            ws.append(w)\n            if w >= cap:\n                w = cap\n                break\n            if w < minbet:\n                break\n        plt.plot(ws,color='black',alpha=0.05);\n        wfinal.append(w)\n    wfinal = np.array(wfinal)\n    plt.ylim(0,10);\n    if n < 30:\n        plt.xticks(np.arange(n+1));\n    mean = np.mean(wfinal)\n    loss = np.mean(wfinal<1)\n    plt.plot([0,n],[1,mean],color='red');\n    plt.title(f'f={f:.2f}    {mean:.2f}    {loss:.2f}');\n\nb = 0.6\ncap = 10\nminbet = 0.1\n\nkelly(0.2, b, 1, cap, minbet, 30)\nplt.show()\nkelly(0.2, b, 1, cap, minbet, 300)\nplt.show()\nkelly(0.05, b, 1, cap, minbet, 300)\nplt.show()\nkelly(0.15, b, 1, cap, minbet, 300)\nplt.show()\nkelly(0.3, b, 1, cap, minbet, 300)\nplt.show()\nkelly(0.4, b, 1, cap, minbet, 300)\nplt.show()\nkelly(0.8, b, 1, cap, minbet, 300)",
      "metadata": {
        "trusted": true
      },
      "execution_count": null,
      "outputs": []
    },
    {
      "cell_type": "markdown",
      "source": "Conclusión: Funciona, pero con $n$ muy grande y granularidad infinita. Habría que poner también una mínima apuesta y parar si no se cubre. En este caso se puede recuperar menos veces, y aumenta  la prob de arruinarse, y es mejor ser un poco más conservador.",
      "metadata": {}
    }
  ]
}