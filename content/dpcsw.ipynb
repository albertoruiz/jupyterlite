{
  "metadata": {
    "hide_input": false,
    "varInspector": {
      "cols": {
        "lenName": 16,
        "lenType": 16,
        "lenVar": 40
      },
      "kernels_config": {
        "python": {
          "delete_cmd_postfix": "",
          "delete_cmd_prefix": "del ",
          "library": "var_list.py",
          "varRefreshCmd": "print(var_dic_list())"
        },
        "r": {
          "delete_cmd_postfix": ") ",
          "delete_cmd_prefix": "rm(",
          "library": "var_list.r",
          "varRefreshCmd": "cat(var_dic_list()) "
        }
      },
      "types_to_exclude": [
        "module",
        "function",
        "builtin_function_or_method",
        "instance",
        "_Feature"
      ],
      "window_display": false
    },
    "kernelspec": {
      "name": "python",
      "display_name": "Python (Pyodide)",
      "language": "python"
    },
    "language_info": {
      "codemirror_mode": {
        "name": "python",
        "version": 3
      },
      "file_extension": ".py",
      "mimetype": "text/x-python",
      "name": "python",
      "nbconvert_exporter": "python",
      "pygments_lexer": "ipython3",
      "version": "3.8"
    }
  },
  "nbformat_minor": 4,
  "nbformat": 4,
  "cells": [
    {
      "cell_type": "markdown",
      "source": "# Programación Dinámica",
      "metadata": {}
    },
    {
      "cell_type": "markdown",
      "source": "Inspirado por [Principles of Algorithmic Problem Solving](http://csc.kth.se/~jsannemo/slask/main.pdf) de Johan Sannemo.\n\nLa **programación dinámica** es recursión + memoization.",
      "metadata": {}
    },
    {
      "cell_type": "markdown",
      "source": "## Change problem",
      "metadata": {}
    },
    {
      "cell_type": "markdown",
      "source": "Esto se puede ver en un caso sencillo con Fibonacci, pero se ilustra mucho mejor con el problema del \"cambio\" (expresar una cantidad con monedas de diferentes valores). Cuando los valores son por ejemplo (1,2,5) el método greedy es óptimo, pero hay otros casos como (1,6,7) donde es necesario explorar. Por ejemplo: 12=6+6, pero si empezamos por el mayor tenemos una solución peor: 12=7+1+1+1+1+1.",
      "metadata": {}
    },
    {
      "cell_type": "markdown",
      "source": "La forma de resolverlo es la siguiente. Si tenemos que formar la cantidad $T$, tenemos 3 posibilidades:\n\n- usar 7 y formar $T-7$\n- usar 6 y formar $T-6$\n- usar 1 y formar $T-1$\n\nCalculamos las 3 y elegimos el subproblema que necesite menos monedas en total. El resultado será añadir al subproblema elegido la moneda usada.\n\nFunciona perfecto. Pero, como ocurre en Fibonacci, se repiten muchos subproblemas. La solución es inmediata: *memoization*.\n\nSe guardan los casos calculados para que cuando vuelvan a necesitarse estén disponibles directamente. Interesa que los argumentos de la función sean mínimos y apropiados para que no se dispare el número de casos.",
      "metadata": {}
    },
    {
      "cell_type": "markdown",
      "source": "Se puede hacer top-down (recursión natural) o bottom-up (generando todos los casos hasta llegar al de interés, puede que alguno no nos haga falta).",
      "metadata": {}
    },
    {
      "cell_type": "markdown",
      "source": "TODO: versión base, añadir contador de llamadas recursivas, después versión memoizada, y después problema de recursion limit.",
      "metadata": {}
    },
    {
      "cell_type": "code",
      "source": "from functools import lru_cache\n\nD = [1,6,7]\n\n@lru_cache(maxsize=None)\ndef change(t):\n    global nc\n    nc += 1\n    if t==0:\n        return 0, []\n    pos = [ (change(t-d),d) for d in D if t>=d ]\n    (n,l),s = min(pos)\n    return 1+n, l+[s]\n\nnc = 0  # counter of calls",
      "metadata": {
        "trusted": true
      },
      "execution_count": null,
      "outputs": []
    },
    {
      "cell_type": "code",
      "source": "change(17)",
      "metadata": {
        "trusted": true
      },
      "execution_count": null,
      "outputs": []
    },
    {
      "cell_type": "code",
      "source": "for k in range(50):\n    nc = 0\n    print(k, change(k), nc)",
      "metadata": {
        "trusted": true
      },
      "execution_count": null,
      "outputs": []
    },
    {
      "cell_type": "markdown",
      "source": "Si pedimos un valor grande superamos el límite de recursión. Podemos aumentarlo con `sys.setrecursionlimit()`.",
      "metadata": {}
    },
    {
      "cell_type": "markdown",
      "source": "## Smith-Waterman",
      "metadata": {}
    },
    {
      "cell_type": "markdown",
      "source": "The [Smith-Waterman algorithm](https://en.wikipedia.org/wiki/Smith%E2%80%93Waterman_algorithm) for sequence alignment:",
      "metadata": {}
    },
    {
      "cell_type": "code",
      "source": "import numpy as np\n\ndef s(x,y):\n    return 3 if x==y else -3\n\ndef w(k):\n    return 2*k\n\n\ndef SM(b,a,S,W):\n    na = len(a)\n    nb = len(b)\n    H = np.zeros((na+1, nb+1))\n    for i in range(1,na+1):\n        for j in range(1,nb+1):\n            H[i,j] = max([0,\n                          H[i-1,j-1] + s(a[i-1],b[j-1]),\n                          max( [H[i-k,j]-w(k) for k in range(1,i+1)] ),\n                          max( [H[i,j-l]-w(l) for l in range(1,j+1)] )\n                         ])\n    print(H)\n    print(np.max(H))\n    I,J = np.where(H==np.max(H))\n    print(H[I[0],J[0]])\n    sols = []\n    for i,j in zip(I,J):\n        print(i,j)\n        sol = []\n        #print(a)\n        #print(b)\n        sol.append( (H[i,j],(i,j),(a[i-1],b[j-1])) )\n        while True:\n            \n            x = _,(i,j),_ = max([ (H[i-1,  j], (i-1,j) ,   (a[i-2],b[j-1]+'-')) ,\n                                  (H[i-1,j-1], (i-1,j-1) , (a[i-2],b[j-2])) ,\n                                  (H[i,  j-1], (i,j-1),    (a[i-1]+'-',b[j-2])) ] )\n            if H[i,j]==0: break\n            sol.append(x)\n        \n        bl,al = zip(*[k[-1] for k in reversed(sol)])\n        sols.append( (fixmissing(al), fixmissing(bl)) )\n    return sols\n\n\ndef fixmissing(x):\n    a = list(x)\n    for k in reversed(range(1,len(a))):\n        if a[k-1][-1] == '-':\n            a[k] = '-'\n        else:\n            if a[k][-1] == '-':\n                a[k] = a[k][:-1]\n    if a[0][-1] == '-':\n        a[0] = a[0][:-1]\n    return ''.join(a)",
      "metadata": {
        "trusted": true
      },
      "execution_count": null,
      "outputs": []
    },
    {
      "cell_type": "code",
      "source": "SM('xjAlberto','jHAbeton',s,w)",
      "metadata": {
        "trusted": true
      },
      "execution_count": null,
      "outputs": []
    },
    {
      "cell_type": "code",
      "source": "SM('TGTTACGG', 'GGTTGACTA', s, w)",
      "metadata": {
        "trusted": true
      },
      "execution_count": null,
      "outputs": []
    },
    {
      "cell_type": "code",
      "source": "kk=SM('991230568955512345678911', '234567895551235608', s, w)\nfor a,b in kk:\n    print(a)\n    print(b)\n    print()",
      "metadata": {
        "trusted": true
      },
      "execution_count": null,
      "outputs": []
    }
  ]
}