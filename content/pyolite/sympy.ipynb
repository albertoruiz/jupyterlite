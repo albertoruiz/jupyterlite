{
 "cells": [
  {
   "cell_type": "markdown",
   "metadata": {},
   "source": [
    "Informática - 1º de Física - UMU\n",
    "<br>\n",
    "**Computación Científica**\n",
    "<br>\n",
    "<p style=\"color:#808080\"> <small><small>\n",
    "16/10/2018\n",
    "</small></small></p>\n",
    "\n",
    "## Cálculo Simbólico"
   ]
  },
  {
   "cell_type": "markdown",
   "metadata": {},
   "source": [
    "A diferencia del cálculo numérico, que siempre evalúa completamente las expresiones matemáticas, las herramientas de [cálculo simbólico](https://en.wikipedia.org/wiki/Computer_algebra) son capaces de manipular las expresiones propiamente dichas, sin evaluar, con ciertas reglas de transformación. Esto permite simplificar ecuaciones, despejar variables, obtener integrales indefinidas, etc. Para abordar este tipo de tareas existen sistemas de cálculo simbólico muy potentes como *Mathematica* (*Wolfram Alpha*), *Maple* (comerciales) y [Maxima](http://maxima.sourceforge.net/) (libre).\n",
    "\n",
    "En este capítulo se presenta brevemente el paquete [sympy](http://www.sympy.org/en/index.html) incluido en el ecosistema científico de Python. No es tan completo como los anteriores pero permite resolver una amplia variedad de problemas de este tipo y puede combinarse fácilmente con las demás herramientas de programación del lenguaje."
   ]
  },
  {
   "cell_type": "markdown",
   "metadata": {
    "heading_collapsed": true
   },
   "source": [
    "### Símbolos y expresiones simbólicas"
   ]
  },
  {
   "cell_type": "markdown",
   "metadata": {
    "hidden": true
   },
   "source": [
    "Lo más importante que hay que tener en cuenta para usar este paquete es que las expresiones matemáticas son un tipo de dato nuevo, que se construye a partir de \"símbolos\", con funciones matemáticas simbólicas que importamos de `sympy` (no de `math` o `numpy`)."
   ]
  },
  {
   "cell_type": "markdown",
   "metadata": {
    "hidden": true
   },
   "source": [
    "Para mayor legibilidad importamos las funciones matemáticas más utilizadas y activamos la opción de *pretty printing*."
   ]
  },
  {
   "cell_type": "code",
   "execution_count": 1,
   "metadata": {
    "hidden": true
   },
   "outputs": [],
   "source": [
    "import sympy as sym\n",
    "\n",
    "from sympy import sin, cos, exp, sqrt\n",
    "from sympy import pi, oo\n",
    "from sympy import symbols, N\n",
    "from sympy.abc import alpha, beta\n",
    "\n",
    "sym.init_printing(pretty_print=True)"
   ]
  },
  {
   "cell_type": "code",
   "execution_count": 2,
   "metadata": {
    "hidden": true
   },
   "outputs": [],
   "source": [
    "x     = sym.Symbol('x')\n",
    "delta = sym.Symbol('delta')"
   ]
  },
  {
   "cell_type": "markdown",
   "metadata": {
    "hidden": true
   },
   "source": [
    "La variable de Python `x` contiene la expresión matemática $x$, un único símbolo. Lo mismo ocurre con el nombre `delta`, al que asignamos el símbolo matemático $\\delta$. La opción de *pretty printing* muestra en el notebook los símbolos con la notación matemática habitual."
   ]
  },
  {
   "cell_type": "code",
   "execution_count": 3,
   "metadata": {
    "hidden": true
   },
   "outputs": [
    {
     "data": {
      "image/png": "[encoded data removed]",
      "text/latex": [
       "$$\\delta + \\pi x$$"
      ],
      "text/plain": [
       "δ + π⋅x"
      ]
     },
     "execution_count": 3,
     "metadata": {},
     "output_type": "execute_result"
    }
   ],
   "source": [
    "pi * x + delta"
   ]
  },
  {
   "cell_type": "markdown",
   "metadata": {
    "hidden": true
   },
   "source": [
    "Las operaciones matemáticas construyen expresiones simbólicas que no se evalúan (aunque algunas simplificaciones obvias se aplican automáticamente) y se pueden guardar en variables de Python."
   ]
  },
  {
   "cell_type": "code",
   "execution_count": 4,
   "metadata": {
    "hidden": true
   },
   "outputs": [],
   "source": [
    "cosa = sin(5*x+x-beta)"
   ]
  },
  {
   "cell_type": "code",
   "execution_count": 5,
   "metadata": {
    "hidden": true
   },
   "outputs": [
    {
     "data": {
      "image/png": "[encoded data removed]",
      "text/latex": [
       "$$- \\sin{\\left (\\beta - 6 x \\right )}$$"
      ],
      "text/plain": [
       "-sin(β - 6⋅x)"
      ]
     },
     "execution_count": 5,
     "metadata": {},
     "output_type": "execute_result"
    }
   ],
   "source": [
    "cosa"
   ]
  },
  {
   "cell_type": "markdown",
   "metadata": {
    "hidden": true
   },
   "source": [
    "Las herramientas de cálculo simbólico manipulan este tipo de expresiones mediante reglas de transformación matemáticamente válidas. "
   ]
  },
  {
   "cell_type": "code",
   "execution_count": 6,
   "metadata": {
    "hidden": true
   },
   "outputs": [
    {
     "data": {
      "image/png": "[encoded data removed]",
      "text/latex": [
       "$$- 5 \\sin^{3}{\\left (\\beta - 6 x \\right )}$$"
      ],
      "text/plain": [
       "      3         \n",
       "-5⋅sin (β - 6⋅x)"
      ]
     },
     "execution_count": 6,
     "metadata": {},
     "output_type": "execute_result"
    }
   ],
   "source": [
    "cosa**2 * 5 * cosa"
   ]
  },
  {
   "cell_type": "markdown",
   "metadata": {
    "hidden": true
   },
   "source": [
    "Para que esto sea posible, las expresiones se representan internamente mediante estructuras especiales. Podemos consultarlas por curiosidad, aunque en la práctica no tenemos que preocuparnos por ellas."
   ]
  },
  {
   "cell_type": "code",
   "execution_count": 7,
   "metadata": {
    "hidden": true
   },
   "outputs": [
    {
     "data": {
      "text/plain": [
       "\"Mul(Integer(-1), sin(Add(Symbol('beta'), Mul(Integer(-1), Integer(6), Symbol('x')))))\""
      ]
     },
     "execution_count": 7,
     "metadata": {},
     "output_type": "execute_result"
    }
   ],
   "source": [
    "sym.srepr(cosa)"
   ]
  },
  {
   "cell_type": "markdown",
   "metadata": {
    "heading_collapsed": true
   },
   "source": [
    "### Derivadas"
   ]
  },
  {
   "cell_type": "markdown",
   "metadata": {
    "hidden": true
   },
   "source": [
    "La derivación de funciones es una de las tareas mejor resueltas mediante el cálculo simbólico, ya que es un proceso puramente mecánico."
   ]
  },
  {
   "cell_type": "code",
   "execution_count": 8,
   "metadata": {
    "cell_style": "center",
    "hidden": true
   },
   "outputs": [
    {
     "data": {
      "image/png": "[encoded data removed]",
      "text/latex": [
       "$$- \\sin{\\left (x \\right )} \\cos{\\left (\\cos{\\left (x \\right )} \\right )}$$"
      ],
      "text/plain": [
       "-sin(x)⋅cos(cos(x))"
      ]
     },
     "execution_count": 8,
     "metadata": {},
     "output_type": "execute_result"
    }
   ],
   "source": [
    "sym.diff( sin(cos(x)) , x )"
   ]
  },
  {
   "cell_type": "code",
   "execution_count": 9,
   "metadata": {
    "cell_style": "center",
    "hidden": true
   },
   "outputs": [
    {
     "data": {
      "image/png": "[encoded data removed]",
      "text/latex": [
       "$$2 \\left(- 2 x^{2} \\sin{\\left (x^{2} \\right )} + \\cos{\\left (x^{2} \\right )}\\right)$$"
      ],
      "text/plain": [
       "  ⎛     2    ⎛ 2⎞      ⎛ 2⎞⎞\n",
       "2⋅⎝- 2⋅x ⋅sin⎝x ⎠ + cos⎝x ⎠⎠"
      ]
     },
     "execution_count": 9,
     "metadata": {},
     "output_type": "execute_result"
    }
   ],
   "source": [
    "f = sin(x**2)\n",
    "\n",
    "sym.diff(f,x,2)"
   ]
  },
  {
   "cell_type": "markdown",
   "metadata": {
    "hidden": true
   },
   "source": [
    "Muchas funciones de `sympy` pueden aplicarse de forma normal, o como \"métodos\":"
   ]
  },
  {
   "cell_type": "code",
   "execution_count": 10,
   "metadata": {
    "hidden": true
   },
   "outputs": [
    {
     "data": {
      "image/png": "[encoded data removed]",
      "text/latex": [
       "$$2 \\left(- 2 x^{2} \\sin{\\left (x^{2} \\right )} + \\cos{\\left (x^{2} \\right )}\\right)$$"
      ],
      "text/plain": [
       "  ⎛     2    ⎛ 2⎞      ⎛ 2⎞⎞\n",
       "2⋅⎝- 2⋅x ⋅sin⎝x ⎠ + cos⎝x ⎠⎠"
      ]
     },
     "execution_count": 10,
     "metadata": {},
     "output_type": "execute_result"
    }
   ],
   "source": [
    "f.diff(x,2)"
   ]
  },
  {
   "cell_type": "markdown",
   "metadata": {
    "hidden": true
   },
   "source": [
    "Esta forma permite encadenar operaciones de forma cómoda:"
   ]
  },
  {
   "cell_type": "code",
   "execution_count": 11,
   "metadata": {
    "hidden": true
   },
   "outputs": [
    {
     "data": {
      "image/png": "[encoded data removed]",
      "text/latex": [
       "$$e^{\\cos{\\left (x \\right )}} \\sin{\\left (2 x \\right )}$$"
      ],
      "text/plain": [
       " cos(x)         \n",
       "ℯ      ⋅sin(2⋅x)"
      ]
     },
     "execution_count": 11,
     "metadata": {},
     "output_type": "execute_result"
    }
   ],
   "source": [
    "g = sin(2*x)*exp(cos(x))\n",
    "\n",
    "g"
   ]
  },
  {
   "cell_type": "code",
   "execution_count": 12,
   "metadata": {
    "hidden": true
   },
   "outputs": [
    {
     "data": {
      "image/png": "[encoded data removed]",
      "text/latex": [
       "$$\\left(- \\sin^{3}{\\left (x \\right )} \\sin{\\left (2 x \\right )} + 6 \\sin^{2}{\\left (x \\right )} \\cos{\\left (2 x \\right )} + 3 \\sin{\\left (x \\right )} \\sin{\\left (2 x \\right )} \\cos{\\left (x \\right )} + 13 \\sin{\\left (x \\right )} \\sin{\\left (2 x \\right )} - 6 \\cos{\\left (x \\right )} \\cos{\\left (2 x \\right )} - 8 \\cos{\\left (2 x \\right )}\\right) e^{\\cos{\\left (x \\right )}}$$"
      ],
      "text/plain": [
       "⎛     3                    2                                                  \n",
       "⎝- sin (x)⋅sin(2⋅x) + 6⋅sin (x)⋅cos(2⋅x) + 3⋅sin(x)⋅sin(2⋅x)⋅cos(x) + 13⋅sin(x\n",
       "\n",
       "                                           ⎞  cos(x)\n",
       ")⋅sin(2⋅x) - 6⋅cos(x)⋅cos(2⋅x) - 8⋅cos(2⋅x)⎠⋅ℯ      "
      ]
     },
     "execution_count": 12,
     "metadata": {},
     "output_type": "execute_result"
    }
   ],
   "source": [
    "g.diff(x,3)"
   ]
  },
  {
   "cell_type": "code",
   "execution_count": 13,
   "metadata": {
    "hidden": true
   },
   "outputs": [
    {
     "data": {
      "image/png": "[encoded data removed]",
      "text/latex": [
       "$$\\left(- 2 \\sin^{4}{\\left (x \\right )} \\cos{\\left (x \\right )} - 18 \\sin^{4}{\\left (x \\right )} + 28 \\sin^{2}{\\left (x \\right )} + \\frac{7}{2} \\cos{\\left (x \\right )} - \\frac{19}{2} \\cos{\\left (3 x \\right )} - 8\\right) e^{\\cos{\\left (x \\right )}}$$"
      ],
      "text/plain": [
       "⎛       4                   4            2      7⋅cos(x)   19⋅cos(3⋅x)    ⎞  c\n",
       "⎜- 2⋅sin (x)⋅cos(x) - 18⋅sin (x) + 28⋅sin (x) + ──────── - ─────────── - 8⎟⋅ℯ \n",
       "⎝                                                  2            2         ⎠   \n",
       "\n",
       "os(x)\n",
       "     \n",
       "     "
      ]
     },
     "execution_count": 13,
     "metadata": {},
     "output_type": "execute_result"
    }
   ],
   "source": [
    "g.diff(x,3).simplify()"
   ]
  },
  {
   "cell_type": "markdown",
   "metadata": {
    "heading_collapsed": true
   },
   "source": [
    "### Integrales"
   ]
  },
  {
   "cell_type": "markdown",
   "metadata": {
    "hidden": true
   },
   "source": [
    "La integración simbólica es más complicada, ya que no todas las funciones tienen una primitiva que se pueda expresar con funciones elementales."
   ]
  },
  {
   "cell_type": "code",
   "execution_count": 14,
   "metadata": {
    "hidden": true,
    "scrolled": true
   },
   "outputs": [
    {
     "data": {
      "image/png": "[encoded data removed]",
      "text/latex": [
       "$$- \\frac{x^{2}}{2} - \\frac{1}{2} \\cos{\\left (2 x \\right )}$$"
      ],
      "text/plain": [
       "   2           \n",
       "  x    cos(2⋅x)\n",
       "- ── - ────────\n",
       "  2       2    "
      ]
     },
     "execution_count": 14,
     "metadata": {},
     "output_type": "execute_result"
    }
   ],
   "source": [
    "sym.integrate( sin(2*x)-x , x)"
   ]
  },
  {
   "cell_type": "code",
   "execution_count": 15,
   "metadata": {
    "hidden": true,
    "scrolled": true
   },
   "outputs": [
    {
     "data": {
      "image/png": "[encoded data removed]",
      "text/latex": [
       "$$\\operatorname{atan}{\\left (x \\right )}$$"
      ],
      "text/plain": [
       "atan(x)"
      ]
     },
     "execution_count": 15,
     "metadata": {},
     "output_type": "execute_result"
    }
   ],
   "source": [
    "sym.integrate( 1/(1+x**2) , x)"
   ]
  },
  {
   "cell_type": "code",
   "execution_count": 16,
   "metadata": {
    "hidden": true,
    "scrolled": true
   },
   "outputs": [
    {
     "data": {
      "image/png": "[encoded data removed]",
      "text/latex": [
       "$$\\frac{\\pi}{4}$$"
      ],
      "text/plain": [
       "π\n",
       "─\n",
       "4"
      ]
     },
     "execution_count": 16,
     "metadata": {},
     "output_type": "execute_result"
    }
   ],
   "source": [
    "sym.integrate( 1/(1+x**2) , (x,0,1))"
   ]
  },
  {
   "cell_type": "markdown",
   "metadata": {
    "hidden": true
   },
   "source": [
    "Observa que el resultado es exacto, expresado en función del símbolo `pi`, que representa el verdadero número $\\pi$ matemático con todas sus propiedades:"
   ]
  },
  {
   "cell_type": "code",
   "execution_count": 17,
   "metadata": {
    "hidden": true
   },
   "outputs": [
    {
     "data": {
      "image/png": "[encoded data removed]",
      "text/latex": [
       "$$0$$"
      ],
      "text/plain": [
       "0"
      ]
     },
     "execution_count": 17,
     "metadata": {},
     "output_type": "execute_result"
    }
   ],
   "source": [
    "sin(pi)"
   ]
  },
  {
   "cell_type": "markdown",
   "metadata": {
    "hidden": true
   },
   "source": [
    "Veamos otros ejemplos:"
   ]
  },
  {
   "cell_type": "code",
   "execution_count": 18,
   "metadata": {
    "hidden": true
   },
   "outputs": [
    {
     "data": {
      "image/png": "[encoded data removed]",
      "text/latex": [
       "$$\\frac{1}{\\alpha} \\operatorname{asinh}{\\left (\\alpha x \\right )}$$"
      ],
      "text/plain": [
       "asinh(α⋅x)\n",
       "──────────\n",
       "    α     "
      ]
     },
     "execution_count": 18,
     "metadata": {},
     "output_type": "execute_result"
    }
   ],
   "source": [
    "sym.integrate( 1/sqrt(1 + alpha**2 * x**2) , x)"
   ]
  },
  {
   "cell_type": "code",
   "execution_count": 19,
   "metadata": {
    "hidden": true
   },
   "outputs": [
    {
     "data": {
      "image/png": "[encoded data removed]",
      "text/latex": [
       "$$\\begin{cases} 0 & \\text{for}\\: \\alpha = 0 \\\\\\frac{1}{\\alpha} \\cosh{\\left (\\alpha x \\right )} & \\text{otherwise} \\end{cases}$$"
      ],
      "text/plain": [
       "⎧    0      for α = 0\n",
       "⎪                    \n",
       "⎨cosh(α⋅x)           \n",
       "⎪─────────  otherwise\n",
       "⎩    α               "
      ]
     },
     "execution_count": 19,
     "metadata": {},
     "output_type": "execute_result"
    }
   ],
   "source": [
    "sym.integrate( sym.sinh(x*alpha) , x)"
   ]
  },
  {
   "cell_type": "code",
   "execution_count": 20,
   "metadata": {
    "hidden": true
   },
   "outputs": [
    {
     "data": {
      "image/png": "[encoded data removed]",
      "text/latex": [
       "$$\\sin{\\left (x^{2} \\right )}$$"
      ],
      "text/plain": [
       "   ⎛ 2⎞\n",
       "sin⎝x ⎠"
      ]
     },
     "execution_count": 20,
     "metadata": {},
     "output_type": "execute_result"
    }
   ],
   "source": [
    "f = sin(x**2)\n",
    "\n",
    "f"
   ]
  },
  {
   "cell_type": "code",
   "execution_count": 21,
   "metadata": {
    "hidden": true
   },
   "outputs": [
    {
     "data": {
      "image/png": "[encoded data removed]",
      "text/latex": [
       "$$\\frac{3 \\sqrt{2} \\sqrt{\\pi} S\\left(\\frac{\\sqrt{2} x}{\\sqrt{\\pi}}\\right)}{8 \\Gamma{\\left(\\frac{7}{4} \\right)}} \\Gamma{\\left(\\frac{3}{4} \\right)}$$"
      ],
      "text/plain": [
       "                ⎛√2⋅x⎞       \n",
       "3⋅√2⋅√π⋅fresnels⎜────⎟⋅Γ(3/4)\n",
       "                ⎝ √π ⎠       \n",
       "─────────────────────────────\n",
       "           8⋅Γ(7/4)          "
      ]
     },
     "execution_count": 21,
     "metadata": {},
     "output_type": "execute_result"
    }
   ],
   "source": [
    "f.integrate(x)"
   ]
  },
  {
   "cell_type": "markdown",
   "metadata": {
    "hidden": true
   },
   "source": [
    "El resultado viene dado en función de la función gamma, y de una función especial $S$. Si imprimimos el resultado \"de forma informática\" obtenemos más información:"
   ]
  },
  {
   "cell_type": "code",
   "execution_count": 22,
   "metadata": {
    "hidden": true
   },
   "outputs": [
    {
     "name": "stdout",
     "output_type": "stream",
     "text": [
      "3*sqrt(2)*sqrt(pi)*fresnels(sqrt(2)*x/sqrt(pi))*gamma(3/4)/(8*gamma(7/4))\n"
     ]
    }
   ],
   "source": [
    "print(f.integrate(x))"
   ]
  },
  {
   "cell_type": "markdown",
   "metadata": {
    "hidden": true
   },
   "source": [
    "Se trata de la [integral de Fresnel](https://en.wikipedia.org/wiki/Fresnel_integral)."
   ]
  },
  {
   "cell_type": "markdown",
   "metadata": {
    "heading_collapsed": true
   },
   "source": [
    "### Cuidado"
   ]
  },
  {
   "cell_type": "markdown",
   "metadata": {
    "hidden": true
   },
   "source": [
    "Diferencia entre la función predefinida y el símbolo genérico:"
   ]
  },
  {
   "cell_type": "code",
   "execution_count": 23,
   "metadata": {
    "hidden": true
   },
   "outputs": [
    {
     "data": {
      "image/png": "[encoded data removed]",
      "text/latex": [
       "$$\\gamma$$"
      ],
      "text/plain": [
       "γ"
      ]
     },
     "execution_count": 23,
     "metadata": {},
     "output_type": "execute_result"
    }
   ],
   "source": [
    "gamma = symbols('gamma')\n",
    "gamma"
   ]
  },
  {
   "cell_type": "code",
   "execution_count": 24,
   "metadata": {
    "hidden": true
   },
   "outputs": [
    {
     "data": {
      "text/plain": [
       "gamma"
      ]
     },
     "execution_count": 24,
     "metadata": {},
     "output_type": "execute_result"
    }
   ],
   "source": [
    "sym.gamma"
   ]
  },
  {
   "cell_type": "code",
   "execution_count": 25,
   "metadata": {
    "hidden": true
   },
   "outputs": [
    {
     "data": {
      "image/png": "[encoded data removed]",
      "text/latex": [
       "$$\\left ( \\Gamma\\left(4\\right), \\quad \\Gamma\\left(x\\right)\\right )$$"
      ],
      "text/plain": [
       "(γ(4), γ(x))"
      ]
     },
     "execution_count": 25,
     "metadata": {},
     "output_type": "execute_result"
    }
   ],
   "source": [
    "gamma(4), gamma(x)"
   ]
  },
  {
   "cell_type": "code",
   "execution_count": 26,
   "metadata": {
    "hidden": true
   },
   "outputs": [
    {
     "data": {
      "image/png": "[encoded data removed]",
      "text/latex": [
       "$$\\left ( 6, \\quad \\Gamma{\\left(x \\right)}\\right )$$"
      ],
      "text/plain": [
       "(6, Γ(x))"
      ]
     },
     "execution_count": 26,
     "metadata": {},
     "output_type": "execute_result"
    }
   ],
   "source": [
    "sym.gamma(4),  sym.gamma(x)"
   ]
  },
  {
   "cell_type": "markdown",
   "metadata": {
    "heading_collapsed": true
   },
   "source": [
    "### Propiedades"
   ]
  },
  {
   "cell_type": "code",
   "execution_count": 27,
   "metadata": {
    "hidden": true
   },
   "outputs": [
    {
     "data": {
      "image/png": "[encoded data removed]",
      "text/latex": [
       "$$\\begin{cases} 1 & \\text{for}\\: \\left|{\\operatorname{periodic_{argument}}{\\left (\\frac{1}{\\operatorname{polar\\_lift}{\\left (E \\right )}},\\infty \\right )}}\\right| < \\frac{\\pi}{2} \\\\\\int_{0}^{\\infty} \\frac{e^{- \\frac{e}{E}}}{E}\\, de & \\text{otherwise} \\end{cases}$$"
      ],
      "text/plain": [
       "⎧               │                 ⎛      1         ⎞│   π\n",
       "⎪    1      for │periodic_argument⎜─────────────, ∞⎟│ < ─\n",
       "⎪               │                 ⎝polar_lift(E)   ⎠│   2\n",
       "⎪                                                        \n",
       "⎪∞                                                       \n",
       "⎪⌠                                                       \n",
       "⎪⎮  -e                                                   \n",
       "⎨⎮  ───                                                  \n",
       "⎪⎮   E                                                   \n",
       "⎪⎮ ℯ                                                     \n",
       "⎪⎮ ──── de                    otherwise                  \n",
       "⎪⎮  E                                                    \n",
       "⎪⌡                                                       \n",
       "⎪0                                                       \n",
       "⎩                                                        "
      ]
     },
     "execution_count": 27,
     "metadata": {},
     "output_type": "execute_result"
    }
   ],
   "source": [
    "e, E = sym.symbols('e E')\n",
    "\n",
    "sym.integrate( 1/E * exp(-e/E) , (e,0,sym.oo))"
   ]
  },
  {
   "cell_type": "markdown",
   "metadata": {
    "hidden": true
   },
   "source": [
    "Para evitar resultados demasiado generales a veces es conveniente dar propiedades a los símbolos:"
   ]
  },
  {
   "cell_type": "code",
   "execution_count": 28,
   "metadata": {
    "hidden": true
   },
   "outputs": [
    {
     "data": {
      "image/png": "[encoded data removed]",
      "text/latex": [
       "$$1$$"
      ],
      "text/plain": [
       "1"
      ]
     },
     "execution_count": 28,
     "metadata": {},
     "output_type": "execute_result"
    }
   ],
   "source": [
    "e, E = sym.symbols('e E',positive=True)\n",
    "\n",
    "sym.integrate( 1/E * exp(-e/E) , (e,0,oo))"
   ]
  },
  {
   "cell_type": "code",
   "execution_count": 29,
   "metadata": {
    "hidden": true
   },
   "outputs": [
    {
     "data": {
      "image/png": "[encoded data removed]",
      "text/latex": [
       "$$E$$"
      ],
      "text/plain": [
       "E"
      ]
     },
     "execution_count": 29,
     "metadata": {},
     "output_type": "execute_result"
    }
   ],
   "source": [
    "sym.integrate( e* 1/E * exp(-e/E) , (e,0,oo))"
   ]
  },
  {
   "cell_type": "code",
   "execution_count": 30,
   "metadata": {
    "hidden": true
   },
   "outputs": [
    {
     "data": {
      "image/png": "[encoded data removed]",
      "text/latex": [
       "$$1$$"
      ],
      "text/plain": [
       "1"
      ]
     },
     "execution_count": 30,
     "metadata": {},
     "output_type": "execute_result"
    }
   ],
   "source": [
    "sym.integrate( 2/sqrt(pi*E**3) * sqrt(e) * exp(-e/E) ,(e,0,oo))"
   ]
  },
  {
   "cell_type": "code",
   "execution_count": 31,
   "metadata": {
    "hidden": true
   },
   "outputs": [
    {
     "data": {
      "image/png": "[encoded data removed]",
      "text/latex": [
       "$$\\frac{3 E}{2}$$"
      ],
      "text/plain": [
       "3⋅E\n",
       "───\n",
       " 2 "
      ]
     },
     "execution_count": 31,
     "metadata": {},
     "output_type": "execute_result"
    }
   ],
   "source": [
    "sym.integrate( e *  2/sqrt(pi*E**3) * sqrt(e) * exp(-e/E) ,(e,0,oo))"
   ]
  },
  {
   "cell_type": "markdown",
   "metadata": {
    "heading_collapsed": true
   },
   "source": [
    "### Simplificación"
   ]
  },
  {
   "cell_type": "code",
   "execution_count": 32,
   "metadata": {
    "hidden": true
   },
   "outputs": [
    {
     "data": {
      "image/png": "[encoded data removed]",
      "text/latex": [
       "$$\\cos{\\left (3 x \\right )}$$"
      ],
      "text/plain": [
       "cos(3⋅x)"
      ]
     },
     "execution_count": 32,
     "metadata": {},
     "output_type": "execute_result"
    }
   ],
   "source": [
    "cos(2*x+x)"
   ]
  },
  {
   "cell_type": "code",
   "execution_count": 33,
   "metadata": {
    "hidden": true
   },
   "outputs": [
    {
     "data": {
      "image/png": "[encoded data removed]",
      "text/latex": [
       "$$1$$"
      ],
      "text/plain": [
       "1"
      ]
     },
     "execution_count": 33,
     "metadata": {},
     "output_type": "execute_result"
    }
   ],
   "source": [
    "sym.simplify( sin(3*x)**2+cos(2*x+x)**2 )"
   ]
  },
  {
   "cell_type": "code",
   "execution_count": 34,
   "metadata": {
    "hidden": true
   },
   "outputs": [
    {
     "data": {
      "image/png": "[encoded data removed]",
      "text/latex": [
       "$$x^{5} + 15 x^{4} + 90 x^{3} + 270 x^{2} + 405 x + 243$$"
      ],
      "text/plain": [
       " 5       4       3        2              \n",
       "x  + 15⋅x  + 90⋅x  + 270⋅x  + 405⋅x + 243"
      ]
     },
     "execution_count": 34,
     "metadata": {},
     "output_type": "execute_result"
    }
   ],
   "source": [
    "sym.expand( (x+3)**5 )"
   ]
  },
  {
   "cell_type": "code",
   "execution_count": 35,
   "metadata": {
    "hidden": true
   },
   "outputs": [
    {
     "data": {
      "image/png": "[encoded data removed]",
      "text/latex": [
       "$$x^{3} - 2 x^{2} - 5 x + 6$$"
      ],
      "text/plain": [
       " 3      2          \n",
       "x  - 2⋅x  - 5⋅x + 6"
      ]
     },
     "execution_count": 35,
     "metadata": {},
     "output_type": "execute_result"
    }
   ],
   "source": [
    "sym.expand( (x-1)*(x+2)*(x-3) )"
   ]
  },
  {
   "cell_type": "code",
   "execution_count": 36,
   "metadata": {
    "hidden": true
   },
   "outputs": [
    {
     "data": {
      "image/png": "[encoded data removed]",
      "text/latex": [
       "$$\\left(x - 1\\right) \\left(x^{4} + x^{3} + x^{2} + x + 1\\right)$$"
      ],
      "text/plain": [
       "        ⎛ 4    3    2        ⎞\n",
       "(x - 1)⋅⎝x  + x  + x  + x + 1⎠"
      ]
     },
     "execution_count": 36,
     "metadata": {},
     "output_type": "execute_result"
    }
   ],
   "source": [
    "sym.factor( x**5-1 )"
   ]
  },
  {
   "cell_type": "code",
   "execution_count": 37,
   "metadata": {
    "hidden": true
   },
   "outputs": [
    {
     "data": {
      "image/png": "[encoded data removed]",
      "text/latex": [
       "$$- 4 \\sin^{3}{\\left (x \\right )} + 3 \\sin{\\left (x \\right )}$$"
      ],
      "text/plain": [
       "       3              \n",
       "- 4⋅sin (x) + 3⋅sin(x)"
      ]
     },
     "execution_count": 37,
     "metadata": {},
     "output_type": "execute_result"
    }
   ],
   "source": [
    "sym.expand( sin(3*x) , trig=True)"
   ]
  },
  {
   "cell_type": "markdown",
   "metadata": {
    "heading_collapsed": true
   },
   "source": [
    "### Sustitución"
   ]
  },
  {
   "cell_type": "code",
   "execution_count": 38,
   "metadata": {
    "hidden": true
   },
   "outputs": [],
   "source": [
    "x,y = sym.symbols('x y')\n",
    "\n",
    "cosa = 2*x+y"
   ]
  },
  {
   "cell_type": "code",
   "execution_count": 39,
   "metadata": {
    "hidden": true
   },
   "outputs": [
    {
     "data": {
      "image/png": "[encoded data removed]",
      "text/latex": [
       "$$3 y + 2$$"
      ],
      "text/plain": [
       "3⋅y + 2"
      ]
     },
     "execution_count": 39,
     "metadata": {},
     "output_type": "execute_result"
    }
   ],
   "source": [
    "cosa.subs({x: y+1})"
   ]
  },
  {
   "cell_type": "code",
   "execution_count": 40,
   "metadata": {
    "hidden": true
   },
   "outputs": [
    {
     "data": {
      "image/png": "[encoded data removed]",
      "text/latex": [
       "$$e^{2 y^{2}}$$"
      ],
      "text/plain": [
       "    2\n",
       " 2⋅y \n",
       "ℯ    "
      ]
     },
     "execution_count": 40,
     "metadata": {},
     "output_type": "execute_result"
    }
   ],
   "source": [
    "(sin(2*x)).subs({sin: exp , x: y**2})"
   ]
  },
  {
   "cell_type": "markdown",
   "metadata": {
    "heading_collapsed": true
   },
   "source": [
    "### Evaluación numérica"
   ]
  },
  {
   "cell_type": "markdown",
   "metadata": {
    "hidden": true
   },
   "source": [
    "Las expresiones simbólicas no son funciones normales de Python definidas con `def`, pero en cierto sentido podemos evaluarlas, dando valores numéricos a todos los símbolos."
   ]
  },
  {
   "cell_type": "code",
   "execution_count": 41,
   "metadata": {
    "hidden": true
   },
   "outputs": [],
   "source": [
    "cosa = sin(2*x)"
   ]
  },
  {
   "cell_type": "code",
   "execution_count": 42,
   "metadata": {
    "hidden": true
   },
   "outputs": [
    {
     "data": {
      "image/png": "[encoded data removed]",
      "text/latex": [
       "$$0.932039085967226$$"
      ],
      "text/plain": [
       "0.932039085967226"
      ]
     },
     "execution_count": 42,
     "metadata": {},
     "output_type": "execute_result"
    }
   ],
   "source": [
    "cosa.evalf(subs={x:0.6})"
   ]
  },
  {
   "cell_type": "code",
   "execution_count": 43,
   "metadata": {
    "hidden": true
   },
   "outputs": [
    {
     "data": {
      "image/png": "[encoded data removed]",
      "text/latex": [
       "$$\\sin{\\left (x^{2} \\right )}$$"
      ],
      "text/plain": [
       "   ⎛ 2⎞\n",
       "sin⎝x ⎠"
      ]
     },
     "execution_count": 43,
     "metadata": {},
     "output_type": "execute_result"
    }
   ],
   "source": [
    "f"
   ]
  },
  {
   "cell_type": "code",
   "execution_count": 44,
   "metadata": {
    "hidden": true
   },
   "outputs": [
    {
     "data": {
      "image/png": "[encoded data removed]",
      "text/latex": [
       "$$\\frac{3 \\sqrt{2} \\sqrt{\\pi} S\\left(\\frac{\\sqrt{2} x}{\\sqrt{\\pi}}\\right)}{8 \\Gamma{\\left(\\frac{7}{4} \\right)}} \\Gamma{\\left(\\frac{3}{4} \\right)}$$"
      ],
      "text/plain": [
       "                ⎛√2⋅x⎞       \n",
       "3⋅√2⋅√π⋅fresnels⎜────⎟⋅Γ(3/4)\n",
       "                ⎝ √π ⎠       \n",
       "─────────────────────────────\n",
       "           8⋅Γ(7/4)          "
      ]
     },
     "execution_count": 44,
     "metadata": {},
     "output_type": "execute_result"
    }
   ],
   "source": [
    "sym.integrate(f,x)"
   ]
  },
  {
   "cell_type": "code",
   "execution_count": 45,
   "metadata": {
    "hidden": true
   },
   "outputs": [
    {
     "data": {
      "image/png": "[encoded data removed]",
      "text/latex": [
       "$$- \\frac{3 \\sqrt{2} \\sqrt{\\pi} S\\left(\\frac{\\sqrt{2}}{\\sqrt{\\pi}}\\right) \\Gamma{\\left(\\frac{3}{4} \\right)}}{8 \\Gamma{\\left(\\frac{7}{4} \\right)}} + \\frac{3 \\sqrt{2} \\sqrt{\\pi} S\\left(\\frac{2 \\sqrt{2}}{\\sqrt{\\pi}}\\right)}{8 \\Gamma{\\left(\\frac{7}{4} \\right)}} \\Gamma{\\left(\\frac{3}{4} \\right)}$$"
      ],
      "text/plain": [
       "                  ⎛√2⎞                          ⎛2⋅√2⎞       \n",
       "  3⋅√2⋅√π⋅fresnels⎜──⎟⋅Γ(3/4)   3⋅√2⋅√π⋅fresnels⎜────⎟⋅Γ(3/4)\n",
       "                  ⎝√π⎠                          ⎝ √π ⎠       \n",
       "- ─────────────────────────── + ─────────────────────────────\n",
       "            8⋅Γ(7/4)                       8⋅Γ(7/4)          "
      ]
     },
     "execution_count": 45,
     "metadata": {},
     "output_type": "execute_result"
    }
   ],
   "source": [
    "sym.integrate(f,(x,1,2))"
   ]
  },
  {
   "cell_type": "code",
   "execution_count": 46,
   "metadata": {
    "hidden": true
   },
   "outputs": [
    {
     "data": {
      "image/png": "[encoded data removed]",
      "text/latex": [
       "$$0.494508187620375$$"
      ],
      "text/plain": [
       "0.494508187620375"
      ]
     },
     "execution_count": 46,
     "metadata": {},
     "output_type": "execute_result"
    }
   ],
   "source": [
    "N(sym.integrate(f,(x,1,2)))"
   ]
  },
  {
   "cell_type": "code",
   "execution_count": 47,
   "metadata": {
    "hidden": true
   },
   "outputs": [
    {
     "data": {
      "image/png": "[encoded data removed]",
      "text/latex": [
       "$$1.414213562373095048801688724209698078569671875376948073176679737990732478462107038850387534327641573$$"
      ],
      "text/plain": [
       "1.4142135623730950488016887242096980785696718753769480731766797379907324784621\n",
       "07038850387534327641573"
      ]
     },
     "execution_count": 47,
     "metadata": {},
     "output_type": "execute_result"
    }
   ],
   "source": [
    "N(sqrt(2),100)"
   ]
  },
  {
   "cell_type": "code",
   "execution_count": 48,
   "metadata": {
    "hidden": true,
    "scrolled": false
   },
   "outputs": [
    {
     "data": {
      "image/png": "[encoded data removed]",
      "text/latex": [
       "$$9.869604401089358618834490999876151135313699407240790626413349376220044822419205243001773403718552231824025913774023144077772348122030046727610617677985197660990399856206575630571506041232840328780869352769342164939666571519044538735261779413820258260581693412515592048309818873270033076266671104358950871504100325788536595276357752837922683318745086404546354125026973729566958334227858150006365227095472490859756072669264752779005285336452206669808264158968771057327889291746901545510069254432457036449656172537928607606008145972589229232414240044295981361814413706777778194739658303170856632789570753407991714523158926372114463828264432852803792850348095233899503968574609485346009017742932205799035917357820465758041931686823002196146899270420614296963466005799840351642136543049984533721736557240463676848876261512299027059938010299446886181716260980130876530037060158369198676286005079936468322669731568367175558971198752975296394916315539449195483877068721130789866575590986536365630763630880611$$"
      ],
      "text/plain": [
       "9.8696044010893586188344909998761511353136994072407906264133493762200448224192\n",
       "052430017734037185522318240259137740231440777723481220300467276106176779851976\n",
       "609903998562065756305715060412328403287808693527693421649396665715190445387352\n",
       "617794138202582605816934125155920483098188732700330762666711043589508715041003\n",
       "257885365952763577528379226833187450864045463541250269737295669583342278581500\n",
       "063652270954724908597560726692647527790052853364522066698082641589687710573278\n",
       "892917469015455100692544324570364496561725379286076060081459725892292324142400\n",
       "442959813618144137067777781947396583031708566327895707534079917145231589263721\n",
       "144638282644328528037928503480952338995039685746094853460090177429322057990359\n",
       "173578204657580419316868230021961468992704206142969634660057998403516421365430\n",
       "499845337217365572404636768488762615122990270599380102994468861817162609801308\n",
       "765300370601583691986762860050799364683226697315683671755589711987529752963949\n",
       "16315539449195483877068721130789866575590986536365630763630880611"
      ]
     },
     "execution_count": 48,
     "metadata": {},
     "output_type": "execute_result"
    }
   ],
   "source": [
    "N(pi**2,1000)"
   ]
  },
  {
   "cell_type": "markdown",
   "metadata": {
    "heading_collapsed": true
   },
   "source": [
    "### Conversión de expresiones en funciones numéricas"
   ]
  },
  {
   "cell_type": "code",
   "execution_count": 49,
   "metadata": {
    "hidden": true
   },
   "outputs": [
    {
     "data": {
      "image/png": "[encoded data removed]",
      "text/latex": [
       "$$\\frac{\\sqrt{\\pi}}{2} \\operatorname{erf}{\\left (x \\right )}$$"
      ],
      "text/plain": [
       "√π⋅erf(x)\n",
       "─────────\n",
       "    2    "
      ]
     },
     "execution_count": 49,
     "metadata": {},
     "output_type": "execute_result"
    }
   ],
   "source": [
    "f = sym.integrate(exp(-x**2),x)\n",
    "f"
   ]
  },
  {
   "cell_type": "code",
   "execution_count": 50,
   "metadata": {
    "hidden": true
   },
   "outputs": [
    {
     "data": {
      "image/png": "[encoded data removed]",
      "text/latex": [
       "$$0.882081390762422$$"
      ],
      "text/plain": [
       "0.882081390762422"
      ]
     },
     "execution_count": 50,
     "metadata": {},
     "output_type": "execute_result"
    }
   ],
   "source": [
    "f.evalf(subs={x:2})"
   ]
  },
  {
   "cell_type": "code",
   "execution_count": 51,
   "metadata": {
    "hidden": true
   },
   "outputs": [],
   "source": [
    "g = sym.lambdify(x,f,\"math\")"
   ]
  },
  {
   "cell_type": "code",
   "execution_count": 52,
   "metadata": {
    "hidden": true
   },
   "outputs": [
    {
     "data": {
      "image/png": "[encoded data removed]",
      "text/latex": [
       "$$0.8820813907624215$$"
      ],
      "text/plain": [
       "0.8820813907624215"
      ]
     },
     "execution_count": 52,
     "metadata": {},
     "output_type": "execute_result"
    }
   ],
   "source": [
    "g(2)"
   ]
  },
  {
   "cell_type": "code",
   "execution_count": 53,
   "metadata": {
    "hidden": true
   },
   "outputs": [],
   "source": [
    "import scipy.special\n",
    "\n",
    "h = sym.lambdify(x, f, ['numpy',  {'erf':scipy.special.erf}])"
   ]
  },
  {
   "cell_type": "code",
   "execution_count": 54,
   "metadata": {
    "hidden": true
   },
   "outputs": [
    {
     "data": {
      "text/plain": [
       "array([0.88208139, 0.88620735])"
      ]
     },
     "execution_count": 54,
     "metadata": {},
     "output_type": "execute_result"
    }
   ],
   "source": [
    "h([2,3])"
   ]
  },
  {
   "cell_type": "markdown",
   "metadata": {
    "heading_collapsed": true
   },
   "source": [
    "### Solución de ecuaciones"
   ]
  },
  {
   "cell_type": "code",
   "execution_count": 55,
   "metadata": {
    "hidden": true
   },
   "outputs": [
    {
     "data": {
      "image/png": "[encoded data removed]",
      "text/latex": [
       "$$\\left\\{\\frac{1}{2} + \\frac{\\sqrt{5}}{2}, - \\frac{\\sqrt{5}}{2} + \\frac{1}{2}\\right\\}$$"
      ],
      "text/plain": [
       "⎧1   √5    √5   1⎫\n",
       "⎨─ + ──, - ── + ─⎬\n",
       "⎩2   2     2    2⎭"
      ]
     },
     "execution_count": 55,
     "metadata": {},
     "output_type": "execute_result"
    }
   ],
   "source": [
    "sym.solveset( 1+x-x**2 , x)"
   ]
  },
  {
   "cell_type": "code",
   "execution_count": 56,
   "metadata": {
    "hidden": true
   },
   "outputs": [
    {
     "data": {
      "image/png": "[encoded data removed]",
      "text/latex": [
       "$$\\left\\{-2, 1, 3\\right\\}$$"
      ],
      "text/plain": [
       "{-2, 1, 3}"
      ]
     },
     "execution_count": 56,
     "metadata": {},
     "output_type": "execute_result"
    }
   ],
   "source": [
    "sym.solveset( x**3-2*x**2-5*x+6 , x)"
   ]
  },
  {
   "cell_type": "code",
   "execution_count": 57,
   "metadata": {
    "hidden": true
   },
   "outputs": [
    {
     "data": {
      "image/png": "[encoded data removed]",
      "text/latex": [
       "$$\\left\\{\\frac{1}{3 \\sqrt[3]{\\frac{\\sqrt{69}}{18} + \\frac{1}{2}}} + \\sqrt[3]{\\frac{\\sqrt{69}}{18} + \\frac{1}{2}}, - \\frac{1}{2} \\sqrt[3]{\\frac{\\sqrt{69}}{18} + \\frac{1}{2}} - \\frac{1}{6 \\sqrt[3]{\\frac{\\sqrt{69}}{18} + \\frac{1}{2}}} + i \\left(- \\frac{\\sqrt{3}}{6 \\sqrt[3]{\\frac{\\sqrt{69}}{18} + \\frac{1}{2}}} + \\frac{\\sqrt{3}}{2} \\sqrt[3]{\\frac{\\sqrt{69}}{18} + \\frac{1}{2}}\\right), - \\frac{1}{2} \\sqrt[3]{\\frac{\\sqrt{69}}{18} + \\frac{1}{2}} - \\frac{1}{6 \\sqrt[3]{\\frac{\\sqrt{69}}{18} + \\frac{1}{2}}} + i \\left(- \\frac{\\sqrt{3}}{2} \\sqrt[3]{\\frac{\\sqrt{69}}{18} + \\frac{1}{2}} + \\frac{\\sqrt{3}}{6 \\sqrt[3]{\\frac{\\sqrt{69}}{18} + \\frac{1}{2}}}\\right)\\right\\}$$"
      ],
      "text/plain": [
       "⎧                                       _________                       ⎛     \n",
       "⎪                                      ╱ √69   1                        ⎜     \n",
       "⎪                      _________    3 ╱  ─── + ─                        ⎜     \n",
       "⎪       1             ╱ √69   1     ╲╱    18   2           1            ⎜     \n",
       "⎨─────────────── + 3 ╱  ─── + ─ , - ───────────── - ─────────────── + ⅈ⋅⎜- ───\n",
       "⎪      _________   ╲╱    18   2           2               _________     ⎜     \n",
       "⎪     ╱ √69   1                                          ╱ √69   1      ⎜     \n",
       "⎪3⋅3 ╱  ─── + ─                                     6⋅3 ╱  ─── + ─      ⎜  6⋅3\n",
       "⎩  ╲╱    18   2                                       ╲╱    18   2      ⎝    ╲\n",
       "\n",
       "                      _________⎞        _________                       ⎛     \n",
       "                     ╱ √69   1 ⎟       ╱ √69   1                        ⎜     \n",
       "               √3⋅3 ╱  ─── + ─ ⎟    3 ╱  ─── + ─                        ⎜  √3⋅\n",
       "    √3            ╲╱    18   2 ⎟    ╲╱    18   2           1            ⎜     \n",
       "──────────── + ────────────────⎟, - ───────────── - ─────────────── + ⅈ⋅⎜- ───\n",
       "   _________          2        ⎟          2               _________     ⎜     \n",
       "  ╱ √69   1                    ⎟                         ╱ √69   1      ⎜     \n",
       " ╱  ─── + ─                    ⎟                    6⋅3 ╱  ─── + ─      ⎜     \n",
       "╱    18   2                    ⎠                      ╲╱    18   2      ⎝     \n",
       "\n",
       "    _________                  ⎞⎫\n",
       "   ╱ √69   1                   ⎟⎪\n",
       "3 ╱  ─── + ─                   ⎟⎪\n",
       "╲╱    18   2           √3      ⎟⎪\n",
       "───────────── + ───────────────⎟⎬\n",
       "    2                 _________⎟⎪\n",
       "                     ╱ √69   1 ⎟⎪\n",
       "                6⋅3 ╱  ─── + ─ ⎟⎪\n",
       "                  ╲╱    18   2 ⎠⎭"
      ]
     },
     "execution_count": 57,
     "metadata": {},
     "output_type": "execute_result"
    }
   ],
   "source": [
    "sym.solveset( 1+x-x**3 , x)"
   ]
  },
  {
   "cell_type": "code",
   "execution_count": 58,
   "metadata": {
    "hidden": true
   },
   "outputs": [
    {
     "data": {
      "image/png": "[encoded data removed]",
      "text/latex": [
       "$$\\left\\{\\frac{a}{3 \\sqrt[3]{\\sqrt{- \\frac{a^{3}}{27} + \\frac{1}{4}} + \\frac{1}{2}}} + \\sqrt[3]{\\sqrt{- \\frac{a^{3}}{27} + \\frac{1}{4}} + \\frac{1}{2}}, \\frac{a}{3 \\left(- \\frac{1}{2} - \\frac{\\sqrt{3} i}{2}\\right) \\sqrt[3]{\\sqrt{- \\frac{a^{3}}{27} + \\frac{1}{4}} + \\frac{1}{2}}} + \\left(- \\frac{1}{2} - \\frac{\\sqrt{3} i}{2}\\right) \\sqrt[3]{\\sqrt{- \\frac{a^{3}}{27} + \\frac{1}{4}} + \\frac{1}{2}}, \\frac{a}{3 \\left(- \\frac{1}{2} + \\frac{\\sqrt{3} i}{2}\\right) \\sqrt[3]{\\sqrt{- \\frac{a^{3}}{27} + \\frac{1}{4}} + \\frac{1}{2}}} + \\left(- \\frac{1}{2} + \\frac{\\sqrt{3} i}{2}\\right) \\sqrt[3]{\\sqrt{- \\frac{a^{3}}{27} + \\frac{1}{4}} + \\frac{1}{2}}\\right\\}$$"
      ],
      "text/plain": [
       "⎧                                      _____________________                  \n",
       "⎪                                     ╱      __________                       \n",
       "⎪                                    ╱      ╱    3                            \n",
       "⎪              a                    ╱      ╱    a    1    1                   \n",
       "⎪───────────────────────────── + 3 ╱      ╱   - ── + ─  + ─ , ────────────────\n",
       "⎨        _____________________   ╲╱     ╲╱      27   4    2                   \n",
       "⎪       ╱      __________                                                     \n",
       "⎪      ╱      ╱    3                                                          \n",
       "⎪     ╱      ╱    a    1    1                                   ⎛  1   √3⋅ⅈ⎞  \n",
       "⎪3⋅3 ╱      ╱   - ── + ─  + ─                                 3⋅⎜- ─ - ────⎟⋅3\n",
       "⎩  ╲╱     ╲╱      27   4    2                                   ⎝  2    2  ⎠ ╲\n",
       "\n",
       "                                                _____________________         \n",
       "                                               ╱      __________              \n",
       "                                              ╱      ╱    3                   \n",
       "    a                        ⎛  1   √3⋅ⅈ⎞    ╱      ╱    a    1    1          \n",
       "────────────────────────── + ⎜- ─ - ────⎟⋅3 ╱      ╱   - ── + ─  + ─ , ───────\n",
       "     _____________________   ⎝  2    2  ⎠ ╲╱     ╲╱      27   4    2          \n",
       "    ╱      __________                                                         \n",
       "   ╱      ╱    3                                                              \n",
       "  ╱      ╱    a    1    1                                                ⎛  1 \n",
       " ╱      ╱   - ── + ─  + ─                                              3⋅⎜- ─ \n",
       "╱     ╲╱      27   4    2                                                ⎝  2 \n",
       "\n",
       "                                                         _____________________\n",
       "                                                        ╱      __________     \n",
       "                                                       ╱      ╱    3          \n",
       "             a                        ⎛  1   √3⋅ⅈ⎞    ╱      ╱    a    1    1 \n",
       "─────────────────────────────────── + ⎜- ─ + ────⎟⋅3 ╱      ╱   - ── + ─  + ─ \n",
       "              _____________________   ⎝  2    2  ⎠ ╲╱     ╲╱      27   4    2 \n",
       "             ╱      __________                                                \n",
       "            ╱      ╱    3                                                     \n",
       "  √3⋅ⅈ⎞    ╱      ╱    a    1    1                                            \n",
       "+ ────⎟⋅3 ╱      ╱   - ── + ─  + ─                                            \n",
       "   2  ⎠ ╲╱     ╲╱      27   4    2                                            \n",
       "\n",
       "⎫\n",
       "⎪\n",
       "⎪\n",
       "⎪\n",
       "⎪\n",
       "⎬\n",
       "⎪\n",
       "⎪\n",
       "⎪\n",
       "⎪\n",
       "⎭"
      ]
     },
     "execution_count": 58,
     "metadata": {},
     "output_type": "execute_result"
    }
   ],
   "source": [
    "a = symbols('a')\n",
    "\n",
    "sym.solveset( 1+a*x-x**3 , x)"
   ]
  },
  {
   "cell_type": "code",
   "execution_count": 59,
   "metadata": {
    "hidden": true,
    "scrolled": true
   },
   "outputs": [
    {
     "data": {
      "image/png": "[encoded data removed]",
      "text/latex": [
       "$$\\left [ 1.32471795724475, \\quad -0.662358978622373 + 0.562279512062301 i, \\quad -0.662358978622373 - 0.562279512062301 i\\right ]$$"
      ],
      "text/plain": [
       "[1.32471795724475, -0.662358978622373 + 0.562279512062301⋅ⅈ, -0.66235897862237\n",
       "3 - 0.562279512062301⋅ⅈ]"
      ]
     },
     "execution_count": 59,
     "metadata": {},
     "output_type": "execute_result"
    }
   ],
   "source": [
    "[N(s) for s in sym.solveset(1+x-x**3,x)]"
   ]
  },
  {
   "cell_type": "code",
   "execution_count": 60,
   "metadata": {
    "hidden": true
   },
   "outputs": [
    {
     "data": {
      "image/png": "[encoded data removed]",
      "text/latex": [
       "$$\\left\\{2 n \\pi + \\frac{5 \\pi}{4}\\; |\\; n \\in \\mathbb{Z}\\right\\} \\cup \\left\\{2 n \\pi + \\frac{\\pi}{4}\\; |\\; n \\in \\mathbb{Z}\\right\\}$$"
      ],
      "text/plain": [
       "⎧        5⋅π        ⎫   ⎧        π        ⎫\n",
       "⎨2⋅n⋅π + ─── | n ∊ ℤ⎬ ∪ ⎨2⋅n⋅π + ─ | n ∊ ℤ⎬\n",
       "⎩         4         ⎭   ⎩        4        ⎭"
      ]
     },
     "execution_count": 60,
     "metadata": {},
     "output_type": "execute_result"
    }
   ],
   "source": [
    "sym.solveset( cos(x)-sin(x) , x)"
   ]
  },
  {
   "cell_type": "code",
   "execution_count": 61,
   "metadata": {
    "hidden": true
   },
   "outputs": [
    {
     "data": {
      "image/png": "[encoded data removed]",
      "text/latex": [
       "$$\\left\\{x\\; |\\; x \\in \\mathbb{C} \\wedge - x^{2} + \\cos{\\left (x \\right )} = 0 \\right\\}$$"
      ],
      "text/plain": [
       "⎧               2             ⎫\n",
       "⎨x | x ∊ ℂ ∧ - x  + cos(x) = 0⎬\n",
       "⎩                             ⎭"
      ]
     },
     "execution_count": 61,
     "metadata": {},
     "output_type": "execute_result"
    }
   ],
   "source": [
    "sym.solveset(cos(x)-x**2,x)"
   ]
  },
  {
   "cell_type": "markdown",
   "metadata": {
    "heading_collapsed": true
   },
   "source": [
    "### Límites"
   ]
  },
  {
   "cell_type": "code",
   "execution_count": 62,
   "metadata": {
    "hidden": true
   },
   "outputs": [
    {
     "data": {
      "image/png": "[encoded data removed]",
      "text/latex": [
       "$$\\frac{1}{2}$$"
      ],
      "text/plain": [
       "1/2"
      ]
     },
     "execution_count": 62,
     "metadata": {},
     "output_type": "execute_result"
    }
   ],
   "source": [
    "sym.limit( x / (5 + 2*x) , x, oo)"
   ]
  },
  {
   "cell_type": "code",
   "execution_count": 63,
   "metadata": {
    "hidden": true
   },
   "outputs": [
    {
     "data": {
      "image/png": "[encoded data removed]",
      "text/latex": [
       "$$e^{3}$$"
      ],
      "text/plain": [
       " 3\n",
       "ℯ "
      ]
     },
     "execution_count": 63,
     "metadata": {},
     "output_type": "execute_result"
    }
   ],
   "source": [
    "sym.limit( (1+ 3/x)**x , x , oo )"
   ]
  },
  {
   "cell_type": "markdown",
   "metadata": {
    "heading_collapsed": true
   },
   "source": [
    "### Series"
   ]
  },
  {
   "cell_type": "code",
   "execution_count": 64,
   "metadata": {
    "hidden": true
   },
   "outputs": [
    {
     "data": {
      "image/png": "[encoded data removed]",
      "text/latex": [
       "$$\\sum_{k=1}^{n} \\left(2 k - 1\\right)$$"
      ],
      "text/plain": [
       "  n            \n",
       " ___           \n",
       " ╲             \n",
       "  ╲   (2⋅k - 1)\n",
       "  ╱            \n",
       " ╱             \n",
       " ‾‾‾           \n",
       "k = 1          "
      ]
     },
     "execution_count": 64,
     "metadata": {},
     "output_type": "execute_result"
    }
   ],
   "source": [
    "k, n = symbols('k n')\n",
    "\n",
    "S = sym.Sum( 2*k-1, (k, 1, n))\n",
    "\n",
    "S"
   ]
  },
  {
   "cell_type": "code",
   "execution_count": 65,
   "metadata": {
    "hidden": true
   },
   "outputs": [
    {
     "data": {
      "image/png": "[encoded data removed]",
      "text/latex": [
       "$$n^{2}$$"
      ],
      "text/plain": [
       " 2\n",
       "n "
      ]
     },
     "execution_count": 65,
     "metadata": {},
     "output_type": "execute_result"
    }
   ],
   "source": [
    "S.doit()"
   ]
  },
  {
   "cell_type": "code",
   "execution_count": 66,
   "metadata": {
    "hidden": true
   },
   "outputs": [
    {
     "data": {
      "image/png": "[encoded data removed]",
      "text/latex": [
       "$$\\sum_{k=5}^{\\infty} x^{2 k}$$"
      ],
      "text/plain": [
       "  ∞       \n",
       " ___      \n",
       " ╲        \n",
       "  ╲    2⋅k\n",
       "  ╱   x   \n",
       " ╱        \n",
       " ‾‾‾      \n",
       "k = 5     "
      ]
     },
     "execution_count": 66,
     "metadata": {},
     "output_type": "execute_result"
    }
   ],
   "source": [
    "s = sym.Sum( (x**k)**2, (k,5,oo))\n",
    "s"
   ]
  },
  {
   "cell_type": "code",
   "execution_count": 67,
   "metadata": {
    "hidden": true
   },
   "outputs": [
    {
     "data": {
      "image/png": "[encoded data removed]",
      "text/latex": [
       "$$\\begin{cases} \\frac{x^{10}}{- x^{2} + 1} & \\text{for}\\: \\left|{x^{2}}\\right| < 1 \\\\\\sum_{k=5}^{\\infty} x^{2 k} & \\text{otherwise} \\end{cases}$$"
      ],
      "text/plain": [
       "⎧    10                  \n",
       "⎪   x            │ 2│    \n",
       "⎪ ────────   for │x │ < 1\n",
       "⎪    2                   \n",
       "⎪ - x  + 1               \n",
       "⎪                        \n",
       "⎪  ∞                     \n",
       "⎨ ___                    \n",
       "⎪ ╲                      \n",
       "⎪  ╲    2⋅k              \n",
       "⎪  ╱   x      otherwise  \n",
       "⎪ ╱                      \n",
       "⎪ ‾‾‾                    \n",
       "⎪k = 5                   \n",
       "⎩                        "
      ]
     },
     "execution_count": 67,
     "metadata": {},
     "output_type": "execute_result"
    }
   ],
   "source": [
    "s.doit()"
   ]
  },
  {
   "cell_type": "code",
   "execution_count": 68,
   "metadata": {
    "hidden": true
   },
   "outputs": [
    {
     "data": {
      "image/png": "[encoded data removed]",
      "text/latex": [
       "$$\\sum_{k=1}^{\\infty} \\frac{1}{k^{3}}$$"
      ],
      "text/plain": [
       "  ∞     \n",
       " ____   \n",
       " ╲      \n",
       "  ╲   1 \n",
       "   ╲  ──\n",
       "   ╱   3\n",
       "  ╱   k \n",
       " ╱      \n",
       " ‾‾‾‾   \n",
       "k = 1   "
      ]
     },
     "execution_count": 68,
     "metadata": {},
     "output_type": "execute_result"
    }
   ],
   "source": [
    "S = sym.Sum(1/k**3, (k,1,oo))\n",
    "S"
   ]
  },
  {
   "cell_type": "code",
   "execution_count": 69,
   "metadata": {
    "hidden": true
   },
   "outputs": [
    {
     "data": {
      "image/png": "[encoded data removed]",
      "text/latex": [
       "$$\\zeta\\left(3\\right)$$"
      ],
      "text/plain": [
       "ζ(3)"
      ]
     },
     "execution_count": 69,
     "metadata": {},
     "output_type": "execute_result"
    }
   ],
   "source": [
    "S.doit()"
   ]
  },
  {
   "cell_type": "markdown",
   "metadata": {
    "hidden": true
   },
   "source": [
    "(Es la [Zeta de Riemann](https://en.wikipedia.org/wiki/Riemann_zeta_function).)"
   ]
  },
  {
   "cell_type": "markdown",
   "metadata": {
    "heading_collapsed": true
   },
   "source": [
    "### Ecuaciones diferenciales"
   ]
  },
  {
   "cell_type": "code",
   "execution_count": 70,
   "metadata": {
    "hidden": true
   },
   "outputs": [
    {
     "data": {
      "image/png": "[encoded data removed]",
      "text/latex": [
       "$$\\alpha{\\left (x \\right )} + \\frac{d^{2}}{d x^{2}}  \\alpha{\\left (x \\right )}$$"
      ],
      "text/plain": [
       "         2      \n",
       "        d       \n",
       "α(x) + ───(α(x))\n",
       "         2      \n",
       "       dx       "
      ]
     },
     "execution_count": 70,
     "metadata": {},
     "output_type": "execute_result"
    }
   ],
   "source": [
    "eq = sym.diff(alpha(x),x,2)+alpha(x)\n",
    "\n",
    "eq"
   ]
  },
  {
   "cell_type": "code",
   "execution_count": 71,
   "metadata": {
    "hidden": true
   },
   "outputs": [
    {
     "data": {
      "image/png": "[encoded data removed]",
      "text/latex": [
       "$$\\alpha{\\left (x \\right )} = C_{1} \\sin{\\left (x \\right )} + C_{2} \\cos{\\left (x \\right )}$$"
      ],
      "text/plain": [
       "α(x) = C₁⋅sin(x) + C₂⋅cos(x)"
      ]
     },
     "execution_count": 71,
     "metadata": {},
     "output_type": "execute_result"
    }
   ],
   "source": [
    "sym.dsolve( eq , alpha(x))"
   ]
  },
  {
   "cell_type": "markdown",
   "metadata": {
    "hidden": true
   },
   "source": [
    "Las ecuaciones en derivadas parciales por ahora solo admiten dos variables y ecuaciones de tipos sencillo."
   ]
  },
  {
   "cell_type": "code",
   "execution_count": 72,
   "metadata": {
    "hidden": true
   },
   "outputs": [
    {
     "data": {
      "image/png": "[encoded data removed]",
      "text/latex": [
       "$$a \\frac{\\partial}{\\partial y} f{\\left (x,y \\right )} + \\frac{\\partial}{\\partial x} f{\\left (x,y \\right )} = 0$$"
      ],
      "text/plain": [
       "  ∂             ∂              \n",
       "a⋅──(f(x, y)) + ──(f(x, y)) = 0\n",
       "  ∂y            ∂x             "
      ]
     },
     "execution_count": 72,
     "metadata": {},
     "output_type": "execute_result"
    }
   ],
   "source": [
    "f,x,y,a = symbols('f x y a')\n",
    "eq = sym.Eq(sym.diff(f(x,y),x) + a*sym.diff(f(x,y),y),0)\n",
    "eq"
   ]
  },
  {
   "cell_type": "code",
   "execution_count": 73,
   "metadata": {
    "hidden": true
   },
   "outputs": [
    {
     "data": {
      "image/png": "[encoded data removed]",
      "text/latex": [
       "$$f{\\left (x,y \\right )} = F{\\left (a x - y \\right )}$$"
      ],
      "text/plain": [
       "f(x, y) = F(a⋅x - y)"
      ]
     },
     "execution_count": 73,
     "metadata": {},
     "output_type": "execute_result"
    }
   ],
   "source": [
    "sym.pdsolve(eq)"
   ]
  },
  {
   "cell_type": "markdown",
   "metadata": {
    "heading_collapsed": true
   },
   "source": [
    "### series de Taylor"
   ]
  },
  {
   "cell_type": "code",
   "execution_count": 74,
   "metadata": {
    "hidden": true
   },
   "outputs": [
    {
     "data": {
      "image/png": "[encoded data removed]",
      "text/latex": [
       "$$1 + \\frac{x^{2}}{2} - \\frac{x^{4}}{8} + \\mathcal{O}\\left(x^{6}\\right)$$"
      ],
      "text/plain": [
       "     2    4        \n",
       "    x    x     ⎛ 6⎞\n",
       "1 + ── - ── + O⎝x ⎠\n",
       "    2    8         "
      ]
     },
     "execution_count": 74,
     "metadata": {},
     "output_type": "execute_result"
    }
   ],
   "source": [
    "sym.series(sqrt(1+x**2),x,0,6)"
   ]
  },
  {
   "cell_type": "code",
   "execution_count": 75,
   "metadata": {
    "hidden": true
   },
   "outputs": [
    {
     "data": {
      "image/png": "[encoded data removed]",
      "text/latex": [
       "$$\\sin{\\left (a \\right )} + \\left(- a + x\\right) \\cos{\\left (a \\right )} - \\frac{1}{2} \\left(- a + x\\right)^{2} \\sin{\\left (a \\right )} - \\frac{1}{6} \\left(- a + x\\right)^{3} \\cos{\\left (a \\right )} + \\frac{1}{24} \\left(- a + x\\right)^{4} \\sin{\\left (a \\right )} + \\mathcal{O}\\left(\\left(- a + x\\right)^{5}; x\\rightarrow a\\right)$$"
      ],
      "text/plain": [
       "                                   2                  3                  4    \n",
       "                           (-a + x) ⋅sin(a)   (-a + x) ⋅cos(a)   (-a + x) ⋅sin\n",
       "sin(a) + (-a + x)⋅cos(a) - ──────────────── - ──────────────── + ─────────────\n",
       "                                  2                  6                  24    \n",
       "\n",
       "                         \n",
       "(a)    ⎛        5       ⎞\n",
       "─── + O⎝(-a + x) ; x → a⎠\n",
       "                         "
      ]
     },
     "execution_count": 75,
     "metadata": {},
     "output_type": "execute_result"
    }
   ],
   "source": [
    "sym.series(sin(x),x,a,5)"
   ]
  },
  {
   "cell_type": "markdown",
   "metadata": {
    "heading_collapsed": true
   },
   "source": [
    "### Operaciones matriciales"
   ]
  },
  {
   "cell_type": "code",
   "execution_count": 76,
   "metadata": {
    "hidden": true
   },
   "outputs": [],
   "source": [
    "a,b,c = symbols('a b c')\n",
    "\n",
    "m = sym.Matrix( [[a,b],[b,c]] )"
   ]
  },
  {
   "cell_type": "code",
   "execution_count": 77,
   "metadata": {
    "hidden": true
   },
   "outputs": [
    {
     "data": {
      "image/png": "[encoded data removed]",
      "text/latex": [
       "$$\\left[\\begin{matrix}a & b\\\\b & c\\end{matrix}\\right]$$"
      ],
      "text/plain": [
       "⎡a  b⎤\n",
       "⎢    ⎥\n",
       "⎣b  c⎦"
      ]
     },
     "execution_count": 77,
     "metadata": {},
     "output_type": "execute_result"
    }
   ],
   "source": [
    "m"
   ]
  },
  {
   "cell_type": "code",
   "execution_count": 78,
   "metadata": {
    "hidden": true
   },
   "outputs": [
    {
     "data": {
      "image/png": "[encoded data removed]",
      "text/latex": [
       "$$\\left \\{ \\frac{a}{2} + \\frac{c}{2} - \\frac{1}{2} \\sqrt{a^{2} - 2 a c + 4 b^{2} + c^{2}} : 1, \\quad \\frac{a}{2} + \\frac{c}{2} + \\frac{1}{2} \\sqrt{a^{2} - 2 a c + 4 b^{2} + c^{2}} : 1\\right \\}$$"
      ],
      "text/plain": [
       "⎧           ________________________                ________________________  \n",
       "⎪          ╱  2              2    2                ╱  2              2    2   \n",
       "⎨a   c   ╲╱  a  - 2⋅a⋅c + 4⋅b  + c       a   c   ╲╱  a  - 2⋅a⋅c + 4⋅b  + c    \n",
       "⎪─ + ─ - ───────────────────────────: 1, ─ + ─ + ───────────────────────────: \n",
       "⎩2   2                2                  2   2                2               \n",
       "\n",
       " ⎫\n",
       " ⎪\n",
       " ⎬\n",
       "1⎪\n",
       " ⎭"
      ]
     },
     "execution_count": 78,
     "metadata": {},
     "output_type": "execute_result"
    }
   ],
   "source": [
    "m.eigenvals()"
   ]
  },
  {
   "cell_type": "markdown",
   "metadata": {
    "hidden": true
   },
   "source": [
    "\n",
    "### Lógica"
   ]
  },
  {
   "cell_type": "code",
   "execution_count": 79,
   "metadata": {
    "hidden": true
   },
   "outputs": [],
   "source": [
    "p,q,r = symbols('p q r')"
   ]
  },
  {
   "cell_type": "code",
   "execution_count": 80,
   "metadata": {
    "hidden": true
   },
   "outputs": [
    {
     "data": {
      "image/png": "[encoded data removed]",
      "text/latex": [
       "$$\\left(\\left(p \\Rightarrow q\\right) \\wedge \\left(p \\Rightarrow \\neg q\\right)\\right) \\Rightarrow \\neg p$$"
      ],
      "text/plain": [
       "((p → q) ∧ (p → ¬q)) → ¬p"
      ]
     },
     "execution_count": 80,
     "metadata": {},
     "output_type": "execute_result"
    }
   ],
   "source": [
    "formula = ((p >> q) & (p >> ~q)) >> ~p\n",
    "formula"
   ]
  },
  {
   "cell_type": "code",
   "execution_count": 81,
   "metadata": {
    "hidden": true
   },
   "outputs": [
    {
     "data": {
      "image/png": "[encoded data removed]",
      "text/latex": [
       "$$\\mathrm{True}$$"
      ],
      "text/plain": [
       "True"
      ]
     },
     "execution_count": 81,
     "metadata": {},
     "output_type": "execute_result"
    }
   ],
   "source": [
    "sym.simplify_logic(formula)"
   ]
  },
  {
   "cell_type": "code",
   "execution_count": 82,
   "metadata": {
    "hidden": true
   },
   "outputs": [
    {
     "data": {
      "text/plain": [
       "{p: False}"
      ]
     },
     "execution_count": 82,
     "metadata": {},
     "output_type": "execute_result"
    }
   ],
   "source": [
    "sym.satisfiable(p >> ~p)"
   ]
  },
  {
   "cell_type": "markdown",
   "metadata": {
    "heading_collapsed": true
   },
   "source": [
    "### Caso de estudio: desarrollo de Taylor"
   ]
  },
  {
   "cell_type": "markdown",
   "metadata": {
    "hidden": true
   },
   "source": [
    "Definimos nuestra propia función para calcular un desarrollo de Taylor y convertirlo en función numérica que admite arrays."
   ]
  },
  {
   "cell_type": "code",
   "execution_count": 83,
   "metadata": {
    "hidden": true
   },
   "outputs": [
    {
     "data": {
      "image/png": "[encoded data removed]",
      "text/latex": [
       "$$\\frac{x^{5}}{120} - \\frac{x^{3}}{6} + x$$"
      ],
      "text/plain": [
       "  5    3    \n",
       " x    x     \n",
       "─── - ── + x\n",
       "120   6     "
      ]
     },
     "execution_count": 83,
     "metadata": {},
     "output_type": "execute_result"
    }
   ],
   "source": [
    "def Taylor(f,x,a,n):\n",
    "    def fn(k):\n",
    "        return f.diff(x,k).subs({x:a}).simplify()\n",
    "    return sum([((x-a)**k / sym.factorial(k)* fn(k)).simplify() for k in range(n+1)])\n",
    "\n",
    "Taylor( sin(x), x, 0, 5 )"
   ]
  },
  {
   "cell_type": "code",
   "execution_count": 84,
   "metadata": {
    "hidden": true
   },
   "outputs": [
    {
     "data": {
      "image/png": "[encoded data removed]",
      "text/latex": [
       "$$\\frac{a \\left(- a + x\\right)}{\\sqrt{a^{2} + 1}} + \\frac{\\left(a - x\\right)^{2}}{2 \\left(a^{2} + 1\\right)^{\\frac{3}{2}}} + \\sqrt{a^{2} + 1}$$"
      ],
      "text/plain": [
       "                        2        ________\n",
       " a⋅(-a + x)      (a - x)        ╱  2     \n",
       "─────────── + ───────────── + ╲╱  a  + 1 \n",
       "   ________             3/2              \n",
       "  ╱  2          ⎛ 2    ⎞                 \n",
       "╲╱  a  + 1    2⋅⎝a  + 1⎠                 "
      ]
     },
     "execution_count": 84,
     "metadata": {},
     "output_type": "execute_result"
    }
   ],
   "source": [
    "Taylor( sqrt(1+x**2) , x, a, 2)"
   ]
  },
  {
   "cell_type": "code",
   "execution_count": 85,
   "metadata": {
    "hidden": true
   },
   "outputs": [
    {
     "data": {
      "image/png": "[encoded data removed]",
      "text/plain": [
       "<matplotlib.figure.Figure at 0x7ffaa2085b70>"
      ]
     },
     "metadata": {},
     "output_type": "display_data"
    }
   ],
   "source": [
    "f = sin(x)\n",
    "\n",
    "def g(n):\n",
    "    fun = sym.lambdify(x,Taylor(f,x,0,n),'numpy')\n",
    "    return fun\n",
    "\n",
    "\n",
    "import numpy as np\n",
    "import matplotlib.pyplot as plt\n",
    "%matplotlib inline\n",
    "\n",
    "X = np.linspace(-np.pi,np.pi,100)\n",
    "plt.ylim(-1.5,1.5)\n",
    "plt.plot(X,np.sin(X),X,g(1)(X),X,g(3)(X), X, g(5)(X));"
   ]
  },
  {
   "cell_type": "markdown",
   "metadata": {
    "heading_collapsed": true
   },
   "source": [
    "### plot"
   ]
  },
  {
   "cell_type": "markdown",
   "metadata": {
    "hidden": true
   },
   "source": [
    "`sympy` tiene una función `plot` que admite directamente expresiones simbólicas."
   ]
  },
  {
   "cell_type": "code",
   "execution_count": 86,
   "metadata": {
    "hidden": true
   },
   "outputs": [
    {
     "data": {
      "image/png": "[encoded data removed]",
      "text/plain": [
       "<matplotlib.figure.Figure at 0x7ffaa20ebe80>"
      ]
     },
     "metadata": {},
     "output_type": "display_data"
    }
   ],
   "source": [
    "sym.plot( sin(x)+cos(5*x) , (x,0,6));"
   ]
  },
  {
   "cell_type": "markdown",
   "metadata": {
    "heading_collapsed": true
   },
   "source": [
    "### Caso de estudio: integral de Riemann"
   ]
  },
  {
   "cell_type": "markdown",
   "metadata": {
    "hidden": true
   },
   "source": [
    "Vamos a calcular la integral definida de una función mediante la suma de un número *infinito* de rectángulos ([integral de Riemann](https://en.wikipedia.org/wiki/Riemann_integral))."
   ]
  },
  {
   "cell_type": "code",
   "execution_count": 87,
   "metadata": {
    "hidden": true
   },
   "outputs": [],
   "source": [
    "x,y,z,a,b,n,k = symbols('x y z a b n k')"
   ]
  },
  {
   "cell_type": "code",
   "execution_count": 88,
   "metadata": {
    "hidden": true
   },
   "outputs": [],
   "source": [
    "def f(x):\n",
    "    return x**2"
   ]
  },
  {
   "cell_type": "markdown",
   "metadata": {
    "hidden": true
   },
   "source": [
    "En primer lugar comprobamos el resultado que deseamos obtener."
   ]
  },
  {
   "cell_type": "code",
   "execution_count": 89,
   "metadata": {
    "hidden": true
   },
   "outputs": [
    {
     "data": {
      "image/png": "[encoded data removed]",
      "text/latex": [
       "$$\\int x^{2}\\, dx$$"
      ],
      "text/plain": [
       "⌠      \n",
       "⎮  2   \n",
       "⎮ x  dx\n",
       "⌡      "
      ]
     },
     "execution_count": 89,
     "metadata": {},
     "output_type": "execute_result"
    }
   ],
   "source": [
    "I = sym.Integral(f(x),x)\n",
    "I"
   ]
  },
  {
   "cell_type": "code",
   "execution_count": 90,
   "metadata": {
    "hidden": true
   },
   "outputs": [
    {
     "data": {
      "image/png": "[encoded data removed]",
      "text/latex": [
       "$$\\frac{x^{3}}{3}$$"
      ],
      "text/plain": [
       " 3\n",
       "x \n",
       "──\n",
       "3 "
      ]
     },
     "execution_count": 90,
     "metadata": {},
     "output_type": "execute_result"
    }
   ],
   "source": [
    "I.doit()"
   ]
  },
  {
   "cell_type": "code",
   "execution_count": 91,
   "metadata": {
    "hidden": true
   },
   "outputs": [
    {
     "data": {
      "image/png": "[encoded data removed]",
      "text/latex": [
       "$$\\int_{a}^{b} x^{2}\\, dx$$"
      ],
      "text/plain": [
       "b      \n",
       "⌠      \n",
       "⎮  2   \n",
       "⎮ x  dx\n",
       "⌡      \n",
       "a      "
      ]
     },
     "execution_count": 91,
     "metadata": {},
     "output_type": "execute_result"
    }
   ],
   "source": [
    "I = sym.Integral(f(x),(x,a,b))\n",
    "I"
   ]
  },
  {
   "cell_type": "code",
   "execution_count": 92,
   "metadata": {
    "hidden": true
   },
   "outputs": [
    {
     "data": {
      "image/png": "[encoded data removed]",
      "text/latex": [
       "$$- \\frac{a^{3}}{3} + \\frac{b^{3}}{3}$$"
      ],
      "text/plain": [
       "   3    3\n",
       "  a    b \n",
       "- ── + ──\n",
       "  3    3 "
      ]
     },
     "execution_count": 92,
     "metadata": {},
     "output_type": "execute_result"
    }
   ],
   "source": [
    "I.doit()"
   ]
  },
  {
   "cell_type": "markdown",
   "metadata": {
    "hidden": true
   },
   "source": [
    "Definimos la integral como una suma de $n$ rectángulos, de ancho $h$. Aunque $n$ no está especificado, la suma se puede obtener de forma cerrada (gracias a que $f$ es sencilla) y pasar al límite."
   ]
  },
  {
   "cell_type": "code",
   "execution_count": 93,
   "metadata": {
    "hidden": true
   },
   "outputs": [],
   "source": [
    "h = (b-a)/n"
   ]
  },
  {
   "cell_type": "code",
   "execution_count": 94,
   "metadata": {
    "hidden": true
   },
   "outputs": [
    {
     "data": {
      "image/png": "[encoded data removed]",
      "text/latex": [
       "$$\\sum_{k=0}^{n - 1} \\frac{1}{n} \\left(- a + b\\right) \\left(a + \\frac{k}{n} \\left(- a + b\\right)\\right)^{2}$$"
      ],
      "text/plain": [
       "n - 1                           \n",
       "_____                           \n",
       "╲                               \n",
       " ╲                             2\n",
       "  ╲            ⎛    k⋅(-a + b)⎞ \n",
       "   ╲  (-a + b)⋅⎜a + ──────────⎟ \n",
       "   ╱           ⎝        n     ⎠ \n",
       "  ╱   ──────────────────────────\n",
       " ╱                n             \n",
       "╱                               \n",
       "‾‾‾‾‾                           \n",
       "k = 0                           "
      ]
     },
     "execution_count": 94,
     "metadata": {},
     "output_type": "execute_result"
    }
   ],
   "source": [
    "S = sym.Sum( h*f(a+k*h), (k,0,n-1))\n",
    "S"
   ]
  },
  {
   "cell_type": "code",
   "execution_count": 95,
   "metadata": {
    "hidden": true
   },
   "outputs": [
    {
     "data": {
      "image/png": "[encoded data removed]",
      "text/latex": [
       "$$\\sum_{k=0}^{n - 1} - \\frac{a^{3}}{n} + \\sum_{k=0}^{n - 1} \\frac{a^{2} b}{n} + \\sum_{k=0}^{n - 1} \\frac{2 k}{n^{2}} a^{3} + \\sum_{k=0}^{n - 1} - \\frac{a^{3} k^{2}}{n^{3}} + \\sum_{k=0}^{n - 1} \\frac{b^{3} k^{2}}{n^{3}} + \\sum_{k=0}^{n - 1} \\frac{2 a}{n^{2}} b^{2} k + \\sum_{k=0}^{n - 1} - \\frac{3 a}{n^{3}} b^{2} k^{2} + \\sum_{k=0}^{n - 1} - \\frac{4 b}{n^{2}} a^{2} k + \\sum_{k=0}^{n - 1} \\frac{3 b}{n^{3}} a^{2} k^{2}$$"
      ],
      "text/plain": [
       "                          n - 1          n - 1           n - 1         n - 1  \n",
       "n - 1        n - 1        _____          _____           _____         _____  \n",
       " ____         ____        ╲              ╲               ╲             ╲      \n",
       " ╲            ╲            ╲       3      ╲      3  2     ╲     3  2    ╲     \n",
       "  ╲     3      ╲    2       ╲   2⋅a ⋅k     ╲   -a ⋅k       ╲   b ⋅k      ╲   2\n",
       "   ╲  -a        ╲  a ⋅b      ╲  ──────      ╲  ───────      ╲  ─────      ╲  ─\n",
       "   ╱  ──── +    ╱  ──── +    ╱     2   +    ╱      3   +    ╱     3  +    ╱   \n",
       "  ╱    n       ╱    n       ╱     n        ╱      n        ╱     n       ╱    \n",
       " ╱            ╱            ╱              ╱               ╱             ╱     \n",
       " ‾‾‾‾         ‾‾‾‾        ╱              ╱               ╱             ╱      \n",
       "k = 0        k = 0        ‾‾‾‾‾          ‾‾‾‾‾           ‾‾‾‾‾         ‾‾‾‾‾  \n",
       "                          k = 0          k = 0           k = 0         k = 0  \n",
       "\n",
       "          n - 1               n - 1              n - 1          \n",
       "          _____               _____              _____          \n",
       "          ╲                   ╲                  ╲              \n",
       "    2      ╲          2  2     ╲        2         ╲       2    2\n",
       "⋅a⋅b ⋅k     ╲   -3⋅a⋅b ⋅k       ╲   -4⋅a ⋅b⋅k      ╲   3⋅a ⋅b⋅k \n",
       "───────      ╲  ───────────      ╲  ──────────      ╲  ─────────\n",
       "   2    +    ╱        3     +    ╱       2     +    ╱       3   \n",
       "  n         ╱        n          ╱       n          ╱       n    \n",
       "           ╱                   ╱                  ╱             \n",
       "          ╱                   ╱                  ╱              \n",
       "          ‾‾‾‾‾               ‾‾‾‾‾              ‾‾‾‾‾          \n",
       "          k = 0               k = 0              k = 0          "
      ]
     },
     "execution_count": 95,
     "metadata": {},
     "output_type": "execute_result"
    }
   ],
   "source": [
    "S.expand()"
   ]
  },
  {
   "cell_type": "code",
   "execution_count": 96,
   "metadata": {
    "hidden": true
   },
   "outputs": [
    {
     "data": {
      "image/png": "[encoded data removed]",
      "text/latex": [
       "$$- a^{3} + \\frac{2 a^{3}}{n^{2}} \\left(\\frac{n^{2}}{2} - \\frac{n}{2}\\right) - \\frac{a^{3}}{n^{3}} \\left(\\frac{n^{3}}{3} - \\frac{n^{2}}{2} + \\frac{n}{6}\\right) + a^{2} b - \\frac{4 b}{n^{2}} a^{2} \\left(\\frac{n^{2}}{2} - \\frac{n}{2}\\right) + \\frac{3 b}{n^{3}} a^{2} \\left(\\frac{n^{3}}{3} - \\frac{n^{2}}{2} + \\frac{n}{6}\\right) + \\frac{2 a}{n^{2}} b^{2} \\left(\\frac{n^{2}}{2} - \\frac{n}{2}\\right) - \\frac{3 a}{n^{3}} b^{2} \\left(\\frac{n^{3}}{3} - \\frac{n^{2}}{2} + \\frac{n}{6}\\right) + \\frac{b^{3}}{n^{3}} \\left(\\frac{n^{3}}{3} - \\frac{n^{2}}{2} + \\frac{n}{6}\\right)$$"
      ],
      "text/plain": [
       "            ⎛ 2    ⎞      ⎛ 3    2    ⎞                 ⎛ 2    ⎞          ⎛ 3 \n",
       "          3 ⎜n    n⎟    3 ⎜n    n    n⎟             2   ⎜n    n⎟      2   ⎜n  \n",
       "       2⋅a ⋅⎜── - ─⎟   a ⋅⎜── - ── + ─⎟          4⋅a ⋅b⋅⎜── - ─⎟   3⋅a ⋅b⋅⎜── \n",
       "   3        ⎝2    2⎠      ⎝3    2    6⎠    2            ⎝2    2⎠          ⎝3  \n",
       "- a  + ───────────── - ──────────────── + a ⋅b - ─────────────── + ───────────\n",
       "              2                3                         2                   3\n",
       "             n                n                         n                   n \n",
       "\n",
       "   2    ⎞          ⎛ 2    ⎞          ⎛ 3    2    ⎞      ⎛ 3    2    ⎞\n",
       "  n    n⎟        2 ⎜n    n⎟        2 ⎜n    n    n⎟    3 ⎜n    n    n⎟\n",
       "- ── + ─⎟   2⋅a⋅b ⋅⎜── - ─⎟   3⋅a⋅b ⋅⎜── - ── + ─⎟   b ⋅⎜── - ── + ─⎟\n",
       "  2    6⎠          ⎝2    2⎠          ⎝3    2    6⎠      ⎝3    2    6⎠\n",
       "───────── + ─────────────── - ──────────────────── + ────────────────\n",
       "                    2                   3                    3       \n",
       "                   n                   n                    n        "
      ]
     },
     "execution_count": 96,
     "metadata": {},
     "output_type": "execute_result"
    }
   ],
   "source": [
    "S.doit()"
   ]
  },
  {
   "cell_type": "code",
   "execution_count": 97,
   "metadata": {
    "hidden": true
   },
   "outputs": [
    {
     "data": {
      "image/png": "[encoded data removed]",
      "text/latex": [
       "$$- \\frac{a^{3}}{3} + \\frac{b^{3}}{3}$$"
      ],
      "text/plain": [
       "   3    3\n",
       "  a    b \n",
       "- ── + ──\n",
       "  3    3 "
      ]
     },
     "execution_count": 97,
     "metadata": {},
     "output_type": "execute_result"
    }
   ],
   "source": [
    "sym.Limit(S,n,oo).doit()"
   ]
  },
  {
   "cell_type": "markdown",
   "metadata": {
    "heading_collapsed": true
   },
   "source": [
    "### Caso de estudio: teorema de Cayley-Hamilton"
   ]
  },
  {
   "cell_type": "markdown",
   "metadata": {
    "hidden": true
   },
   "source": [
    "Una matriz es raíz de su polinomio característico ([Teorema de Cayley-Hamilton](https://en.wikipedia.org/wiki/Cayley%E2%80%93Hamilton_theorem))."
   ]
  },
  {
   "cell_type": "code",
   "execution_count": 98,
   "metadata": {
    "hidden": true
   },
   "outputs": [],
   "source": [
    "x,a = symbols('x a')"
   ]
  },
  {
   "cell_type": "code",
   "execution_count": 99,
   "metadata": {
    "hidden": true
   },
   "outputs": [
    {
     "data": {
      "image/png": "[encoded data removed]",
      "text/latex": [
       "$$\\left[\\begin{matrix}1 & 2 & 3\\\\3 & 4 & 1\\\\2 & 2 & 7\\end{matrix}\\right]$$"
      ],
      "text/plain": [
       "⎡1  2  3⎤\n",
       "⎢       ⎥\n",
       "⎢3  4  1⎥\n",
       "⎢       ⎥\n",
       "⎣2  2  7⎦"
      ]
     },
     "execution_count": 99,
     "metadata": {},
     "output_type": "execute_result"
    }
   ],
   "source": [
    "m = sym.Matrix( [[1,2,3],[3,4,1],[2,2,7]] )\n",
    "m"
   ]
  },
  {
   "cell_type": "code",
   "execution_count": 100,
   "metadata": {
    "hidden": true
   },
   "outputs": [
    {
     "data": {
      "image/png": "[encoded data removed]",
      "text/latex": [
       "$$- a^{3} + 12 a^{2} - 25 a - 18$$"
      ],
      "text/plain": [
       "   3       2            \n",
       "- a  + 12⋅a  - 25⋅a - 18"
      ]
     },
     "execution_count": 100,
     "metadata": {},
     "output_type": "execute_result"
    }
   ],
   "source": [
    "I = sym.eye(m.shape[0])\n",
    "\n",
    "p = sym.det(m-a*I).simplify()\n",
    "p"
   ]
  },
  {
   "cell_type": "code",
   "execution_count": 101,
   "metadata": {
    "hidden": true
   },
   "outputs": [
    {
     "data": {
      "image/png": "[encoded data removed]",
      "text/latex": [
       "$$\\left[\\begin{matrix}-18 & 0 & 0\\\\0 & -18 & 0\\\\0 & 0 & -18\\end{matrix}\\right] + -25 b + -1 b^{3} + 12 b^{2}$$"
      ],
      "text/plain": [
       "⎡-18   0    0 ⎤                      \n",
       "⎢             ⎥             3       2\n",
       "⎢ 0   -18   0 ⎥ + -25⋅b + -b  + 12⋅b \n",
       "⎢             ⎥                      \n",
       "⎣ 0    0   -18⎦                      "
      ]
     },
     "execution_count": 101,
     "metadata": {},
     "output_type": "execute_result"
    }
   ],
   "source": [
    "b = sym.MatrixSymbol('b',3,3)\n",
    "\n",
    "q = (-b**3+12*b**2-25*b-18*I)\n",
    "q"
   ]
  },
  {
   "cell_type": "code",
   "execution_count": 102,
   "metadata": {
    "hidden": true
   },
   "outputs": [
    {
     "data": {
      "image/png": "[encoded data removed]",
      "text/latex": [
       "$$\\left[\\begin{matrix}-18 & 0 & 0\\\\0 & -18 & 0\\\\0 & 0 & -18\\end{matrix}\\right] + -25 \\left[\\begin{matrix}1 & 2 & 3\\\\3 & 4 & 1\\\\2 & 2 & 7\\end{matrix}\\right] + -1 \\left(\\left[\\begin{matrix}1 & 2 & 3\\\\3 & 4 & 1\\\\2 & 2 & 7\\end{matrix}\\right]\\right)^{3} + 12 \\left(\\left[\\begin{matrix}1 & 2 & 3\\\\3 & 4 & 1\\\\2 & 2 & 7\\end{matrix}\\right]\\right)^{2}$$"
      ],
      "text/plain": [
       "                                              3                 2\n",
       "⎡-18   0    0 ⎤       ⎡1  2  3⎤    ⎛⎡1  2  3⎤⎞       ⎛⎡1  2  3⎤⎞ \n",
       "⎢             ⎥       ⎢       ⎥    ⎜⎢       ⎥⎟       ⎜⎢       ⎥⎟ \n",
       "⎢ 0   -18   0 ⎥ + -25⋅⎢3  4  1⎥ + -⎜⎢3  4  1⎥⎟  + 12⋅⎜⎢3  4  1⎥⎟ \n",
       "⎢             ⎥       ⎢       ⎥    ⎜⎢       ⎥⎟       ⎜⎢       ⎥⎟ \n",
       "⎣ 0    0   -18⎦       ⎣2  2  7⎦    ⎝⎣2  2  7⎦⎠       ⎝⎣2  2  7⎦⎠ "
      ]
     },
     "execution_count": 102,
     "metadata": {},
     "output_type": "execute_result"
    }
   ],
   "source": [
    "q.subs({b:m})"
   ]
  },
  {
   "cell_type": "code",
   "execution_count": 103,
   "metadata": {
    "hidden": true
   },
   "outputs": [
    {
     "data": {
      "image/png": "[encoded data removed]",
      "text/latex": [
       "$$\\left[\\begin{matrix}0 & 0 & 0\\\\0 & 0 & 0\\\\0 & 0 & 0\\end{matrix}\\right]$$"
      ],
      "text/plain": [
       "⎡0  0  0⎤\n",
       "⎢       ⎥\n",
       "⎢0  0  0⎥\n",
       "⎢       ⎥\n",
       "⎣0  0  0⎦"
      ]
     },
     "execution_count": 103,
     "metadata": {},
     "output_type": "execute_result"
    }
   ],
   "source": [
    "q.subs({b:m}).doit()"
   ]
  },
  {
   "cell_type": "markdown",
   "metadata": {
    "hidden": true
   },
   "source": [
    "Es posible convertir automáticamente el polinomio escalar `p` en la expresión matricial `q`. Una forma de hacerlo es a través de la representación textual."
   ]
  },
  {
   "cell_type": "code",
   "execution_count": 104,
   "metadata": {
    "hidden": true
   },
   "outputs": [
    {
     "data": {
      "image/png": "[encoded data removed]",
      "text/latex": [
       "$$\\left[\\begin{matrix}-18 & 0 & 0\\\\0 & -18 & 0\\\\0 & 0 & -18\\end{matrix}\\right] + -25 a + -1 a^{3} + 12 a^{2}$$"
      ],
      "text/plain": [
       "⎡-18   0    0 ⎤                      \n",
       "⎢             ⎥             3       2\n",
       "⎢ 0   -18   0 ⎥ + -25⋅a + -a  + 12⋅a \n",
       "⎢             ⎥                      \n",
       "⎣ 0    0   -18⎦                      "
      ]
     },
     "execution_count": 104,
     "metadata": {},
     "output_type": "execute_result"
    }
   ],
   "source": [
    "ti = p.subs({a:0})\n",
    "sym.sympify(repr(p-ti),locals={'a':sym.MatrixSymbol('a',3,3)}) + ti*I"
   ]
  },
  {
   "cell_type": "markdown",
   "metadata": {
    "hidden": true
   },
   "source": [
    "Extraemos el término independiente del polinomio para añadirlo como coeficiente de la matriz identidad. En `sympy` las matrices y los símbolos matriz se pueden multiplicar por escalares pero no sumar."
   ]
  }
 ],
 "metadata": {
  "hide_input": false,
  "kernelspec": {
   "display_name": "Python 3",
   "language": "python",
   "name": "python3"
  },
  "language_info": {
   "codemirror_mode": {
    "name": "ipython",
    "version": 3
   },
   "file_extension": ".py",
   "mimetype": "text/x-python",
   "name": "python",
   "nbconvert_exporter": "python",
   "pygments_lexer": "ipython3",
   "version": "3.6.3"
  },
  "varInspector": {
   "cols": {
    "lenName": 16,
    "lenType": 16,
    "lenVar": 40
   },
   "kernels_config": {
    "python": {
     "delete_cmd_postfix": "",
     "delete_cmd_prefix": "del ",
     "library": "var_list.py",
     "varRefreshCmd": "print(var_dic_list())"
    },
    "r": {
     "delete_cmd_postfix": ") ",
     "delete_cmd_prefix": "rm(",
     "library": "var_list.r",
     "varRefreshCmd": "cat(var_dic_list()) "
    }
   },
   "types_to_exclude": [
    "module",
    "function",
    "builtin_function_or_method",
    "instance",
    "_Feature"
   ],
   "window_display": false
  }
 },
 "nbformat": 4,
 "nbformat_minor": 2
}
