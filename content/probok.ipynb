{
  "metadata": {
    "hide_input": false,
    "nbTranslate": {
      "displayLangs": [
        "es"
      ],
      "hotkey": "alt-t",
      "langInMainMenu": true,
      "sourceLang": "es",
      "targetLang": "en",
      "useGoogleTranslate": true
    },
    "varInspector": {
      "cols": {
        "lenName": 16,
        "lenType": 16,
        "lenVar": 40
      },
      "kernels_config": {
        "python": {
          "delete_cmd_postfix": "",
          "delete_cmd_prefix": "del ",
          "library": "var_list.py",
          "varRefreshCmd": "print(var_dic_list())"
        },
        "r": {
          "delete_cmd_postfix": ") ",
          "delete_cmd_prefix": "rm(",
          "library": "var_list.r",
          "varRefreshCmd": "cat(var_dic_list()) "
        }
      },
      "types_to_exclude": [
        "module",
        "function",
        "builtin_function_or_method",
        "instance",
        "_Feature"
      ],
      "window_display": false
    },
    "kernelspec": {
      "name": "python",
      "display_name": "Python (Pyodide)",
      "language": "python"
    },
    "language_info": {
      "codemirror_mode": {
        "name": "python",
        "version": 3
      },
      "file_extension": ".py",
      "mimetype": "text/x-python",
      "name": "python",
      "nbconvert_exporter": "python",
      "pygments_lexer": "ipython3",
      "version": "3.8"
    }
  },
  "nbformat_minor": 4,
  "nbformat": 4,
  "cells": [
    {
      "cell_type": "markdown",
      "source": "# Inferencia Probabilística\n\n<span style=\"color: gray\">dic 2019</span><br>\n[*Alberto Ruiz*](http://dis.um.es/profesores/alberto)\n",
      "metadata": {
        "lang": "es"
      }
    },
    {
      "cell_type": "markdown",
      "source": "## 1. Cálculo de probabilidades",
      "metadata": {}
    },
    {
      "cell_type": "markdown",
      "source": "### Reglas básicas",
      "metadata": {
        "heading_collapsed": true,
        "lang": "es"
      }
    },
    {
      "cell_type": "markdown",
      "source": "El cálculo de probabilidades se reduce a tres operaciones elementales:\n\n1) **conjunción** de experimentos:\n\n$$p(x,y) = p(x|y) \\, p(y)$$\n\n2) **marginalización** de las variables deseadas:\n\n$$p(x) = \\sum_y \\, p(x,y)$$\n\n3) **condicionamiento** a los sucesos que nos interesan:\n\n$$p(x|y) = \\frac{p(x,y)}{p(y)} $$",
      "metadata": {
        "hidden": true
      }
    },
    {
      "cell_type": "markdown",
      "source": "La distribución conjunta es una especie de producto cartesiano de posibilidades. La marginalización es simplemente la aplicación de una cierta función (no necesariamente la selección de componentes) a los casos posibles, acumulando los resultados iguales. Y el condicionamiento se reduce a filtrar los casos que cumplen la condición y normalizar.",
      "metadata": {
        "hidden": true
      }
    },
    {
      "cell_type": "markdown",
      "source": "### Computación probabilística",
      "metadata": {
        "heading_collapsed": true
      }
    },
    {
      "cell_type": "markdown",
      "source": "La implementación de estas operaciones básicas sobre variables aleatorias discretas es sencilla. En este documento vamos a usar un módulo experimental que trata de proporcionar una sintaxis intuitiva.\n\n- Una variable aleatoria se representa mediante un objeto `P` que contiene una lista de sucesos posibles y sus probabilidades asociadas.\n\n\n- La función `joint` implementa la conjunción de una lista de variables. Admite tanto variables independientes como variables condicionadas expresadas como funciones o diccionarios. Para dos variables usamos el operador `&`. El resultado es una tupla en la que se concatenan los elementos de las variables iniciales.\n\n\n- El método `conditional` acepta un predicado. Puede abreviarse con el operador `|`\n\n\n- El método `marginal` acepta cualquier función. Puede abreviarse con `>>` o `<<`.\n\n\n- Otras utilidades son: `sample`, `mean`, `median`, `mode`, `evidence`, `transform`, `prob`, `show`, `showhdi`.\n\n\n- Importamos `repeat` y `Counter` y definimos `uniform`, `bernoulli`, `S`, `equal`.\n\nVeamos algunos ejemplos.",
      "metadata": {
        "hidden": true,
        "lang": "es"
      }
    },
    {
      "cell_type": "code",
      "source": "import numpy as np\nimport matplotlib.pyplot as plt\n%matplotlib inline\n\nimport umucv.prob as pr\n\nfrom itertools import repeat\nfrom collections import Counter\n\ndef uniform(s):\n    return pr.P({x : 1 for x in s})\n\ndef bernoulli(p,a,b):\n    return pr.P({a:p, b:1-p},norm=False)\n\ndef S(k):\n    return lambda x: x[k]\n\ndef equal(k,v):\n    return lambda x: x[k] == v",
      "metadata": {
        "hidden": true,
        "lang": "es",
        "trusted": true
      },
      "execution_count": null,
      "outputs": []
    },
    {
      "cell_type": "markdown",
      "source": "### Variables aleatorias",
      "metadata": {
        "heading_collapsed": true
      }
    },
    {
      "cell_type": "markdown",
      "source": "Una variable aleatoria se caracteriza por las probabilidades que tienen los sucesos posibles. Un caso muy frecuente es la distribución uniforme:",
      "metadata": {
        "hidden": true
      }
    },
    {
      "cell_type": "code",
      "source": "def uniform(s):\n    return pr.P({x : 1 for x in s})",
      "metadata": {
        "hidden": true,
        "trusted": true
      },
      "execution_count": null,
      "outputs": []
    },
    {
      "cell_type": "markdown",
      "source": "Una moneda equilibrada se puede modelar así:",
      "metadata": {
        "hidden": true
      }
    },
    {
      "cell_type": "code",
      "source": "moneda = uniform([\"cara\", \"cruz\"])",
      "metadata": {
        "hidden": true,
        "trusted": true
      },
      "execution_count": null,
      "outputs": []
    },
    {
      "cell_type": "code",
      "source": "moneda",
      "metadata": {
        "hidden": true,
        "trusted": true
      },
      "execution_count": null,
      "outputs": []
    },
    {
      "cell_type": "code",
      "source": "print(moneda)",
      "metadata": {
        "hidden": true,
        "trusted": true
      },
      "execution_count": null,
      "outputs": []
    },
    {
      "cell_type": "code",
      "source": "#plt.rcParams['figure.figsize'] = (10, 5)",
      "metadata": {
        "trusted": true
      },
      "execution_count": null,
      "outputs": []
    },
    {
      "cell_type": "code",
      "source": "pr.show(moneda)",
      "metadata": {
        "hidden": true,
        "trusted": true
      },
      "execution_count": null,
      "outputs": []
    },
    {
      "cell_type": "markdown",
      "source": "Una operación natural sobre una variable aleatoria es simular un cierto número de \"realizaciones\" del experimento.",
      "metadata": {
        "hidden": true
      }
    },
    {
      "cell_type": "code",
      "source": "lanzamientos = moneda.sample(50)\nprint(lanzamientos)\nCounter(lanzamientos)",
      "metadata": {
        "hidden": true,
        "trusted": true
      },
      "execution_count": null,
      "outputs": []
    },
    {
      "cell_type": "markdown",
      "source": "Una variable aleatoria de tipo Bernoulli modela un suceso \"binario\" que tiene una cierta probabilidad de éxito.",
      "metadata": {
        "hidden": true
      }
    },
    {
      "cell_type": "code",
      "source": "# experimento que produce a con probabilidad p\ndef bernoulli(p,a,b):\n    return pr.P({a:p, b:1-p},norm=False)",
      "metadata": {
        "hidden": true,
        "trusted": true
      },
      "execution_count": null,
      "outputs": []
    },
    {
      "cell_type": "code",
      "source": "trucada = bernoulli(0.6,\"cara\",\"cruz\")\nprint(trucada)\npr.show(trucada)",
      "metadata": {
        "hidden": true,
        "trusted": true
      },
      "execution_count": null,
      "outputs": []
    },
    {
      "cell_type": "code",
      "source": "lanzamientos = trucada.sample(50)\nprint(lanzamientos)\nCounter(lanzamientos)",
      "metadata": {
        "hidden": true,
        "trusted": true
      },
      "execution_count": null,
      "outputs": []
    },
    {
      "cell_type": "markdown",
      "source": "Un dado genérico de n caras, equilibrado:",
      "metadata": {
        "hidden": true
      }
    },
    {
      "cell_type": "code",
      "source": "gdado = lambda n: uniform(range(1,n+1))\n\ndado = gdado(6)\nprint(dado)\npr.show(dado)",
      "metadata": {
        "hidden": true,
        "trusted": true
      },
      "execution_count": null,
      "outputs": []
    },
    {
      "cell_type": "markdown",
      "source": "Un dado desequilibrado:",
      "metadata": {
        "hidden": true
      }
    },
    {
      "cell_type": "code",
      "source": "dadomalo = pr.P({1:1, 2:1, 3:1, 4:1, 5:1, 6:2})\nprint(dadomalo)\npr.show(dadomalo)",
      "metadata": {
        "hidden": true,
        "trusted": true
      },
      "execution_count": null,
      "outputs": []
    },
    {
      "cell_type": "code",
      "source": "dadomalo.sample(10)",
      "metadata": {
        "hidden": true,
        "trusted": true
      },
      "execution_count": null,
      "outputs": []
    },
    {
      "cell_type": "markdown",
      "source": "Jaynes propone medir una probabilidad (mejor dicho, el *odds ratio*) en *decibelios*.",
      "metadata": {
        "hidden": true
      }
    },
    {
      "cell_type": "code",
      "source": "pr.evidence(pr.P({'A':1000, 'B':1})['A'])",
      "metadata": {
        "hidden": true,
        "trusted": true
      },
      "execution_count": null,
      "outputs": []
    },
    {
      "cell_type": "markdown",
      "source": "### Conjunción de experimentos independientes",
      "metadata": {
        "heading_collapsed": true
      }
    },
    {
      "cell_type": "markdown",
      "source": "Lanzamiento de un dado y una moneda:",
      "metadata": {
        "hidden": true
      }
    },
    {
      "cell_type": "code",
      "source": "experimento = dado & moneda\n\nprint(experimento)\n\nprint(experimento.sample(5))",
      "metadata": {
        "hidden": true,
        "trusted": true
      },
      "execution_count": null,
      "outputs": []
    },
    {
      "cell_type": "markdown",
      "source": "Lanzamiento de 3 monedas:",
      "metadata": {
        "hidden": true
      }
    },
    {
      "cell_type": "code",
      "source": "print(pr.joint(repeat(moneda,3)))",
      "metadata": {
        "hidden": true,
        "trusted": true
      },
      "execution_count": null,
      "outputs": []
    },
    {
      "cell_type": "markdown",
      "source": "### Marginalización",
      "metadata": {
        "heading_collapsed": true
      }
    },
    {
      "cell_type": "markdown",
      "source": "La suma de dos dados:",
      "metadata": {
        "hidden": true
      }
    },
    {
      "cell_type": "code",
      "source": "print( sum << (dado & dado) )",
      "metadata": {
        "hidden": true,
        "trusted": true
      },
      "execution_count": null,
      "outputs": []
    },
    {
      "cell_type": "markdown",
      "source": "El número de caras al lanzar cuatro monedas:",
      "metadata": {
        "hidden": true
      }
    },
    {
      "cell_type": "code",
      "source": "print( pr.joint(repeat(moneda,4)) >> (lambda x: Counter(x)['cara']) )",
      "metadata": {
        "hidden": true,
        "trusted": true
      },
      "execution_count": null,
      "outputs": []
    },
    {
      "cell_type": "markdown",
      "source": "La probabilidad de obtener al menos 3 caras al lanzar 4 monedas. Expresado como la marginalización de un predicado:",
      "metadata": {
        "hidden": true
      }
    },
    {
      "cell_type": "code",
      "source": "print( pr.joint(repeat(moneda,4)) >> (lambda x: Counter(x)['cara'] >= 3) )",
      "metadata": {
        "hidden": true,
        "trusted": true
      },
      "execution_count": null,
      "outputs": []
    },
    {
      "cell_type": "markdown",
      "source": "Lo mismo expresado con el método `prob`:",
      "metadata": {
        "hidden": true
      }
    },
    {
      "cell_type": "code",
      "source": "pr.joint(repeat(moneda,4)).prob( lambda x: Counter(x)['cara'] >= 3 ) ",
      "metadata": {
        "hidden": true,
        "trusted": true
      },
      "execution_count": null,
      "outputs": []
    },
    {
      "cell_type": "markdown",
      "source": "Para abreviar el código añadimos una función para extraer un componente dado de una tupla.",
      "metadata": {
        "hidden": true
      }
    },
    {
      "cell_type": "code",
      "source": "def S(k):\n    return lambda x: x[k]",
      "metadata": {
        "hidden": true,
        "trusted": true
      },
      "execution_count": null,
      "outputs": []
    },
    {
      "cell_type": "markdown",
      "source": "Al marginalizar una variable independiente de otras se obtiene la misma variable:",
      "metadata": {
        "hidden": true
      }
    },
    {
      "cell_type": "code",
      "source": "print( (dado & trucada & moneda) >> S(1) )",
      "metadata": {
        "hidden": true,
        "trusted": true
      },
      "execution_count": null,
      "outputs": []
    },
    {
      "cell_type": "markdown",
      "source": "La suma de $n$ dados:",
      "metadata": {
        "hidden": true
      }
    },
    {
      "cell_type": "code",
      "source": "dados = lambda n: pr.joint(repeat(dado,n)) >> sum",
      "metadata": {
        "hidden": true,
        "trusted": true
      },
      "execution_count": null,
      "outputs": []
    },
    {
      "cell_type": "markdown",
      "source": "El 95% de las veces la suma de 3 dados está entre 6 y 15:",
      "metadata": {
        "hidden": true
      }
    },
    {
      "cell_type": "code",
      "source": "pr.show(dados(3))\npr.showhdi(dados(3),95)",
      "metadata": {
        "hidden": true,
        "trusted": true
      },
      "execution_count": null,
      "outputs": []
    },
    {
      "cell_type": "markdown",
      "source": "El máximo de 2 dados:",
      "metadata": {
        "hidden": true
      }
    },
    {
      "cell_type": "code",
      "source": "pr.show( max << (dado & dado) )",
      "metadata": {
        "hidden": true,
        "trusted": true
      },
      "execution_count": null,
      "outputs": []
    },
    {
      "cell_type": "markdown",
      "source": "La diferencia entre la máxima y la mínima puntuación al lanzar 3 dados:",
      "metadata": {
        "hidden": true
      }
    },
    {
      "cell_type": "code",
      "source": "exper = (lambda x: max(x) - min(x)) << pr.joint(repeat(dado,3)) \n\npr.show(exper)",
      "metadata": {
        "hidden": true,
        "trusted": true
      },
      "execution_count": null,
      "outputs": []
    },
    {
      "cell_type": "markdown",
      "source": "Características de la distribución:",
      "metadata": {
        "hidden": true
      }
    },
    {
      "cell_type": "code",
      "source": "exper.mean()",
      "metadata": {
        "hidden": true,
        "trusted": true
      },
      "execution_count": null,
      "outputs": []
    },
    {
      "cell_type": "code",
      "source": "exper.median()",
      "metadata": {
        "hidden": true,
        "trusted": true
      },
      "execution_count": null,
      "outputs": []
    },
    {
      "cell_type": "code",
      "source": "exper.mode()",
      "metadata": {
        "hidden": true,
        "trusted": true
      },
      "execution_count": null,
      "outputs": []
    },
    {
      "cell_type": "markdown",
      "source": "### Teorema central del límite",
      "metadata": {
        "heading_collapsed": true
      }
    },
    {
      "cell_type": "markdown",
      "source": "Bajo condiciones bastante generales la suma de variables aleatorias arbitrarias se aproxima a una campana de Gauss.",
      "metadata": {
        "hidden": true
      }
    },
    {
      "cell_type": "code",
      "source": "raro = pr.P({1: 11, 2: 5, 3:1 , 4: 3, 5: 7, 6:9})\npr.show(raro)",
      "metadata": {
        "hidden": true,
        "trusted": true
      },
      "execution_count": null,
      "outputs": []
    },
    {
      "cell_type": "code",
      "source": "pr.show (sum << pr.joint(repeat(raro,5)))",
      "metadata": {
        "hidden": true,
        "trusted": true
      },
      "execution_count": null,
      "outputs": []
    },
    {
      "cell_type": "markdown",
      "source": "### Monty Hall",
      "metadata": {
        "heading_collapsed": true
      }
    },
    {
      "cell_type": "markdown",
      "source": "Hay tres puertas. Detras de una hay un tesoro. Elegimos una de ellas. Nos abren otra, que está vacía. ¿Interesa cambiar?",
      "metadata": {
        "hidden": true
      }
    },
    {
      "cell_type": "code",
      "source": "doors = {\"A\",\"B\",\"C\"}\nprize = uniform(doors)\nguess = uniform(doors)\n\npremio, adiv, abierta, cambiar = 0,1,2,3\n\ndef open(s):\n    return uniform( doors - {s[premio] , s[adiv]} )\n\ndef change(s):\n    return uniform( doors - {s[adiv] , s[abierta]} )\n\nmonty = prize & guess & open & change\nprint(monty)",
      "metadata": {
        "hidden": true,
        "trusted": true
      },
      "execution_count": null,
      "outputs": []
    },
    {
      "cell_type": "markdown",
      "source": "¿Cuál es la probabilidad de que la puerta con el premio sea la misma que se adivinó al principio?",
      "metadata": {
        "hidden": true
      }
    },
    {
      "cell_type": "code",
      "source": "monty.prob( lambda s: s[premio]==s[adiv])",
      "metadata": {
        "hidden": true,
        "trusted": true
      },
      "execution_count": null,
      "outputs": []
    },
    {
      "cell_type": "markdown",
      "source": "¿Cuál es la probabilidad de que la puerta con el premio sea la que dejan cerrada?",
      "metadata": {
        "hidden": true
      }
    },
    {
      "cell_type": "code",
      "source": "monty.prob( lambda s: s[premio]==s[cambiar])",
      "metadata": {
        "hidden": true,
        "trusted": true
      },
      "execution_count": null,
      "outputs": []
    },
    {
      "cell_type": "markdown",
      "source": "### Newton - Pepys",
      "metadata": {
        "heading_collapsed": true
      }
    },
    {
      "cell_type": "markdown",
      "source": "Probabilidad de obtener al menos $n$ seises al lanzar $6n$ dados ([Newton-Pepys problem](https://en.wikipedia.org/wiki/Newton%E2%80%93Pepys_problem))",
      "metadata": {
        "hidden": true
      }
    },
    {
      "cell_type": "code",
      "source": "def newtonpepys(n):\n    exper = pr.joint(repeat(dado,6*n))\n    def ok(r):\n        return Counter(r)[6] >= n\n    return exper.prob(ok)",
      "metadata": {
        "hidden": true,
        "trusted": true
      },
      "execution_count": null,
      "outputs": []
    },
    {
      "cell_type": "code",
      "source": "%%time\n\nnewtonpepys(1)",
      "metadata": {
        "hidden": true,
        "trusted": true
      },
      "execution_count": null,
      "outputs": []
    },
    {
      "cell_type": "code",
      "source": "6**6",
      "metadata": {
        "hidden": true,
        "trusted": true
      },
      "execution_count": null,
      "outputs": []
    },
    {
      "cell_type": "markdown",
      "source": "Este problema es intratable para $n>1$. Pero se puede resolver de forma aproximada muestreando.",
      "metadata": {
        "hidden": true
      }
    },
    {
      "cell_type": "code",
      "source": "def newtonpepyssampled(n, size=10000):\n    return np.mean([Counter(dado.sample(6*n))[6] >= n for j in range(size)])",
      "metadata": {
        "hidden": true,
        "trusted": true
      },
      "execution_count": null,
      "outputs": []
    },
    {
      "cell_type": "code",
      "source": "newtonpepyssampled(1)",
      "metadata": {
        "hidden": true,
        "trusted": true
      },
      "execution_count": null,
      "outputs": []
    },
    {
      "cell_type": "code",
      "source": "newtonpepyssampled(2)",
      "metadata": {
        "hidden": true,
        "trusted": true
      },
      "execution_count": null,
      "outputs": []
    },
    {
      "cell_type": "code",
      "source": "newtonpepyssampled(3)",
      "metadata": {
        "hidden": true,
        "trusted": true
      },
      "execution_count": null,
      "outputs": []
    },
    {
      "cell_type": "markdown",
      "source": "### Probabilidad condicionada",
      "metadata": {
        "heading_collapsed": true
      }
    },
    {
      "cell_type": "markdown",
      "source": "¿Qué probabilidad tienen las puntuaciones de un dado si sale un resultado mayor que 3?",
      "metadata": {
        "hidden": true
      }
    },
    {
      "cell_type": "code",
      "source": "print( dado | (lambda x: x>3) )",
      "metadata": {
        "hidden": true,
        "trusted": true
      },
      "execution_count": null,
      "outputs": []
    },
    {
      "cell_type": "markdown",
      "source": "¿Qué probabilidades tienen las posibles puntuaciones al lanzar dos dados si suman 5?",
      "metadata": {
        "hidden": true
      }
    },
    {
      "cell_type": "code",
      "source": "print( dado & dado | (lambda x: sum(x)== 5) )",
      "metadata": {
        "hidden": true,
        "trusted": true
      },
      "execution_count": null,
      "outputs": []
    },
    {
      "cell_type": "markdown",
      "source": "### Experimentos dependientes",
      "metadata": {
        "heading_collapsed": true
      }
    },
    {
      "cell_type": "markdown",
      "source": "Lanzamos una moneda. Si sale cara tiramos un solo dado. Si sale cruz tiramos dos.",
      "metadata": {
        "hidden": true
      }
    },
    {
      "cell_type": "code",
      "source": "experimento = moneda & {'cara': dados(1), 'cruz': dados(2)}\n\nprint( experimento )",
      "metadata": {
        "hidden": true,
        "trusted": true
      },
      "execution_count": null,
      "outputs": []
    },
    {
      "cell_type": "markdown",
      "source": "¿Qué distribución de probabilidad tiene la puntuación total obtenida?",
      "metadata": {
        "hidden": true
      }
    },
    {
      "cell_type": "code",
      "source": "pr.show( experimento >> S(1) )",
      "metadata": {
        "hidden": true,
        "trusted": true
      },
      "execution_count": null,
      "outputs": []
    },
    {
      "cell_type": "markdown",
      "source": "El mismo resultado con el método `transform`, que automáticamente construye la conjunta y marginaliza:",
      "metadata": {
        "hidden": true
      }
    },
    {
      "cell_type": "code",
      "source": "pr.show( moneda.transform( {'cara': dados(1), 'cruz': dados(2)} ), ticks=True)",
      "metadata": {
        "hidden": true,
        "trusted": true
      },
      "execution_count": null,
      "outputs": []
    },
    {
      "cell_type": "markdown",
      "source": "Lanzamos un primer dado. La puntuación obtenida nos dice el número de dados que debemos lanzar para obtener la puntuación final. ¿Cuál es la distribución de puntuaciones de este experimento?",
      "metadata": {
        "hidden": true
      }
    },
    {
      "cell_type": "code",
      "source": "pr.show((dado & dados) >> S(1))",
      "metadata": {
        "hidden": true,
        "trusted": true
      },
      "execution_count": null,
      "outputs": []
    },
    {
      "cell_type": "code",
      "source": "pr.show( dado.transform(dados) )",
      "metadata": {
        "hidden": true,
        "trusted": true
      },
      "execution_count": null,
      "outputs": []
    },
    {
      "cell_type": "markdown",
      "source": "## 2. Inferencia Bayesiana",
      "metadata": {}
    },
    {
      "cell_type": "markdown",
      "source": "### Regla de Bayes",
      "metadata": {
        "heading_collapsed": true
      }
    },
    {
      "cell_type": "markdown",
      "source": "En muchos casos el experimento se define mediante una probabilidad \"a priori\" $p(A)$ y un \"modelo de observación\" $p(B|A)$, pero lo que nos interesa es la probabilidad condicionada contraria $p(A|B)$.",
      "metadata": {
        "hidden": true
      }
    },
    {
      "cell_type": "markdown",
      "source": "Por ejemplo, en el experimento anterior, donde lanzamos uno o dos dados dependiendo de un lanzamiento de moneda que no hemos visto, si la puntuación total obtenida es 6, ¿que es más probable que haya salido en la moneda?",
      "metadata": {
        "hidden": true
      }
    },
    {
      "cell_type": "code",
      "source": "experimento = moneda & {'cara': dados(1), 'cruz': dados(2)}",
      "metadata": {
        "hidden": true,
        "trusted": true
      },
      "execution_count": null,
      "outputs": []
    },
    {
      "cell_type": "markdown",
      "source": "De nuevo, para simplificar el código, definimos una función auxiliar para comprobar si un elemento de una tupla tiene un valor concreto.",
      "metadata": {
        "hidden": true
      }
    },
    {
      "cell_type": "code",
      "source": "def equal(k,v):\n    return lambda x: x[k] == v",
      "metadata": {
        "hidden": true,
        "trusted": true
      },
      "execution_count": null,
      "outputs": []
    },
    {
      "cell_type": "code",
      "source": "print(( experimento | equal(1 , 6)) )",
      "metadata": {
        "hidden": true,
        "trusted": true
      },
      "execution_count": null,
      "outputs": []
    },
    {
      "cell_type": "markdown",
      "source": "### Clasificación bayesiana",
      "metadata": {
        "heading_collapsed": true
      }
    },
    {
      "cell_type": "markdown",
      "source": "Deseamos reconocer dos clases de objetos a partir de la observación de una cierta propiedad. En la clase C1 esta propiedad toma valores más bajos y concentrados, y en la clase C2 suele tomar valores más altos y dispersos. Además sabemos que la clase C2 es algo más probable. Esta situación puede modelarse de la forma siguiente (el uso de dados aquí es una forma rápida de generar distribuciones con la forma deseada).",
      "metadata": {
        "hidden": true
      }
    },
    {
      "cell_type": "code",
      "source": "prior  = bernoulli(0.4, 'C1', 'C2')\nsensor = {'C1': dados(3), 'C2': dados(5)}\n\npr.show(sensor['C1'],alpha=0.5)\npr.show(sensor['C2'],alpha=0.5)",
      "metadata": {
        "hidden": true,
        "trusted": true
      },
      "execution_count": null,
      "outputs": []
    },
    {
      "cell_type": "markdown",
      "source": "Las realizaciones más frecuentes son las siguientes:",
      "metadata": {
        "hidden": true
      }
    },
    {
      "cell_type": "code",
      "source": "def typical(p):\n    return sorted(p.items(), key=lambda x: x[1], reverse=True)[:10]\n\nmodel = prior & sensor\ntypical( model )",
      "metadata": {
        "hidden": true,
        "trusted": true
      },
      "execution_count": null,
      "outputs": []
    },
    {
      "cell_type": "markdown",
      "source": "Pero, por supuesto, la clase no es observable. Sin embargo, podemos actualizar su distribución de probabilidad si observamos la propiedad:",
      "metadata": {
        "hidden": true
      }
    },
    {
      "cell_type": "code",
      "source": "posterior = model | equal(1, 16)\n\nprint (posterior )",
      "metadata": {
        "hidden": true,
        "trusted": true
      },
      "execution_count": null,
      "outputs": []
    },
    {
      "cell_type": "markdown",
      "source": "Es importante calcular el error de clasificación intrínseco del problema (Error de Bayes). Es la probabilidad de error de la regla de decisión óptima (decidir la clase más probable a posteriori), que se calcula como la integral del mínimo de las densidades condicionadas ponderadas con las probabilidades a priori. Es simplemente el área de solapamiento.",
      "metadata": {
        "hidden": true
      }
    },
    {
      "cell_type": "code",
      "source": "pr.show(sensor['C1'],alpha=0.5)\npr.show(sensor['C2'],alpha=0.5)\nx,y = zip(*sensor['C1'].items())\nplt.plot(x,np.array(y)*prior['C1']);\nx,y = zip(*sensor['C2'].items())\nplt.plot(x,np.array(y)*prior['C2']);",
      "metadata": {
        "hidden": true,
        "trusted": true
      },
      "execution_count": null,
      "outputs": []
    },
    {
      "cell_type": "code",
      "source": "bayeserror = sum([ min( prior['C1']*sensor['C1'][x] , prior['C2']*sensor['C2'][x] ) for x in range(31)] )\nbayeserror",
      "metadata": {
        "hidden": true,
        "trusted": true
      },
      "execution_count": null,
      "outputs": []
    },
    {
      "cell_type": "markdown",
      "source": "### Test de enfermedad",
      "metadata": {
        "heading_collapsed": true
      }
    },
    {
      "cell_type": "markdown",
      "source": "Es el caso más simple de decisión bayesiana. De nuevo hay que distinguir dos clases, pero en este caso la propiedad observada es binaria, y por tanto se caracteriza por dos probabilidades: la \"sensibilidad\" y la \"selectividad\".",
      "metadata": {
        "hidden": true
      }
    },
    {
      "cell_type": "markdown",
      "source": "El ejemplo siguiente es un caso hipotético, con números inventados para ilustrar los conceptos. No tiene nada que ver con ningún análisis médico real.",
      "metadata": {
        "hidden": true
      }
    },
    {
      "cell_type": "markdown",
      "source": "Supongamos que una cierta enfermedad aparece en una de cada 1000 personas.",
      "metadata": {
        "hidden": true
      }
    },
    {
      "cell_type": "code",
      "source": "gente = bernoulli(1/1000,'enf','sano')\ngente",
      "metadata": {
        "hidden": true,
        "trusted": true
      },
      "execution_count": null,
      "outputs": []
    },
    {
      "cell_type": "markdown",
      "source": "Consideremos una prueba con una sensibilidad del 99% y una selectividad del 95%. Esto significa que detecta correctamente al 99% de los enfermos y al 95% de los sanos. (Estas probabilidades son diferentes porque un falso negativo es más grave que un falso positivo. Normalmente no pueden ser ambas muy altas y se toma un compromiso razonable).",
      "metadata": {
        "hidden": true
      }
    },
    {
      "cell_type": "code",
      "source": "test = {'enf':  bernoulli(99/100,'+','-'),\n        'sano': bernoulli(95/100,'-','+')}    \n    \ncaso1 = gente & test\n\nprint(caso1)",
      "metadata": {
        "hidden": true,
        "trusted": true
      },
      "execution_count": null,
      "outputs": []
    },
    {
      "cell_type": "markdown",
      "source": "Aunque una prueba dé positivo, el estado \"sano\" sigue siendo más probable:",
      "metadata": {
        "hidden": true
      }
    },
    {
      "cell_type": "code",
      "source": "S(0) << (caso1 | equal(1, '+' ))\nprint(_)",
      "metadata": {
        "hidden": true,
        "trusted": true
      },
      "execution_count": null,
      "outputs": []
    },
    {
      "cell_type": "markdown",
      "source": "Esto es debido a que hay muchos más sanos que enfermos. El 5% de falsos positivos del conjunto \"sano\" es mucho mayor que el 99% del conjunto \"enf\". ",
      "metadata": {
        "hidden": true
      }
    },
    {
      "cell_type": "markdown",
      "source": "Dos formas de expresar lo mismo:",
      "metadata": {
        "hidden": true
      }
    },
    {
      "cell_type": "code",
      "source": "(caso1 |  equal(1, '+' )).prob(equal(0,'sano'))",
      "metadata": {
        "hidden": true,
        "trusted": true
      },
      "execution_count": null,
      "outputs": []
    },
    {
      "cell_type": "code",
      "source": "((caso1 |  equal(1, '+' )) >> S(0) )['sano']",
      "metadata": {
        "hidden": true,
        "trusted": true
      },
      "execution_count": null,
      "outputs": []
    },
    {
      "cell_type": "markdown",
      "source": "Hagamos un segundo test:",
      "metadata": {
        "hidden": true
      }
    },
    {
      "cell_type": "code",
      "source": "caso2 = caso1 & (lambda s: test[s[0]])\ncaso2",
      "metadata": {
        "hidden": true,
        "trusted": true
      },
      "execution_count": null,
      "outputs": []
    },
    {
      "cell_type": "code",
      "source": "S(0) << (caso2 | equal(1,'+') )",
      "metadata": {
        "hidden": true,
        "trusted": true
      },
      "execution_count": null,
      "outputs": []
    },
    {
      "cell_type": "code",
      "source": "S(0) << (caso2 | (lambda x: x[1:] == ('+','+')) )",
      "metadata": {
        "hidden": true,
        "trusted": true
      },
      "execution_count": null,
      "outputs": []
    },
    {
      "cell_type": "markdown",
      "source": "Si también da positivo sigue siendo más probable el estado \"sano\", aunque la situación está dudosa.",
      "metadata": {
        "hidden": true
      }
    },
    {
      "cell_type": "code",
      "source": "caso3 = caso2 & (lambda s: test[s[0]])\nprint(caso3)",
      "metadata": {
        "hidden": true,
        "trusted": true
      },
      "execution_count": null,
      "outputs": []
    },
    {
      "cell_type": "markdown",
      "source": "Un tercer positivo ya sí hace muy probable el estado \"enf\".",
      "metadata": {
        "hidden": true
      }
    },
    {
      "cell_type": "code",
      "source": "caso3 | (lambda x: Counter(x[1:])['+'] == 3)",
      "metadata": {
        "hidden": true,
        "trusted": true
      },
      "execution_count": null,
      "outputs": []
    },
    {
      "cell_type": "markdown",
      "source": "Es interesante observar que un test positivo y otro negativo no se \"contrarrestan\":",
      "metadata": {
        "hidden": true
      }
    },
    {
      "cell_type": "code",
      "source": "S(0) << (caso2 |  (lambda x: x[1:] == ('-','+'))) ",
      "metadata": {
        "hidden": true,
        "trusted": true
      },
      "execution_count": null,
      "outputs": []
    },
    {
      "cell_type": "code",
      "source": "S(0) << (caso2 |  (lambda x: x[1:] == ('+','-'))) ",
      "metadata": {
        "hidden": true,
        "trusted": true
      },
      "execution_count": null,
      "outputs": []
    },
    {
      "cell_type": "markdown",
      "source": "Una forma de visualizar la situación anterior es expresar la densidad conjunta de las dos formas alternativas:\n\n$$ P(A,B) = P(A|B) P(B) = P(B|A) P(A) $$\n\nLa regla de Bayes permite pasar de una a otra.",
      "metadata": {
        "hidden": true
      }
    },
    {
      "cell_type": "markdown",
      "source": "![bayes](https://raw.githubusercontent.com/albertoruiz/jupyterlite/main/data/graph/bayes22.png)",
      "metadata": {
        "hidden": true
      }
    },
    {
      "cell_type": "markdown",
      "source": "### Observaciones binarias condicionalmente independientes",
      "metadata": {
        "heading_collapsed": true
      }
    },
    {
      "cell_type": "markdown",
      "source": "En este caso cada observación (test) suma una contribución a la *log likelihood ratio*, positiva o negativa según el resultado, que depende de la calidad del test, que queda especificada por $s\\equiv P\\{+|T\\}$ y $e\\equiv P\\{-|F\\}$. \n\nContrariamente a la intuición, si un test muy sensible ($s$ cercano a 1) produce un resultado positivo, puede no aportar casi nada de información. Todo depende de la especificidad. Lo que sí aportaría muchísima información sería un resultado negativo. Recíprocamente, si un test muy selectivo ($e$ cercano a 1, con muy baja probabilidad de falso positivo) produce un resultado negativo, tampoco aporta información. Todo depende de la sensibilidad. Lo que aportaría información es un resultado positivo.\n\nDicho de otro modo, un test poco sensible, si se dispara es buena señal, y uno muy sensible, puede ser que se dispare por cualquier causa si es poco selectivo.\n\n\n[deciban]: https://en.wikipedia.org/wiki/Hartley_(unit)\n\nPor tanto, lo interesante quizá sería caracterizar un test con el \"delta\" de \"logodds\" que aporta cada resultado. Usaremos [decibans][deciban]. Por ejemplo:\n\n     s      e      +       -\n    99%    95%    +13     -20\n    99%    99%    +20     -20\n    75%    75%    +5      -5\n    95%    70%    +5      -12\n    99%    50%    +3      -17\n\n(Una $e$ menor de 0.5 hace que un resultado + sea frecuente y el - sea infrecuente en los dos estados T,F, por lo que tiene poca utilidad. Y si ambos $s$ y $e$ son menores de 0.5 simplemente habría que cambiar la etiqueta del resultado.)\n\nPor otro lado un test poco sensible, si es selectivo, aporta información siempre que su sensibilidad $s > 1-e$, porque si no llega un momento en que funciona de forma inversa.\n\n      s      e      +       -\n     10%    99%    +10     -0.4\n      2%    99%    +3      -0.04\n    0.5%    99%    -3      +0.02\n    0.1%    99%    -10     +0.04",
      "metadata": {
        "hidden": true
      }
    },
    {
      "cell_type": "code",
      "source": "def sig(z):\n    return 1/(1+10**(-z/10))\n\n\ndef lb(p):\n    return 10*np.log10(p)\n\ndef llr(p):\n    return lb(p) - lb(1-p)",
      "metadata": {
        "hidden": true,
        "trusted": true
      },
      "execution_count": null,
      "outputs": []
    },
    {
      "cell_type": "code",
      "source": "z = np.linspace(0,30,100);\nplt.plot(z,sig(z)); plt.grid();\nplt.title('logistic (sigmoidal) function')\nplt.xlabel('log prob ratio (deciban)'); plt.ylabel('probabilidad');\n\nprint('db      p      1-p')\nfor z in range(5,51,5):\n    print('{:2}  {:.5f}  {:5.2f}%'.format(z,sig(z),100*(1-sig(z))))",
      "metadata": {
        "hidden": true,
        "trusted": true
      },
      "execution_count": null,
      "outputs": []
    },
    {
      "cell_type": "code",
      "source": "def mkTest(s,e):\n    p = lb(s)   - lb(1-e)\n    n = lb(1-s) - lb(e) \n    return lambda x: p if x else n",
      "metadata": {
        "hidden": true,
        "trusted": true
      },
      "execution_count": null,
      "outputs": []
    },
    {
      "cell_type": "code",
      "source": "T1 = mkTest(99/100, 95/100)",
      "metadata": {
        "hidden": true,
        "trusted": true
      },
      "execution_count": null,
      "outputs": []
    },
    {
      "cell_type": "code",
      "source": "sig( llr(1/1000) + T1(True) + T1(True) + T1(True) )*100",
      "metadata": {
        "hidden": true,
        "trusted": true
      },
      "execution_count": null,
      "outputs": []
    },
    {
      "cell_type": "code",
      "source": "sig( llr(1/1000) )*100",
      "metadata": {
        "hidden": true,
        "trusted": true
      },
      "execution_count": null,
      "outputs": []
    },
    {
      "cell_type": "code",
      "source": "sig( llr(1/1000) + T1(True) + T1(False) )*100",
      "metadata": {
        "hidden": true,
        "trusted": true
      },
      "execution_count": null,
      "outputs": []
    },
    {
      "cell_type": "code",
      "source": "T1(True), T1(False)",
      "metadata": {
        "hidden": true,
        "trusted": true
      },
      "execution_count": null,
      "outputs": []
    },
    {
      "cell_type": "code",
      "source": "T = mkTest(999/1000, 80/100)\nT(True), T(False)",
      "metadata": {
        "hidden": true,
        "trusted": true
      },
      "execution_count": null,
      "outputs": []
    },
    {
      "cell_type": "code",
      "source": "T = mkTest(99.9/100, 50/100)\nT(True), T(False)",
      "metadata": {
        "hidden": true,
        "trusted": true
      },
      "execution_count": null,
      "outputs": []
    },
    {
      "cell_type": "code",
      "source": "sig( T(True))",
      "metadata": {
        "hidden": true,
        "trusted": true
      },
      "execution_count": null,
      "outputs": []
    },
    {
      "cell_type": "code",
      "source": "T = mkTest(80/100, 50/100)\nT(True), T(False)",
      "metadata": {
        "hidden": true,
        "trusted": true
      },
      "execution_count": null,
      "outputs": []
    },
    {
      "cell_type": "code",
      "source": "T = mkTest(99/100, 50/100)\nT(True), T(False)",
      "metadata": {
        "hidden": true,
        "trusted": true
      },
      "execution_count": null,
      "outputs": []
    },
    {
      "cell_type": "code",
      "source": "T = mkTest(90/100, 99/100)\nT(True), T(False)",
      "metadata": {
        "hidden": true,
        "trusted": true
      },
      "execution_count": null,
      "outputs": []
    },
    {
      "cell_type": "code",
      "source": "T = mkTest(40/100, 99/100)\nT(True), T(False)",
      "metadata": {
        "hidden": true,
        "trusted": true
      },
      "execution_count": null,
      "outputs": []
    },
    {
      "cell_type": "code",
      "source": "T = mkTest(2/100, 99/100)\nT(True), T(False)",
      "metadata": {
        "hidden": true,
        "trusted": true
      },
      "execution_count": null,
      "outputs": []
    },
    {
      "cell_type": "code",
      "source": "T = mkTest(0.5/100, 99/100)\nT(True), T(False)",
      "metadata": {
        "hidden": true,
        "trusted": true
      },
      "execution_count": null,
      "outputs": []
    },
    {
      "cell_type": "code",
      "source": "T = mkTest(0.1/100, 99/100)\nT(True), T(False)",
      "metadata": {
        "hidden": true,
        "trusted": true
      },
      "execution_count": null,
      "outputs": []
    },
    {
      "cell_type": "markdown",
      "source": "### Dados platónicos",
      "metadata": {
        "heading_collapsed": true
      }
    },
    {
      "cell_type": "markdown",
      "source": "Tenemos una colección de 5 dados (para juegos de rol o algo así) con 4, 6, 8, 12 y 20 caras. Lanzamos uno de ellos elegido al azar, y sin mirar cuál es observamos la puntuación. ¿Qué dado es más probable?",
      "metadata": {
        "hidden": true
      }
    },
    {
      "cell_type": "code",
      "source": "exper = uniform([4,6,8,12,20]) & gdado",
      "metadata": {
        "hidden": true,
        "trusted": true
      },
      "execution_count": null,
      "outputs": []
    },
    {
      "cell_type": "code",
      "source": "plt.figure(figsize=(18,4))\npr.show(exper,rotation=90)",
      "metadata": {
        "hidden": true,
        "scrolled": true,
        "trusted": true
      },
      "execution_count": null,
      "outputs": []
    },
    {
      "cell_type": "code",
      "source": "pr.show(exper >> S(1),ticks=True)",
      "metadata": {
        "hidden": true,
        "trusted": true
      },
      "execution_count": null,
      "outputs": []
    },
    {
      "cell_type": "code",
      "source": "pr.show( exper | equal(1, 11) )",
      "metadata": {
        "hidden": true,
        "trusted": true
      },
      "execution_count": null,
      "outputs": []
    },
    {
      "cell_type": "code",
      "source": "pr.show( exper | equal(1, 6) )",
      "metadata": {
        "hidden": true,
        "trusted": true
      },
      "execution_count": null,
      "outputs": []
    },
    {
      "cell_type": "markdown",
      "source": "Vamos a hacer lo mismo, elegir un dado al azar pero en este caso observamos la suma de tres lanzamientos.",
      "metadata": {
        "hidden": true
      }
    },
    {
      "cell_type": "code",
      "source": "exper = uniform([4,6,8,12,20]) & (lambda x: pr.joint(repeat(gdado(x),3)) >> sum)\n\nplt.figure(figsize=(22,4))\npr.show(exper,rotation=90)",
      "metadata": {
        "hidden": true,
        "trusted": true
      },
      "execution_count": null,
      "outputs": []
    },
    {
      "cell_type": "code",
      "source": "plt.figure(figsize=(16,4))\npr.show(exper >> S(1))",
      "metadata": {
        "hidden": true,
        "trusted": true
      },
      "execution_count": null,
      "outputs": []
    },
    {
      "cell_type": "code",
      "source": "plt.figure(figsize=(22,4))\nplt.subplot(1,5,1); pr.show(exper | equal(1, 5 ))\nplt.subplot(1,5,2); pr.show(exper | equal(1, 8 ))\nplt.subplot(1,5,3); pr.show(exper | equal(1, 9 ))\nplt.subplot(1,5,4); pr.show(exper | equal(1, 13))\nplt.subplot(1,5,5); pr.show(exper | equal(1, 25 ))",
      "metadata": {
        "hidden": true,
        "trusted": true
      },
      "execution_count": null,
      "outputs": []
    },
    {
      "cell_type": "markdown",
      "source": "Si observamos el mínimo de tres lanzamientos:",
      "metadata": {
        "hidden": true
      }
    },
    {
      "cell_type": "code",
      "source": "exper = uniform([4,6,8,12,20]) & (lambda x: pr.joint(repeat(gdado(x),3)) >> min)\n\nplt.figure(figsize=(22,4))\npr.show(exper,rotation=90)",
      "metadata": {
        "hidden": true,
        "trusted": true
      },
      "execution_count": null,
      "outputs": []
    },
    {
      "cell_type": "code",
      "source": "plt.figure(figsize=(16,4))\npr.show(exper >> S(1), ticks=True)",
      "metadata": {
        "hidden": true,
        "trusted": true
      },
      "execution_count": null,
      "outputs": []
    },
    {
      "cell_type": "code",
      "source": "plt.figure(figsize=(22,4))\nplt.subplot(1,5,1); pr.show(exper | equal(1, 1 ))\nplt.subplot(1,5,2); pr.show(exper | equal(1, 2 ))\nplt.subplot(1,5,3); pr.show(exper | equal(1, 3 ))\nplt.subplot(1,5,4); pr.show(exper | equal(1, 4))\nplt.subplot(1,5,5); pr.show(exper | equal(1, 10 ))",
      "metadata": {
        "hidden": true,
        "trusted": true
      },
      "execution_count": null,
      "outputs": []
    },
    {
      "cell_type": "markdown",
      "source": "Y el máximo:",
      "metadata": {
        "hidden": true
      }
    },
    {
      "cell_type": "code",
      "source": "exper = uniform([4,6,8,12,20]) & (lambda x: pr.joint(repeat(gdado(x),3)) >> max)\n\nplt.figure(figsize=(22,4))\npr.show(exper,rotation=90)",
      "metadata": {
        "hidden": true,
        "trusted": true
      },
      "execution_count": null,
      "outputs": []
    },
    {
      "cell_type": "code",
      "source": "plt.figure(figsize=(16,4))\npr.show(exper >> S(1), ticks=True)",
      "metadata": {
        "hidden": true,
        "trusted": true
      },
      "execution_count": null,
      "outputs": []
    },
    {
      "cell_type": "code",
      "source": "plt.figure(figsize=(22,4))\nplt.subplot(1,5,1); pr.show(exper | equal(1, 5 ))\nplt.subplot(1,5,2); pr.show(exper | equal(1, 4 ))\nplt.subplot(1,5,3); pr.show(exper | equal(1, 6 ))\nplt.subplot(1,5,4); pr.show(exper | equal(1, 8))\nplt.subplot(1,5,5); pr.show(exper | equal(1, 12 ))",
      "metadata": {
        "hidden": true,
        "trusted": true
      },
      "execution_count": null,
      "outputs": []
    },
    {
      "cell_type": "markdown",
      "source": "### A girl named Florida",
      "metadata": {
        "heading_collapsed": true
      }
    },
    {
      "cell_type": "markdown",
      "source": "Se trata de un problema de inferencia muy contraintuitivo que apareció en el [blog de Allen Downey](http://allendowney.blogspot.com.es/2011/11/girl-named-florida-solutions.html).\n\nConsideremos familias con dos hijos/as, a los que ponemos nombre, más o menos de cualquier manera. Las realizaciones del experimento tienen cuatro atributos: el sexo y el nombre del primero hijo y el sexo y nombre del segundo.",
      "metadata": {
        "hidden": true
      }
    },
    {
      "cell_type": "code",
      "source": "gente = bernoulli(1/2, \"boy\", \"girl\")\n\nname = {\"boy\" : pr.P({\"Pepe\":6, \"Juan\":4}),\n        \"girl\": pr.P({\"Ana\":4, \"Eva\":4 , \"María\":2})}\n\nchild = name & gente\nfamily = child & child\nprint(family)",
      "metadata": {
        "hidden": true,
        "trusted": true
      },
      "execution_count": null,
      "outputs": []
    },
    {
      "cell_type": "markdown",
      "source": "Podemos marginalizar los nombres:",
      "metadata": {
        "hidden": true
      }
    },
    {
      "cell_type": "code",
      "source": "names = lambda x: (x[0], x[2])\nprint(names << family)",
      "metadata": {
        "hidden": true,
        "trusted": true
      },
      "execution_count": null,
      "outputs": []
    },
    {
      "cell_type": "markdown",
      "source": "O los sexos, obteniéndose las proporciones esperadas:",
      "metadata": {
        "hidden": true
      }
    },
    {
      "cell_type": "code",
      "source": "sexes = lambda x: (x[1], x[3])\nsexes << family",
      "metadata": {
        "hidden": true,
        "trusted": true
      },
      "execution_count": null,
      "outputs": []
    },
    {
      "cell_type": "markdown",
      "source": "Primera pregunta: si **el primer** hijo es niña, ¿qué probabilidad hay de que la familia tenga dos hijas?",
      "metadata": {
        "hidden": true
      }
    },
    {
      "cell_type": "code",
      "source": "print( sexes << (family  | equal(1,'girl')) )",
      "metadata": {
        "hidden": true,
        "trusted": true
      },
      "execution_count": null,
      "outputs": []
    },
    {
      "cell_type": "markdown",
      "source": "Expresado de otra manera:",
      "metadata": {
        "hidden": true
      }
    },
    {
      "cell_type": "code",
      "source": "twogirls = lambda x: Counter(sexes(x))['girl'] == 2\n\nprint( twogirls << (family  | equal(1, 'girl')) )",
      "metadata": {
        "hidden": true,
        "trusted": true
      },
      "execution_count": null,
      "outputs": []
    },
    {
      "cell_type": "code",
      "source": "(family  | equal(1, 'girl')).prob(twogirls)",
      "metadata": {
        "hidden": true,
        "trusted": true
      },
      "execution_count": null,
      "outputs": []
    },
    {
      "cell_type": "markdown",
      "source": "Segunda pregunta: si **algún** hijo es niña, ¿qué probabilidad hay de tener dos hijas?",
      "metadata": {
        "hidden": true
      }
    },
    {
      "cell_type": "code",
      "source": "atleastonegirl =lambda x: Counter(sexes(x))['girl'] >= 1\n\nsexes << (family  | atleastonegirl)",
      "metadata": {
        "hidden": true,
        "trusted": true
      },
      "execution_count": null,
      "outputs": []
    },
    {
      "cell_type": "code",
      "source": "print( names << (family | atleastonegirl) )",
      "metadata": {
        "hidden": true,
        "trusted": true
      },
      "execution_count": null,
      "outputs": []
    },
    {
      "cell_type": "code",
      "source": "(family  | atleastonegirl ).prob( twogirls )",
      "metadata": {
        "hidden": true,
        "trusted": true
      },
      "execution_count": null,
      "outputs": []
    },
    {
      "cell_type": "markdown",
      "source": "La probabilidad es menor que antes, ya que hay un caso posible más. La condición \"primer hijo = niña\" abarca menos casos (2) que \"algún hijo niña\" (3). (Podría pensarse que la condición de que haya alguna niña en cualquier orden (en vez del primero) favorece que haya dos en total, pero esto no es así.)",
      "metadata": {
        "hidden": true
      }
    },
    {
      "cell_type": "markdown",
      "source": "Pero la prengunta realmente interesante es la siguiente:\n    \n¿Cuál es la probabilidad de que haya dos niñas si alguna es una niña que se llama \"María\"?\n\nEste nombre en realidad no tiene nada de especial, se trata de añadir una propiedad adicional a la condición. Lo interesante es que esa propiedad adicional no puede influir en la distribución de sexos. El nombre que pongamos a un hijo no puede afectar al sexo del otro.\n\nPero veamos el resultado:",
      "metadata": {
        "hidden": true
      }
    },
    {
      "cell_type": "code",
      "source": "atleastonegirlcalledMaría = lambda s: s[:2]==(\"María\",\"girl\") or s[2:]==(\"María\",\"girl\")\n\nprint( family | atleastonegirlcalledMaría )",
      "metadata": {
        "hidden": true,
        "trusted": true
      },
      "execution_count": null,
      "outputs": []
    },
    {
      "cell_type": "code",
      "source": "sexes << ( family | atleastonegirlcalledMaría )",
      "metadata": {
        "hidden": true,
        "trusted": true
      },
      "execution_count": null,
      "outputs": []
    },
    {
      "cell_type": "code",
      "source": "( family | atleastonegirlcalledMaría ).prob(twogirls)",
      "metadata": {
        "hidden": true,
        "trusted": true
      },
      "execution_count": null,
      "outputs": []
    },
    {
      "cell_type": "markdown",
      "source": "El resultado se aproxima a 0.5 correspondiente a la preguna inicial, donde sabemos que el primer hijo es niña. Y además, se aproximará más cuanto más improbable sea el nombre de la niña (la propiedad adicional). ¿Qué está pasando? ",
      "metadata": {
        "hidden": true
      }
    },
    {
      "cell_type": "markdown",
      "source": "Queda claro con el diagrama del [blog de Allen Downey](http://allendowney.blogspot.com.es/2011/11/girl-named-florida-solutions.html). Cuando sabemos que los casos posibles se reducen a la unión de las dos franjas Gx, los casos favorables se reducen también a la franja más oscura Gx,G + G,Gx.\n\n![Florida](https://raw.githubusercontent.com/albertoruiz/jupyterlite/main/data/graph/florida.png)\n\nLas probabilidades anteriores no tienen que ver con causas y efectos, solo reflejan las frecuencias relativas de las diferentes combinación de sexo y nombre en subconjuntos de interés.",
      "metadata": {
        "hidden": true
      }
    },
    {
      "cell_type": "markdown",
      "source": "### Inferencia acerca de una probabilidad",
      "metadata": {
        "heading_collapsed": true,
        "tags": []
      }
    },
    {
      "cell_type": "markdown",
      "source": "Cuando las variables aleatorias son continuas podemos discretizarlas y seguir utilizando las herramientas anteriores. Son las **técnicas de *grid***, útiles en problemas de dimensión pequeña.",
      "metadata": {
        "hidden": true
      }
    },
    {
      "cell_type": "markdown",
      "source": "Supongamos un experimento aleatorio que en principio puede tener una probabilidad alrededor de 1/2. ¿Qué diríamos si  observamos 5 éxitos consecutivos?",
      "metadata": {
        "hidden": true
      }
    },
    {
      "cell_type": "code",
      "source": "from scipy.stats import beta\nimport numpy as np",
      "metadata": {
        "hidden": true,
        "trusted": true
      },
      "execution_count": null,
      "outputs": []
    },
    {
      "cell_type": "markdown",
      "source": "La distribución beta es muy útil para expresar información a priori sobre la probabilidad de un suceso.",
      "metadata": {
        "hidden": true
      }
    },
    {
      "cell_type": "code",
      "source": "p = np.linspace(0,1,50)\nb = beta(2,2).pdf(p)\n\nplt.plot(p, b);\nplt.grid(ls='dotted')",
      "metadata": {
        "hidden": true,
        "trusted": true
      },
      "execution_count": null,
      "outputs": []
    },
    {
      "cell_type": "code",
      "source": "prior = pr.P(dict(zip(p,b)))\npr.show(prior)\npr.showhdi(prior,90/100)",
      "metadata": {
        "hidden": true,
        "trusted": true
      },
      "execution_count": null,
      "outputs": []
    },
    {
      "cell_type": "code",
      "source": "def coin(p):\n    return bernoulli(p,'c','+')\n\ndef coins(n,p):\n    return pr.joint(repeat(coin(p),n))",
      "metadata": {
        "hidden": true,
        "trusted": true
      },
      "execution_count": null,
      "outputs": []
    },
    {
      "cell_type": "code",
      "source": "coins(4,0.25)",
      "metadata": {
        "hidden": true,
        "trusted": true
      },
      "execution_count": null,
      "outputs": []
    },
    {
      "cell_type": "code",
      "source": "exper = (lambda p: coins(5,p)) & prior\n\nprint(len(exper.items()))\n\nlist(exper.items())[:3]",
      "metadata": {
        "hidden": true,
        "trusted": true
      },
      "execution_count": null,
      "outputs": []
    },
    {
      "cell_type": "code",
      "source": "pr.show(exper >> (lambda x: Counter(x[:5])['c']))",
      "metadata": {
        "hidden": true,
        "trusted": true
      },
      "execution_count": null,
      "outputs": []
    },
    {
      "cell_type": "code",
      "source": "exper2 = exper >>  (lambda x: (Counter(x[:5])['c'],x[-1] ) )\nlist(exper2.items())[:8]",
      "metadata": {
        "hidden": true,
        "trusted": true
      },
      "execution_count": null,
      "outputs": []
    },
    {
      "cell_type": "code",
      "source": "plt.figure(figsize=(7,7)); plt.grid(ls='dotted')\npr.show(prior,alpha=0.5)\npost = ( exper2 | (lambda x: x[0] == 4) ) >> S(1)\npr.show( post , alpha=0.5)\npr.showhdi( post, 90/100)",
      "metadata": {
        "hidden": true,
        "trusted": true
      },
      "execution_count": null,
      "outputs": []
    },
    {
      "cell_type": "code",
      "source": "plt.figure(figsize=(7,7)); plt.grid(ls='dotted')\npr.show(prior,alpha=0.5)\npost = ( exper2 | (lambda x: x[0] == 5) ) >> S(1)\npr.show( post , alpha=0.5)\npr.showhdi( post, 90/100)",
      "metadata": {
        "hidden": true,
        "trusted": true
      },
      "execution_count": null,
      "outputs": []
    },
    {
      "cell_type": "code",
      "source": "post.mean()",
      "metadata": {
        "hidden": true,
        "trusted": true
      },
      "execution_count": null,
      "outputs": []
    },
    {
      "cell_type": "code",
      "source": "post.median()",
      "metadata": {
        "hidden": true,
        "trusted": true
      },
      "execution_count": null,
      "outputs": []
    },
    {
      "cell_type": "code",
      "source": "post.mode()",
      "metadata": {
        "hidden": true,
        "trusted": true
      },
      "execution_count": null,
      "outputs": []
    },
    {
      "cell_type": "markdown",
      "source": "En realidad, la densidad Beta y la Binomial son [conjugadas](https://en.wikipedia.org/wiki/Conjugate_prior), por lo que estos resultados se obtienen de forma analítica:",
      "metadata": {
        "hidden": true
      }
    },
    {
      "cell_type": "code",
      "source": "plt.figure(figsize=(5,5)); plt.grid(ls='dotted')\nplt.plot(p,beta(2,2).pdf(p));\nplt.plot(p,beta(2+4,2+5-4).pdf(p));\nplt.plot(p,beta(2+5,2+5-5).pdf(p));",
      "metadata": {
        "hidden": true,
        "trusted": true
      },
      "execution_count": null,
      "outputs": []
    },
    {
      "cell_type": "code",
      "source": "plt.figure(figsize=(5,5)); plt.grid(ls='dotted')\nplt.plot(p,beta(1,1).pdf(p));\nplt.plot(p,beta(1+1,1+1).pdf(p));\nplt.plot(p,beta(1+5,1+5).pdf(p));",
      "metadata": {
        "hidden": true,
        "trusted": true
      },
      "execution_count": null,
      "outputs": []
    },
    {
      "cell_type": "markdown",
      "source": "### Gaussian update",
      "metadata": {
        "heading_collapsed": true
      }
    },
    {
      "cell_type": "markdown",
      "source": "Algunas distribuciones de probabilidad tienen una forma matemática que permite calcular de forma **analítica** la regla de Bayes. Son las [distribuciones conjugadas](https://en.wikipedia.org/wiki/Conjugate_prior). (Ver también [estas notas](https://ocw.mit.edu/courses/mathematics/18-05-introduction-to-probability-and-statistics-spring-2014/readings/MIT18_05S14_Reading15a.pdf).) Un caso importante es la distribución normal, que es conjugada de ella misma. En el caso 1D, si el prior es\n\n$$\\mathcal p(x) \\sim N[\\mu, \\sigma]$$\n\ny la verosimilitud o modelo de observación es \n\n$$p(s\\mid x) \\sim \\mathcal N[0,r]$$\n\nLa distribución *a posteriori* tras observar el valor concreto $s_o$ es:\n\n$$p(x\\mid s_o) = \\mathcal N[\\mu',\\sigma']$$\n\ndonde\n\n\\begin{aligned}\n\\mu' &= \\mu + K(s_o-\\mu)\\\\\n\\sigma'^2 &= (1-K)\\sigma^2\n\\end{aligned}\n\ndonde K es la \"ganancia de Kalman\" que cuantifica la influencia que tiene la observación, que será mayor cuanto menor ruido tenga el modelo\n\n$$K = \\frac{\\sigma^2}{\\sigma^2+r^2} $$\n\nPodemos expresarlo así: \n\n- Inicialmente creemos que la realidad es $\\mu$, con incertidumbre $\\sigma$.\n\n- Tenemos un aparato capaz de medir la magnitud real con un ruido $r$.\n\n- Llega un nuevo dato experimental $s_o$ que produce un error de predicción $\\epsilon = s_o-\\mu$. (Idealmente $\\epsilon$ sería cero si el mecanismo de medida no tuviera ruido y nuestra información fuera perfecta.)\n\n- La discrepancia observada $\\epsilon$ nos obliga a actualizar o revisar nuestra creencia: $\\mu' = \\mu + K\\epsilon$.\n\n- Y a la vez la incertidumbre se reduce en un factor $\\sqrt{(1-K)}$.\n\nLa importancia de la actualización viene dada por el factor $K$ que pondera las dos incertidumbres, la inicial y la del sensor. Si $r \\ll \\sigma$ entonces $K\\simeq1$ y $\\mu'\\simeq s_o$, otorgamos mucha confianza a esta última observación y la incertidumbre se reduce mucho. Si el sensor es muy ruidoso, $r \\gg \\sigma$, ocurre lo contrario: $K\\simeq 0$ y la observacion apenas modifica $\\mu$ y $\\sigma$.",
      "metadata": {
        "hidden": true
      }
    },
    {
      "cell_type": "markdown",
      "source": "Este resultado puede demostrarse fácilmente teniendo en cuenta que ...",
      "metadata": {
        "hidden": true
      }
    },
    {
      "cell_type": "markdown",
      "source": "En este apartado comprobamos las expresiones anteriores para el caso 1D con las herramientas de computación probabilística de este notebook, discretizando el dominio.",
      "metadata": {
        "hidden": true
      }
    },
    {
      "cell_type": "code",
      "source": "from scipy.stats import norm\nimport numpy as np",
      "metadata": {
        "hidden": true,
        "trusted": true
      },
      "execution_count": null,
      "outputs": []
    },
    {
      "cell_type": "code",
      "source": "x = np.linspace(-7,7,100)\n\ndef N(m,s):\n    G = norm(m,s).pdf(x)\n    return pr.P(dict(zip(x,G)))",
      "metadata": {
        "hidden": true,
        "trusted": true
      },
      "execution_count": null,
      "outputs": []
    },
    {
      "cell_type": "code",
      "source": "prior = N(1,1.2)\nlikelihood = lambda x: N(x, 0.5)\n\npr.show(prior, edgecolor=None)\npr.show(likelihood(-3),alpha=0.6, edgecolor=None)\nplt.legend(['prior','likelihood']);\nplt.title('$p(x|s=-3)\\hspace{3} p(s)$');",
      "metadata": {
        "hidden": true,
        "trusted": true
      },
      "execution_count": null,
      "outputs": []
    },
    {
      "cell_type": "code",
      "source": "obs = prior.transform(likelihood)\npr.show(prior, edgecolor=None)\npr.show(obs,alpha=0.5, edgecolor=None, color='red')\nplt.title('$p(x)=\\int p(x|s)p(s)ds$');\nplt.legend(['prior','observation']);",
      "metadata": {
        "hidden": true,
        "trusted": true
      },
      "execution_count": null,
      "outputs": []
    },
    {
      "cell_type": "code",
      "source": "pr.show(prior,edgecolor=None)\npr.show(likelihood(-2.05),edgecolor=None)\n\npost = ((prior & likelihood) | (lambda x: -2.1 <= x[1] < -2)   )>>S(0)\n\npr.show( post ,alpha=0.5,edgecolor=None, color='green')\nplt.legend(['prior','likelihood','posterior']);\nplt.title('$p(\\mu\\sigma\\,|\\,x=-2)$');",
      "metadata": {
        "hidden": true,
        "trusted": true
      },
      "execution_count": null,
      "outputs": []
    },
    {
      "cell_type": "code",
      "source": "def std(p):\n    m = p.mean()\n    return np.sqrt((p >> (lambda x: (x-m)**2)).mean())",
      "metadata": {
        "hidden": true,
        "trusted": true
      },
      "execution_count": null,
      "outputs": []
    },
    {
      "cell_type": "code",
      "source": "prior.mean(), std(prior)",
      "metadata": {
        "hidden": true,
        "trusted": true
      },
      "execution_count": null,
      "outputs": []
    },
    {
      "cell_type": "code",
      "source": "post.mean(), std(post)",
      "metadata": {
        "hidden": true,
        "trusted": true
      },
      "execution_count": null,
      "outputs": []
    },
    {
      "cell_type": "code",
      "source": "sp = std(prior)\nmp = prior.mean()\nr  = std(likelihood(-2.05))\n\nK = sp**2/(sp**2+r**2)\n\npm = mp + K*(-2.05 - mp)\nps = np.sqrt((1-K)*sp**2)\n\npm, ps",
      "metadata": {
        "hidden": true,
        "trusted": true
      },
      "execution_count": null,
      "outputs": []
    },
    {
      "cell_type": "markdown",
      "source": "Existen expresiones análogas para distribuciones Gaussianas multivariables. Y es en esta situación en la que se saca realmente partido de la inferencia Bayesiana con distribuciones Gaussianas. Debido a la dependencia entre variables, se puede reducir la incertidumbre sobre alguna de ellas dada la observación de otras. Por ejemplo, a partir de un modelo Gaussiano para $p(x,y,z)$, podemos calcular analíticamente distribuciones condicionadas del tipo $p(y \\mid x-2z = 1.3)$. Esto es la base del [filtro de Kalman](https://en.wikipedia.org/wiki/Kalman_filter) y de los [procesos Gaussianos](https://en.wikipedia.org/wiki/Gaussian_process). Los detalles de esto se explican en [este notebook](Kalman.ipynb).",
      "metadata": {
        "hidden": true
      }
    },
    {
      "cell_type": "markdown",
      "source": "### Billar raro",
      "metadata": {
        "heading_collapsed": true
      }
    },
    {
      "cell_type": "markdown",
      "source": "El problema que aparece en el [blog de Jake VanderPlas](http://jakevdp.github.io/blog/2014/06/06/frequentism-and-bayesianism-2-when-results-differ/). La probablidad de éxito de un suceso es desconocida (pero uniforme entre cero y uno). Si vamos perdiendo 5 a 3 en una partida a 6 puntos, ¿cuál es la probabilidad de remontar y ganar 6 a 5?",
      "metadata": {
        "hidden": true
      }
    },
    {
      "cell_type": "markdown",
      "source": "La ventaja de 5 a 3 da una estimación de máxima verosimilitud $\\hat p = 3/8$ = {{3/8}}, y por tanto una probabilidad de tres puntos consecutivos $\\hat p^3$ = {{ '{:.3f}'.format((3/8)**3) }}.\n\nEl análisis bayesiano da un resultado distinto. Para un prior uniforme sobre $p$ la distribución posterior es:\n\n$$P(p|3-5)=\\frac{p^3(1-p)^5}{B(4,6)}$$",
      "metadata": {
        "hidden": true,
        "variables": {
          " '{:.3f}'.format((3/8)**3) ": {},
          "3/8": {}
        }
      }
    },
    {
      "cell_type": "code",
      "source": "from scipy.special import beta as Beta\n\npost = lambda p: p**3*(1-p)**5/Beta(4,6)\np = np.linspace(0,1,100)\nplt.plot(p,post(p));",
      "metadata": {
        "hidden": true,
        "trusted": true
      },
      "execution_count": null,
      "outputs": []
    },
    {
      "cell_type": "markdown",
      "source": "La probabilidad de tres puntos consecutivos con esta distribución es:\n\n$$P(6-5) = \\frac{B(7,6)}{B(4,6)} $$",
      "metadata": {
        "hidden": true
      }
    },
    {
      "cell_type": "code",
      "source": "Beta(7,6)/Beta(4,6)",
      "metadata": {
        "hidden": true,
        "trusted": true
      },
      "execution_count": null,
      "outputs": []
    },
    {
      "cell_type": "markdown",
      "source": "Es casi el doble que la estimación más verosimil puntual anterior.",
      "metadata": {
        "hidden": true
      }
    },
    {
      "cell_type": "markdown",
      "source": "Vamos a reproducir este resultado analítico mediante la técnica de *grid*, que consiste simplemente en discretizar las distribuciones y operar con las mismas herramientas usadas hasta ahora.",
      "metadata": {
        "hidden": true
      }
    },
    {
      "cell_type": "code",
      "source": "p = np.linspace(0,1,50)\nb = beta(1,1).pdf(p)\nbola1 = pr.P(dict(zip(p,b)))",
      "metadata": {
        "hidden": true,
        "trusted": true
      },
      "execution_count": null,
      "outputs": []
    },
    {
      "cell_type": "code",
      "source": "bola2 = lambda b1: pr.joint(repeat(bernoulli(b1,0,1) ,8)).marginal(sum) \nexper = (bola2 & bola1).conditional(lambda s: s[0] == 5).marginal(S(1))\nlist(exper.items())[:5]",
      "metadata": {
        "hidden": true,
        "trusted": true
      },
      "execution_count": null,
      "outputs": []
    },
    {
      "cell_type": "code",
      "source": "pr.show(bola1,alpha=0.5)\npr.show(exper,alpha=0.5)\npr.showhdi(exper,99/100)",
      "metadata": {
        "hidden": true,
        "trusted": true
      },
      "execution_count": null,
      "outputs": []
    },
    {
      "cell_type": "code",
      "source": "seguir = (lambda b1: pr.joint(repeat(bernoulli(b1,0,1) ,3))) & exper\nlist(seguir.items())[:5]",
      "metadata": {
        "hidden": true,
        "trusted": true
      },
      "execution_count": null,
      "outputs": []
    },
    {
      "cell_type": "code",
      "source": "seguir.marginal(lambda s: sum(s[:3]))",
      "metadata": {
        "hidden": true,
        "trusted": true
      },
      "execution_count": null,
      "outputs": []
    },
    {
      "cell_type": "code",
      "source": "seguir.prob(lambda s: sum(s[:3])==0)",
      "metadata": {
        "hidden": true,
        "trusted": true
      },
      "execution_count": null,
      "outputs": []
    },
    {
      "cell_type": "code",
      "source": "exper.mode()",
      "metadata": {
        "hidden": true,
        "trusted": true
      },
      "execution_count": null,
      "outputs": []
    },
    {
      "cell_type": "code",
      "source": "exper.mode()**3",
      "metadata": {
        "hidden": true,
        "trusted": true
      },
      "execution_count": null,
      "outputs": []
    },
    {
      "cell_type": "markdown",
      "source": "De nuevo comprobamos que trabajar con el estimador más probable, o más verosímil, sin tener en cuenta la dispersión no es lo ideal.",
      "metadata": {
        "hidden": true
      }
    },
    {
      "cell_type": "markdown",
      "source": "La segunda parte de este experimento se ha hecho generando todas las posibilidades de los 3 siguientes lanzamientos. Para mayor eficiencia, en las técnicas de grid este paso se abreviaría calculando directamente la probabilidad a posteriori con la probabilidad analítica de obtener 3 éxitos.",
      "metadata": {
        "hidden": true
      }
    },
    {
      "cell_type": "markdown",
      "source": "### Shannon",
      "metadata": {
        "heading_collapsed": true
      }
    },
    {
      "cell_type": "markdown",
      "source": "Ejemplo en Shannon (1948).",
      "metadata": {
        "hidden": true
      }
    },
    {
      "cell_type": "code",
      "source": "symbol = uniform(['A','B','C'])\n\ndef channel(x):\n    if x == 'A': return pr.P({'a' : 1})\n    if x == 'B': return pr.P({'b': 0.8, 'c':0.2})\n    if x == 'C': return pr.P({'b': 0.2, 'c':0.8})",
      "metadata": {
        "hidden": true,
        "trusted": true
      },
      "execution_count": null,
      "outputs": []
    },
    {
      "cell_type": "code",
      "source": "symbol & symbol",
      "metadata": {
        "hidden": true,
        "trusted": true
      },
      "execution_count": null,
      "outputs": []
    },
    {
      "cell_type": "code",
      "source": "symbol & channel",
      "metadata": {
        "hidden": true,
        "trusted": true
      },
      "execution_count": null,
      "outputs": []
    },
    {
      "cell_type": "code",
      "source": "system = (lambda x : (''.join(x[0::2]),''.join(x[1::2]))) << pr.joint(repeat((symbol & channel), 5)) \n#system",
      "metadata": {
        "hidden": true,
        "trusted": true
      },
      "execution_count": null,
      "outputs": []
    },
    {
      "cell_type": "code",
      "source": "S(0) << (system | equal(1,'aabcb'))",
      "metadata": {
        "hidden": true,
        "trusted": true
      },
      "execution_count": null,
      "outputs": []
    }
  ]
}