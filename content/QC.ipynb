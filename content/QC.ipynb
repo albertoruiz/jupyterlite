{
  "metadata": {
    "kernelspec": {
      "name": "python",
      "display_name": "Python (Pyodide)",
      "language": "python"
    },
    "language_info": {
      "codemirror_mode": {
        "name": "python",
        "version": 3
      },
      "file_extension": ".py",
      "mimetype": "text/x-python",
      "name": "python",
      "nbconvert_exporter": "python",
      "pygments_lexer": "ipython3",
      "version": "3.8"
    }
  },
  "nbformat_minor": 4,
  "nbformat": 4,
  "cells": [
    {
      "cell_type": "markdown",
      "source": "# QC",
      "metadata": {}
    },
    {
      "cell_type": "markdown",
      "source": "Conceptos previos, WIP",
      "metadata": {}
    },
    {
      "cell_type": "markdown",
      "source": "## Funciones lógicas",
      "metadata": {}
    },
    {
      "cell_type": "markdown",
      "source": "Implementación de funciones lógicas como transformaciones matriciales sobre el espacio completo de posibilidades.",
      "metadata": {}
    },
    {
      "cell_type": "code",
      "source": "import numpy as np\nimport matplotlib.pyplot as plt\n%matplotlib inline\n\ndef showmat(m):\n    plt.imshow(m); plt.axis('off');",
      "metadata": {
        "trusted": true
      },
      "execution_count": null,
      "outputs": []
    },
    {
      "cell_type": "code",
      "source": "bit = [0,1]",
      "metadata": {
        "trusted": true
      },
      "execution_count": null,
      "outputs": []
    },
    {
      "cell_type": "code",
      "source": "def decode(bits):\n    r = np.zeros(2**len(bits),int)\n    r[int(''.join(reversed([str(b) for b in bits ])),2)] = 1\n    return r\n\ndef encode(oneshot):\n    x = np.argmax(oneshot)\n    l = np.round(np.log2(len(oneshot))).astype(int)\n    fmt = f\"{{x:0{l}b}}\"\n    return list(reversed( [int(d) for d in fmt.format(x=x) ] ))",
      "metadata": {
        "trusted": true
      },
      "execution_count": null,
      "outputs": []
    },
    {
      "cell_type": "code",
      "source": "decode([0,1,0,1])",
      "metadata": {
        "trusted": true
      },
      "execution_count": null,
      "outputs": []
    },
    {
      "cell_type": "code",
      "source": "encode([[0,0,1,0]])",
      "metadata": {
        "trusted": true
      },
      "execution_count": null,
      "outputs": []
    },
    {
      "cell_type": "markdown",
      "source": "Esta es la matriz identidad de configuraciones de 4 bits. Hay $2^4=16$ configuraciones, y por tanto tenemos un matriz $16\\times 16$. Pero debemos recorrer las variables en orden contrario para que la correspondencia cuadre con encode y decode. (Bit menos significativo primero).",
      "metadata": {}
    },
    {
      "cell_type": "code",
      "source": "# Así nos sale la identidad permutada\nident = np.array([decode((x0,y0,x1,y1)) for x0 in bit for y0 in bit for x1 in bit for y1 in bit]).T\nshowmat(ident)     ",
      "metadata": {
        "trusted": true
      },
      "execution_count": null,
      "outputs": []
    },
    {
      "cell_type": "code",
      "source": "# Así queda bien\nident = np.array([decode((x0,y0,x1,y1)) for y1 in bit for x1 in bit for y0 in bit for x0 in bit]).T\nshowmat(ident)     ",
      "metadata": {
        "trusted": true
      },
      "execution_count": null,
      "outputs": []
    },
    {
      "cell_type": "markdown",
      "source": "La composición de circuitos corresponde al producto de estas matrices. Tenemos que tener cuidado en el orden de las entradas y salidas. La regla es orden contrario en los for.",
      "metadata": {}
    },
    {
      "cell_type": "markdown",
      "source": "Vamos a usar unas utilidades para generar cómodamente las combinaciones:",
      "metadata": {}
    },
    {
      "cell_type": "code",
      "source": "import itertools\ndef bits(n):\n    return itertools.product(*[bit for _ in range(n)])\n\ndef Oper(l):\n    return np.array([decode(x) for x in l]).T",
      "metadata": {
        "trusted": true
      },
      "execution_count": null,
      "outputs": []
    },
    {
      "cell_type": "markdown",
      "source": "Vamos a hacer un sumador de 2 bits con sumadores de un bit, donde el carry de uno es entrada del otro.",
      "metadata": {}
    },
    {
      "cell_type": "markdown",
      "source": "En esta primera versión generamos dos circuitos diferentes, y comprobamos que encajan bien.",
      "metadata": {}
    },
    {
      "cell_type": "code",
      "source": "# Calculamos el primer bit y el carry, y pasamos sin modificar el segundo bit\n# x0 x1 y0 y1 --> s0 c1 x1 y1\nstage1 = Oper([( (x0+y0+0)%2, (x0+y0+0)//2, x1, y1) for y1,y0,x1,x0 in bits(4) ])\nprint(stage1.shape)\nshowmat(stage1)",
      "metadata": {
        "trusted": true
      },
      "execution_count": null,
      "outputs": []
    },
    {
      "cell_type": "code",
      "source": "encode( stage1 @ decode([0,0,1,1]) )",
      "metadata": {
        "trusted": true
      },
      "execution_count": null,
      "outputs": []
    },
    {
      "cell_type": "code",
      "source": "# Calculamos el segundo bit y el carry con el carry anterior y pasamos el s0 sin modificar\n# s0 c1 x1 y1 --> s0 s1 c2\nstage2 = Oper([ [s0,(x1+y1+c1)%2,(x1+y1+c1)//2] for y1,x1,c1,s0 in bits(4)])\nprint(stage2.shape)\nshowmat(stage2)",
      "metadata": {
        "trusted": true
      },
      "execution_count": null,
      "outputs": []
    },
    {
      "cell_type": "code",
      "source": "encode( stage2 @ decode([0,1,1,1]) )",
      "metadata": {
        "trusted": true
      },
      "execution_count": null,
      "outputs": []
    },
    {
      "cell_type": "markdown",
      "source": "Combinamos ambos circuitos:",
      "metadata": {}
    },
    {
      "cell_type": "code",
      "source": "adder2 = stage2 @ stage1\nprint(adder2.shape)\nshowmat(adder2)",
      "metadata": {
        "trusted": true
      },
      "execution_count": null,
      "outputs": []
    },
    {
      "cell_type": "markdown",
      "source": "Comprobamos que es igual que el circuito completo construido directamente:",
      "metadata": {}
    },
    {
      "cell_type": "code",
      "source": "joint = Oper( [ [(x0+y0)%2,(x1+y1+c1)%2,(x1+y1+c1)//2] for y1,y0,x1,x0 in bits(4) for c1 in [(x0+y0)//2] ])\nprint(joint.shape)\nshowmat(joint)",
      "metadata": {
        "trusted": true
      },
      "execution_count": null,
      "outputs": []
    },
    {
      "cell_type": "markdown",
      "source": "Y lo probamos con algunas entradas:",
      "metadata": {}
    },
    {
      "cell_type": "code",
      "source": "# 1 + 0 = 1\nencode(joint @ decode([1,0,0,0]))",
      "metadata": {
        "trusted": true
      },
      "execution_count": null,
      "outputs": []
    },
    {
      "cell_type": "code",
      "source": "# 3 + 3 = 6\nencode(joint @ decode([1,1,1,1]))",
      "metadata": {
        "trusted": true
      },
      "execution_count": null,
      "outputs": []
    },
    {
      "cell_type": "code",
      "source": "# 2 + 1 = 3\nencode(joint @ decode([0,1,1,0]))",
      "metadata": {
        "trusted": true
      },
      "execution_count": null,
      "outputs": []
    },
    {
      "cell_type": "code",
      "source": "# 2 + 2 = 4\nencode(joint @ decode([0,1,0,1]))",
      "metadata": {
        "trusted": true
      },
      "execution_count": null,
      "outputs": []
    },
    {
      "cell_type": "markdown",
      "source": "La gracia está en combinar circuitos fijos, expandiendo entradas adecuadamente con tensor products.",
      "metadata": {}
    },
    {
      "cell_type": "code",
      "source": "def tp(A,B):\n    return np.vstack([np.hstack(x) for x in np.tensordot(A,B,axes=0)])",
      "metadata": {
        "trusted": true
      },
      "execution_count": null,
      "outputs": []
    },
    {
      "cell_type": "code",
      "source": "def addbit(M,n,left=True):\n    if n == 0: return M\n    if left:\n        r = tp([[1,1]], M)\n    else:\n        r = tp(M, [[1,1]])\n    return addbit(r,n-1,left)",
      "metadata": {
        "trusted": true
      },
      "execution_count": null,
      "outputs": []
    },
    {
      "cell_type": "code",
      "source": "adder1 =Oper( [[(a+b+c)%2,(a+b+c)//2] for c,b,a in bits(3)])\nprint(adder1.shape)\nshowmat(adder1)",
      "metadata": {
        "trusted": true
      },
      "execution_count": null,
      "outputs": []
    },
    {
      "cell_type": "markdown",
      "source": "Anque todavía no lo usaremos, podemos cambiar el orden de las variables, sale una matriz de permutación:",
      "metadata": {}
    },
    {
      "cell_type": "code",
      "source": "#switch = np.array([decode([b,c,a]) for c in bit for b in bit for a in bit]).T\nswitch = Oper([(b,c,a) for c,b,a in bits(3)])\nshowmat(switch)",
      "metadata": {
        "trusted": true
      },
      "execution_count": null,
      "outputs": []
    },
    {
      "cell_type": "markdown",
      "source": "Aplicándola 3 veces tenemos la identidad. Da lugar a un subgrupo cíclico, creo.",
      "metadata": {}
    },
    {
      "cell_type": "code",
      "source": "showmat(switch@switch@switch)",
      "metadata": {
        "trusted": true
      },
      "execution_count": null,
      "outputs": []
    },
    {
      "cell_type": "markdown",
      "source": "Pero por el momento vamos a hacerlo \"a huevo\" y luego ya haremos los cables que atraviesan y los cambios de orden con tensor products.",
      "metadata": {}
    },
    {
      "cell_type": "markdown",
      "source": "Aunque lo hagamos así, lo bonito es reutilizar el mismo circuito adder1 en los dos trozos, para que sea realmente composicional.",
      "metadata": {}
    },
    {
      "cell_type": "code",
      "source": "stage1b = Oper( list(encode(adder1 @ decode((x0,y0,0))))+[x1,y1] for y1,y0,x1,x0 in bits(4) )\nshowmat(stage1b)",
      "metadata": {
        "trusted": true
      },
      "execution_count": null,
      "outputs": []
    },
    {
      "cell_type": "code",
      "source": "stage2b = Oper([s0] + list(encode(adder1 @ decode((x1,y1,c1)))) for y1,x1,c1,s0 in bits(4) )\nshowmat(stage2b)",
      "metadata": {
        "trusted": true
      },
      "execution_count": null,
      "outputs": []
    },
    {
      "cell_type": "markdown",
      "source": "Se ve que son las mismas de antes.",
      "metadata": {}
    },
    {
      "cell_type": "markdown",
      "source": "## Incertidumbre",
      "metadata": {}
    },
    {
      "cell_type": "markdown",
      "source": "Por supuesto, la gracia de todo esto es manejar automáticamente la incertidumbre.",
      "metadata": {}
    },
    {
      "cell_type": "markdown",
      "source": "Tenemos que generar el vector one-shot, pero ahora repartiendo la probabilidad entre todos los estados, dependiendo de lo que se conozca sobre cada variable.",
      "metadata": {}
    },
    {
      "cell_type": "markdown",
      "source": "Lo hacemos con el mismo generador de posibilidades, multiplicando las probabilidades de los factores que existan en el problema, si todas las variables son independientes queda completamente factorizada, pero no hay ningún problema con dependencias. De hecho el resultado no será separable.",
      "metadata": {}
    },
    {
      "cell_type": "code",
      "source": "def bernoulli(p):\n    return {0:round(1-p,5), 1:p}\n\ndef p(a,b,c):\n    return bernoulli(0.8)[a] * (1 if b==0 else 0) * 1/2\n\nstate = [ p(*bs) for bs in bits(3)]\nstate",
      "metadata": {
        "trusted": true
      },
      "execution_count": null,
      "outputs": []
    },
    {
      "cell_type": "markdown",
      "source": "Supongamos que quiero sumar dos números y un bit es \"dudoso\".",
      "metadata": {}
    },
    {
      "cell_type": "code",
      "source": "state = [ (x0==0) * bernoulli(0.5)[x1] * (y0==1) * bernoulli(0.8)[y1] for y1,y0,x1,x0 in bits(4)  ]\nstate",
      "metadata": {
        "trusted": true
      },
      "execution_count": null,
      "outputs": []
    },
    {
      "cell_type": "code",
      "source": "joint @ state",
      "metadata": {
        "trusted": true
      },
      "execution_count": null,
      "outputs": []
    },
    {
      "cell_type": "code",
      "source": "for k,v in enumerate(adder2 @ state):\n    if v >0:\n        print(k,v)",
      "metadata": {
        "trusted": true
      },
      "execution_count": null,
      "outputs": []
    },
    {
      "cell_type": "markdown",
      "source": "Traducido, significa: si $x$ es 0 ó 2, con igual probabilidad, (x1 es completamente ambiguo), e $y$ es casi seguro 3 (con probabilidad 0.8), o si no 1 (el bit y1 tiene una pequeña probabilidad de no ser correcto, lo más probable es que su suma sea 3, aunque tampoco podemos descartar 5, y más raramente 1. Pero 0,2,4,6 son imposibles.\n\nPodríamos muestrear esta distribución.",
      "metadata": {}
    },
    {
      "cell_type": "markdown",
      "source": "Por cierto, podemos ver el estado de la computación después de la primera etapa:",
      "metadata": {}
    },
    {
      "cell_type": "code",
      "source": "# el format da en orden contrario a lo de arriba\nprint('y1 x2 c1 s0')\nfor k,v in enumerate(stage1 @ state):\n    if v >0:\n        print(f'{k:04b}',v)",
      "metadata": {
        "trusted": true
      },
      "execution_count": null,
      "outputs": []
    },
    {
      "cell_type": "markdown",
      "source": "Es decir, s0 es seguro 1 y el carry 0, y los bits más significativos que atravisan reparten su probabilidad de acuerdo con el estado inicial.",
      "metadata": {}
    },
    {
      "cell_type": "markdown",
      "source": "Estas matrices de transformación son [matrices estocásticas](https://en.wikipedia.org/wiki/Stochastic_matrix), transforman densidades de probabilidad en densidades de probabilidad. Son probabilidades condicionadas, Y por tanto, cada columna debe sumar 1.\n\nRecordemos que producto matriz vector implementa la contracción P(y) = Sum P(y|x) P(x).",
      "metadata": {}
    },
    {
      "cell_type": "code",
      "source": "showmat(stage1)",
      "metadata": {
        "trusted": true
      },
      "execution_count": null,
      "outputs": []
    },
    {
      "cell_type": "markdown",
      "source": "Los ejemplos anteriores son circuitos deterministas, por tanto las columnas no solo suman 1 sino que cada elemento de la base de estados de entrada produce sin ambiguedad una configuración de salida. Eso sí, es completamente normal que varios estados de entrada vayan al mismo de salida. Cada fila contiene las configuraciones que la activan.",
      "metadata": {}
    },
    {
      "cell_type": "markdown",
      "source": "Podemos analizar son eigensystem y svd estas matrices y se saca información interesante.",
      "metadata": {}
    },
    {
      "cell_type": "code",
      "source": "np.linalg.eig(stage1)[0]",
      "metadata": {
        "trusted": true
      },
      "execution_count": null,
      "outputs": []
    },
    {
      "cell_type": "markdown",
      "source": "## Computación Reversible",
      "metadata": {}
    },
    {
      "cell_type": "markdown",
      "source": "Pero hay algo más interesante. Si la matriz tiene inversa significa que la computación se puede deshacer, del estado final se puede volver al de partida. La matriz de suma del ejemplo anterior claramente no es invertible, la operación de suma, como tal, no es invertible, a menos que nos las arreglemos para mantener las entradas, explícita o implícitameante en el resultado.",
      "metadata": {}
    },
    {
      "cell_type": "markdown",
      "source": "Afortunadamente existen juegos universales de puertas lógicas reversibles, lo cual implica que en principio se puede computar sin consumir energía. La que se haya consumido se recupera deshaciendo la operación.",
      "metadata": {}
    },
    {
      "cell_type": "markdown",
      "source": "## Computación Cuántica",
      "metadata": {}
    },
    {
      "cell_type": "markdown",
      "source": "El paso siguiente es implementar la operación del problema de Deutsch-Jozsa, y ver la diferencia entre probabilidades y amplitudes.",
      "metadata": {}
    },
    {
      "cell_type": "code",
      "source": "# Walsh-Hadamard Gate\n\nWH = np.array([[1, 1],\n               [1,-1]])/np.sqrt(2)\n\n# two WH gates in parallel for two bits\nmix = tp(WH,WH)\n\ndef konst(x):\n    return 1\n\ndef balanced(x):\n    return 1 if x == 1 else 0\n\nfun = balanced\n#fun = konst\n\ndef xor(x,y):\n    return 1 if x!=y else 0\n\n# creates a reversible operation with an auxiliary input\nrever = Oper([( x, xor(y, fun(x)) ) for y,x in bits(2) ])\n\n# check the operation and the order of bits\nfor x,y in bits(2):\n    xs, yf = encode(rever @ decode([x,y]))\n    print (x,y, xs == x, yf == xor(y,fun(x)))\n\n# with the identity in the auxiliary first bit remains uncertain\n# the second bit is the solution: 0 = konst, 1 = balanced\n# amps = tp(np.eye(2),WH) @ rever @ mix @ decode([0,1])\n\namps = mix @ rever @ mix @ decode([0,1])\nprint('Amplitudes:', amps)\n\nprobs = np.abs(amps)**2\n\nprint('probabilities:')\nfor k,v in zip(bits(2), probs):\n    if v >0:\n        print(k,v)",
      "metadata": {
        "trusted": true
      },
      "execution_count": null,
      "outputs": []
    },
    {
      "cell_type": "code",
      "source": "print(rever.shape)\nshowmat(rever)",
      "metadata": {
        "trusted": true
      },
      "execution_count": null,
      "outputs": []
    },
    {
      "cell_type": "code",
      "source": "showmat(mix@rever@mix)",
      "metadata": {
        "trusted": true
      },
      "execution_count": null,
      "outputs": []
    },
    {
      "cell_type": "code",
      "source": "amps = decode([0,1])\nprint('Amplitudes:', amps)\n\nprobs = np.abs(amps)**2\nprint('probabilities:')\nfor k,v in zip(bits(2), probs):\n    if v >0:\n        print(k,v)",
      "metadata": {
        "trusted": true
      },
      "execution_count": null,
      "outputs": []
    },
    {
      "cell_type": "code",
      "source": "amps = mix @ decode([0,1])\nprint('Amplitudes:', amps)\n\nprobs = np.abs(amps)**2\nprint('probabilities:')\nfor k,v in zip(bits(2), probs):\n    if v >0:\n        print(k,v)",
      "metadata": {
        "trusted": true
      },
      "execution_count": null,
      "outputs": []
    },
    {
      "cell_type": "code",
      "source": "probs = rever @ [0.25,0.25,0.25,0.25]\nprobs",
      "metadata": {
        "trusted": true
      },
      "execution_count": null,
      "outputs": []
    },
    {
      "cell_type": "markdown",
      "source": "## Esencia de la QFT en Shor",
      "metadata": {
        "tags": []
      }
    },
    {
      "cell_type": "code",
      "source": "x = np.zeros(256)\nx[5::9] = 1\nplt.plot(x);\nplt.show()\n\nf = np.fft.ifft(x)\n#plt.plot(np.real(f))\n#plt.plot(np.imag(f));\n#plt.show()\nplt.plot(abs(f));",
      "metadata": {
        "trusted": true
      },
      "execution_count": null,
      "outputs": []
    },
    {
      "cell_type": "markdown",
      "source": "No se puede medir en x porque cada observación vendría con uno distinto y no podríamos deducir el período. Tenerlos todos para la QFT sí considera la propiedad global.",
      "metadata": {}
    },
    {
      "cell_type": "markdown",
      "source": "Hay que ver lo de los convergentes.",
      "metadata": {}
    },
    {
      "cell_type": "markdown",
      "source": "Precioso.",
      "metadata": {}
    }
  ]
}