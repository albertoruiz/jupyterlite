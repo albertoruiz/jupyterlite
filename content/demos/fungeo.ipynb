{
  "metadata": {
    "celltoolbar": "Hide code",
    "hide_code_all_hidden": true,
    "kernelspec": {
      "name": "python",
      "display_name": "Python (Pyodide)",
      "language": "python"
    },
    "language_info": {
      "codemirror_mode": {
        "name": "python",
        "version": 3
      },
      "file_extension": ".py",
      "mimetype": "text/x-python",
      "name": "python",
      "nbconvert_exporter": "python",
      "pygments_lexer": "ipython3",
      "version": "3.8"
    }
  },
  "nbformat_minor": 4,
  "nbformat": 4,
  "cells": [
    {
      "cell_type": "markdown",
      "source": "# Functional Geometry",
      "metadata": {}
    },
    {
      "cell_type": "markdown",
      "source": "This is the implementation by [Massimo Santini](https://github.com/mapio/programming-with-escher) of the [Functional Geometry](https://eprints.soton.ac.uk/257577/1/funcgeo2.pdf) paper of Peter Henderson, with a few minor changes to run it easily in the browser.",
      "metadata": {}
    },
    {
      "cell_type": "markdown",
      "source": "## Implementation",
      "metadata": {
        "tags": [],
        "jp-MarkdownHeadingCollapsed": true
      }
    },
    {
      "cell_type": "code",
      "source": "%matplotlib inline\n%config InlineBackend.figure_format = 'retina'\n\n%pip install svgpath2mpl\n\nimport numpy as np\nfrom math import sqrt\n\nfrom matplotlib import rcParams, pyplot as plt\nfrom matplotlib.path import Path\nfrom matplotlib.patches import PathPatch, Rectangle\nfrom matplotlib.transforms import Affine2D as T\n\nfrom svgpath2mpl import parse_path\n\nclass Tile(object):\n\n    def __init__(self, path = None):\n        self.bbox = True\n        if not path: path = Path([(0,0)])\n        self.path = path\n\n    @classmethod\n    def read(cls, name):\n        with open('{}.path'.format(name)) as _: \n            return cls(\n                parse_path(_.read()).transformed(\n                    T().scale(1, -1).translate(0, 1)\n                )\n            )\n\n    @staticmethod\n    def union(tile0, tile1):\n        return Tile(Path.make_compound_path(tile0.path, tile1.path))\n\n    @staticmethod\n    def transform(tile, transform):\n        return Tile(tile.path.transformed(transform))\n\n    def _ipython_display_(self):\n        fig, ax = plt.subplots()\n        ax.add_patch(PathPatch(self.path, fill = False))\n        if self.bbox:\n            r = Rectangle((0,0), 1, 1, fill = False, linestyle = 'dotted')\n            ax.add_patch(r)\n        plt.axis('equal')\n        plt.axis('off')\n        return fig\n\ndef flip(tile):\n    return Tile.transform(tile, T().scale(-1, 1).translate(1, 0))\n\ndef rot(tile):\n    return Tile.transform(tile, T().rotate_deg(90).translate(1, 0))\n\ndef rot45(tile):\n    return Tile.transform(tile,\n        T().rotate_deg(45).scale(1 / sqrt(2), 1 / sqrt(2)).translate(1 / 2, 1 / 2)\n    )\n\ndef over(tile0, tile1):\n    return Tile.union(tile0, tile1)\n\ndef beside(tile0, tile1, n = 1, m = 1):\n    den = n + m\n    return Tile.union(\n        Tile.transform(tile0, T().scale(n / den, 1)),\n        Tile.transform(tile1, T().scale(m / den, 1).translate(n / den, 0))\n    )\n\ndef above(tile0, tile1, n = 1, m = 1):\n    den = n + m\n    return Tile.union(\n        Tile.transform(tile0, T().scale(1, n / den).translate(0, m / den)),\n        Tile.transform(tile1, T().scale(1, m / den))\n    )\n\n\nclass TileWithOperations(Tile):\n    @staticmethod\n    def addop(tile):\n        t = TileWithOperations()\n        t.path = tile.path\n        return t\n    def __add__(self, other):\n        return TileWithOperations.addop(over(self, other))\n    def __truediv__(self, other):\n        return TileWithOperations.addop(above(self, other))\n    def __or__(self, other):\n        return TileWithOperations.addop(beside(self, other))\n",
      "metadata": {
        "hideCode": true,
        "hidePrompt": true,
        "tags": [],
        "trusted": true
      },
      "execution_count": null,
      "outputs": []
    },
    {
      "cell_type": "code",
      "source": "f = TileWithOperations(Path(np.array([\n    [0.1, 0.9],\n    [0.9, 0.9],\n    [0.9, 0.8],\n    [0.2, 0.8],\n    [0.2, 0.6],\n    [0.6, 0.6],\n    [0.6, 0.5],\n    [0.2, 0.5],\n    [0.2, 0.1],\n    [0.1, 0.1],\n    [0.1, 0.9]]), np.array([1, 2, 2, 2, 2, 2, 2, 2, 2, 2, 2], dtype=np.uint8)))",
      "metadata": {
        "trusted": true
      },
      "execution_count": null,
      "outputs": []
    },
    {
      "cell_type": "code",
      "source": "edge = TileWithOperations(Path(np.array([\n    [1.  , 0.  ],\n    [0.78, 0.05],\n    [0.78, 0.05],\n    [0.58, 0.03],\n    [0.38, 0.2 ],\n    [0.38, 0.2 ],\n    [0.25, 0.27],\n    [0.  , 0.  ]]), np.array([1, 4, 4, 4, 4, 4, 4, 2], dtype=np.uint8)))",
      "metadata": {
        "trusted": true
      },
      "execution_count": null,
      "outputs": []
    },
    {
      "cell_type": "code",
      "source": "fish = TileWithOperations(Path(np.array([\n    [ 0.  ,  1.  ],\n    [ 0.08,  0.98],\n    [ 0.22,  0.82],\n    [ 0.29,  0.72],\n    [ 0.3 ,  0.5 ],\n    [ 0.34,  0.4 ],\n    [ 0.43,  0.32],\n    [ 0.5 ,  0.26],\n    [ 0.5 ,  0.26],\n    [ 0.58,  0.21],\n    [ 0.66,  0.22],\n    [ 0.76,  0.2 ],\n    [ 0.76,  0.2 ],\n    [ 0.82,  0.12],\n    [ 0.94,  0.05],\n    [ 1.  ,  0.  ],\n    [ 1.  ,  0.  ],\n    [ 0.9 ,  0.03],\n    [ 0.81,  0.04],\n    [ 0.76,  0.05],\n    [ 0.76,  0.05],\n    [ 0.69,  0.04],\n    [ 0.62,  0.04],\n    [ 0.55,  0.04],\n    [ 0.55,  0.04],\n    [ 0.49,  0.1 ],\n    [ 0.4 ,  0.17],\n    [ 0.35,  0.2 ],\n    [ 0.35,  0.2 ],\n    [ 0.29,  0.24],\n    [ 0.19,  0.28],\n    [ 0.14,  0.31],\n    [ 0.14,  0.31],\n    [ 0.09,  0.35],\n    [-0.03,  0.43],\n    [-0.05,  0.72],\n    [-0.05,  0.72],\n    [-0.04,  0.82],\n    [-0.02,  0.95],\n    [ 0.  ,  1.  ],\n    [ 0.1 ,  0.85],\n    [ 0.14,  0.82],\n    [ 0.18,  0.78],\n    [ 0.18,  0.75],\n    [ 0.18,  0.75],\n    [ 0.16,  0.74],\n    [ 0.14,  0.73],\n    [ 0.12,  0.73],\n    [ 0.12,  0.73],\n    [ 0.11,  0.77],\n    [ 0.11,  0.81],\n    [ 0.1 ,  0.85],\n    [ 0.05,  0.82],\n    [ 0.1 ,  0.8 ],\n    [ 0.08,  0.74],\n    [ 0.09,  0.7 ],\n    [ 0.09,  0.7 ],\n    [ 0.07,  0.68],\n    [ 0.06,  0.66],\n    [ 0.04,  0.67],\n    [ 0.04,  0.67],\n    [ 0.04,  0.73],\n    [ 0.04,  0.81],\n    [ 0.05,  0.82],\n    [ 0.11,  0.7 ],\n    [ 0.16,  0.56],\n    [ 0.24,  0.39],\n    [ 0.3 ,  0.34],\n    [ 0.3 ,  0.34],\n    [ 0.41,  0.22],\n    [ 0.62,  0.16],\n    [ 0.8 ,  0.08],\n    [ 0.23,  0.8 ],\n    [ 0.35,  0.8 ],\n    [ 0.44,  0.78],\n    [ 0.5 ,  0.75],\n    [ 0.5 ,  0.75],\n    [ 0.5 ,  0.67],\n    [ 0.5 ,  0.59],\n    [ 0.5 ,  0.51],\n    [ 0.5 ,  0.51],\n    [ 0.46,  0.47],\n    [ 0.42,  0.43],\n    [ 0.38,  0.39],\n    [ 0.29,  0.71],\n    [ 0.36,  0.74],\n    [ 0.43,  0.73],\n    [ 0.48,  0.69],\n    [ 0.34,  0.61],\n    [ 0.38,  0.66],\n    [ 0.44,  0.64],\n    [ 0.48,  0.63],\n    [ 0.34,  0.51],\n    [ 0.38,  0.56],\n    [ 0.41,  0.58],\n    [ 0.48,  0.57],\n    [ 0.45,  0.42],\n    [ 0.46,  0.4 ],\n    [ 0.47,  0.39],\n    [ 0.48,  0.39],\n    [ 0.42,  0.39],\n    [ 0.43,  0.36],\n    [ 0.46,  0.32],\n    [ 0.48,  0.33],\n    [ 0.25,  0.26],\n    [ 0.17,  0.17],\n    [ 0.08,  0.09],\n    [ 0.  ,  0.01],\n    [ 0.  ,  0.01],\n    [-0.08,  0.09],\n    [-0.17,  0.18],\n    [-0.25,  0.26],\n    [-0.25,  0.26],\n    [-0.2 ,  0.37],\n    [-0.11,  0.47],\n    [-0.03,  0.57],\n    [-0.17,  0.26],\n    [-0.13,  0.34],\n    [-0.08,  0.4 ],\n    [-0.01,  0.44],\n    [-0.12,  0.21],\n    [-0.07,  0.29],\n    [-0.02,  0.34],\n    [ 0.05,  0.4 ],\n    [-0.06,  0.14],\n    [-0.03,  0.23],\n    [ 0.03,  0.28],\n    [ 0.1 ,  0.34],\n    [-0.02,  0.08],\n    [ 0.02,  0.16],\n    [ 0.09,  0.23],\n    [ 0.16,  0.3 ]]), np.array([1, 4, 4, 4, 1, 4, 4, 4, 1, 4, 4, 4, 1, 4, 4, 4, 1, 4, 4, 4, 1, 4,\n    4, 4, 1, 4, 4, 4, 1, 4, 4, 4, 1, 4, 4, 4, 1, 4, 4, 4, 1, 4, 4, 4,\n    1, 4, 4, 4, 1, 4, 4, 4, 1, 4, 4, 4, 1, 4, 4, 4, 1, 4, 4, 4, 1, 4,\n    4, 4, 1, 4, 4, 4, 1, 4, 4, 4, 1, 4, 4, 4, 1, 4, 4, 4, 1, 4, 4, 4,\n    1, 4, 4, 4, 1, 4, 4, 4, 1, 4, 4, 4, 1, 4, 4, 4, 1, 4, 4, 4, 1, 4,\n    4, 4, 1, 4, 4, 4, 1, 4, 4, 4, 1, 4, 4, 4, 1, 4, 4, 4, 1, 4, 4, 4],\n    dtype=np.uint8)))",
      "metadata": {
        "trusted": true
      },
      "execution_count": null,
      "outputs": []
    },
    {
      "cell_type": "code",
      "source": "triangle = TileWithOperations(Path(np.array([\n    [0., 0.],\n    [1., 0.],\n    [0., 1.],\n    [0., 0.]]), np.array([1, 2, 2, 2], dtype=np.uint8)))",
      "metadata": {
        "trusted": true
      },
      "execution_count": null,
      "outputs": []
    },
    {
      "cell_type": "code",
      "source": "blank = TileWithOperations()",
      "metadata": {
        "hideCode": true,
        "hidePrompt": true,
        "tags": [],
        "trusted": true
      },
      "execution_count": null,
      "outputs": []
    },
    {
      "cell_type": "code",
      "source": "rcParams['figure.figsize'] = 2,2",
      "metadata": {
        "hideCode": true,
        "hidePrompt": true,
        "tags": [],
        "trusted": true
      },
      "execution_count": null,
      "outputs": []
    },
    {
      "cell_type": "markdown",
      "source": "# Programming with Escher",
      "metadata": {
        "hideCode": false,
        "hidePrompt": false,
        "tags": []
      }
    },
    {
      "cell_type": "markdown",
      "source": "This notebook is a collection of *preliminary notes* about a \"code camp\" (or a series of lectures) aimed at young students inspired by the fascinating [Functional Geometry](https://eprints.soton.ac.uk/257577/1/funcgeo2.pdf) paper of Peter Henderson.\n\nIn such work the [Square Limit](https://www.wikiart.org/en/m-c-escher/square-limit) *woodcut* by [Maurits Cornelis Escher](https://en.wikipedia.org/wiki/M._C._Escher) is reconstructed from a set of *primitive* graphical objects suitably *composed* by means of a *functional language*.\n\nHere the approach will be somehow different: first of all because our recipients will be students new to computer science (instead of fellow researchers), but also because besides recalling the fundamental concepts of abstraction levels (and barriers), primitives and composition, present in the original paper, we will here also take the opportunity to introduce some (albeit to some extent elementary) considerations on algebra and geometry, programming and recursion (and perhaps discuss some implementation details).\n\nThis work is to be considered *very preliminary*, it is not yet structured in a series of lectures, nor it is worked out the level at which every topic is to be presented, according to the age (or previous knowledge) of the students. The language and detail level used here is intended for instructors and teachers, and the various topics will be listed as mere hints, not yet as a viable and ready to use syllabus.\n\nAs a last remark, before actually beginning with the notes, the code of this notebook is very loosely derived from previous \"implementations\" of Functional Geometry such as [Shashi Gowda](https://github.com/shashi)'s [Julia version](https://shashi.github.io/ijulia-notebooks/funcgeo/) and  [Micah Hahn](https://github.com/micahhahn)'s [Hasjell version](https://github.com/micahhahn/FunctionalGeometry) (containing the [Bézier curve](https://en.wikipedia.org/wiki/B%C3%A9zier_curve) description of the Escher fish used here). I decided to rewrote such code in a [Jupyter](https://jupyter.org/) notebook written in [Python 3](https://www.python.org/), a simple and widespread language, to make it easier for instructors to adopt it.\n\nThe [source notebook](https://github.com/mapio/programming-with-escher) is available on GitHub (under [GPL v3](https://www.gnu.org/licenses/gpl-3.0.en.html)), feel free to use [issues](https://github.com/mapio/programming-with-escher/issues) to point out errors, or to [fork it](https://help.github.com/articles/fork-a-repo/) to suggest edits.\n\n## Square Limit and tiles\n\nLooking at the original artwork it is evident that it is obtained by the repetition of a basic element (a fish) that is suitably oriented, scaled, and colored.\n\n![squarelimit](https://raw.githubusercontent.com/mapio/programming-with-escher/master/squarelimit.jpg)\n\nThis suggest to start our journey from a **tile** (a set of lines enclosed in the unit square), that is a drawing building block, that we will manipulate to obtain more complex drawings.\n\nNote that, if one wants to follow an \"unplugged\" approach, tiles can be actually printed as objects so that students will be able to experiment with them in the physical world to better introduce themselves with the manipulations that will follow.\n\nIt is a good idea to start with an asymmetric tile, that will make it easier to grasp the effect of the transformations that will be presented.",
      "metadata": {
        "hideCode": false,
        "hidePrompt": false,
        "tags": []
      }
    },
    {
      "cell_type": "code",
      "source": "f",
      "metadata": {
        "hideCode": false,
        "hidePrompt": true,
        "trusted": true
      },
      "execution_count": null,
      "outputs": []
    },
    {
      "cell_type": "markdown",
      "source": "Observe that the dotted line is not part of the tile but serves only as a hint for the tile boundary, moreover tiles are implemented in a way that the notebook automatically draws them (without the need of explicit drawing instructions).\n\n## Transforming tiles\n\nWe are now ready to introduce some **transformations**, namely `rot`  and `flip` that, respectively, rotate counterclockwise (by 90°) a tile, and flip it around its vertical center.",
      "metadata": {
        "hideCode": false,
        "hidePrompt": true
      }
    },
    {
      "cell_type": "code",
      "source": "rot(f)",
      "metadata": {
        "hideCode": false,
        "hidePrompt": true,
        "trusted": true
      },
      "execution_count": null,
      "outputs": []
    },
    {
      "cell_type": "markdown",
      "source": "Observe that the notation is the usual one for *function* application, that should be immediately clear even to students new to programming (but with a basic understanding of mathematical notation). Of course one can *compose* such transformations insomuch function can be composed, that is performed one on the result of another.\n\nThe first observation is that the *order* in which such transformation are performed can make a difference. Consider for instance",
      "metadata": {
        "hideCode": false,
        "hidePrompt": true
      }
    },
    {
      "cell_type": "code",
      "source": "flip(rot(f))",
      "metadata": {
        "trusted": true
      },
      "execution_count": null,
      "outputs": []
    },
    {
      "cell_type": "code",
      "source": "rot(flip(f))",
      "metadata": {
        "trusted": true
      },
      "execution_count": null,
      "outputs": []
    },
    {
      "cell_type": "markdown",
      "source": "The second observation is that some choices, that can seem at first restrictive, can become less of a limitation thanks to composition: we can obtain clockwise rotations by applying three counterclockwise rotations",
      "metadata": {}
    },
    {
      "cell_type": "code",
      "source": "rot(rot(rot(f)))",
      "metadata": {
        "trusted": true
      },
      "execution_count": null,
      "outputs": []
    },
    {
      "cell_type": "markdown",
      "source": "this can stimulate a discussion about the *expressiveness* or *completeness* of a set of *primitives* with respect to an assigned set of tasks.\n\nThen a few *binary* transformations (that is, transformation that operate on two tiles) can be introduced, such as: `above`, `beside` and `over`. The first two combine two tiles by juxtaposition (rescaling the final result so that it will again fit in a unit square), while the latter just lay one tile over another.",
      "metadata": {}
    },
    {
      "cell_type": "code",
      "source": "beside(f, rot(f))",
      "metadata": {
        "trusted": true
      },
      "execution_count": null,
      "outputs": []
    },
    {
      "cell_type": "code",
      "source": "above(flip(f), f)",
      "metadata": {
        "trusted": true
      },
      "execution_count": null,
      "outputs": []
    },
    {
      "cell_type": "markdown",
      "source": "Again one can observe that the order of the arguments is relevant, in the case of these two transformation, while it is not in the case of the latter.",
      "metadata": {}
    },
    {
      "cell_type": "code",
      "source": "over(f, flip(f))",
      "metadata": {
        "trusted": true
      },
      "execution_count": null,
      "outputs": []
    },
    {
      "cell_type": "markdown",
      "source": "## Basic algebraic facts about transformations\n\nSuch transformations can be also implemented as binary operators (thanks to Python ability to define classes that [emulate numeric types](https://docs.python.org/3/reference/datamodel.html#emulating-numeric-types)); one can for instance use `|` and `/` respectively for `beside` and `above`, and `+` for `over`.",
      "metadata": {}
    },
    {
      "cell_type": "code",
      "source": "f / ( f | f )",
      "metadata": {
        "trusted": true
      },
      "execution_count": null,
      "outputs": []
    },
    {
      "cell_type": "markdown",
      "source": "This will allow to investigate (with a natural syntax) basic algebraic structures as (*abelian* or not) *semigroups*, and even *monoids*, once a blank tile is been introduced, as well as more simple concepts as *associativity* and *commutativity*,",
      "metadata": {}
    },
    {
      "cell_type": "code",
      "source": "f + blank",
      "metadata": {
        "trusted": true
      },
      "execution_count": null,
      "outputs": []
    },
    {
      "cell_type": "markdown",
      "source": "## Recursion\n\nIt can be quite natural to introduce functions, initially presented as a sort of macros, to build derived operators. For instance",
      "metadata": {}
    },
    {
      "cell_type": "code",
      "source": "def quartet(p, q, r, s):\n    return above(beside(p, q), beside(r, s))",
      "metadata": {
        "tags": [],
        "trusted": true
      },
      "execution_count": null,
      "outputs": []
    },
    {
      "cell_type": "markdown",
      "source": "is a new transformation, defined in terms of the previous one.",
      "metadata": {}
    },
    {
      "cell_type": "code",
      "source": "quartet(flip(rot(rot(rot(f)))), rot(rot(rot(f))), rot(f), flip(rot(f)))",
      "metadata": {
        "trusted": true
      },
      "execution_count": null,
      "outputs": []
    },
    {
      "cell_type": "markdown",
      "source": "Then **recursion** can be introduced quite naturally to build tiles having self-similar parts. Let's use a triangle to obtain a more pleasing result",
      "metadata": {}
    },
    {
      "cell_type": "code",
      "source": "triangle",
      "metadata": {
        "trusted": true
      },
      "execution_count": null,
      "outputs": []
    },
    {
      "cell_type": "markdown",
      "source": "Let's build a tile where the upper left quarter is a (rotated) triangle surrounded by three tiles similarly defined",
      "metadata": {}
    },
    {
      "cell_type": "code",
      "source": "def rectri(n):\n    if n == 0: \n        return blank\n    else:\n        return quartet(rot(triangle), rectri(n - 1), rectri(n - 1), rectri(n - 1))",
      "metadata": {
        "tags": [],
        "trusted": true
      },
      "execution_count": null,
      "outputs": []
    },
    {
      "cell_type": "markdown",
      "source": "developing the first four levels gives ",
      "metadata": {}
    },
    {
      "cell_type": "code",
      "source": "rectri(4)",
      "metadata": {
        "tags": [],
        "trusted": true
      },
      "execution_count": null,
      "outputs": []
    },
    {
      "cell_type": "markdown",
      "source": "Once can even push things further and show how to use of recursion instead of iteration, emphasizing how expressive a simple set of basic transformation, endowed with composition and recursion, can become.",
      "metadata": {}
    },
    {
      "cell_type": "markdown",
      "source": "## Extending the basic transformations\n\nWhat if we want to write `nonet`, a version of `quartet` that puts together nine tiles in a $3\\times 3$ arrangement? The given `beside` and `above` transformations are halving the width and height of the tiles they operate on, as it is easy to convince oneself, there is no way to use them to implement `nonet`.\n\nTo overcome such limitation, one can extend those transformations so that one can specify also the relative sizes of the combined tiles. For instance, in",
      "metadata": {}
    },
    {
      "cell_type": "code",
      "source": "beside(flip(f), f, 2, 3)",
      "metadata": {
        "trusted": true
      },
      "execution_count": null,
      "outputs": []
    },
    {
      "cell_type": "markdown",
      "source": "the flipped `f` takes $2/5$ of the final tile, whereas `f` takes the other $3/5$. Using such extended transformations one can define",
      "metadata": {}
    },
    {
      "cell_type": "code",
      "source": "def nonet(p, q, r, s, t, u, v, w, x):\n    return above(\n            beside(p, beside(q, r), 1, 2),\n            above(\n                beside(s, beside(t, u), 1, 2),\n                beside(v, beside(w, x), 1, 2), \n            ),\n            1, 2\n    )",
      "metadata": {
        "tags": [],
        "trusted": true
      },
      "execution_count": null,
      "outputs": []
    },
    {
      "cell_type": "markdown",
      "source": "to obtain the desired result",
      "metadata": {}
    },
    {
      "cell_type": "code",
      "source": "nonet(\n    f, f,     f, \n    f, blank, f, \n    f, f,     f\n)",
      "metadata": {
        "trusted": true
      },
      "execution_count": null,
      "outputs": []
    },
    {
      "cell_type": "markdown",
      "source": "of course, according to the way one decomposes the $3\\times 3$ tile as a combination of two sub-tiles, there are many alternative ways to define `nonet` that students can experiment with.\n\nAnother possible approach will be to have `above`, `beside` (and `over`) accept a *variable number of arguments* (thanks to the way functions are [defined](https://docs.python.org/3/reference/compound_stmts.html#function) and [called](https://docs.python.org/3/reference/expressions.html#calls) in Python). In such case, otaining the `nonet` will be trivial.",
      "metadata": {}
    },
    {
      "cell_type": "markdown",
      "source": "## Decomposing the woodcut\n\nThe basic building block of the woodcut is a fish",
      "metadata": {}
    },
    {
      "cell_type": "code",
      "source": "rcParams['figure.figsize'] = 4, 4",
      "metadata": {
        "hideCode": true,
        "hidePrompt": true,
        "tags": [],
        "trusted": true
      },
      "execution_count": null,
      "outputs": []
    },
    {
      "cell_type": "code",
      "source": "fish",
      "metadata": {
        "trusted": true
      },
      "execution_count": null,
      "outputs": []
    },
    {
      "cell_type": "markdown",
      "source": "even if it is not completely contained in a tile (the unit square), Escher choose (we'll discuss such magic in the following) a shape able to fit with his own rotation",
      "metadata": {}
    },
    {
      "cell_type": "code",
      "source": "over(fish,rot(rot(fish)))",
      "metadata": {
        "hideCode": false,
        "hidePrompt": false,
        "trusted": true
      },
      "execution_count": null,
      "outputs": []
    },
    {
      "cell_type": "markdown",
      "source": "But this is not the only magic. Let's define a new transformation that is a 45° rotation and a rescaling (by a $\\sqrt 2$ factor) that, somehow, will \"lift up\" half tile; using it on `triangle` should clarify its definition",
      "metadata": {}
    },
    {
      "cell_type": "code",
      "source": "rot45(triangle)",
      "metadata": {
        "trusted": true
      },
      "execution_count": null,
      "outputs": []
    },
    {
      "cell_type": "markdown",
      "source": "Well, the fish is so magic that if we transform it with such new rotation and `flip` it",
      "metadata": {}
    },
    {
      "cell_type": "code",
      "source": "fish",
      "metadata": {
        "trusted": true
      },
      "execution_count": null,
      "outputs": []
    },
    {
      "cell_type": "code",
      "source": "smallfish = flip(rot45(fish))\nsmallfish",
      "metadata": {
        "hideCode": false,
        "hidePrompt": false,
        "trusted": true
      },
      "execution_count": null,
      "outputs": []
    },
    {
      "cell_type": "markdown",
      "source": "we obtain a new tile that will fit with the original `fish`, even if rotated again",
      "metadata": {}
    },
    {
      "cell_type": "code",
      "source": "t = over(fish, over(smallfish, rot(rot(rot(smallfish)))))\nt",
      "metadata": {
        "hideCode": false,
        "hidePrompt": false,
        "trusted": true
      },
      "execution_count": null,
      "outputs": []
    },
    {
      "cell_type": "markdown",
      "source": "and will moreover fit with itself however rotated",
      "metadata": {}
    },
    {
      "cell_type": "code",
      "source": "u = over(over(over(smallfish, rot(smallfish)), rot(rot(smallfish))), rot(rot(rot(smallfish))))\nu",
      "metadata": {
        "hideCode": false,
        "hidePrompt": false,
        "trusted": true
      },
      "execution_count": null,
      "outputs": []
    },
    {
      "cell_type": "markdown",
      "source": "The `t` and `u` tiles just defined are the building blocks of the woodcut; a recursive definition of the side, based just on `t` is given by",
      "metadata": {}
    },
    {
      "cell_type": "code",
      "source": "def side(n):\n    if n == 0: \n        return blank\n    else: \n        return quartet(side(n-1), side(n-1), rot(t), t)",
      "metadata": {
        "tags": [],
        "trusted": true
      },
      "execution_count": null,
      "outputs": []
    },
    {
      "cell_type": "markdown",
      "source": "Expanding the first two levels gives",
      "metadata": {}
    },
    {
      "cell_type": "code",
      "source": "side(2)",
      "metadata": {
        "hideCode": false,
        "hidePrompt": false,
        "trusted": true
      },
      "execution_count": null,
      "outputs": []
    },
    {
      "cell_type": "markdown",
      "source": "Similarly, a recursive definition of the corner, based on the `side` and `u` is given by",
      "metadata": {}
    },
    {
      "cell_type": "code",
      "source": "def corner(n):\n    if n == 0:\n        return blank\n    else:\n        return quartet(corner(n-1), side(n-1), rot(side(n-1)), u)",
      "metadata": {
        "tags": [],
        "trusted": true
      },
      "execution_count": null,
      "outputs": []
    },
    {
      "cell_type": "markdown",
      "source": "As before, the first two levels are",
      "metadata": {}
    },
    {
      "cell_type": "code",
      "source": "corner(2)",
      "metadata": {
        "hideCode": false,
        "hidePrompt": false,
        "trusted": true
      },
      "execution_count": null,
      "outputs": []
    },
    {
      "cell_type": "markdown",
      "source": "We now can use a `nonet`  to put together the (suitably rotated) sides and corners, as follows",
      "metadata": {}
    },
    {
      "cell_type": "code",
      "source": "def squarelimit(n):\n    return nonet(\n        corner(n), \n        side(n), \n        rot(rot(rot(corner(n)))), \n        rot(side(n)), \n        u, \n        rot(rot(rot(side(n)))),\n        rot(corner(n)), \n        rot(rot(side(n))), \n        rot(rot(corner(n)))\n    )",
      "metadata": {
        "tags": [],
        "trusted": true
      },
      "execution_count": null,
      "outputs": []
    },
    {
      "cell_type": "markdown",
      "source": "Expanding the first three levels gives",
      "metadata": {}
    },
    {
      "cell_type": "code",
      "source": "rcParams['figure.figsize'] = 20, 20",
      "metadata": {
        "hideCode": true,
        "hidePrompt": true,
        "tags": [],
        "trusted": true
      },
      "execution_count": null,
      "outputs": []
    },
    {
      "cell_type": "code",
      "source": "squarelimit(3)",
      "metadata": {
        "hideCode": false,
        "hidePrompt": false,
        "trusted": true
      },
      "execution_count": null,
      "outputs": []
    },
    {
      "cell_type": "markdown",
      "source": "## The magic fish\n\nWhat is actually even more magic is that (the outline) of the fish, that makes it fit with himself in so many ways, can be obtained just from a simple line",
      "metadata": {}
    },
    {
      "cell_type": "code",
      "source": "rcParams['figure.figsize'] = 4, 4",
      "metadata": {
        "hideCode": true,
        "hidePrompt": true,
        "tags": [],
        "trusted": true
      },
      "execution_count": null,
      "outputs": []
    },
    {
      "cell_type": "code",
      "source": "edge",
      "metadata": {
        "hideCode": false,
        "hidePrompt": false,
        "trusted": true
      },
      "execution_count": null,
      "outputs": []
    },
    {
      "cell_type": "markdown",
      "source": "this can be duplicated and transformed with `rot45` to obtain the left side of the fish",
      "metadata": {}
    },
    {
      "cell_type": "code",
      "source": "outline2 = over(\n    rot45(flip(rot(edge))),\n    rot(rot(rot45(flip(rot(edge)))))\n)\noutline2",
      "metadata": {
        "hideCode": false,
        "hidePrompt": false,
        "trusted": true
      },
      "execution_count": null,
      "outputs": []
    },
    {
      "cell_type": "markdown",
      "source": "to obtain the other side of the fish we need to rotate the `edge` and to translate it outside of the boundary of the tile… this can't be accomplished with the basic transformations we introduced above, but more directly as",
      "metadata": {}
    },
    {
      "cell_type": "code",
      "source": "outline3 = Tile.transform(rot(edge), T().translate(-1,0))\noutline3",
      "metadata": {
        "trusted": true
      },
      "execution_count": null,
      "outputs": []
    },
    {
      "cell_type": "markdown",
      "source": "we are now ready to put together the three edges to obtain the fish",
      "metadata": {}
    },
    {
      "cell_type": "code",
      "source": "outline = over(edge, Tile.union(outline3, outline2))\noutline",
      "metadata": {
        "hideCode": false,
        "hidePrompt": false,
        "trusted": true
      },
      "execution_count": null,
      "outputs": []
    },
    {
      "cell_type": "markdown",
      "source": "the role of the basic `edge` can become more clear if we add the `triangle` tile",
      "metadata": {}
    },
    {
      "cell_type": "code",
      "source": "over(triangle, outline)",
      "metadata": {
        "hideCode": false,
        "hidePrompt": false,
        "trusted": true
      },
      "execution_count": null,
      "outputs": []
    },
    {
      "cell_type": "markdown",
      "source": "By drawing the `squarelimit` using the `triangle` as a basic tile helps understanding the magic of how the tiles fit",
      "metadata": {}
    },
    {
      "cell_type": "code",
      "source": "def _t(base):\n    t2 = flip(rot45(base))\n    t3 = rot(rot(rot(t2)))\n    return over(base, over(t2, t3))\n\ndef _u(base):\n    t2 = flip(rot45(base))\n    return over(over(t2, rot(t2)), over(rot(rot(t2)), rot(rot(rot(t2)))))\n\nt = _t(triangle)\nu = _u(triangle)",
      "metadata": {
        "hideCode": true,
        "hidePrompt": true,
        "tags": [],
        "trusted": true
      },
      "execution_count": null,
      "outputs": []
    },
    {
      "cell_type": "code",
      "source": "squarelimit(3)",
      "metadata": {
        "hideCode": false,
        "hidePrompt": false,
        "trusted": true
      },
      "execution_count": null,
      "outputs": []
    },
    {
      "cell_type": "markdown",
      "source": "Perhaps even better if we use the `outline`",
      "metadata": {}
    },
    {
      "cell_type": "code",
      "source": "t = _t(outline)\nu = _u(outline)",
      "metadata": {
        "hideCode": true,
        "hidePrompt": true,
        "tags": [],
        "trusted": true
      },
      "execution_count": null,
      "outputs": []
    },
    {
      "cell_type": "code",
      "source": "squarelimit(3)",
      "metadata": {
        "hideCode": false,
        "hidePrompt": false,
        "trusted": true
      },
      "execution_count": null,
      "outputs": []
    },
    {
      "cell_type": "markdown",
      "source": "## Implementation notes\n\nImplementing the above primitives can be done in so many ways, that is hard to argue which will be the better.\n\nHere all the drawing is made using [Matplotlib](https://matplotlib.org), probably the most common Python plotting library; few details of our implementation are:\n\n* the [matplotlib.path.Path](https://matplotlib.org/api/path_api.html#matplotlib.path.Path), that \"represents a series of possibly disconnected, possibly closed, line and curve segments\" is used as a basic building block for tiles;\n\n* such paths can be easily *transformed* using [matplotlib.transforms.Affine2D](https://matplotlib.org/api/transformations.html#matplotlib.transforms.Affine2D) that very conveniently perform scaling and translations;\n\n* once the path with the desired shape is obtained, it can be turned in a [matplotlib.patches.PathPatch](https://matplotlib.org/api/patches_api.html#matplotlib.patches.PathPatch) that can be straightforwardly rendered by [matplotlib.axes.Axes.add_patch](https://matplotlib.org/api/_as_gen/matplotlib.axes.Axes.add_patch.html).\n\nOf course, instead of using the Matplotlib code for transformation one can take the opportunity to introduce more in detail the *affine transformations*, providing a simple \"hand made\" implementation.s",
      "metadata": {}
    },
    {
      "cell_type": "markdown",
      "source": "# Playground",
      "metadata": {}
    },
    {
      "cell_type": "markdown",
      "source": "## Operations",
      "metadata": {}
    },
    {
      "cell_type": "code",
      "source": "b = blank\ng = TileWithOperations(Path.circle())",
      "metadata": {
        "trusted": true
      },
      "execution_count": null,
      "outputs": []
    },
    {
      "cell_type": "code",
      "source": "g",
      "metadata": {
        "trusted": true
      },
      "execution_count": null,
      "outputs": []
    },
    {
      "cell_type": "code",
      "source": "((g | g | g | g) / g) + g",
      "metadata": {
        "trusted": true
      },
      "execution_count": null,
      "outputs": []
    },
    {
      "cell_type": "code",
      "source": "g = (b | g) / (b)\ng",
      "metadata": {
        "trusted": true
      },
      "execution_count": null,
      "outputs": []
    },
    {
      "cell_type": "code",
      "source": "(g|g)/b",
      "metadata": {
        "trusted": true
      },
      "execution_count": null,
      "outputs": []
    },
    {
      "cell_type": "code",
      "source": "_ + g",
      "metadata": {
        "trusted": true
      },
      "execution_count": null,
      "outputs": []
    },
    {
      "cell_type": "markdown",
      "source": "## Monotile",
      "metadata": {
        "tags": []
      }
    },
    {
      "cell_type": "code",
      "source": "m = TileWithOperations(parse_path(\"M 0 0 L 1.73205081 0 L 1.73205081 -1 L 2.59807621 -1.5 L 1.73205081 -3 L 0 -3 L 0 -4 L -0.86602540 -4.5 L -1.73205081 -3 L -0.86602540 -1.5 L -1.73205081 -1 L -1.73205081 1 L -0.86602540 1.5 L 0 0 z\"))\nm",
      "metadata": {
        "trusted": true
      },
      "execution_count": null,
      "outputs": []
    }
  ]
}