{
  "metadata": {
    "hide_input": false,
    "kernelspec": {
      "name": "python",
      "display_name": "Python (Pyodide)",
      "language": "python"
    },
    "language_info": {
      "codemirror_mode": {
        "name": "python",
        "version": 3
      },
      "file_extension": ".py",
      "mimetype": "text/x-python",
      "name": "python",
      "nbconvert_exporter": "python",
      "pygments_lexer": "ipython3",
      "version": "3.8"
    }
  },
  "nbformat_minor": 4,
  "nbformat": 4,
  "cells": [
    {
      "cell_type": "markdown",
      "source": "# Bayesian localization of Neptune",
      "metadata": {}
    },
    {
      "cell_type": "code",
      "source": "%matplotlib inline\n\nimport cv2\n\nimport numpy as np\nimport numpy.linalg as la \nimport matplotlib.pyplot as plt\nfrom scipy.integrate import odeint\n\nfrom umucv.kalman import kalman, ukf\nfrom umucv.htrans import rotation\n\nfrom matplotlib.patches import Ellipse",
      "metadata": {
        "tags": [],
        "trusted": true
      },
      "execution_count": null,
      "outputs": []
    },
    {
      "cell_type": "code",
      "source": "ua = 150e9\nyr = 365*24*60*60",
      "metadata": {
        "tags": [],
        "trusted": true
      },
      "execution_count": null,
      "outputs": []
    },
    {
      "cell_type": "code",
      "source": "def accel(x,m):\n    n = len(m)\n    a = np.zeros([n,3])\n    for k in range(n):\n        for j in range(n):\n            if k != j:\n                r = x[j]-x[k]\n                r3 = la.norm(r)**3\n                a[k] += m[j] / r3 * r\n    return a",
      "metadata": {
        "collapsed": false,
        "jupyter": {
          "outputs_hidden": false
        },
        "trusted": true
      },
      "execution_count": null,
      "outputs": []
    },
    {
      "cell_type": "code",
      "source": "def nbody(r0,v0,m,t):\n    n = len(m)\n\n    def xdot(z,t):\n        #print(len(z))\n        global count\n        count += 1\n        r = z[:3*n].reshape(-1,3)\n        v = z[3*n:]\n        a = accel(r,m).flatten()\n        return np.concatenate([v,a])\n\n    s0 = np.concatenate([r0.flatten(),v0.flatten()])\n    #print(s0)\n    s = odeint(xdot,s0,t)\n\n    return [(s[:3*n].reshape(-1,3), s[3*n:].reshape(-1,3)) for s in s]",
      "metadata": {
        "tags": [],
        "trusted": true
      },
      "execution_count": null,
      "outputs": []
    },
    {
      "cell_type": "code",
      "source": "def cart2sph(v):\n    x,y,z = v\n    r = np.sqrt(x**2+y**2+z**2)\n    t = np.arccos(z/r)\n    f = np.arctan2(y,x)\n    return np.array([r,t,f])",
      "metadata": {
        "tags": [],
        "trusted": true
      },
      "execution_count": null,
      "outputs": []
    },
    {
      "cell_type": "code",
      "source": "def view(v):\n    s = cart2sph(v)\n    return np.degrees(s[1:])",
      "metadata": {
        "tags": [],
        "trusted": true
      },
      "execution_count": null,
      "outputs": []
    },
    {
      "cell_type": "markdown",
      "source": "https://en.wikipedia.org/wiki/Standard_gravitational_parameter\n\nhttps://downloads.rene-schwarz.com/download/M002-Cartesian_State_Vectors_to_Keplerian_Orbit_Elements.pdf",
      "metadata": {}
    },
    {
      "cell_type": "markdown",
      "source": "## Uranus - Neptune",
      "metadata": {}
    },
    {
      "cell_type": "code",
      "source": "datar = np.array(np.matrix(\"\"\"\n0      0   0   0   0        0    1.327E20    ;\n0.466  0   0   0   47E3     0    2.203E13    ;\n0.723  0   0   0   35E3     0    3.249E14    ;\n1      0   0   0   30.0E3   0    3.986E14    ;\n1.0026 0   0   0   31.0E3   0    4.905E12    ;\n1.52   0   0   0   24E3     0    4.283E13    ;\n5.2    0   0   0   13E3     0    1.267E17    ;\n9.5    0   0   0   9.7E3    0    3.793E16    ;\n19     0   0   0   6.8E3    0    5.794E15    ;\n30     0   0   0   5.43E3   0    6.837E15    \"\"\"))\n\n\n#data = data[[0,8,9,3]]\ndata = datar[[8,9,0]]\n\nr0 = data[:,:3]\nv0 = data[:,3:6] * yr    / ua\nmu = data[:,6]   * yr**2 / ua**3\n\n\nr0[0] = rotation((0,0,1),np.radians(-30)) @ r0[0]\n\nv0[0] = rotation((0,0,1),np.radians(-30)) @ rotation((1,0,0),np.radians(-20)) @ v0[0]\nv0[1] =                                     rotation((1,0,0),np.radians( 10)) @ v0[1]",
      "metadata": {
        "collapsed": false,
        "jupyter": {
          "outputs_hidden": false
        },
        "trusted": true
      },
      "execution_count": null,
      "outputs": []
    },
    {
      "cell_type": "code",
      "source": "mu",
      "metadata": {
        "collapsed": false,
        "jupyter": {
          "outputs_hidden": false
        },
        "trusted": true
      },
      "execution_count": null,
      "outputs": []
    },
    {
      "cell_type": "code",
      "source": "dt = 3\nN = 160//3\n\ncount = 0\npaths = np.array([x[0] for x in nbody(r0,v0,mu,np.arange(N+1)*dt)]).transpose(1,2,0)\nprint(count)",
      "metadata": {
        "collapsed": false,
        "jupyter": {
          "outputs_hidden": false
        },
        "trusted": true
      },
      "execution_count": null,
      "outputs": []
    },
    {
      "cell_type": "code",
      "source": "plt.figure(figsize=(10,10))\nfor p in paths:\n    plt.plot(p[0],p[1],'.-')\nplt.axis('equal');",
      "metadata": {
        "collapsed": false,
        "jupyter": {
          "outputs_hidden": false
        },
        "trusted": true
      },
      "execution_count": null,
      "outputs": []
    },
    {
      "cell_type": "code",
      "source": "relpaths = np.apply_along_axis(view,-1,np.delete((paths - paths[-1]),-1,axis=0).transpose(0,2,1)).transpose(0,2,1)",
      "metadata": {
        "collapsed": false,
        "jupyter": {
          "outputs_hidden": false
        },
        "trusted": true
      },
      "execution_count": null,
      "outputs": []
    },
    {
      "cell_type": "code",
      "source": "plt.figure(figsize=(10,5))\nfor p in relpaths[0:]:\n    plt.plot(p[1],p[0],'.-',markersize=3)\nplt.axis('equal'); plt.grid()",
      "metadata": {
        "collapsed": false,
        "jupyter": {
          "outputs_hidden": false
        },
        "trusted": true
      },
      "execution_count": null,
      "outputs": []
    },
    {
      "cell_type": "code",
      "source": "mu_2 = mu.copy()\nmu_2[1] = mu[1]/1e6\ncount = 0\npaths2 = np.array([x[0] for x in nbody(r0,v0,mu_2,np.arange(N+1)*dt)]).transpose(1,2,0)\nprint(count)",
      "metadata": {
        "collapsed": false,
        "jupyter": {
          "outputs_hidden": false
        },
        "trusted": true
      },
      "execution_count": null,
      "outputs": []
    },
    {
      "cell_type": "code",
      "source": "plt.figure(figsize=(10,10))\nfor p in paths2:\n    plt.plot(p[0],p[1],'.-')\nplt.axis('equal');",
      "metadata": {
        "collapsed": false,
        "jupyter": {
          "outputs_hidden": false
        },
        "trusted": true
      },
      "execution_count": null,
      "outputs": []
    },
    {
      "cell_type": "code",
      "source": "plt.figure(figsize=(10,10))\nfor p in paths:\n    plt.plot(p[0],p[1],'.-')\nfor p in paths2:\n    plt.plot(p[0],p[1],'.-')\nplt.axis('equal');",
      "metadata": {
        "collapsed": false,
        "jupyter": {
          "outputs_hidden": false
        },
        "trusted": true
      },
      "execution_count": null,
      "outputs": []
    },
    {
      "cell_type": "code",
      "source": "relpaths2 = np.apply_along_axis(view,-1,np.delete((paths2 - paths2[-1]),-1,axis=0).transpose(0,2,1)).transpose(0,2,1)",
      "metadata": {
        "collapsed": false,
        "jupyter": {
          "outputs_hidden": false
        },
        "trusted": true
      },
      "execution_count": null,
      "outputs": []
    },
    {
      "cell_type": "code",
      "source": "plt.figure(figsize=(10,10))\nfor p in relpaths[0:1]:\n    plt.plot(p[1],p[0],'.-',markersize=5,lw=.1)\nfor p in relpaths2[0:1]:\n    plt.plot(p[1],p[0],'.-',markersize=5,lw=.1)\nplt.axis([88,89,107,108]); plt.grid()",
      "metadata": {
        "collapsed": false,
        "jupyter": {
          "outputs_hidden": false
        },
        "trusted": true
      },
      "execution_count": null,
      "outputs": []
    },
    {
      "cell_type": "code",
      "source": "col = ['blue','green','red']\nc = 0\nplt.figure(figsize=(10,10))\nfor p in (relpaths-relpaths2)[0:].transpose(0,2,1)*60*60:\n    for e in p:\n        plt.plot([0,e[1]],[0,e[0]],'.-',color=col[c],lw=0.1)\n    c += 1\nfor p in (relpaths-relpaths2)[0:1]*60*60:\n    plt.plot(p[1],p[0])\nplt.axis('equal'); plt.grid(); plt.title('error (arcsec)');",
      "metadata": {
        "collapsed": false,
        "jupyter": {
          "outputs_hidden": false
        },
        "trusted": true
      },
      "execution_count": null,
      "outputs": []
    },
    {
      "cell_type": "code",
      "source": "err = np.apply_along_axis(la.norm,1,paths-paths2)",
      "metadata": {
        "collapsed": false,
        "jupyter": {
          "outputs_hidden": false
        },
        "trusted": true
      },
      "execution_count": null,
      "outputs": []
    },
    {
      "cell_type": "code",
      "source": "plt.plot(np.arange(len(err[1]))*3,err[1]);",
      "metadata": {
        "collapsed": false,
        "jupyter": {
          "outputs_hidden": false
        },
        "trusted": true
      },
      "execution_count": null,
      "outputs": []
    },
    {
      "cell_type": "code",
      "source": "for p in (relpaths-relpaths2)[0:1]*60*60:\n    plt.plot(np.arange(len(err[1]))*3,p[1])",
      "metadata": {
        "collapsed": false,
        "jupyter": {
          "outputs_hidden": false
        },
        "trusted": true
      },
      "execution_count": null,
      "outputs": []
    },
    {
      "cell_type": "code",
      "source": "paths.transpose(0,2,1)[:,0,:]",
      "metadata": {
        "collapsed": false,
        "jupyter": {
          "outputs_hidden": false
        },
        "trusted": true
      },
      "execution_count": null,
      "outputs": []
    },
    {
      "cell_type": "code",
      "source": "r0",
      "metadata": {
        "collapsed": false,
        "jupyter": {
          "outputs_hidden": false
        },
        "trusted": true
      },
      "execution_count": null,
      "outputs": []
    },
    {
      "cell_type": "code",
      "source": "def st2vec(pv):\n    r,v,m = pv\n    return np.concatenate([r.flatten(),v.flatten(),m])\n\ndef vec2st(st):\n    n = len(st)//7\n    r = st[0:3*n].reshape(-1,3)\n    v = st[3*n:6*n].reshape(-1,3)\n    m = st[-n:]\n    return r,v,m\n\ndef obs1(st):\n    #return st[[0,1,2,6,7,8,9,10,11,15,16,17]]\n    return st[[0,1,2,6,7,8]]\n",
      "metadata": {
        "tags": [],
        "trusted": true
      },
      "execution_count": null,
      "outputs": []
    },
    {
      "cell_type": "code",
      "source": "st2vec((r0,v0,mu))",
      "metadata": {
        "collapsed": false,
        "jupyter": {
          "outputs_hidden": false
        },
        "trusted": true
      },
      "execution_count": null,
      "outputs": []
    },
    {
      "cell_type": "code",
      "source": "vec2st(st2vec((r0,v0,mu)))",
      "metadata": {
        "collapsed": false,
        "jupyter": {
          "outputs_hidden": false
        },
        "trusted": true
      },
      "execution_count": null,
      "outputs": []
    },
    {
      "cell_type": "code",
      "source": "paths[:,:,0]",
      "metadata": {
        "collapsed": false,
        "jupyter": {
          "outputs_hidden": false
        },
        "trusted": true
      },
      "execution_count": null,
      "outputs": []
    },
    {
      "cell_type": "code",
      "source": "r0",
      "metadata": {
        "collapsed": false,
        "jupyter": {
          "outputs_hidden": false
        },
        "trusted": true
      },
      "execution_count": null,
      "outputs": []
    },
    {
      "cell_type": "code",
      "source": "v0",
      "metadata": {
        "collapsed": false,
        "jupyter": {
          "outputs_hidden": false
        },
        "trusted": true
      },
      "execution_count": null,
      "outputs": []
    },
    {
      "cell_type": "code",
      "source": "count = 0\npaths = np.array([st2vec((x,v,mu)) for x,v in nbody(r0,v0,mu,np.arange(N+1)*dt)])\nprint(count)\nprint(paths.shape)",
      "metadata": {
        "collapsed": false,
        "jupyter": {
          "outputs_hidden": false
        },
        "trusted": true
      },
      "execution_count": null,
      "outputs": []
    },
    {
      "cell_type": "code",
      "source": "paths[0]",
      "metadata": {
        "collapsed": false,
        "jupyter": {
          "outputs_hidden": false
        },
        "trusted": true
      },
      "execution_count": null,
      "outputs": []
    },
    {
      "cell_type": "code",
      "source": "obs = np.apply_along_axis(obs1,1,paths)\nprint(obs.shape)",
      "metadata": {
        "collapsed": false,
        "jupyter": {
          "outputs_hidden": false
        },
        "trusted": true
      },
      "execution_count": null,
      "outputs": []
    },
    {
      "cell_type": "code",
      "source": "paths",
      "metadata": {
        "collapsed": false,
        "jupyter": {
          "outputs_hidden": false
        },
        "trusted": true
      },
      "execution_count": null,
      "outputs": []
    },
    {
      "cell_type": "code",
      "source": "paths[0]",
      "metadata": {
        "collapsed": false,
        "jupyter": {
          "outputs_hidden": false
        },
        "trusted": true
      },
      "execution_count": null,
      "outputs": []
    },
    {
      "cell_type": "code",
      "source": "def f(x):\n    r,v,m = vec2st(x)\n    _,(r,v) = nbody(r,v,m,[0,dt])\n    return st2vec((r,v,m))\n\ndef h(x):\n    return obs1(x)\n\ndef b(x):\n    return 0",
      "metadata": {
        "tags": [],
        "trusted": true
      },
      "execution_count": null,
      "outputs": []
    },
    {
      "cell_type": "code",
      "source": "f(paths[10]) - paths[11]",
      "metadata": {
        "collapsed": false,
        "jupyter": {
          "outputs_hidden": false
        },
        "trusted": true
      },
      "execution_count": null,
      "outputs": []
    },
    {
      "cell_type": "code",
      "source": "paths[2]",
      "metadata": {
        "collapsed": false,
        "jupyter": {
          "outputs_hidden": false
        },
        "trusted": true
      },
      "execution_count": null,
      "outputs": []
    },
    {
      "cell_type": "code",
      "source": "v0",
      "metadata": {
        "collapsed": false,
        "jupyter": {
          "outputs_hidden": false
        },
        "trusted": true
      },
      "execution_count": null,
      "outputs": []
    },
    {
      "cell_type": "code",
      "source": "sigmaP = 1e-5\nsigmaM = 1e-9\nsigmaZ = 1e-5\n\n\nmU  = paths[0].copy()\nP  = sigmaP**2*np.eye(len(mU))\n\nmU[3] = 40\nP[3,3] = 10**2\n\nmU[4] += -5\nP[4,4] = 10**2\n\nmU[5] = 2\nP[5,5] = 2**2\n\n\nmU[12] = 0\nP[12,12] = 0.2**2\n\n\nmU[13] = 1\nP[13,13] = 0.2**2\n\nmU[14] = 0\nP[14,14] = 0.2**2\n\n\nmU[19] = 1.5e-3\nP[19,19] = 0.5e-3 **2\n\n\nQ = sigmaM**2 * np.eye(len(mU))\nR = sigmaZ**2 * np.eye(len(obs[0]))\n\nres = [(mU,P,obs1(mU))]\nepath = [mU]\npreds = [obs1(mU)]",
      "metadata": {
        "collapsed": false,
        "jupyter": {
          "outputs_hidden": false
        },
        "trusted": true
      },
      "execution_count": null,
      "outputs": []
    },
    {
      "cell_type": "code",
      "source": "N = 15\n\nfor z in obs[1:N+1]:\n    mU,P,pred = ukf(mU,P,f,Q,b,0,z,h,R)\n    print(pred.shape)\n    res += [(mU,P,pred)]\n    epath += [mU]\n    preds += [pred]\n\nepath = np.array(epath).T\nprint(epath.shape)",
      "metadata": {
        "collapsed": false,
        "jupyter": {
          "outputs_hidden": false
        },
        "trusted": true
      },
      "execution_count": null,
      "outputs": []
    },
    {
      "cell_type": "code",
      "source": "xe = [mu[3] for mu,_,_ in res]             # coordenada x estimada\nxu = [2*np.sqrt(P[3,3]) for _,P,_ in res]  # su incertidumbre\n\nye = [mu[4] for mu,_,_ in res]             # lo mismo para y\nyu = [2*np.sqrt(P[4,4]) for _,P,_ in res]\n\nfig,ax = plt.subplots(figsize=(12,12))\n\nfor k in range(len(xe)):\n    ax.add_patch(Ellipse(xy=(xe[k],ye[k]), width=xu[k], height=yu[k], angle = 0, alpha=0.2))\n\nplt.plot(paths[:N+1,0],paths[:N+1,1],'-',color='gray',lw=0.5)\nplt.plot(paths[:N+1,3],paths[:N+1,4],'-',color='gray',lw=0.5)\nplt.plot(epath[0],epath[1],'.-')\nplt.plot(epath[3],epath[4],'.-')\nplt.axis('equal');",
      "metadata": {
        "collapsed": false,
        "jupyter": {
          "outputs_hidden": false
        },
        "trusted": true
      },
      "execution_count": null,
      "outputs": []
    },
    {
      "cell_type": "code",
      "source": "errs=np.abs(obs[0:N+1].T - np.array(preds).T)\n\ncol = ['blue','blue','blue', 'green','green','green', 'gray', 'gray', 'gray', 'gray', 'gray', 'gray']\nc = 0\nfor e in errs:\n    plt.plot(e,color=col[c])\n    c +=1",
      "metadata": {
        "collapsed": false,
        "jupyter": {
          "outputs_hidden": false
        },
        "trusted": true
      },
      "execution_count": null,
      "outputs": []
    },
    {
      "cell_type": "code",
      "source": "plt.plot(epath[19],label='estimated');\nplt.plot([0,N],[mu[1],mu[1]],label='true');\nplt.title('Neptune mass');\nplt.xlabel('steps'); plt.ylabel('GM (UA-yr)')\nplt.legend();",
      "metadata": {
        "collapsed": false,
        "jupyter": {
          "outputs_hidden": false
        },
        "trusted": true
      },
      "execution_count": null,
      "outputs": []
    },
    {
      "cell_type": "code",
      "source": "v = []\nfor x in epath.T:\n    n = x[3:6]\n    s = x[6:9]\n    v += [view(n-s)]\nv = np.array(v).T\nv.shape\n\nw = []\nfor x in paths[0:N+1]:\n    n = x[3:6]\n    s = x[6:9]\n    w += [view(n-s)]\nw = np.array(w).T\nw.shape\n\nplt.figure(figsize=(10,5))\nplt.plot(v[1],v[0],'.-')\nplt.plot(w[1],w[0],'.-')\nplt.axis('equal'); plt.grid()",
      "metadata": {
        "collapsed": false,
        "jupyter": {
          "outputs_hidden": false
        },
        "trusted": true
      },
      "execution_count": null,
      "outputs": []
    },
    {
      "cell_type": "code",
      "source": "plt.plot(np.apply_along_axis(la.norm,1,(v-w).T));\nplt.grid();\nplt.title('heliocentric estimation error');",
      "metadata": {
        "collapsed": false,
        "jupyter": {
          "outputs_hidden": false
        },
        "trusted": true
      },
      "execution_count": null,
      "outputs": []
    },
    {
      "cell_type": "code",
      "source": "plt.plot(np.sqrt(np.diag(P)));",
      "metadata": {
        "collapsed": false,
        "jupyter": {
          "outputs_hidden": false
        },
        "trusted": true
      },
      "execution_count": null,
      "outputs": []
    },
    {
      "cell_type": "code",
      "source": "plt.plot(np.sqrt(np.diag(P)[:3]),'.-');",
      "metadata": {
        "collapsed": false,
        "jupyter": {
          "outputs_hidden": false
        },
        "trusted": true
      },
      "execution_count": null,
      "outputs": []
    },
    {
      "cell_type": "code",
      "source": "for k in range(10):\n    mU,P,pred = ukf(mU,P,f,Q,b,0,None,h,R)",
      "metadata": {
        "tags": [],
        "trusted": true
      },
      "execution_count": null,
      "outputs": []
    },
    {
      "cell_type": "code",
      "source": "plt.bar(np.arange(21),np.sqrt(np.diag(P)));",
      "metadata": {
        "collapsed": false,
        "jupyter": {
          "outputs_hidden": false
        },
        "trusted": true
      },
      "execution_count": null,
      "outputs": []
    },
    {
      "cell_type": "code",
      "source": "plt.bar(np.arange(3),np.sqrt(np.diag(P)[:3]));",
      "metadata": {
        "collapsed": false,
        "jupyter": {
          "outputs_hidden": false
        },
        "trusted": true
      },
      "execution_count": null,
      "outputs": []
    },
    {
      "cell_type": "code",
      "source": "plt.bar(np.arange(21),np.sqrt(np.diag(P)));",
      "metadata": {
        "collapsed": false,
        "jupyter": {
          "outputs_hidden": false
        },
        "trusted": true
      },
      "execution_count": null,
      "outputs": []
    },
    {
      "cell_type": "code",
      "source": "plt.bar(np.arange(3),np.sqrt(np.diag(P)[:3]));",
      "metadata": {
        "collapsed": false,
        "jupyter": {
          "outputs_hidden": false
        },
        "trusted": true
      },
      "execution_count": null,
      "outputs": []
    },
    {
      "cell_type": "markdown",
      "source": "## Jupiter - Saturn",
      "metadata": {}
    },
    {
      "cell_type": "code",
      "source": "datar = np.array(np.matrix(\"\"\"\n0      0   0   0   0        0    1.327E20    ;\n0.466  0   0   0   47E3     0    2.203E13    ;\n0.723  0   0   0   35E3     0    3.249E14    ;\n1      0   0   0   30.0E3   0    3.986E14    ;\n1.0026 0   0   0   31.0E3   0    4.905E12    ;\n1.52   0   0   0   24E3     0    4.283E13    ;\n5.2    0   0   0   13E3     0    1.267E17    ;\n9.5    0   0   0   9.7E3    0    3.793E16    ;\n19     0   0   0   6.8E3    0    5.794E15    ;\n30     0   0   0   5.43E3   0    6.837E15    \"\"\"))\n\n\n#data = data[[0,8,9,3]]\ndata = datar[[6,7,0,3]]\n\nr0 = data[:,:3]\nv0 = data[:,3:6] * yr    / ua\nmu = data[:,6]   * yr**2 / ua**3\n\n\nr0[0] = rotation((0,0,1),np.radians(-30)) @ r0[0]\n\nv0[0] = rotation((0,0,1),np.radians(-30)) @ rotation((1,0,0),np.radians(0)) @ v0[0]\nv0[1] =                                     rotation((1,0,0),np.radians(0)) @ v0[1]",
      "metadata": {
        "collapsed": false,
        "jupyter": {
          "outputs_hidden": false
        },
        "trusted": true
      },
      "execution_count": null,
      "outputs": []
    },
    {
      "cell_type": "code",
      "source": "dt = 1/4\nN = 100*4//1\nN = 80\n\ncount = 0\npaths = np.array([x[0] for x in nbody(r0,v0,mu,np.arange(N+1)*dt)]).transpose(1,2,0)\nprint(count)",
      "metadata": {
        "collapsed": false,
        "jupyter": {
          "outputs_hidden": false
        },
        "trusted": true
      },
      "execution_count": null,
      "outputs": []
    },
    {
      "cell_type": "code",
      "source": "plt.figure(figsize=(10,10))\nfor p in paths:\n    plt.plot(p[0],p[1],'.-',lw=0.3)\nplt.axis('equal');",
      "metadata": {
        "collapsed": false,
        "jupyter": {
          "outputs_hidden": false
        },
        "trusted": true
      },
      "execution_count": null,
      "outputs": []
    },
    {
      "cell_type": "code",
      "source": "relpaths = np.apply_along_axis(view,-1,np.delete((paths - paths[-1]),-1,axis=0).transpose(0,2,1)).transpose(0,2,1)",
      "metadata": {
        "collapsed": false,
        "jupyter": {
          "outputs_hidden": false
        },
        "trusted": true
      },
      "execution_count": null,
      "outputs": []
    },
    {
      "cell_type": "code",
      "source": "plt.figure(figsize=(10,5))\nfor p in relpaths[0:]:\n    plt.plot(p[1],p[0],'.-',markersize=3)\nplt.axis('equal'); plt.grid()",
      "metadata": {
        "collapsed": false,
        "jupyter": {
          "outputs_hidden": false
        },
        "trusted": true
      },
      "execution_count": null,
      "outputs": []
    },
    {
      "cell_type": "code",
      "source": "mu_2 = mu.copy()\nmu_2[1] = mu[1]/1e6\nmu_2[0] = mu[0]/1e6\ncount = 0\npaths2 = np.array([x[0] for x in nbody(r0,v0,mu_2,np.arange(N+1)*dt)]).transpose(1,2,0)\nprint(count)",
      "metadata": {
        "collapsed": false,
        "jupyter": {
          "outputs_hidden": false
        },
        "trusted": true
      },
      "execution_count": null,
      "outputs": []
    },
    {
      "cell_type": "code",
      "source": "plt.figure(figsize=(10,10))\nfor p in paths2:\n    plt.plot(p[0],p[1],'.-',lw=0.3)\nplt.axis('equal');",
      "metadata": {
        "collapsed": false,
        "jupyter": {
          "outputs_hidden": false
        },
        "trusted": true
      },
      "execution_count": null,
      "outputs": []
    },
    {
      "cell_type": "code",
      "source": "plt.figure(figsize=(10,10))\nfor p in paths:\n    plt.plot(p[0],p[1],'.',markersize=5)\nfor p in paths2:\n    plt.plot(p[0],p[1],'.',markersize=2, color='gray')\nplt.axis('equal');",
      "metadata": {
        "collapsed": false,
        "jupyter": {
          "outputs_hidden": false
        },
        "trusted": true
      },
      "execution_count": null,
      "outputs": []
    },
    {
      "cell_type": "code",
      "source": "relpaths2 = np.apply_along_axis(view,-1,np.delete((paths2 - paths2[-1]),-1,axis=0).transpose(0,2,1)).transpose(0,2,1)",
      "metadata": {
        "collapsed": false,
        "jupyter": {
          "outputs_hidden": false
        },
        "trusted": true
      },
      "execution_count": null,
      "outputs": []
    },
    {
      "cell_type": "code",
      "source": "def dif(x):\n    return 180 - np.remainder(180 + x, 360)",
      "metadata": {
        "collapsed": false,
        "jupyter": {
          "outputs_hidden": false
        },
        "trusted": true
      },
      "execution_count": null,
      "outputs": []
    },
    {
      "cell_type": "code",
      "source": "col = ['blue','green','red']\nc = 0\nplt.figure(figsize=(10,10))\nif False:\n    for p in (relpaths-relpaths2)[0:].transpose(0,2,1)*60:\n        for e in p:\n            plt.plot([0,e[1]],[0,e[0]],'.-',color=col[c],lw=0.1)\n        c += 1\nfor p in dif(relpaths-relpaths2)*60:\n    plt.plot(p[1],p[0],'.-')\nplt.axis('equal'); plt.grid(); plt.title('error (arcmin)');",
      "metadata": {
        "collapsed": false,
        "jupyter": {
          "outputs_hidden": false
        },
        "trusted": true
      },
      "execution_count": null,
      "outputs": []
    },
    {
      "cell_type": "code",
      "source": "err = np.apply_along_axis(la.norm,1,paths-paths2)",
      "metadata": {
        "collapsed": false,
        "jupyter": {
          "outputs_hidden": false
        },
        "trusted": true
      },
      "execution_count": null,
      "outputs": []
    },
    {
      "cell_type": "code",
      "source": "plt.plot(np.arange(len(err[1]))*3,err[1]);",
      "metadata": {
        "collapsed": false,
        "jupyter": {
          "outputs_hidden": false
        },
        "trusted": true
      },
      "execution_count": null,
      "outputs": []
    },
    {
      "cell_type": "code",
      "source": "for p in dif(relpaths-relpaths2)[0:2]*60:\n    plt.plot(np.arange(len(err[1]))*3,p[1])",
      "metadata": {
        "collapsed": false,
        "jupyter": {
          "outputs_hidden": false
        },
        "trusted": true
      },
      "execution_count": null,
      "outputs": []
    },
    {
      "cell_type": "code",
      "source": "def a2sc(a):\n    ad = np.degrees(a)\n    return np.array([np.cos(ad), np.sin(ad)])",
      "metadata": {
        "tags": [],
        "trusted": true
      },
      "execution_count": null,
      "outputs": []
    },
    {
      "cell_type": "code",
      "source": "def obs2(st):\n    ju = st[0:3]\n    sa = st[3:6]\n    su = st[6:9]\n    ea = st[9:12]\n    v1 = view(ju-ea)\n    v2 = view(sa-ea)\n    v3 = view(su-ea)\n    return  np.concatenate([v1,v2,v3])\n    #return np.concatenate([ a2sc(x) for x in np.concatenate([v1,v2,v3]) ])",
      "metadata": {
        "tags": [],
        "trusted": true
      },
      "execution_count": null,
      "outputs": []
    },
    {
      "cell_type": "code",
      "source": "def obs2(st):\n    return st[0:12]\n    #return np.concatenate([ a2sc(x) for x in np.concatenate([v1,v2,v3]) ])",
      "metadata": {
        "tags": [],
        "trusted": true
      },
      "execution_count": null,
      "outputs": []
    },
    {
      "cell_type": "code",
      "source": "r0",
      "metadata": {
        "collapsed": false,
        "jupyter": {
          "outputs_hidden": false
        },
        "trusted": true
      },
      "execution_count": null,
      "outputs": []
    },
    {
      "cell_type": "code",
      "source": "v0",
      "metadata": {
        "collapsed": false,
        "jupyter": {
          "outputs_hidden": false
        },
        "trusted": true
      },
      "execution_count": null,
      "outputs": []
    },
    {
      "cell_type": "code",
      "source": "count = 0\npaths = np.array([st2vec((x,v,mu)) for x,v in nbody(r0,v0,mu,np.arange(N+1)*dt)])\nprint(count)\nprint(paths.shape)",
      "metadata": {
        "collapsed": false,
        "jupyter": {
          "outputs_hidden": false
        },
        "trusted": true
      },
      "execution_count": null,
      "outputs": []
    },
    {
      "cell_type": "code",
      "source": "paths[0]",
      "metadata": {
        "collapsed": false,
        "jupyter": {
          "outputs_hidden": false
        },
        "trusted": true
      },
      "execution_count": null,
      "outputs": []
    },
    {
      "cell_type": "code",
      "source": "obs = np.apply_along_axis(obs2,1,paths)\nprint(obs.shape)",
      "metadata": {
        "collapsed": false,
        "jupyter": {
          "outputs_hidden": false
        },
        "trusted": true
      },
      "execution_count": null,
      "outputs": []
    },
    {
      "cell_type": "code",
      "source": "def f(x):\n    r,v,m = vec2st(x)\n    _,(r,v) = nbody(r,v,m,[0,dt])\n    return st2vec((r,v,m))\n\ndef h(x):\n    return obs2(x)\n\ndef b(x):\n    return 0",
      "metadata": {
        "tags": [],
        "trusted": true
      },
      "execution_count": null,
      "outputs": []
    },
    {
      "cell_type": "code",
      "source": "v0",
      "metadata": {
        "collapsed": false,
        "jupyter": {
          "outputs_hidden": false
        },
        "trusted": true
      },
      "execution_count": null,
      "outputs": []
    },
    {
      "cell_type": "code",
      "source": "mu",
      "metadata": {
        "collapsed": false,
        "jupyter": {
          "outputs_hidden": false
        },
        "trusted": true
      },
      "execution_count": null,
      "outputs": []
    },
    {
      "cell_type": "code",
      "source": "paths[0]",
      "metadata": {
        "collapsed": false,
        "jupyter": {
          "outputs_hidden": false
        },
        "trusted": true
      },
      "execution_count": null,
      "outputs": []
    },
    {
      "cell_type": "code",
      "source": "sigmaP = 1e-6\nsigmaM = 1e-9\nsigmaZ = 1e-6\n\n\nmU  = paths[0].copy()\nP  = sigmaP**2*np.eye(len(mU))\n\nfor k in [0,1,3,4]:\n    P[k,k] = 0.5**2\n\n#mU[3] += 2\n#mU[1] -= 2\n    \nmU[24] = 2e-2\nmU[25] = 2e-2\n\nP[24,24] = 5e-3 ** 2\nP[25,25] = 5e-3 ** 2\n\nfor k in [12,13,15,16]:\n    P[k,k] = 0.5**2\n\n\nQ = sigmaM**2 * np.eye(len(mU))\nR = sigmaZ**2 * np.eye(len(obs[0]))\n\nres = [(mU,P,obs2(mU))]\nepath = [mU]\npreds = [obs2(mU)]",
      "metadata": {
        "collapsed": false,
        "jupyter": {
          "outputs_hidden": false
        },
        "trusted": true
      },
      "execution_count": null,
      "outputs": []
    },
    {
      "cell_type": "code",
      "source": "N = 5\n\nfor z in obs[1:N+1]:\n    mU,P,pred = ukf(mU,P,f,Q,b,0,z,h,R)\n    print(pred.shape)\n    res += [(mU,P,pred)]\n    epath += [mU]\n    preds += [pred]\n\nfor k in range(0):\n    mU,P,pred = ukf(mU,P,f,Q,b,0,None,h,R)\n    print(pred.shape)\n    res += [(mU,P,pred)]\n    epath += [mU]\n    preds += [pred]\n\n\nepath = np.array(epath).T\nprint(epath.shape)",
      "metadata": {
        "collapsed": false,
        "jupyter": {
          "outputs_hidden": false
        },
        "trusted": true
      },
      "execution_count": null,
      "outputs": []
    },
    {
      "cell_type": "code",
      "source": "fig,ax = plt.subplots(figsize=(12,12))\n\nxe = [mu[3] for mu,_,_ in res]             # coordenada x estimada\nye = [mu[4] for mu,_,_ in res]             # lo mismo para y\n\n\neP34 = [la.eigh(P[3:5,3:5]) for _,P,_ in res]\nd1 = [2*np.sqrt(x[0][0]) for x in eP34]\nd2 = [2*np.sqrt(x[0][1]) for x in eP34]\nan = [np.degrees(np.arctan2(x[1][0][1],x[1][0][0])) for x in eP34]\n\n\nfor k in range(len(xe)):\n    ax.add_patch(Ellipse(xy=(xe[k],ye[k]), width=d1[k], height=d2[k], angle = an[k], alpha=0.2))\n\nxe = [mu[0] for mu,_,_ in res]             # coordenada x estimada\nye = [mu[1] for mu,_,_ in res]             # lo mismo para y\n\neP34 = [la.eigh(P[0:2,0:2]) for _,P,_ in res]\nd1 = [2*np.sqrt(x[0][0]) for x in eP34]\nd2 = [2*np.sqrt(x[0][1]) for x in eP34]\nan = [np.degrees(np.arctan2(x[1][0][1],x[1][0][0])) for x in eP34]\n\nfor k in range(len(xe)):\n    ax.add_patch(Ellipse(xy=(xe[k],ye[k]), width=d1[k], height=d2[k], angle = an[k], alpha=0.2))\n\nplt.plot(paths[:N+1,6],paths[:N+1,7],'.-',color='gray',lw=0.5)\nplt.plot(paths[:N+1,9],paths[:N+1,10],'.-',color='gray',lw=0.5)\nplt.plot(paths[:N+1,0],paths[:N+1,1],'-',color='gray',lw=0.5)\nplt.plot(paths[:N+1,3],paths[:N+1,4],'-',color='gray',lw=0.5)\nplt.plot(epath[0],epath[1],'.-')\nplt.plot(epath[3],epath[4],'.-')\nplt.axis('equal');",
      "metadata": {
        "collapsed": false,
        "jupyter": {
          "outputs_hidden": false
        },
        "trusted": true
      },
      "execution_count": null,
      "outputs": []
    },
    {
      "cell_type": "code",
      "source": "errs=np.abs(obs[0:N+1].T - np.array(preds).T)\n\ncol = ['blue','blue','blue', 'green','green','green', 'gray', 'gray', 'gray', 'gray', 'gray', 'gray']\nc = 0\nfor e in errs:\n    plt.plot(e)#,color=col[c])\n    c +=1",
      "metadata": {
        "collapsed": false,
        "jupyter": {
          "outputs_hidden": false
        },
        "trusted": true
      },
      "execution_count": null,
      "outputs": []
    },
    {
      "cell_type": "code",
      "source": "plt.plot(epath[24],label='estimated');\nplt.plot([0,N],[mu[0],mu[0]],label='Jupiter');\n\nplt.plot(epath[25],label='estimated');\nplt.plot([0,N],[mu[1],mu[1]],label='Saturn');\n\nplt.plot([x[25] + 2*np.sqrt(P[25,25]) for x,P,_ in res],color='gray');\nplt.plot([x[25] - 2*np.sqrt(P[25,25]) for x,P,_ in res],color='gray');\nplt.plot([x[24] + 2*np.sqrt(P[24,24]) for x,P,_ in res],color='gray');\nplt.plot([x[24] - 2*np.sqrt(P[24,24]) for x,P,_ in res],color='gray');\n\nplt.title('estimated masses');\nplt.xlabel('steps'); plt.ylabel('GM (UA-yr)')\nplt.legend();",
      "metadata": {
        "collapsed": false,
        "jupyter": {
          "outputs_hidden": false
        },
        "trusted": true
      },
      "execution_count": null,
      "outputs": []
    }
  ]
}