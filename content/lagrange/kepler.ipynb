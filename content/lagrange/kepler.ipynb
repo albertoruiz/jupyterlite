{
 "cells": [
  {
   "cell_type": "markdown",
   "metadata": {
    "editable": true,
    "slideshow": {
     "slide_type": ""
    },
    "tags": []
   },
   "source": [
    "# Kepler orbit"
   ]
  },
  {
   "cell_type": "code",
   "execution_count": null,
   "metadata": {},
   "outputs": [],
   "source": [
    "import sympy, scipy, matplotlib\n",
    "\n",
    "from mechanics import *"
   ]
  },
  {
   "cell_type": "code",
   "execution_count": null,
   "metadata": {},
   "outputs": [],
   "source": [
    "G,Ms = symbols('G M',positive=True)\n",
    "\n",
    "Q = [rho,theta] = dynsyms(['rho', 'theta'])\n",
    "\n",
    "n = 1\n",
    "dim = 2\n",
    "P,V = posvel(n,dim)\n",
    "M   = vector(n,'m')\n",
    "T   = M.dot( mul(V,V) * ones(dim,1) ) / 2\n",
    "V   = V = -G*Ms/rho\n",
    "\n",
    "Gen = mkGen(P, [rho*cos(theta),\n",
    "                rho*sin(theta)] )\n",
    "\n",
    "sys = Dynamics(T, V, Gen, Q, {}, alsoH=True)"
   ]
  },
  {
   "cell_type": "code",
   "execution_count": null,
   "metadata": {},
   "outputs": [],
   "source": [
    "disp(sys.Q, 'Q')"
   ]
  },
  {
   "cell_type": "code",
   "execution_count": null,
   "metadata": {},
   "outputs": [],
   "source": [
    "disp(sys.L.simplify(),'L')"
   ]
  },
  {
   "cell_type": "code",
   "execution_count": null,
   "metadata": {},
   "outputs": [],
   "source": [
    "disp(sys.H.simplify(),'H')"
   ]
  },
  {
   "cell_type": "code",
   "execution_count": null,
   "metadata": {},
   "outputs": [],
   "source": [
    "sys.ecsH"
   ]
  },
  {
   "cell_type": "code",
   "execution_count": null,
   "metadata": {},
   "outputs": [],
   "source": [
    "case = {G:1, M[0]:1, Ms:1}\n",
    "sys = Dynamics(T, V, Gen, Q, case, alsoH=True)\n",
    "fps = 30"
   ]
  },
  {
   "cell_type": "code",
   "execution_count": null,
   "metadata": {},
   "outputs": [],
   "source": [
    "sol = nsolve(sys.dotH, T=4, dt=1/fps, q0=[1,0,\n",
    "                                          0,0.5])\n",
    "\n",
    "graph(sol,sys, moments=True)"
   ]
  },
  {
   "cell_type": "code",
   "execution_count": null,
   "metadata": {
    "editable": true,
    "slideshow": {
     "slide_type": ""
    },
    "tags": [
     "hide-input"
    ]
   },
   "outputs": [],
   "source": [
    "def prepare():\n",
    "    fig = plt.figure(figsize=(4,4))\n",
    "    ax = plt.gca()\n",
    "    plt.tight_layout()\n",
    "    ax.axis('equal')\n",
    "    #plt.axis('off')\n",
    "    plt.close();\n",
    "\n",
    "    ax.plot([-0.1,1.1],[-1,1],color='white')\n",
    "    ax.plot([0],[0],'.',color='orange',markersize=20)\n",
    "\n",
    "    line0, = ax.plot([],[],lw=1,color='gray',alpha=0.5)\n",
    "    line1, = ax.plot([], [], '.', markersize=10,color='black')\n",
    "    #line2, = ax.plot([], [], '.', markersize=30,color='black')\n",
    "\n",
    "    x = []\n",
    "    y = []\n",
    "    def draw(k, t, x1,y1):\n",
    "        x.append(x1)\n",
    "        y.append(y1)\n",
    "        line0.set_data(x,y)\n",
    "        line1.set_data([x1],[y1])\n",
    "        #line2.set_data([x2],[y2])\n",
    "\n",
    "    return fig, draw"
   ]
  },
  {
   "cell_type": "code",
   "execution_count": null,
   "metadata": {},
   "outputs": [],
   "source": [
    "repeat=np.argmin(np.linalg.norm(sol[0,1:]-sol[20:,1:],axis=1))+20\n",
    "repeat=len(sol)\n",
    "ani = mkAnim(sol, sys, prepare, fps, frames=len(sol[:repeat]))\n",
    "HTML(ani.to_jshtml())"
   ]
  },
  {
   "cell_type": "code",
   "execution_count": null,
   "metadata": {},
   "outputs": [],
   "source": [
    "H = lambdify(sys.Q + sys.P, sys.H,'numpy')\n",
    "\n",
    "r = np.linspace(0.12,2,100)\n",
    "plt.figure(figsize=(5,4))\n",
    "plt.plot(r,H(r,0,0,0.5));\n",
    "plt.xlim(0,2)\n",
    "E = H(*sol[0,1:])\n",
    "plt.plot([0,2],[E,E]);\n",
    "plt.xlabel('$ \\\\rho $'); plt.ylabel('E');\n",
    "plt.grid();"
   ]
  }
 ],
 "metadata": {
  "kernelspec": {
   "display_name": "Python 3 (ipykernel)",
   "language": "python",
   "name": "python3"
  },
  "language_info": {
   "codemirror_mode": {
    "name": "ipython",
    "version": 3
   },
   "file_extension": ".py",
   "mimetype": "text/x-python",
   "name": "python",
   "nbconvert_exporter": "python",
   "pygments_lexer": "ipython3",
   "version": "3.11.9"
  }
 },
 "nbformat": 4,
 "nbformat_minor": 4
}
