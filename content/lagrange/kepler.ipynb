{
  "metadata": {
    "language_info": {
      "codemirror_mode": {
        "name": "python",
        "version": 3
      },
      "file_extension": ".py",
      "mimetype": "text/x-python",
      "name": "python",
      "nbconvert_exporter": "python",
      "pygments_lexer": "ipython3",
      "version": "3.8"
    },
    "kernelspec": {
      "name": "python",
      "display_name": "Python (Pyodide)",
      "language": "python"
    }
  },
  "nbformat_minor": 4,
  "nbformat": 4,
  "cells": [
    {
      "cell_type": "markdown",
      "source": "# Lagrangian Mechanics: Kepler",
      "metadata": {}
    },
    {
      "cell_type": "code",
      "source": "import sympy, scipy, matplotlib\n\nfrom mechanics import *",
      "metadata": {
        "trusted": true
      },
      "execution_count": null,
      "outputs": []
    },
    {
      "cell_type": "code",
      "source": "G,Ms = symbols('G M',positive=True)\n\nQ = [rho,theta] = dynsyms(['rho', 'theta'])\n\nn = 1\ndim = 2\nP,V = posvel(n,dim)\nM   = vector(n,'m')\nT   = M.dot( mul(V,V) * ones(dim,1) ) / 2\nV   = V = -G*Ms/rho\n\nGen = mkGen(P, [rho*cos(theta),\n                rho*sin(theta)] )\n\nsys = Dynamics(T, V, Gen, Q, {}, alsoH=True)",
      "metadata": {
        "trusted": true
      },
      "execution_count": null,
      "outputs": []
    },
    {
      "cell_type": "code",
      "source": "disp(sys.Q, 'Q')",
      "metadata": {
        "trusted": true
      },
      "execution_count": null,
      "outputs": []
    },
    {
      "cell_type": "code",
      "source": "disp(sys.L.simplify(),'L')",
      "metadata": {
        "trusted": true
      },
      "execution_count": null,
      "outputs": []
    },
    {
      "cell_type": "code",
      "source": "disp(sys.H.simplify(),'H')",
      "metadata": {
        "trusted": true
      },
      "execution_count": null,
      "outputs": []
    },
    {
      "cell_type": "code",
      "source": "sys.ecsH",
      "metadata": {
        "trusted": true
      },
      "execution_count": null,
      "outputs": []
    },
    {
      "cell_type": "code",
      "source": "case = {G:1, M[0]:1, Ms:1}\nsys = Dynamics(T, V, Gen, Q, case, alsoH=True)\nfps = 30",
      "metadata": {
        "trusted": true
      },
      "execution_count": null,
      "outputs": []
    },
    {
      "cell_type": "code",
      "source": "sol = nsolve(sys.dotH, T=4, dt=1/fps, q0=[1,0,\n                                          0,0.5])\n\ngraph(sol,sys, moments=True)",
      "metadata": {
        "trusted": true
      },
      "execution_count": null,
      "outputs": []
    },
    {
      "cell_type": "code",
      "source": "def prepare():\n    fig = plt.figure(figsize=(4,4))\n    ax = plt.gca()\n    plt.tight_layout()\n    ax.axis('equal')\n    #plt.axis('off')\n    plt.close();\n\n    ax.plot([-0.1,1.1],[-1,1],color='white')\n    ax.plot([0],[0],'.',color='orange',markersize=20)\n\n    line0, = ax.plot([],[],lw=1,color='gray',alpha=0.5)\n    line1, = ax.plot([], [], '.', markersize=10,color='black')\n    #line2, = ax.plot([], [], '.', markersize=30,color='black')\n\n    x = []\n    y = []\n    def draw(k, t, x1,y1):\n        x.append(x1)\n        y.append(y1)\n        line0.set_data(x,y)\n        line1.set_data([x1],[y1])\n        #line2.set_data([x2],[y2])\n\n    return fig, draw",
      "metadata": {
        "tags": [],
        "jupyter": {
          "source_hidden": true
        },
        "trusted": true
      },
      "execution_count": null,
      "outputs": []
    },
    {
      "cell_type": "code",
      "source": "repeat=np.argmin(np.linalg.norm(sol[0,1:]-sol[20:,1:],axis=1))+20\nrepeat=len(sol)\nani = mkAnim(sol, sys, prepare, fps, frames=len(sol[:repeat]))\nHTML(ani.to_jshtml())",
      "metadata": {
        "trusted": true
      },
      "execution_count": null,
      "outputs": []
    },
    {
      "cell_type": "code",
      "source": "H = lambdify(sys.Q + sys.P, sys.H,'numpy')\n\nr = np.linspace(0.12,2,100)\nplt.figure(figsize=(5,4))\nplt.plot(r,H(r,0,0,0.5));\nplt.xlim(0,2)\nE = H(*sol[0,1:])\nplt.plot([0,2],[E,E]);\nplt.xlabel('$ \\\\rho $'); plt.ylabel('E');\nplt.grid();",
      "metadata": {
        "trusted": true
      },
      "execution_count": null,
      "outputs": []
    }
  ]
}