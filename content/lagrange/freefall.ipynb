{
  "metadata": {
    "language_info": {
      "codemirror_mode": {
        "name": "python",
        "version": 3
      },
      "file_extension": ".py",
      "mimetype": "text/x-python",
      "name": "python",
      "nbconvert_exporter": "python",
      "pygments_lexer": "ipython3",
      "version": "3.8"
    },
    "kernelspec": {
      "name": "python",
      "display_name": "Python (Pyodide)",
      "language": "python"
    }
  },
  "nbformat_minor": 4,
  "nbformat": 4,
  "cells": [
    {
      "cell_type": "markdown",
      "source": "# Lagrangian Mechanics: free fall",
      "metadata": {}
    },
    {
      "cell_type": "code",
      "source": "import sympy, scipy, matplotlib\n\nfrom mechanics import *",
      "metadata": {
        "trusted": true
      },
      "execution_count": null,
      "outputs": []
    },
    {
      "cell_type": "markdown",
      "source": "## Case 1",
      "metadata": {}
    },
    {
      "cell_type": "code",
      "source": "g,l,k = symbols('g l k',positive=True)\n\nQ = [x,y,alpha] = dynsyms(['x', 'y',  'alpha'])\n\nn = 2\ndim = 2\nP,V = posvel(n,dim)\nM   = vector(n,'m')\nT   = M.dot( mul(V,V) * ones(dim,1) ) / 2\nV   = g * M.dot(P[:,-1])\n\nGen = mkGen(P, [x,\n                y,\n                x + l*cos(alpha),\n                y + l*sin(alpha)] )\n\n\nsys = Dynamics(T, V, Gen, Q, {})",
      "metadata": {
        "trusted": true
      },
      "execution_count": null,
      "outputs": []
    },
    {
      "cell_type": "code",
      "source": "disp(sys.Q, 'Q')",
      "metadata": {
        "trusted": true
      },
      "execution_count": null,
      "outputs": []
    },
    {
      "cell_type": "code",
      "source": "disp(sys.L.simplify(),'L')",
      "metadata": {
        "trusted": true
      },
      "execution_count": null,
      "outputs": []
    },
    {
      "cell_type": "code",
      "source": "[ Eq(v,solve(e,v)[0]) for e,v in zip(sys.ecsL,sys.D2) ]",
      "metadata": {
        "trusted": true
      },
      "execution_count": null,
      "outputs": []
    },
    {
      "cell_type": "code",
      "source": "case = {g:9.8, l:1.5, **val(M,[2,1])}\nsys = Dynamics(T, V, Gen, Q, case)",
      "metadata": {
        "trusted": true
      },
      "execution_count": null,
      "outputs": []
    },
    {
      "cell_type": "code",
      "source": "fps=30\n\nsol = nsolve(sys.dotL, 2.2, 1/fps, q0 = [1.3, 0.5,  0,\n                                         -2,   11,  -4])\n\ngraph(sol,sys)",
      "metadata": {
        "trusted": true
      },
      "execution_count": null,
      "outputs": []
    },
    {
      "cell_type": "code",
      "source": "def prepare():\n        fig = plt.figure(figsize=(4,4))\n        ax = plt.gca()\n        plt.tight_layout()\n        plt.close();\n        ax.set_xlim((-3, 3))\n        ax.set_ylim(( 0, 6))\n        ax.set_axis_off()\n\n        line0, = ax.plot([], [], '.-', lw=2, markersize=30,color='#1f77b4')\n        line1, = ax.plot([], [], '-', lw=0.5, color='gray')\n        line2, = ax.plot([], [], '.', markersize=40, color='#1f77b4')\n        line3, = ax.plot([], [], '.', markersize=10, color='red')\n\n        Vx, Vy = [], []\n        m1,m2 = [case[M[k]] for k in range(2)]\n        m = m1+m2\n        def draw(k, t, x1,y1,x2,y2):\n            vx,vy = (m1*np.array([x1,y1]) + m2*np.array([x2,y2]))/m\n            Vx.append(vx); Vy.append(vy)\n            line0.set_data([x1,x2],[y1,y2])\n            line1.set_data(Vx,Vy)\n            line2.set_data([x1,y1])\n            line3.set_data(vx,vy)\n\n        return fig, draw",
      "metadata": {
        "tags": [],
        "trusted": true
      },
      "execution_count": null,
      "outputs": []
    },
    {
      "cell_type": "code",
      "source": "ani = mkAnim(sol, sys, prepare, fps, frames=len(sol))\nHTML(ani.to_jshtml())",
      "metadata": {
        "trusted": true
      },
      "execution_count": null,
      "outputs": []
    },
    {
      "cell_type": "markdown",
      "source": "## Case 2",
      "metadata": {}
    },
    {
      "cell_type": "code",
      "source": "g,l,k = symbols('g l k',positive=True)\n\nQ = [x,y,alpha,d] = dynsyms(['x', 'y',  'alpha', 'd'])\n\nn = 2\ndim = 2\nP,V = posvel(n,dim)\nM   = vector(n,'m')\nT   = M.dot( mul(V,V) * ones(dim,1) ) / 2\nV   = g * M.dot(P[:,-1]) +  k*d**2/2\n\nGen = mkGen(P, [x,\n                y,\n                x+(l+d)*cos(alpha),\n                y+(l+d)*sin(alpha)] )\n\n\nsys = Dynamics(T, V, Gen, Q, {})",
      "metadata": {
        "trusted": true
      },
      "execution_count": null,
      "outputs": []
    },
    {
      "cell_type": "code",
      "source": "disp(sys.Q, 'Q')",
      "metadata": {
        "trusted": true
      },
      "execution_count": null,
      "outputs": []
    },
    {
      "cell_type": "code",
      "source": "disp(sys.L.simplify(),'L')",
      "metadata": {
        "trusted": true
      },
      "execution_count": null,
      "outputs": []
    },
    {
      "cell_type": "code",
      "source": "[ Eq(v,solve(e,v)[0]) for e,v in zip(sys.ecsL,sys.D2) ]",
      "metadata": {
        "trusted": true
      },
      "execution_count": null,
      "outputs": []
    },
    {
      "cell_type": "code",
      "source": "case = {g:9.8, l:1, **val(M,[2,1]), k:20}\nsys = Dynamics(T, V, Gen, Q, case)",
      "metadata": {
        "trusted": true
      },
      "execution_count": null,
      "outputs": []
    },
    {
      "cell_type": "code",
      "source": "fps=30\n\nsol = nsolve(sys.dotL, 2.2, 1/fps, q0 = [1.5, 0.5,  0, -0.5,\n                                         -2,   11,  -8, 0])\n\ngraph(sol,sys)",
      "metadata": {
        "trusted": true
      },
      "execution_count": null,
      "outputs": []
    },
    {
      "cell_type": "code",
      "source": "def prepare():\n        fig = plt.figure(figsize=(4,4))\n        ax = plt.gca()\n        plt.tight_layout()\n        plt.close();\n        ax.set_xlim((-3, 3))\n        ax.set_ylim(( 0, 6))\n        ax.set_axis_off()\n\n        line0, = ax.plot([], [], '.-', lw=2, markersize=30,color='#1f77b4')\n        line1, = ax.plot([], [], '-', lw=0.5, color='gray')\n        line2, = ax.plot([], [], '.', markersize=40, color='#1f77b4')\n        line3, = ax.plot([], [], '.', markersize=10, color='red')\n\n        Vx, Vy = [], []\n        m1,m2 = [case[M[k]] for k in range(2)]\n        m = m1+m2\n        def draw(k, t, x1,y1,x2,y2):\n            vx,vy = (m1*np.array([x1,y1]) + m2*np.array([x2,y2]))/m\n            Vx.append(vx); Vy.append(vy)\n            line0.set_data([x1,x2],[y1,y2])\n            line1.set_data(Vx,Vy)\n            line2.set_data([x1,y1])\n            line3.set_data(vx,vy)\n\n        return fig, draw",
      "metadata": {
        "tags": [],
        "trusted": true
      },
      "execution_count": null,
      "outputs": []
    },
    {
      "cell_type": "code",
      "source": "ani = mkAnim(sol, sys, prepare, fps, frames=len(sol))\nHTML(ani.to_jshtml())",
      "metadata": {
        "trusted": true
      },
      "execution_count": null,
      "outputs": []
    }
  ]
}