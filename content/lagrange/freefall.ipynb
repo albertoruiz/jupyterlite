{
 "cells": [
  {
   "cell_type": "markdown",
   "metadata": {
    "editable": true,
    "slideshow": {
     "slide_type": ""
    },
    "tags": []
   },
   "source": [
    "# Free fall"
   ]
  },
  {
   "cell_type": "code",
   "execution_count": null,
   "metadata": {},
   "outputs": [],
   "source": [
    "import sympy, scipy, matplotlib\n",
    "\n",
    "from mechanics import *"
   ]
  },
  {
   "cell_type": "markdown",
   "metadata": {},
   "source": [
    "## Case 1"
   ]
  },
  {
   "cell_type": "code",
   "execution_count": null,
   "metadata": {},
   "outputs": [],
   "source": [
    "g,l,k = symbols('g l k',positive=True)\n",
    "\n",
    "Q = [x,y,alpha] = dynsyms(['x', 'y',  'alpha'])\n",
    "\n",
    "n = 2\n",
    "dim = 2\n",
    "P,V = posvel(n,dim)\n",
    "M   = vector(n,'m')\n",
    "T   = M.dot( mul(V,V) * ones(dim,1) ) / 2\n",
    "V   = g * M.dot(P[:,-1])\n",
    "\n",
    "Gen = mkGen(P, [x,\n",
    "                y,\n",
    "                x + l*cos(alpha),\n",
    "                y + l*sin(alpha)] )\n",
    "\n",
    "\n",
    "sys = Dynamics(T, V, Gen, Q, {})"
   ]
  },
  {
   "cell_type": "code",
   "execution_count": null,
   "metadata": {},
   "outputs": [],
   "source": [
    "disp(sys.Q, 'Q')"
   ]
  },
  {
   "cell_type": "code",
   "execution_count": null,
   "metadata": {},
   "outputs": [],
   "source": [
    "disp(sys.L.simplify(),'L')"
   ]
  },
  {
   "cell_type": "code",
   "execution_count": null,
   "metadata": {
    "editable": true,
    "slideshow": {
     "slide_type": ""
    },
    "tags": []
   },
   "outputs": [],
   "source": [
    "[ Eq(v,solve(e,v)[0]) for e,v in zip(sys.ecsL,sys.D2) ]"
   ]
  },
  {
   "cell_type": "code",
   "execution_count": null,
   "metadata": {},
   "outputs": [],
   "source": [
    "case = {g:9.8, l:1.5, **val(M,[2,1])}\n",
    "sys = Dynamics(T, V, Gen, Q, case)"
   ]
  },
  {
   "cell_type": "code",
   "execution_count": null,
   "metadata": {},
   "outputs": [],
   "source": [
    "fps=30\n",
    "\n",
    "sol = nsolve(sys.dotL, 2.2, 1/fps, q0 = [1.3, 0.5,  0,\n",
    "                                         -2,   11,  -4])\n",
    "\n",
    "graph(sol,sys)"
   ]
  },
  {
   "cell_type": "code",
   "execution_count": null,
   "metadata": {
    "editable": true,
    "slideshow": {
     "slide_type": ""
    },
    "tags": [
     "hide-input"
    ]
   },
   "outputs": [],
   "source": [
    "def prepare():\n",
    "        fig = plt.figure(figsize=(4,4))\n",
    "        ax = plt.gca()\n",
    "        plt.tight_layout()\n",
    "        plt.close();\n",
    "        ax.set_xlim((-3, 3))\n",
    "        ax.set_ylim(( 0, 6))\n",
    "        ax.set_axis_off()\n",
    "\n",
    "        line0, = ax.plot([], [], '.-', lw=2, markersize=30,color='#1f77b4')\n",
    "        line1, = ax.plot([], [], '-', lw=0.5, color='gray')\n",
    "        line2, = ax.plot([], [], '.', markersize=40, color='#1f77b4')\n",
    "        line3, = ax.plot([], [], '.', markersize=10, color='red')\n",
    "\n",
    "        Vx, Vy = [], []\n",
    "        m1,m2 = [case[M[k]] for k in range(2)]\n",
    "        m = m1+m2\n",
    "        def draw(k, t, x1,y1,x2,y2):\n",
    "            vx,vy = (m1*np.array([x1,y1]) + m2*np.array([x2,y2]))/m\n",
    "            Vx.append(vx); Vy.append(vy)\n",
    "            line0.set_data([x1,x2],[y1,y2])\n",
    "            line1.set_data(Vx,Vy)\n",
    "            line2.set_data([x1],[y1])\n",
    "            line3.set_data([vx],[vy])\n",
    "\n",
    "        return fig, draw"
   ]
  },
  {
   "cell_type": "code",
   "execution_count": null,
   "metadata": {},
   "outputs": [],
   "source": [
    "ani = mkAnim(sol, sys, prepare, fps, frames=len(sol))\n",
    "HTML(ani.to_jshtml())"
   ]
  },
  {
   "cell_type": "markdown",
   "metadata": {},
   "source": [
    "## Case 2"
   ]
  },
  {
   "cell_type": "code",
   "execution_count": null,
   "metadata": {},
   "outputs": [],
   "source": [
    "g,l,k = symbols('g l k',positive=True)\n",
    "\n",
    "Q = [x,y,alpha,d] = dynsyms(['x', 'y',  'alpha', 'd'])\n",
    "\n",
    "n = 2\n",
    "dim = 2\n",
    "P,V = posvel(n,dim)\n",
    "M   = vector(n,'m')\n",
    "T   = M.dot( mul(V,V) * ones(dim,1) ) / 2\n",
    "V   = g * M.dot(P[:,-1]) +  k*d**2/2\n",
    "\n",
    "Gen = mkGen(P, [x,\n",
    "                y,\n",
    "                x+(l+d)*cos(alpha),\n",
    "                y+(l+d)*sin(alpha)] )\n",
    "\n",
    "\n",
    "sys = Dynamics(T, V, Gen, Q, {})"
   ]
  },
  {
   "cell_type": "code",
   "execution_count": null,
   "metadata": {},
   "outputs": [],
   "source": [
    "disp(sys.Q, 'Q')"
   ]
  },
  {
   "cell_type": "code",
   "execution_count": null,
   "metadata": {},
   "outputs": [],
   "source": [
    "disp(sys.L.simplify(),'L')"
   ]
  },
  {
   "cell_type": "code",
   "execution_count": null,
   "metadata": {
    "editable": true,
    "slideshow": {
     "slide_type": ""
    },
    "tags": []
   },
   "outputs": [],
   "source": [
    "[ Eq(v,solve(e,v)[0]) for e,v in zip(sys.ecsL,sys.D2) ]"
   ]
  },
  {
   "cell_type": "code",
   "execution_count": null,
   "metadata": {},
   "outputs": [],
   "source": [
    "case = {g:9.8, l:1, **val(M,[2,1]), k:20}\n",
    "sys = Dynamics(T, V, Gen, Q, case)"
   ]
  },
  {
   "cell_type": "code",
   "execution_count": null,
   "metadata": {},
   "outputs": [],
   "source": [
    "fps=30\n",
    "\n",
    "sol = nsolve(sys.dotL, 2.2, 1/fps, q0 = [1.5, 0.5,  0, -0.5,\n",
    "                                         -2,   11,  -8, 0])\n",
    "\n",
    "graph(sol,sys)"
   ]
  },
  {
   "cell_type": "code",
   "execution_count": null,
   "metadata": {
    "editable": true,
    "slideshow": {
     "slide_type": ""
    },
    "tags": [
     "hide-input"
    ]
   },
   "outputs": [],
   "source": [
    "def prepare():\n",
    "        fig = plt.figure(figsize=(4,4))\n",
    "        ax = plt.gca()\n",
    "        plt.tight_layout()\n",
    "        plt.close();\n",
    "        ax.set_xlim((-3, 3))\n",
    "        ax.set_ylim(( 0, 6))\n",
    "        ax.set_axis_off()\n",
    "\n",
    "        line0, = ax.plot([], [], '.-', lw=2, markersize=30,color='#1f77b4')\n",
    "        line1, = ax.plot([], [], '-', lw=0.5, color='gray')\n",
    "        line2, = ax.plot([], [], '.', markersize=40, color='#1f77b4')\n",
    "        line3, = ax.plot([], [], '.', markersize=10, color='red')\n",
    "\n",
    "        Vx, Vy = [], []\n",
    "        m1,m2 = [case[M[k]] for k in range(2)]\n",
    "        m = m1+m2\n",
    "        def draw(k, t, x1,y1,x2,y2):\n",
    "            vx,vy = (m1*np.array([x1,y1]) + m2*np.array([x2,y2]))/m\n",
    "            Vx.append(vx); Vy.append(vy)\n",
    "            line0.set_data([x1,x2],[y1,y2])\n",
    "            line1.set_data(Vx,Vy)\n",
    "            line2.set_data([x1],[y1])\n",
    "            line3.set_data([vx],[vy])\n",
    "\n",
    "        return fig, draw"
   ]
  },
  {
   "cell_type": "code",
   "execution_count": null,
   "metadata": {},
   "outputs": [],
   "source": [
    "ani = mkAnim(sol, sys, prepare, fps, frames=len(sol))\n",
    "HTML(ani.to_jshtml())"
   ]
  }
 ],
 "metadata": {
  "kernelspec": {
   "display_name": "Python 3 (ipykernel)",
   "language": "python",
   "name": "python3"
  },
  "language_info": {
   "codemirror_mode": {
    "name": "ipython",
    "version": 3
   },
   "file_extension": ".py",
   "mimetype": "text/x-python",
   "name": "python",
   "nbconvert_exporter": "python",
   "pygments_lexer": "ipython3",
   "version": "3.11.9"
  }
 },
 "nbformat": 4,
 "nbformat_minor": 4
}
