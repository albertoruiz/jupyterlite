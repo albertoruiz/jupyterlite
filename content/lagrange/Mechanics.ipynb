{
  "metadata": {
    "language_info": {
      "codemirror_mode": {
        "name": "python",
        "version": 3
      },
      "file_extension": ".py",
      "mimetype": "text/x-python",
      "name": "python",
      "nbconvert_exporter": "python",
      "pygments_lexer": "ipython3",
      "version": "3.8"
    },
    "kernelspec": {
      "name": "python",
      "display_name": "Python (Pyodide)",
      "language": "python"
    }
  },
  "nbformat_minor": 4,
  "nbformat": 4,
  "cells": [
    {
      "cell_type": "markdown",
      "source": "# Analytical Mechanics",
      "metadata": {}
    },
    {
      "cell_type": "markdown",
      "source": "## Summary",
      "metadata": {}
    },
    {
      "cell_type": "markdown",
      "source": "Newton",
      "metadata": {}
    },
    {
      "cell_type": "markdown",
      "source": "$$ \\ddot r = \\frac{ F}{m}$$",
      "metadata": {}
    },
    {
      "cell_type": "markdown",
      "source": "Lagrange",
      "metadata": {}
    },
    {
      "cell_type": "markdown",
      "source": "$$L(q, \\dot q, t) = T - V $$",
      "metadata": {}
    },
    {
      "cell_type": "markdown",
      "source": "$$\\frac{d}{dt}\\left(\\frac{\\partial L}{\\partial \\dot q}\\right) = \\frac{\\partial L}{\\partial q}$$",
      "metadata": {}
    },
    {
      "cell_type": "markdown",
      "source": "Hamilton",
      "metadata": {}
    },
    {
      "cell_type": "markdown",
      "source": "$$ p \\equiv \\frac{\\partial L}{\\partial \\dot q} \\hspace{3em} H = \\dot q p - L $$",
      "metadata": {}
    },
    {
      "cell_type": "markdown",
      "source": "$$ \\frac{dp}{dt} = - \\frac{\\partial H}{\\partial q} $$\n\n$$ \\frac{dq}{dt} = +  \\frac{\\partial H}{\\partial p} $$",
      "metadata": {}
    },
    {
      "cell_type": "markdown",
      "source": "$$ \\frac{df}{dt} = \\{f,H\\} + \\frac{\\partial f}{\\partial t}$$",
      "metadata": {}
    },
    {
      "cell_type": "markdown",
      "source": "## Simple pendulum",
      "metadata": {}
    },
    {
      "cell_type": "code",
      "source": "import sympy, scipy, matplotlib\n\nfrom mechanics import *",
      "metadata": {
        "trusted": true
      },
      "execution_count": null,
      "outputs": []
    },
    {
      "cell_type": "code",
      "source": "def disp3(a,b,c):\n    return HTML(f\"$${vlatex(a)} = {vlatex(b)} = {vlatex(c)}$$\")",
      "metadata": {
        "trusted": true
      },
      "execution_count": null,
      "outputs": []
    },
    {
      "cell_type": "markdown",
      "source": "Definition of the system:",
      "metadata": {}
    },
    {
      "cell_type": "code",
      "source": "g, l = symbols('g l',positive=True)\n\n# Generalized coordinates\nQ = [alpha] = dynsyms(['alpha'])\n\n# number of particles\nn = 1\n# spatial dimension\ndim = 2\n\n# General system of n particles\nP,V = posvel(n,dim)\nM   = vector(n,'m')\nT   = M.dot( mul(V,V) * ones(dim,1) ) / 2\n\n# Potential energy of constant gravity (sum mgy)\nV   = g * M.dot(P[:,-1])\n\n# Cartesian coordinates in terms of generalized coordinates\nGen = mkGen(P, [l*sin(alpha),\n                -l*cos(alpha)] )\n\n\nsys = Dynamics(T, V, Gen, Q, {})",
      "metadata": {
        "trusted": true
      },
      "execution_count": null,
      "outputs": []
    },
    {
      "cell_type": "markdown",
      "source": "Generalized coordinates:",
      "metadata": {}
    },
    {
      "cell_type": "code",
      "source": "disp(sys.Q, 'Q')",
      "metadata": {
        "tags": [],
        "trusted": true
      },
      "execution_count": null,
      "outputs": []
    },
    {
      "cell_type": "markdown",
      "source": "Cartesian coordinates:",
      "metadata": {
        "tags": []
      }
    },
    {
      "cell_type": "code",
      "source": "[ Eq(u,v) for u,v in Gen.items() ]",
      "metadata": {
        "tags": [],
        "trusted": true
      },
      "execution_count": null,
      "outputs": []
    },
    {
      "cell_type": "markdown",
      "source": "Potential energy:",
      "metadata": {}
    },
    {
      "cell_type": "code",
      "source": "disp3(Symbol('V'),V,sys.V)",
      "metadata": {
        "trusted": true
      },
      "execution_count": null,
      "outputs": []
    },
    {
      "cell_type": "markdown",
      "source": "Kinetic energy:",
      "metadata": {}
    },
    {
      "cell_type": "code",
      "source": "disp3(Symbol('T'),T,sys.T.simplify())",
      "metadata": {
        "trusted": true
      },
      "execution_count": null,
      "outputs": []
    },
    {
      "cell_type": "markdown",
      "source": "Lagrangian:",
      "metadata": {}
    },
    {
      "cell_type": "code",
      "source": "disp(sys.L.simplify(),'L')",
      "metadata": {
        "trusted": true
      },
      "execution_count": null,
      "outputs": []
    },
    {
      "cell_type": "markdown",
      "source": "Lagrange equations:",
      "metadata": {}
    },
    {
      "cell_type": "code",
      "source": "[ Eq(v,solve(e,v)[0]) for e,v in zip(sys.ecsL,sys.D2) ]",
      "metadata": {
        "trusted": true
      },
      "execution_count": null,
      "outputs": []
    },
    {
      "cell_type": "markdown",
      "source": "Numerical solution for a particular case:",
      "metadata": {}
    },
    {
      "cell_type": "code",
      "source": "case = {g:10, l:1, **val(M,[2])}\nsys = Dynamics(T, V, Gen, Q, case)\nfps = 30",
      "metadata": {
        "trusted": true
      },
      "execution_count": null,
      "outputs": []
    },
    {
      "cell_type": "code",
      "source": "sol = nsolve(sys.dotL, T=10, dt=1/fps, q0=[1.5, 0])\n\ngraph(sol,sys)",
      "metadata": {
        "trusted": true
      },
      "execution_count": null,
      "outputs": []
    },
    {
      "cell_type": "markdown",
      "source": "A simple animation:",
      "metadata": {}
    },
    {
      "cell_type": "code",
      "source": "def prepare():\n    fig = plt.figure(figsize=(4,4))\n    ax = plt.gca()\n    plt.tight_layout()\n    ax.axis('equal')\n    plt.tick_params(colors='gray')\n    #ax.axis('off')\n    plt.close();\n\n    ax.plot([-1,1],[-1,0.1],color='white')\n\n    line1, = ax.plot([],[],lw=2,color='gray')\n    line0, = ax.plot([], [], '.-', markersize=30,color='black')\n\n    def draw(k, t, x1,y1):\n        line0.set_data([x1],[y1])\n        line1.set_data([0,x1],[0,y1])\n\n    return fig, draw\n\nrepeat=np.argmin(np.linalg.norm(sol[0,1:]-sol[20:,1:],axis=1))+20\n\nani = mkAnim(sol, sys, prepare, fps, frames=len(sol[:repeat]))\nHTML(ani.to_jshtml())",
      "metadata": {
        "tags": [],
        "jupyter": {
          "source_hidden": true
        },
        "trusted": true
      },
      "execution_count": null,
      "outputs": []
    },
    {
      "cell_type": "markdown",
      "source": "Generalized moments:",
      "metadata": {}
    },
    {
      "cell_type": "code",
      "source": "sys = Dynamics(T, V, Gen, Q, {}, alsoH=True)",
      "metadata": {
        "trusted": true
      },
      "execution_count": null,
      "outputs": []
    },
    {
      "cell_type": "code",
      "source": "sys.Pec",
      "metadata": {
        "trusted": true
      },
      "execution_count": null,
      "outputs": []
    },
    {
      "cell_type": "markdown",
      "source": "Hamiltonian:",
      "metadata": {}
    },
    {
      "cell_type": "code",
      "source": "disp3(Symbol('H'),sys.H0.simplify(),sys.H.simplify())",
      "metadata": {
        "trusted": true
      },
      "execution_count": null,
      "outputs": []
    },
    {
      "cell_type": "markdown",
      "source": "T+V",
      "metadata": {}
    },
    {
      "cell_type": "code",
      "source": "(sys.T+sys.V).simplify()",
      "metadata": {
        "tags": [],
        "trusted": true
      },
      "execution_count": null,
      "outputs": []
    },
    {
      "cell_type": "markdown",
      "source": "Hamilton equations (obtained with the Poisson bracket):",
      "metadata": {}
    },
    {
      "cell_type": "code",
      "source": "sys.ecsH",
      "metadata": {
        "trusted": true
      },
      "execution_count": null,
      "outputs": []
    },
    {
      "cell_type": "code",
      "source": "-sys.H.diff(Q[0])",
      "metadata": {
        "trusted": true
      },
      "execution_count": null,
      "outputs": []
    },
    {
      "cell_type": "code",
      "source": "sys.H.diff(sys.P[0])",
      "metadata": {
        "trusted": true
      },
      "execution_count": null,
      "outputs": []
    },
    {
      "cell_type": "markdown",
      "source": "Legendre Transform:",
      "metadata": {}
    },
    {
      "cell_type": "code",
      "source": "sys.H.diff(t).simplify()",
      "metadata": {
        "trusted": true
      },
      "execution_count": null,
      "outputs": []
    },
    {
      "cell_type": "markdown",
      "source": "$$ dH = \\underbrace{(-glm \\sin(q))}_{\\dot p}\\; dq + \\underbrace{\\left(\\frac{p}{l^2 m}\\right)}_{\\dot q}\\; d p  $$",
      "metadata": {}
    },
    {
      "cell_type": "markdown",
      "source": "Numerical solution for a particular case:",
      "metadata": {}
    },
    {
      "cell_type": "code",
      "source": "sys = Dynamics(T, V, Gen, Q, {g:10,l:1/2,M[0]:2}, alsoH=True)",
      "metadata": {
        "trusted": true
      },
      "execution_count": null,
      "outputs": []
    },
    {
      "cell_type": "code",
      "source": "sol=nsolve(sys.dotH,10,1/30,[1.5,0])\n\ngraph(sol,sys, moments=True)",
      "metadata": {
        "trusted": true
      },
      "execution_count": null,
      "outputs": []
    },
    {
      "cell_type": "code",
      "source": "sys = Dynamics(T, V, Gen, Q, {M[0]:1, g:1, l:1}, alsoH=True)\nHam = lambdify(Q+sys.P, sys.H, 'math')",
      "metadata": {
        "trusted": true
      },
      "execution_count": null,
      "outputs": []
    },
    {
      "cell_type": "code",
      "source": "a = np.linspace(-0.2,0.2,15)\np = np.linspace(-0.2,0.2,15)\n\nvdot = np.array([[sys.dotH([a,p],0) for a in a] for p in p])\nvH   = np.array([[Ham(a,p) for a in a] for p in np.flipud(p)])\n\nplt.figure(figsize=(4,4))\nplt.imshow(-vH,'gray',extent=[min(a),max(a),min(p),max(p)]);\nplt.quiver(a, p, vdot[:,:,0], vdot[:,:,1], color='Red', width=0.002, scale=5,  scale_units='xy');\nplt.tick_params(labelsize=8)\nplt.xlabel(f'${vlatex(Q[0])}$'); plt.ylabel(f'${vlatex(sys.P[0])}$');\nplt.title('$H$');",
      "metadata": {
        "trusted": true
      },
      "execution_count": null,
      "outputs": []
    },
    {
      "cell_type": "code",
      "source": "a = np.linspace(-1,5,100)\np = np.linspace(-1,1,20)\n\nvdot = np.array([[sys.dotH([a,p],0) for a in a] for p in p])\nvH   = np.array([[Ham(a,p) for a in a] for p in np.flipud(p)])\n\nplt.figure(figsize=(10,5))\nplt.imshow(-vH,'gray',extent=[min(a),max(a),min(p),max(p)]);\nplt.quiver(a, p, vdot[:,:,0], vdot[:,:,1], color='Red', width=0.001, scale=10,  scale_units='xy');\nplt.tick_params(labelsize=8)\nplt.xlabel(f'${vlatex(Q[0])}$'); plt.ylabel(f'${vlatex(sys.P[0])}$');\nplt.title('$H$');",
      "metadata": {
        "trusted": true
      },
      "execution_count": null,
      "outputs": []
    }
  ]
}