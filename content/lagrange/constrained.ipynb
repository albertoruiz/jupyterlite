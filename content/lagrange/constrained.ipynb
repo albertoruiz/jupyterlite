{
 "cells": [
  {
   "cell_type": "markdown",
   "metadata": {
    "editable": true,
    "slideshow": {
     "slide_type": ""
    },
    "tags": []
   },
   "source": [
    "# Constrained movement"
   ]
  },
  {
   "cell_type": "code",
   "execution_count": null,
   "metadata": {},
   "outputs": [],
   "source": [
    "import sympy, scipy, matplotlib\n",
    "\n",
    "from mechanics import *"
   ]
  },
  {
   "cell_type": "markdown",
   "metadata": {},
   "source": [
    "## Quadratic constraint"
   ]
  },
  {
   "cell_type": "code",
   "execution_count": null,
   "metadata": {},
   "outputs": [],
   "source": [
    "g = symbols('g',positive=True)\n",
    "\n",
    "Q = [x] = dynsyms(['x'])\n",
    "\n",
    "n = 1\n",
    "dim = 2\n",
    "P,V = posvel(n,dim)\n",
    "M   = vector(n,'m')\n",
    "T   = M.dot( mul(V,V) * ones(dim,1) ) / 2\n",
    "V   = g * M.dot(P[:,-1])\n",
    "\n",
    "Gen = mkGen(P, [x,\n",
    "                x**2] )\n",
    "\n",
    "\n",
    "sys = Dynamics(T, V, Gen, Q, {})"
   ]
  },
  {
   "cell_type": "code",
   "execution_count": null,
   "metadata": {},
   "outputs": [],
   "source": [
    "disp(sys.Q, 'Q')"
   ]
  },
  {
   "cell_type": "code",
   "execution_count": null,
   "metadata": {},
   "outputs": [],
   "source": [
    "[ Eq(u,v) for u,v in Gen.items() ]"
   ]
  },
  {
   "cell_type": "code",
   "execution_count": null,
   "metadata": {},
   "outputs": [],
   "source": [
    "disp(T,'T')"
   ]
  },
  {
   "cell_type": "code",
   "execution_count": null,
   "metadata": {},
   "outputs": [],
   "source": [
    "disp(sys.T.simplify(),'T')"
   ]
  },
  {
   "cell_type": "code",
   "execution_count": null,
   "metadata": {},
   "outputs": [],
   "source": [
    "disp(V,'V')"
   ]
  },
  {
   "cell_type": "code",
   "execution_count": null,
   "metadata": {},
   "outputs": [],
   "source": [
    "disp(sys.V.simplify(),'V')"
   ]
  },
  {
   "cell_type": "code",
   "execution_count": null,
   "metadata": {},
   "outputs": [],
   "source": [
    "disp(sys.L.simplify(),'L')"
   ]
  },
  {
   "cell_type": "code",
   "execution_count": null,
   "metadata": {},
   "outputs": [],
   "source": [
    "[ Eq(v,solve(e,v)[0]) for e,v in zip(sys.ecsL,sys.D2) ]"
   ]
  },
  {
   "cell_type": "code",
   "execution_count": null,
   "metadata": {},
   "outputs": [],
   "source": [
    "case = {g:1, **val(M,[1])}\n",
    "sys = Dynamics(T, V, Gen, Q, case)\n",
    "fps = 30"
   ]
  },
  {
   "cell_type": "code",
   "execution_count": null,
   "metadata": {},
   "outputs": [],
   "source": [
    "sol = nsolve(sys.dotL, T=10, dt=1/fps, q0=[1.5, 0])\n",
    "\n",
    "graph(sol,sys)"
   ]
  },
  {
   "cell_type": "code",
   "execution_count": null,
   "metadata": {
    "editable": true,
    "slideshow": {
     "slide_type": ""
    },
    "tags": [
     "hide-input"
    ]
   },
   "outputs": [],
   "source": [
    "def prepare():\n",
    "    fig = plt.figure(figsize=(4,4))\n",
    "    ax = plt.gca()\n",
    "    plt.tight_layout()\n",
    "    ax.axis('equal')\n",
    "    plt.close();\n",
    "\n",
    "    x = np.linspace(-2,2,100)\n",
    "    V = x**2\n",
    "\n",
    "    ax.fill_between(x,-0.1,V,color='lightgray')\n",
    "    line0, = ax.plot([], [], '.-', lw=2, markersize=20,color='#1f77b4')\n",
    "\n",
    "    def draw(k, t, x1,y1):\n",
    "        line0.set_data([x1],[y1])\n",
    "\n",
    "    return fig, draw"
   ]
  },
  {
   "cell_type": "code",
   "execution_count": null,
   "metadata": {},
   "outputs": [],
   "source": [
    "ani = mkAnim(sol, sys, prepare, fps, frames=len(sol))\n",
    "HTML(ani.to_jshtml())"
   ]
  },
  {
   "cell_type": "markdown",
   "metadata": {},
   "source": [
    "Para oscilaciones pequeñas se va pareciendo cada vez más a un oscilador armónico:"
   ]
  },
  {
   "cell_type": "code",
   "execution_count": null,
   "metadata": {},
   "outputs": [],
   "source": [
    "sol = nsolve(sys.dotL, T=10, dt=1/fps, q0=[0.5, 0])\n",
    "graph(sol,sys)"
   ]
  },
  {
   "cell_type": "code",
   "execution_count": null,
   "metadata": {},
   "outputs": [],
   "source": [
    "sol = nsolve(sys.dotL, T=10, dt=1/fps, q0=[0.1, 0])\n",
    "graph(sol,sys)"
   ]
  },
  {
   "cell_type": "markdown",
   "metadata": {},
   "source": [
    "## Brachistochrone"
   ]
  },
  {
   "cell_type": "markdown",
   "metadata": {},
   "source": [
    "Verificamos que la trayectoria más rápida es la cicloide comparando con algunas alternativas."
   ]
  },
  {
   "cell_type": "markdown",
   "metadata": {},
   "source": [
    "Los parámetros de la curva dependen de la distancia y desnivel."
   ]
  },
  {
   "cell_type": "markdown",
   "metadata": {},
   "source": [
    "https://scipython.com/blog/the-brachistochrone-problem/"
   ]
  },
  {
   "cell_type": "code",
   "execution_count": null,
   "metadata": {},
   "outputs": [],
   "source": [
    "def brach_param(dx,dy,g):\n",
    "    from scipy.optimize import newton\n",
    "\n",
    "    def f(theta):\n",
    "        return dy/dx - (1-np.cos(theta))/(theta-np.sin(theta))\n",
    "    theta2 = newton(f, np.pi/2)\n",
    "\n",
    "    r = 1 / (1 - np.cos(theta2))\n",
    "\n",
    "    pi = np.pi\n",
    "    t = np.linspace(0,theta2)\n",
    "\n",
    "    T = theta2 * np.sqrt(r / g)\n",
    "\n",
    "    x = r*(t-np.sin(t))\n",
    "    y = -r*(1-np.cos(t))\n",
    "\n",
    "    plt.figure(figsize=(4,4))\n",
    "    plt.plot(x,y)\n",
    "\n",
    "    plt.axis('equal');\n",
    "    plt.grid();\n",
    "    return r, theta2, T"
   ]
  },
  {
   "cell_type": "code",
   "execution_count": null,
   "metadata": {},
   "outputs": [],
   "source": [
    "dx,dy, my_g = 3,1, 1\n",
    "my_r, my_theta, travel_time = brach_param(dx,dy,my_g)"
   ]
  },
  {
   "cell_type": "code",
   "execution_count": null,
   "metadata": {},
   "outputs": [],
   "source": [
    "g, r, X,Y = symbols('g r X Y',positive=True)\n",
    "\n",
    "Q = [a,b,c] = dynsyms(['a', 'b', 'c'])\n",
    "\n",
    "n = 3\n",
    "dim = 2\n",
    "P,V = posvel(n,dim)\n",
    "M   = vector(n,'m')\n",
    "T   = M.dot( mul(V,V) * ones(dim,1) ) / 2\n",
    "V   = g * M.dot(P[:,-1])\n",
    "\n",
    "Gen = mkGen(P, [a,-a*Y/X,\n",
    "                b,(b-X)**2/X**2-Y,\n",
    "                r*(c-sin(c)), -r*(1-cos(c))\n",
    "               ]\n",
    "           )\n",
    "\n",
    "sys = Dynamics(T, V, Gen, Q, {})"
   ]
  },
  {
   "cell_type": "code",
   "execution_count": null,
   "metadata": {},
   "outputs": [],
   "source": [
    "disp(sys.Q, 'Q')"
   ]
  },
  {
   "cell_type": "code",
   "execution_count": null,
   "metadata": {},
   "outputs": [],
   "source": [
    "[ Eq(u,v) for u,v in Gen.items() ]"
   ]
  },
  {
   "cell_type": "code",
   "execution_count": null,
   "metadata": {},
   "outputs": [],
   "source": [
    "disp(T,'T')"
   ]
  },
  {
   "cell_type": "code",
   "execution_count": null,
   "metadata": {},
   "outputs": [],
   "source": [
    "disp(sys.T.simplify(),'T')"
   ]
  },
  {
   "cell_type": "code",
   "execution_count": null,
   "metadata": {},
   "outputs": [],
   "source": [
    "disp(V,'V')"
   ]
  },
  {
   "cell_type": "code",
   "execution_count": null,
   "metadata": {},
   "outputs": [],
   "source": [
    "disp(sys.V.simplify(),'V')"
   ]
  },
  {
   "cell_type": "code",
   "execution_count": null,
   "metadata": {},
   "outputs": [],
   "source": [
    "disp(sys.L.simplify(),'L')"
   ]
  },
  {
   "cell_type": "code",
   "execution_count": null,
   "metadata": {},
   "outputs": [],
   "source": [
    "[ Eq(v,solve(e,v)[0]) for e,v in zip(sys.ecsL,sys.D2) ]"
   ]
  },
  {
   "cell_type": "code",
   "execution_count": null,
   "metadata": {},
   "outputs": [],
   "source": [
    "case = {g:my_g, r:my_r, X:dx, Y:dy, **val(M,[1,1,1])}\n",
    "sys = Dynamics(T, V, Gen, Q, case)\n",
    "fps = 30"
   ]
  },
  {
   "cell_type": "code",
   "execution_count": null,
   "metadata": {},
   "outputs": [],
   "source": [
    "sol = nsolve(sys.dotL, T=travel_time, dt=1/fps, q0=[0, 0, 0.00001, 0, 0, 0])"
   ]
  },
  {
   "cell_type": "code",
   "execution_count": null,
   "metadata": {},
   "outputs": [],
   "source": [
    "graph(sol,sys)"
   ]
  },
  {
   "cell_type": "code",
   "execution_count": null,
   "metadata": {
    "editable": true,
    "slideshow": {
     "slide_type": ""
    },
    "tags": [
     "hide-input"
    ]
   },
   "outputs": [],
   "source": [
    "def prepare():\n",
    "    fig = plt.figure(figsize=(4,4))\n",
    "    ax = plt.gca()\n",
    "    plt.tight_layout()\n",
    "    ax.axis('equal')\n",
    "    plt.close();\n",
    "\n",
    "    x = np.linspace(0,dx,100)\n",
    "    V = x**2\n",
    "    ax.plot(x,-x*dy/dx)\n",
    "    ax.plot(x,(x-dx)**2/dx**2-dy)\n",
    "    t = np.linspace(0,my_theta)\n",
    "    r = my_r\n",
    "\n",
    "    ax.plot( r*(t-np.sin(t)) ,-r*(1-np.cos(t)));\n",
    "    line0, = ax.plot([], [], '.-', lw=2, markersize=20,color='#1f77b4',label='linear')\n",
    "    line1, = ax.plot([], [], '.-', lw=2, markersize=20,color='orange',label='quadratic')\n",
    "    line2, = ax.plot([], [], '.-', lw=2, markersize=20,color='green',label='cycloid')\n",
    "    ax.legend()\n",
    "\n",
    "    def draw(k, t, x1,y1,x2,y2,x3,y3):\n",
    "        line0.set_data([x1],[y1])\n",
    "        line1.set_data([x2],[y2])\n",
    "        line2.set_data([x3],[y3])\n",
    "\n",
    "    return fig, draw"
   ]
  },
  {
   "cell_type": "code",
   "execution_count": null,
   "metadata": {
    "tags": []
   },
   "outputs": [],
   "source": [
    "ani = mkAnim(sol, sys, prepare, fps, frames=len(sol))\n",
    "HTML(ani.to_jshtml(default_mode='once'))"
   ]
  },
  {
   "cell_type": "markdown",
   "metadata": {},
   "source": [
    "Es curioso que en este caso tenga un tramo de subida."
   ]
  },
  {
   "cell_type": "markdown",
   "metadata": {},
   "source": [
    "Otra configuración:"
   ]
  },
  {
   "cell_type": "code",
   "execution_count": null,
   "metadata": {},
   "outputs": [],
   "source": [
    "dx,dy, my_g = 1,1,1\n",
    "my_r, my_theta, travel_time = brach_param(dx,dy,my_g)"
   ]
  },
  {
   "cell_type": "code",
   "execution_count": null,
   "metadata": {},
   "outputs": [],
   "source": [
    "case = {g:my_g, r:my_r, X:dx, Y:dy, **val(M,[1,1,1])}\n",
    "sys = Dynamics(T, V, Gen, Q, case)\n",
    "fps = 30"
   ]
  },
  {
   "cell_type": "code",
   "execution_count": null,
   "metadata": {},
   "outputs": [],
   "source": [
    "sol = nsolve(sys.dotL, T=travel_time, dt=1/fps, q0=[0, 0, 0.00001, 0, 0, 0])"
   ]
  },
  {
   "cell_type": "code",
   "execution_count": null,
   "metadata": {
    "tags": []
   },
   "outputs": [],
   "source": [
    "ani = mkAnim(sol, sys, prepare, fps, frames=len(sol))\n",
    "HTML(ani.to_jshtml(default_mode='once'))"
   ]
  }
 ],
 "metadata": {
  "kernelspec": {
   "display_name": "Python 3 (ipykernel)",
   "language": "python",
   "name": "python3"
  },
  "language_info": {
   "codemirror_mode": {
    "name": "ipython",
    "version": 3
   },
   "file_extension": ".py",
   "mimetype": "text/x-python",
   "name": "python",
   "nbconvert_exporter": "python",
   "pygments_lexer": "ipython3",
   "version": "3.11.9"
  }
 },
 "nbformat": 4,
 "nbformat_minor": 4
}
