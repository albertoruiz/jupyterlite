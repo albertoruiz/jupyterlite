{
  "metadata": {
    "language_info": {
      "codemirror_mode": {
        "name": "python",
        "version": 3
      },
      "file_extension": ".py",
      "mimetype": "text/x-python",
      "name": "python",
      "nbconvert_exporter": "python",
      "pygments_lexer": "ipython3",
      "version": "3.8"
    },
    "kernelspec": {
      "name": "python",
      "display_name": "Python (Pyodide)",
      "language": "python"
    }
  },
  "nbformat_minor": 4,
  "nbformat": 4,
  "cells": [
    {
      "cell_type": "markdown",
      "source": "# Lagrangian Mechanics: constrained movement",
      "metadata": {}
    },
    {
      "cell_type": "code",
      "source": "import sympy, scipy, matplotlib\n\nfrom mechanics import *",
      "metadata": {
        "trusted": true
      },
      "execution_count": null,
      "outputs": []
    },
    {
      "cell_type": "code",
      "source": "g = symbols('g',positive=True)\n\nQ = [x] = dynsyms(['x'])\n\nn = 1\ndim = 2\nP,V = posvel(n,dim)\nM   = vector(n,'m')\nT   = M.dot( mul(V,V) * ones(dim,1) ) / 2\nV   = g * M.dot(P[:,-1])\n\nGen = mkGen(P, [x,\n                x**2] )\n\n\nsys = Dynamics(T, V, Gen, Q, {})",
      "metadata": {
        "trusted": true
      },
      "execution_count": null,
      "outputs": []
    },
    {
      "cell_type": "code",
      "source": "disp(sys.Q, 'Q')",
      "metadata": {
        "trusted": true
      },
      "execution_count": null,
      "outputs": []
    },
    {
      "cell_type": "code",
      "source": "[ Eq(u,v) for u,v in Gen.items() ]",
      "metadata": {
        "trusted": true
      },
      "execution_count": null,
      "outputs": []
    },
    {
      "cell_type": "code",
      "source": "disp(T,'T')",
      "metadata": {
        "trusted": true
      },
      "execution_count": null,
      "outputs": []
    },
    {
      "cell_type": "code",
      "source": "disp(sys.T.simplify(),'T')",
      "metadata": {
        "trusted": true
      },
      "execution_count": null,
      "outputs": []
    },
    {
      "cell_type": "code",
      "source": "disp(V,'V')",
      "metadata": {
        "trusted": true
      },
      "execution_count": null,
      "outputs": []
    },
    {
      "cell_type": "code",
      "source": "disp(sys.V.simplify(),'V')",
      "metadata": {
        "trusted": true
      },
      "execution_count": null,
      "outputs": []
    },
    {
      "cell_type": "code",
      "source": "disp(sys.L.simplify(),'L')",
      "metadata": {
        "trusted": true
      },
      "execution_count": null,
      "outputs": []
    },
    {
      "cell_type": "code",
      "source": "[ Eq(v,solve(e,v)[0]) for e,v in zip(sys.ecsL,sys.D2) ]",
      "metadata": {
        "trusted": true
      },
      "execution_count": null,
      "outputs": []
    },
    {
      "cell_type": "code",
      "source": "case = {g:1, **val(M,[1])}\nsys = Dynamics(T, V, Gen, Q, case)\nfps = 30",
      "metadata": {
        "trusted": true
      },
      "execution_count": null,
      "outputs": []
    },
    {
      "cell_type": "code",
      "source": "sol = nsolve(sys.dotL, T=10, dt=1/fps, q0=[1.5, 0])\n\ngraph(sol,sys)",
      "metadata": {
        "trusted": true
      },
      "execution_count": null,
      "outputs": []
    },
    {
      "cell_type": "code",
      "source": "def prepare():\n    fig = plt.figure(figsize=(4,4))\n    ax = plt.gca()\n    plt.tight_layout()\n    ax.axis('equal')\n    plt.close();\n\n    x = np.linspace(-2,2,100)\n    V = x**2\n\n    ax.fill_between(x,-0.1,V,color='lightgray')\n    line0, = ax.plot([], [], '.-', lw=2, markersize=20,color='#1f77b4')\n\n    def draw(k, t, x1,y1):\n        line0.set_data([x1],[y1])\n\n    return fig, draw",
      "metadata": {
        "trusted": true
      },
      "execution_count": null,
      "outputs": []
    },
    {
      "cell_type": "code",
      "source": "ani = mkAnim(sol, sys, prepare, fps, frames=len(sol))\nHTML(ani.to_jshtml())",
      "metadata": {
        "trusted": true
      },
      "execution_count": null,
      "outputs": []
    },
    {
      "cell_type": "code",
      "source": "sol = nsolve(sys.dotL, T=10, dt=1/fps, q0=[0.5, 0])\ngraph(sol,sys)",
      "metadata": {
        "trusted": true
      },
      "execution_count": null,
      "outputs": []
    },
    {
      "cell_type": "code",
      "source": "sol = nsolve(sys.dotL, T=10, dt=1/fps, q0=[0.1, 0])\ngraph(sol,sys)",
      "metadata": {
        "trusted": true
      },
      "execution_count": null,
      "outputs": []
    }
  ]
}