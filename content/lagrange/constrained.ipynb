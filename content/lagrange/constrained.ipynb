{
  "metadata": {
    "language_info": {
      "codemirror_mode": {
        "name": "python",
        "version": 3
      },
      "file_extension": ".py",
      "mimetype": "text/x-python",
      "name": "python",
      "nbconvert_exporter": "python",
      "pygments_lexer": "ipython3",
      "version": "3.8"
    },
    "kernelspec": {
      "name": "python",
      "display_name": "Python (Pyodide)",
      "language": "python"
    }
  },
  "nbformat_minor": 4,
  "nbformat": 4,
  "cells": [
    {
      "cell_type": "markdown",
      "source": "# Lagrangian Mechanics: constrained movement",
      "metadata": {}
    },
    {
      "cell_type": "code",
      "source": "import sympy, scipy, matplotlib\n\nfrom mechanics import *",
      "metadata": {
        "trusted": true
      },
      "execution_count": null,
      "outputs": []
    },
    {
      "cell_type": "markdown",
      "source": "## Quadratic constraint",
      "metadata": {}
    },
    {
      "cell_type": "code",
      "source": "g = symbols('g',positive=True)\n\nQ = [x] = dynsyms(['x'])\n\nn = 1\ndim = 2\nP,V = posvel(n,dim)\nM   = vector(n,'m')\nT   = M.dot( mul(V,V) * ones(dim,1) ) / 2\nV   = g * M.dot(P[:,-1])\n\nGen = mkGen(P, [x,\n                x**2] )\n\n\nsys = Dynamics(T, V, Gen, Q, {})",
      "metadata": {
        "trusted": true
      },
      "execution_count": null,
      "outputs": []
    },
    {
      "cell_type": "code",
      "source": "disp(sys.Q, 'Q')",
      "metadata": {
        "trusted": true
      },
      "execution_count": null,
      "outputs": []
    },
    {
      "cell_type": "code",
      "source": "[ Eq(u,v) for u,v in Gen.items() ]",
      "metadata": {
        "trusted": true
      },
      "execution_count": null,
      "outputs": []
    },
    {
      "cell_type": "code",
      "source": "disp(T,'T')",
      "metadata": {
        "trusted": true
      },
      "execution_count": null,
      "outputs": []
    },
    {
      "cell_type": "code",
      "source": "disp(sys.T.simplify(),'T')",
      "metadata": {
        "trusted": true
      },
      "execution_count": null,
      "outputs": []
    },
    {
      "cell_type": "code",
      "source": "disp(V,'V')",
      "metadata": {
        "trusted": true
      },
      "execution_count": null,
      "outputs": []
    },
    {
      "cell_type": "code",
      "source": "disp(sys.V.simplify(),'V')",
      "metadata": {
        "trusted": true
      },
      "execution_count": null,
      "outputs": []
    },
    {
      "cell_type": "code",
      "source": "disp(sys.L.simplify(),'L')",
      "metadata": {
        "trusted": true
      },
      "execution_count": null,
      "outputs": []
    },
    {
      "cell_type": "code",
      "source": "[ Eq(v,solve(e,v)[0]) for e,v in zip(sys.ecsL,sys.D2) ]",
      "metadata": {
        "trusted": true
      },
      "execution_count": null,
      "outputs": []
    },
    {
      "cell_type": "code",
      "source": "case = {g:1, **val(M,[1])}\nsys = Dynamics(T, V, Gen, Q, case)\nfps = 30",
      "metadata": {
        "trusted": true
      },
      "execution_count": null,
      "outputs": []
    },
    {
      "cell_type": "code",
      "source": "sol = nsolve(sys.dotL, T=10, dt=1/fps, q0=[1.5, 0])\n\ngraph(sol,sys)",
      "metadata": {
        "trusted": true
      },
      "execution_count": null,
      "outputs": []
    },
    {
      "cell_type": "code",
      "source": "def prepare():\n    fig = plt.figure(figsize=(4,4))\n    ax = plt.gca()\n    plt.tight_layout()\n    ax.axis('equal')\n    plt.close();\n\n    x = np.linspace(-2,2,100)\n    V = x**2\n\n    ax.fill_between(x,-0.1,V,color='lightgray')\n    line0, = ax.plot([], [], '.-', lw=2, markersize=20,color='#1f77b4')\n\n    def draw(k, t, x1,y1):\n        line0.set_data([x1],[y1])\n\n    return fig, draw",
      "metadata": {
        "jupyter": {
          "source_hidden": true
        },
        "tags": [],
        "trusted": true
      },
      "execution_count": null,
      "outputs": []
    },
    {
      "cell_type": "code",
      "source": "ani = mkAnim(sol, sys, prepare, fps, frames=len(sol))\nHTML(ani.to_jshtml())",
      "metadata": {
        "trusted": true
      },
      "execution_count": null,
      "outputs": []
    },
    {
      "cell_type": "markdown",
      "source": "Para oscilaciones pequeñas se va pareciendo cada vez más a un oscilador armónico:",
      "metadata": {}
    },
    {
      "cell_type": "code",
      "source": "sol = nsolve(sys.dotL, T=10, dt=1/fps, q0=[0.5, 0])\ngraph(sol,sys)",
      "metadata": {
        "trusted": true
      },
      "execution_count": null,
      "outputs": []
    },
    {
      "cell_type": "code",
      "source": "sol = nsolve(sys.dotL, T=10, dt=1/fps, q0=[0.1, 0])\ngraph(sol,sys)",
      "metadata": {
        "trusted": true
      },
      "execution_count": null,
      "outputs": []
    },
    {
      "cell_type": "markdown",
      "source": "## Brachistochrone",
      "metadata": {}
    },
    {
      "cell_type": "markdown",
      "source": "Verificamos que la trayectoria más rápida es la cicloide comparando con algunas alternativas.",
      "metadata": {}
    },
    {
      "cell_type": "markdown",
      "source": "Los parámetros de la curva dependen de la distancia y desnivel.",
      "metadata": {}
    },
    {
      "cell_type": "markdown",
      "source": "https://scipython.com/blog/the-brachistochrone-problem/",
      "metadata": {}
    },
    {
      "cell_type": "code",
      "source": "def brach_param(dx,dy,g):\n    from scipy.optimize import newton\n\n    def f(theta):\n        return dy/dx - (1-np.cos(theta))/(theta-np.sin(theta))\n    theta2 = newton(f, np.pi/2)\n\n    r = 1 / (1 - np.cos(theta2))\n\n    pi = np.pi\n    t = np.linspace(0,theta2)\n\n    T = theta2 * np.sqrt(r / g)\n\n    x = r*(t-np.sin(t))\n    y = -r*(1-np.cos(t))\n\n    plt.figure(figsize=(4,4))\n    plt.plot(x,y)\n\n    plt.axis('equal');\n    plt.grid();\n    return r, theta2, T",
      "metadata": {
        "trusted": true
      },
      "execution_count": null,
      "outputs": []
    },
    {
      "cell_type": "code",
      "source": "dx,dy, my_g = 3,1, 1\nmy_r, my_theta, travel_time = brach_param(dx,dy,my_g)",
      "metadata": {
        "trusted": true
      },
      "execution_count": null,
      "outputs": []
    },
    {
      "cell_type": "code",
      "source": "g, r, X,Y = symbols('g r X Y',positive=True)\n\nQ = [a,b,c] = dynsyms(['a', 'b', 'c'])\n\nn = 3\ndim = 2\nP,V = posvel(n,dim)\nM   = vector(n,'m')\nT   = M.dot( mul(V,V) * ones(dim,1) ) / 2\nV   = g * M.dot(P[:,-1])\n\nGen = mkGen(P, [a,-a*Y/X,\n                b,(b-X)**2/X**2-Y,\n                r*(c-sin(c)), -r*(1-cos(c))\n               ]\n           )\n\nsys = Dynamics(T, V, Gen, Q, {})",
      "metadata": {
        "trusted": true
      },
      "execution_count": null,
      "outputs": []
    },
    {
      "cell_type": "code",
      "source": "disp(sys.Q, 'Q')",
      "metadata": {
        "trusted": true
      },
      "execution_count": null,
      "outputs": []
    },
    {
      "cell_type": "code",
      "source": "[ Eq(u,v) for u,v in Gen.items() ]",
      "metadata": {
        "trusted": true
      },
      "execution_count": null,
      "outputs": []
    },
    {
      "cell_type": "code",
      "source": "disp(T,'T')",
      "metadata": {
        "trusted": true
      },
      "execution_count": null,
      "outputs": []
    },
    {
      "cell_type": "code",
      "source": "disp(sys.T.simplify(),'T')",
      "metadata": {
        "trusted": true
      },
      "execution_count": null,
      "outputs": []
    },
    {
      "cell_type": "code",
      "source": "disp(V,'V')",
      "metadata": {
        "trusted": true
      },
      "execution_count": null,
      "outputs": []
    },
    {
      "cell_type": "code",
      "source": "disp(sys.V.simplify(),'V')",
      "metadata": {
        "trusted": true
      },
      "execution_count": null,
      "outputs": []
    },
    {
      "cell_type": "code",
      "source": "disp(sys.L.simplify(),'L')",
      "metadata": {
        "trusted": true
      },
      "execution_count": null,
      "outputs": []
    },
    {
      "cell_type": "code",
      "source": "[ Eq(v,solve(e,v)[0]) for e,v in zip(sys.ecsL,sys.D2) ]",
      "metadata": {
        "trusted": true
      },
      "execution_count": null,
      "outputs": []
    },
    {
      "cell_type": "code",
      "source": "case = {g:my_g, r:my_r, X:dx, Y:dy, **val(M,[1,1,1])}\nsys = Dynamics(T, V, Gen, Q, case)\nfps = 30",
      "metadata": {
        "trusted": true
      },
      "execution_count": null,
      "outputs": []
    },
    {
      "cell_type": "code",
      "source": "sol = nsolve(sys.dotL, T=travel_time, dt=1/fps, q0=[0, 0, 0.00001, 0, 0, 0])",
      "metadata": {
        "trusted": true
      },
      "execution_count": null,
      "outputs": []
    },
    {
      "cell_type": "code",
      "source": "graph(sol,sys)",
      "metadata": {
        "trusted": true
      },
      "execution_count": null,
      "outputs": []
    },
    {
      "cell_type": "code",
      "source": "def prepare():\n    fig = plt.figure(figsize=(4,4))\n    ax = plt.gca()\n    plt.tight_layout()\n    ax.axis('equal')\n    plt.close();\n\n    x = np.linspace(0,dx,100)\n    V = x**2\n    ax.plot(x,-x*dy/dx)\n    ax.plot(x,(x-dx)**2/dx**2-dy)\n    t = np.linspace(0,my_theta)\n    r = my_r\n\n    ax.plot( r*(t-np.sin(t)) ,-r*(1-np.cos(t)));\n    line0, = ax.plot([], [], '.-', lw=2, markersize=20,color='#1f77b4',label='linear')\n    line1, = ax.plot([], [], '.-', lw=2, markersize=20,color='orange',label='quadratic')\n    line2, = ax.plot([], [], '.-', lw=2, markersize=20,color='green',label='cycloid')\n    ax.legend()\n\n    def draw(k, t, x1,y1,x2,y2,x3,y3):\n        line0.set_data([x1],[y1])\n        line1.set_data([x2],[y2])\n        line2.set_data([x3],[y3])\n\n    return fig, draw",
      "metadata": {
        "tags": [],
        "jupyter": {
          "source_hidden": true
        },
        "trusted": true
      },
      "execution_count": null,
      "outputs": []
    },
    {
      "cell_type": "code",
      "source": "ani = mkAnim(sol, sys, prepare, fps, frames=len(sol))\nHTML(ani.to_jshtml(default_mode='once'))",
      "metadata": {
        "tags": [],
        "trusted": true
      },
      "execution_count": null,
      "outputs": []
    },
    {
      "cell_type": "markdown",
      "source": "Es curioso que en este caso tenga un tramo de subida.",
      "metadata": {}
    },
    {
      "cell_type": "markdown",
      "source": "Otra configuración:",
      "metadata": {}
    },
    {
      "cell_type": "code",
      "source": "dx,dy, my_g = 1,1,1\nmy_r, my_theta, travel_time = brach_param(dx,dy,my_g)",
      "metadata": {
        "trusted": true
      },
      "execution_count": null,
      "outputs": []
    },
    {
      "cell_type": "code",
      "source": "case = {g:my_g, r:my_r, X:dx, Y:dy, **val(M,[1,1,1])}\nsys = Dynamics(T, V, Gen, Q, case)\nfps = 30",
      "metadata": {
        "trusted": true
      },
      "execution_count": null,
      "outputs": []
    },
    {
      "cell_type": "code",
      "source": "sol = nsolve(sys.dotL, T=travel_time, dt=1/fps, q0=[0, 0, 0.00001, 0, 0, 0])",
      "metadata": {
        "trusted": true
      },
      "execution_count": null,
      "outputs": []
    },
    {
      "cell_type": "code",
      "source": "ani = mkAnim(sol, sys, prepare, fps, frames=len(sol))\nHTML(ani.to_jshtml(default_mode='once'))",
      "metadata": {
        "tags": [],
        "trusted": true
      },
      "execution_count": null,
      "outputs": []
    }
  ]
}