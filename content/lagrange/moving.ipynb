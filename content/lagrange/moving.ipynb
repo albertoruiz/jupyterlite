{
 "cells": [
  {
   "cell_type": "markdown",
   "metadata": {
    "editable": true,
    "slideshow": {
     "slide_type": ""
    },
    "tags": []
   },
   "source": [
    "# Moving pendulum"
   ]
  },
  {
   "cell_type": "code",
   "execution_count": null,
   "metadata": {},
   "outputs": [],
   "source": [
    "import sympy, scipy, matplotlib\n",
    "\n",
    "from mechanics import *"
   ]
  },
  {
   "cell_type": "code",
   "execution_count": null,
   "metadata": {},
   "outputs": [],
   "source": [
    "g,l,om = symbols('g l omega',positive=True)\n",
    "\n",
    "Zero = sympify(0)\n",
    "\n",
    "Q = [alpha] = dynsyms(['alpha'])\n",
    "\n",
    "n = 2\n",
    "dim = 2\n",
    "P,V = posvel(n,dim)\n",
    "M   = vector(n,'m')\n",
    "T   = M.dot( mul(V,V) * ones(dim,1) ) / 2\n",
    "V   = g * M.dot(P[:,-1])\n",
    "\n",
    "Gen = mkGen(P, [cos(om*t)+l*sin(alpha),\n",
    "                -l*cos(alpha)] )\n",
    "\n",
    "sys = Dynamics(T, V, Gen, Q, {})"
   ]
  },
  {
   "cell_type": "code",
   "execution_count": null,
   "metadata": {},
   "outputs": [],
   "source": [
    "disp(sys.Q, 'Q')"
   ]
  },
  {
   "cell_type": "code",
   "execution_count": null,
   "metadata": {},
   "outputs": [],
   "source": [
    "disp(sys.L.simplify(),'L')"
   ]
  },
  {
   "cell_type": "code",
   "execution_count": null,
   "metadata": {},
   "outputs": [],
   "source": [
    "[ Eq(v,solve(e,v)[0]) for e,v in zip(sys.ecsL,sys.D2) ]"
   ]
  },
  {
   "cell_type": "code",
   "execution_count": null,
   "metadata": {},
   "outputs": [],
   "source": [
    "case = {g:10, l:1, om:2, **val(M,[1,1])}\n",
    "sys = Dynamics(T, V, Gen, Q, case)\n",
    "fps = 30"
   ]
  },
  {
   "cell_type": "code",
   "execution_count": null,
   "metadata": {},
   "outputs": [],
   "source": [
    "sol = nsolve(sys.dotL, T=20, dt=1/fps, q0=[0, 0])\n",
    "\n",
    "graph(sol,sys)"
   ]
  },
  {
   "cell_type": "code",
   "execution_count": null,
   "metadata": {
    "editable": true,
    "slideshow": {
     "slide_type": ""
    },
    "tags": [
     "hide-input"
    ]
   },
   "outputs": [],
   "source": [
    "def prepare():\n",
    "    fig = plt.figure(figsize=(5,4))\n",
    "    ax = plt.gca()\n",
    "    plt.tight_layout()\n",
    "    ax.axis('equal')\n",
    "    plt.axis('off')\n",
    "    plt.close();\n",
    "\n",
    "    ax.plot([-2,2],[-1,0.1],color='white')\n",
    "    ax.plot([-1,1],[0,0],color='red')\n",
    "\n",
    "    line0, = ax.plot([],[],lw=2,color='gray')\n",
    "    line1, = ax.plot([], [], '.', markersize=30,color='black')\n",
    "    line2, = ax.plot([], [], '.', markersize=10,color='red')\n",
    "\n",
    "    def draw(k, t, x1,y1):\n",
    "        x0 = np.cos(case[om]*t)\n",
    "        line0.set_data([x0,x1],[0,y1])\n",
    "        line1.set_data([x1],[y1])\n",
    "        line2.set_data([x0],[0])\n",
    "\n",
    "\n",
    "    return fig, draw"
   ]
  },
  {
   "cell_type": "code",
   "execution_count": null,
   "metadata": {},
   "outputs": [],
   "source": [
    "ani = mkAnim(sol, sys, prepare, fps, frames=len(sol))\n",
    "HTML(ani.to_jshtml())"
   ]
  }
 ],
 "metadata": {
  "kernelspec": {
   "display_name": "Python 3 (ipykernel)",
   "language": "python",
   "name": "python3"
  },
  "language_info": {
   "codemirror_mode": {
    "name": "ipython",
    "version": 3
   },
   "file_extension": ".py",
   "mimetype": "text/x-python",
   "name": "python",
   "nbconvert_exporter": "python",
   "pygments_lexer": "ipython3",
   "version": "3.11.9"
  }
 },
 "nbformat": 4,
 "nbformat_minor": 4
}
