{
  "metadata": {
    "language_info": {
      "codemirror_mode": {
        "name": "python",
        "version": 3
      },
      "file_extension": ".py",
      "mimetype": "text/x-python",
      "name": "python",
      "nbconvert_exporter": "python",
      "pygments_lexer": "ipython3",
      "version": "3.8"
    },
    "kernelspec": {
      "name": "python",
      "display_name": "Python (Pyodide)",
      "language": "python"
    }
  },
  "nbformat_minor": 4,
  "nbformat": 4,
  "cells": [
    {
      "cell_type": "markdown",
      "source": "# Lagrangian Mechanics: moving pendulum",
      "metadata": {}
    },
    {
      "cell_type": "code",
      "source": "import sympy, scipy, matplotlib\n\nfrom mechanics import *",
      "metadata": {
        "trusted": true
      },
      "execution_count": null,
      "outputs": []
    },
    {
      "cell_type": "code",
      "source": "g,l,om = symbols('g l omega',positive=True)\n\nZero = sympify(0)\n\nQ = [alpha] = dynsyms(['alpha'])\n\nn = 2\ndim = 2\nP,V = posvel(n,dim)\nM   = vector(n,'m')\nT   = M.dot( mul(V,V) * ones(dim,1) ) / 2\nV   = g * M.dot(P[:,-1])\n\nGen = mkGen(P, [cos(om*t)+l*sin(alpha),\n                -l*cos(alpha)] )\n\nsys = Dynamics(T, V, Gen, Q, {})",
      "metadata": {
        "trusted": true
      },
      "execution_count": null,
      "outputs": []
    },
    {
      "cell_type": "code",
      "source": "disp(sys.Q, 'Q')",
      "metadata": {
        "trusted": true
      },
      "execution_count": null,
      "outputs": []
    },
    {
      "cell_type": "code",
      "source": "disp(sys.L.simplify(),'L')",
      "metadata": {
        "trusted": true
      },
      "execution_count": null,
      "outputs": []
    },
    {
      "cell_type": "code",
      "source": "[ Eq(v,solve(e,v)[0]) for e,v in zip(sys.ecsL,sys.D2) ]",
      "metadata": {
        "trusted": true
      },
      "execution_count": null,
      "outputs": []
    },
    {
      "cell_type": "code",
      "source": "case = {g:10, l:1, om:2, **val(M,[1,1])}\nsys = Dynamics(T, V, Gen, Q, case)\nfps = 30",
      "metadata": {
        "trusted": true
      },
      "execution_count": null,
      "outputs": []
    },
    {
      "cell_type": "code",
      "source": "sol = nsolve(sys.dotL, T=20, dt=1/fps, q0=[0, 0])\n\ngraph(sol,sys)",
      "metadata": {
        "trusted": true
      },
      "execution_count": null,
      "outputs": []
    },
    {
      "cell_type": "code",
      "source": "def prepare():\n    fig = plt.figure(figsize=(5,4))\n    ax = plt.gca()\n    plt.tight_layout()\n    ax.axis('equal')\n    plt.axis('off')\n    plt.close();\n\n    ax.plot([-2,2],[-1,0.1],color='white')\n    ax.plot([-1,1],[0,0],color='red')\n\n    line0, = ax.plot([],[],lw=2,color='gray')\n    line1, = ax.plot([], [], '.', markersize=30,color='black')\n    line2, = ax.plot([], [], '.', markersize=10,color='red')\n\n    def draw(k, t, x1,y1):\n        x0 = np.cos(case[om]*t)\n        line0.set_data([x0,x1],[0,y1])\n        line1.set_data([x1],[y1])\n        line2.set_data([x0],[0])\n\n\n    return fig, draw",
      "metadata": {
        "tags": [],
        "jupyter": {
          "source_hidden": true
        },
        "trusted": true
      },
      "execution_count": null,
      "outputs": []
    },
    {
      "cell_type": "code",
      "source": "ani = mkAnim(sol, sys, prepare, fps, frames=len(sol))\nHTML(ani.to_jshtml())",
      "metadata": {
        "trusted": true
      },
      "execution_count": null,
      "outputs": []
    }
  ]
}