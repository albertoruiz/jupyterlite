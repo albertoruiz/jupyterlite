{
 "cells": [
  {
   "cell_type": "markdown",
   "metadata": {
    "editable": true,
    "slideshow": {
     "slide_type": ""
    },
    "tags": []
   },
   "source": [
    "# Simple pendulum"
   ]
  },
  {
   "cell_type": "code",
   "execution_count": null,
   "metadata": {
    "editable": true,
    "slideshow": {
     "slide_type": ""
    },
    "tags": []
   },
   "outputs": [],
   "source": [
    "import sympy, scipy, matplotlib\n",
    "\n",
    "from mechanics import *"
   ]
  },
  {
   "cell_type": "markdown",
   "metadata": {
    "editable": true,
    "slideshow": {
     "slide_type": ""
    },
    "tags": []
   },
   "source": [
    "Definition of the system:"
   ]
  },
  {
   "cell_type": "code",
   "execution_count": null,
   "metadata": {},
   "outputs": [],
   "source": [
    "g, l = symbols('g l',positive=True)\n",
    "\n",
    "# Generalized coordinates\n",
    "Q = [alpha] = dynsyms(['alpha'])\n",
    "\n",
    "# number of particles\n",
    "n = 1\n",
    "# spatial dimension\n",
    "dim = 2\n",
    "\n",
    "# General system of n particles\n",
    "P,V = posvel(n,dim)\n",
    "M   = vector(n,'m')\n",
    "T   = M.dot( mul(V,V) * ones(dim,1) ) / 2\n",
    "\n",
    "# Potential energy of constant gravity (sum mgy)\n",
    "V   = g * M.dot(P[:,-1])\n",
    "\n",
    "# Cartesian coordinates in terms of generalized coordinates\n",
    "Gen = mkGen(P, [l*sin(alpha),\n",
    "                -l*cos(alpha)] )\n",
    "\n",
    "\n",
    "sys = Dynamics(T, V, Gen, Q, {})"
   ]
  },
  {
   "cell_type": "markdown",
   "metadata": {},
   "source": [
    "Generalized coordinates:"
   ]
  },
  {
   "cell_type": "code",
   "execution_count": null,
   "metadata": {
    "tags": []
   },
   "outputs": [],
   "source": [
    "disp(sys.Q, 'Q')"
   ]
  },
  {
   "cell_type": "markdown",
   "metadata": {
    "tags": []
   },
   "source": [
    "Cartesian coordinates:"
   ]
  },
  {
   "cell_type": "code",
   "execution_count": null,
   "metadata": {
    "tags": []
   },
   "outputs": [],
   "source": [
    "[ Eq(u,v) for u,v in Gen.items() ]"
   ]
  },
  {
   "cell_type": "markdown",
   "metadata": {},
   "source": [
    "Potential energy:"
   ]
  },
  {
   "cell_type": "code",
   "execution_count": null,
   "metadata": {},
   "outputs": [],
   "source": [
    "disp3(Symbol('V'),V,sys.V)"
   ]
  },
  {
   "cell_type": "markdown",
   "metadata": {},
   "source": [
    "Kinetic energy:"
   ]
  },
  {
   "cell_type": "code",
   "execution_count": null,
   "metadata": {},
   "outputs": [],
   "source": [
    "disp3(Symbol('T'),T,sys.T.simplify())"
   ]
  },
  {
   "cell_type": "markdown",
   "metadata": {},
   "source": [
    "Lagrangian:"
   ]
  },
  {
   "cell_type": "code",
   "execution_count": null,
   "metadata": {},
   "outputs": [],
   "source": [
    "disp(sys.L.simplify(),'L')"
   ]
  },
  {
   "cell_type": "markdown",
   "metadata": {},
   "source": [
    "Lagrange equations:"
   ]
  },
  {
   "cell_type": "code",
   "execution_count": null,
   "metadata": {},
   "outputs": [],
   "source": [
    "[ Eq(v,solve(e,v)[0]) for e,v in zip(sys.ecsL,sys.D2) ]"
   ]
  },
  {
   "cell_type": "markdown",
   "metadata": {},
   "source": [
    "Numerical solution for a particular case:"
   ]
  },
  {
   "cell_type": "code",
   "execution_count": null,
   "metadata": {},
   "outputs": [],
   "source": [
    "case = {g:10, l:1, **val(M,[2])}\n",
    "sys = Dynamics(T, V, Gen, Q, case)\n",
    "fps = 30"
   ]
  },
  {
   "cell_type": "code",
   "execution_count": null,
   "metadata": {},
   "outputs": [],
   "source": [
    "sol = nsolve(sys.dotL, T=10, dt=1/fps, q0=[1.5, 0])\n",
    "\n",
    "graph(sol,sys)"
   ]
  },
  {
   "cell_type": "markdown",
   "metadata": {},
   "source": [
    "A simple animation:"
   ]
  },
  {
   "cell_type": "code",
   "execution_count": null,
   "metadata": {
    "editable": true,
    "slideshow": {
     "slide_type": ""
    },
    "tags": [
     "hide-input"
    ]
   },
   "outputs": [],
   "source": [
    "def prepare():\n",
    "    fig = plt.figure(figsize=(4,4))\n",
    "    ax = plt.gca()\n",
    "    plt.tight_layout()\n",
    "    ax.axis('equal')\n",
    "    plt.tick_params(colors='gray')\n",
    "    #ax.axis('off')\n",
    "    plt.close();\n",
    "\n",
    "    ax.plot([-1,1],[-1,0.1],color='white')\n",
    "\n",
    "    line1, = ax.plot([],[],lw=2,color='gray')\n",
    "    line0, = ax.plot([], [], '.-', markersize=30,color='black')\n",
    "\n",
    "    def draw(k, t, x1,y1):\n",
    "        line0.set_data([x1],[y1])\n",
    "        line1.set_data([0,x1],[0,y1])\n",
    "\n",
    "    return fig, draw\n",
    "\n",
    "repeat=np.argmin(np.linalg.norm(sol[0,1:]-sol[20:,1:],axis=1))+20\n",
    "\n",
    "ani = mkAnim(sol, sys, prepare, fps, frames=len(sol[:repeat]))\n",
    "HTML(ani.to_jshtml())"
   ]
  },
  {
   "cell_type": "markdown",
   "metadata": {},
   "source": [
    "Generalized moments:"
   ]
  },
  {
   "cell_type": "code",
   "execution_count": null,
   "metadata": {},
   "outputs": [],
   "source": [
    "sys = Dynamics(T, V, Gen, Q, {}, alsoH=True)"
   ]
  },
  {
   "cell_type": "code",
   "execution_count": null,
   "metadata": {},
   "outputs": [],
   "source": [
    "sys.Pec"
   ]
  },
  {
   "cell_type": "markdown",
   "metadata": {},
   "source": [
    "Hamiltonian:"
   ]
  },
  {
   "cell_type": "code",
   "execution_count": null,
   "metadata": {},
   "outputs": [],
   "source": [
    "disp3(Symbol('H'),sys.H0.simplify(),sys.H.simplify())"
   ]
  },
  {
   "cell_type": "markdown",
   "metadata": {},
   "source": [
    "T+V"
   ]
  },
  {
   "cell_type": "code",
   "execution_count": null,
   "metadata": {
    "tags": []
   },
   "outputs": [],
   "source": [
    "(sys.T+sys.V).simplify()"
   ]
  },
  {
   "cell_type": "markdown",
   "metadata": {},
   "source": [
    "Hamilton equations (obtained with the Poisson bracket):"
   ]
  },
  {
   "cell_type": "code",
   "execution_count": null,
   "metadata": {},
   "outputs": [],
   "source": [
    "sys.ecsH"
   ]
  },
  {
   "cell_type": "code",
   "execution_count": null,
   "metadata": {},
   "outputs": [],
   "source": [
    "-sys.H.diff(Q[0])"
   ]
  },
  {
   "cell_type": "code",
   "execution_count": null,
   "metadata": {},
   "outputs": [],
   "source": [
    "sys.H.diff(sys.P[0])"
   ]
  },
  {
   "cell_type": "markdown",
   "metadata": {},
   "source": [
    "Legendre Transform:"
   ]
  },
  {
   "cell_type": "code",
   "execution_count": null,
   "metadata": {},
   "outputs": [],
   "source": [
    "sys.H.diff(t).simplify()"
   ]
  },
  {
   "cell_type": "markdown",
   "metadata": {},
   "source": [
    "$$ dH = \\underbrace{glm \\sin(q)}_{-\\dot p}\\; dq + \\underbrace{\\frac{p}{l^2 m}}_{\\dot q}\\; d p  $$"
   ]
  },
  {
   "cell_type": "markdown",
   "metadata": {},
   "source": [
    "Numerical solution for a particular case:"
   ]
  },
  {
   "cell_type": "code",
   "execution_count": null,
   "metadata": {},
   "outputs": [],
   "source": [
    "sys = Dynamics(T, V, Gen, Q, {g:10,l:1/2,M[0]:2}, alsoH=True)"
   ]
  },
  {
   "cell_type": "code",
   "execution_count": null,
   "metadata": {},
   "outputs": [],
   "source": [
    "sol=nsolve(sys.dotH,10,1/30,[1.5,0])\n",
    "\n",
    "graph(sol,sys, moments=True)"
   ]
  },
  {
   "cell_type": "code",
   "execution_count": null,
   "metadata": {},
   "outputs": [],
   "source": [
    "sys = Dynamics(T, V, Gen, Q, {M[0]:1, g:1, l:1}, alsoH=True)\n",
    "Ham = lambdify(Q+sys.P, sys.H, 'math')"
   ]
  },
  {
   "cell_type": "code",
   "execution_count": null,
   "metadata": {},
   "outputs": [],
   "source": [
    "def phase_space(qs,ps, **args):\n",
    "    vdot = np.array([[sys.dotH([q,p],0) for q in qs] for p in ps])\n",
    "    vH   = np.array([[Ham(q,p) for q in qs] for p in np.flipud(ps)])\n",
    "    plt.imshow(-vH,'gray',extent=[min(qs),max(qs),min(ps),max(ps)]);\n",
    "    plt.quiver(qs, ps, vdot[:,:,0], vdot[:,:,1], scale_units='xy', **args);\n",
    "    plt.tick_params(labelsize=8)\n",
    "    plt.xlabel(f'${vlatex(Q[0])}$'); plt.ylabel(f'${vlatex(sys.P[0])}$');\n",
    "    plt.title('$H$');\n",
    "\n",
    "a = np.linspace(-0.2,0.2,15)\n",
    "p = np.linspace(-0.2,0.2,15)\n",
    "plt.figure(figsize=(4,4))\n",
    "phase_space(a,p,color='Red', width=0.002, scale=5)"
   ]
  },
  {
   "cell_type": "code",
   "execution_count": null,
   "metadata": {},
   "outputs": [],
   "source": [
    "a = np.linspace(-1,5,100)\n",
    "p = np.linspace(-1,1,20)\n",
    "plt.figure(figsize=(10,5))\n",
    "phase_space(a,p,color='red',width=0.001,scale=10)"
   ]
  }
 ],
 "metadata": {
  "kernelspec": {
   "display_name": "Python 3 (ipykernel)",
   "language": "python",
   "name": "python3"
  },
  "language_info": {
   "codemirror_mode": {
    "name": "ipython",
    "version": 3
   },
   "file_extension": ".py",
   "mimetype": "text/x-python",
   "name": "python",
   "nbconvert_exporter": "python",
   "pygments_lexer": "ipython3",
   "version": "3.11.9"
  }
 },
 "nbformat": 4,
 "nbformat_minor": 4
}
