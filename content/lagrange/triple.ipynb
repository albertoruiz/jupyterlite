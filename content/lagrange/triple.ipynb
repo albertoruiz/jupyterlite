{
 "cells": [
  {
   "cell_type": "markdown",
   "metadata": {
    "editable": true,
    "slideshow": {
     "slide_type": ""
    },
    "tags": []
   },
   "source": [
    "# Triple pendulum"
   ]
  },
  {
   "cell_type": "code",
   "execution_count": null,
   "metadata": {},
   "outputs": [],
   "source": [
    "import sympy, scipy, matplotlib\n",
    "\n",
    "from mechanics import *"
   ]
  },
  {
   "cell_type": "code",
   "execution_count": null,
   "metadata": {},
   "outputs": [],
   "source": [
    "g,l_1,l_2,l_3 = symbols('g l_1 l_2 l_3',positive=True)\n",
    "\n",
    "Q = [theta_1, theta_2, theta_3] = dynsyms(['theta_1', 'theta_2', 'theta_3'])\n",
    "\n",
    "n = 3\n",
    "dim = 2\n",
    "P,V = posvel(n,dim)\n",
    "M   = vector(n,'m')\n",
    "T   = M.dot( mul(V,V) * ones(dim,1) ) / 2\n",
    "V   = g * M.dot(P[:,-1])\n",
    "\n",
    "Gen = mkGen(P, [l_1*sin(theta_1),\n",
    "                -l_1*cos(theta_1),\n",
    "                l_1*sin(theta_1)+l_2*sin(theta_2),\n",
    "                -l_1*cos(theta_1)-l_2*cos(theta_2),\n",
    "                l_1*sin(theta_1)+l_2*sin(theta_2)+l_3*sin(theta_3),\n",
    "                -l_1*cos(theta_1)-l_2*cos(theta_2)-l_3*cos(theta_3)] )\n",
    "\n",
    "sys = Dynamics(T, V, Gen, Q, {})"
   ]
  },
  {
   "cell_type": "code",
   "execution_count": null,
   "metadata": {},
   "outputs": [],
   "source": [
    "disp(sys.Q, 'Q')"
   ]
  },
  {
   "cell_type": "code",
   "execution_count": null,
   "metadata": {},
   "outputs": [],
   "source": [
    "disp(sys.L.simplify(),'L')"
   ]
  },
  {
   "cell_type": "code",
   "execution_count": null,
   "metadata": {},
   "outputs": [],
   "source": [
    "case = {g:10, l_1:1, l_2:1, l_3:1, **val(M,[1,1,1])}\n",
    "sys = Dynamics(T, V, Gen, Q, case)\n",
    "fps = 30"
   ]
  },
  {
   "cell_type": "code",
   "execution_count": null,
   "metadata": {},
   "outputs": [],
   "source": [
    "sol = nsolve(sys.dotL, T=12, dt=1/fps, q0=[1, 1.4, 2, 0, 0, 0])\n",
    "\n",
    "graph(sol,sys)"
   ]
  },
  {
   "cell_type": "code",
   "execution_count": null,
   "metadata": {
    "editable": true,
    "slideshow": {
     "slide_type": ""
    },
    "tags": [
     "hide-input"
    ]
   },
   "outputs": [],
   "source": [
    "def prepare():\n",
    "    fig = plt.figure(figsize=(6,4))\n",
    "    ax = plt.gca()\n",
    "    plt.tight_layout()\n",
    "    ax.axis('equal')\n",
    "    plt.axis('off')\n",
    "    plt.close();\n",
    "\n",
    "    ax.plot([-3,3],[-3,1],color='white')\n",
    "\n",
    "    line1, = ax.plot([],[],lw=2,color='gray')\n",
    "    line2, = ax.plot([],[],lw=2,color='gray')\n",
    "    line3, = ax.plot([],[],lw=2,color='gray')\n",
    "    ball1, = ax.plot([], [], '.', markersize=30,color='black')\n",
    "    ball2, = ax.plot([], [], '.', markersize=30,color='black')\n",
    "    ball3, = ax.plot([], [], '.', markersize=30,color='black')\n",
    "\n",
    "    ax.plot([0],[0],'.',markersize=10, color='gray')\n",
    "\n",
    "    def draw(k, t, x1,y1,x2,y2,x3,y3):\n",
    "        line1.set_data([0,x1],[0,y1])\n",
    "        line2.set_data([x1,x2],[y1,y2])\n",
    "        line3.set_data([x2,x3],[y2,y3])\n",
    "        ball1.set_data([x1],[y1])\n",
    "        ball2.set_data([x2],[y2])\n",
    "        ball3.set_data([x3],[y3])\n",
    "\n",
    "    return fig, draw"
   ]
  },
  {
   "cell_type": "code",
   "execution_count": null,
   "metadata": {},
   "outputs": [],
   "source": [
    "ani = mkAnim(sol, sys, prepare, fps, frames=len(sol))\n",
    "HTML(ani.to_jshtml())"
   ]
  }
 ],
 "metadata": {
  "kernelspec": {
   "display_name": "Python 3 (ipykernel)",
   "language": "python",
   "name": "python3"
  },
  "language_info": {
   "codemirror_mode": {
    "name": "ipython",
    "version": 3
   },
   "file_extension": ".py",
   "mimetype": "text/x-python",
   "name": "python",
   "nbconvert_exporter": "python",
   "pygments_lexer": "ipython3",
   "version": "3.11.9"
  }
 },
 "nbformat": 4,
 "nbformat_minor": 4
}
