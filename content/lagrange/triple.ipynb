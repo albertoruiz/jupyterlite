{
  "metadata": {
    "language_info": {
      "codemirror_mode": {
        "name": "python",
        "version": 3
      },
      "file_extension": ".py",
      "mimetype": "text/x-python",
      "name": "python",
      "nbconvert_exporter": "python",
      "pygments_lexer": "ipython3",
      "version": "3.8"
    },
    "kernelspec": {
      "name": "python",
      "display_name": "Python (Pyodide)",
      "language": "python"
    }
  },
  "nbformat_minor": 4,
  "nbformat": 4,
  "cells": [
    {
      "cell_type": "markdown",
      "source": "# Lagrangian Mechanics: triple pendulum",
      "metadata": {}
    },
    {
      "cell_type": "code",
      "source": "import sympy, scipy, matplotlib\n\nfrom mechanics import *",
      "metadata": {
        "trusted": true
      },
      "execution_count": null,
      "outputs": []
    },
    {
      "cell_type": "code",
      "source": "g,l_1,l_2,l_3 = symbols('g l_1 l_2 l_3',positive=True)\n\nQ = [theta_1, theta_2, theta_3] = dynsyms(['theta_1', 'theta_2', 'theta_3'])\n\nn = 3\ndim = 2\nP,V = posvel(n,dim)\nM   = vector(n,'m')\nT   = M.dot( mul(V,V) * ones(dim,1) ) / 2\nV   = g * M.dot(P[:,-1])\n\nGen = mkGen(P, [l_1*sin(theta_1),\n                -l_1*cos(theta_1),\n                l_1*sin(theta_1)+l_2*sin(theta_2),\n                -l_1*cos(theta_1)-l_2*cos(theta_2),\n                l_1*sin(theta_1)+l_2*sin(theta_2)+l_3*sin(theta_3),\n                -l_1*cos(theta_1)-l_2*cos(theta_2)-l_3*cos(theta_3)] )\n\nsys = Dynamics(T, V, Gen, Q, {})",
      "metadata": {
        "trusted": true
      },
      "execution_count": null,
      "outputs": []
    },
    {
      "cell_type": "code",
      "source": "disp(sys.Q, 'Q')",
      "metadata": {
        "trusted": true
      },
      "execution_count": null,
      "outputs": []
    },
    {
      "cell_type": "code",
      "source": "disp(sys.L.simplify(),'L')",
      "metadata": {
        "trusted": true
      },
      "execution_count": null,
      "outputs": []
    },
    {
      "cell_type": "code",
      "source": "case = {g:10, l_1:1, l_2:1, l_3:1, **val(M,[1,1,1])}\nsys = Dynamics(T, V, Gen, Q, case)\nfps = 30",
      "metadata": {
        "trusted": true
      },
      "execution_count": null,
      "outputs": []
    },
    {
      "cell_type": "code",
      "source": "sol = nsolve(sys.dotL, T=12, dt=1/fps, q0=[1, 1.4, 2, 0, 0, 0])\n\ngraph(sol,sys)",
      "metadata": {
        "trusted": true
      },
      "execution_count": null,
      "outputs": []
    },
    {
      "cell_type": "code",
      "source": "def prepare():\n    fig = plt.figure(figsize=(6,4))\n    ax = plt.gca()\n    plt.tight_layout()\n    ax.axis('equal')\n    plt.axis('off')\n    plt.close();\n\n    ax.plot([-3,3],[-3,1],color='white')\n\n    line1, = ax.plot([],[],lw=2,color='gray')\n    line2, = ax.plot([],[],lw=2,color='gray')\n    line3, = ax.plot([],[],lw=2,color='gray')\n    ball1, = ax.plot([], [], '.', markersize=30,color='black')\n    ball2, = ax.plot([], [], '.', markersize=30,color='black')\n    ball3, = ax.plot([], [], '.', markersize=30,color='black')\n\n    ax.plot([0],[0],'.',markersize=10, color='gray')\n\n    def draw(k, t, x1,y1,x2,y2,x3,y3):\n        line1.set_data([0,x1],[0,y1])\n        line2.set_data([x1,x2],[y1,y2])\n        line3.set_data([x2,x3],[y2,y3])\n        ball1.set_data([x1],[y1])\n        ball2.set_data([x2],[y2])\n        ball3.set_data([x3],[y3])\n\n    return fig, draw",
      "metadata": {
        "tags": [],
        "jupyter": {
          "source_hidden": true
        },
        "trusted": true
      },
      "execution_count": null,
      "outputs": []
    },
    {
      "cell_type": "code",
      "source": "ani = mkAnim(sol, sys, prepare, fps, frames=len(sol))\nHTML(ani.to_jshtml())",
      "metadata": {
        "trusted": true
      },
      "execution_count": null,
      "outputs": []
    }
  ]
}