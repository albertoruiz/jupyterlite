{
  "metadata": {
    "language_info": {
      "codemirror_mode": {
        "name": "python",
        "version": 3
      },
      "file_extension": ".py",
      "mimetype": "text/x-python",
      "name": "python",
      "nbconvert_exporter": "python",
      "pygments_lexer": "ipython3",
      "version": "3.8"
    },
    "kernelspec": {
      "name": "python",
      "display_name": "Python (Pyodide)",
      "language": "python"
    }
  },
  "nbformat_minor": 4,
  "nbformat": 4,
  "cells": [
    {
      "cell_type": "markdown",
      "source": "# Cellular automaton",
      "metadata": {}
    },
    {
      "cell_type": "code",
      "source": "import matplotlib.pyplot as plt\nimport numpy as np\nfrom matplotlib import animation\n\nfrom IPython.display import HTML\nplt.rc('animation', html='html5')",
      "metadata": {
        "trusted": true
      },
      "execution_count": null,
      "outputs": []
    },
    {
      "cell_type": "markdown",
      "source": "## Life",
      "metadata": {}
    },
    {
      "cell_type": "code",
      "source": "s1 = 2; s2 = 3\nn1 = 3; n2 = 3\n\ndef vecinos(w):\n    return np.array([np.roll(np.roll(w,k,axis=1),l,axis=0)\n                     for k in [-1,0,1] \n                     for l in [-1,0,1] if (k,l) != (0,0) ]\n                   ).sum(axis=0)\n\ndef life(w):\n    v = vecinos(w)\n    return np.where(w, (s1 <=v)&(v<=s2) , (n1<=v)&(v<=n2) )",
      "metadata": {
        "trusted": true
      },
      "execution_count": null,
      "outputs": []
    },
    {
      "cell_type": "code",
      "source": "n = 10\nx = 1*(np.random.rand(n,n) > 0.6);\n\nplt.figure(figsize=(8,3))\nplt.subplot(1,2,1)\nplt.imshow(x, 'gray'); plt.title('instante actual')\nplt.subplot(1,2,2)\nplt.imshow(life(x),'gray'); plt.title('instante siguiente');",
      "metadata": {
        "trusted": true
      },
      "execution_count": null,
      "outputs": []
    },
    {
      "cell_type": "code",
      "source": "n = 50\nx = 1*(np.random.rand(n,n) > 0.6);\n\nx[:25,:25] = 0\nx[5:8,5:8] = [[0,1,0],\n              [0,0,1],\n              [1,1,1]]\n\n\nfig, ax = plt.subplots(figsize=(4,4))\nplt.close();\n\nimg = ax.imshow(1-x,'gray')\n\ndef animate(k):\n    global x\n    img.set_data(1-x)\n    x = life(x)\n    return [img]\n\nfps=10\nT = 5\nani = animation.FuncAnimation(fig, animate, init_func=lambda:[], frames=T*fps, interval=1000/fps, blit=True, repeat=False)\n\nHTML(ani.to_jshtml())",
      "metadata": {
        "trusted": true
      },
      "execution_count": null,
      "outputs": []
    },
    {
      "cell_type": "markdown",
      "source": "## WireWorld",
      "metadata": {
        "tags": []
      }
    },
    {
      "cell_type": "markdown",
      "source": "[github](https://xalava.github.io/WireWorld), [wikipedia](https://en.wikipedia.org/wiki/Wireworld)",
      "metadata": {}
    },
    {
      "cell_type": "code",
      "source": "circuit = \"\"\"\n                        \n .....                  \n .   ..........         \n ..oO.        .         \n        ..    .    ..   \n ....... .......... ... \n .      ..         ..   \n .                      \n ................       \n .              .       \n .         ............ \n .         .          . \n .         .          . \n ...................... \n                        \n\"\"\"",
      "metadata": {
        "trusted": true
      },
      "execution_count": null,
      "outputs": []
    },
    {
      "cell_type": "code",
      "source": "blank = 0; copper = 4; head = 2; tail = 3\ncirc = np.array(list(map(lambda x: list(map(lambda c: {' ':blank, '.':copper, 'O':head, 'o':tail}[c], x)), circuit.split('\\n')[1:-1])))\nplt.imshow(circ);",
      "metadata": {
        "trusted": true
      },
      "execution_count": null,
      "outputs": []
    },
    {
      "cell_type": "code",
      "source": "def wire(w):\n    n,m = w.shape\n    r = w.copy()\n    for i in range(n):\n        for j in range(m):\n            v = 0\n            for k in [-1,0,1]:\n                for l in [-1,0,1]:\n                    if w[(i+k)%n, (j+l)%m] == head:\n                        v += 1\n            if w[i,j] == head:\n                r[i,j] = tail\n            elif w[i,j] == tail:\n                r[i,j] = copper\n            elif w[i,j] == copper and v in [1,2]:\n                r[i,j] = head\n    return r",
      "metadata": {
        "trusted": true
      },
      "execution_count": null,
      "outputs": []
    },
    {
      "cell_type": "code",
      "source": "plt.imshow(wire(circ));",
      "metadata": {
        "trusted": true
      },
      "execution_count": null,
      "outputs": []
    },
    {
      "cell_type": "code",
      "source": "fig, ax = plt.subplots()\nplt.close();\n\nx = circ\n\nimg = ax.imshow(x)\n\ndef animate(k):\n    global x\n    img.set_data(x)\n    x = wire(x)\n    return ()\n\nfps=10\nT = 10\nani = animation.FuncAnimation(fig, animate, init_func=lambda:[], frames=T*fps, interval=1000/fps, blit=True, repeat=False)\n\nHTML(ani.to_jshtml())",
      "metadata": {
        "trusted": true
      },
      "execution_count": null,
      "outputs": []
    }
  ]
}