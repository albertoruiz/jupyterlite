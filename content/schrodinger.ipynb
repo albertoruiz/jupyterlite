{
  "metadata": {
    "kernelspec": {
      "name": "python",
      "display_name": "Python (Pyodide)",
      "language": "python"
    },
    "language_info": {
      "codemirror_mode": {
        "name": "python",
        "version": 3
      },
      "file_extension": ".py",
      "mimetype": "text/x-python",
      "name": "python",
      "nbconvert_exporter": "python",
      "pygments_lexer": "ipython3",
      "version": "3.8"
    }
  },
  "nbformat_minor": 4,
  "nbformat": 4,
  "cells": [
    {
      "cell_type": "markdown",
      "source": "# Schrödinger's Equation",
      "metadata": {}
    },
    {
      "cell_type": "markdown",
      "source": "#### Helper code",
      "metadata": {
        "tags": [],
        "jp-MarkdownHeadingCollapsed": true
      }
    },
    {
      "cell_type": "code",
      "source": "import sys\nif 'pyodide' in sys.modules:\n    %pip install ipywidgets\n    %pip install ipympl\n\nimport numpy             as np\nimport matplotlib.pyplot as plt\nfrom mpl_toolkits import mplot3d\n\n%run \"animate.ipy\"\n\nplt.rc('figure', figsize=(4,3))\n\n#save_path = \"../data/schrodinger\"\n#load_path = save_path\nload_path = \"https://raw.githubusercontent.com/albertoruiz/jupyterlite/main/data/schrodinger\"\n\nANIM = False\nMKVIDEO = not ANIM and True\nSAVEVIDEO = False\nPREVIEW = not ANIM and not MKVIDEO\n\nif ANIM:\n    %matplotlib widget\nelse:\n    %matplotlib inline",
      "metadata": {
        "tags": [],
        "trusted": true
      },
      "execution_count": null,
      "outputs": []
    },
    {
      "cell_type": "code",
      "source": "def shxt(w,cm='bwr',vsym=True):\n    \"\"\"show temporal evolution of wave\"\"\"\n    if vsym:\n        r = np.abs(w).max()\n        plt.imshow(np.flipud(w),cm,extent=(x1,x2,t1,t2),vmin=-r,vmax=r)\n    else:\n        plt.imshow(np.flipud(w),cm,extent=(x1,x2,t1,t2))\n    plt.xticks(np.arange(x1,x2+1,1)); plt.yticks(np.arange(t1,t2+1,1)); plt.grid();\n    plt.xlabel('x'); plt.ylabel('t');",
      "metadata": {
        "trusted": true
      },
      "execution_count": null,
      "outputs": []
    },
    {
      "cell_type": "code",
      "source": "def makeAnimationArray( psi, x, nframes=100, init=None, video=True):\n\n    fig, ax = plt.subplots(figsize=(10,3))\n    plt.tight_layout(h_pad=0,w_pad=0)\n    ax.set_xlim(( x[0], x[-1]))\n    ax.set_ylim(-0.05, 2)\n\n    SCA = 1.9 / (np.abs(psi[0])**2).max()\n    SC = np.sqrt(SCA)\n\n    if video:\n        plt.close()\n\n    line1, = ax.plot([], [], 'black',lw=2)\n    line2, = ax.plot([],[],'blue',alpha=0.5)\n    line3, = ax.plot([],[],'red',alpha=0.5)\n    #line2, = ax.plot(x, V, 'gray')\n    #info = ax.text(x1+0.2,2-0.2,'')\n\n    def fotogram(i):\n        r = psi[i]\n        line2.set_data(x,SC*np.real(r)/2+1)\n        line3.set_data(x,SC*np.imag(r)/2+1)\n        line1.set_data(x,SCA*abs(r)**2)\n        #info.set_text(f'{i} norm={np.sum(np.abs(r**2)):.3f}')\n        return ()\n\n    if init is not None:\n        fotogram(init)\n\n    return metaAnimation(fig,fotogram,nframes,video)",
      "metadata": {
        "tags": [],
        "trusted": true
      },
      "execution_count": null,
      "outputs": []
    },
    {
      "cell_type": "code",
      "source": "def makeAnimation( psi, x, nframes=100, init=None, video=True):\n\n    fig, ax = plt.subplots(figsize=(10,3))\n    plt.tight_layout(h_pad=0,w_pad=0)\n    ax.set_xlim(( x[0], x[-1]))\n    ax.set_ylim(-0.05, 2)\n\n    SCA = 1.9 / (np.abs(psi(0))**2).max()\n    SC = np.sqrt(SCA)\n\n    if video:\n        plt.close()\n\n    line1, = ax.plot([], [], 'black',lw=2)\n    line2, = ax.plot([],[],'blue',alpha=0.5)\n    line3, = ax.plot([],[],'red',alpha=0.5)\n    #line2, = ax.plot(x, V, 'gray')\n    #info = ax.text(x1+0.2,2-0.2,'')\n\n    def fotogram(i):\n        r = psi(i)\n        line2.set_data(x,SC*np.real(r)/2+1)\n        line3.set_data(x,SC*np.imag(r)/2+1)\n        line1.set_data(x,SCA*abs(r)**2)\n        #info.set_text(f'{i} norm={np.sum(np.abs(r**2)):.3f}')\n        return ()\n\n    if init is not None:\n        fotogram(init)\n\n    return metaAnimation(fig,fotogram,nframes,video)",
      "metadata": {
        "tags": [],
        "trusted": true
      },
      "execution_count": null,
      "outputs": []
    },
    {
      "cell_type": "markdown",
      "source": "## Motivation",
      "metadata": {}
    },
    {
      "cell_type": "markdown",
      "source": "En el notebook [exponential](exponential.ipynb) hemos visto que una onda pura que se desplaza con velocidad de fase $v$ se factoriza en dos exponenciales complejas, una con frecuencia espacial $k$ y la otra con frecuencia temporal $\\nu = k v$.",
      "metadata": {}
    },
    {
      "cell_type": "markdown",
      "source": "$$f(x,t) = \\exp[i2\\pi k (x-vt)] = \\exp(i2\\pi k x)\\; \\exp(-i2\\pi \\nu t )$$",
      "metadata": {}
    },
    {
      "cell_type": "code",
      "source": "x1, x2 = -2, 7\nt1, t2 = 0, 3\ndx = dt = 0.01\nx = np.arange(x1,x2+dx,dx).reshape(1,-1)\nt = np.arange(t1,t2+dt,dt).reshape(-1,1)",
      "metadata": {
        "collapsed": false,
        "jupyter": {
          "outputs_hidden": false
        },
        "trusted": true
      },
      "execution_count": null,
      "outputs": []
    },
    {
      "cell_type": "code",
      "source": "def Nor(f):\n    k = sum(abs(f)**2)\n    return f/np.sqrt(k)",
      "metadata": {
        "trusted": true
      },
      "execution_count": null,
      "outputs": []
    },
    {
      "cell_type": "code",
      "source": "def wave(k,x,f,t):\n    return np.exp(2j*np.pi*(k*x-f*t))",
      "metadata": {
        "trusted": true
      },
      "execution_count": null,
      "outputs": []
    },
    {
      "cell_type": "markdown",
      "source": "Por ejemplo, la siguiente onda tiene $k=1$ y $\\nu=2$. La velocidad de fase $v=2$.",
      "metadata": {}
    },
    {
      "cell_type": "code",
      "source": "onda = wave(1, x, 2, t)\n\nplt.figure(figsize=(8,4))\nshxt(np.real(onda))",
      "metadata": {
        "trusted": true
      },
      "execution_count": null,
      "outputs": []
    },
    {
      "cell_type": "code",
      "source": "metadisplay('demo1', makeAnimation, dict(psi=lambda i: onda[i], x=x.flatten()), vframes=100)",
      "metadata": {
        "tags": [],
        "trusted": true
      },
      "execution_count": null,
      "outputs": []
    },
    {
      "cell_type": "markdown",
      "source": "## Einstein - de Broglie",
      "metadata": {}
    },
    {
      "cell_type": "markdown",
      "source": "El experimento de [Davisson-Germer](https://en.wikipedia.org/wiki/Davisson%E2%80%93Germer_experiment) y el efecto fotoeléctrico conducen a las ondas de materia, que se caracterizan por tener la siguiente correspondencia entre las propiedades ondulatorias y corpusculares:\n\n$$p = k h$$\n$$E =\\nu h$$\n\nEn una partícula la energía y el momento no son independientes, por tanto en una onda de materia las dos frecuencias están enlazadas. La velocidad de fase queda determinada cuando se fija una de las dos.\n\nEn una partícula libre la energía es solo cinética, por lo que\n\n$$E = \\frac{p^2}{2m}$$",
      "metadata": {}
    },
    {
      "cell_type": "code",
      "source": "h = 1\nhbar = h/2/np.pi\nm = 1\n\ndef deBroglie(p,m,x,t):\n    E = p**2/(2*m)\n    f = E*h\n    k = p*h\n    return wave(k,x,f,t)",
      "metadata": {
        "trusted": true
      },
      "execution_count": null,
      "outputs": []
    },
    {
      "cell_type": "markdown",
      "source": "Como ejemplo, mostramos las ondas de materia de partículas con dos valores concretos de su momento:",
      "metadata": {}
    },
    {
      "cell_type": "code",
      "source": "onda = deBroglie(2, m, x, t)\n\nplt.figure(figsize=(8,4))\nshxt(np.imag(onda))",
      "metadata": {
        "trusted": true
      },
      "execution_count": null,
      "outputs": []
    },
    {
      "cell_type": "code",
      "source": "onda = deBroglie(1, m, x, t)\n\nplt.figure(figsize=(8,4))\nshxt(np.imag(onda))",
      "metadata": {
        "tags": [],
        "trusted": true
      },
      "execution_count": null,
      "outputs": []
    },
    {
      "cell_type": "markdown",
      "source": "La onda se extiende infinitamente en el espacio y no permite modelar un objeto localizado. Para representar o describir una partícula tenemos que recurrir a un paquete de ondas.",
      "metadata": {
        "tags": []
      }
    },
    {
      "cell_type": "code",
      "source": "def gaussian(sigma, x):\n    return np.exp(-0.5*(x/sigma)**2)/np.sqrt(2*np.pi)/sigma\n\nsigma = 1\n\ndk = 0.05\n\nkm = 2\n\nks = np.arange(km-4/sigma,km+4/sigma+dk,dk)\n\nonda = np.sum([deBroglie(k,1,x,t) * gaussian(1/sigma, k-km) for k in ks],axis=0)\n\nplt.figure(figsize=(8,4))\nshxt(np.imag(onda))",
      "metadata": {
        "tags": [],
        "trusted": true
      },
      "execution_count": null,
      "outputs": []
    },
    {
      "cell_type": "code",
      "source": "metadisplay('demo2', makeAnimation, dict(psi=lambda i: onda[i], x=x.flatten()), vframes=200)",
      "metadata": {
        "tags": [],
        "trusted": true
      },
      "execution_count": null,
      "outputs": []
    },
    {
      "cell_type": "markdown",
      "source": "Lo primero que observamos es que el paquete se dispersa, debido a que cada componente se mueve a diferente velocidad. Las frecuencias temporal y espacial obedecen la relación energía-momento y no tienen un ratio constante. La velocidad de la partícula no es la velocidad de fase de la onda sino la la velocidad de grupo. ",
      "metadata": {}
    },
    {
      "cell_type": "markdown",
      "source": "Además, sabemos que en cualquier onda la dispersión espacial y frecuencial están relacionadas por $\\sigma_x \\sigma_k = 1$, lo que en un paquete de ondas de materia se traduce en $\\sigma_x \\sigma_p = h$ (en el caso mejor). Aparece una de las manifestaciones del principio de incertidumbre, derivado simplemente del aspecto ondulatorio de la partícula. Para definir con precisión la posición hace falta un intervalo muy amplio de longitudes de onda / momentos, y viceversa. Estas diferentes velocidades producen la dispersión de la partícula. ",
      "metadata": {}
    },
    {
      "cell_type": "markdown",
      "source": "Cuando se efectúa una observación de la partícula se obtiene un valor concreto de la magnitud de interés, $x$ o $p$, que será alguno de los componentes puros que mediante superposición configuran el paquete de ondas. La naturaleza hace una elección aleatoria con una probabilidad proporcional a la amplitud de la onda al cuadrado.",
      "metadata": {}
    },
    {
      "cell_type": "markdown",
      "source": "La evolución temporal del paquete de ondas anterior se ha \"implementado\" de forma directa, superponiendo explícitamente la evolución de los \"infinitos\" componente puros del paquete. Al discretizar la síntesis del paquete el procedimiento computacional no es demasiado costoso, pero en cualquier caso sería muy interesante obtener una ley dinámica que hiciera evolucionar directamente la onda, de forma análoga a las leyes de evolución de un sistema físico clásico.",
      "metadata": {}
    },
    {
      "cell_type": "markdown",
      "source": "En la onda viajera de una partícula libre tenemos las relaciones\n\n$$\\frac{\\partial}{\\partial x} f(x,t) = i 2\\pi k\\; f(x,t) = i \\frac{p}{\\hbar} f(x,t)$$\n\n$$\\frac{\\partial}{\\partial t} f(x,t) = -i 2\\pi \\nu\\; f(x,t) = -i \\frac{E}{\\hbar} f(x,t)$$",
      "metadata": {}
    },
    {
      "cell_type": "markdown",
      "source": "Definimos los operadores\n\n$$\\mathbb P = -i \\hbar \\frac{\\partial}{\\partial x} $$\n\n$$\\mathbb E = i  \\hbar \\frac{\\partial}{\\partial t} $$\n\nde modo que \"extraen\" de la onda el momento y la energía de la partícula:\n\n$$\\mathbb P f = p f$$\n\n$$\\mathbb E f = E f $$\n\nSi una partícula libre cumple la relación\n\n$$E = \\frac{p^2}{2m}$$\n\ntambién deben cumplirla los operadores:\n\n$$ i  \\hbar \\frac{\\partial}{\\partial t} f  = \\frac{-\\hbar^2}{2m} \\frac{\\partial^2}{\\partial x^2} f $$",
      "metadata": {}
    },
    {
      "cell_type": "markdown",
      "source": "Por linealidad, esto no solo lo cumplirá una onda pura, sino cualquier superposición de ellas, sin necesidad de resolver explícitamente los componentes.",
      "metadata": {}
    },
    {
      "cell_type": "markdown",
      "source": "Se trata de una ecuación diferencial en derivadas parciales, pero si discretizamos el dominio tenemos realmente una ecuación diferencial vectorial de primer orden del tipo\n\n$$ \\frac{df}{dt} = \\frac{-i \\hbar}{2m} L f $$\n\ndonde L es la matriz que aplica la aproximación discreta del Laplaciano (derivada segunda) a la función de onda discretizada.",
      "metadata": {}
    },
    {
      "cell_type": "markdown",
      "source": "Las ecuaciones del tipo\n\n$$ \\frac{df}{dt} = a f(t) $$\n\ntienen como solución (volvemos a las propiedades de la exponencial):\n\n$$f(t) =  \\exp(a t) f(0) $$\n\ny esto funciona exactamente igual con escalares que con vectores y transformaciones lineales:\n\n$$ \\dot{ \\vec y}(t) = A \\vec y(t) $$\n\n$$ \\vec y(t)=e^{At}\\vec y(0) $$\n\nen cuyo caso la exponencial de la matriz se puede calcular mediante un desarrollo en serie o mejor por diagonalización.",
      "metadata": {}
    },
    {
      "cell_type": "markdown",
      "source": "Si queremos avanzar un intervalo pequeño de tiempo $\\Delta t$ construimos un \"propagador\"\n\n$$U = \\exp(A\\Delta t)$$\n\ncon el que hacemos avanzar la solución a sucesivos valores de tiempo posteriores:\n\n$$\\vec y(t+\\Delta t) = U\\, \\vec y(t) $$",
      "metadata": {}
    },
    {
      "cell_type": "markdown",
      "source": "Veamos el aspecto de los operadores diferenciales discretizados.",
      "metadata": {}
    },
    {
      "cell_type": "code",
      "source": "def mkLaplacian(x,periodic=True):\n    n = len(x)\n    dx = x[1]-x[0]\n    Lap = np.diag(-2*np.ones(n)) + np.diag(np.ones(n-1),1) + np.diag(np.ones(n-1),-1)\n    if periodic:\n        Lap[0,-1]=1\n        Lap[-1,0]=1\n    return Lap/dx**2\n\ndef mkDeriv(x,periodic=True):\n    n = len(x)\n    dx = x[1]-x[0]\n    oper = np.diag(np.ones(n-1),1) - np.diag(np.ones(n-1),-1)\n    if periodic:\n        oper[0,-1] = -1\n        oper[-1,0] = 1\n    else:\n        oper[0,[0,1]] = [-2, 2]\n        oper[-1,[-2,-1]] = [-2,2]\n    return oper/(2*dx)",
      "metadata": {
        "trusted": true
      },
      "execution_count": null,
      "outputs": []
    },
    {
      "cell_type": "code",
      "source": "n = 10\nx1 = -2\nx2 =  2\nx = np.linspace(x1,x2,n)\ndx = x[1]-x[0]\nLap = mkLaplacian(x)\nDer = mkDeriv(x)",
      "metadata": {
        "collapsed": false,
        "jupyter": {
          "outputs_hidden": false
        },
        "trusted": true
      },
      "execution_count": null,
      "outputs": []
    },
    {
      "cell_type": "code",
      "source": "mx = np.abs(Der).max()\nplt.imshow(Der[:10,:10],'bwr',vmin=-mx,vmax=mx); plt.colorbar();",
      "metadata": {
        "trusted": true
      },
      "execution_count": null,
      "outputs": []
    },
    {
      "cell_type": "code",
      "source": "mx = np.abs(Lap).max()\nplt.imshow(Lap[:10,:10],'bwr',vmin=-mx,vmax=mx); plt.colorbar();",
      "metadata": {
        "trusted": true
      },
      "execution_count": null,
      "outputs": []
    },
    {
      "cell_type": "code",
      "source": "Lap2 = Der @ Der\nmx = np.abs(Lap2).max()\nplt.imshow(Lap2[:10,:10],'bwr',vmin=-mx,vmax=mx); plt.colorbar();",
      "metadata": {
        "trusted": true
      },
      "execution_count": null,
      "outputs": []
    },
    {
      "cell_type": "code",
      "source": "Der @ x",
      "metadata": {
        "trusted": true
      },
      "execution_count": null,
      "outputs": []
    },
    {
      "cell_type": "code",
      "source": "Lap @ x**2",
      "metadata": {
        "trusted": true
      },
      "execution_count": null,
      "outputs": []
    },
    {
      "cell_type": "code",
      "source": "Der @ Der @ x**2",
      "metadata": {
        "trusted": true
      },
      "execution_count": null,
      "outputs": []
    },
    {
      "cell_type": "markdown",
      "source": "Funciona bien excepto en los bordes del dominio porque las funciones de prueba son son periódicas.",
      "metadata": {}
    },
    {
      "cell_type": "markdown",
      "source": "Construimos el laplaciano del dominio anterior.",
      "metadata": {}
    },
    {
      "cell_type": "code",
      "source": "x1, x2 = -2, 7\ndx = 0.01\nx = np.arange(x1,x2+dx,dx)\nLap = mkLaplacian(x)",
      "metadata": {
        "trusted": true
      },
      "execution_count": null,
      "outputs": []
    },
    {
      "cell_type": "markdown",
      "source": "Podemos reconstruir el estado inicial o coger simplemente la primera fila del diagram x-t anterior.",
      "metadata": {}
    },
    {
      "cell_type": "code",
      "source": "state0 = onda[0] # = np.sum([deBroglie(k,1,x,0) * gaussian(1/sigma, k-km) for k in ks],axis=0)",
      "metadata": {
        "trusted": true
      },
      "execution_count": null,
      "outputs": []
    },
    {
      "cell_type": "markdown",
      "source": "Construimos el propagador:",
      "metadata": {}
    },
    {
      "cell_type": "code",
      "source": "def expmi(m):\n    l,v = np.linalg.eigh(m)\n    c = v @ np.diag(np.cos(l)) @ v.conj().T\n    s = v @ np.diag(np.sin(l)) @ v.conj().T\n    return c + 1j*s",
      "metadata": {
        "trusted": true
      },
      "execution_count": null,
      "outputs": []
    },
    {
      "cell_type": "code",
      "source": "H = - (hbar**2/(2*m))*Lap\nprop = expmi(-1/hbar*H*dt)",
      "metadata": {
        "trusted": true
      },
      "execution_count": null,
      "outputs": []
    },
    {
      "cell_type": "markdown",
      "source": "Y lo aplicamos sucesivas veces al estado inicial, comparando con la evolución analítica anterior:",
      "metadata": {}
    },
    {
      "cell_type": "code",
      "source": "r = [state0]\nfor _ in range(len(t)-1):\n    r.append(prop@r[-1])\n\nplt.figure(figsize=(8,4))\nshxt(np.imag(onda)); plt.show()\nplt.figure(figsize=(8,4))\nshxt(np.imag(r)); plt.show()",
      "metadata": {
        "tags": [],
        "trusted": true
      },
      "execution_count": null,
      "outputs": []
    },
    {
      "cell_type": "markdown",
      "source": "Se observa el problema del dominio finito periódico que nos impone la discretización. La onda se sale por la derecha y entra por la izquierda, produciendo una interferencia que no existe en la evolución analítica. Debido a esta limitación en las simulaciones posteriores debemos establecer dominios suficientemente amplios para mostrar la evolución de la onda antes de que se cierre sobre sí misma.",
      "metadata": {}
    },
    {
      "cell_type": "markdown",
      "source": "En resumen, una partícula libre tiene una onda de materia que obedece esta ley de evolución:\n\n$$ i  \\hbar \\frac{\\partial}{\\partial t} f  = \\frac{-\\hbar^2}{2m} \\frac{\\partial^2}{\\partial x^2} f $$",
      "metadata": {}
    },
    {
      "cell_type": "markdown",
      "source": "La derivada temporal se puede obtener de la espacial. Podría interpretarse que, instantáneamente, descompone la entrada en ondas simples, a cada una le añade su velocidad, las mueve y recompone. El efecto es equivalente pero la \"implementación\" es en principio mucho más directa y simple. Solo en principio, porque si la onda inicial se descompone en un número pequeño de ondas puras puede ser más eficiente trabajar expresamente con ellas.",
      "metadata": {}
    },
    {
      "cell_type": "markdown",
      "source": "La ecuación anterior se ha construido para que se consistente con la dinámica de una partícula libre. Nos gustaría extenderla al caso de una partícula sometida a fuerzas que se derivan de un potencial $V(x)$. La ecuación deber seguir siendo lineal para explicar los fenómenos de interferencia, y debe ser consistente con la conservación de la energía $E=T+V=\\frac{p^2}{2m} + V$, así que postulamos la siguiente ecuación, donde el operador correspodiente al potencial es él mismo:\n\n$$ i  \\hbar \\frac{\\partial}{\\partial t} f(x,t)  = \\frac{-\\hbar^2}{2m} \\frac{\\partial^2}{\\partial x^2} f(x,t) + V(x) f(x,t)$$",
      "metadata": {}
    },
    {
      "cell_type": "markdown",
      "source": "Se puede resolver igual que antes con un propagador. Como ejemplo, vamos a resolver el caso de una partícula en una caja, modelado con dos barreras de potencial mucho más altas que la energía de la partícula.",
      "metadata": {}
    },
    {
      "cell_type": "code",
      "source": "x1, x2 = -2, 4\ndx = 0.01\nx = np.arange(x1,x2+dx,dx)\nLap = mkLaplacian(x)\nDer = mkDeriv(x)",
      "metadata": {
        "trusted": true
      },
      "execution_count": null,
      "outputs": []
    },
    {
      "cell_type": "markdown",
      "source": "Como hemos visto, la envolvente gaussiana es exactamente equivalente a la ponderación gaussiana de frecuencias. Pero cuidado que por la definición de las ondas, ahora tenemos $2\\pi \\sigma_k \\sigma_x = 1$.",
      "metadata": {}
    },
    {
      "cell_type": "code",
      "source": "sigma = 1/6\nkm = 2\n\ndk = 0.05\nks = np.arange(km-4/sigma,km+4/sigma+dk,dk)\nstate0p = np.sum([deBroglie(k,1,x-0,0) * gaussian(1/(sigma*2*np.pi), k-km) for k in ks],axis=0)\n\nstate0 = deBroglie(km,1,x,0) * gaussian(sigma,x-0)",
      "metadata": {
        "trusted": true
      },
      "execution_count": null,
      "outputs": []
    },
    {
      "cell_type": "code",
      "source": "def Nor(f):\n    k = sum(abs(f)**2)\n    return f/np.sqrt(k)\n\nplt.plot(x,np.real(Nor(state0p)),lw=5,alpha=0.5)\nplt.plot(x,np.real(Nor(state0)),lw=1,color='black');",
      "metadata": {
        "trusted": true
      },
      "execution_count": null,
      "outputs": []
    },
    {
      "cell_type": "code",
      "source": "def avg(oper,fun):\n    nor = np.conj(fun) @ fun\n    fun /= np.sqrt(abs(nor))\n    return np.real(np.conj(fun) @ oper @ fun)\n\np_op = -1j*hbar*Der\nx_op = np.diag(x)\nId = np.eye(len(x))",
      "metadata": {
        "trusted": true
      },
      "execution_count": null,
      "outputs": []
    },
    {
      "cell_type": "code",
      "source": "avg(x_op, state0)",
      "metadata": {
        "trusted": true
      },
      "execution_count": null,
      "outputs": []
    },
    {
      "cell_type": "code",
      "source": "avg(p_op, state0)",
      "metadata": {
        "trusted": true
      },
      "execution_count": null,
      "outputs": []
    },
    {
      "cell_type": "code",
      "source": "Emed = avg(p_op@p_op/2/m, state0)\nEmed",
      "metadata": {
        "trusted": true
      },
      "execution_count": null,
      "outputs": []
    },
    {
      "cell_type": "markdown",
      "source": "Comprobamos que $\\left<p\\right>$ es el que hemos puesto a través de `km` y que $\\left<E\\right> = \\left< p^2 \\right> /2m \\neq \\left<p\\right>^2/2m$ ",
      "metadata": {}
    },
    {
      "cell_type": "code",
      "source": "V = 20*((x>3)+(x<-1))\n\nplt.plot(x,V);\nplt.plot(x,V*0 + Emed, color='red');",
      "metadata": {
        "trusted": true
      },
      "execution_count": null,
      "outputs": []
    },
    {
      "cell_type": "code",
      "source": "dt = 0.01\n\nH = np.diag(V) - (hbar**2/(2*m))*Lap\nprop = expmi(-1/hbar*H*dt)",
      "metadata": {
        "trusted": true
      },
      "execution_count": null,
      "outputs": []
    },
    {
      "cell_type": "code",
      "source": "r = [state0]\nfor _ in range(len(t)-1):\n    r.append(prop@r[-1])\n\nplt.figure(figsize=(8,4))\nshxt(np.imag(r)); plt.show()",
      "metadata": {
        "trusted": true
      },
      "execution_count": null,
      "outputs": []
    },
    {
      "cell_type": "code",
      "source": "metadisplay('demo3', makeAnimation, dict(psi=lambda i: r[i], x=x), vframes=300)",
      "metadata": {
        "tags": [],
        "trusted": true
      },
      "execution_count": null,
      "outputs": []
    },
    {
      "cell_type": "markdown",
      "source": "Una forma más interesante de resolver la Ecuación de Schrödinger es mediante separación de variables. Esto da lugar a soluciones de la forma\n\n$$\\varphi_k(x)e^{-2i\\pi\\frac{E_k}{h}}$$\n\ndonde $\\varphi_k(x)$ y $E_k$ son las soluciones a la E. de S. independiente del tiempo\n\n$$ \\left[\\frac{-\\hbar^2}{2m} \\frac{\\partial^2}{\\partial x^2} + V(x)\\right] \\varphi(x) = H \\varphi(x) = E \\varphi(x)$$\n\nesto es, las eigenfunctions del Hamiltoniano con sus respectivos autovalores. En sistemas ligados estas soluciones forman un conjunto discreto: la energía está cuantizada.\n\nDe forma análoga al caso de la partícula libre, el estado inicial se puede expandir en la base de eigenfunctions y entonces la evolución temporal se reduce a avanzar en el tiempo dichas eigenfunctions y combinarlas con los coeficientes de la expansión.\n\nEsto es equivalente a diagonalizar el propagador:\n\n$$H = V - \\frac{\\hbar^2}{2m}\\nabla^2$$\n\n$$\\Psi(t) = \\exp\\left(\\frac{t}{i\\hbar} H \\right)\\, \\Psi(0)= \\exp\\left(\\frac{t}{i\\hbar} \\Phi\\, E \\Phi^T \\right)\\, \\Psi(0) = \\Phi\\, \\underbrace{\\exp\\left(\\frac{E t}{i\\hbar} \\right)}_{\\textrm{diagonal}} \\underbrace{\\Phi^T \\, \\Psi(0)}_{\\alpha_k} $$\n\nPodemos recortar $\\Phi$ descartando las eigenfunctions que no contribuyan al estado.",
      "metadata": {}
    },
    {
      "cell_type": "code",
      "source": "class schrodinger():\n    def __init__(self,x1,x2,dx=None,n=None,mass=1):\n        if dx is not None:\n            self.x = x = np.arange(x1,x2+dx,dx)\n        if n is not None:\n            self.x = x = np.linspace(x1,x2,n)\n        self.Lap = mkLaplacian(x)\n        self.DerX = mkDeriv(x)\n        self.mass = mass\n\n    def set_potential(self,Vfun):\n        self.V = V = Vfun(self.x)\n        self.H = H = np.diag(V) - (hbar**2/(2*self.mass))*self.Lap\n        self.E0, self.phi0 = np.linalg.eigh(H)\n\n    def show_eigenfunctions(self,n,sc=0.1):\n        plt.fill_between(self.x,0,self.V,color='lightgray')\n        for k in range(n):\n            plt.plot(self.x, self.E0[k]+0*self.x,color='gray',lw=1,ls='dotted')\n            #plt.plot(self.x, self.E0[k]+20*sc*(self.phi[:,k]**2),color='lightgreen',lw=1)\n            plt.plot(self.x, self.E0[k]+sc*(self.phi0[:,k]**1),color='black')\n        plt.ylim(0,1.25*self.E0[n-1])\n        plt.xlim(self.x[0],self.x[-1])\n        plt.xlabel('x'); plt.ylabel('E');\n\n    def set_initial_state(self, state, take):\n        self.state0 = state\n        self.phi = self.phi0[:,:take]\n        self.E = self.E0[:take]\n        self.coeffs = self.phi.T @ state\n        self.recons = self.phi @ self.coeffs;\n\n    def show_components(self):\n        plt.plot(self.E,np.abs(self.coeffs),'.-');\n\n    def show_initial_model(self):\n        plt.plot(self.x, np.real(self.state0), lw=5, alpha=0.5)\n        plt.plot(self.x, np.real(self.recons), lw=1, color='black');\n\n    def psi(self,t):\n        return (self.phi * np.exp(-1j*self.E/hbar*t)) @ self.coeffs",
      "metadata": {
        "trusted": true
      },
      "execution_count": null,
      "outputs": []
    },
    {
      "cell_type": "code",
      "source": "system = schrodinger(-2,4,n=500)\nsystem.set_potential(lambda x: 20*((x>3)+(x<-1)))\n\nplt.figure(figsize=(4,6))\nsystem.show_eigenfunctions(7)",
      "metadata": {
        "trusted": true
      },
      "execution_count": null,
      "outputs": []
    },
    {
      "cell_type": "code",
      "source": "state0 = deBroglie(2,1,system.x,0) * gaussian(1/6, system.x-0)\n\nsystem.set_initial_state(state0,45)\nsystem.show_initial_model(); plt.show();\nsystem.show_components()",
      "metadata": {
        "trusted": true
      },
      "execution_count": null,
      "outputs": []
    },
    {
      "cell_type": "code",
      "source": "r = [system.psi(t) for t in np.arange(0,3+dt,dt)]\n\nplt.figure(figsize=(8,5))\nshxt(np.imag(r)); plt.show();\nplt.figure(figsize=(8,5))\nshxt(1-np.abs(r),cm='gray',vsym=False); plt.show();",
      "metadata": {
        "trusted": true
      },
      "execution_count": null,
      "outputs": []
    },
    {
      "cell_type": "code",
      "source": "metadisplay('demo4',  makeAnimation, dict(psi=lambda i: r[i], x=system.x), vframes=300)",
      "metadata": {
        "tags": [],
        "trusted": true
      },
      "execution_count": null,
      "outputs": []
    },
    {
      "cell_type": "code",
      "source": "system = schrodinger(-5,5,n=600)\nsystem.set_potential(lambda x: 0.5*x**2)\n\nplt.figure(figsize=(4,6))\nsystem.show_eigenfunctions(5,sc=0.2)",
      "metadata": {
        "trusted": true
      },
      "execution_count": null,
      "outputs": []
    },
    {
      "cell_type": "code",
      "source": "onda = deBroglie(3,1,system.x,0) * gaussian(1/3, system.x-0)",
      "metadata": {
        "trusted": true
      },
      "execution_count": null,
      "outputs": []
    },
    {
      "cell_type": "code",
      "source": "system.set_initial_state(onda,70)\nsystem.show_initial_model(); plt.show();\nsystem.show_components()",
      "metadata": {
        "trusted": true
      },
      "execution_count": null,
      "outputs": []
    },
    {
      "cell_type": "code",
      "source": "dt = 0.05\n\nr = [system.psi(t) for t in np.arange(0,2*np.pi+dt,dt)]\n\nplt.figure(figsize=(8,5))\nshxt(np.imag(r)); plt.show();\nplt.figure(figsize=(8,5))\nshxt(1-np.abs(r),cm='gray',vsym=False); plt.show();",
      "metadata": {
        "trusted": true
      },
      "execution_count": null,
      "outputs": []
    },
    {
      "cell_type": "code",
      "source": "metadisplay('demo5',  makeAnimation, dict(psi=lambda i: r[i], x=system.x), vframes=len(r))",
      "metadata": {
        "tags": [],
        "trusted": true
      },
      "execution_count": null,
      "outputs": []
    },
    {
      "cell_type": "code",
      "source": "%matplotlib inline\nsystem = schrodinger(-5,7,n=600)\nsystem.set_potential(lambda x: 20*(x<-4) + 20*(x>6) + 1*(x>3)*(x<3.2))\n\nplt.figure(figsize=(4,6))\nsystem.show_eigenfunctions(30,sc=0.02)",
      "metadata": {
        "trusted": true
      },
      "execution_count": null,
      "outputs": []
    },
    {
      "cell_type": "code",
      "source": "onda = deBroglie(0.9,1,system.x,0) * gaussian(1/3, system.x-0)",
      "metadata": {
        "trusted": true
      },
      "execution_count": null,
      "outputs": []
    },
    {
      "cell_type": "code",
      "source": "system.set_initial_state(onda,50)\nsystem.show_initial_model(); plt.show();\nsystem.show_components()",
      "metadata": {
        "trusted": true
      },
      "execution_count": null,
      "outputs": []
    },
    {
      "cell_type": "code",
      "source": "dt = 0.05\n\nr = [system.psi(t) for t in np.arange(0,2*np.pi+dt,dt)]\n\nplt.figure(figsize=(8,5))\nshxt(np.imag(r)); plt.show();\nplt.figure(figsize=(8,5))\nshxt(1-np.abs(r),cm='gray',vsym=False); plt.show();",
      "metadata": {
        "trusted": true
      },
      "execution_count": null,
      "outputs": []
    },
    {
      "cell_type": "code",
      "source": "if False:\n    MKVIDEO = False\n    ANIM = True\n    %matplotlib widget",
      "metadata": {
        "trusted": true
      },
      "execution_count": null,
      "outputs": []
    },
    {
      "cell_type": "code",
      "source": "metadisplay('demo5',  makeAnimation, dict(psi=lambda i: system.psi(i*0.05), x=system.x), vframes=len(r))",
      "metadata": {
        "tags": [],
        "trusted": true
      },
      "execution_count": null,
      "outputs": []
    }
  ]
}