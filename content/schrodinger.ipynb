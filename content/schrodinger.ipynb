{
  "metadata": {
    "hide_input": false,
    "kernelspec": {
      "name": "python",
      "display_name": "Python (Pyodide)",
      "language": "python"
    },
    "language_info": {
      "codemirror_mode": {
        "name": "python",
        "version": 3
      },
      "file_extension": ".py",
      "mimetype": "text/x-python",
      "name": "python",
      "nbconvert_exporter": "python",
      "pygments_lexer": "ipython3",
      "version": "3.8"
    }
  },
  "nbformat_minor": 4,
  "nbformat": 4,
  "cells": [
    {
      "cell_type": "markdown",
      "source": "# Schrödinger equation",
      "metadata": {}
    },
    {
      "cell_type": "markdown",
      "source": "## Estática",
      "metadata": {}
    },
    {
      "cell_type": "markdown",
      "source": "### Ejemplo del artículo",
      "metadata": {}
    },
    {
      "cell_type": "markdown",
      "source": "http://pubs.acs.org/doi/pdf/10.1021/acs.jchemed.7b00003",
      "metadata": {}
    },
    {
      "cell_type": "code",
      "source": "%matplotlib inline\n\nimport scipy as sci\nimport numpy as np\nimport scipy.linalg as la\nimport matplotlib.pyplot as plt\n\nplt.rc('figure', figsize=(4,3))\n\nimport cv2\nfrom umucv.htrans import null1",
      "metadata": {
        "trusted": true
      },
      "execution_count": null,
      "outputs": []
    },
    {
      "cell_type": "code",
      "source": "def mkLaplacian(n,dx,periodic=True):\n    Lap = np.diag(-2*np.ones(n)) + np.diag(np.ones(n-1),1) + np.diag(np.ones(n-1),-1)\n    if periodic:\n        Lap[0,-1]=1\n        Lap[-1,0]=1\n    return Lap/dx**2",
      "metadata": {
        "trusted": true
      },
      "execution_count": null,
      "outputs": []
    },
    {
      "cell_type": "code",
      "source": "m = 1\nhbar = 1",
      "metadata": {
        "trusted": true
      },
      "execution_count": null,
      "outputs": []
    },
    {
      "cell_type": "code",
      "source": "n = 500\nx = np.linspace(-2,2,n)\ndx = x[1]-x[0]\nLap = mkLaplacian(n,dx)",
      "metadata": {
        "collapsed": false,
        "jupyter": {
          "outputs_hidden": false
        },
        "trusted": true
      },
      "execution_count": null,
      "outputs": []
    },
    {
      "cell_type": "code",
      "source": "V =  0*x - 100*(x>-0.5)  + 100*(x>0.5)\n\nH = np.diag(V) - (hbar**2/2/m)*Lap",
      "metadata": {
        "collapsed": false,
        "jupyter": {
          "outputs_hidden": false
        },
        "trusted": true
      },
      "execution_count": null,
      "outputs": []
    },
    {
      "cell_type": "code",
      "source": "plt.plot(x,V); plt.xlabel('x'); plt.ylabel('V(x)');",
      "metadata": {
        "collapsed": false,
        "jupyter": {
          "outputs_hidden": false
        },
        "trusted": true
      },
      "execution_count": null,
      "outputs": []
    },
    {
      "cell_type": "code",
      "source": "plt.imshow(H[:20,:20],'gray');",
      "metadata": {
        "collapsed": false,
        "jupyter": {
          "outputs_hidden": false
        },
        "trusted": true
      },
      "execution_count": null,
      "outputs": []
    },
    {
      "cell_type": "code",
      "source": "E,f = la.eigh(H)",
      "metadata": {
        "trusted": true
      },
      "execution_count": null,
      "outputs": []
    },
    {
      "cell_type": "code",
      "source": "E[:10]",
      "metadata": {
        "collapsed": false,
        "jupyter": {
          "outputs_hidden": false
        },
        "trusted": true
      },
      "execution_count": null,
      "outputs": []
    },
    {
      "cell_type": "code",
      "source": "plt.figure(figsize=(6,6))\nfor k in range(5):\n    plt.plot(x,E[k]+400*(f[:,k]**2))\nplt.plot(x,V,color='gray');",
      "metadata": {
        "collapsed": false,
        "jupyter": {
          "outputs_hidden": false
        },
        "trusted": true
      },
      "execution_count": null,
      "outputs": []
    },
    {
      "cell_type": "markdown",
      "source": "### Ejemplo del libro",
      "metadata": {}
    },
    {
      "cell_type": "code",
      "source": "hbar = 1\nm = 1\nV0 = 32\n\nV =  V0*(x>0.5) +V0*(x<-0.5)\n\nH = np.diag(V) - (hbar**2/2/m)*Lap\n\nplt.plot(x,V);",
      "metadata": {
        "collapsed": false,
        "jupyter": {
          "outputs_hidden": false
        },
        "trusted": true
      },
      "execution_count": null,
      "outputs": []
    },
    {
      "cell_type": "code",
      "source": "E,f = la.eigh(H)",
      "metadata": {
        "trusted": true
      },
      "execution_count": null,
      "outputs": []
    },
    {
      "cell_type": "code",
      "source": "E[:10]",
      "metadata": {
        "collapsed": false,
        "jupyter": {
          "outputs_hidden": false
        },
        "trusted": true
      },
      "execution_count": null,
      "outputs": []
    },
    {
      "cell_type": "code",
      "source": "E[:10]/V0",
      "metadata": {
        "collapsed": false,
        "jupyter": {
          "outputs_hidden": false
        },
        "trusted": true
      },
      "execution_count": null,
      "outputs": []
    },
    {
      "cell_type": "markdown",
      "source": "Resultado analítico:\n\n    0.0977   0.383    0.810",
      "metadata": {}
    },
    {
      "cell_type": "code",
      "source": "plt.figure(figsize=(6,6))\nfor k in range(0,4):\n    plt.plot(x,E[k]+400*(f[:,k]**2))\nplt.plot(x,V,color='gray');",
      "metadata": {
        "collapsed": false,
        "jupyter": {
          "outputs_hidden": false
        },
        "trusted": true
      },
      "execution_count": null,
      "outputs": []
    },
    {
      "cell_type": "code",
      "source": "Hg = H - 34.4084826*np.eye(len(H))",
      "metadata": {
        "collapsed": false,
        "jupyter": {
          "outputs_hidden": false
        },
        "trusted": true
      },
      "execution_count": null,
      "outputs": []
    },
    {
      "cell_type": "code",
      "source": "Hg = H - 60*np.eye(len(H))",
      "metadata": {
        "collapsed": false,
        "jupyter": {
          "outputs_hidden": false
        },
        "trusted": true
      },
      "execution_count": null,
      "outputs": []
    },
    {
      "cell_type": "code",
      "source": "u,s,v = la.svd(Hg)",
      "metadata": {
        "collapsed": false,
        "jupyter": {
          "outputs_hidden": false
        },
        "trusted": true
      },
      "execution_count": null,
      "outputs": []
    },
    {
      "cell_type": "code",
      "source": "s[:10], s[-10:]",
      "metadata": {
        "collapsed": false,
        "jupyter": {
          "outputs_hidden": false
        },
        "trusted": true
      },
      "execution_count": null,
      "outputs": []
    },
    {
      "cell_type": "code",
      "source": "plt.plot(x,null1(Hg),x,f[:,4]+0.001);",
      "metadata": {
        "collapsed": false,
        "jupyter": {
          "outputs_hidden": false
        },
        "trusted": true
      },
      "execution_count": null,
      "outputs": []
    },
    {
      "cell_type": "markdown",
      "source": "## Dinámica",
      "metadata": {}
    },
    {
      "cell_type": "markdown",
      "source": "Excelente animación: https://phet.colorado.edu/en/simulation/quantum-tunneling\n\nY esto: http://sites.tufts.edu/softmattertheory/2012/12/21/visualizing-quantum-mechanics-with-mathematica/",
      "metadata": {}
    },
    {
      "cell_type": "code",
      "source": "def wave(k,x):\n    return np.exp(1j*k*x)",
      "metadata": {
        "trusted": true
      },
      "execution_count": null,
      "outputs": []
    },
    {
      "cell_type": "code",
      "source": "def Nor(f):\n    k = dx*sum(abs(f)**2)\n    return f/np.sqrt(k)",
      "metadata": {
        "trusted": true
      },
      "execution_count": null,
      "outputs": []
    },
    {
      "cell_type": "code",
      "source": "def expmi(m):\n    l,v = la.eigh(m)\n    c = v @ np.diag(np.cos(l)) @ v.conj().T\n    s = v @ np.diag(np.sin(l)) @ v.conj().T\n    return c + 1j*s",
      "metadata": {
        "trusted": true
      },
      "execution_count": null,
      "outputs": []
    },
    {
      "cell_type": "code",
      "source": "km = 10\ndk = 3\n\nks = np.linspace(km-5*dk,km+5*dk,30)\ng = np.exp(-0.5*((ks-km)/dk)**2) \nplt.plot(ks,g);",
      "metadata": {
        "collapsed": false,
        "jupyter": {
          "outputs_hidden": false
        },
        "trusted": true
      },
      "execution_count": null,
      "outputs": []
    },
    {
      "cell_type": "code",
      "source": "n = 500\nx = np.linspace(-2,2,n)\ndx = x[1]-x[0]\nLap = mkLaplacian(n,dx)",
      "metadata": {
        "collapsed": false,
        "jupyter": {
          "outputs_hidden": false
        },
        "trusted": true
      },
      "execution_count": null,
      "outputs": []
    },
    {
      "cell_type": "code",
      "source": "packet = sum([a*wave(k,x) for a,k in zip(g,ks)])\npacket = Nor(packet)\ndx*sum(abs(packet)**2)",
      "metadata": {
        "collapsed": false,
        "jupyter": {
          "outputs_hidden": false
        },
        "trusted": true
      },
      "execution_count": null,
      "outputs": []
    },
    {
      "cell_type": "code",
      "source": "plt.plot(x,np.real(packet),x,np.imag(packet));",
      "metadata": {
        "collapsed": false,
        "jupyter": {
          "outputs_hidden": false
        },
        "trusted": true
      },
      "execution_count": null,
      "outputs": []
    },
    {
      "cell_type": "code",
      "source": "plt.plot(x,abs(packet)**2);",
      "metadata": {
        "collapsed": false,
        "jupyter": {
          "outputs_hidden": false
        },
        "trusted": true
      },
      "execution_count": null,
      "outputs": []
    },
    {
      "cell_type": "code",
      "source": "hbar = 1\nm = 1\nV0 = 32\n\n# V =  V0*(x>0.5) +V0*(x<-0.5)\nV = 0*x\n\nH = np.diag(V) - (hbar**2/2/m)*Lap",
      "metadata": {
        "trusted": true
      },
      "execution_count": null,
      "outputs": []
    },
    {
      "cell_type": "code",
      "source": "pp = (H @ packet)/(1j*hbar)\n\nplt.plot(x,np.real(pp),x,np.imag(pp));",
      "metadata": {
        "collapsed": false,
        "jupyter": {
          "outputs_hidden": false
        },
        "trusted": true
      },
      "execution_count": null,
      "outputs": []
    },
    {
      "cell_type": "code",
      "source": "prop = expmi(-1/hbar*H*0.05)",
      "metadata": {
        "trusted": true
      },
      "execution_count": null,
      "outputs": []
    },
    {
      "cell_type": "code",
      "source": "plt.plot(x,abs(packet)**2, x, abs(prop@packet)**2, x, abs(prop@prop@packet)**2, x, abs(prop@prop@prop@packet)**2);",
      "metadata": {
        "collapsed": false,
        "jupyter": {
          "outputs_hidden": false
        },
        "trusted": true
      },
      "execution_count": null,
      "outputs": []
    },
    {
      "cell_type": "code",
      "source": "triang = x * (x>0)*(x<1) + (2-x)*(x>1)*(x<2)\ntriang = Nor(triang)\nplt.plot(x,triang);",
      "metadata": {
        "collapsed": false,
        "jupyter": {
          "outputs_hidden": false
        },
        "trusted": true
      },
      "execution_count": null,
      "outputs": []
    },
    {
      "cell_type": "code",
      "source": "plt.plot(x,abs(triang)**2, x, abs(prop@triang)**2, x, abs(prop@prop@triang)**2, x, abs(prop@prop@prop@triang)**2);",
      "metadata": {
        "collapsed": false,
        "jupyter": {
          "outputs_hidden": false
        },
        "trusted": true
      },
      "execution_count": null,
      "outputs": []
    },
    {
      "cell_type": "code",
      "source": "plt.plot(x,np.real(prop@triang),x,np.imag(prop@triang));",
      "metadata": {
        "collapsed": false,
        "jupyter": {
          "outputs_hidden": false
        },
        "trusted": true
      },
      "execution_count": null,
      "outputs": []
    },
    {
      "cell_type": "code",
      "source": "fun = wave(0.5*2*np.pi,x)\n#fun = fun * np.exp(-0.5*((x-0)/0.2)**2)\nplt.plot(x,np.real(fun),x,np.imag(fun),x,abs(fun)**2);\nplt.grid();",
      "metadata": {
        "collapsed": false,
        "jupyter": {
          "outputs_hidden": false
        },
        "trusted": true
      },
      "execution_count": null,
      "outputs": []
    },
    {
      "cell_type": "code",
      "source": "plt.plot(x,np.real(fun), x, np.real(prop@fun), x, np.real(prop@prop@fun));",
      "metadata": {
        "collapsed": false,
        "jupyter": {
          "outputs_hidden": false
        },
        "trusted": true
      },
      "execution_count": null,
      "outputs": []
    },
    {
      "cell_type": "code",
      "source": "fun = wave(0.5*2*np.pi,x)\nfun = fun * np.exp(-0.5*((x-0)/0.2)**2)\nplt.plot(x,np.real(fun),x,np.imag(fun),x,abs(fun)**2);\nplt.grid();",
      "metadata": {
        "collapsed": false,
        "jupyter": {
          "outputs_hidden": false
        },
        "trusted": true
      },
      "execution_count": null,
      "outputs": []
    },
    {
      "cell_type": "code",
      "source": "plt.plot(x,np.real(fun), x, np.real(prop@fun), x, np.real(prop@prop@fun));",
      "metadata": {
        "collapsed": false,
        "jupyter": {
          "outputs_hidden": false
        },
        "trusted": true
      },
      "execution_count": null,
      "outputs": []
    },
    {
      "cell_type": "code",
      "source": "plt.plot(x,abs(fun)**2, x, abs(prop@fun)**2, x, abs(prop@prop@fun)**2, x, abs(prop@prop@prop@fun)**2);",
      "metadata": {
        "collapsed": false,
        "jupyter": {
          "outputs_hidden": false
        },
        "trusted": true
      },
      "execution_count": null,
      "outputs": []
    },
    {
      "cell_type": "code",
      "source": "fun = wave(2*2*np.pi,x)\nfun = fun * np.exp(-0.5*((x-0)/0.2)**2)\nplt.plot(x,np.real(fun),x,np.imag(fun),x,abs(fun)**2);\nplt.grid();",
      "metadata": {
        "collapsed": false,
        "jupyter": {
          "outputs_hidden": false
        },
        "trusted": true
      },
      "execution_count": null,
      "outputs": []
    },
    {
      "cell_type": "code",
      "source": "plt.plot(x,np.real(fun), x, np.real(prop@fun), x, np.real(prop@prop@fun));",
      "metadata": {
        "collapsed": false,
        "jupyter": {
          "outputs_hidden": false
        },
        "trusted": true
      },
      "execution_count": null,
      "outputs": []
    },
    {
      "cell_type": "code",
      "source": "plt.plot(x,abs(fun)**2, x, abs(prop@fun)**2, x, abs(prop@prop@fun)**2, x, abs(prop@prop@prop@fun)**2);",
      "metadata": {
        "collapsed": false,
        "jupyter": {
          "outputs_hidden": false
        },
        "trusted": true
      },
      "execution_count": null,
      "outputs": []
    },
    {
      "cell_type": "code",
      "source": "fun = wave(0*2*np.pi,x)\nfun = fun * np.exp(-0.5*((x-0)/0.2)**2)\nplt.plot(x,np.real(fun),x,np.imag(fun),x,abs(fun)**2);\nplt.grid();",
      "metadata": {
        "collapsed": false,
        "jupyter": {
          "outputs_hidden": false
        },
        "trusted": true
      },
      "execution_count": null,
      "outputs": []
    },
    {
      "cell_type": "code",
      "source": "plt.plot(x,np.real(fun), x, np.real(prop@fun), x, np.real(prop@prop@fun));",
      "metadata": {
        "collapsed": false,
        "jupyter": {
          "outputs_hidden": false
        },
        "trusted": true
      },
      "execution_count": null,
      "outputs": []
    },
    {
      "cell_type": "code",
      "source": "plt.plot(x,abs(fun)**2, x, abs(prop@fun)**2, x, abs(prop@prop@fun)**2, x, abs(prop@prop@prop@fun)**2);",
      "metadata": {
        "collapsed": false,
        "jupyter": {
          "outputs_hidden": false
        },
        "trusted": true
      },
      "execution_count": null,
      "outputs": []
    },
    {
      "cell_type": "code",
      "source": "n = 1000\nx = np.linspace(-4,5,n)\ndx = x[1]-x[0]\nLap = mkLaplacian(n,dx)",
      "metadata": {
        "collapsed": false,
        "jupyter": {
          "outputs_hidden": false
        },
        "trusted": true
      },
      "execution_count": null,
      "outputs": []
    },
    {
      "cell_type": "code",
      "source": "fun = wave(0*2*np.pi,x)\nfun = fun * np.exp(-0.5*((x-0)/0.2)**2)\npacket = Nor(fun)\n#print(dx*sum(abs(packet)**2))",
      "metadata": {
        "trusted": true
      },
      "execution_count": null,
      "outputs": []
    },
    {
      "cell_type": "code",
      "source": "H = - (hbar**2/2/(1*m))*Lap\nprop = expmi(-1/hbar*H*0.02)",
      "metadata": {
        "trusted": true
      },
      "execution_count": null,
      "outputs": []
    },
    {
      "cell_type": "code",
      "source": "plt.rc('animation', html='html5')\nimport sys\nif 'pyodide' in sys.modules:\n    %pip install ipywidgets\n    %pip install ipympl\n\ndef metaAnimation(fig, fotogram, nframes, video=True, sleep=1/50):\n    if video:\n        def create(frames,interval):\n            from matplotlib import animation\n            return animation.FuncAnimation(fig, fotogram, frames=frames, interval=interval, blit=True, repeat=False)\n        return create\n    else:\n        fig.canvas.toolbar_visible = False\n        fig.canvas.header_visible = False\n        fig.canvas.footer_visible = False\n        fig.canvas.capture_scroll = False\n\n        import time\n        def play(n):\n            for k in range(n):\n                fotogram(k)\n                fig.canvas.draw()\n                time.sleep(sleep)\n\n        import ipywidgets as widgets\n        play_button =  widgets.Button(description=\"Play\")\n        play_button.on_click(lambda b: play(nframes))\n        display(play_button)\n\n        return play",
      "metadata": {
        "trusted": true
      },
      "execution_count": null,
      "outputs": []
    },
    {
      "cell_type": "code",
      "source": "def makeAnimation(packet, prop, nframes=100, init=None, video=True):\n\n    fig, ax = plt.subplots(figsize=(8,4))\n\n    ax.set_xlim(( -4, 5))\n    ax.set_ylim((-0.05, 2))\n\n    if video:\n        plt.close()\n\n    line1, = ax.plot([], [], 'black',lw=2)\n    line2, = ax.plot([],[],'blue',alpha=0.5)\n    line3, = ax.plot([],[],'red',alpha=0.5)\n    #line2, = ax.plot(x, V, 'gray')\n\n    r = packet\n\n    def fotogram(i):\n        nonlocal r\n        line2.set_data(x,np.real(r)/2+1)\n        line3.set_data(x,np.imag(r)/2+1)\n        line1.set_data(x,abs(r)**2)\n        if i > 0: r = prop@r\n        return ()\n\n    if init is not None:\n        fotogram(init)\n\n    return metaAnimation(fig,fotogram,nframes,video)",
      "metadata": {
        "tags": [],
        "trusted": true
      },
      "execution_count": null,
      "outputs": []
    },
    {
      "cell_type": "code",
      "source": "# %matplotlib widget\nplay = makeAnimation(packet, prop, nframes=100, init=0, video=False)",
      "metadata": {
        "tags": [],
        "trusted": true
      },
      "execution_count": null,
      "outputs": []
    },
    {
      "cell_type": "code",
      "source": "H = - (hbar**2/2/(10*m))*Lap\nprop = expmi(-1/hbar*H*0.02)",
      "metadata": {
        "trusted": true
      },
      "execution_count": null,
      "outputs": []
    },
    {
      "cell_type": "code",
      "source": "#%matplotlib widget\nplay = makeAnimation(packet, prop, nframes=100, init=0, video=False)",
      "metadata": {
        "trusted": true
      },
      "execution_count": null,
      "outputs": []
    },
    {
      "cell_type": "code",
      "source": "n = 1000\nx = np.linspace(-4,5,n)\ndx = x[1]-x[0]\nLap = mkLaplacian(n,dx)",
      "metadata": {
        "collapsed": false,
        "jupyter": {
          "outputs_hidden": false
        },
        "trusted": true
      },
      "execution_count": null,
      "outputs": []
    },
    {
      "cell_type": "code",
      "source": "packet = sum([a*wave(k,x) for a,k in zip(g,ks)])\npacket = Nor(packet)\n#print(dx*sum(abs(packet)**2))",
      "metadata": {
        "trusted": true
      },
      "execution_count": null,
      "outputs": []
    },
    {
      "cell_type": "code",
      "source": "H = - (hbar**2/2/m)*Lap\nprop = expmi(-1/hbar*H*0.005)",
      "metadata": {
        "trusted": true
      },
      "execution_count": null,
      "outputs": []
    },
    {
      "cell_type": "code",
      "source": "#%matplotlib widget\nplay = makeAnimation(packet, prop, nframes=100, init=0, video=False)",
      "metadata": {
        "trusted": true
      },
      "execution_count": null,
      "outputs": []
    },
    {
      "cell_type": "code",
      "source": "V = (x>1.5)*(x<2)\n\n%matplotlib inline\nplt.figure(figsize=(10,4))\nplt.plot(x,abs(packet)**2)\nplt.plot(x,V,'gray');",
      "metadata": {
        "collapsed": false,
        "jupyter": {
          "outputs_hidden": false
        },
        "trusted": true
      },
      "execution_count": null,
      "outputs": []
    },
    {
      "cell_type": "code",
      "source": "dx * (packet.conj() @ H @ packet).sum()",
      "metadata": {
        "collapsed": false,
        "jupyter": {
          "outputs_hidden": false
        },
        "trusted": true
      },
      "execution_count": null,
      "outputs": []
    },
    {
      "cell_type": "code",
      "source": "H = np.diag(150*V) - (hbar**2/2/m)*Lap\nprop = expmi(-1/hbar*H*0.01)",
      "metadata": {
        "trusted": true
      },
      "execution_count": null,
      "outputs": []
    },
    {
      "cell_type": "code",
      "source": "def makeAnimation2(packet, prop, nframes=100, init=None, video=True):\n\n    fig, ax = plt.subplots(figsize=(8,4))\n\n    ax.set_xlim(( -4, 5))\n    ax.set_ylim((-0.05, 2))\n\n    if video:\n        plt.close()\n\n    line1, = ax.plot([], [], '-')\n    line2, = ax.plot(x, V, 'gray')\n\n    r = packet\n\n    def fotogram(i):\n        nonlocal r\n        line1.set_data(x,abs(r)**2)\n        if i > 0: r = prop@r\n        return ()\n\n    if init is not None:\n        fotogram(init)\n\n    return metaAnimation(fig,fotogram,nframes,video)",
      "metadata": {
        "collapsed": false,
        "jupyter": {
          "outputs_hidden": false
        },
        "trusted": true
      },
      "execution_count": null,
      "outputs": []
    },
    {
      "cell_type": "code",
      "source": "H = np.diag(60*V) - (hbar**2/2/m)*Lap\nprop = expmi(-1/hbar*H*0.01)\n\n#%matplotlib widget\nplay = makeAnimation2(packet, prop, nframes=100, init=0, video=False)",
      "metadata": {
        "trusted": true
      },
      "execution_count": null,
      "outputs": []
    },
    {
      "cell_type": "code",
      "source": "V = (x>2) + (x<-2)\n\nH = np.diag(150*V) - (hbar**2/2/m)*Lap\nprop = expmi(-1/hbar*H*0.01)\n\n#%matplotlib widget\nplay = makeAnimation2(packet, prop, nframes=100, init=0, video=False)",
      "metadata": {
        "collapsed": false,
        "jupyter": {
          "outputs_hidden": false
        },
        "trusted": true
      },
      "execution_count": null,
      "outputs": []
    },
    {
      "cell_type": "code",
      "source": "V = x**2\n\nH = np.diag(10*V) - (hbar**2/2/m)*Lap\nprop = expmi(-1/hbar*H*0.01)\n\n#%matplotlib widget\nplay = makeAnimation2(packet, prop, nframes=100, init=0, video=False)",
      "metadata": {
        "collapsed": false,
        "jupyter": {
          "outputs_hidden": false
        },
        "trusted": true
      },
      "execution_count": null,
      "outputs": []
    },
    {
      "cell_type": "code",
      "source": "%matplotlib inline\nplt.figure(figsize=(12,4))\nplt.plot(x,abs((prop[150])),x,abs(prop[700]));",
      "metadata": {
        "collapsed": false,
        "jupyter": {
          "outputs_hidden": false
        },
        "trusted": true
      },
      "execution_count": null,
      "outputs": []
    },
    {
      "cell_type": "code",
      "source": "plt.imshow(abs(prop));",
      "metadata": {
        "collapsed": false,
        "jupyter": {
          "outputs_hidden": false
        },
        "trusted": true
      },
      "execution_count": null,
      "outputs": []
    },
    {
      "cell_type": "code",
      "source": "V = np.minimum(1.5,(x-1)/2)*(x>1)\n\nplt.figure(figsize=(8,3))\n\nplt.plot(x,abs(packet)**2)\nplt.plot(x,V,'gray');",
      "metadata": {
        "collapsed": false,
        "jupyter": {
          "outputs_hidden": false
        },
        "trusted": true
      },
      "execution_count": null,
      "outputs": []
    },
    {
      "cell_type": "code",
      "source": "H = np.diag(100*V) - (hbar**2/2/m)*Lap\nprop = expmi(-1/hbar*H*0.01)\n\n#%matplotlib widget\nplay = makeAnimation2(packet, prop, nframes=100, init=0, video=False)",
      "metadata": {
        "trusted": true
      },
      "execution_count": null,
      "outputs": []
    },
    {
      "cell_type": "code",
      "source": "V = np.exp(-0.5*((x-2)/0.3)**2)\n\n%matplotlib inline\nplt.figure(figsize=(8,3))\n\nplt.plot(x,abs(packet)**2)\nplt.plot(x,V,'gray');",
      "metadata": {
        "collapsed": false,
        "jupyter": {
          "outputs_hidden": false
        },
        "trusted": true
      },
      "execution_count": null,
      "outputs": []
    },
    {
      "cell_type": "code",
      "source": "H = np.diag(40*V) - (hbar**2/2/m)*Lap\nprop = expmi(-1/hbar*H*0.01)\n\n#%matplotlib widget\nplay = makeAnimation2(packet, prop, nframes=100, init=0, video=False)",
      "metadata": {
        "trusted": true
      },
      "execution_count": null,
      "outputs": []
    },
    {
      "cell_type": "code",
      "source": "fun = wave(10,x)\nfun = fun * np.exp(-0.5*((x+1)/0.4)**2)\nfun = Nor(fun)\n\nV = np.exp(-0.5*((x-1)/0.3)**2)\n\nH = np.diag(40*V) - (hbar**2/2/m)*Lap\nprop = expmi(-1/hbar*H*0.005)\n\nmask = (1-2*np.exp(-0.5*((x+4+0.4)/0.4)**2))*(1-2*np.exp(-0.5*((x-5-0.4)/0.4)**2))",
      "metadata": {
        "collapsed": false,
        "jupyter": {
          "outputs_hidden": false
        },
        "trusted": true
      },
      "execution_count": null,
      "outputs": []
    },
    {
      "cell_type": "code",
      "source": "%matplotlib inline\nplt.plot(x,mask);",
      "metadata": {
        "trusted": true
      },
      "execution_count": null,
      "outputs": []
    },
    {
      "cell_type": "code",
      "source": "def makeAnimation3(packet, prop, mask=None, nframes=100, init=None, video=True):\n\n    fig, ax = plt.subplots(figsize=(8,4))\n    if video: plt.close()\n\n    ax.set_xlim(( -4, 5))\n    ax.set_ylim((-0.05, 2))\n\n\n    line1, = ax.plot([], [], '-', lw=2)\n    line2, = ax.plot(x, V, 'gray')\n\n    if mask is not None:\n        ax.plot(x,mask,color='pink')\n    else:\n        mask = 1\n\n    r = packet\n\n    def fotogram(i):\n        nonlocal r\n        line1.set_data(x,abs(r)**2)\n        if i > 0:\n            r = prop@r\n            r = r*mask\n        return ()\n\n    if init is not None:\n        fotogram(init)\n\n    return metaAnimation(fig,fotogram,nframes,video)",
      "metadata": {
        "collapsed": false,
        "jupyter": {
          "outputs_hidden": false
        },
        "trusted": true
      },
      "execution_count": null,
      "outputs": []
    },
    {
      "cell_type": "code",
      "source": "#%matplotlib widget\nplay = makeAnimation3(packet, prop, mask, nframes=100, init=0, video=False)",
      "metadata": {
        "trusted": true
      },
      "execution_count": null,
      "outputs": []
    },
    {
      "cell_type": "code",
      "source": "%matplotlib inline\nplt.figure(figsize=(8,3))\nplt.plot(x,abs((prop[150])),x,abs(prop[700]));",
      "metadata": {
        "collapsed": false,
        "jupyter": {
          "outputs_hidden": false
        },
        "trusted": true
      },
      "execution_count": null,
      "outputs": []
    },
    {
      "cell_type": "code",
      "source": "plt.imshow(np.abs(prop));",
      "metadata": {
        "collapsed": false,
        "jupyter": {
          "outputs_hidden": false
        },
        "trusted": true
      },
      "execution_count": null,
      "outputs": []
    },
    {
      "cell_type": "code",
      "source": "H = np.diag(40*V) - (hbar**2/2/(10*m))*Lap\nprop = expmi(-1/hbar*H*0.01)\nplt.figure(figsize=(8,3))\nplt.plot(x,abs((prop[150])),x,abs(prop[700]));",
      "metadata": {
        "collapsed": false,
        "jupyter": {
          "outputs_hidden": false
        },
        "trusted": true
      },
      "execution_count": null,
      "outputs": []
    },
    {
      "cell_type": "code",
      "source": "plt.imshow(np.abs(prop));",
      "metadata": {
        "collapsed": false,
        "jupyter": {
          "outputs_hidden": false
        },
        "trusted": true
      },
      "execution_count": null,
      "outputs": []
    },
    {
      "cell_type": "code",
      "source": "plt.plot(np.real(prop[150,150:200]))\nplt.plot(np.real(prop[700,700:750]));",
      "metadata": {
        "collapsed": false,
        "jupyter": {
          "outputs_hidden": false
        },
        "trusted": true
      },
      "execution_count": null,
      "outputs": []
    },
    {
      "cell_type": "code",
      "source": "V = np.exp(-0.5*((x-2)/0.3)**2)\nH = np.diag(40*V) - (hbar**2/2/m)*Lap\nprop = expmi(-1/hbar*H*0.01)\nprop1 = expmi(-1/hbar*(- (hbar**2/2/m)*Lap)*0.01)\nprop2 = expmi(-1/hbar*(  np.diag(40*V)    )*0.01)",
      "metadata": {
        "trusted": true
      },
      "execution_count": null,
      "outputs": []
    },
    {
      "cell_type": "code",
      "source": "plt.plot(x,np.diag(np.real(prop2)),x,np.diag(np.imag(prop2)));",
      "metadata": {
        "collapsed": false,
        "jupyter": {
          "outputs_hidden": false
        },
        "trusted": true
      },
      "execution_count": null,
      "outputs": []
    },
    {
      "cell_type": "code",
      "source": "plt.imshow(abs(prop2));",
      "metadata": {
        "collapsed": false,
        "jupyter": {
          "outputs_hidden": false
        },
        "trusted": true
      },
      "execution_count": null,
      "outputs": []
    },
    {
      "cell_type": "code",
      "source": "abs(prop - (prop2+prop1-(prop2@prop1-prop1@prop2))).max()",
      "metadata": {
        "collapsed": false,
        "jupyter": {
          "outputs_hidden": false
        },
        "trusted": true
      },
      "execution_count": null,
      "outputs": []
    },
    {
      "cell_type": "markdown",
      "source": "Una forma de interferencia:",
      "metadata": {}
    },
    {
      "cell_type": "code",
      "source": "fun0 = wave(10,x)\nfun = fun0 * (1*np.exp(-0.5*((x+1)/0.2)**2) + 1*np.exp(-0.5*((x-0)/0.2)**2))\nfun2 = Nor(fun)\nfun = fun0 * (1*np.exp(-0.5*((x+1)/0.2)**2) + 0*np.exp(-0.5*((x-0)/0.2)**2))\nfuna = Nor(fun)\nfun = fun0 * (0*np.exp(-0.5*((x+1)/0.2)**2) + 1*np.exp(-0.5*((x-0)/0.2)**2))\nfunb = Nor(fun)\n\nV = np.exp(-0.5*((x-1)/0.3)**2)\n\nH = np.diag(40*V) - (hbar**2/2/(m))*Lap\nprop = expmi(-1/hbar*H*0.005)\n\nmask = (1-2*np.exp(-0.5*((x+4+0.4)/0.4)**2))*(1-2*np.exp(-0.5*((x-5-0.4)/0.4)**2))\nprop = np.diag(mask)@prop",
      "metadata": {
        "collapsed": false,
        "jupyter": {
          "outputs_hidden": false
        },
        "trusted": true
      },
      "execution_count": null,
      "outputs": []
    },
    {
      "cell_type": "code",
      "source": "def makeAnimation4(nframes=100, init=None, video=True):\n\n    fig, ax = plt.subplots(figsize=(8,4))\n    if video: plt.close()\n\n    ax.set_xlim(( -4, 5))\n    ax.set_ylim((-0.05, 2))\n\n    line1, = ax.plot([], [], color='green', alpha=0.5)\n    line2, = ax.plot([], [], color='blue', alpha=0.5)\n    line4, = ax.plot([], [], color='red')\n    line3, = ax.plot([], [], '-',lw=2)\n\n    ax.plot(x, V, 'gray')\n\n    ax.plot(x,mask,'pink')\n\n    r  = fun2\n    r1 = funa\n    r2 = funb\n\n    def fotogram(i):\n        nonlocal r, r1, r2\n        line3.set_data(x,abs(r)**2)\n        line1.set_data(x,abs(r1)**2)\n        line2.set_data(x,abs(r2)**2)\n        line4.set_data(x,0.5*(abs(r1)**2 + abs(r2)**2))\n        if i > 0:\n            r  = prop@r\n            r1 = prop@r1\n            r2 = prop@r2\n        return ()\n\n    if init is not None:\n        fotogram(init)\n\n    return metaAnimation(fig,fotogram,nframes,video)",
      "metadata": {
        "trusted": true
      },
      "execution_count": null,
      "outputs": []
    },
    {
      "cell_type": "code",
      "source": "%matplotlib widget\nplay = makeAnimation4(nframes=100, init=0, video=False)",
      "metadata": {
        "trusted": true
      },
      "execution_count": null,
      "outputs": []
    },
    {
      "cell_type": "markdown",
      "source": "### Comentarios",
      "metadata": {}
    },
    {
      "cell_type": "markdown",
      "source": "Parece que se pueden encontrar las energías discretas de un estado ligado expresando en forma matricial el hamiltoniano y calculando directamente sus valores y vectores propios. Los valores no son exactamente los mismos que los teóricos. La discrepancia puede deberse a la imperfecta discretización del operador laplaciano, o a las condiciones de frontera. Pero en cualquier caso, luego debería haber un continuo posible de energías, que no sé a que eigenvectors deberían corresponder.\n\nEn la evolución dinámica una discretización ingenua (Euler) no hace evolucionar un paquete de ondas correctamente. Pero sin embargo, con la matriz exponencial sí que se consigue un operador unitario que hace avanzar la función de onda. Hay que elegir el intervalo temporal. Supongo que debe ser pequeño, pero la exponencial en principio podría con todo...\n\nEsto sí funciona, y parece comportarse bien con barreras de potencial y cosas así. El problema es que las condiciones de contorno tengo que ponerlas periódicas porque si no rebota como si fuera un dominio finito. Si la transformación es unitaria no veo cómo se podría simular el efecto de que la partícula se sale del dominio. He hecho algunas pruebas con una función de ventana para anular en los extremos, no sé si es correcto.\n\nPor otra parte la exponencial es (ingenuamente) muy costosa de calcular si quiero una discretización fina. No si la implementamos con una factorización, aprovechando que, aunque $i/\\hbar H t$ no es hermítica, la parte $1/\\hbar H t$ sí lo es, y podemos usar Euler (!?)\n\nParece que tienen sentido los resultados. El oscilador armónico es realmente curioso. Aparentemente no tiene dispersión, lo que me resulta contraintuitivo, pero parece corroborarlo [esta animación](https://www.st-andrews.ac.uk/physics/quvis/simulations_phys/ph22_Oscillator_Wave_Packet.swf) y estas [transparencias](http://www.chemie.unibas.ch/~tulej/Spectroscopy_related_aspects/Lecture18_Spec_Rel_Asp.pdf) que mencionan que esto ya lo propuso Schrödinger. Está documentado en muchos más sitios.\n\nHe comprobado que la matriz exponencial cumple perfectamente la condición de composición, de modo que la evolución unitaria puede conseguirse tranquilamente para intervalos de tiempo más grandes. (No sé hasta cuánto aguantará realmente, sería interesante verlo. Teniendo en cuenta que al final se reduce a senos y cosenos tal vez no tenga límite.)",
      "metadata": {}
    },
    {
      "cell_type": "markdown",
      "source": "Y me surge la pregunta: ¿puede hacerse lo mismo en cualquier otra ecuación diferencial? Si es lineal, sí: Si $\\dot{ \\vec y}(t) = A \\vec y(t)$ entonces $\\vec y(t)=e^{At}\\vec y(0)$. (También se pueden resolver sistemas no homogéneos de forma parecida).",
      "metadata": {}
    },
    {
      "cell_type": "markdown",
      "source": "Otra observación interesante es que el operador de evolución tiene una estructura no densa, sino en forma de banda. Esto significa que a cada posición le alcanza la influencia de puntos vecinos hasta una cierta distancia. Esta distancia depende del intervalo de evolución que se ha integrado en la exponencial, y también, según he comprobado, de la masa. La velocidad de difusión de la incertidumbre aumenta la reducirse la masa de la partícula ([wave packet spreading](https://en.wikipedia.org/wiki/Wave_packet#Free_propagator)). O sea, hay un kernel, y se produce algo parecido a una convolución (aunque no constante).\n\nEntonces, tal vez podemos desdoblar el propagador y crear una simulación de dominio no acotado, donde podamos dejar salir la onda por los extremos. Aunque en el fondo creo que no queda otra solución que atenuar la función suavemente (para que no \"rebote\" con oscilaciones) en los extremos. Posiblemente sea aceptable.\n\nOtra idea era descomponer el propagador en la zona libre y la de potencial, pero no commutan y entonces se complica más que recalcular.",
      "metadata": {}
    }
  ]
}