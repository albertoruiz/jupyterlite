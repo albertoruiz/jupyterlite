{
  "metadata": {
    "language_info": {
      "codemirror_mode": {
        "name": "python",
        "version": 3
      },
      "file_extension": ".py",
      "mimetype": "text/x-python",
      "name": "python",
      "nbconvert_exporter": "python",
      "pygments_lexer": "ipython3",
      "version": "3.8"
    },
    "kernelspec": {
      "name": "python",
      "display_name": "Python (Pyodide)",
      "language": "python"
    }
  },
  "nbformat_minor": 4,
  "nbformat": 4,
  "cells": [
    {
      "cell_type": "markdown",
      "source": "# Quantum correlations (WIP)",
      "metadata": {}
    },
    {
      "cell_type": "markdown",
      "source": "## Derivation",
      "metadata": {
        "tags": []
      }
    },
    {
      "cell_type": "code",
      "source": "import sympy as sym",
      "metadata": {
        "hidden": true,
        "trusted": true
      },
      "execution_count": null,
      "outputs": []
    },
    {
      "cell_type": "code",
      "source": "c,s,d,t = sym.symbols(\"c s d t\")",
      "metadata": {
        "trusted": true
      },
      "execution_count": null,
      "outputs": []
    },
    {
      "cell_type": "code",
      "source": "u,v,a,b = sym.symbols(\"u v a b\", commutative=False)",
      "metadata": {
        "trusted": true
      },
      "execution_count": null,
      "outputs": []
    },
    {
      "cell_type": "code",
      "source": "zero_1 = c*u - s*v\none_1  = s*u + c*v\n\nzero_2 = d*a - t*b\none_2  = t*a + d*b",
      "metadata": {
        "trusted": true
      },
      "execution_count": null,
      "outputs": []
    },
    {
      "cell_type": "code",
      "source": "zero_2*one_1 + one_2*zero_1",
      "metadata": {
        "trusted": true
      },
      "execution_count": null,
      "outputs": []
    },
    {
      "cell_type": "code",
      "source": "_.expand()",
      "metadata": {
        "trusted": true
      },
      "execution_count": null,
      "outputs": []
    },
    {
      "cell_type": "code",
      "source": "zero_2*zero_1 + one_2*one_1",
      "metadata": {
        "trusted": true
      },
      "execution_count": null,
      "outputs": []
    },
    {
      "cell_type": "code",
      "source": "_.expand()",
      "metadata": {
        "trusted": true
      },
      "execution_count": null,
      "outputs": []
    },
    {
      "cell_type": "markdown",
      "source": "## Measurements",
      "metadata": {}
    },
    {
      "cell_type": "code",
      "source": "import numpy as np",
      "metadata": {
        "trusted": true
      },
      "execution_count": null,
      "outputs": []
    },
    {
      "cell_type": "code",
      "source": "def combine(p1,p2):\n    return p*q+(1-p)*(1-q)",
      "metadata": {
        "trusted": true
      },
      "execution_count": null,
      "outputs": []
    },
    {
      "cell_type": "code",
      "source": "def probs(deg1,deg2):\n    ang1 = np.radians(deg1)\n    ang2 = np.radians(deg2)\n    c = np.cos(ang1)\n    s = np.sin(ang1)\n    d = np.cos(ang2)\n    t = np.sin(ang2)\n\n    # state = 00 + 11\n    # observation = zero =>\n    a0 = c*d + s*t\n    a1 = c*t - d*s\n    z = np.linalg.norm([a0,a1])\n    a0 /= z\n    a1 /= z\n\n    p0 = a0**2\n    p1 = a1**2\n\n    #print(f'0 -> {p0:.3f}   1 -> {p1:.3f}')\n    # print(f'{p0:.3f}')\n    return p0",
      "metadata": {
        "trusted": true
      },
      "execution_count": null,
      "outputs": []
    },
    {
      "cell_type": "code",
      "source": "probs(0,0)",
      "metadata": {
        "trusted": true
      },
      "execution_count": null,
      "outputs": []
    },
    {
      "cell_type": "code",
      "source": "probs(22.5, 0)",
      "metadata": {
        "trusted": true
      },
      "execution_count": null,
      "outputs": []
    },
    {
      "cell_type": "code",
      "source": "probs(0, 22.5)",
      "metadata": {
        "trusted": true
      },
      "execution_count": null,
      "outputs": []
    },
    {
      "cell_type": "code",
      "source": "probs(0, 45)",
      "metadata": {
        "trusted": true
      },
      "execution_count": null,
      "outputs": []
    },
    {
      "cell_type": "code",
      "source": "probs(45, 0)",
      "metadata": {
        "trusted": true
      },
      "execution_count": null,
      "outputs": []
    },
    {
      "cell_type": "code",
      "source": "probs(22.5, 45)",
      "metadata": {
        "trusted": true
      },
      "execution_count": null,
      "outputs": []
    },
    {
      "cell_type": "code",
      "source": "probs(45, 22.5)",
      "metadata": {
        "trusted": true
      },
      "execution_count": null,
      "outputs": []
    },
    {
      "cell_type": "code",
      "source": "probs(22.5, 22.5)",
      "metadata": {
        "trusted": true
      },
      "execution_count": null,
      "outputs": []
    },
    {
      "cell_type": "code",
      "source": "probs(45, 45)",
      "metadata": {
        "trusted": true
      },
      "execution_count": null,
      "outputs": []
    },
    {
      "cell_type": "code",
      "source": "p = probs(0,22.5)\nq = probs(22.5,45)\nt = probs(0,45)\nr = combine(p,q)\n\nprint(f'{p:0.3f}, {q:0.3f} ==> {r:0.3f}')\nprint(f'{t:0.3f}')",
      "metadata": {
        "trusted": true
      },
      "execution_count": null,
      "outputs": []
    }
  ]
}