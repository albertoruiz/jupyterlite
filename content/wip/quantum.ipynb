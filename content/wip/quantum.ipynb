{
  "metadata": {
    "hide_input": false,
    "kernelspec": {
      "name": "python",
      "display_name": "Python (Pyodide)",
      "language": "python"
    },
    "language_info": {
      "codemirror_mode": {
        "name": "python",
        "version": 3
      },
      "file_extension": ".py",
      "mimetype": "text/x-python",
      "name": "python",
      "nbconvert_exporter": "python",
      "pygments_lexer": "ipython3",
      "version": "3.8"
    }
  },
  "nbformat_minor": 4,
  "nbformat": 4,
  "cells": [
    {
      "cell_type": "markdown",
      "source": "# Quantum basic concepts",
      "metadata": {}
    },
    {
      "cell_type": "markdown",
      "source": "## Onda viajera",
      "metadata": {
        "tags": []
      }
    },
    {
      "cell_type": "code",
      "source": "%matplotlib inline\n\nfrom matplotlib import animation, rc\nfrom IPython.display import HTML\nrc('animation', html='jshtml')\nrc('figure',figsize=(4,3))\n\nimport numpy as np\nimport matplotlib.pyplot as plt",
      "metadata": {
        "tags": [],
        "jupyter": {
          "source_hidden": true
        },
        "trusted": true
      },
      "execution_count": null,
      "outputs": []
    },
    {
      "cell_type": "code",
      "source": "def waveanim(wave, x1=0, x2=2, xm=1, frames=100):\n    fig, ax = plt.subplots()\n    plt.grid()\n    plt.close();\n    ax.set_xlim(( x1, x2))\n    ax.set_ylim((-1.1, 1.1))\n\n    line1, = ax.plot([], [], '-')\n    line2, = ax.plot([], [], '.', markersize=20)\n\n    def animate(i):\n        t = i/25\n        line1.set_data(x,wave(x,t))\n        line2.set_data(xm,wave(xm,t))\n        return ()\n\n    return animation.FuncAnimation(fig, animate, frames=frames, interval=1000/25, blit=True, repeat=False)",
      "metadata": {
        "tags": [],
        "jupyter": {
          "source_hidden": true
        },
        "trusted": true
      },
      "execution_count": null,
      "outputs": []
    },
    {
      "cell_type": "markdown",
      "source": "Una perturbación que se transmite por el espacio. El medio no se mueve. En el caso más simple tendríamos algo como:\n\n$$f(x,t) = A \\sin 2\\pi \\left(\\frac{x}{\\lambda} - \\nu t \\color{gray}{+ \\phi} \\right) = A \\sin (k x - \\omega t)$$\n\nHay dos parámetros independientes. Por una parte está la frecuencia de oscilación temporal $\\nu$ (o simplemente frecuencia (ciclos por segundo, o su inverso el período, o la frecuencia angular $\\omega = 2 \\pi \\nu$) y por otra la frecuencia espacial, o longitud de onda $\\lambda$, o número de ondas *wave number* $k = 2 \\pi /\\lambda$. Entre los dos dan lugar a la velocidad de propagación (de los máximos) o velocidad de fase $v_p$.\n\n$$v_p = \\lambda \\nu = \\frac{\\omega}{k}$$",
      "metadata": {}
    },
    {
      "cell_type": "code",
      "source": "x = np.linspace(0,2,100)\n\ndef f(lam,freq,x,t):\n    return 1*np.sin(2*np.pi*(x/lam - t*freq))",
      "metadata": {
        "jupyter": {
          "source_hidden": true
        },
        "tags": [],
        "trusted": true
      },
      "execution_count": null,
      "outputs": []
    },
    {
      "cell_type": "code",
      "source": "# waveanim(lambda x,t: f(lam=3/2, freq=1/4, x=x, t=t))",
      "metadata": {
        "collapsed": false,
        "jupyter": {
          "outputs_hidden": false
        },
        "trusted": true
      },
      "execution_count": null,
      "outputs": []
    },
    {
      "cell_type": "code",
      "source": "waveanim(lambda x,t: f(lam=1/2, freq=1/4, x=x, t=t))",
      "metadata": {
        "collapsed": false,
        "hide_input": true,
        "jupyter": {
          "outputs_hidden": false
        },
        "trusted": true
      },
      "execution_count": null,
      "outputs": []
    },
    {
      "cell_type": "markdown",
      "source": "Dado un determinado fenómeno, sonido, luz, olas, etc. ¿qué dos parámetros (independientes ) ocurren? En la ecuación de onda lineal, cualquier forma de onda es posible, pero queda fijada la velocidad, por tanto $\\lambda$ y $\\nu$, $\\omega$ van inversamente relacionados mediante una *relación de dispersión* $\\omega(k) = c k$.",
      "metadata": {}
    },
    {
      "cell_type": "markdown",
      "source": "<p style='margin-left:2cm; margin-right:2cm; color:#444'><small><small>\n\n\n\nAlternativamente, una función cualquiera $f(x)$ que se mueve a velocidad $v$ se puede expresar como \n\n$$f(x-vt)$$\n\nLa solución de la ecuación de ondas $u_{tt} = c\\; u_{xx} $ se compone de una combinación lineal de esas formas viajeras en ambas direcciones.\n\nSi $f$ es periódica y tenemos una $\\lambda$ característica en cada punto habría una oscilación con frecuencia $\\nu$ que se deduce de $\\lambda$ y $v$.\n\n</small></small></p>",
      "metadata": {}
    },
    {
      "cell_type": "markdown",
      "source": "## Energía",
      "metadata": {}
    },
    {
      "cell_type": "markdown",
      "source": "En general:\n\n$$E^2 = (pc)^2 + (m_0c^2)^2$$\n\nPhoton:\n\n$$ E = p c $$\n\nNo relativista:\n\n$$E = \\frac{p^2}{2m}$$\n\nForma alternativa despejando $\\gamma$ en $p^2$ (para $m_0>0$):\n\n$$ E = m_0  c^2 \\sqrt{1+ \\left( \\frac{p}{m_0 c}\\right)^2} =  m_0c^2 \\left[1 + \\frac{1}{2}\\left( \\frac{p}{m_0 c}\\right)^2 + \\ldots \\right] \\simeq m_0 c^2 + \\frac{p^2}{2 m_0}$$",
      "metadata": {}
    },
    {
      "cell_type": "markdown",
      "source": "## Energía de oscilación",
      "metadata": {}
    },
    {
      "cell_type": "markdown",
      "source": "En un oscilador armónico con amplitud $A$ tenemos energía total:\n\n$$E = T + V = \\frac{1}{2}m \\dot x^2 + \\frac{1}{2}k x^2 = \\frac{1}{2}k A^2$$\n\nY se puede ver que la solución sinusoidal de la ecuación diferencial tiene una frecuencia:\n\n$$\\nu = \\frac{1}{2\\pi}\\sqrt{\\frac{k}{m}}$$\n\n(Parece que esto se puede deducir también teniendo en cuenta que $\\dot x_{max} = \\omega A$)",
      "metadata": {}
    },
    {
      "cell_type": "markdown",
      "source": "## Modos estacionarios en una cavidad",
      "metadata": {}
    },
    {
      "cell_type": "markdown",
      "source": "La predicción clásica del espectro de la radiación térmica en un cuerpo ideal se basa en contar el número de modos que puede soportar un recinto cúbico de lado $L$.\n\nEse número es proporcional a $\\nu^2$. (Esto quiero entenderlo bien, con alguna simulación o gráfico ilustrativo). Buscamos la distribución relativa del número de modos para diferentes frecuencias. Depende de la dimensión (3D) del espacio físico. [Aquí hay una buena deducción.](https://thecuriousastronomer.wordpress.com/2013/11/04/derivation-of-the-rayleigh-jeans-law-part-2/)\n\nSi todos los modos se reparten por igual la energía (debido al principio de equipartición, que es razonable: en equilibrio térmico se intercambia energía al azar entre grados de libertad y al final cada uno tiene en promedio $kT/2$), resulta que debería haber proporcionalmente más emisión en las frecuencias altas, y en principio sin límite superior (*catástrofe ultravioleta*), lo cual no cuadra con el espectro observado.\n\nAhora bien, si la energía de cada oscilación está restringida a paquetes discretos cuyo tamaño depende de la frecuencia $E=n h \\nu$, los modos de alta frecuencia no se pueden activar porque $kT \\ll h \\nu$, es decir la energía media que le toca es menor que el mínimo paquete a esa frecuencia.\n\n(No tengo claro que la derivación de la catástrofe ultravioleta de Rayleigh-Jeans sea que se predice infinita radiación a una cierta temperatura, sino que la energía total se debería repartir entre infinitos modos (no sé si esto es ya malo de por sí, o no mucho), con una distribución relativa de frecuencias contraria a la observada, en la que las altas frecuencias se disparan en acaparar la energía.) \n\nTal vez la clave de asunto no está tanto en la cuantización de la energía en saltos discretos, sino en que esos saltos tienen un tamaño que, en el caso de energía ondulatoria como la electromagnética, o en un oscilador armónico, depende de la frecuencia de oscilación, lo cual tiene implicaciones tremendas en situaciones de altas frecuencias y bajas energías.\n\nEn el libro de Resnick separa el número de modos, $\\propto \\nu^2$ de la energía promedio clásica $kT$ y cuántica con la exponencial decreciente de Planck, que domina el cuadrado.",
      "metadata": {
        "hide_input": true
      }
    },
    {
      "cell_type": "code",
      "source": "L = np.linspace(0,1,200)\ny = np.outer(L,np.ones((1,len(L))))\nx = y.T\nkx = 6*np.pi/1\nky = 8*np.pi/1\nplt.imshow(np.sin(kx*x) * np.sin(ky*y),'gray');",
      "metadata": {
        "collapsed": false,
        "hide_input": false,
        "jupyter": {
          "outputs_hidden": false
        },
        "trusted": true
      },
      "execution_count": null,
      "outputs": []
    },
    {
      "cell_type": "markdown",
      "source": "(A partir de mi simulación de la ecuación de ondas, añadiendo varias perturbaciones y quitando el amortiguamiento al final queda una dinámica completamente caótica / aleatoria que podría parecerse tal vez a la radiación térmica. Representando el valor en un punto a lo largo del tiempo, si hiciéramos el espectro de frecuencias deberíamos obtener algo interesante. Pero al hacerlo la señal temporal es bastante suave, aunque aleatoria. Esto tendrá que ver con los modos necesarios para sintetizar el pulso que añado, que estarán limitados en frecuencia por la discretización usada para resolver la ecuación.)",
      "metadata": {}
    },
    {
      "cell_type": "markdown",
      "source": "## Einstein - de Broglie",
      "metadata": {}
    },
    {
      "cell_type": "markdown",
      "source": "Un haz de luz monocromático tendría una forma sinusoidal con una cierta $(k,\\omega)$, y con una energía proporcional a $A^2$, que por ejemplo al llegar a un electrón empezaría a hacerlo oscilar y le iría comunicando energía al estilo de resonancia, como un columpio, hasta que alcanzara suficiente como para escapar. Pero no ocurre eso sino que (para explicar el efecto fotoeléctrico) la luz llega en paquetes discretos con energía\n\n$$E = \\hbar \\,\\omega$$\n\nEn experimentos de difracción hay que modelarla como onda con $A$ y $\\lambda$, pero en colisiones como partículas con cuantos discretos de energía.\n\n(Esta propuesta de Einstein era mucho más revolucionaria que la de Planck (interacción con materia), ya que se cargaba completamente la teoría de Maxwell de radiación libre. Tardó mucho tiempo en admitirse.)\n\nAdemás, en colisiones con electrones (efecto Compton) también se ve que la interacción es como una partícula, que intercambia momento (y energía, $E=pc$), y por tanto $\\lambda$.\n\nEsta cuantización implica (trivialmente) que el momento del fotón se puede expresar como:\n\n$$p = \\frac{E}{c} = \\frac{\\hbar \\omega}{c} = \\frac{\\hbar c k}{c} = \\hbar k$$\n\nSorprendentemente nos encontramos con experimentos (Davisson and Germer) en donde electrones sufren difracción, consistente con un $k$ o $\\lambda$ que tiene la misma expresión\n\n$$p = \\hbar\\, k$$\n\nParece ser una propiedad general de la naturaleza que según el experimento realizado veamos propagación como onda $(\\omega, k)$, extendida en el espacio, o interacción como partícula $(E, p)$ localizada.\n",
      "metadata": {}
    },
    {
      "cell_type": "markdown",
      "source": "## Born",
      "metadata": {}
    },
    {
      "cell_type": "markdown",
      "source": "La intensidad de la onda (luz pej.) es proporcional a $A^2$ (flujo de energía promediado en un período). Con una interpretación estadística diríamos que la intensidad de la onda $|\\psi|^2$ se relaciona con la proporción relativa de cuantos que llegan a ese sitio. Pero como debe funcionar igual cuando vienen de uno en uno, no queda otra que reinterpretar la onda como algo cuyo cuadrado nos da la probabilidad de cada medición individual.",
      "metadata": {}
    },
    {
      "cell_type": "markdown",
      "source": "## Wave packets",
      "metadata": {}
    },
    {
      "cell_type": "markdown",
      "source": "Pero entonces hay que representar una partícula con un paquete de ondas, ya que una frecuencia pura sola nos daría una probabilidad\nconstante en todo el espacio.\n\nTenemos la velocidad de fase y la de grupo. Para la luz la relación de dispersión es $\\omega = k c$ y por tanto ambas son iguales. Pero para algo con masa tenemos una velocidad de fase\n\n$$ v = \\frac{\\omega}{k} = \\frac{ \\frac{E}{\\hbar}}{ \\frac{p}{\\hbar}} =  \\frac{E}{p}  = \\frac{\\frac{1}{2}m v^2}{m v} = \\frac{v}{2}$$\n\nque no es la de la partícula. Lo es la velocidad de grupo correspondiente a la relación de dispersión\n\n$$ \\hbar \\omega = E = \\frac{p^2}{2m} =\\frac{(\\hbar k)^2}{2m} \\implies \\omega = \\frac{\\hbar k^2}{2m}$$\n\n$$v_g = \\frac{d\\omega}{d k} = \\frac{\\hbar k}{m} = \\frac{\\hbar \\frac{p}{\\hbar}}{m} = v$$\n\nPero como es no lineal, el paquete se irá dispersando.",
      "metadata": {}
    },
    {
      "cell_type": "code",
      "source": "lam  = 1/2\nfreq = 1/4\n\nx = np.linspace(-4,4,1000)\n\ndef pul(x,t):\n    return sum([f(lam+d,freq,x,t)*np.exp(-0.5*(d/0.04)**2)/50\n                for d in np.linspace(-0.1,0.1,100)])\n\n#waveanim(pul, x1=-4, x2=4, frames=200)",
      "metadata": {
        "jupyter": {
          "source_hidden": true
        },
        "tags": [],
        "trusted": true
      },
      "execution_count": null,
      "outputs": []
    },
    {
      "cell_type": "code",
      "source": "lam  = 1/2\nfreq = 1/4\n\nx = np.linspace(-3,5,1000)\n\ndef pul(x,t):\n    return sum([f(lam+d,freq-2*d,x,t)*np.exp(-0.5*(d/0.04)**2)/50\n                for d in np.linspace(-0.1,0.1,100)])\n\n# waveanim(pul, x1=-3, x2=5, frames=200)",
      "metadata": {
        "jupyter": {
          "source_hidden": true
        },
        "tags": [],
        "trusted": true
      },
      "execution_count": null,
      "outputs": []
    },
    {
      "cell_type": "code",
      "source": "lam  = 1/2\nfreq = 1/4\n\nx = np.linspace(-2,10,1000)\n\ndef pul(x,t):\n    return sum([f(lam+d,freq-5*(d+0.1)**2,x,3*t)*np.exp(-0.5*(d/0.04)**2)/50\n                for d in np.linspace(-0.1,0.1,100)])\n\nplt.rc('figure',figsize=(8,3))\nwaveanim(pul, x1=-2, x2=10, frames=300)",
      "metadata": {
        "collapsed": false,
        "jupyter": {
          "outputs_hidden": false
        },
        "trusted": true
      },
      "execution_count": null,
      "outputs": []
    },
    {
      "cell_type": "markdown",
      "source": "## Incertidumbre",
      "metadata": {}
    },
    {
      "cell_type": "markdown",
      "source": "Una paquete de ondas de ancho $\\Delta x$ se puede sintetizar como superposición de ondas planas con amplitudes gaussianas alrededor de un $k$ con $\\Delta k$. Como la transformada de Fourier de gaussiana es gaussiana de ancho recíproco, obtenemos el principio de incertidumbre.\n\nAunque hay que extrapolar que si tenemos $|\\psi(x)|^2$ es prob. de estar en $x$, la amplitud $|\\hat \\psi(k)|^2$ es prob de medir un $k$ (y por tanto $p$). Esto está más claro a posteriori, cuando vemos que siempre podemos descomponer $\\psi$ en la base de los autovectores del observable. Pero a partir del argumento anterior habría que verlo.",
      "metadata": {}
    },
    {
      "cell_type": "markdown",
      "source": "## Schrödinger",
      "metadata": {}
    },
    {
      "cell_type": "markdown",
      "source": "Argumento de plausibilidad para la ecuación. Debe ser consistente con\n\n- lineal (para que produzca las interferencias observadas)\n\n- Einstein - de Broglie\n\n- conservación energía ($H=p^2/2m+V$)\n\n- con potencial constante (partícula libre) debe producir ondas viajeras de $\\lambda$ y $\\omega$ constantes.",
      "metadata": {}
    },
    {
      "cell_type": "markdown",
      "source": "### Operadores",
      "metadata": {}
    },
    {
      "cell_type": "markdown",
      "source": "Si $\\psi$ es amplitud de probabilidad, podemos calcular valores esperados y varianzas de cualquier magnitud.\n\n$$\\langle f(x,t) \\rangle = \\int_{-\\infty}^{\\infty} f(x,t) P(x,t) dx = \\int_{-\\infty}^{\\infty} \\phi^*(x,t) f(x,t) \\phi(x,t) dx $$\n\nNingún problema para funciones como la posición, p.ej., $f(x,t) = x$ pero tenemos un problema con $p$, ya que no es expresable como una función definida de $x$ y $t$.\n\nSe podría pensar en expresar $\\psi$ como una mezcla probabilística de distintas alternativas, cada una con un $p$ definido, para obtener el valor medio. Una \"implementación\" elegante de esto es la siguiente:\n\nObtendríamos el valor esperado esperado si en lugar de poner el valor numérico de $f$ en la expresión ponemos un \"operador\" que consiga el mismo efecto. Debe ser consistente con el resultado obtenido sobre una función de onda simple como $\\psi(x,t) = A e ^{i (kx - \\omega t)}$ que tiene un $p$ perfectamente definido. Una idea es la derivada, que extrae el coeficiente del argumento en la exponencial:\n\n$$ \\frac{1}{i \\hbar} \\frac{\\partial}{\\partial x} \\psi(x,t) = \\frac{1}{i \\hbar} \\frac{\\partial}{\\partial x} A e ^{i (kx - \\omega t)} = \\frac{k}{\\hbar} A e ^{i (kx - \\omega t)} = p\\; \\psi(x,t)$$\n\nIgualmente,\n\n$$ \\frac{1}{-i \\hbar} \\frac{\\partial}{\\partial t} \\psi(x,t) =  E\\; \\psi(x,t)$$\n",
      "metadata": {}
    },
    {
      "cell_type": "markdown",
      "source": "Un observable se asocia a un operador hermítico (que tenga valores propios reales, con significado físico, y por tanto autovectores ortogonales, y por supuesto lineal para que actue sobre superposiciones de ondas de forma natural)",
      "metadata": {}
    },
    {
      "cell_type": "markdown",
      "source": "Cuando el operador se aplica a un paquete de ondas, a una superposición, ocurre algo bueno:\n\n$$\\langle p \\rangle =  \\int_{-\\infty}^{\\infty} (A_1^* e ^{-i (k_1x - \\omega_1 t)} + A_2^* e ^{-i (k_2x - \\omega_2 t)}) \\frac{1}{i \\hbar} \\frac{\\partial}{\\partial x} (A_1 e ^{i (k_1x - \\omega_1 t)} + A_2 e ^{i (k_2x - \\omega_2 t)})  dx  =$$\n\n$$=  \\int_{-\\infty}^{\\infty} (A_1^* e ^{-i (k_1x - \\omega_1 t)} + A_2^* e ^{-i (k_2x - \\omega_2 t)}) (p_1 A_1 e ^{i (k_1x - \\omega_1 t)} + p_2 A_2 e ^{i (k_2x - \\omega_2 t)})  dx  =$$\n\n$$ = p_1 |A_1|^2 + p_2 |A_2|^2 $$\n\nLos términos \"cruzados\" desaparecen. Las ondas puras son ortonormales, así que la expansión de la función de onda $\\psi$ en la base de sus funciones propias permite calcular los valores esperados con los valores propios, con unos pesos relacionados con los coeficientes de la combinación lineal.\n\nLa expansión conveniente para esto depende del operador concreto cuyo valor propio sea la magnitud observable de interés.\n\nSe puede jugar con esto para obtener también la dispersión que conseguiríamos al realizar repetidamente el experimento:\n\n$$\\Delta f = \\langle f^2 \\rangle - \\langle f \\rangle ^2$$\n\nAhora bien, supongamos que en el caso anterior de la superposición de dos ondas, medimos $p$ y obtenemos $p_o$. Puede que otras variables dinámicas se hayan perturbado, pero lo que es $p$, si volvemos a medirla inmediatamente después, por continuidad de la naturaleza, debe obtenerse el mismo resultado. Esto implica que el sistema se encuentra en un nuevo estado $\\psi$ cuyo $\\Delta p = 0$. Y esto solo puede ocurrir si $\\psi$ es precisamente una eigenfunction del operador $\\mathcal P$, aquella cuyo eigenvalue es el valor observado $p_o$. Así que en un \"sistema cuántico\" los resultados de los experimentos son valores propios de los operadores asociados. Cuando el espectro del operador es continuo, como aquí, pues no hay mucho problema, ser autovalor no tiene nada de especial. Pero hay situaciones muy importantes en las que ciertos observables aparecen cuantizados (!). Esto en principio es algo nuevo respecto a lo ya bastante raro anterior que supone usar una $\\psi$ para averiguar las probabilidades de medir una localización.",
      "metadata": {}
    },
    {
      "cell_type": "markdown",
      "source": "### Schrödinger",
      "metadata": {}
    },
    {
      "cell_type": "markdown",
      "source": "La interpretación probabilística de la función de onda sugiere el uso de los siguientes operadores para \"extraer\" de la función de onda las variables dinámicas necesarias para calcular valores esperados:\n\n$$x \\leftrightarrow x$$\n\n$$ p \\leftrightarrow -i \\hbar \\nabla$$\n\n$$ E \\leftrightarrow i \\hbar \\frac{\\partial}{\\partial t} $$\n\nSi las variables dinámicas de un sistema deben verificar una cierta condición, entonces los operadores también, para extraer valores esperados consistentes. Así, por ejemplo, una partícula clásica verifica $E=T+V$:\n\n$$E = \\frac{p^2}{2m} + V$$\n\nQue trasladado a operadores es directamente, ni más ni menos que, la ecuación de Schrödinger:\n\n$$ i \\hbar \\frac{\\partial}{\\partial t} \\Psi = V \\Psi - \\frac{\\hbar^2}{2m} \\nabla^2 \\Psi$$ \n\n\nCuando el potencial $V$ no depende del tiempo la ecuación se puede resolver por separación de variables, asumiendo la forma $\\Psi(x,t)=\\psi(x)\\varphi(t)$. Esto conduce a una solución muy sencilla:\n\n$$\\Psi(x,t)=\\varphi(x) e ^ {-iEt/\\hbar}$$\n\ndonde $\\psi$ verifica la ecuación de Schrödinger independiente del tiempo:\n\n$$ V \\psi - \\frac{\\hbar^2}{2m} \\nabla^2 \\psi = E \\psi $$\n\nPodemos definir el operador Hamiltoniano:\n\n$$H = V -  \\frac{\\hbar^2}{2m} \\nabla^2 $$\n\nY de esta manera decir que la solución está compuesta por (una combinación lineal de) esas eigenfuciones del hamiltoniano $H\\psi=E\\psi$, con fases complejas cuya frecuencia depende de cada valor propio...",
      "metadata": {}
    },
    {
      "cell_type": "markdown",
      "source": "En general, para un Hamiltoniano H constante, al ser una ecuación lineal podemos resolverla directamente con la exponencial, obteniendo un operador que da la evolución unitaria hasta un tiempo t deseado (que podemos iterar):\n\n$$ \\frac{\\partial}{\\partial t} \\Psi(t) = \\frac{1}{i \\hbar} \\,H \\Psi(t) \\: \\implies \\: \\Psi(t) = e^{\\frac{-i}{\\hbar}Ht} \\Psi(0)$$",
      "metadata": {}
    },
    {
      "cell_type": "markdown",
      "source": "Se puede ver fácilmente que las dos soluciones son equivalentes.",
      "metadata": {}
    },
    {
      "cell_type": "markdown",
      "source": "## Bohr",
      "metadata": {}
    },
    {
      "cell_type": "markdown",
      "source": "La constante de Rydberg puede deducirse a partir de los postulados de Bohr.\n\nLa frecuencia de revolución es $\\nu = v/(2\\pi r)$, donde la velocidad es la obtenida más arriba:\n\n$$\\nu^2 = \\left(\\frac{v}{2 \\pi r}\\right)^2 = \\frac{\\frac{e^2}{4\\pi\\epsilon_0 m r}}{4 \\pi^2 r^2}  = \\frac{e^2}{16\\pi^3 \\epsilon_0 m r^3} $$\n\n(Es una de las leyes de Kepler.)\n\nEnergía total, cinética más potencial:\n\n$$E = \\frac{1}{2} m v^2 - \\frac{1}{4\\pi \\epsilon_0} \\frac{e^2}{r} = \\frac{1}{2} m \\frac{e^2}{4\\pi\\epsilon_0 m r} - \\frac{1}{4\\pi \\epsilon_0} \\frac{e^2}{r} = \\left(\\frac{1}{8} - \\frac{1}{4} \\right) \\frac{e^2}{\\pi\\epsilon_0 r} = \\frac{-e^2}{8\\pi \\epsilon_0 r}$$\n\nPor tanto, podemos expresar la frecuencia en funcion de la energía total:\n\n$$\\nu = \\sqrt{\\frac{e^2}{16\\pi^3 \\epsilon_0 m \\left(\\frac{-e^2}{8\\pi \\epsilon_0 E} \\right)^3}} = \\frac{4 \\epsilon_0}{e^2}\\sqrt{\\frac{2}{m}}|E|^\\frac{3}{2}$$\n\nEs el resultado en una órbita clásica. La radiación emitida debería tener esa frecuencia. (Habría que ver cuánta energía se va perdiendo poco a poco).\n\n\nEn el modelo de Bohr $\\Delta E = h\\nu$. La fórmula de Balmer (Rydberg, en general)\n\n$$\\Delta E = h \\nu = hc \\,\\frac{1}{\\lambda} = h c\\, R_H\\left(\\frac{1}{m^2}-\\frac{1}{n^2}\\right)$$\n\nsugiere claramente que los valores permitidos de E tienen la forma:\n\n$$E_n = - h c R_H \\frac{1}{n^2} $$\n\nPor tanto la frencuencia de radiación expresada en función del \"número cuántico\" queda:\n\n$$ \\nu = \\frac{4 \\epsilon_0}{e^2}\\sqrt{\\frac{2}{m}}(h c R_H \\frac{1}{n^2})^\\frac{3}{2} =\\frac{4 \\epsilon_0}{e^2}\\sqrt{\\frac{2}{m}}(h c R_H)^\\frac{3}{2} \\frac{1}{n^3}  $$\n\nPara valores grandes y consecutivos de $n$ tendríamos\n\n$$\\Delta E = h \\nu = h c\\, R_H\\left(\\frac{1}{(n-1)^2}-\\frac{1}{n^2}\\right) = h c\\, R_H\\left(\\frac{2n-1}{n^2(n-1)^2}\\right) \\simeq h c\\, R_H \\frac{2}{n^3}$$\n\nCon energías grandes (casi cero, desde negativo) los valores permitidos están muy juntos, y los saltos son muy pequeños, prácticamente indistinguibles de un continuo. Igualando las dos frecuencias:\n\n$$ \\frac{4 \\epsilon_0}{e^2}\\sqrt{\\frac{2}{m}}(h c R_H)^\\frac{3}{2} = 2c\\, R_H  \\implies \\frac{2 \\epsilon_0}{c e^2}\\sqrt{\\frac{2}{m}}(h c)^\\frac{3}{2} =  R_H^\\frac{-1}{2} $$ \n\nY por tanto:\n\n$$ R_H = \\frac{e^4 m}{8\\, \\epsilon_0^2 h^3 c}$$\n\nSe aplica el principio de correspondencia: para energías grandes la frecuencia de una órbita clásica debe coincidir con la asociada a un salto entre niveles consecutivos.\n\nCon este valor para $R_H$ podemos expresar directamente la energía:\n\n$$E_n = - \\frac{e^4 m}{8\\, \\epsilon_0^2 h^2} \\frac{1}{n^2} $$\n\nY los radios posibles:\n$$ r = \\frac{-e^2}{8\\pi \\epsilon_0 E} = \\frac{e^2}{8\\pi \\epsilon_0 \\left( \\frac{e^4 m}{8\\, \\epsilon_0^2 h^2} \\frac{1}{n^2}\\right)} = \\frac{\\epsilon_0 h^2}{\\pi m e^2} n^2 $$\n\nY las velocidades posibles:\n\n$$ v =\\sqrt \\frac{e^2}{4\\pi\\epsilon_0 m r} = \\sqrt\\frac{e^2}{4\\pi\\epsilon_0 m \\left(\\frac{\\epsilon_0 h^2}{\\pi m e^2} n^2 \\right) } = \\frac{e^2}{2 h \\epsilon_0}\\frac{1}{n}$$\n\nPor lo que los momentos angulares posibles son:\n\n$$L = m r v = m \\; \\frac{\\epsilon_0 h^2}{\\pi m e^2} n^2 \\; \\frac{e^2}{2 h \\epsilon_0}\\frac{1}{n} = \\hbar n $$\n\nLo cual es algo tan sorprendente que puede realmente cambiarse a postulado, del cual deducir todo, incluyendo el principio de correspondencia. (Pero necesita pensar en órbitas clásicas pequeñas, cosa que el otro enfoque no; esto es más interesante para la mecánica cuántica moderna.)\n\n$$\\hbar n = m v r = m \\sqrt\\frac{e^2}{4\\pi\\epsilon_0 m r} \\, r \\implies \\hbar ^2 n^2 = m^2 \\frac{e^2}{4\\pi\\epsilon_0 m r} r^2 = \\frac{e^2mr}{4\\pi\\epsilon_0} $$\n\nLo que da lugar a los mismos radios posibles:\n\n$$r = \\frac{4 \\pi \\epsilon_0 \\hbar^2}{e^2 m} n^2 = \\frac{\\epsilon_0 h^2}{\\pi e^2 m} n^2 $$\n\nY a las energías posibles:\n\n$$E = \\frac{-e^2}{8\\pi \\epsilon_0 r} = \\frac{-e^2}{8\\pi \\epsilon_0 \\left( \\frac{\\epsilon_0 h^2}{\\pi e^2 m} n^2  \\right)} = - \\frac{m e^4}{8\\epsilon_0^2 h^2} \\frac{1}{n^2}$$\n\nFinalmente, la cuantización del momento angular se puede deducir del hecho de que la órbita debe contener un número entero de longitudes de onda de de Broglie para evitar interferencia destructiva:\n\n$$ 2\\pi r = n \\lambda = n \\frac{h}{p} \\implies r p = \\hbar n$$",
      "metadata": {}
    },
    {
      "cell_type": "markdown",
      "source": "## Timeline",
      "metadata": {}
    },
    {
      "cell_type": "markdown",
      "source": "**1789** conservación de la masa (Lavoisier)\n\n**1803** proporciones múltiples (Proust, Dalton), con errores\n\n**1811** proporciones en gases (Avogadro), moléculas y átomos\n\n**1819** calores específicos sólidos Dulong - Petit. Anomalías\n\n**1827** movimiento Browniano (1905 Einstein, 1908 Perrin)\n\n**1865** ondas electromagnéticas (Maxwell)\n\n**1879** Stefan-Boltzmann\n\n**1885** Balmer formula\n\n**1887** Hertz confirma ondas electromagnéticas y observa efecto fotoeléctrico.\n\n**1888** Rydberg formula\n\n**1893** Desplazamiento Wien\n\n**1895** Rayos X (Roegten)\n\n**1897** electrón (J.J. Thomson) rayos catódicos son partículas con muy pequeño ratio m/e. Modelo de plum-pudding.\n\n\n**1900** Rayleigh-Jeans-Einstein vs Planck\n\n**1905** Einstein\n\n**1907** Einstein solid model\n\n**1909** núcleo atómico (Rutherford) mucho más pequeño que el átomo, que está casi hueco. Geiger-Mardsen experiment algunas rebotan completamente. Esto es imposible si la carga positiva está distribuida por todo el átomo. Pero problemas con modelo planetario: radiación, espectro discreto.\n\n**1910** Millikan mide e.\n\n**1914** Franck-Hertz experiment: energía de átomo cuantizada, colisiones con electrones. La corriente pegaba bajones.\n\n\n\n**1913** modelo de Bohr. Explica espectro de H cuantizando L (y E). Explica la constante de Rydberg.\n\n**1914** Millikan confirma predicciones de Einstein sobre el efecto fotoeléctrico. (Aunque no se lo cree. Ni mucho otros lo podía admitir, al ir en contra de la teoría electromagnética de Maxwell.)\n\n**1915** Relatividad general\n\n**1923** Efecto Compton confirma naturaleza corpuscular de luz en colisiones de rayos X contra átomos que rebotan con mayor $\\lambda$.\n\n**1922** Experimento de Stern-Gerlach.\n\n**1924** ondas de materia de Broglie\n\n**1925** matrix mechanics (Heisenberg-Born). Uhlenbeck and Goudsmit proponen el spin.\n\n**1926** ecuación de Schrodinger y amplitudes de probabilidad (Born)\n\n**1923-27** Davison and Germer (y G.P.Thomson, el hijo) confirman difracción de electrones.\n\n\n**1927** principio de incertidumbre (Heisenberg)\n\n**1927** Solvay conference \n\n**1928** ecuación de Dirac\n\n**1947** Radiación Syncrotron: electrones en movimiento circular. Y  *bremsstrahlung* radiación: al cambiar de dirección un electrón (frenado) emite radiación.\n\n**1948** Pair production (Blackett) fotón choca contra átomo y se convierte en electrón + positrón. (Y aniquilación: diagnóstico PET.)\n\n**1964** Bell' theorem\n\n**1982** Aspect, entanglemente\n\n**1994** Shor's algorithm",
      "metadata": {}
    }
  ]
}