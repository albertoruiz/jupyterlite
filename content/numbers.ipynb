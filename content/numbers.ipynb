{
  "metadata": {
    "kernelspec": {
      "name": "python",
      "display_name": "Python (Pyodide)",
      "language": "python"
    },
    "language_info": {
      "codemirror_mode": {
        "name": "python",
        "version": 3
      },
      "file_extension": ".py",
      "mimetype": "text/x-python",
      "name": "python",
      "nbconvert_exporter": "python",
      "pygments_lexer": "ipython3",
      "version": "3.8"
    }
  },
  "nbformat_minor": 4,
  "nbformat": 4,
  "cells": [
    {
      "cell_type": "markdown",
      "source": "# Number Theory",
      "metadata": {}
    },
    {
      "cell_type": "markdown",
      "source": "## Integer Square Root",
      "metadata": {
        "tags": []
      }
    },
    {
      "cell_type": "code",
      "source": "from theonum import isqrt",
      "metadata": {
        "trusted": true
      },
      "execution_count": null,
      "outputs": []
    },
    {
      "cell_type": "code",
      "source": "isqrt(31)",
      "metadata": {
        "trusted": true
      },
      "execution_count": null,
      "outputs": []
    },
    {
      "cell_type": "code",
      "source": "isqrt(144)",
      "metadata": {
        "trusted": true
      },
      "execution_count": null,
      "outputs": []
    },
    {
      "cell_type": "code",
      "source": "isqrt(55**2+3)",
      "metadata": {
        "trusted": true
      },
      "execution_count": null,
      "outputs": []
    },
    {
      "cell_type": "code",
      "source": "n = 99987513635933739420478972158060509974719355801**2+42378687\nn",
      "metadata": {
        "trusted": true
      },
      "execution_count": null,
      "outputs": []
    },
    {
      "cell_type": "code",
      "source": "isqrt(n, trace=True)",
      "metadata": {
        "trusted": true
      },
      "execution_count": null,
      "outputs": []
    },
    {
      "cell_type": "markdown",
      "source": "## Continued Fraction",
      "metadata": {
        "tags": []
      }
    },
    {
      "cell_type": "code",
      "source": "from theonum import cf_expansion, convergents, shcf\nfrom sympy import Rational",
      "metadata": {
        "trusted": true
      },
      "execution_count": null,
      "outputs": []
    },
    {
      "cell_type": "code",
      "source": "shcf(811,972)",
      "metadata": {
        "trusted": true
      },
      "execution_count": null,
      "outputs": []
    },
    {
      "cell_type": "code",
      "source": "bs = cf_expansion(811,972)\n\nbs",
      "metadata": {
        "trusted": true
      },
      "execution_count": null,
      "outputs": []
    },
    {
      "cell_type": "code",
      "source": "[Rational(n,d) for n, d in convergents(bs)]",
      "metadata": {
        "trusted": true
      },
      "execution_count": null,
      "outputs": []
    },
    {
      "cell_type": "markdown",
      "source": "## Fermat",
      "metadata": {
        "tags": []
      }
    },
    {
      "cell_type": "code",
      "source": "def fermat(N, limit):\n    squaresMod20 = {0,1,4,5,9,16}\n    from itertools import count\n\n    rr = 0\n    start = isqrt(N)[0]+1\n\n    for x in count(start):\n        if x-start+1 > limit:\n            print('NOT FOUND')\n            break\n\n        b = x**2 - N\n        if b % 20 not in squaresMod20:\n            continue\n        (r,D) = isqrt(b)\n        rr += 1\n        if D==0:\n            print(f\"{N} = {N//(x-r)} x {N//(x+r)} = ({x} + {r}) x ({x} - {r})  {'OK' if N==(x+r)*(x-r) else 'FAIL'}\")\n            print(f\"start={start}, steps={x-start+1}/{rr}\")\n            #print(factorint(b))\n            break",
      "metadata": {
        "trusted": true
      },
      "execution_count": null,
      "outputs": []
    },
    {
      "cell_type": "code",
      "source": "N = 2041\n\nfermat(N, 100)",
      "metadata": {
        "trusted": true
      },
      "execution_count": null,
      "outputs": []
    },
    {
      "cell_type": "code",
      "source": "from sympy import prime\n\nN = prime(50) * prime(150)\n\nfermat(N, 110)",
      "metadata": {
        "trusted": true
      },
      "execution_count": null,
      "outputs": []
    },
    {
      "cell_type": "code",
      "source": "N = prime(500) * prime(1500)\n\nfermat(N, 10000)",
      "metadata": {
        "trusted": true
      },
      "execution_count": null,
      "outputs": []
    },
    {
      "cell_type": "markdown",
      "source": "## Sqrt 1",
      "metadata": {
        "tags": []
      }
    },
    {
      "cell_type": "code",
      "source": "def find_sqrt_1(N, limit):\n    from itertools import count\n    from math import gcd\n\n    print('steps x  Q')\n\n    start = isqrt(N)[0]+1\n    for x in count(start):\n        if x-start+1 > limit:\n            print('NOT FOUND')\n            break\n\n        Q = x**2 % N\n        if x-start+1 < 10: print(f'{x-start+1} {x} {Q}')\n        if Q == 1:\n            break\n    if Q==1:\n        print(f'BINGO {x-start+1} steps,  x={x}  {(x+1)*(x-1)//N}N  F={gcd(x-1,N)}')",
      "metadata": {
        "trusted": true
      },
      "execution_count": null,
      "outputs": []
    },
    {
      "cell_type": "code",
      "source": "N = 2041\n\nfind_sqrt_1(N, 400)",
      "metadata": {
        "trusted": true
      },
      "execution_count": null,
      "outputs": []
    },
    {
      "cell_type": "code",
      "source": "N = prime(50) * prime(150)\n\nfind_sqrt_1(N, 20000)",
      "metadata": {
        "trusted": true
      },
      "execution_count": null,
      "outputs": []
    },
    {
      "cell_type": "code",
      "source": "N = prime(1000) * prime(1010)\n\nfind_sqrt_1(N, 4000000)",
      "metadata": {
        "trusted": true
      },
      "execution_count": null,
      "outputs": []
    },
    {
      "cell_type": "markdown",
      "source": "## Pollard $\\rho$",
      "metadata": {
        "tags": []
      }
    },
    {
      "cell_type": "code",
      "source": "from math import gcd\n\ndef pollarho_demo(p,q,a,maxiter=100):\n    n = p*q\n    b = a\n    print(f'{p} x {q} = {n}')\n    print(f'{\"tortoise\":>10} {\"hare\":>34} {\"factor\":>34}')\n    for steps in range(maxiter):\n        d = gcd(a-b,n)\n        print(f'{a:10} {a%p:10} {a%q:10} | {b:10} {b%p:10} {b%q:10} | {d:10}')\n        if d != 1 and d != n: print(a,b,steps); break\n        a = (a**2 + 1)%n\n        b = (((b**2 + 1)%n)**2 + 1)%n\n\ndef pollarho(n,a,maxiter=100):\n    b = a\n    for steps in range(maxiter):\n        d = gcd(a-b,n)\n        if steps <10: print(f'{a:10}  |  {b:10}  | {d:10}')\n        if d != 1 and d != n: break\n        if steps==10: print('...')\n        a = (a**2 + 1)%n\n        b = (((b**2 + 1)%n)**2 + 1)%n\n    p = d\n    q = n//p\n    print(f'{n}={p}x{q}  {n==p*q} {steps} steps')",
      "metadata": {
        "trusted": true
      },
      "execution_count": null,
      "outputs": []
    },
    {
      "cell_type": "code",
      "source": "pollarho_demo(11,13,14)",
      "metadata": {
        "trusted": true
      },
      "execution_count": null,
      "outputs": []
    },
    {
      "cell_type": "code",
      "source": "pollarho_demo(prime(50),prime(70), 7)",
      "metadata": {
        "trusted": true
      },
      "execution_count": null,
      "outputs": []
    },
    {
      "cell_type": "code",
      "source": "pollarho(prime(1000)*prime(1250),333)",
      "metadata": {
        "trusted": true
      },
      "execution_count": null,
      "outputs": []
    },
    {
      "cell_type": "code",
      "source": "pollarho(prime(10000)*prime(20000),333,maxiter=1000)",
      "metadata": {
        "trusted": true
      },
      "execution_count": null,
      "outputs": []
    },
    {
      "cell_type": "markdown",
      "source": "## Quadratic Sieve",
      "metadata": {
        "tags": []
      }
    },
    {
      "cell_type": "markdown",
      "source": "https://en.wikipedia.org/wiki/Quadratic_sieve",
      "metadata": {}
    },
    {
      "cell_type": "code",
      "source": "from itertools import count, islice\nfrom sympy import prime, factorint\nfrom theonum import isqrt\nimport numpy as np\nfrom math import gcd\n\ndef prepareSieve(n, p, check=False):\n\n    def pred(x):\n        # quadratic residue not checked at the moment\n        #https://crypto.stackexchange.com/questions/35615/in-the-quadratic-sieve-why-restrict-the-factor-base\n        if not check: return True\n        return True\n\n    smallprimes = islice(filter(pred, map(prime, count(1))),p)\n    start = isqrt(n)[0]+1\n    return start, list(smallprimes)\n\ndef issmooth(n,someprimes):\n    x = n\n    fact = {}\n    for p in someprimes:\n        fact[p] = 0\n        q,r = divmod(x,p)\n        while r == 0:\n            x = q\n            fact[p] += 1\n            q,r = divmod(x,p)\n    return x,fact\n\ndef mkvec(fact, B, at, binary=False):\n    x = [' ' for _ in B]\n    for p,v in fact.items():\n        x[at[p]] = str(v%2) if binary else str(v)\n    return ''.join(x).replace('0','·')\n\ndef mkMatrix(B,at):\n    r = []\n    for x,_,fact in smooth:\n        r.append([x=='1' for x in mkvec(fact,B,at,True)])\n    return np.array(r).astype(int)\n\ndef reduce(M):\n    I = np.eye(M.shape[0]).astype(int)\n    n,m = M.shape\n    p = 0\n    for c in range(m):\n        #print(c)\n        r = np.where(M[p:,c]==1)[0]\n        if len(r)==0:\n            continue\n        r = r[0]+p\n        M[[p,r]] = M[[r,p]]\n        I[[p,r]] = I[[r,p]]\n        for k in range(p+1,n):\n            if M[k,c] == 1:\n                M[k] = (M[k] + M[p])%2\n                I[k] = (I[k] + I[p])%2\n        p += 1\n        #print(M)\n    #print(p)\n    return I[:p], I[p:]\n\ndef tryq(js, smooth):\n    print('x: ',[smooth[j][0] for j in js])\n    print('Q: ',[smooth[j][1] for j in js])\n    u = 1\n    v = 1\n    for j in js:\n        u *= smooth[j][0]\n        v *= smooth[j][1]\n\n    if isqrt(v)[1] != 0:\n        print('BAD SUBSET')\n        return\n    print(f'(Πx)^2  ΠQ', u**2%N, v%N)\n    r = isqrt(v)[0]\n    print('Πx  √ΠQ', u,r)\n    print('Πx  √ΠQ mod N', u%N,r%N)\n    fact = gcd(abs(u-r),N)\n    print('factor:', fact, fact!=N and fact!=1)\n\ndef findSmooth(limit, start, smallprimes):\n    print('   steps        x        Q         factors            mod 2')\n\n    at = {p:k for k,p in enumerate(smallprimes)}\n    smooth = []\n\n    for x in count(start):\n        if len(smooth) == limit:\n            break\n        Q = x**2 % N\n        y, fact = issmooth(Q,smallprimes)\n        if y==1:\n            smooth += [(x,Q,fact)]\n        else:\n            continue\n        (r,D) = isqrt(Q)\n        if D==0:\n            sx = f'{x:4}'\n            if x%N != r%N and x%N != (-r)%N:\n                factor = gcd(abs(x-r),N)\n                sx += f' OK {factor}'\n        else:\n            sx = '    '\n        print(f'{x-start:8} {x:8} {Q:8} {mkvec(fact,smallprimes,at):>15}  {mkvec(fact,smallprimes,at,binary=True):>15}  {sx}')\n        if D==0:\n            break\n\n    r = []\n    for x,_,fact in smooth:\n        r.append([x=='1' for x in mkvec(fact,smallprimes,at,True)])\n    M = np.array(r).astype(int)\n    return smooth, M\n\ndef makeFactor(smooth, M):\n    T = M.copy()\n    Span,Null = reduce(T)\n    #print(Span)\n    print(Null)\n    #print(M.shape, Null.shape)\n    print((Null @ M) % 2)\n    for sol in Null:\n        print('----------------')\n        print(M[np.where(sol==1)[0]])\n        tryq(np.where(sol==1)[0], smooth)",
      "metadata": {
        "trusted": true
      },
      "execution_count": null,
      "outputs": []
    },
    {
      "cell_type": "code",
      "source": "N = 2041\n\nst, smpr = prepareSieve(N,5)\n\nprint(f'start = ceil sqrt({N}) = {st}, small primes: {smpr}')\n\nsm, mt = findSmooth(len(smpr)+1, st, smpr)\n\nmakeFactor(sm,mt)",
      "metadata": {
        "trusted": true
      },
      "execution_count": null,
      "outputs": []
    },
    {
      "cell_type": "code",
      "source": "N = prime(100)*prime(103)\n\nst, smpr = prepareSieve(N,5)\n\nprint(f'start = ceil sqrt({N}) = {st}, small primes: {smpr}')\n\nsm, mt = findSmooth(len(smpr)+1, st, smpr)\n\nmakeFactor(sm,mt)",
      "metadata": {
        "trusted": true
      },
      "execution_count": null,
      "outputs": []
    },
    {
      "cell_type": "code",
      "source": "N = prime(100)*prime(150)\n\nst, smpr = prepareSieve(N,5)\n\nprint(f'start = ceil sqrt({N}) = {st}, small primes: {smpr}')\n\nsm, mt = findSmooth(len(smpr)+1, st, smpr)\n\nmakeFactor(sm,mt)",
      "metadata": {
        "trusted": true
      },
      "execution_count": null,
      "outputs": []
    },
    {
      "cell_type": "code",
      "source": "N = prime(500)*prime(1500)\n\nst, smpr = prepareSieve(N,5)\n\nprint(f'start = ceil sqrt({N}) = {st}, small primes: {smpr}')\n\nsm, mt = findSmooth(len(smpr)+1, st, smpr)\n\nmakeFactor(sm,mt)",
      "metadata": {
        "trusted": true
      },
      "execution_count": null,
      "outputs": []
    },
    {
      "cell_type": "code",
      "source": "N = prime(5000)*prime(15000)\n\nst, smpr = prepareSieve(N,6)\n\nprint(f'start = ceil sqrt({N}) = {st}, small primes: {smpr}')\n\nsm, mt = findSmooth(len(smpr)+1, st, smpr)\n\nmakeFactor(sm,mt)",
      "metadata": {
        "trusted": true
      },
      "execution_count": null,
      "outputs": []
    },
    {
      "cell_type": "code",
      "source": "N = 9788111\n\nst, smpr = prepareSieve(N,5)\n\nprint(f'start = ceil sqrt({N}) = {st}, small primes: {smpr}')\n\nsm, mt = findSmooth(len(smpr)+1, st, smpr)\n\nmakeFactor(sm,mt)",
      "metadata": {
        "trusted": true
      },
      "execution_count": null,
      "outputs": []
    }
  ]
}