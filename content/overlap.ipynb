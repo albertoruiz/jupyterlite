{
  "metadata": {
    "kernelspec": {
      "name": "python",
      "display_name": "Python (Pyodide)",
      "language": "python"
    },
    "language_info": {
      "codemirror_mode": {
        "name": "python",
        "version": 3
      },
      "file_extension": ".py",
      "mimetype": "text/x-python",
      "name": "python",
      "nbconvert_exporter": "python",
      "pygments_lexer": "ipython3",
      "version": "3.8"
    }
  },
  "nbformat_minor": 4,
  "nbformat": 4,
  "cells": [
    {
      "cell_type": "markdown",
      "source": "# Random Nonoverlapping Rectangles",
      "metadata": {}
    },
    {
      "cell_type": "code",
      "source": "import numpy as np\nimport matplotlib.pyplot as plt",
      "metadata": {
        "trusted": true
      },
      "execution_count": null,
      "outputs": []
    },
    {
      "cell_type": "markdown",
      "source": "Al construir cada rectángulo partiendo de su centro, dimensiones y ángulo, además de los cuatro vértices se calculan sus coordenadas homogéneas y las rectas definidas por cada lado mediante cross products, que por la orientación elegida dejan el interior del rectángulo como negativo.\n\nCon este rectángulo \"aumentado\" la función `disjoint` simplemente comprueba si alguna recta deja positivos los 4 vértices del otro rectángulo. Hay que hacerlo en las dos direcciones.",
      "metadata": {}
    },
    {
      "cell_type": "code",
      "source": "square = np.array([[-1,-1],[-1,1],[1,1],[1,-1],[-1,-1]])\n\ndef rot(angle):\n    c = np.cos(angle);\n    s = np.sin(angle);\n    return np.array([[c,-s],[s,c]])\n\n\nclass Rectangle:\n    def __init__(self, x, y, width, height, angle_deg):\n        self.x = x\n        self.y = y\n        self.width = width\n        self.height = height\n        self.angle_deg = angle_deg\n        aux = square * (width/2, height/2)\n        self.pts = aux @ rot(np.radians(angle_deg)).T + (x,y)\n        X,Y = self.pts.T\n        self.hpts = np.hstack([self.pts[:4],np.ones((4,1))])\n        self.lines = np.array( [np.cross([X[k],Y[k],1],[X[k+1],Y[k+1],1]) for k in range(4)] )\n\n\ndef disjoint(r1,r2):\n\n    def ok_line_pts(l,ps):\n        return np.all(l @ ps.T > 0)\n\n    def ok(lr1,pr2):\n        return np.any([ok_line_pts(l,pr2.hpts) for l in lr1.lines])\n\n    return ok(r1,r2) or ok(r2,r1)",
      "metadata": {
        "trusted": true
      },
      "execution_count": null,
      "outputs": []
    },
    {
      "cell_type": "markdown",
      "source": "El generador de configuraciones recibe una función que produce rectángulos aleatorios que se define por separado.",
      "metadata": {}
    },
    {
      "cell_type": "code",
      "source": "def generate(n, limit, random_rectangle):\n    good = []\n    for _ in range(limit):\n        if len(good) == n:\n            break\n\n        r = random_rectangle()\n\n        allok = True\n        for t in good:\n            if not disjoint(r,t):\n                allok = False\n                break\n        if allok:\n            good.append(r)\n\n    return good",
      "metadata": {
        "trusted": true
      },
      "execution_count": null,
      "outputs": []
    },
    {
      "cell_type": "code",
      "source": "def mkRandomRectangle(X,Y,W,H):\n    def fun():\n        x = np.random.randint(X)\n        y = np.random.randint(Y)\n        w = np.random.randint(1,W+1)\n        h = np.random.randint(1,H+1)\n        a = np.random.randint(0,360)\n        return Rectangle(x,y,w,h,a)\n    return fun",
      "metadata": {
        "trusted": true
      },
      "execution_count": null,
      "outputs": []
    },
    {
      "cell_type": "code",
      "source": "rects = generate(50,200, mkRandomRectangle(20,20,5,5))\n\nplt.figure(figsize=(8,8))\nplt.axis('equal')\n\nfor r in rects:\n    plt.fill(*r.pts.T, color='lightgray')\n    plt.plot(*r.pts.T, color='black')",
      "metadata": {
        "trusted": true
      },
      "execution_count": null,
      "outputs": []
    }
  ]
}