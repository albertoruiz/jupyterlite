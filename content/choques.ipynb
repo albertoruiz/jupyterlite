{
  "metadata": {
    "hide_input": false,
    "varInspector": {
      "cols": {
        "lenName": 16,
        "lenType": 16,
        "lenVar": 40
      },
      "kernels_config": {
        "python": {
          "delete_cmd_postfix": "",
          "delete_cmd_prefix": "del ",
          "library": "var_list.py",
          "varRefreshCmd": "print(var_dic_list())"
        },
        "r": {
          "delete_cmd_postfix": ") ",
          "delete_cmd_prefix": "rm(",
          "library": "var_list.r",
          "varRefreshCmd": "cat(var_dic_list()) "
        }
      },
      "types_to_exclude": [
        "module",
        "function",
        "builtin_function_or_method",
        "instance",
        "_Feature"
      ],
      "window_display": false
    },
    "kernelspec": {
      "name": "python",
      "display_name": "Python (Pyodide)",
      "language": "python"
    },
    "language_info": {
      "codemirror_mode": {
        "name": "python",
        "version": 3
      },
      "file_extension": ".py",
      "mimetype": "text/x-python",
      "name": "python",
      "nbconvert_exporter": "python",
      "pygments_lexer": "ipython3",
      "version": "3.8"
    }
  },
  "nbformat_minor": 4,
  "nbformat": 4,
  "cells": [
    {
      "cell_type": "markdown",
      "source": "# Colisiones",
      "metadata": {}
    },
    {
      "cell_type": "markdown",
      "source": "## Billar",
      "metadata": {}
    },
    {
      "cell_type": "code",
      "source": "import numpy as np\nimport matplotlib.pyplot as plt\n%matplotlib inline\nfrom matplotlib import animation, rc\nrc('animation', html='jshtml')\nrc('figure',figsize=(4,3))",
      "metadata": {
        "tags": [],
        "trusted": true
      },
      "execution_count": null,
      "outputs": []
    },
    {
      "cell_type": "code",
      "source": "z = np.array([[x,y] for y in [0.8, 0.6] for x in np.linspace(0.2,0.8,4)])\nn = z.size//2\n\nz[0] = 0.1,0.1\n\nv = 0*np.random.rand(n,2)\nv[0] = (1,3)\n\n\nR = 0.04*np.ones([n,1]) + 0.02*np.linspace(0,1,n).reshape(-1,1)\n\nR[0]=0.05\n\nm = (R**3).flatten()\n\ncolores = ['b', 'g', 'r', 'c', 'm', 'y', 'k','orange']\n\n\ndef choque(j,k,f=1):\n    global v\n    g = z[j]-z[k]\n    n = g/np.linalg.norm(g)\n\n    wj = n@v[j]\n    VJ = v[j] - wj*n\n\n    wk = n@v[k]\n    VK = v[k] - wk*n\n\n    A = m[j]*wj + m[k]*wk\n    M = m[j] + m[k]\n    d = wk-wj\n\n    nj = f*(A + m[k]*d) / M\n    nk = f*(A - m[j]*d) / M\n\n    v[j] = nj*n + VJ\n    v[k] = nk*n + VK\n\n\n\nfps = 30   # imágenes por segundo\nT   = 1    # tiempo total de simulación\n\n\ndt = 0.01\n\nfig, ax = plt.subplots(figsize=(4,4))\nplt.axis('off');\nplt.close();\n\nax.plot([1,0,0,1,1],[0,0,1,1,0],'-',color='black',lw=3)\n\n\ndr = [plt.Circle(z[k],R[k],color=colores[k%len(colores)]) for k in range(n)]\n\nfor c in dr:\n    ax.add_patch(c)\n\ndef animate(k):\n    global z, v\n    zs = z + v*dt\n    reb = (zs > 1-R) |  (zs < R)\n    v[reb] *= -1\n\n    for i in range(n-1):\n        for j in range(i+1,n):\n            if np.linalg.norm(zs[i] - zs[j]) < R[i]+R[j]:\n                choque(i,j)\n\n    z += v*dt\n\n    for k in range(n):\n        dr[k].center=z[k]\n\n    return []\n\nanimation.FuncAnimation(fig, animate, init_func=lambda:[], frames=T*fps, interval=1000/fps, blit=True, repeat=False)",
      "metadata": {
        "trusted": true
      },
      "execution_count": null,
      "outputs": []
    },
    {
      "cell_type": "markdown",
      "source": "## Distribución de Maxwell - Boltzmann",
      "metadata": {
        "heading_collapsed": true
      }
    },
    {
      "cell_type": "markdown",
      "source": "La [distribución de la energía](https://en.wikipedia.org/wiki/Maxwell%E2%80%93Boltzmann_distribution#Distribution_for_the_energy) es una chi-cuadrado cuya [distribución empírica](https://en.wikipedia.org/wiki/Chi-squared_distribution#Cumulative_distribution_function) en 2D tiene una forma analítica muy simple.",
      "metadata": {
        "hidden": true
      }
    },
    {
      "cell_type": "code",
      "source": "z = np.array([[x,y] for y in [0.7, 0.8, 0.9] for x in np.linspace(0.1,0.9,10)])\nn = z.size//2\n\nz[0] = 0.1,0.1\n\nv = 0*np.random.rand(n,2)\nv[0] = (1,3)\n\n\nR = 0.02 + 0.01*np.linspace(0,1,n).reshape(-1,1)\n\nR[0]=0.04\n\nm = (R**3).flatten()\n\nEt = m[0]*(v[0]@v[0])/2\nEm = Et/n\n\ncolores = ['b', 'g', 'r', 'c', 'm', 'y', 'k','orange']\n\n\n\ndt = 0.01\n\nfig = plt.figure(figsize=(10,5))\nfig.suptitle('Maxwell-Boltzmann distribution')\n\nax = fig.add_axes([0,0,0.5,1])\nax.set_xlim(-0.1,1.1)\nax.set_ylim(-0.1,1.1)\nax.set_axis_off();\nax2 = fig.add_axes([0.55,0.25,0.4,0.5])\nax2.set_title('Energy CDF')\n\nplt.close();\n\nax.plot([1,0,0,1,1],[0,0,1,1,0],'-',color='black',lw=3)\n\ncdf, = ax2.plot([],[],color='red')\ne = np.linspace(0,8,200)\nax2.plot(e/10,1-np.exp(-e/2),color='gray',ls='dashed')\n\ndr = [plt.Circle(z[k],R[k],color=colores[k%len(colores)]) for k in range(n)]\n\nfor c in dr:\n    ax.add_patch(c)\n\ndef animate(k):\n    global z, v\n    zs = z + v*dt\n    v [ (zs > 1-R) | (zs < R) ]  *= -1\n\n\n    for i in range(n-1):\n        for j in range(i+1,n):\n            if np.linalg.norm(zs[i] - zs[j]) < R[i]+R[j]:\n                choque(i,j)\n\n    z += v*dt\n\n    for k in range(n):\n        dr[k].center=z[k]\n\n    E = np.sum(v**2,axis=1)/2 * m\n\n    cdf.set_data(sorted(E/Em/5),np.linspace(0,1,n))\n\n    return []\n\n\n\nfps = 30\nT   = 1\n\nanimation.FuncAnimation(fig, animate, init_func=lambda:[], frames=T*fps, interval=1000/fps, blit=True, repeat=False)",
      "metadata": {
        "hidden": true,
        "trusted": true
      },
      "execution_count": null,
      "outputs": []
    },
    {
      "cell_type": "markdown",
      "source": "## Distribución de velocidades",
      "metadata": {
        "heading_collapsed": true
      }
    },
    {
      "cell_type": "code",
      "source": "from scipy.stats import norm, chi2, chi\n\nz = np.array([[x,y] for y in [0.6, 0.7, 0.8, 0.9] for x in np.linspace(0.1,0.9,10)])\nn = z.size//2\n\nv = np.zeros([n,2])\nv[:] = (1,0)\n\nv[0] += 0.001*np.random.randn(2) \n\n\nR = 0.02*np.ones([n,1])\n\nm = (R**3).flatten()\n\nEt = sum(np.sum(v**2,axis=1)/2 * m)\nEm = Et/n\n\nvdist = chi(2,scale=np.sqrt(Em/m[0]))\n\nprint('Em = {}, Vrms = {} = {}'.format(Em,np.sqrt(2*Em/m[0]), np.sqrt(vdist.moment(2))))\n\nprint('sigma = {}'.format(np.sqrt(Em/m[0])))\n\ncolores = ['darkgreen']\n\n\nfig = plt.figure(figsize=(10,5))\nfig.suptitle('2D Maxwell-Boltzmann distribution')\n\nax = fig.add_axes([0,0,0.5,1])\nax.set_xlim(-0.1,1.1)\nax.set_ylim(-0.1,1.1)\nax.set_axis_off();\n\nax2 = fig.add_axes([0.55,0.1,0.4,0.35])\nax2.set_title('Energy CDF')\n\nax3 = fig.add_axes([0.55,0.55,0.4,0.35])\nax3.set_title('Speed CDF')\n\nplt.close();\n\nax.plot([1,0,0,1,1],[0,0,1,1,0],'-',color='black',lw=3)\n\ncdf, = ax2.plot([],[],color='red')\ne = np.linspace(0,5,200)\nax2.plot(e,1-np.exp(-e),color='gray',ls='dashed')\n\nvcdf, = ax3.plot([],[],color='blue')\nax3.set_xlim(0,3)\nax3.set_ylim(-0.05,1.05)\nvv = np.linspace(0,5,200);\n\nax3.plot(vv,chi(2,scale=np.sqrt(Em/m[0])).cdf(vv),color='gray',ls='dashed');\n\n\ndr = [plt.Circle(z[k],R[k],color=colores[k%len(colores)]) for k in range(n)]\n\nfor c in dr:\n    ax.add_patch(c)\n\n\ndt = 0.01\n\n\ndef animate(k):\n    global z, v\n\n    zs = z + v*dt\n    v [ (zs > 1-R) | (zs < R) ]  *= -1\n\n    for i in range(n-1):\n        for j in range(i+1,n):\n            if np.linalg.norm(zs[i] - zs[j]) < R[i]+R[j]:\n                choque(i,j)\n\n    z += v*dt\n\n\n    for k in range(n):\n        dr[k].center=z[k]\n\n    E = np.sum(v**2,axis=1)/2 * m\n\n    cdf.set_data(sorted(E/Em),np.linspace(1/n,1,n))\n\n    #print(v[:,0].mean(),v[:,0].std())\n    V = np.sqrt(np.sum(v*v,axis=1))\n    #print(V.mean(), 4*Em/m[0], vdist.mean())\n\n    vcdf.set_data(sorted(V),np.linspace(1/n,1,n))\n\n    return []\n\n\nfps = 30\nT   = 1\n\nanimation.FuncAnimation(fig, animate, init_func=lambda:[], frames=T*fps, interval=1000/fps, blit=True, repeat=False)",
      "metadata": {
        "hidden": true,
        "trusted": true
      },
      "execution_count": null,
      "outputs": []
    },
    {
      "cell_type": "code",
      "source": "from scipy.stats import norm, chi2, chi\n\nz = np.array([[x,y] for y in [0.6, 0.7, 0.8, 0.9] for x in np.linspace(0.1,0.9,10)])\nn = z.size//2\n\nv = np.zeros([n,2])\nv[:] = (1,0)\n\nv[0] += 0.001*np.random.randn(2) \n\n\nR = 0.02*np.ones([n,1])\n\nm = (R**3).flatten()\n\nEt = sum(np.sum(v**2,axis=1)/2 * m)\nEm = Et/n\n\nvdist = chi(2,scale=np.sqrt(Em/m[0]))\n\nprint('Em = {}, Vrms = {} = {}'.format(Em,np.sqrt(2*Em/m[0]), np.sqrt(vdist.moment(2))))\n\nsigma = np.sqrt(Em/m[0])\n\nprint('sigma = {}'.format(sigma))\n\ncolores = ['darkgreen']\n\n\nfig = plt.figure(figsize=(10,5))\nfig.suptitle('2D Maxwell-Boltzmann distribution')\n\nax = fig.add_axes([0,0,0.5,1])\nax.set_xlim(-0.1,1.1)\nax.set_ylim(-0.1,1.1)\nax.set_axis_off();\n\nax2 = fig.add_axes([0.55,0.1,0.4,0.35])\nax2.set_title('$v_x$ CDF')\n\nax3 = fig.add_axes([0.55,0.55,0.4,0.35])\nax3.set_title('Speed CDF')\n\nplt.close();\n\nax.plot([1,0,0,1,1],[0,0,1,1,0],'-',color='black',lw=3)\n\ncdf, = ax2.plot([],[],color='red')\ne = np.linspace(-2,2,200)\nax2.plot(e,norm(scale=sigma).cdf(e),color='gray',ls='dashed')\n\nvcdf, = ax3.plot([],[],color='blue')\nax3.set_xlim(0,3)\nax3.set_ylim(-0.05,1.05)\nvv = np.linspace(0,5,200);\n\nax3.plot(vv,chi(2,scale=np.sqrt(Em/m[0])).cdf(vv),color='gray',ls='dashed');\n\n\ndr = [plt.Circle(z[k],R[k],color=colores[k%len(colores)]) for k in range(n)]\n\nfor c in dr:\n    ax.add_patch(c)\n\n\ndt = 0.01\n\ndef animate(k):\n    global z, v\n\n    zs = z + v*dt\n    v [ (zs > 1-R) | (zs < R) ]  *= -1\n\n    for i in range(n-1):\n        for j in range(i+1,n):\n            if np.linalg.norm(zs[i] - zs[j]) < R[i]+R[j]:\n                choque(i,j)\n\n\n    z += v*dt\n\n\n    for k in range(n):\n        dr[k].center=z[k]\n\n\n    cdf.set_data(sorted(v[:,0]),np.linspace(1/n,1,n))\n\n    V = np.sqrt(np.sum(v*v,axis=1))\n    vcdf.set_data(sorted(V),np.linspace(1/n,1,n))\n\n    return []\n\n\nfps = 30\nT   = 1\n\nanimation.FuncAnimation(fig, animate, init_func=lambda:[], frames=T*fps, interval=1000/fps, blit=True, repeat=False)",
      "metadata": {
        "hidden": true,
        "trusted": true
      },
      "execution_count": null,
      "outputs": []
    },
    {
      "cell_type": "markdown",
      "source": "## 3D velocidad",
      "metadata": {
        "heading_collapsed": true
      }
    },
    {
      "cell_type": "code",
      "source": "u = np.linspace(0.0, 2.0 * np.pi, 8)\nv = np.linspace(0.0, np.pi, 8)\nx_0 = np.outer(np.cos(u), np.sin(v))\ny_0 = np.outer(np.sin(u), np.sin(v))\nz_0 = np.outer(np.ones_like(u), np.cos(v))\n\ndef esfera(ax,pos,r):\n    x,y,z = pos\n    ax.plot_surface(x+x_0*r,y+y_0*r,z+z_0*r, cmap='gray');\n\nfrom mpl_toolkits.mplot3d import Axes3D",
      "metadata": {
        "hidden": true,
        "trusted": true
      },
      "execution_count": null,
      "outputs": []
    },
    {
      "cell_type": "code",
      "source": "from scipy.stats import norm, chi2, chi\n\nz = np.array([[x,y,z] for y in [0.6, 0.7, 0.8, 0.9] \n                        for x in np.linspace(0.1,0.9,10)\n                        for z in [0.7,0.8,0.9]])\nn = z.size//3\n\nv = np.zeros([n,3])\nv[:] = (1,0,0)\n\nv[:] += 0.01*np.random.randn(n,3) \n\n\nR = 0.03*np.ones([n,1])\n\nm = (R**3).flatten()\n\nEt = sum(np.sum(v**2,axis=1)/2 * m)\nEm = Et/n",
      "metadata": {
        "hidden": true,
        "trusted": true
      },
      "execution_count": null,
      "outputs": []
    },
    {
      "cell_type": "code",
      "source": "fig = plt.figure(figsize=(4,4))\nax = fig.add_axes([0,0,1,1], projection='3d')\nax.set_xlim(0,1); ax.set_ylim(0,1); ax.set_zlim(0,1)\nax.set_xlabel('X'); ax.set_ylabel('Y'); ax.set_zlabel('Z')\nax.view_init(azim=-40-110)\n\nfor p in z:  esfera(ax,p,0.03)",
      "metadata": {
        "hidden": true,
        "trusted": true
      },
      "execution_count": null,
      "outputs": []
    },
    {
      "cell_type": "code",
      "source": "dt = 0.01\n\ndef animate(k):\n    global z, v\n\n    zs = z + v*dt\n    v [ (zs > 1-R) | (zs < R) ]  *= -1\n\n    for i in range(n-1):\n        for j in range(i+1,n):\n            if np.linalg.norm(zs[i] - zs[j]) < R[i]+R[j]:\n                choque(i,j)\n\n\n    z += v*dt\n\n    ax.clear()\n    ax.set_xlim(0,1); ax.set_ylim(0,1); ax.set_zlim(0,1)\n    ax.view_init(azim=-150+k*45/300)\n\n    for p,r in zip (z,R):\n        esfera(ax,p,r)\n\n    return []\n\n\nfps = 30\nT   = 1\nanimation.FuncAnimation(fig, animate, init_func=lambda:[], frames=T*fps, interval=1000/fps, blit=True, repeat=False)",
      "metadata": {
        "hidden": true,
        "trusted": true
      },
      "execution_count": null,
      "outputs": []
    },
    {
      "cell_type": "code",
      "source": "from scipy.stats import norm, chi2, chi\n\nz = np.array([[x,y,z] for y in [0.6, 0.7, 0.8, 0.9] \n                        for x in np.linspace(0.1,0.9,10)\n                        for z in [0.25,0.5,0.75]])\nn = z.size//3\n\nv = np.zeros([n,3])\nv[:] = (1,0,0)\n\nv[:] += 0.2*np.random.randn(n,3) \n\n\nR = 0.02*np.ones([n,1])\n\nm = (R**3).flatten()\n\nEt = sum(np.sum(v**2,axis=1)/2 * m)\nEm = Et/n",
      "metadata": {
        "hidden": true,
        "trusted": true
      },
      "execution_count": null,
      "outputs": []
    },
    {
      "cell_type": "code",
      "source": "vdist = chi(2,scale=np.sqrt(Em/m[0]))\n\nprint('Em = {}, Vrms = {} = {}'.format(Em,np.sqrt(2*Em/m[0]), np.sqrt(vdist.moment(2))))\n\nsigma = np.sqrt(2/3*Em/m[0])\n\nprint('sigma = {}'.format(sigma))\n\ncolores = ['darkgreen']\n\n\nfig = plt.figure(figsize=(10,5))\nfig.suptitle('3D Maxwell-Boltzmann distribution')\n\nax = fig.add_axes([0,0,0.5,1])\nax.set_xlim(-0.1,1.1)\nax.set_ylim(-0.1,1.1)\nax.set_axis_off();\n\nax2 = fig.add_axes([0.55,0.1,0.4,0.35])\nax2.set_title('$v_x$ CDF')\n\nax3 = fig.add_axes([0.55,0.55,0.4,0.35])\nax3.set_title('Speed CDF')\n\n#plt.close();\n\nax.plot([1,0,0,1,1],[0,0,1,1,0],'-',color='black',lw=3)\n\ncdf, = ax2.plot([],[],color='red')\ne = np.linspace(-2,2,200)\nax2.plot(e,norm(scale=sigma).cdf(e),color='gray',ls='dashed')\nax2.plot(e,norm(scale=np.sqrt(Em/m[0])).cdf(e),color='gray',lw=0.5)\n\nvcdf, = ax3.plot([],[],color='blue')\nax3.set_xlim(0,3)\nax3.set_ylim(-0.05,1.05)\nvv = np.linspace(0,5,200);\n\nax3.plot(vv,chi(2,scale=np.sqrt(Em/m[0])).cdf(vv),color='gray',lw=0.5);\nax3.plot(vv,chi(3,scale=sigma).cdf(vv),color='gray',ls='dashed');\n\n\ndr = [plt.Circle(z[k][:2],R[k],color=colores[k%len(colores)], alpha=0.5) for k in range(n)]\n\nfor c in dr:\n    ax.add_patch(c)",
      "metadata": {
        "hidden": true,
        "trusted": true
      },
      "execution_count": null,
      "outputs": []
    },
    {
      "cell_type": "code",
      "source": "dt = 0.01\n\ndef animate(k):\n    global z, v\n\n    zs = z + v*dt\n    v [ (zs > 1-R) | (zs < R) ]  *= -1\n\n    for i in range(n-1):\n        for j in range(i+1,n):\n            if np.linalg.norm(zs[i] - zs[j]) < R[i]+R[j]:\n                choque(i,j)\n\n\n    z += v*dt\n\n\n    for k in range(n):\n        dr[k].center=z[k][:2]\n        dr[k].set_radius(0.01 + 0.03*z[k][2])\n\n\n    cdf.set_data(sorted(v[:,0]),np.linspace(1/n,1,n))\n\n    V = np.sqrt(np.sum(v*v,axis=1))\n    vcdf.set_data(sorted(V),np.linspace(1/n,1,n))\n\n    return []\n\n\nfps = 30\nT   = 1\n\nanimation.FuncAnimation(fig, animate, init_func=lambda:[], frames=T*fps, interval=1000/fps, blit=True, repeat=False)",
      "metadata": {
        "hidden": true,
        "trusted": true
      },
      "execution_count": null,
      "outputs": []
    },
    {
      "cell_type": "markdown",
      "source": "## 3D energía",
      "metadata": {
        "heading_collapsed": true
      }
    },
    {
      "cell_type": "markdown",
      "source": "Comparando con 2D.",
      "metadata": {
        "hidden": true
      }
    },
    {
      "cell_type": "code",
      "source": "from scipy.stats import norm, chi2, chi\n\nz = np.array([[x,y,z] for y in [0.6, 0.7, 0.8, 0.9] \n                        for x in np.linspace(0.1,0.9,10)\n                        for z in [0.25,0.5,0.75]])\nn = z.size//3\n\nv = np.zeros([n,3])\nv[:] = (1,0,0)\n\nv[:] += 0.2*np.random.randn(n,3) \n\n\nR = 0.02*np.ones([n,1])\n\nm = (R**3).flatten()\n\nEt = sum(np.sum(v**2,axis=1)/2 * m)\nEm = Et/n",
      "metadata": {
        "hidden": true,
        "trusted": true
      },
      "execution_count": null,
      "outputs": []
    },
    {
      "cell_type": "code",
      "source": "vdist = chi(2,scale=np.sqrt(Em/m[0]))\n\nprint('Em = {}, Vrms = {} = {}'.format(Em,np.sqrt(2*Em/m[0]), np.sqrt(vdist.moment(2))))\n\nsigma = np.sqrt(2/3*Em/m[0])\n\nprint('sigma = {}'.format(sigma))\n\ncolores = ['darkgreen']\n\n\nfig = plt.figure(figsize=(10,5))\nfig.suptitle('3D Maxwell-Boltzmann distribution')\n\nax = fig.add_axes([0,0,0.5,1])\nax.set_xlim(-0.1,1.1)\nax.set_ylim(-0.1,1.1)\nax.set_axis_off();\n\nax2 = fig.add_axes([0.55,0.1,0.4,0.8])\nax2.set_title('Energy CDF')\n\n#ax3 = fig.add_axes([0.55,0.55,0.4,0.35])\n#ax3.set_title('Speed CDF')\n\n#plt.close();\n\nax.plot([1,0,0,1,1],[0,0,1,1,0],'-',color='black',lw=3)\n\ncdf, = ax2.plot([],[],color='red')\ne = np.linspace(0,5,200)\nax2.plot(e,chi2(3,scale=1/3).cdf(e),color='gray',ls='dashed')\nax2.plot(e,chi2(2,scale=1/2).cdf(e),color='gray',lw=0.5)\n\n\n#vcdf, = ax3.plot([],[],color='blue')\n#ax3.set_xlim(0,3)\n#ax3.set_ylim(-0.05,1.05)\n#vv = np.linspace(0,5,200);\n\n#ax3.plot(vv,chi(2,scale=np.sqrt(Em/m[0])).cdf(vv),color='gray',lw=0.5);\n#ax3.plot(vv,chi(3,scale=sigma).cdf(vv),color='gray',ls='dashed');\n\n\ndr = [plt.Circle(z[k][:2],R[k],color=colores[k%len(colores)], alpha=0.5) for k in range(n)]\n\nfor c in dr:\n    ax.add_patch(c)",
      "metadata": {
        "hidden": true,
        "trusted": true
      },
      "execution_count": null,
      "outputs": []
    },
    {
      "cell_type": "code",
      "source": "dt = 0.01\n\ndef animate(k):\n    global z, v\n\n    zs = z + v*dt\n    v [ (zs > 1-R) | (zs < R) ]  *= -1\n\n    for i in range(n-1):\n        for j in range(i+1,n):\n            if np.linalg.norm(zs[i] - zs[j]) < R[i]+R[j]:\n                choque(i,j)\n\n\n    z += v*dt\n\n\n    for k in range(n):\n        #dr[k].center=z[k][:2]\n        dr[k].set_radius(0.01 + 0.03*z[k][2])\n\n\n    E = np.sum(v**2,axis=1)/2 * m    \n    cdf.set_data(sorted(E/Em),np.linspace(1/n,1,n))\n\n    return []\n\n\nfps = 30\nT   = 1\n\nanimation.FuncAnimation(fig, animate, init_func=lambda:[], frames=T*fps, interval=1000/fps, blit=True, repeat=False)",
      "metadata": {
        "hidden": true,
        "trusted": true
      },
      "execution_count": null,
      "outputs": []
    },
    {
      "cell_type": "markdown",
      "source": "## 3D reparto",
      "metadata": {
        "heading_collapsed": true
      }
    },
    {
      "cell_type": "code",
      "source": "from scipy.stats import norm, chi2, chi\nimport numpy.linalg as la\n\nz = np.array([[x,y,z] for y in [0.6, 0.7, 0.8, 0.9] \n                        for x in np.linspace(0.1,0.9,10)\n                        for z in [0.25,0.5,0.75]])\nn = z.size//3\n\nv = np.zeros([n,3])\nv[:] = (1,0,0)\n\nv[:] += 0.2*np.random.randn(n,3) \n\n\nR = 0.03*np.ones([n,1])\n\nm = (R**3).flatten()\n\nEt = sum(np.sum(v**2,axis=1)/2 * m)\nEm = Et/n\n\nfrac = []\nrep = []",
      "metadata": {
        "hidden": true,
        "trusted": true
      },
      "execution_count": null,
      "outputs": []
    },
    {
      "cell_type": "code",
      "source": "dt = 0.01\n\n\n\ndef choque(j,k,f=1):\n    global v, frac\n    g = z[j]-z[k]\n    n = g/la.norm(g)\n\n    wj = n@v[j]\n    VJ = v[j] - wj*n\n\n    wk = n@v[k]\n    VK = v[k] - wk*n\n\n    frac += [wj**2/la.norm(v[j])**2, wk**2/la.norm(v[k])**2]\n\n\n    A = m[j]*wj + m[k]*wk\n    M = m[j] + m[k]\n    d = wk-wj\n\n    nj = f*(A + m[k]*d) / M\n    nk = f*(A - m[j]*d) / M\n\n    v[j] = nj*n + VJ\n    v[k] = nk*n + VK\n\n\n\ndef animate(k):\n    global z, v\n\n    zs = z + v*dt\n    v [ (zs > 1-R) | (zs < R) ]  *= -1\n\n    for i in range(n-1):\n        for j in range(i+1,n):\n            if np.linalg.norm(zs[i] - zs[j]) < R[i]+R[j]:\n                E0i = m[i]*(v[i]@v[i])/2\n                E0j = m[j]*(v[j]@v[j])/2\n                choque(i,j)\n                E1i = m[i]*(v[i]@v[i])/2\n                E1j = m[j]*(v[j]@v[j])/2\n                rep.append([E0i/(E0i+E0j), E1i/(E1i+E1j)])\n\n\n    z += v*dt\n\nfrac = []\nrep  = []\n\nfor k in range(15*30):\n    animate(k)\n\n\nE = np.sum(v**2,axis=1)/2 * m    \nplt.plot(sorted(E/Em),np.linspace(1/n,1,n));\ne = np.linspace(0,5,200)\nplt.plot(e,chi2(3,scale=1/3).cdf(e),color='gray',ls='dashed');",
      "metadata": {
        "hidden": true,
        "trusted": true
      },
      "execution_count": null,
      "outputs": []
    },
    {
      "cell_type": "code",
      "source": "plt.figure(figsize=(6,6))\nplt.plot(np.arange(1,1+len(frac))/len(frac),sorted(frac))\nplt.plot(np.arange(1,1+len(frac))/len(frac),sorted(np.array(frac)**(1/2)),color='gray',lw=1)\nplt.plot([0,1],[0,1],color='gray', ls='dashed')\nplt.axis('equal');",
      "metadata": {
        "hidden": true,
        "trusted": true
      },
      "execution_count": null,
      "outputs": []
    },
    {
      "cell_type": "code",
      "source": "np.mean(frac)",
      "metadata": {
        "hidden": true,
        "trusted": true
      },
      "execution_count": null,
      "outputs": []
    },
    {
      "cell_type": "code",
      "source": "np.mean(np.array(frac)**(1/2))",
      "metadata": {
        "hidden": true,
        "trusted": true
      },
      "execution_count": null,
      "outputs": []
    },
    {
      "cell_type": "code",
      "source": "rep = np.array(rep)\nplt.figure(figsize=(5,5))\nplt.plot(rep[:,0],rep[:,1],'.',alpha=0.3);\nplt.grid();",
      "metadata": {
        "hidden": true,
        "trusted": true
      },
      "execution_count": null,
      "outputs": []
    },
    {
      "cell_type": "code",
      "source": "len(rep)",
      "metadata": {
        "hidden": true,
        "trusted": true
      },
      "execution_count": null,
      "outputs": []
    },
    {
      "cell_type": "markdown",
      "source": "En 2D. ",
      "metadata": {
        "hidden": true
      }
    },
    {
      "cell_type": "code",
      "source": "z = np.array([[x,y] for y in [0.6, 0.7, 0.8, 0.9] for x in np.linspace(0.1,0.9,10)])\nn = z.size//2\n\nv = np.zeros([n,2])\nv[:] = (1,0)\n\nv[:] += 0.2*np.random.randn(n,2) \n\n\nR = 0.02*np.ones([n,1])\n\n\nm = (R**3).flatten()\n\nEt = sum(np.sum(v**2,axis=1)/2 * m)\nEm = Et/n",
      "metadata": {
        "hidden": true,
        "trusted": true
      },
      "execution_count": null,
      "outputs": []
    },
    {
      "cell_type": "code",
      "source": "dt = 0.01\n\nrep = []\nfrac = []\n\ndef animate(k):\n    global z, v\n\n    zs = z + v*dt\n    v [ (zs > 1-R) | (zs < R) ]  *= -1\n\n    for i in range(n-1):\n        for j in range(i+1,n):\n            if np.linalg.norm(zs[i] - zs[j]) < R[i]+R[j]:\n                E0i = m[i]*(v[i]@v[i])/2\n                E0j = m[j]*(v[j]@v[j])/2\n                choque(i,j)\n                E1i = m[i]*(v[i]@v[i])/2\n                E1j = m[j]*(v[j]@v[j])/2\n                rep.append([E0i/(E0i+E0j), E1i/(E1i+E1j)])\n\n\n    z += v*dt\n\n\nfor k in range(60*30):\n    animate(k)\n\n\nE = np.sum(v**2,axis=1)/2 * m    \nplt.plot(sorted(E/Em),np.linspace(1/n,1,n));\ne = np.linspace(0,5,200)\nplt.plot(e,chi2(2,scale=1/2).cdf(e),color='gray',ls='dashed');",
      "metadata": {
        "hidden": true,
        "trusted": true
      },
      "execution_count": null,
      "outputs": []
    },
    {
      "cell_type": "code",
      "source": "plt.figure(figsize=(6,6))\nplt.plot(np.arange(1,1+len(frac))/len(frac),sorted(frac))\nplt.plot(np.arange(1,1+len(frac))/len(frac),sorted(np.array(frac)**(1/2)),color='gray',lw=1)\nplt.plot([0,1],[0,1],color='gray', ls='dashed')\nplt.axis('equal');",
      "metadata": {
        "hidden": true,
        "trusted": true
      },
      "execution_count": null,
      "outputs": []
    },
    {
      "cell_type": "code",
      "source": "np.mean(frac)",
      "metadata": {
        "hidden": true,
        "trusted": true
      },
      "execution_count": null,
      "outputs": []
    },
    {
      "cell_type": "code",
      "source": "rep = np.array(rep)\nplt.figure(figsize=(5,5))\nplt.plot(rep[:,0],rep[:,1],'.',alpha=0.3);\nplt.grid();",
      "metadata": {
        "hidden": true,
        "trusted": true
      },
      "execution_count": null,
      "outputs": []
    },
    {
      "cell_type": "code",
      "source": "len(rep)",
      "metadata": {
        "hidden": true,
        "trusted": true
      },
      "execution_count": null,
      "outputs": []
    },
    {
      "cell_type": "markdown",
      "source": "Hmm... curioso. No sé si estamos midiendo lo que queremos.",
      "metadata": {
        "hidden": true
      }
    },
    {
      "cell_type": "markdown",
      "source": "## Boltzmann",
      "metadata": {
        "heading_collapsed": true
      }
    },
    {
      "cell_type": "markdown",
      "source": "Cuando entidades que tienen energía media $E$ (o energía total $nE$) se emparejan al azar y se reparten su energía también al azar se alcanza la distribución de equilibrio de [Boltzmann](https://en.wikipedia.org/wiki/Boltzmann_distribution).\n\n$$ \\bar x = E $$\n\n$$p(x) = \\frac{1}{E} \\exp\\left( \\frac{-x}{E}\\right)$$\n\n$$P(x) = 1 - \\exp\\left( \\frac{-x}{E}\\right)$$\n\nEs muy fácil simular el proceso y comprobar que se alcanza la distribución de equilibrio.",
      "metadata": {
        "hidden": true
      }
    },
    {
      "cell_type": "code",
      "source": "n = 1000\nEm = 2\n\nE = Em*np.ones(n)\n\nT = 100*n\n\nfor _ in range(T):\n    i = np.random.randint(n)\n    j = np.random.randint(n)\n    if i!= j:\n        s = E[i]+E[j]\n        a = s*np.random.rand()\n        E[i] = a\n        E[j] = s-a\n\nplt.plot(sorted(E),(1+np.arange(n))/n);\ne = np.linspace(0,E.max(),200);\nplt.plot(e,1-np.exp(-e/Em));\nplt.vlines(x=Em,ymin=0,ymax=1,linestyles='dashed',color='gray',lw=1);\nplt.title('Maxwell-Boltzmann CDF'); plt.xlabel('$E$'); plt.ylabel('$P(x \\leq E)$'); ",
      "metadata": {
        "hidden": true,
        "trusted": true
      },
      "execution_count": null,
      "outputs": []
    },
    {
      "cell_type": "code",
      "source": "Emax = 5*Em\nbins = 20\nΔE = Emax/bins\n\nh,b = np.histogram(E,range=(0,Emax),bins=bins)\nb = (b[1:] + b[:-1])/2\nh = h/n/ΔE\nplt.bar(b,h,width=ΔE,edgecolor='black');\n\ne = np.linspace(0,Emax,100)\nf = np.exp(-e/Em) / Em\n\nplt.plot(e,f,lw=3,color='red');\nplt.vlines(x=Em,ymin=0,ymax=f[0],linestyles='dashed',color='gray')\nplt.title('Maxwell-Boltzmann PDF'); plt.xlabel('$E$'); plt.ylabel('$P(E)$'); ",
      "metadata": {
        "hidden": true,
        "trusted": true
      },
      "execution_count": null,
      "outputs": []
    },
    {
      "cell_type": "markdown",
      "source": "Para que el histograma quede bien la acumulada queda demasiado bien...",
      "metadata": {
        "hidden": true
      }
    },
    {
      "cell_type": "markdown",
      "source": "Veamos la evolución hacia el equilibrio. Hay 1000 cosas inicialmente ordenadas, todas con energía 1, que empiezan a interaccionar a un ritmo de 300 intercambios por segundo:",
      "metadata": {
        "hidden": true
      }
    },
    {
      "cell_type": "code",
      "source": "fig, ax = plt.subplots(figsize=(6,6))\nplt.close();\n\nn = 1000\nEm = 1\n\nE = Em*np.ones(n)\n\nEmax = 5*Em\nbins = 20\nΔE = Emax/bins\n\ne = np.linspace(0,Emax,100)\nf = np.exp(-e/Em) / Em\n\n\ndef animate(k):\n    global E\n\n    ax.clear()\n    ax.set_xlim(-0.1,Emax)\n    ax.set_ylim(0,1)\n    h,b = np.histogram(E,range=(0,Emax),bins=bins)\n    b = (b[1:] + b[:-1])/2\n    ax.bar(b,h,width=ΔE,edgecolor='black');\n    ax.set_xlim(0,Emax)\n    ax.set_ylim(0,1100 if k < 4*30 else 250)\n    ax.set_title('Boltzmann distribution'); ax.set_xlabel('E'); ax.set_ylabel('N(E)');\n    if k> 10*30:\n        ax.plot(e,n*Em*f*ΔE,lw=1,color='red');\n\n    for _ in range(10):\n        i = np.random.randint(n)\n        j = np.random.randint(n)\n        if i!= j:\n            s = E[i]+E[j]\n            a = s*np.random.rand()\n            E[i] = a\n            E[j] = s-a\n\n    return []\n\n\nfps = 30\nT   = 1 #15\nanimation.FuncAnimation(fig, animate, init_func=lambda:[], frames=T*fps, interval=1000/fps, blit=True)",
      "metadata": {
        "hidden": true,
        "trusted": true
      },
      "execution_count": null,
      "outputs": []
    },
    {
      "cell_type": "code",
      "source": "fig, ax = plt.subplots(figsize=(6,6))\nax.set_xticks(np.arange(0,100+1,20), minor=False)\nax.set_yticks(np.arange(0,100+1,20), minor=False)\n\nax.set_xticks(np.arange(0,100+1,4), minor=True)\nax.set_yticks(np.arange(0,100+1,4), minor=True)\n\n\nax.xaxis.grid(True, which='major',lw=2)\nax.xaxis.grid(True, which='minor',lw=0.5)\nax.yaxis.grid(True, which='major',lw=2)\nax.yaxis.grid(True, which='minor',lw=0.5)\n\n\nplt.plot(100*np.arange(1,n+1)/n, 100*np.cumsum(sorted(E,reverse=True))/ (Em*n), lw=2);\nplt.xlabel('rank (%)'); plt.ylabel('cumulative E (%)');",
      "metadata": {
        "hidden": true,
        "trusted": true
      },
      "execution_count": null,
      "outputs": []
    },
    {
      "cell_type": "markdown",
      "source": "O sea, que el 20% más rico acapara el 50% de la riqueza. No tanto como en una power law.",
      "metadata": {
        "hidden": true
      }
    },
    {
      "cell_type": "markdown",
      "source": "Ahora bien, en el caso de la energía cinética de un gas esta distribución de energía se consigue en un mundo 2D, donde esta exponencial es equivalente a una $\\chi^2(2)$. En 3D la densidad de estados da lugar a una $\\chi^2(3)$, que surge de un intercambio parcial de energía, equivalente a jugarte una proporción $\\alpha$. Experimentalmente hemos visto que las colisiones en 3D se reservan en promedio en 15% de su energía.",
      "metadata": {
        "hidden": true
      }
    },
    {
      "cell_type": "code",
      "source": "fig, ax = plt.subplots(figsize=(6,6))\nplt.close();\n\nn = 1000\nEm = 1\n\nE = Em*np.ones(n)\n\nEmax = 4*Em\nbins = 30\nΔE = Emax/bins\n\ne = np.linspace(0,Emax,100)\nf = chi2(8,scale=1/8/Em).pdf(e)\n\ndef animate(k):\n    global E\n\n    ax.clear()\n    ax.set_xlim(-0.1,Emax)\n    ax.set_ylim(0,1)\n    h,b = np.histogram(E,range=(0,Emax),bins=bins)\n    b = (b[1:] + b[:-1])/2\n    ax.bar(b,h,width=ΔE,edgecolor='black');\n    ax.set_xlim(0,Emax)\n    ax.set_ylim(0,1100 if k < 4*30 else 175)\n    #ax.set_title('Boltzmann distribution');\n    ax.set_xlabel('E'); ax.set_ylabel('N(E)');\n    if k > 10*30:\n        ax.plot(e,n*Em*f*ΔE,lw=1,color='red');\n\n    for _ in range(10):\n        i = np.random.randint(n)\n        j = np.random.randint(n)\n        if i!= j:\n            s = E[i]/2+E[j]/2\n            a = s*np.random.rand()\n            E[i] = E[i]/2 + a\n            E[j] = E[j]/2 + s-a\n\n    return []\n\n\nfps = 30\nT   = 1 #15\nanimation.FuncAnimation(fig, animate, init_func=lambda:[], frames=T*fps, interval=1000/fps, blit=True)",
      "metadata": {
        "hidden": true,
        "trusted": true
      },
      "execution_count": null,
      "outputs": []
    },
    {
      "cell_type": "code",
      "source": "fig, ax = plt.subplots(figsize=(6,6))\nplt.close();\n\nn = 1000\nEm = 1\n\nE = Em*np.ones(n)\n\nEmax = 4*Em\nbins = 30\nΔE = Emax/bins\n\ne = np.linspace(0,Emax,100)\nf = chi2(3,scale=1/3/Em).pdf(e)\n\nalpha = 6/7\n\ndef animate(k):\n    global E\n\n    ax.clear()\n    ax.set_xlim(-0.1,Emax)\n    ax.set_ylim(0,1)\n    h,b = np.histogram(E,range=(0,Emax),bins=bins)\n    b = (b[1:] + b[:-1])/2\n    ax.bar(b,h,width=ΔE,edgecolor='black');\n    ax.set_xlim(0,Emax)\n    ax.set_ylim(0,1100 if k < 4*30 else 120)\n    ax.set_title('Maxwell-Boltzmann distribution');\n    ax.set_xlabel('E'); ax.set_ylabel('N(E)');\n    if k > 10*30:\n        ax.plot(e,n*Em*f*ΔE,lw=1,color='red');\n\n    for _ in range(10):\n        i = np.random.randint(n)\n        j = np.random.randint(n)\n        if i!= j:\n            s = (E[i]+E[j])*alpha\n            a = s*np.random.rand()\n            E[i] = E[i]*(1-alpha) + a\n            E[j] = E[j]*(1-alpha) + s-a\n\n    return []\n\n\nfps = 30\nT   = 1 #20\nanimation.FuncAnimation(fig, animate, init_func=lambda:[], frames=T*fps, interval=1000/fps, blit=True)",
      "metadata": {
        "hidden": true,
        "trusted": true
      },
      "execution_count": null,
      "outputs": []
    },
    {
      "cell_type": "code",
      "source": "%%time\n\nalpha = 0.5\nE[:] = 1\n\nfor _ in range(10*20*30):\n        i = np.random.randint(n)\n        j = np.random.randint(n)\n        if i!= j:\n            s = (E[i]+E[j])*alpha\n            a = s*np.random.rand()\n            E[i] = E[i]*(1-alpha) + a\n            E[j] = E[j]*(1-alpha) + s-a",
      "metadata": {
        "hidden": true,
        "trusted": true
      },
      "execution_count": null,
      "outputs": []
    },
    {
      "cell_type": "code",
      "source": "plt.plot(e,chi2(8,scale=1/8).cdf(e))\nplt.plot(sorted(E),np.arange(1,n+1)/n);",
      "metadata": {
        "hidden": true,
        "trusted": true
      },
      "execution_count": null,
      "outputs": []
    },
    {
      "cell_type": "markdown",
      "source": "Parece que la proporción de energía que se pone en juego en 3D está cerca del 85%, frente al 100% en 2D.",
      "metadata": {
        "hidden": true
      }
    },
    {
      "cell_type": "markdown",
      "source": "Me sale algo parecido a lo siguiente, pero no encuentro una regla clara. Con $\\alpha$ pequeño se va a un dof grande, que se aproxima a una gaussiana.\n\n    dof:    2  3     4     5        8\n    alpha:  1  0.85  3/4   2/3      1/2",
      "metadata": {
        "hidden": true
      }
    },
    {
      "cell_type": "markdown",
      "source": "Investigando un poco encontramos [un paper](https://arxiv.org/pdf/0905.1518.pdf) sobre *econophysics*, donde intenta modelar la distribución de dinero, riqueza, desigualdad, etc. con modelos de física estadística. Resulta que el proceso de jugarse en la interacción una fracción ya se ha estudiado y han encontrado la relación entre el factor de retención $\\lambda = 1 - \\alpha$ nuestro y los grados de libertad de la $\\chi^2(k)$. El resultado, se simplifica a\n\n$$\\lambda = \\frac{k-2}{k+4}$$\n\nque cuadra con lo que habíamos encontrado empíricamente y además nos ajusta perfectamente el caso de 3 dof.\n\n    k     :   1   2   3    4    5    6    7     8    9    10\n    lambda: -1/5  0  1/7  1/4  1/3  2/5  5/11  1/2  7/13  4/7\n\nAsí pues, la densidad de estados 3D, o degeneración, corresponde a guardarte en promedio la proporción de energía 1/7 = {{1/7}}, muy próximo al valor empírico. Repetimos el vídeo con este valor.",
      "metadata": {
        "hidden": true
      }
    },
    {
      "cell_type": "markdown",
      "source": "Otro modelo de interacción discreto con el mismo resultado consiste en elegir un donante y receptor al azar y mover una unidad.",
      "metadata": {
        "hidden": true
      }
    },
    {
      "cell_type": "code",
      "source": "n = 50\nEm = 10\nE = Em*np.ones(n)",
      "metadata": {
        "hidden": true,
        "trusted": true
      },
      "execution_count": null,
      "outputs": []
    },
    {
      "cell_type": "code",
      "source": "for _ in range(100*n):\n    i = np.random.randint(n)\n    j = np.random.randint(n)\n    if i!= j and E[i] > 0:\n        E[i] -= 1\n        E[j] += 1\n\nplt.hist(E,bins=20,range=(0,40));",
      "metadata": {
        "tags": [],
        "trusted": true
      },
      "execution_count": null,
      "outputs": []
    },
    {
      "cell_type": "markdown",
      "source": "En principio sabemos que un estado con energía $x$ debe tener una probabilidad **proporcional** a $\\exp(-x a)$. Esto es debido a que \"conseguir\" una energía $x_1+x_2$ debe ser igual de probable que conseguir $x_1$ e independientemente también $x_2$, lo que implica que la probabilidad de la suma debe ser el producto de las probabilidades individuales. Y esto solo lo cumple la exponencial.\n\nPero la probabilidad (o densidad) exacta requiere normalizar. Y para ello ¡hay que saber cuántos estados hay con una cierta energía! No puedes suponer que todas tienen el mismo peso. En el ejemplo anterior, cada energía solo se puede tener de una manera, es directamente una propiedad de la partícula. La normalización sale directamente y es la energía media.\n\nPero cuando la energía se puede tener de diferentes maneras: p. ej., moviéndose a la misma velocidad en diferentes direcciones del espacio, entonces la *densidad de estados* sí cambia y hay que tenerlo en cuenta.\n\n>All that is needed is to discover the density of microstates in energy, which is determined by dividing up momentum space into equal sized regions\n\nDe ahí la importancia de la función de partición, no es normalizar una función, sino saber cómo normalizarla dependiendo del sistema en cuestión.",
      "metadata": {
        "hidden": true
      }
    },
    {
      "cell_type": "markdown",
      "source": "Veamos la diferencia entre un sistema 2D y otro 3D.\n\nSiempre tendremos\n\n$$A \\exp \\left(\\frac{-e}{E}\\right) $$\n\n$$e=\\frac{p^2}{2m}\\;\\;\\; p=\\sqrt{2me}$$\n\n$$de = \\frac{p}{m} dp\\;\\; dp = \\sqrt{\\frac{m}{2e}}de $$\n\nLas regiones que corresponden a un $de$:\n\n$$dp^3 = 4 \\pi p^2 dp$$\n\n$$dp^2 = 2 \\pi p dp$$\n\n$$A \\exp \\left(\\frac{-e}{E}\\right) dp^3 = A \\exp \\left(\\frac{-e}{E}\\right) 4 \\pi p^2 dp=$$\n\n$$= A \\exp \\left(\\frac{-e}{E}\\right) 4 \\pi (2me) \\sqrt{\\frac{m}{2e}}de\\; \\propto \\exp \\left(\\frac{-e}{E}\\right) \\sqrt{e}\\;de$$\n\nLa normalización me da:\n\n$$p(e) = \\frac{2}{\\sqrt{\\pi E^3}}\\, \\exp \\left(\\frac{-e}{E}\\right) \\sqrt{e} $$\n\nEs una Chi-cuadrado de 3dof. Podemos comprobar en Wolfram Alpha o como queramos, que $p(e)$ está correctamente normalizada y que, curiosamente:\n\n$$\\int_0^\\infty e p(e) de = \\frac{3}{2}E$$\n\n(Esto tengo que mirarlo bien). El tres puede venir de la media de la chi2(3), lo que da 1/2 de la energía media \"de la otra\" por dof, de acuerdo con equipartición de energía.\n\nPara la velocidad...",
      "metadata": {
        "hidden": true
      }
    },
    {
      "cell_type": "markdown",
      "source": "Veamos qué ocurre en 2D:\n\n$$A \\exp \\left(\\frac{-e}{E}\\right) dp^2 = A \\exp \\left(\\frac{-e}{E}\\right)2 \\pi p dp=$$\n\n$$= A \\exp \\left(\\frac{-e}{E}\\right) 2 \\pi \\sqrt{2me} \\sqrt{\\frac{m}{2e}}de\\; \\propto \\exp \\left(\\frac{-e}{E}\\right) \\;de$$\n\nLa normalización me da:\n\n$$p(e) = \\frac{1}{E^2}\\, \\exp \\left(\\frac{-e}{E}\\right) $$\n\nAquí la dependencia de $e$ que podría acompañar a la exponencial se cancela, y los 2 grados de libertad hacen que la densidad de estados sea constante. Queda igual que Boltzmann, con normalización y media igual a $E$. Es curioso, supongo. Es una chi2 con 2dof, escalada a la mitad o doble para cuadrar la media.",
      "metadata": {
        "hidden": true
      }
    },
    {
      "cell_type": "markdown",
      "source": "## Maxwell",
      "metadata": {
        "heading_collapsed": true
      }
    },
    {
      "cell_type": "markdown",
      "source": "Si las componentes de la velocidad en cada eje son independientes y su probabilidad solo depende de su magnitud nos sale una gaussiana multidimensional producto de 3 iguales. Este argumento es muy potente, el mismo que se utiliza para la distribución de los errores.\n\n$$p(v_x) = \\frac{1}{\\sqrt{2\\pi} \\sigma} \\exp\\left(-\\frac{1}{2}\\frac{v_x^2}{ \\sigma^2} \\right)$$\n\n$$p(v_x,v_y,v_z) = \\frac{1}{(\\sqrt{2\\pi} \\sigma)^3} \\exp\\left(-\\frac{1}{2}\\frac{v_x^2 + v_y^2 + v_z^2}{ \\sigma^2} \\right)$$\n\nEn esféricas y marginalizando los ángulos:\n\n$$p(v,\\theta,\\phi) \\mathop{dV} = \\frac{1}{(\\sqrt{2\\pi} \\sigma)^3} \\exp\\left(-\\frac{1}{2}\\frac{v^2}{ \\sigma^2} \\right) \\; v^2 \\sin{\\theta}\\mathop {dv} \\mathop{d\\theta} \\mathop{d\\phi}$$\n\n$$p(v) =  \\frac{1}{(\\sqrt{2\\pi} \\sigma)^3} \\exp\\left(-\\frac{1}{2}\\frac{v^2}{ \\sigma^2} \\right) v^2 \\int_0^{2\\pi} d\\phi \\int_0^{\\pi} \\sin(\\theta)\\mathop{d\\phi}$$\n\n$$p(v) =  \\frac{4 \\pi}{(\\sqrt{2\\pi} \\sigma)^3}\\,  v^2 \\, \\exp\\left(-\\frac{1}{2}\\frac{v^2}{ \\sigma^2} \\right) $$\n\n$$\\bar v = 2 \\sqrt{\\frac{2}{\\pi}} \\sigma   \\; \\; \\; \\; \\; \\bar{v^2}= 3\\sigma^2$$\n\nCambiando de variable para la energía cinética:\n\n$$e = \\frac{1}{2} m v^2 \\; \\; \\; \\; v = \\sqrt{\\frac{2e}{m}}\\; \\; \\; \\; dv = \\frac{1}{\\sqrt{2me}}\\mathop{de} $$\n\n\n$$p(e) =  \\frac{4 \\pi}{(\\sqrt{2\\pi} \\sigma)^3}\\,  \\frac{2e}{m} \\, \\exp\\left(-\\frac{1}{2}\\frac{ \\frac{2e}{m}}{ \\sigma^2} \\right) \\frac{1}{\\sqrt{2me}}  =  \\frac{2}{\\sqrt{\\pi}\\sigma^3}   \\frac{1}{m^{\\frac{3}{2}}} \\, \\exp\\left(-\\frac{1}{2}\\frac{ e}{ \\frac{1}{2} m \\sigma^2} \\right) \\sqrt{e} = $$\n\n$$ = \\frac{1}{\\sqrt{2 \\pi}\\left( \\frac{1}{2}m\\sigma^2 \\right)^\\frac{3}{2}} \\, \\exp\\left(-\\frac{1}{2}\\frac{ e}{ \\frac{1}{2} m \\sigma^2} \\right) \\sqrt{e} $$\n\n$$\\bar e = \\int_0^\\infty e p(e) de = \\frac{3}{2} m\\sigma^2$$\n\nEn 2D:\n\n$$p(v_x,v_y,v_z) = \\frac{1}{(\\sqrt{2\\pi} \\sigma)^2} \\exp\\left(-\\frac{1}{2}\\frac{v_x^2 + v_y^2}{ \\sigma^2} \\right)$$\n\n$$p(v,\\theta) \\mathop{dS} = \\frac{1}{(\\sqrt{2\\pi} \\sigma)^2} \\exp\\left(-\\frac{1}{2}\\frac{v^2}{ \\sigma^2} \\right) \\; v  \\sin{\\theta}\\mathop {dv} \\mathop{d\\theta} $$\n\n$$p(v)  = \\frac{2\\pi}{(\\sqrt{2\\pi} \\sigma)^2} \\,  v \\, \\exp\\left(-\\frac{1}{2}\\frac{v^2}{ \\sigma^2} \\right) = \\frac{1}{\\sigma^2} \\,  v \\, \\exp\\left(-\\frac{1}{2}\\frac{v^2}{ \\sigma^2} \\right)$$\n\n$$\\bar v = \\sqrt{\\frac{\\pi}{2}} \\sigma   \\; \\; \\; \\; \\; \\bar{v^2}= 2\\sigma^2$$\n\nLa energía en este caso es:\n\n$$p(e)  = \\frac{1}{\\sigma^2} \\,  \\,  \\sqrt{\\frac{2e}{m}}\\, \\exp\\left(-\\frac{1}{2}\\frac{ \\frac{2e}{m}}{ \\sigma^2} \\right) \\frac{1}{\\sqrt{2me}} = \\frac{1}{2 \\frac{1}{2} m \\sigma^2} \\, \\exp\\left(-\\frac{1}{2}\\frac{ e}{ \\frac{1}{2} m \\sigma^2} \\right)$$\n\n$$\\bar e = \\int_0^\\infty e p(e) de = \\frac{2}{2} m\\sigma^2$$",
      "metadata": {
        "hidden": true
      }
    },
    {
      "cell_type": "markdown",
      "source": "Viendo la expresión para $\\bar {v^2}$ de teoría cinética del gas ideal podemos expresar la variabilidad $\\sigma$ de la velocidad en cada dimensión con K y T. Pero sobre todo, podemos relacionarla con la energía media (y total).\n\nEn 3D es\n\n$$\\sigma^2 = \\frac{KT}{m} = \\frac{2}{3}\\frac{\\bar e}{m}$$\n\nY en 2D:\n\n$$\\sigma^2 = \\frac{KT}{m} = \\frac{\\bar e}{m}$$\n\nEs muy interesante: hacemos una simulación de partículas en una caja con choques elásticos, poniendo las velocidades inciales que queramos. Por tanto, tenemos la energía media y con ella completamente caracterizada la distribución de velocidades, cuando llegue al equilibrio, lo cual normalmente sucederá pronto.\n\nEntonces podemos predecir la velocidad media (y todo lo demás), a partir de es simple $\\sigma$ que la caracteriza. Pero ojo, no es trivial: ¡depende de la dimensión del espacio!\n\nUna posible forma de pensar en la entropía: La distribución de energía y de $\\bar{v^2}$, aunque va cambiando, típicamente desde una configuración ordenada hasta el equilibrio, siempre tiene la misma media. Pero las de las v magnitud o marginal no.",
      "metadata": {
        "hidden": true
      }
    },
    {
      "cell_type": "markdown",
      "source": "La diferencia entre 2D y 3D para la misma energía media-total no es mucha pero se nota:",
      "metadata": {
        "hidden": true
      }
    },
    {
      "cell_type": "code",
      "source": "e = np.linspace(0,5,100)\nplt.plot(e,chi2(2,scale=1/2).cdf(e),label='2dof / Boltmann');\nplt.plot(e,chi2(3,scale=1/3).cdf(e),label='3dof / Maxwell-Boltmann');\nplt.legend();",
      "metadata": {
        "hidden": true,
        "trusted": true
      },
      "execution_count": null,
      "outputs": []
    },
    {
      "cell_type": "code",
      "source": "e = np.linspace(0,5,100)\nplt.plot(e,chi2(2,scale=1/2).pdf(e),label='2dof / Boltmann');\nplt.plot(e,chi2(3,scale=1/3).pdf(e),label='3dof / Maxwell-Boltmann');\nplt.legend();",
      "metadata": {
        "hidden": true,
        "trusted": true
      },
      "execution_count": null,
      "outputs": []
    }
  ]
}