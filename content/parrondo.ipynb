{
  "metadata": {
    "kernelspec": {
      "name": "python",
      "display_name": "Python (Pyodide)",
      "language": "python"
    },
    "language_info": {
      "codemirror_mode": {
        "name": "python",
        "version": 3
      },
      "file_extension": ".py",
      "mimetype": "text/x-python",
      "name": "python",
      "nbconvert_exporter": "python",
      "pygments_lexer": "ipython3",
      "version": "3.8"
    }
  },
  "nbformat_minor": 4,
  "nbformat": 4,
  "cells": [
    {
      "cell_type": "markdown",
      "source": "# Parrondo paradox (WIP)",
      "metadata": {}
    },
    {
      "cell_type": "markdown",
      "source": "Consider a game in which you bet the $f\\%$ of your wealth with probabilty $p$ of winning, and play it $n$ times. The expected value is:",
      "metadata": {}
    },
    {
      "cell_type": "markdown",
      "source": "$$E\\{F_n\\} = F_0\\,[p(1+f)+(1-p)(1-f)]^n$$",
      "metadata": {}
    },
    {
      "cell_type": "markdown",
      "source": "With $p = 0.51$ and $f=0.05$ the expected value of $F_{1000} \\simeq 2.717 F_0$, but the median is just $0.778F_0$.",
      "metadata": {}
    },
    {
      "cell_type": "code",
      "source": "import numpy as np\nimport matplotlib.pyplot as plt",
      "metadata": {
        "trusted": true
      },
      "execution_count": null,
      "outputs": []
    },
    {
      "cell_type": "code",
      "source": "def fig(w,h):\n    plt.figure(figsize=(w,h))\n    plt.axis('equal');\n    plt.axis('off');",
      "metadata": {
        "trusted": true
      },
      "execution_count": null,
      "outputs": []
    },
    {
      "cell_type": "code",
      "source": "def play(n,f,p):\n    v = np.random.choice([1+f,1-f],p=[p,1-p],size=n)\n    return np.prod(v)\n\ndef experiment(trials, n, f, p):\n    r = [play(n, f, p) for _ in range(trials)]\n    print(f\"median = {np.median(r)}\")\n    print(f\"mean   = {np.mean(r)}\")\n    plt.hist(r, density=True, bins=np.linspace(0,10,30))",
      "metadata": {
        "trusted": true
      },
      "execution_count": null,
      "outputs": []
    },
    {
      "cell_type": "code",
      "source": "experiment(10000, 1000, 0.05, 0.51)",
      "metadata": {
        "trusted": true
      },
      "execution_count": null,
      "outputs": []
    },
    {
      "cell_type": "code",
      "source": "def medlog(n,f,p):\n    return np.exp((p*np.log(1+f) + (1-p)*np.log(1-f))*n)",
      "metadata": {
        "trusted": true
      },
      "execution_count": null,
      "outputs": []
    },
    {
      "cell_type": "code",
      "source": "medlog(1000, 0.05, 0.51)",
      "metadata": {
        "trusted": true
      },
      "execution_count": null,
      "outputs": []
    },
    {
      "cell_type": "code",
      "source": "def play2(n,f,p):\n    v = np.random.choice([np.log(1+f),np.log(1-f)],p=[p,1-p],size=n)\n    #print(v)\n    return np.sum(v)\n\ndef experiment2(trials, n, f, p):\n    r = [play2(n, f, p) for _ in range(trials)]\n    print(f\"mean       = {np.mean(r)}\")\n    print(f\"exp mean   = {np.exp(np.mean(r))}\")\n    #plt.hist(r, density=True, bins=np.linspace(0,10,30))",
      "metadata": {
        "trusted": true
      },
      "execution_count": null,
      "outputs": []
    },
    {
      "cell_type": "code",
      "source": "play2(10, 0.05, 0.51)",
      "metadata": {
        "trusted": true
      },
      "execution_count": null,
      "outputs": []
    },
    {
      "cell_type": "code",
      "source": "experiment2(10000, 1000, 0.05, 0.51)",
      "metadata": {
        "trusted": true
      },
      "execution_count": null,
      "outputs": []
    },
    {
      "cell_type": "code",
      "source": "medlog(1000, 0.06, 0.51)",
      "metadata": {
        "trusted": true
      },
      "execution_count": null,
      "outputs": []
    },
    {
      "cell_type": "code",
      "source": "experiment2(10000, 1000, 0.06, 0.51)",
      "metadata": {
        "trusted": true
      },
      "execution_count": null,
      "outputs": []
    },
    {
      "cell_type": "code",
      "source": "experiment(10000, 1000, 0.06, 0.51)",
      "metadata": {
        "trusted": true
      },
      "execution_count": null,
      "outputs": []
    },
    {
      "cell_type": "code",
      "source": "medlog(200, 0.2, 0.53)",
      "metadata": {
        "trusted": true
      },
      "execution_count": null,
      "outputs": []
    },
    {
      "cell_type": "code",
      "source": "experiment2(10000, 200, 0.2, 0.53)",
      "metadata": {
        "trusted": true
      },
      "execution_count": null,
      "outputs": []
    },
    {
      "cell_type": "code",
      "source": "experiment(10000, 200, 0.2, 0.53)",
      "metadata": {
        "trusted": true
      },
      "execution_count": null,
      "outputs": []
    },
    {
      "cell_type": "code",
      "source": "medlog(20, 0.2, 0.53)",
      "metadata": {
        "trusted": true
      },
      "execution_count": null,
      "outputs": []
    },
    {
      "cell_type": "code",
      "source": "experiment2(10000, 20, 0.2, 0.53)",
      "metadata": {
        "trusted": true
      },
      "execution_count": null,
      "outputs": []
    },
    {
      "cell_type": "code",
      "source": "experiment(10000, 20, 0.2, 0.53)",
      "metadata": {
        "trusted": true
      },
      "execution_count": null,
      "outputs": []
    },
    {
      "cell_type": "code",
      "source": "def play3(n,f,p):\n    t1 = t2 = 1/2\n    for k in range(n//2):\n        v1,v2 = np.random.choice([(1+f),(1-f)],p=[p,1-p],size=2)\n        t1 *= v1\n        t2 *= v2\n        t1 = t2 = (t1+t2)/2\n    return t1+t2\n\ndef experiment3(trials, n, f, p):\n    r = [play3(n, f, p) for _ in range(trials)]\n    print(f\"median   = {np.median(r)}\")\n    print(f\"mean     = {np.mean(r)}\")\n    plt.hist(r, density=True, bins=np.linspace(0,10,30))",
      "metadata": {
        "trusted": true
      },
      "execution_count": null,
      "outputs": []
    },
    {
      "cell_type": "code",
      "source": "play3(1000,0.05,0.51)",
      "metadata": {
        "trusted": true
      },
      "execution_count": null,
      "outputs": []
    },
    {
      "cell_type": "code",
      "source": "play(1000,0.05,0.51)",
      "metadata": {
        "trusted": true
      },
      "execution_count": null,
      "outputs": []
    },
    {
      "cell_type": "code",
      "source": "experiment3(1000,1000,0.05,0.51)",
      "metadata": {
        "trusted": true
      },
      "execution_count": null,
      "outputs": []
    },
    {
      "cell_type": "code",
      "source": "experiment(1000,1000,0.05,0.51)",
      "metadata": {
        "trusted": true
      },
      "execution_count": null,
      "outputs": []
    }
  ]
}