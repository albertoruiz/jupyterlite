{
  "metadata": {
    "language_info": {
      "codemirror_mode": {
        "name": "python",
        "version": 3
      },
      "file_extension": ".py",
      "mimetype": "text/x-python",
      "name": "python",
      "nbconvert_exporter": "python",
      "pygments_lexer": "ipython3",
      "version": "3.8"
    },
    "kernelspec": {
      "name": "python",
      "display_name": "Python (Pyodide)",
      "language": "python"
    }
  },
  "nbformat_minor": 4,
  "nbformat": 4,
  "cells": [
    {
      "cell_type": "markdown",
      "source": "# How Gauss Determined de Orbit of Ceres\n\nJ. Tennenbaum and B. Director, 1998 [[pdf](https://archive.schillerinstitute.com/fidelio_archive/1998/fidv07n02-1998Su/fidv07n02-1998Su_004-how_gauss_determined_the_orbit_o.pdf)]",
      "metadata": {}
    },
    {
      "cell_type": "markdown",
      "source": "## Experimental Data",
      "metadata": {}
    },
    {
      "cell_type": "markdown",
      "source": "### Sun",
      "metadata": {
        "tags": []
      }
    },
    {
      "cell_type": "markdown",
      "source": "Three positions of the Sun for estimation of Earth's orbit",
      "metadata": {}
    },
    {
      "cell_type": "markdown",
      "source": "![sun](https://raw.githubusercontent.com/albertoruiz/jupyterlite/main/data/ceres/sun-jul.png)",
      "metadata": {}
    },
    {
      "cell_type": "markdown",
      "source": "![sun](https://raw.githubusercontent.com/albertoruiz/jupyterlite/main/data/ceres/sun-aug.png)",
      "metadata": {}
    },
    {
      "cell_type": "markdown",
      "source": "![sun](https://raw.githubusercontent.com/albertoruiz/jupyterlite/main/data/ceres/sun-sep.png)",
      "metadata": {}
    },
    {
      "cell_type": "markdown",
      "source": "### Ceres",
      "metadata": {
        "tags": []
      }
    },
    {
      "cell_type": "markdown",
      "source": "Three geocentric positions and additional test point:",
      "metadata": {}
    },
    {
      "cell_type": "markdown",
      "source": "![ceres](https://raw.githubusercontent.com/albertoruiz/jupyterlite/main/data/ceres/ceres-jul.png)",
      "metadata": {}
    },
    {
      "cell_type": "markdown",
      "source": "![ceres](https://raw.githubusercontent.com/albertoruiz/jupyterlite/main/data/ceres/ceres-aug.png)",
      "metadata": {}
    },
    {
      "cell_type": "markdown",
      "source": "![ceres](https://raw.githubusercontent.com/albertoruiz/jupyterlite/main/data/ceres/ceres-sep.png)",
      "metadata": {}
    },
    {
      "cell_type": "markdown",
      "source": "![ceres](https://raw.githubusercontent.com/albertoruiz/jupyterlite/main/data/ceres/ceres-dec.png)",
      "metadata": {}
    }
  ]
}