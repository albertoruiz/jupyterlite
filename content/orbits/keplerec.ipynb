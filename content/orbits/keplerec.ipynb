{
  "metadata": {
    "hide_input": false,
    "varInspector": {
      "cols": {
        "lenName": 16,
        "lenType": 16,
        "lenVar": 40
      },
      "kernels_config": {
        "python": {
          "delete_cmd_postfix": "",
          "delete_cmd_prefix": "del ",
          "library": "var_list.py",
          "varRefreshCmd": "print(var_dic_list())"
        },
        "r": {
          "delete_cmd_postfix": ") ",
          "delete_cmd_prefix": "rm(",
          "library": "var_list.r",
          "varRefreshCmd": "cat(var_dic_list()) "
        }
      },
      "position": {
        "height": "296px",
        "left": "506px",
        "right": "-2.33333px",
        "top": "117px",
        "width": "471px"
      },
      "types_to_exclude": [
        "module",
        "function",
        "builtin_function_or_method",
        "instance",
        "_Feature"
      ],
      "window_display": false
    },
    "kernelspec": {
      "name": "python",
      "display_name": "Python (Pyodide)",
      "language": "python"
    },
    "language_info": {
      "codemirror_mode": {
        "name": "python",
        "version": 3
      },
      "file_extension": ".py",
      "mimetype": "text/x-python",
      "name": "python",
      "nbconvert_exporter": "python",
      "pygments_lexer": "ipython3",
      "version": "3.8"
    }
  },
  "nbformat_minor": 4,
  "nbformat": 4,
  "cells": [
    {
      "cell_type": "markdown",
      "source": "# Kepler's equation",
      "metadata": {}
    },
    {
      "cell_type": "markdown",
      "source": "## Ellipse Parameterizations",
      "metadata": {}
    },
    {
      "cell_type": "markdown",
      "source": "![elip](https://robot.inf.um.es/material/demos/elipkepler.svg)",
      "metadata": {
        "tags": []
      }
    },
    {
      "cell_type": "markdown",
      "source": "Excentricidad:\n\n$$ e = \\sqrt{1 - \\frac{b^2}{a^2}} $$",
      "metadata": {}
    },
    {
      "cell_type": "markdown",
      "source": "**True anomaly**: cordenadas polares de una elipse desde un foco:\n\n$$ r = \\frac{a(1-e^2)}{1+e\\cos(\\nu)} $$",
      "metadata": {}
    },
    {
      "cell_type": "markdown",
      "source": "**Eccentric anomaly**: coordenadas polares desde el centro:\n\n$$r = \\sqrt{a^2 + (b^2-a^2)\\sin^2(E)} $$\n\nque se simplifica a algo tan simple como:\n\n$$ x = a \\cos(E) \\hspace{1cm} y=b \\sin(E) $$\n\nPero ojo, el parámetro $E$ no es el ángulo geométrico al punto.",
      "metadata": {}
    },
    {
      "cell_type": "markdown",
      "source": "Finalmente, está la **mean anomaly** $M$, una parametrización del tiempo, relacionada con la posición real $E$ mediante la ecuación de Kepler.",
      "metadata": {}
    },
    {
      "cell_type": "code",
      "source": "import numpy as np, matplotlib.pyplot as plt\n\nnu = np.linspace(0,2*np.pi, 13)\na = 1\ne = 0.5\nr = a*(1-e**2)/(1+e*np.cos(nu))\nx = r*np.cos(nu)\ny = r*np.sin(nu)\nplt.plot(x,y,'.-',markersize=10);\nfor x,y in zip(x,y):\n    plt.plot([0,x],[0,y],color='gray')\n\nE = np.linspace(0,2*np.pi, 25)\nb = a * np.sqrt(1-e**2)\nx = a*np.cos(E) - a*e\ny = b*np.sin(E)\nplt.plot(x,y,'.',markersize=3,color='black');\nplt.plot(x,y,markersize=3,color='gray',lw=0.5);\nfor x,y in zip(x,y):\n    plt.plot([-a*e,x],[0,y],color='gray',lw=0.5)    \n    \nplt.plot([0][0],'.',markersize=20);\nplt.plot([-a*e],[0],'.',markersize=15,color='black');\nplt.axis('equal');",
      "metadata": {
        "tags": [],
        "jupyter": {
          "source_hidden": true
        },
        "trusted": true
      },
      "execution_count": null,
      "outputs": []
    },
    {
      "cell_type": "markdown",
      "source": "## Kepler's equation",
      "metadata": {}
    },
    {
      "cell_type": "markdown",
      "source": "$$M = E - e \\sin{E}$$",
      "metadata": {}
    },
    {
      "cell_type": "markdown",
      "source": "Un problema fundamental es la solución analítica de una órbita kepleriana.\n\nObviamente, mediante integración numérica podemos calcular la posición y velocidad siguiente de los cuerpos en un sistema gravitatorio, y por supuesto también en el caso más simple de 2 cuerpos, uno de ellos de masa despreciable.\n\nLas leyes de Kepler, incialmente obtenidas de forma empírica y posteriormente deducidas a partir de las leyes de gravitación de Newton, nos dan la forma de la órbita (elipse) y la variación de velocidad en ella (momento angular constante), pero no tenemos una dependencia explícita de la posición respecto al tiempo.\n\nCuando se lleva el problema a la configuración geométrica más simple, a lo más que podemos llegar es una relación transcendental entre (parametrizaciones adecuadas) del tiempo y la posición. Esta dependencia puede resolverse fácilmente mediante métodos numéricos, basados en refinar progresivamente un resultado tentativo.",
      "metadata": {}
    },
    {
      "cell_type": "markdown",
      "source": "## Graphic solution",
      "metadata": {}
    },
    {
      "cell_type": "code",
      "source": "plt.figure(figsize=(5,7))\nE = np.linspace(0, 2*np.pi, 100)\nplt.plot(E,E,label='$x$')\nplt.plot(E,np.sin(E),label='$\\sin x$')\nplt.plot(E,E-0.3*np.sin(E),label=\"$x-0.3\\sin x$\")\nplt.grid()\nplt.legend()\nplt.axis('equal');",
      "metadata": {
        "tags": [],
        "jupyter": {
          "source_hidden": true
        },
        "trusted": true
      },
      "execution_count": null,
      "outputs": []
    },
    {
      "cell_type": "code",
      "source": "import scipy, kepler",
      "metadata": {
        "trusted": true
      },
      "execution_count": null,
      "outputs": []
    },
    {
      "cell_type": "code",
      "source": "%psource kepler.anomM2E",
      "metadata": {
        "trusted": true
      },
      "execution_count": null,
      "outputs": []
    },
    {
      "cell_type": "code",
      "source": "x = kepler.anomM2E(0.4, 0.3)\nx",
      "metadata": {
        "trusted": true
      },
      "execution_count": null,
      "outputs": []
    },
    {
      "cell_type": "code",
      "source": "x - 0.3*np.sin(x)",
      "metadata": {
        "trusted": true
      },
      "execution_count": null,
      "outputs": []
    },
    {
      "cell_type": "markdown",
      "source": "## Numerical integration",
      "metadata": {}
    },
    {
      "cell_type": "code",
      "source": "import numpy as np\nimport numpy.linalg as la \nimport matplotlib.pyplot as plt\nfrom scipy.integrate import odeint",
      "metadata": {
        "trusted": true
      },
      "execution_count": null,
      "outputs": []
    },
    {
      "cell_type": "code",
      "source": "def accel(x,m):\n    n = len(m)\n    a = np.zeros([n,3])\n    for k in range(n):\n        for j in range(n):\n            if k != j:\n                r = x[j]-x[k]\n                r3 = la.norm(r)**3\n                a[k] += m[j] / r3 * r\n    return a",
      "metadata": {
        "trusted": true
      },
      "execution_count": null,
      "outputs": []
    },
    {
      "cell_type": "code",
      "source": "def nbody(r0,v0,m,t):\n    n = len(m)\n    \n    def xdot(z,t):\n        #print(len(z))\n        global count\n        count += 1\n        r = z[:3*n].reshape(-1,3)\n        v = z[3*n:]\n        a = accel(r,m).flatten()\n        return np.concatenate([v,a])\n    \n    s0 = np.concatenate([r0.flatten(),v0.flatten()])\n    #print(s0)\n    s = odeint(xdot,s0,t)\n    \n    return [(s[:3*n].reshape(-1,3), s[3*n:].reshape(-1,3)) for s in s]",
      "metadata": {
        "trusted": true
      },
      "execution_count": null,
      "outputs": []
    },
    {
      "cell_type": "markdown",
      "source": "https://en.wikipedia.org/wiki/Standard_gravitational_parameter",
      "metadata": {}
    },
    {
      "cell_type": "code",
      "source": "ua = 150e9\nyr = 365*24*60*60",
      "metadata": {
        "trusted": true
      },
      "execution_count": null,
      "outputs": []
    },
    {
      "cell_type": "code",
      "source": "datar = np.array(np.matrix(\"\"\"\n0      0   0   0   0        0    1.327E20    ;\n0.466  0   0   0   47E3     0    2.203E13    ;\n0.723  0   0   0   35E3     0    3.249E14    ;\n1      0   0   0   30.0E3   0    3.986E14    ;\n1.0026 0   0   0   31.0E3   0    4.905E12    ;\n1.52   0   0   0   24E3     0    4.283E13    ;\n5.2    0   0   0   13E3     0    1.267E17    ;\n9.5    0   0   0   9.7E3    0    3.793E16    ;\n19     0   0   0   6.8E3    0    5.794E15    ;\n30     0   0   0   5.43E3   0    6.837E15    ;\n1      0   0   0   15.0E3   0    1E10        \"\"\"))",
      "metadata": {
        "trusted": true
      },
      "execution_count": null,
      "outputs": []
    },
    {
      "cell_type": "code",
      "source": "rotation = kepler.myrotation",
      "metadata": {
        "trusted": true
      },
      "execution_count": null,
      "outputs": []
    },
    {
      "cell_type": "code",
      "source": "data = datar[[0,-1]]\n\nr0 = data[:,:3]\nv0 = data[:,3:6] * yr    / ua\nmu = data[:,6]   * yr**2 / ua**3\n\nr0[1] = rotation((0,0,1),np.radians(-45)) @ r0[1]\nv0[1] = rotation((0,0,1),np.radians(-45)) @ rotation((1,0,0),np.radians(30)) @ v0[1]",
      "metadata": {
        "trusted": true
      },
      "execution_count": null,
      "outputs": []
    },
    {
      "cell_type": "code",
      "source": "dt = 0.435/20\nN = 15\n\ncount = 0\nsimul = nbody(r0,v0,mu,np.arange(N+1)*dt)\nprint(count)\n\nsun,earth = np.array([x[0] for x in simul]).transpose(1,2,0)",
      "metadata": {
        "trusted": true
      },
      "execution_count": null,
      "outputs": []
    },
    {
      "cell_type": "code",
      "source": "from mpl_toolkits.mplot3d import Axes3D\nfig = plt.figure(figsize=(6,6))\nax = fig.add_subplot(111, projection='3d')\n\nax.plot(*sun,'.',color='orange',markersize=15)\nax.plot(*earth,'.-',color='red')\n\nax.set_xlim(-0.5,0.5); ax.set_xlabel('x')\nax.set_ylim(-0.5,0.5); ax.set_ylabel('y')\nax.set_zlim(-0.5,0.5); ax.set_zlabel('z');",
      "metadata": {
        "trusted": true
      },
      "execution_count": null,
      "outputs": []
    },
    {
      "cell_type": "markdown",
      "source": "## Closed form",
      "metadata": {}
    },
    {
      "cell_type": "code",
      "source": "a,e,om,OM,i,M0 = orbit = kepler.keplerElements(r0[1],v0[1],mu[0])\nprint(orbit)\nT = kepler.period(a,mu[0])\nprint(M0)\nprint(T)",
      "metadata": {
        "trusted": true
      },
      "execution_count": null,
      "outputs": []
    },
    {
      "cell_type": "code",
      "source": "def p_v_kepler(t):\n    M = M0  + t/T*2*np.pi\n    return kepler.kepler2stv(a,e,om,OM,i,M,mu[0])",
      "metadata": {
        "trusted": true
      },
      "execution_count": null,
      "outputs": []
    },
    {
      "cell_type": "code",
      "source": "p2 = np.array([p_v_kepler(t)[0] for t in np.arange(N+1)*dt])",
      "metadata": {
        "trusted": true
      },
      "execution_count": null,
      "outputs": []
    },
    {
      "cell_type": "code",
      "source": "fig = plt.figure(figsize=(6,6))\nax = fig.add_subplot(111, projection='3d')\n\nplt.plot(*p2.T,lw=5,alpha=0.5,color='green')\n\nax.plot(*sun,'.',color='orange',markersize=15)\nax.plot(*earth,'.-',color='red')\n\nax.set_xlim(-0.5,0.5); ax.set_xlabel('x')\nax.set_ylim(-0.5,0.5); ax.set_ylabel('y')\nax.set_zlim(-0.5,0.5); ax.set_zlabel('z');",
      "metadata": {
        "trusted": true
      },
      "execution_count": null,
      "outputs": []
    },
    {
      "cell_type": "markdown",
      "source": "## Derivation",
      "metadata": {}
    },
    {
      "cell_type": "markdown",
      "source": "En wikipedia hay una [deducción geométrica](https://en.wikipedia.org/wiki/Kepler%27s_laws_of_planetary_motion#Mean_anomaly,_M) sencilla.\n\n(Lo que sigue puede no tener mucho sentido.)\n\nOtra posibilidad es atacar por [separación de variables](https://en.wikipedia.org/wiki/Separation_of_variables):\n\n$$\\frac{d\\theta}{dt} = k (1+e\\cos\\theta)^2$$\n\n$$\\frac{1}{(1+e\\cos\\theta)^2} d\\theta = k dt$$\n\nEsa integral se encuentra en tablas o wolfram alpha, aunque es bastante compleja. Es lo que hace Curtis.\n\nRecordemos que, por geometría, tenemos tanto $r$ como $\\theta$ en función de $E$.\n\n$$\\tan \\frac{\\theta}{2} = \\sqrt{\\frac{1+e}{1-e}}\\tan\\frac{E}{2}$$\n\n$$r = a (1 - e \\cos E)$$\n\n\nPor tanto en la condición de velocidad areolar constante se puede aplicar un cambio de variable para tener como incógnita $E(t)$. A ver si hay más suerte...\n\n$$r^2 \\frac{d\\theta}{dt} = r^2 \\frac{d\\theta}{dE} \\frac{dE}{dt} = n a b$$\n\n$$\\theta = 2\\arctan\\left(\\rho \\tan\\frac{E}{2}\\right)$$\n\n$$\\frac{d\\theta}{dE} = \\frac{\\rho}{\\rho^{2} \\sin^{2}{\\left (\\frac{E}{2} \\right )} + \\cos^{2}{\\left (\\frac{E}{2} \\right )}}$$\n\nLa integral que sale también es muy complicada y poco práctica, ya que aparentemente no se simplifica el $r^2$ que multiplicará después.\n\nLo que hace Orús et al. es relacionar los diferenciales:\n\n$$\\frac{1}{2}\\frac{1}{\\cos^2\\frac{\\theta}{2}}d\\theta = \\rho \\frac{1}{2}\\frac{1}{\\cos^2\\frac{E}{2}}dE$$\n\n$$d\\theta = \\rho \\frac{\\cos^2\\frac{\\theta}{2}}{\\cos^2\\frac{E}{2}}dE$$\n\nCon la ventaja de que no hay que sustituir la transformación complicada con tangentes y arcotangentes de $\\theta(E)$ ya que tenemos una expresión compacta para el\n\n$$\\cos^2\\frac{\\theta}{2} = \\frac{a(1-e)}{r}\\cos^2\\frac{E}{2}$$\n\nque simplifica muchísimo la derivada buscada:\n\n$$d\\theta = \\frac{\\rho a (1-e)}{r} dE = \\sqrt\\frac{1+e}{1-e}\\frac{ a (1-e)}{r} dE = \\sqrt{(1+e)(1-e)} \\;\\frac{a}{r} dE = \\frac{b}{r}dE$$\n\nLa velocidad areolar expresada con $E$ queda muy simple:\n\n$$nabdt = r^2 d\\theta = r b dE = b  a (1 - e \\cos E) dE$$\n\nIntegrando en ambos lados:\n\n$$nt \\equiv M = E - e \\sin E$$\n\n(Se introduce una medida del tiempo normalizada respecto al período, la *anomalía media*, expresada como el ángulo recorrido.)",
      "metadata": {}
    },
    {
      "cell_type": "markdown",
      "source": "## Ecuación diferencial para $\\theta(t)$",
      "metadata": {}
    },
    {
      "cell_type": "code",
      "source": "import numpy as np\nimport matplotlib.pyplot as plt\n%matplotlib inline\n\nfrom scipy.integrate import odeint",
      "metadata": {
        "trusted": true
      },
      "execution_count": null,
      "outputs": []
    },
    {
      "cell_type": "code",
      "source": "mu = 1\nh = 2\ne = 0.5\np = h**2/mu\neps = 0.5*mu**2/h**2*(e**2-1)\na = -mu/2/eps\nb = a*np.sqrt(1-e**2)\nT = np.sqrt(4*np.pi**2*a**3/mu)\nn = 2*np.pi/T",
      "metadata": {
        "trusted": true
      },
      "execution_count": null,
      "outputs": []
    },
    {
      "cell_type": "code",
      "source": "def sdot(v,t):\n    return mu**2/h**3*(1+e*np.cos(v))**2\n\nV = np.linspace(0,2*np.pi,100)\n\n\nplt.plot(V,sdot(V,0));",
      "metadata": {
        "trusted": true
      },
      "execution_count": null,
      "outputs": []
    },
    {
      "cell_type": "code",
      "source": "t = np.linspace(0,2*T,100)\n\nv = odeint(sdot,0,t)\n\nplt.plot(t,v);",
      "metadata": {
        "trusted": true
      },
      "execution_count": null,
      "outputs": []
    },
    {
      "cell_type": "code",
      "source": "import scipy.optimize as opt\n\ndef eccenAnom(M,e):\n    return opt.fsolve(lambda E: E - e*np.sin(E) - M, M)\n\ndef trueAnom(E,e):\n    # vale para un periodo\n    k = np.sqrt((1+e)/(1-e))\n    return 2*np.arctan2( k*np.sin(E/2), np.cos(E/2))",
      "metadata": {
        "trusted": true
      },
      "execution_count": null,
      "outputs": []
    },
    {
      "cell_type": "code",
      "source": "M = np.linspace(0,1*2*np.pi,50)\nE = np.array([eccenAnom(m,e) for m in M])\nu = [trueAnom(x,e) for x in E]",
      "metadata": {
        "trusted": true
      },
      "execution_count": null,
      "outputs": []
    },
    {
      "cell_type": "code",
      "source": "plt.plot(M,E,label='eccentric');\nplt.plot(M,u,label='true');\nplt.xlabel('M (rad)')\nplt.ylabel('anomaly (rad)')\nplt.legend();",
      "metadata": {
        "trusted": true
      },
      "execution_count": null,
      "outputs": []
    },
    {
      "cell_type": "code",
      "source": "tm = M/n",
      "metadata": {
        "trusted": true
      },
      "execution_count": null,
      "outputs": []
    },
    {
      "cell_type": "code",
      "source": "plt.plot(tm,u,lw=8,label='eq. diff.');\nplt.plot(t[t<T],v[t<T],color='red',label='kepler');\nplt.xlabel('t (s)')\nplt.ylabel('true anomaly (rad)')\nplt.legend();",
      "metadata": {
        "trusted": true
      },
      "execution_count": null,
      "outputs": []
    },
    {
      "cell_type": "code",
      "source": "r = a*(1-e*np.cos(E))\n\nplt.plot(E, b/r,lw=8);\n\nrho = np.sqrt((1+e)/(1-e))\n\ncosa = rho/(rho**2 * np.sin(E/2)**2  +  np.cos(E/2)**2)\n\nplt.plot(E,cosa);\nplt.xlabel('E'); plt.title('dv/dE');",
      "metadata": {
        "trusted": true
      },
      "execution_count": null,
      "outputs": []
    },
    {
      "cell_type": "markdown",
      "source": "## References",
      "metadata": {}
    },
    {
      "cell_type": "markdown",
      "source": "https://en.wikipedia.org/wiki/Orbital_elements",
      "metadata": {}
    },
    {
      "cell_type": "markdown",
      "source": "https://downloads.rene-schwarz.com/download/M002-Cartesian_State_Vectors_to_Keplerian_Orbit_Elements.pdf\n\nhttps://downloads.rene-schwarz.com/download/M001-Keplerian_Orbit_Elements_to_Cartesian_State_Vectors.pdf",
      "metadata": {}
    },
    {
      "cell_type": "markdown",
      "source": "https://en.wikipedia.org/wiki/Eccentricity_vector que puede expresarse con el semieje mayor.",
      "metadata": {}
    },
    {
      "cell_type": "markdown",
      "source": "http://www.stardust2013.eu/Portals/63/Images/Training/OTS%20Repository/gronchi_OTS2013.pdf",
      "metadata": {}
    }
  ]
}