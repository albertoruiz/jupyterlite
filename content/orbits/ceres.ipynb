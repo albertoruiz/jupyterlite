{
  "metadata": {
    "language_info": {
      "codemirror_mode": {
        "name": "python",
        "version": 3
      },
      "file_extension": ".py",
      "mimetype": "text/x-python",
      "name": "python",
      "nbconvert_exporter": "python",
      "pygments_lexer": "ipython3",
      "version": "3.8"
    },
    "kernelspec": {
      "name": "python",
      "display_name": "Python (Pyodide)",
      "language": "python"
    }
  },
  "nbformat_minor": 4,
  "nbformat": 4,
  "cells": [
    {
      "cell_type": "markdown",
      "source": "# How Gauss Determined the Orbit of Ceres\n\nJ. Tennenbaum and B. Director, 1998 [[pdf](https://archive.schillerinstitute.com/fidelio_archive/1998/fidv07n02-1998Su/fidv07n02-1998Su_004-how_gauss_determined_the_orbit_o.pdf)]",
      "metadata": {}
    },
    {
      "cell_type": "markdown",
      "source": "## Observations",
      "metadata": {
        "tags": []
      }
    },
    {
      "cell_type": "markdown",
      "source": "### Sun",
      "metadata": {
        "tags": [],
        "jp-MarkdownHeadingCollapsed": true
      }
    },
    {
      "cell_type": "markdown",
      "source": "Three positions of the Sun for estimation of Earth's orbit",
      "metadata": {}
    },
    {
      "cell_type": "markdown",
      "source": "![sun](https://raw.githubusercontent.com/albertoruiz/jupyterlite/main/data/ceres/sun-jul.png)",
      "metadata": {}
    },
    {
      "cell_type": "markdown",
      "source": "![sun](https://raw.githubusercontent.com/albertoruiz/jupyterlite/main/data/ceres/sun-aug.png)",
      "metadata": {}
    },
    {
      "cell_type": "markdown",
      "source": "![sun](https://raw.githubusercontent.com/albertoruiz/jupyterlite/main/data/ceres/sun-sep.png)",
      "metadata": {}
    },
    {
      "cell_type": "markdown",
      "source": "### Ceres",
      "metadata": {
        "tags": [],
        "jp-MarkdownHeadingCollapsed": true
      }
    },
    {
      "cell_type": "markdown",
      "source": "Three geocentric positions and additional test point:",
      "metadata": {}
    },
    {
      "cell_type": "markdown",
      "source": "![ceres](https://raw.githubusercontent.com/albertoruiz/jupyterlite/main/data/ceres/ceres-jul.png)",
      "metadata": {}
    },
    {
      "cell_type": "markdown",
      "source": "![ceres](https://raw.githubusercontent.com/albertoruiz/jupyterlite/main/data/ceres/ceres-aug.png)",
      "metadata": {}
    },
    {
      "cell_type": "markdown",
      "source": "![ceres](https://raw.githubusercontent.com/albertoruiz/jupyterlite/main/data/ceres/ceres-sep.png)",
      "metadata": {}
    },
    {
      "cell_type": "markdown",
      "source": "![ceres](https://raw.githubusercontent.com/albertoruiz/jupyterlite/main/data/ceres/ceres-dec.png)",
      "metadata": {}
    },
    {
      "cell_type": "markdown",
      "source": "### Input data",
      "metadata": {
        "tags": []
      }
    },
    {
      "cell_type": "code",
      "source": "import numpy as np, matplotlib.pyplot as plt, scipy\n\nnorm = np.linalg.norm\n\nπ = np.pi\n\nimport kepler\nfrom kepler import DIR, RA, DEC, Sun_distance, vec\n\nimport julian\nimport datetime",
      "metadata": {
        "trusted": true
      },
      "execution_count": null,
      "outputs": []
    },
    {
      "cell_type": "code",
      "source": "t0 = julian.to_jd(datetime.datetime(2020,  1, 1, 0))\n\nt1 = julian.to_jd(datetime.datetime(2020,  7, 11, 14))\nt2 = julian.to_jd(datetime.datetime(2020,  8, 11, 14))\nt3 = julian.to_jd(datetime.datetime(2020,  9, 11, 14))\nt4 = julian.to_jd(datetime.datetime(2020, 12, 11, 14))",
      "metadata": {
        "trusted": true
      },
      "execution_count": null,
      "outputs": []
    },
    {
      "cell_type": "code",
      "source": "E1 = - DIR( RA(7, 24, 9.4),   DEC(22, 1, 40.2) )* Sun_distance(t1-t0)\nE2 = - DIR( RA(9, 25, 58.4),  DEC(15, 6, 11.3) )* Sun_distance(t2-t0)\nE3 = - DIR( RA(11, 19, 33.9), DEC(4, 20, 59.4) )* Sun_distance(t3-t0)\n\nE4 = - DIR( RA(17, 15, 23.6), -DEC(23, 2, 25.3) )* Sun_distance(t4-t0)\n\nE = [E1,E2,E3]",
      "metadata": {
        "trusted": true
      },
      "execution_count": null,
      "outputs": []
    },
    {
      "cell_type": "code",
      "source": "# Ceres directions\nD1 = DIR( RA(23, 15, 52.3),  -DEC( 18, 39, 33.6) )\nD2 = DIR( RA(23,  6,  0.5),  -DEC( 21, 57, 16.9) )\nD3 = DIR( RA(22, 41, 13.2),  -DEC( 24, 52, 30.2) )\n\nD4 = DIR( RA(22, 46, 47.6),  -DEC( 18, 52, 48.7) )\n\nD = [D1,D2,D3]",
      "metadata": {
        "trusted": true
      },
      "execution_count": null,
      "outputs": []
    },
    {
      "cell_type": "code",
      "source": "Ts = [t1,t2,t3]\nprint('Observation times (JD)', Ts+[t4])",
      "metadata": {
        "trusted": true
      },
      "execution_count": null,
      "outputs": []
    },
    {
      "cell_type": "markdown",
      "source": "## Earths' orbit",
      "metadata": {}
    },
    {
      "cell_type": "code",
      "source": "earth_period = 365.256363004\n\nmu = 0.000296 # UA3 d-2",
      "metadata": {
        "trusted": true
      },
      "execution_count": null,
      "outputs": []
    },
    {
      "cell_type": "markdown",
      "source": "### From 3D positions",
      "metadata": {}
    },
    {
      "cell_type": "code",
      "source": "orb_earth = kepler.Orbit3Points(E1,E2,E3,mu)\nkepler.info_orbit(orb_earth)\n\npath_earth = kepler.mkPathAbsTime(orb_earth,E1,t1)\nE_e = [E1_e,E2_e,E3_e,E4_e] = [ path_earth(t)[0] for t in Ts + [t4] ]\ndires = kepler.unit(E4_e)\nerror_angle = np.arccos( dires @ kepler.unit(E4) )\nprint('Angular error of test point:', kepler.prettyAngle(error_angle))",
      "metadata": {
        "trusted": true
      },
      "execution_count": null,
      "outputs": []
    },
    {
      "cell_type": "markdown",
      "source": "### From directions and times",
      "metadata": {}
    },
    {
      "cell_type": "code",
      "source": "# Con ángulos y tiempos deducimos la órbita, pero necesitamos período y mu para a\nSD = [ kepler.unit(e) for e in [E1,E2,E3] ]\n\n#print( kepler.SolveAreas( np.zeros([3,3]), SD, Ts, 1 ) )\nedist = kepler.OptimizeBrute([1*d for d in SD], np.zeros([3,3]), SD, Ts, mu, earth_period)\nprint([norm(e) for e in edist])\nprint([norm(e) for e in [E1,E2,E3]] )\n\norb_earth  = kepler.Orbit3Points(*edist,mu)\nkepler.info_orbit(orb_earth)\n\npath_earth = kepler.mkPathAbsTime(orb_earth,edist[0],t1)\nE_e = [E1_e,E2_e,E3_e,E4_e] = [ path_earth(t)[0] for t in Ts + [t4] ]\ndires = kepler.unit(E4_e)\nerror_angle = np.arccos( dires @ kepler.unit(E4) )\nprint('Angular error of test point:', kepler.prettyAngle(error_angle))",
      "metadata": {
        "trusted": true
      },
      "execution_count": null,
      "outputs": []
    },
    {
      "cell_type": "markdown",
      "source": "## The orbit of Ceres",
      "metadata": {}
    },
    {
      "cell_type": "markdown",
      "source": "The depth of the second point is estimated and refined using Gauss' method:",
      "metadata": {}
    },
    {
      "cell_type": "code",
      "source": "F,P_2,_ = kepler.Gauss0(E,D,Ts)\n\nP_2_2 = P_2\nfor _ in range(4):\n    print('---')\n    F2,P_2_2,G = kepler.Gauss0(E,D,Ts, norm(P_2_2))\n\nestimated_depth2 = norm(P_2_2 - E2)\nprint('Gauss depth2:', estimated_depth2)",
      "metadata": {
        "trusted": true
      },
      "execution_count": null,
      "outputs": []
    },
    {
      "cell_type": "markdown",
      "source": "Then the three depths of Ceres are:",
      "metadata": {}
    },
    {
      "cell_type": "code",
      "source": "EP1, EP2, EP3 = kepler.SolveAreas(E,D,Ts, estimated_depth2)\n\nif False:\n    print('Optimization')\n    EP1, EP2, EP3 = kepler.Optimize3Points([EP1, EP2, EP3], E,D,Ts, mu)\n    print('refined depth 2:', norm(EP2[1] - E2) )",
      "metadata": {
        "trusted": true
      },
      "execution_count": null,
      "outputs": []
    },
    {
      "cell_type": "markdown",
      "source": "The orbit is obtained from the three 3D points:",
      "metadata": {}
    },
    {
      "cell_type": "code",
      "source": "print('inverse projection')\norb_ceres = kepler.Orbit3Points(EP1,EP2,EP3,mu)\nkepler.info_orbit(orb_ceres)",
      "metadata": {
        "trusted": true
      },
      "execution_count": null,
      "outputs": []
    },
    {
      "cell_type": "markdown",
      "source": "Finally we check the prediction on the test position:",
      "metadata": {}
    },
    {
      "cell_type": "code",
      "source": "fun = kepler.mkPathAbsTime(orb_ceres,EP1,t1)\n\nEP1, EP2, EP3, EP4 = [ fun(t)[0] for t in Ts + [t4] ]\n\npath_ceres = np.array([fun(t)[0] for t in np.linspace(t1,t1+orb_ceres[-1],300)])\n\ndires = kepler.unit(EP4 - E4)\nerror_angle = np.arccos( dires @ D4 )\nprint('Angular error of test point:', kepler.prettyAngle(error_angle))",
      "metadata": {
        "trusted": true
      },
      "execution_count": null,
      "outputs": []
    },
    {
      "cell_type": "code",
      "source": "def show():\n    fig = plt.figure(figsize=(8,8))\n    ax = fig.add_subplot(111, projection='3d')\n\n    kepler.fullOrbit(ax,orb_earth,\"Earth\")\n\n    ax.plot(*vec(E4_e).T,'.',color='green')\n    ax.plot(*vec(E1,E2,E3,E4).T,'.',color='red')\n    ax.plot(*vec(*E_e).T,'.',color='blue')\n\n    ax.plot(*vec(EP1, EP2, EP3, EP4).T,'.',color='black')\n\n    ax.plot(*path_ceres.T,color='brown',lw=1,label='Ceres')\n\n    ax.plot(*vec(P_2).T,'.',color='gray')\n\n    dl = 3.5\n    for (x,y,z),(X,Y,Z) in zip(D+[D4],E+[E4]):\n        ax.plot([X,X+dl*x],[Y,Y+dl*y],[Z,Z+dl*z],color='red',lw=0.3)\n\n    sz = 4\n    ax.set_xlim(-sz,sz); # ax.set_xlabel('x')\n    ax.set_ylim(-sz,sz); #ax.set_ylabel('y')\n    ax.set_zlim(-sz,sz); #ax.set_zlabel('z');\n    ax.view_init(elev=25, azim=25)\n    ax.set_xticklabels([])\n    ax.set_yticklabels([])\n    ax.set_zticklabels([])\n    plt.legend()\n    #plt.tight_layout()\n    plt.title('Gauss determines the orbit of Ceres')\n    #plt.axis('off')\n    plt.show()",
      "metadata": {
        "tags": [],
        "jupyter": {
          "source_hidden": true
        },
        "trusted": true
      },
      "execution_count": null,
      "outputs": []
    },
    {
      "cell_type": "code",
      "source": "%matplotlib inline\n\nshow()",
      "metadata": {
        "tags": [],
        "trusted": true
      },
      "execution_count": null,
      "outputs": []
    },
    {
      "cell_type": "code",
      "source": "# interactive version\n\n%pip install ipympl\n%matplotlib ipympl\n\nshow()",
      "metadata": {
        "tags": [],
        "trusted": true
      },
      "execution_count": null,
      "outputs": []
    }
  ]
}