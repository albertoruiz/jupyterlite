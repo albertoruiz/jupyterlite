{
  "metadata": {
    "hide_input": false,
    "varInspector": {
      "cols": {
        "lenName": 16,
        "lenType": 16,
        "lenVar": 40
      },
      "kernels_config": {
        "python": {
          "delete_cmd_postfix": "",
          "delete_cmd_prefix": "del ",
          "library": "var_list.py",
          "varRefreshCmd": "print(var_dic_list())"
        },
        "r": {
          "delete_cmd_postfix": ") ",
          "delete_cmd_prefix": "rm(",
          "library": "var_list.r",
          "varRefreshCmd": "cat(var_dic_list()) "
        }
      },
      "position": {
        "height": "589px",
        "left": "1506px",
        "right": "64px",
        "top": "270px",
        "width": "350px"
      },
      "types_to_exclude": [
        "module",
        "function",
        "builtin_function_or_method",
        "instance",
        "_Feature"
      ],
      "window_display": false
    },
    "kernelspec": {
      "name": "python",
      "display_name": "Python (Pyodide)",
      "language": "python"
    },
    "language_info": {
      "codemirror_mode": {
        "name": "python",
        "version": 3
      },
      "file_extension": ".py",
      "mimetype": "text/x-python",
      "name": "python",
      "nbconvert_exporter": "python",
      "pygments_lexer": "ipython3",
      "version": "3.8"
    }
  },
  "nbformat_minor": 4,
  "nbformat": 4,
  "cells": [
    {
      "cell_type": "markdown",
      "source": "# El problema de Kepler",
      "metadata": {}
    },
    {
      "cell_type": "markdown",
      "source": "## Identidades útiles",
      "metadata": {}
    },
    {
      "cell_type": "markdown",
      "source": "$$1-\\cos\\alpha = 2\\sin^2\\frac{\\alpha}{2}  $$\n\n$$1+\\cos\\alpha = 2\\cos^2\\frac{\\alpha}{2}  $$\n\n$$ A\\times (B\\times C) = (A\\cdot C) B - (A\\cdot B) C$$\n\n$$ A\\cdot (B\\times C) = (A\\times B)\\cdot C =  B\\cdot (C\\times A)$$\n\n$$\\vec r \\cdot \\dot{\\vec r} = r\\dot r$$",
      "metadata": {}
    },
    {
      "cell_type": "markdown",
      "source": "## Elipse",
      "metadata": {}
    },
    {
      "cell_type": "markdown",
      "source": "Empezamos con algunas propiedades puramente geométricas de la [elipse](https://en.wikipedia.org/wiki/Ellipse).",
      "metadata": {}
    },
    {
      "cell_type": "markdown",
      "source": "Un círculo estirado uniformemente con factores $a$ y $b$ se puede parametrizar así:",
      "metadata": {}
    },
    {
      "cell_type": "markdown",
      "source": "$$\\begin{align}\nx(E) &= a \\cos E\\\\\ny(E) &= b \\sin E\n\\end{align}$$",
      "metadata": {}
    },
    {
      "cell_type": "markdown",
      "source": "Es fácil ver que corresponde a la ecuación cuadrática tradicional de la elipse. (Elevando al cuadrado y expresando el sin en función del coseno.) El parámetro $E$ (anomalía excéntrica) no es el ángulo del punto, sino del círculo original que achatamos.",
      "metadata": {}
    },
    {
      "cell_type": "markdown",
      "source": "$$\\frac{x^2}{a^2}+\\frac{y^2}{b^2}=1$$",
      "metadata": {}
    },
    {
      "cell_type": "markdown",
      "source": "Tiene la propiedad de que la suma de distancias de cada punto a dos focos es constante.",
      "metadata": {}
    },
    {
      "cell_type": "markdown",
      "source": "$$ \\left\\Vert \\vec r -\\vec f_1\\right\\Vert +  \\left\\Vert \\vec r -\\vec f_2\\right\\Vert = 2a $$",
      "metadata": {}
    },
    {
      "cell_type": "markdown",
      "source": "Para comprobar esto se ponen los focos en (c,0) y (-c,0), se pasa una distancia al otro lado, se eleva al cuadrado y se simplifica con $b^2=a^2-c^2$. Esto ocurre porque la suma es la misma en horizontal y en vertical, y por tanto hay un triángulo rectángulo básico en la elipse:",
      "metadata": {}
    },
    {
      "cell_type": "markdown",
      "source": "$$b^2+c^2=a^2$$",
      "metadata": {}
    },
    {
      "cell_type": "markdown",
      "source": "Otra forma de expresar su forma es la excentricidad:",
      "metadata": {}
    },
    {
      "cell_type": "markdown",
      "source": "$$e = \\frac{c}{a} = \\sqrt{1-\\frac{b^2}{a^2}}$$",
      "metadata": {}
    },
    {
      "cell_type": "markdown",
      "source": "$$b = a\\sqrt{1-e^2}$$",
      "metadata": {}
    },
    {
      "cell_type": "markdown",
      "source": "Otro parámetro importante es la vertical desde el foco, *semi-latus rectum*,",
      "metadata": {}
    },
    {
      "cell_type": "markdown",
      "source": "$$p = \\frac{b^2}{a} = a(1-e^2)$$",
      "metadata": {}
    },
    {
      "cell_type": "markdown",
      "source": "Que aparece en la parametrización polar desde el foco:",
      "metadata": {}
    },
    {
      "cell_type": "markdown",
      "source": "$$r(\\theta) = \\frac{p}{1+e\\cos \\theta}$$",
      "metadata": {}
    },
    {
      "cell_type": "markdown",
      "source": "De nuevo es fácil ver que eso es una elipse haciendo $\\cos \\theta = x/r$. El parámetro $\\theta$ sí es el ángulo polar, llamado *anomalía verdadera*.",
      "metadata": {}
    },
    {
      "cell_type": "markdown",
      "source": "El área es fácil de justificar intutivamente estirando un círculo.",
      "metadata": {}
    },
    {
      "cell_type": "markdown",
      "source": "$$A = \\pi a b$$",
      "metadata": {}
    },
    {
      "cell_type": "markdown",
      "source": "Relación entre las parametrizaciones:\n\n$$\\begin{align}r \\cos \\theta &= a \\cos E - ae\\\\\n               r \\sin \\theta &= \\underbrace{a\\sqrt{1-e^2}}_b\\sin E  \n\\end{align}$$\n\nDe ahí (sumando las ecuaciones al cuadrado cambiando un seno cuadradado por coseno, u operando más directamente) obtenemos la distancia al foco en función de $E$\n\n$$r = a(1-e\\cos E)$$\n\ny \n\n$$\\tan \\frac{\\theta}{2} = \\sqrt{\\frac{1+e}{1-e}}\\tan\\frac{E}{2}$$\n\nQue se consigue restando y sumando la anterior y la primera, buscando $1\\pm\\cos$ para convertirlos en senos y cosenos al cuadrado. (De las dos primeras se saca directamente una expresión para $\\tan\\theta$ pero es más compleja.) Necesitaremos luego una de las dos:\n\n$$2r\\cos^2\\frac{\\theta}{2} = 2a(1-e)\\cos^2\\frac{E}{2}$$",
      "metadata": {}
    },
    {
      "cell_type": "markdown",
      "source": "## Newton Laws",
      "metadata": {}
    },
    {
      "cell_type": "markdown",
      "source": "La aceleración depende de la constante de gravitación y masa(s) de los cuerpos que agrupamos en el parámetro $\\mu$, se dirige de un cuerpo a otro (fuerza central) que disminuye con el cuadrado de la distancia. Todo esto se puede justificar un poco por simetría. Dos puntos del espacio no pueden definir otra dirección que de uno a otro. Y si la influencia se reparte uniformemente en todas direcciones la disminución debe ser recíproca a la superficie de la esfera.",
      "metadata": {}
    },
    {
      "cell_type": "markdown",
      "source": "$$\\boxed{\\;\\ddot {\\vec r} = - \\mu \\frac{\\vec{r}}{r^3}\\;}\\hspace{10em}(EN)$$",
      "metadata": {}
    },
    {
      "cell_type": "markdown",
      "source": "### $\\vec h$",
      "metadata": {}
    },
    {
      "cell_type": "markdown",
      "source": "\nLo primero que observamos es que el movimiento libre, sin aceleración, tiene velocidad constante pero también barre áreas iguales desde cualquier punto (triángulos con la misma base y altura). Y si hay una aceleración central, las áreas infinitesimales sucesivas también son iguales, al tener una base paralela (en el límite), de modo que la altura es igual independientemente de la intensidad. Así que una fuerza central del tipo que sea preserva la velocidad areolar. Esto se demuestra fácilmente viendo que el momento angular específico es constante:\n\n$$\\vec h \\equiv \\vec r \\times \\dot{\\vec r} = \\frac{\\vec L}{m}$$\n\n$$\\frac{d}{dt}(\\vec r \\times \\dot{\\vec r})=\\vec0$$\n\n(Los dos términos de la derivada tienen productos vectoriales de vectores paralelos.) Por tanto el movimiento está en un plano perpendicular a $\\vec h$. Además, si lo expresamos en coordenadas polares, el módulo de $\\vec h$ es:\n\n$$h = r^2 \\dot \\theta $$\n\n(Esto se deduce de $h=r v_\\perp = r \\,r\\dot\\theta$. El producto vectorial rechaza la componente linealmente dependiente. Queda pendiente expresar todo bien en polares.)\n\nEl significado de $h$ es directamente la velocidad areolar. Se deduce del aŕea del triángulo infinitesimal de lados $\\vec r$, $\\vec{dr}$, $\\vec r+\\vec{dr}$.\n\n$$h = 2 \\dot A$$",
      "metadata": {}
    },
    {
      "cell_type": "markdown",
      "source": "### $\\vec e$",
      "metadata": {}
    },
    {
      "cell_type": "markdown",
      "source": "El siguiente paso es darse cuenta de que el *vector de Laplace* es otra constante del movimiento:\n\n$$\\mu \\vec e = \\vec C\\equiv \\dot{\\vec r} \\times \\vec h - \\mu \\frac{\\vec r}{r} \\hspace{10em}(EL)$$\n\nEsto puede hacerse multiplicando ambos lados de (EN) vectorialmente por $\\vec h$, aplicando propiedades del triple producto vectorial y llevándolo a la forma de la derivada deseada.\n\nSi multiplicamos (EL) escalarmente por $\\vec r$ (aplicando propiedades del triple producto escalar) obtenemos:\n\n$$ p \\equiv  \\frac{h^2}{\\mu} =  r + \\vec e \\cdot \\vec r = r + er\\cos\\theta$$\n\nQue despejando $r$ da lugar a la ecuación paramétrica de una cónica de paramétro p y excentricidad e:\n\n$$r = \\frac{p}{1+e\\cos\\theta}$$",
      "metadata": {}
    },
    {
      "cell_type": "markdown",
      "source": "### Tercera ley",
      "metadata": {}
    },
    {
      "cell_type": "markdown",
      "source": "Si el movimiento es elíptico será periódico y como el área total se recorre a ritmo constante:\n\n$$ \\dot A = \\frac{h}{2} = \\frac{\\pi a b}{T}$$\n\nEl ángulo $\\nu$ va cambiando a un ritmo no constante. La velocidad angular media es\n\n$$n\\equiv \\frac{2\\pi}{T}$$\n\nAsí que podemos escribir:\n\n$$h = n a b$$\n\n$$h^2 = \\mu p = \\mu \\frac{b^2}{a} = n^2 a^2 b^2$$\n\nQue tiene mucho que ver con la tercera ley de Kepler:\n\n$$ \\mu = 4\\pi^2 \\frac{a^3}{T^2} $$\n\nAdemás, definimos la anomalía media:\n\n$$M = nt$$",
      "metadata": {}
    },
    {
      "cell_type": "markdown",
      "source": "En Tennenbaum nos muestra la relación con el half-parameter. $T^2 \\propto A^3$, con una constante de proporcionalidad que es igual a 1 cuando medimos en unidades de algún planeta, p.ej. la tierra. Por tanto, en UA y años:\n\n$$ \\dot A = \\frac{h}{2} = \\frac{\\pi a b}{T} = \\frac{\\pi a b}{a^{3/2}} = \\pi \\frac{b}{\\sqrt{a}} = \\pi \\sqrt{p}$$\n",
      "metadata": {}
    },
    {
      "cell_type": "markdown",
      "source": "### Hodógrafa",
      "metadata": {}
    },
    {
      "cell_type": "markdown",
      "source": "Además, multiplicando (EL) vectorialmente por $\\vec h$ podemos despejar la velocidad $\\dot{\\vec r}$ en función de la posición, consiguiendo la \"hodógrafa\" del movimiento, que es circular (!).\n\n$$ \\dot {\\vec r}  = \\frac{\\vec h}{p} \\times \\left( \\frac{\\vec r}{r} + \\vec e  \\right)$$",
      "metadata": {}
    },
    {
      "cell_type": "markdown",
      "source": "### Energía",
      "metadata": {}
    },
    {
      "cell_type": "markdown",
      "source": "Si multiplicamos (EN) escalarmente por $\\dot{\\vec r}$ encontramos que la siguiente magnitud (energía específica, cinética más potencial) es constante:\n\n$$\\epsilon = \\frac{v^2}{2} - \\frac{\\mu}{r} $$\n\nSu valor depende de las constantes del movimiento $\\vec h$ y $\\vec e$ que ya tenemos. Se puede deducir de la expresión de la hodógrafa:\n\n$$v^2 = \\vec v \\cdot \\vec v = \\left(\\frac{\\vec h}{p} \\times \\left( \\frac{\\vec r}{r} + \\vec e  \\right)\\right)^2 = \\frac{h^2}{p^2}\\left(1+e^2+2\\frac{1}{r}\\vec r\\cdot \\vec e\\right)$$\n\n(Es el producto vectorial de dos vectores perpendiculares.) Teniendo en cuenta el valor de $p$ en sus dos igualdades de arriba:\n\n$$v^2 = \\frac{\\mu}{p}\\left(1+e^2+2\\frac{1}{r}\\vec r\\cdot \\vec e\\right) = \\frac{\\mu}{p}\\left(1+e^2+2\\frac{1}{r} (p-r) \\right) = \\mu \\left( 2\\frac{1}{r} + \\frac{e^2-1}{p} \\right)$$\n\nInsertando en la expresión de la energía:\n\n$$\\epsilon =\\mu \\frac{1}{r} + \\mu\\frac{e^2-1}{2p} - \\frac{\\mu}{r} = \\frac{1}{2}\\mu\\frac{e^2-1}{p} = \\frac{1}{2}\\frac{\\mu^2}{h^2}(e^2-1) = \\frac{1}{2}\\mu\\frac{e^2-1}{a (1-e^2)} = -\\frac{\\mu}{2a}$$\n\nDonde podemos expresarla con las constantes $h$ y $e$, o con el semieje mayor $a$. Con esto tenemos también la velocidad en función de la distancia.\n\nTambién se puede deducir del valor que toma en el perihelio, donde la velocidad es perpendicular.",
      "metadata": {}
    },
    {
      "cell_type": "markdown",
      "source": "### Evolución temporal",
      "metadata": {}
    },
    {
      "cell_type": "markdown",
      "source": "Tenemos la ecuación del movimiento en polares. La forma es elíptica con un semieje mayor que solo depende de la energía $a=-\\mu/2\\epsilon$  y una excentricidad que depende del momento angular $e^2 = 1- h^2/a \\mu$, pero todavía no sabemos cómo depende el argumento $\\theta$ del tiempo. Lo que sí sabemos, por la ley de las áreas, es que $r^2\\dot \\theta = h$. Del barrido constante de área tenemos que deducir la variación de velocidad y por tanto la posición en función del tiempo.",
      "metadata": {}
    },
    {
      "cell_type": "markdown",
      "source": "Esto es una ecuación diferencial que podríamos intentar resolver a lo bestia directamente para $\\theta(t)$.\n\n$$\\dot \\theta = \\underbrace{\\frac{h}{p^2}}_\\frac{\\mu^2}{h^3}(1+e\\cos\\theta)^2$$\n\nEn forma cerrada sympy se atasca y Wolfram Alpha devuelve una expresión implícita nada útil. Pero numéricamente el resultado es correcto cuando lo alineamos con la solución tradicional basada en la ecuación de Kepler.",
      "metadata": {}
    },
    {
      "cell_type": "markdown",
      "source": "$$M = E - e \\sin{E}$$",
      "metadata": {}
    },
    {
      "cell_type": "markdown",
      "source": "En wikipedia hay una [deducción geométrica](https://en.wikipedia.org/wiki/Kepler%27s_laws_of_planetary_motion#Mean_anomaly,_M) sencilla.",
      "metadata": {}
    },
    {
      "cell_type": "markdown",
      "source": "## Referencias",
      "metadata": {}
    },
    {
      "cell_type": "markdown",
      "source": "[Astronomia nova](http://dx.doi.org/10.3931/e-rara-558), Kepler, 1609.\n\nArtículo de Tennenbaum (**tennenbaum97**)\n\nTransparencias de Le Corvec (**corvec07**)\n\nLibro de Curtis (**curtis14**)\n\nLibro de Orús et al (Astronomía esférica y mecánica celeste, 2007)\n\nTransparencias de Peet (**Peet20**) sobre problema de Lambert.",
      "metadata": {}
    }
  ]
}