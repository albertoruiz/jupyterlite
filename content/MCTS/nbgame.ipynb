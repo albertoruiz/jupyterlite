{
  "metadata": {
    "kernelspec": {
      "name": "python",
      "display_name": "Python (Pyodide)",
      "language": "python"
    },
    "language_info": {
      "codemirror_mode": {
        "name": "python",
        "version": 3
      },
      "file_extension": ".py",
      "mimetype": "text/x-python",
      "name": "python",
      "nbconvert_exporter": "python",
      "pygments_lexer": "ipython3",
      "version": "3.8"
    }
  },
  "nbformat_minor": 5,
  "nbformat": 4,
  "cells": [
    {
      "cell_type": "code",
      "source": "%pip install ipympl\nimport scipy",
      "metadata": {
        "trusted": true
      },
      "execution_count": null,
      "outputs": [],
      "id": "33aba2eb-88aa-4f59-89dd-ba358b669dcb"
    },
    {
      "cell_type": "code",
      "source": "from connect4 import connect\nfrom othello import othello\nfrom mtcs import UTCSearch, MCPlay\n\nimport numpy as np\n\n%matplotlib widget\nimport matplotlib.pyplot as plt\nimport matplotlib as mpl\nmpl.rcParams['toolbar'] = 'None'\n\nfrom matplotlib import gridspec\nimport time\n\ndef drawprobs(probs):\n    ax2.clear()\n    a,n,w = zip(*probs)\n    an = len(a)\n    ax2.bar(np.arange(an),np.array(w)/n)\n    ax2.plot([-1,an],[0.5,0.5], color='black',lw=0.5)\n    ax2.plot([-1,an],[0,0], color='black',lw=0.5)\n    ax2.plot([-1,an],[1,1], color='black',lw=0.5)\n    ax2.set_ylim(-0.1,1.1)\n    #ax2.set_title(f'{str(sum(n))}')\n    ax2.set_axis_off()\n    ax3.clear()\n    ax3.bar(np.arange(len(a)),n,color='red')\n    ax3.set_axis_off()\n    refresh()\n\ndef drawvals(g):\n    ax4.clear()\n    ax4.set_ylim(-0.1,1.1)\n    ax4.set_axis_off()\n    l1 = [v for t,v in g.eval[:g.current] if t == 1]\n    l2 = [v for t,v in g.eval[:g.current] if t == -1]\n    l = max(len(l1),len(l2),2)\n    rx = [0,l-1]\n    ax4.plot(rx,[0,0], color='black',lw=0.5,ls='dotted')\n    ax4.plot(rx,[0.5,0.5], color='black',lw=0.5,ls='dotted')\n    ax4.plot(rx,[1,1], color='black',lw=0.5,ls='dotted')\n    ax4.plot(l1, '.-', markersize=10, color='gray')\n    ax4.plot(l2, '.-', markersize=10, color='black')\n\ndef refresh():\n    fig.canvas.draw()\n    #fig.canvas.draw_idle()\n    #fig.canvas.start_event_loop(0.001)\n\n\nfig = plt.figure(figsize=(6,6))\nfig.canvas.toolbar_visible = False\nfig.canvas.header_visible = False\nfig.canvas.footer_visible = False\nfig.canvas.capture_scroll = False\n\n#plt.subplots_adjust(top=1)\n#plt.suptitle('Interactive plot')\n#fig.canvas.set_window_title('MCTS')\n#fig.canvas.mpl_connect('key_press_event', on_press)\n#fig.canvas.mpl_connect('button_press_event', onclick)\n\ndef info(msg):\n    plt.suptitle(msg)\n    fig.canvas.draw()\n\ngs = gridspec.GridSpec(16, 4)\nax  = plt.subplot(gs[4:16,0:4])\nax2 = plt.subplot(gs[1:4,0:1])\nax3 = plt.subplot(gs[1:4,1:2])\nax4 = plt.subplot(gs[1:4,2:4])\nax4.set_axis_off()\nplt.tight_layout(pad=0,h_pad=0,w_pad=0)\n\ncolor = {1:'white', -1: 'black', 0: 'nobody'}\n\ndef play():\n    global g,current_player, next_player\n    while True:\n        g = current_player(g)\n        current_player, next_player = next_player, current_player\n        g.draw(ax)\n        drawvals(g)\n        refresh()\n\n        if g.terminal:\n            info(f'{color[g.winner]} ({engine[g.winner]}) wins!')\n            break\n        if g.resigned:\n            info(f'{color[g.turn]} ({engine[g.turn]}) resigned')\n            break\n\n\n\ngames = {'othello': (othello, 8),\n         'connect': (connect, 7, 6, 4)}\n\nplayers = {'mcts':  lambda g: UTCSearch(g, 10000, 5, drawprobs),\n           'pure':  lambda g: MCPlay(g, 100),\n           'human': lambda g: Human(g)}\n\nwhite = players['mcts']\nblack = players['pure']\nengine = {1: 'mcts', -1: 'pure', 0: 'nobody'}\n\ncurrent_player = white\nnext_player    = black\n\ng = games['connect']\ng = g[0](*g[1:])\n\ng.draw(ax)\ninfo('MTCS')",
      "metadata": {
        "tags": [],
        "trusted": true
      },
      "execution_count": null,
      "outputs": [],
      "id": "8f6070eb-11b9-422e-845c-cea9b15a4da5"
    },
    {
      "cell_type": "code",
      "source": "play()",
      "metadata": {
        "trusted": true
      },
      "execution_count": null,
      "outputs": [],
      "id": "da560f9a-9320-46b1-b8bd-88efb3cc7f67"
    }
  ]
}