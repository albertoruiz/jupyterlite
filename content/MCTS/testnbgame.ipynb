{
 "cells": [
  {
   "cell_type": "code",
   "execution_count": null,
   "metadata": {},
   "outputs": [],
   "source": [
    "%pip install ipympl\n",
    "%matplotlib widget\n",
    "\n",
    "import scipy\n",
    "from connect4 import connect\n",
    "from othello import othello\n",
    "from mtcs import UTCSearch, MCPlay\n",
    "\n",
    "import nbgame\n",
    "import asyncio"
   ]
  },
  {
   "cell_type": "code",
   "execution_count": null,
   "metadata": {},
   "outputs": [],
   "source": [
    "pure  = lambda n: dict(name='pure',  isasync=False, fun=lambda g: MCPlay(g, n))\n",
    "mcts  = lambda n, time, board: dict(name='mcts',  isasync=False, fun=lambda g: UTCSearch(g, n, time, board.drawprobs))\n",
    "human = lambda board: dict(name='human', isasync=True,  fun=lambda g: nbgame.Human(g, board))"
   ]
  },
  {
   "cell_type": "code",
   "execution_count": null,
   "metadata": {},
   "outputs": [],
   "source": [
    "game = connect(7,6,4)\n",
    "B = nbgame.board(game)"
   ]
  },
  {
   "cell_type": "code",
   "execution_count": null,
   "metadata": {},
   "outputs": [],
   "source": [
    "nbgame.metaplay(board=B, g=game, dW=pure(100), dB=mcts(10000,5,B))"
   ]
  },
  {
   "cell_type": "code",
   "execution_count": null,
   "metadata": {},
   "outputs": [],
   "source": [
    "game = connect(7,6,4)\n",
    "B = nbgame.board(game)\n",
    "nbgame.metaplay(board=B, g=game, dW=human(B), dB=mcts(1000,5,B))"
   ]
  },
  {
   "cell_type": "code",
   "execution_count": null,
   "metadata": {},
   "outputs": [],
   "source": [
    "game = othello(8)\n",
    "B = nbgame.board(game)"
   ]
  },
  {
   "cell_type": "code",
   "execution_count": null,
   "metadata": {},
   "outputs": [],
   "source": [
    "nbgame.metaplay(board=B, g=game, dW=pure(10), dB=pure(5))"
   ]
  },
  {
   "cell_type": "code",
   "execution_count": null,
   "metadata": {},
   "outputs": [],
   "source": [
    "game = othello(8)\n",
    "B = nbgame.board(game)"
   ]
  },
  {
   "cell_type": "code",
   "execution_count": null,
   "metadata": {},
   "outputs": [],
   "source": [
    "nbgame.metaplay(board=B, g=game, dW=mcts(10000,10,B), dB=human(B))"
   ]
  }
 ],
 "metadata": {
  "kernelspec": {
   "display_name": "Python 3 (ipykernel)",
   "language": "python",
   "name": "python3"
  },
  "language_info": {
   "codemirror_mode": {
    "name": "ipython",
    "version": 3
   },
   "file_extension": ".py",
   "mimetype": "text/x-python",
   "name": "python",
   "nbconvert_exporter": "python",
   "pygments_lexer": "ipython3",
   "version": "3.10.8"
  }
 },
 "nbformat": 4,
 "nbformat_minor": 4
}
