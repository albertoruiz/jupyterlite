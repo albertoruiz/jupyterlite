{
  "metadata": {
    "kernelspec": {
      "name": "python",
      "display_name": "Python (Pyodide)",
      "language": "python"
    },
    "language_info": {
      "codemirror_mode": {
        "name": "python",
        "version": 3
      },
      "file_extension": ".py",
      "mimetype": "text/x-python",
      "name": "python",
      "nbconvert_exporter": "python",
      "pygments_lexer": "ipython3",
      "version": "3.8"
    }
  },
  "nbformat_minor": 4,
  "nbformat": 4,
  "cells": [
    {
      "cell_type": "markdown",
      "source": "# Algunas series de potencias",
      "metadata": {}
    },
    {
      "cell_type": "code",
      "source": "import sympy as sym\n\nfrom sympy import sin, cos, exp, sqrt, log\nfrom sympy import pi, oo, I\nfrom sympy import symbols, N\nfrom sympy.abc import alpha, beta, x, y, r, t, sigma\n\nsym.init_printing(pretty_print=True)\n\ndef doshow(x):\n    display(sym.Eq(x,x.doit()))\n\nsym.__version__",
      "metadata": {
        "hidden": true,
        "trusted": true
      },
      "execution_count": null,
      "outputs": []
    },
    {
      "cell_type": "markdown",
      "source": "Si expresamos una función como serie de potencias, los coeficientes vienen dados por las sucesivas derivadas de la función.\n\n$$f(x) = a_0 + a_1x + a_2 x^2 + a_3x^3 + \\ldots$$\n\n$$f'(x) = a_1+ 2 a_2 x + 3 a_3x^2 + \\ldots$$\n\n$$f''(x) = 2 a_2 + 6 a_3x + \\ldots$$\n$$\\ldots$$\n\n$$a_0 = f(0)$$\n$$a_1 = f^{(1)}(0)$$\n$$a_2 = f^{(2)}(0)/2$$\n$$a_3 = f^{(3)}(0)/6$$\n$$\\ldots$$",
      "metadata": {}
    },
    {
      "cell_type": "code",
      "source": "f = [sym.Function(s) for s in symbols(\"f^((0:5))\")]",
      "metadata": {
        "trusted": true
      },
      "execution_count": null,
      "outputs": []
    },
    {
      "cell_type": "code",
      "source": "series = sum(f[k](0)/sym.factorial(k)*x**k for k in range(len(f)) )\nseries",
      "metadata": {
        "trusted": true
      },
      "execution_count": null,
      "outputs": []
    },
    {
      "cell_type": "markdown",
      "source": "## Exponencial",
      "metadata": {}
    },
    {
      "cell_type": "markdown",
      "source": "La función cuya derivada es ella misma tiene la siguiente serie:",
      "metadata": {}
    },
    {
      "cell_type": "code",
      "source": "for fk, fk_1 in zip(f[-1::-1],f[-2::-1]):\n    series = series.subs(fk,fk_1)\n    display(series)\nseries = series.subs(f[0](0),1)\nseries",
      "metadata": {
        "trusted": true
      },
      "execution_count": null,
      "outputs": []
    },
    {
      "cell_type": "code",
      "source": "def myexp(x,n):\n    return sum(x**k/sym.factorial(k) for k in range(n+1))",
      "metadata": {
        "trusted": true
      },
      "execution_count": null,
      "outputs": []
    },
    {
      "cell_type": "code",
      "source": "myexp(x,5)",
      "metadata": {
        "trusted": true
      },
      "execution_count": null,
      "outputs": []
    },
    {
      "cell_type": "markdown",
      "source": "Se comprueba fácilmente que esta serie cumple la propiedad exponencial $f(x)f(y)=f(x+y)$. El producto de las series se puede reagrupar por diagonales que son las expansiones binomiales de la serie de $f(x+y)$:",
      "metadata": {}
    },
    {
      "cell_type": "code",
      "source": "m = sym.Matrix([[a*b for a in myexp(y,5).args] for b in myexp(x,5).args])\nm",
      "metadata": {
        "trusted": true
      },
      "execution_count": null,
      "outputs": []
    },
    {
      "cell_type": "code",
      "source": "def cdiag(m,k):\n    r,c = m.shape\n    return [m[i,j] for i in range(r) for j in range(c) if i+j==k]",
      "metadata": {
        "trusted": true
      },
      "execution_count": null,
      "outputs": []
    },
    {
      "cell_type": "code",
      "source": "for k in range(6):\n    display(cdiag(m,k))",
      "metadata": {
        "trusted": true
      },
      "execution_count": null,
      "outputs": []
    },
    {
      "cell_type": "code",
      "source": "for k in range(6):\n    display(sum(cdiag(m,k)).factor())",
      "metadata": {
        "trusted": true
      },
      "execution_count": null,
      "outputs": []
    },
    {
      "cell_type": "code",
      "source": "myexp(x+y,5)",
      "metadata": {
        "trusted": true
      },
      "execution_count": null,
      "outputs": []
    },
    {
      "cell_type": "markdown",
      "source": "(Hay otras formas de demostrar que $f'(x)=f(x) \\implies f(x)f(y)=f(x+y)$. Una de ellas se basa en que la derivada de $f(x+y)/f(x)$ es cero. Otra más rebuscada es ver que su función inversa tiene derivada $1/x$ y por tanto puede expresarse como una integral que cumple $\\log(xy)=\\log(x)+\\log(y)$.)",
      "metadata": {}
    },
    {
      "cell_type": "markdown",
      "source": "Por otra parte, podemos construir la serie de la función inversa de la exponencial ya que su derivada  $f'(x) = 1/x$ es recíproca a la de la exponencial $f'(x)=f(x)$. La secuencia de derivadas da lugar a la siguiente serie para $log(1+x)$:",
      "metadata": {}
    },
    {
      "cell_type": "code",
      "source": "sym.series(log(1+x),x,0,6)",
      "metadata": {
        "trusted": true
      },
      "execution_count": null,
      "outputs": []
    },
    {
      "cell_type": "code",
      "source": "def mylog(x,n):\n    return sum((-1)**(k+1)*x**k/k for k in range(1,n+1))",
      "metadata": {
        "trusted": true
      },
      "execution_count": null,
      "outputs": []
    },
    {
      "cell_type": "code",
      "source": "mylog(x,5)",
      "metadata": {
        "trusted": true
      },
      "execution_count": null,
      "outputs": []
    },
    {
      "cell_type": "markdown",
      "source": "Efectivamente esta serie invierte a la exponencial, quedando términos de orden mayor al máximo usado:",
      "metadata": {}
    },
    {
      "cell_type": "code",
      "source": "mylog( myexp(x,4)-1, 4).expand()",
      "metadata": {
        "trusted": true
      },
      "execution_count": null,
      "outputs": []
    },
    {
      "cell_type": "code",
      "source": "myexp( mylog(x,4), 4).expand()",
      "metadata": {
        "trusted": true
      },
      "execution_count": null,
      "outputs": []
    },
    {
      "cell_type": "markdown",
      "source": "## Expansión binomial",
      "metadata": {}
    },
    {
      "cell_type": "markdown",
      "source": "Interesante la relación con la expansión binomial generalizada.",
      "metadata": {}
    },
    {
      "cell_type": "code",
      "source": "def bin(r,k):\n    return sym.prod([r-j for j in range(0,k)])/sym.factorial(k)\n\ndef series(x,y,r,n):\n    return sum([bin(r,k)*x**(r-k)*y**k for k in range(n)])\n\nrat = sym.Rational\n\nε = symbols('epsilon')",
      "metadata": {
        "trusted": true
      },
      "execution_count": null,
      "outputs": []
    },
    {
      "cell_type": "markdown",
      "source": "Primero hay que señalar que el orden importa. Por ejemplo, para $\\sqrt{x+1}$",
      "metadata": {}
    },
    {
      "cell_type": "code",
      "source": "series(x,1,rat(1,2),5)",
      "metadata": {
        "trusted": true
      },
      "execution_count": null,
      "outputs": []
    },
    {
      "cell_type": "code",
      "source": "series(1,x,rat(1,2),5)",
      "metadata": {
        "trusted": true
      },
      "execution_count": null,
      "outputs": []
    },
    {
      "cell_type": "markdown",
      "source": "La serie de potencias se construye con el segundo argumento. La otra no parece tener mucho sentido al menos en este caso, pero...",
      "metadata": {}
    },
    {
      "cell_type": "markdown",
      "source": "Vamos a jugar con los dual numbers, o hyperreals, etc., con un $\\epsilon$ infinitesimal, tal que $\\epsilon^2=0$.",
      "metadata": {}
    },
    {
      "cell_type": "code",
      "source": "((x+ε)**2).expand()",
      "metadata": {
        "trusted": true
      },
      "execution_count": null,
      "outputs": []
    },
    {
      "cell_type": "code",
      "source": "((x+ε)**5).expand()",
      "metadata": {
        "trusted": true
      },
      "execution_count": null,
      "outputs": []
    },
    {
      "cell_type": "markdown",
      "source": "Las coeficientes de las potencias de $\\epsilon$ tienen las sucesivas derivadas (con un coeficiente factorial).",
      "metadata": {}
    },
    {
      "cell_type": "code",
      "source": "for k in range(6):\n    display(sym.diff(x**5,x,k)/sym.factorial(k))",
      "metadata": {
        "trusted": true
      },
      "execution_count": null,
      "outputs": []
    },
    {
      "cell_type": "markdown",
      "source": "En todo caso, la derivada de una potencia entera es fácil de obtener. La cuestión es si la fórmula se generaliza a potencias racionales o reales.",
      "metadata": {}
    },
    {
      "cell_type": "markdown",
      "source": "Por ejemplo para construir la serie de $\\sqrt{x}$ necesito sus sucesivas derivadas. Puedo obtenerlas mediante la derivada de la función inversa de $x^2$ pero estaría bien usar el mismo método que con una potencia entera. La expansión generalizada en $\\epsilon$ nos da las derivadas con el factor factorial.",
      "metadata": {}
    },
    {
      "cell_type": "code",
      "source": "series(x,ε,rat(1,2),5)",
      "metadata": {
        "trusted": true
      },
      "execution_count": null,
      "outputs": []
    },
    {
      "cell_type": "code",
      "source": "for k in range(5):\n    display(sym.diff(x**rat(1,2),x,k)/sym.factorial(k))",
      "metadata": {
        "trusted": true
      },
      "execution_count": null,
      "outputs": []
    },
    {
      "cell_type": "markdown",
      "source": "## $sin$ y $cos$",
      "metadata": {}
    },
    {
      "cell_type": "markdown",
      "source": "De la misma manera obtenemos la serie para las funciones que cumplen $f''(x) = -f(x)$.",
      "metadata": {}
    },
    {
      "cell_type": "code",
      "source": "f = [sym.Function(s) for s in symbols(\"f^((0:7))\")]",
      "metadata": {
        "trusted": true
      },
      "execution_count": null,
      "outputs": []
    },
    {
      "cell_type": "code",
      "source": "series = sum(f[k](0)/sym.factorial(k)*x**k for k in range(len(f)) )\ndisplay(series)\n\nfor fk, fk_1, fk_2 in zip(f[-1::-1],f[-2::-1], f[-3::-1]):\n    series = series.subs(fk(0),-fk_2(0))\n    display(series)\nseries = series.subs(f[0](0),0)\nseries = series.subs(f[1](0),1)\nseries",
      "metadata": {
        "trusted": true
      },
      "execution_count": null,
      "outputs": []
    },
    {
      "cell_type": "code",
      "source": "sym.series(sin(x),x,0,6)",
      "metadata": {
        "trusted": true
      },
      "execution_count": null,
      "outputs": []
    },
    {
      "cell_type": "code",
      "source": "series = sum(f[k](0)/sym.factorial(k)*x**k for k in range(len(f)) )\ndisplay(series)\n\nfor fk, fk_1, fk_2 in zip(f[-1::-1],f[-2::-1], f[-3::-1]):\n    series = series.subs(fk(0),-fk_2(0))\n    display(series)\nseries = series.subs(f[0](0),1)\nseries = series.subs(f[1](0),0)\nseries",
      "metadata": {
        "trusted": true
      },
      "execution_count": null,
      "outputs": []
    },
    {
      "cell_type": "code",
      "source": "sym.series(cos(x),x,0,6)",
      "metadata": {
        "trusted": true
      },
      "execution_count": null,
      "outputs": []
    },
    {
      "cell_type": "markdown",
      "source": "## $e$ es irracional",
      "metadata": {}
    },
    {
      "cell_type": "markdown",
      "source": "$$e = \\sum_{k=0}^n \\frac{1}{k!} + R $$\n\n$$R = \\sum_{k=n+1}^\\infty \\frac{1}{k!} = \\frac{1}{(n+1)!} + \\frac{1}{(n+2)!} + \\ldots = $$\n\n$$ = \\frac{1}{(n+1)!} \\left[1 + \\frac{1}{(n+2)} + \\frac{1}{(n+2)(n+3)} \\ldots \\right] < $$\n\n$$ < \\frac{1}{(n+1)!} \\left[1 + \\frac{1}{(n+1)} + \\frac{1}{(n+1)(n+1)} \\ldots \\right] = $$\n\n$$ = \\frac{1}{(n+1)!} \\sum_{k=0}^\\infty \\frac{1}{(n+1)^k} = \\frac{1}{(n+1)!} \\frac{1}{1- \\frac{1}{n+1}}\n   = \\frac{1}{n!} \\frac {1}{n+1} \\frac{n+1}{n} = \\frac{1}{n!} \\frac{1}{n}$$\n\nSi $e = \\frac{a}{b}$ entonces para $n>b$ se cumple que $n!e \\in \\mathbb N$ y la suma parcial también, pero entonces $0<n!R<1/n$.",
      "metadata": {}
    },
    {
      "cell_type": "code",
      "source": "for k in range(10):\n    display( N(sym.factorial(k)*(exp(1)-myexp(1,k))) )",
      "metadata": {
        "trusted": true
      },
      "execution_count": null,
      "outputs": []
    }
  ]
}