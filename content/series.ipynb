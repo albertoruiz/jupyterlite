{
 "cells": [
  {
   "cell_type": "markdown",
   "metadata": {},
   "source": [
    "# Algunas series de potencias"
   ]
  },
  {
   "cell_type": "code",
   "execution_count": null,
   "metadata": {
    "hidden": true
   },
   "outputs": [],
   "source": [
    "import sympy as sym\n",
    "\n",
    "from sympy import sin, cos, exp, sqrt, log\n",
    "from sympy import pi, oo, I\n",
    "from sympy import symbols, N\n",
    "from sympy.abc import alpha, beta, x, y, r, t, sigma\n",
    "\n",
    "sym.init_printing(pretty_print=True)\n",
    "\n",
    "def doshow(x):\n",
    "    display(sym.Eq(x,x.doit()))\n",
    "\n",
    "sym.__version__"
   ]
  },
  {
   "cell_type": "markdown",
   "metadata": {},
   "source": [
    "Si expresamos una función como serie de potencias, los coeficientes vienen dados por las sucesivas derivadas de la función.\n",
    "\n",
    "$$f(x) = a_0 + a_1x + a_2 x^2 + a_3x^3 + \\ldots$$\n",
    "\n",
    "$$f'(x) = a_1+ 2 a_2 x + 3 a_3x^2 + \\ldots$$\n",
    "\n",
    "$$f''(x) = 2 a_2 + 6 a_3x + \\ldots$$\n",
    "$$\\ldots$$\n",
    "\n",
    "$$a_0 = f(0)$$\n",
    "$$a_1 = f^{(1)}(0)$$\n",
    "$$a_2 = f^{(2)}(0)/2$$\n",
    "$$a_3 = f^{(3)}(0)/6$$\n",
    "$$\\ldots$$"
   ]
  },
  {
   "cell_type": "code",
   "execution_count": null,
   "metadata": {},
   "outputs": [],
   "source": [
    "f = [sym.Function(s) for s in symbols(\"f^((0:5))\")]"
   ]
  },
  {
   "cell_type": "code",
   "execution_count": null,
   "metadata": {},
   "outputs": [],
   "source": [
    "series = sum(f[k](0)/sym.factorial(k)*x**k for k in range(len(f)) )\n",
    "series"
   ]
  },
  {
   "cell_type": "markdown",
   "metadata": {},
   "source": [
    "La función cuya derivada es ella misma tiene la siguiente serie:"
   ]
  },
  {
   "cell_type": "code",
   "execution_count": null,
   "metadata": {},
   "outputs": [],
   "source": [
    "for fk, fk_1 in zip(f[-1::-1],f[-2::-1]):\n",
    "    series = series.subs(fk,fk_1)\n",
    "    display(series)\n",
    "series = series.subs(f[0](0),1)\n",
    "series"
   ]
  },
  {
   "cell_type": "code",
   "execution_count": null,
   "metadata": {},
   "outputs": [],
   "source": [
    "def myexp(x,n):\n",
    "    return sum(x**k/sym.factorial(k) for k in range(n+1))"
   ]
  },
  {
   "cell_type": "code",
   "execution_count": null,
   "metadata": {},
   "outputs": [],
   "source": [
    "myexp(x,5)"
   ]
  },
  {
   "cell_type": "markdown",
   "metadata": {},
   "source": [
    "Se comprueba fácilmente que esta serie cumple la propiedad exponencial $f(x)f(y)=f(x+y)$. El producto de las series se puede reagrupar por diagonales que son las expansiones binomiales de la serie de $f(x+y)$:"
   ]
  },
  {
   "cell_type": "code",
   "execution_count": null,
   "metadata": {},
   "outputs": [],
   "source": [
    "m = sym.Matrix([[a*b for a in myexp(y,5).args] for b in myexp(x,5).args])\n",
    "m"
   ]
  },
  {
   "cell_type": "code",
   "execution_count": null,
   "metadata": {},
   "outputs": [],
   "source": [
    "def cdiag(m,k):\n",
    "    r,c = m.shape\n",
    "    return [m[i,j] for i in range(r) for j in range(c) if i+j==k]"
   ]
  },
  {
   "cell_type": "code",
   "execution_count": null,
   "metadata": {},
   "outputs": [],
   "source": [
    "for k in range(6):\n",
    "    display(cdiag(m,k))"
   ]
  },
  {
   "cell_type": "code",
   "execution_count": null,
   "metadata": {},
   "outputs": [],
   "source": [
    "for k in range(6):\n",
    "    display(sum(cdiag(m,k)).factor())"
   ]
  },
  {
   "cell_type": "code",
   "execution_count": null,
   "metadata": {},
   "outputs": [],
   "source": [
    "myexp(x+y,5)"
   ]
  },
  {
   "cell_type": "markdown",
   "metadata": {},
   "source": [
    "(Hay otras formas de demostrar que $f'(x)=f(x) \\implies f(x)f(y)=f(x+y)$. Una de ellas se basa en que la derivada de $f(x+y)/f(x)$ es cero. Otra más rebuscada es ver que su función inversa tiene derivada $1/x$ y por tanto puede expresarse como una integral que cumple $\\log(xy)=\\log(x)+\\log(y)$.)"
   ]
  },
  {
   "cell_type": "markdown",
   "metadata": {},
   "source": [
    "Por otra parte, podemos construir la serie de la función inversa de la exponencial ya que su derivada  $f'(x) = 1/x$ es recíproca a la de la exponencial $f'(x)=f(x)$. La secuencia de derivadas da lugar a la siguiente serie para $log(1+x)$:"
   ]
  },
  {
   "cell_type": "code",
   "execution_count": null,
   "metadata": {},
   "outputs": [],
   "source": [
    "sym.series(log(1+x),x,0,6)"
   ]
  },
  {
   "cell_type": "code",
   "execution_count": null,
   "metadata": {},
   "outputs": [],
   "source": [
    "def mylog(x,n):\n",
    "    return sum((-1)**(k+1)*x**k/k for k in range(1,n+1))"
   ]
  },
  {
   "cell_type": "code",
   "execution_count": null,
   "metadata": {},
   "outputs": [],
   "source": [
    "mylog(x,5)"
   ]
  },
  {
   "cell_type": "markdown",
   "metadata": {},
   "source": [
    "Efectivamente esta serie invierte a la exponencial, quedando términos de orden mayor al máximo usado:"
   ]
  },
  {
   "cell_type": "code",
   "execution_count": null,
   "metadata": {},
   "outputs": [],
   "source": [
    "mylog( myexp(x,4)-1, 4).expand()"
   ]
  },
  {
   "cell_type": "code",
   "execution_count": null,
   "metadata": {},
   "outputs": [],
   "source": [
    "myexp( mylog(x,4), 4).expand()"
   ]
  },
  {
   "cell_type": "markdown",
   "metadata": {},
   "source": [
    "Interesante la relación con la expansión binomial generalizada."
   ]
  },
  {
   "cell_type": "code",
   "execution_count": null,
   "metadata": {},
   "outputs": [],
   "source": [
    "def bin(r,k):\n",
    "    return sym.prod([r-j for j in range(0,k)])/sym.factorial(k)\n",
    "\n",
    "def series(x,y,r,n):\n",
    "    return sum([bin(r,k)*x**(r-k)*y**k for k in range(n)])\n",
    "\n",
    "rat = sym.Rational\n",
    "\n",
    "ε = symbols('epsilon')"
   ]
  },
  {
   "cell_type": "markdown",
   "metadata": {},
   "source": [
    "Primero hay que señalar que el orden importa. Por ejemplo, para $\\sqrt{x+1}$"
   ]
  },
  {
   "cell_type": "code",
   "execution_count": null,
   "metadata": {},
   "outputs": [],
   "source": [
    "series(x,1,rat(1,2),5)"
   ]
  },
  {
   "cell_type": "code",
   "execution_count": null,
   "metadata": {},
   "outputs": [],
   "source": [
    "series(1,x,rat(1,2),5)"
   ]
  },
  {
   "cell_type": "markdown",
   "metadata": {},
   "source": [
    "La serie de potencias se construye con el segundo argumento. La otra no parece tener mucho sentido al menos en este caso, pero..."
   ]
  },
  {
   "cell_type": "markdown",
   "metadata": {},
   "source": [
    "Vamos a jugar con los dual numbers, o hyperreals, etc., con un $\\epsilon$ infinitesimal, tal que $\\epsilon^2=0$."
   ]
  },
  {
   "cell_type": "code",
   "execution_count": null,
   "metadata": {},
   "outputs": [],
   "source": [
    "((x+ε)**2).expand()"
   ]
  },
  {
   "cell_type": "code",
   "execution_count": null,
   "metadata": {},
   "outputs": [],
   "source": [
    "((x+ε)**5).expand()"
   ]
  },
  {
   "cell_type": "markdown",
   "metadata": {},
   "source": [
    "Las coeficientes de las potencias de $\\epsilon$ tienen las sucesivas derivadas (con un coeficiente factorial)."
   ]
  },
  {
   "cell_type": "code",
   "execution_count": null,
   "metadata": {},
   "outputs": [],
   "source": [
    "for k in range(6):\n",
    "    display(sym.diff(x**5,x,k)/sym.factorial(k))"
   ]
  },
  {
   "cell_type": "markdown",
   "metadata": {},
   "source": [
    "En todo caso, la derivada de una potencia entera es fácil de obtener. La cuestión es si la fórmula se generaliza a potencias racionales o reales."
   ]
  },
  {
   "cell_type": "markdown",
   "metadata": {},
   "source": [
    "Por ejemplo para construir la serie de $\\sqrt{x}$ necesito sus sucesivas derivadas. Puedo obtenerlas mediante la derivada de la función inversa de $x^2$ pero estaría bien usar el mismo método que con una potencia entera. La expansión generalizada en $\\epsilon$ nos da las derivadas con el factor factorial."
   ]
  },
  {
   "cell_type": "code",
   "execution_count": null,
   "metadata": {},
   "outputs": [],
   "source": [
    "series(x,ε,rat(1,2),5)"
   ]
  },
  {
   "cell_type": "code",
   "execution_count": null,
   "metadata": {},
   "outputs": [],
   "source": [
    "for k in range(5):\n",
    "    display(sym.diff(x**rat(1,2),x,k)/sym.factorial(k))"
   ]
  }
 ],
 "metadata": {
  "kernelspec": {
   "display_name": "Python 3 (ipykernel)",
   "language": "python",
   "name": "python3"
  },
  "language_info": {
   "codemirror_mode": {
    "name": "ipython",
    "version": 3
   },
   "file_extension": ".py",
   "mimetype": "text/x-python",
   "name": "python",
   "nbconvert_exporter": "python",
   "pygments_lexer": "ipython3",
   "version": "3.10.8"
  }
 },
 "nbformat": 4,
 "nbformat_minor": 4
}
