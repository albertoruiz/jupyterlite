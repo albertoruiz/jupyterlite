{
  "metadata": {
    "hide_input": false,
    "kernelspec": {
      "name": "python",
      "display_name": "Python (Pyodide)",
      "language": "python"
    },
    "language_info": {
      "codemirror_mode": {
        "name": "python",
        "version": 3
      },
      "file_extension": ".py",
      "mimetype": "text/x-python",
      "name": "python",
      "nbconvert_exporter": "python",
      "pygments_lexer": "ipython3",
      "version": "3.8"
    },
    "varInspector": {
      "cols": {
        "lenName": 16,
        "lenType": 16,
        "lenVar": 40
      },
      "kernels_config": {
        "python": {
          "delete_cmd_postfix": "",
          "delete_cmd_prefix": "del ",
          "library": "var_list.py",
          "varRefreshCmd": "print(var_dic_list())"
        },
        "r": {
          "delete_cmd_postfix": ") ",
          "delete_cmd_prefix": "rm(",
          "library": "var_list.r",
          "varRefreshCmd": "cat(var_dic_list()) "
        }
      },
      "types_to_exclude": [
        "module",
        "function",
        "builtin_function_or_method",
        "instance",
        "_Feature"
      ],
      "window_display": false
    }
  },
  "nbformat_minor": 4,
  "nbformat": 4,
  "cells": [
    {
      "cell_type": "markdown",
      "source": "# Boltzmann, Bose-Einstein, and Fermi-Dirac",
      "metadata": {}
    },
    {
      "cell_type": "markdown",
      "source": "Vamos a construir y comparar estas tres distribuciones construyendo explícitamente todos los microestados. Lógicamente, solo funciona en casos muy pequeños, ya que el problema es salvajemente intratable. Aún así, usando los generadores bajo demanda de Python (o lazy lists de Haskell) el código queda muy elegante.",
      "metadata": {}
    },
    {
      "cell_type": "markdown",
      "source": "### Boltzmann  distribution",
      "metadata": {}
    },
    {
      "cell_type": "code",
      "source": "from itertools import product\nfrom collections import Counter",
      "metadata": {
        "trusted": true
      },
      "execution_count": 1,
      "outputs": []
    },
    {
      "cell_type": "code",
      "source": "Et = 7\nn  = 7\n\nCounter([ tuple(Counter(c).items()) for c in product(range(Et+1),repeat=n) if sum(c) == Et ]).most_common(1)[0][0]",
      "metadata": {
        "trusted": true
      },
      "execution_count": 2,
      "outputs": [
        {
          "execution_count": 2,
          "output_type": "execute_result",
          "data": {
            "text/plain": "((0, 3), (1, 3), (4, 1))"
          },
          "metadata": {}
        }
      ]
    },
    {
      "cell_type": "markdown",
      "source": "Generamos todas las configuraciones de $n$ partículas con posibles energías discretizadas hasta un máximo.",
      "metadata": {}
    },
    {
      "cell_type": "code",
      "source": "(Et+1)**n",
      "metadata": {
        "trusted": true
      },
      "execution_count": 3,
      "outputs": [
        {
          "execution_count": 3,
          "output_type": "execute_result",
          "data": {
            "text/plain": "2097152"
          },
          "metadata": {}
        }
      ]
    },
    {
      "cell_type": "code",
      "source": "from itertools import islice\n\nlist(islice(product(range(Et+1),repeat=n),20))",
      "metadata": {
        "trusted": true
      },
      "execution_count": 4,
      "outputs": [
        {
          "execution_count": 4,
          "output_type": "execute_result",
          "data": {
            "text/plain": "[(0, 0, 0, 0, 0, 0, 0),\n (0, 0, 0, 0, 0, 0, 1),\n (0, 0, 0, 0, 0, 0, 2),\n (0, 0, 0, 0, 0, 0, 3),\n (0, 0, 0, 0, 0, 0, 4),\n (0, 0, 0, 0, 0, 0, 5),\n (0, 0, 0, 0, 0, 0, 6),\n (0, 0, 0, 0, 0, 0, 7),\n (0, 0, 0, 0, 0, 1, 0),\n (0, 0, 0, 0, 0, 1, 1),\n (0, 0, 0, 0, 0, 1, 2),\n (0, 0, 0, 0, 0, 1, 3),\n (0, 0, 0, 0, 0, 1, 4),\n (0, 0, 0, 0, 0, 1, 5),\n (0, 0, 0, 0, 0, 1, 6),\n (0, 0, 0, 0, 0, 1, 7),\n (0, 0, 0, 0, 0, 2, 0),\n (0, 0, 0, 0, 0, 2, 1),\n (0, 0, 0, 0, 0, 2, 2),\n (0, 0, 0, 0, 0, 2, 3)]"
          },
          "metadata": {}
        }
      ]
    },
    {
      "cell_type": "markdown",
      "source": "Nos quedamos con las configuraciones que suman una cierta cantidad:",
      "metadata": {}
    },
    {
      "cell_type": "code",
      "source": "[c for c in product(range(Et+1),repeat=n) if sum(c) == Et][:20]",
      "metadata": {
        "trusted": true
      },
      "execution_count": 5,
      "outputs": [
        {
          "execution_count": 5,
          "output_type": "execute_result",
          "data": {
            "text/plain": "[(0, 0, 0, 0, 0, 0, 7),\n (0, 0, 0, 0, 0, 1, 6),\n (0, 0, 0, 0, 0, 2, 5),\n (0, 0, 0, 0, 0, 3, 4),\n (0, 0, 0, 0, 0, 4, 3),\n (0, 0, 0, 0, 0, 5, 2),\n (0, 0, 0, 0, 0, 6, 1),\n (0, 0, 0, 0, 0, 7, 0),\n (0, 0, 0, 0, 1, 0, 6),\n (0, 0, 0, 0, 1, 1, 5),\n (0, 0, 0, 0, 1, 2, 4),\n (0, 0, 0, 0, 1, 3, 3),\n (0, 0, 0, 0, 1, 4, 2),\n (0, 0, 0, 0, 1, 5, 1),\n (0, 0, 0, 0, 1, 6, 0),\n (0, 0, 0, 0, 2, 0, 5),\n (0, 0, 0, 0, 2, 1, 4),\n (0, 0, 0, 0, 2, 2, 3),\n (0, 0, 0, 0, 2, 3, 2),\n (0, 0, 0, 0, 2, 4, 1)]"
          },
          "metadata": {}
        }
      ]
    },
    {
      "cell_type": "code",
      "source": "[Counter(c) for c in product(range(Et+1),repeat=n) if sum(c) == Et][:20]",
      "metadata": {
        "trusted": true
      },
      "execution_count": 6,
      "outputs": [
        {
          "execution_count": 6,
          "output_type": "execute_result",
          "data": {
            "text/plain": "[Counter({0: 6, 7: 1}),\n Counter({0: 5, 1: 1, 6: 1}),\n Counter({0: 5, 2: 1, 5: 1}),\n Counter({0: 5, 3: 1, 4: 1}),\n Counter({0: 5, 4: 1, 3: 1}),\n Counter({0: 5, 5: 1, 2: 1}),\n Counter({0: 5, 6: 1, 1: 1}),\n Counter({0: 6, 7: 1}),\n Counter({0: 5, 1: 1, 6: 1}),\n Counter({0: 4, 1: 2, 5: 1}),\n Counter({0: 4, 1: 1, 2: 1, 4: 1}),\n Counter({0: 4, 1: 1, 3: 2}),\n Counter({0: 4, 1: 1, 4: 1, 2: 1}),\n Counter({0: 4, 1: 2, 5: 1}),\n Counter({0: 5, 1: 1, 6: 1}),\n Counter({0: 5, 2: 1, 5: 1}),\n Counter({0: 4, 2: 1, 1: 1, 4: 1}),\n Counter({0: 4, 2: 2, 3: 1}),\n Counter({0: 4, 2: 2, 3: 1}),\n Counter({0: 4, 2: 1, 4: 1, 1: 1})]"
          },
          "metadata": {}
        }
      ]
    },
    {
      "cell_type": "code",
      "source": "def totup(c):\n    return tuple([c[k] for k in range(Et+1)])\n\nCounter([ totup(Counter(c)) for c in product(range(Et+1),repeat=n) if sum(c) == Et ])",
      "metadata": {
        "trusted": true
      },
      "execution_count": 7,
      "outputs": [
        {
          "execution_count": 7,
          "output_type": "execute_result",
          "data": {
            "text/plain": "Counter({(6, 0, 0, 0, 0, 0, 0, 1): 7,\n         (5, 1, 0, 0, 0, 0, 1, 0): 42,\n         (5, 0, 1, 0, 0, 1, 0, 0): 42,\n         (5, 0, 0, 1, 1, 0, 0, 0): 42,\n         (4, 2, 0, 0, 0, 1, 0, 0): 105,\n         (4, 1, 1, 0, 1, 0, 0, 0): 210,\n         (4, 1, 0, 2, 0, 0, 0, 0): 105,\n         (4, 0, 2, 1, 0, 0, 0, 0): 105,\n         (3, 3, 0, 0, 1, 0, 0, 0): 140,\n         (3, 2, 1, 1, 0, 0, 0, 0): 420,\n         (3, 1, 3, 0, 0, 0, 0, 0): 140,\n         (2, 4, 0, 1, 0, 0, 0, 0): 105,\n         (2, 3, 2, 0, 0, 0, 0, 0): 210,\n         (1, 5, 1, 0, 0, 0, 0, 0): 42,\n         (0, 7, 0, 0, 0, 0, 0, 0): 1})"
          },
          "metadata": {}
        }
      ]
    },
    {
      "cell_type": "code",
      "source": "# 20 s\n\nEt = 8\nn  = 8\n\nCounter([ totup(Counter(c)) for c in product(range(Et+1),repeat=n) if sum(c) == Et ]).most_common(5)",
      "metadata": {
        "trusted": true
      },
      "execution_count": 8,
      "outputs": [
        {
          "execution_count": 8,
          "output_type": "execute_result",
          "data": {
            "text/plain": "[((3, 3, 1, 1, 0, 0, 0, 0, 0), 1120),\n ((4, 2, 1, 0, 1, 0, 0, 0, 0), 840),\n ((4, 1, 2, 1, 0, 0, 0, 0, 0), 840),\n ((3, 2, 3, 0, 0, 0, 0, 0, 0), 560),\n ((4, 2, 0, 2, 0, 0, 0, 0, 0), 420)]"
          },
          "metadata": {}
        }
      ]
    },
    {
      "cell_type": "code",
      "source": "Et = 5\nn  = 8\n\nCounter([ totup(Counter(c)) for c in product(range(Et+1),repeat=n) if sum(c) == Et ]).most_common()",
      "metadata": {
        "trusted": true
      },
      "execution_count": 9,
      "outputs": [
        {
          "execution_count": 9,
          "output_type": "execute_result",
          "data": {
            "text/plain": "[((4, 3, 1, 0, 0, 0), 280),\n ((5, 2, 0, 1, 0, 0), 168),\n ((5, 1, 2, 0, 0, 0), 168),\n ((6, 1, 0, 0, 1, 0), 56),\n ((6, 0, 1, 1, 0, 0), 56),\n ((3, 5, 0, 0, 0, 0), 56),\n ((7, 0, 0, 0, 0, 1), 8)]"
          },
          "metadata": {}
        }
      ]
    },
    {
      "cell_type": "code",
      "source": "Et = 6\nn  = 9\n\nCounter([ totup(Counter(c)) for c in product(range(Et+1),repeat=n) if sum(c) == Et ]).most_common()",
      "metadata": {
        "trusted": true
      },
      "execution_count": 10,
      "outputs": [
        {
          "execution_count": 10,
          "output_type": "execute_result",
          "data": {
            "text/plain": "[((5, 2, 2, 0, 0, 0, 0), 756),\n ((4, 4, 1, 0, 0, 0, 0), 630),\n ((6, 1, 1, 1, 0, 0, 0), 504),\n ((5, 3, 0, 1, 0, 0, 0), 504),\n ((6, 2, 0, 0, 1, 0, 0), 252),\n ((6, 0, 3, 0, 0, 0, 0), 84),\n ((3, 6, 0, 0, 0, 0, 0), 84),\n ((7, 1, 0, 0, 0, 1, 0), 72),\n ((7, 0, 1, 0, 1, 0, 0), 72),\n ((7, 0, 0, 2, 0, 0, 0), 36),\n ((8, 0, 0, 0, 0, 0, 1), 9)]"
          },
          "metadata": {}
        }
      ]
    },
    {
      "cell_type": "code",
      "source": "Et = 9\nn  = 6\n\nc = Counter([ totup(Counter(c)) for c in product(range(Et+1),repeat=n) if sum(c) == Et ]).most_common()\n\nc",
      "metadata": {
        "trusted": true
      },
      "execution_count": 11,
      "outputs": [
        {
          "execution_count": 11,
          "output_type": "execute_result",
          "data": {
            "text/plain": "[((2, 2, 1, 0, 0, 1, 0, 0, 0, 0), 180),\n ((2, 2, 0, 1, 1, 0, 0, 0, 0, 0), 180),\n ((2, 1, 2, 0, 1, 0, 0, 0, 0, 0), 180),\n ((2, 1, 1, 2, 0, 0, 0, 0, 0, 0), 180),\n ((1, 2, 2, 1, 0, 0, 0, 0, 0, 0), 180),\n ((3, 1, 1, 0, 0, 0, 1, 0, 0, 0), 120),\n ((3, 1, 0, 1, 0, 1, 0, 0, 0, 0), 120),\n ((3, 0, 1, 1, 1, 0, 0, 0, 0, 0), 120),\n ((1, 3, 1, 0, 1, 0, 0, 0, 0, 0), 120),\n ((3, 2, 0, 0, 0, 0, 0, 1, 0, 0), 60),\n ((3, 1, 0, 0, 2, 0, 0, 0, 0, 0), 60),\n ((3, 0, 2, 0, 0, 1, 0, 0, 0, 0), 60),\n ((2, 3, 0, 0, 0, 0, 1, 0, 0, 0), 60),\n ((2, 0, 3, 1, 0, 0, 0, 0, 0, 0), 60),\n ((1, 3, 0, 2, 0, 0, 0, 0, 0, 0), 60),\n ((4, 1, 0, 0, 0, 0, 0, 0, 1, 0), 30),\n ((4, 0, 1, 0, 0, 0, 0, 1, 0, 0), 30),\n ((4, 0, 0, 1, 0, 0, 1, 0, 0, 0), 30),\n ((4, 0, 0, 0, 1, 1, 0, 0, 0, 0), 30),\n ((1, 4, 0, 0, 0, 1, 0, 0, 0, 0), 30),\n ((1, 1, 4, 0, 0, 0, 0, 0, 0, 0), 30),\n ((0, 4, 1, 1, 0, 0, 0, 0, 0, 0), 30),\n ((3, 0, 0, 3, 0, 0, 0, 0, 0, 0), 20),\n ((0, 3, 3, 0, 0, 0, 0, 0, 0, 0), 20),\n ((5, 0, 0, 0, 0, 0, 0, 0, 0, 1), 6),\n ((0, 5, 0, 0, 1, 0, 0, 0, 0, 0), 6)]"
          },
          "metadata": {}
        }
      ]
    },
    {
      "cell_type": "code",
      "source": "import numpy as np\n\ndef boltz(c):\n    v,n = zip(*c)\n    return np.array(v) * np.array(n).reshape(-1,1)\n\nb = boltz(c)\nb",
      "metadata": {
        "trusted": true
      },
      "execution_count": 12,
      "outputs": [
        {
          "execution_count": 12,
          "output_type": "execute_result",
          "data": {
            "text/plain": "array([[360, 360, 180,   0,   0, 180,   0,   0,   0,   0],\n       [360, 360,   0, 180, 180,   0,   0,   0,   0,   0],\n       [360, 180, 360,   0, 180,   0,   0,   0,   0,   0],\n       [360, 180, 180, 360,   0,   0,   0,   0,   0,   0],\n       [180, 360, 360, 180,   0,   0,   0,   0,   0,   0],\n       [360, 120, 120,   0,   0,   0, 120,   0,   0,   0],\n       [360, 120,   0, 120,   0, 120,   0,   0,   0,   0],\n       [360,   0, 120, 120, 120,   0,   0,   0,   0,   0],\n       [120, 360, 120,   0, 120,   0,   0,   0,   0,   0],\n       [180, 120,   0,   0,   0,   0,   0,  60,   0,   0],\n       [180,  60,   0,   0, 120,   0,   0,   0,   0,   0],\n       [180,   0, 120,   0,   0,  60,   0,   0,   0,   0],\n       [120, 180,   0,   0,   0,   0,  60,   0,   0,   0],\n       [120,   0, 180,  60,   0,   0,   0,   0,   0,   0],\n       [ 60, 180,   0, 120,   0,   0,   0,   0,   0,   0],\n       [120,  30,   0,   0,   0,   0,   0,   0,  30,   0],\n       [120,   0,  30,   0,   0,   0,   0,  30,   0,   0],\n       [120,   0,   0,  30,   0,   0,  30,   0,   0,   0],\n       [120,   0,   0,   0,  30,  30,   0,   0,   0,   0],\n       [ 30, 120,   0,   0,   0,  30,   0,   0,   0,   0],\n       [ 30,  30, 120,   0,   0,   0,   0,   0,   0,   0],\n       [  0, 120,  30,  30,   0,   0,   0,   0,   0,   0],\n       [ 60,   0,   0,  60,   0,   0,   0,   0,   0,   0],\n       [  0,  60,  60,   0,   0,   0,   0,   0,   0,   0],\n       [ 30,   0,   0,   0,   0,   0,   0,   0,   0,   6],\n       [  0,  30,   0,   0,   6,   0,   0,   0,   0,   0]])"
          },
          "metadata": {}
        }
      ]
    },
    {
      "cell_type": "code",
      "source": "b = boltz(c).sum(axis=0)\nb",
      "metadata": {
        "trusted": true
      },
      "execution_count": 13,
      "outputs": [
        {
          "execution_count": 13,
          "output_type": "execute_result",
          "data": {
            "text/plain": "array([4290, 2970, 1980, 1260,  756,  420,  210,   90,   30,    6])"
          },
          "metadata": {}
        }
      ]
    },
    {
      "cell_type": "code",
      "source": "import matplotlib.pyplot as plt\n%matplotlib inline",
      "metadata": {
        "trusted": true
      },
      "execution_count": 14,
      "outputs": []
    },
    {
      "cell_type": "code",
      "source": "e = np.arange(0,Et+1)\n\nEm = Et/n\n\nB = np.exp(-e/Em)\n\nplt.bar(e,b/sum(b));\nplt.plot(e,B/sum(B), color='gray');",
      "metadata": {
        "trusted": true
      },
      "execution_count": 15,
      "outputs": [
        {
          "output_type": "display_data",
          "data": {
            "text/plain": "<Figure size 640x480 with 1 Axes>",
            "image/png": "[encoded data removed]"
          },
          "metadata": {}
        }
      ]
    },
    {
      "cell_type": "markdown",
      "source": "### Objetos indistinguibles",
      "metadata": {}
    },
    {
      "cell_type": "markdown",
      "source": "Hacemos todas las configuraciones equiprobables:",
      "metadata": {}
    },
    {
      "cell_type": "code",
      "source": "def bose(c):\n    v,n = zip(*c)\n    return np.array(v)\n\nb = bose(c)\nb",
      "metadata": {
        "trusted": true
      },
      "execution_count": 16,
      "outputs": [
        {
          "execution_count": 16,
          "output_type": "execute_result",
          "data": {
            "text/plain": "array([[2, 2, 1, 0, 0, 1, 0, 0, 0, 0],\n       [2, 2, 0, 1, 1, 0, 0, 0, 0, 0],\n       [2, 1, 2, 0, 1, 0, 0, 0, 0, 0],\n       [2, 1, 1, 2, 0, 0, 0, 0, 0, 0],\n       [1, 2, 2, 1, 0, 0, 0, 0, 0, 0],\n       [3, 1, 1, 0, 0, 0, 1, 0, 0, 0],\n       [3, 1, 0, 1, 0, 1, 0, 0, 0, 0],\n       [3, 0, 1, 1, 1, 0, 0, 0, 0, 0],\n       [1, 3, 1, 0, 1, 0, 0, 0, 0, 0],\n       [3, 2, 0, 0, 0, 0, 0, 1, 0, 0],\n       [3, 1, 0, 0, 2, 0, 0, 0, 0, 0],\n       [3, 0, 2, 0, 0, 1, 0, 0, 0, 0],\n       [2, 3, 0, 0, 0, 0, 1, 0, 0, 0],\n       [2, 0, 3, 1, 0, 0, 0, 0, 0, 0],\n       [1, 3, 0, 2, 0, 0, 0, 0, 0, 0],\n       [4, 1, 0, 0, 0, 0, 0, 0, 1, 0],\n       [4, 0, 1, 0, 0, 0, 0, 1, 0, 0],\n       [4, 0, 0, 1, 0, 0, 1, 0, 0, 0],\n       [4, 0, 0, 0, 1, 1, 0, 0, 0, 0],\n       [1, 4, 0, 0, 0, 1, 0, 0, 0, 0],\n       [1, 1, 4, 0, 0, 0, 0, 0, 0, 0],\n       [0, 4, 1, 1, 0, 0, 0, 0, 0, 0],\n       [3, 0, 0, 3, 0, 0, 0, 0, 0, 0],\n       [0, 3, 3, 0, 0, 0, 0, 0, 0, 0],\n       [5, 0, 0, 0, 0, 0, 0, 0, 0, 1],\n       [0, 5, 0, 0, 1, 0, 0, 0, 0, 0]])"
          },
          "metadata": {}
        }
      ]
    },
    {
      "cell_type": "code",
      "source": "be = bose(c).sum(axis=0)\nbe",
      "metadata": {
        "trusted": true
      },
      "execution_count": 17,
      "outputs": [
        {
          "execution_count": 17,
          "output_type": "execute_result",
          "data": {
            "text/plain": "array([59, 40, 23, 14,  8,  5,  3,  2,  1,  1])"
          },
          "metadata": {}
        }
      ]
    },
    {
      "cell_type": "code",
      "source": "e = np.arange(0,Et+1)\n\nplt.bar(e,be/sum(be));",
      "metadata": {
        "trusted": true
      },
      "execution_count": 18,
      "outputs": [
        {
          "output_type": "display_data",
          "data": {
            "text/plain": "<Figure size 640x480 with 1 Axes>",
            "image/png": "[encoded data removed]"
          },
          "metadata": {}
        }
      ]
    },
    {
      "cell_type": "markdown",
      "source": "### Exclusion Principle",
      "metadata": {}
    },
    {
      "cell_type": "markdown",
      "source": "Quitamos todas las configuraciones anteriores que tienen más de dos objetos con la misma energía.",
      "metadata": {}
    },
    {
      "cell_type": "code",
      "source": "def fermi(c):\n    v,n = zip(*c)\n    v = np.array(v)\n    return v[np.all(b<=2,axis=1)]\n\nf = fermi(c)\nf",
      "metadata": {
        "trusted": true
      },
      "execution_count": 19,
      "outputs": [
        {
          "execution_count": 19,
          "output_type": "execute_result",
          "data": {
            "text/plain": "array([[2, 2, 1, 0, 0, 1, 0, 0, 0, 0],\n       [2, 2, 0, 1, 1, 0, 0, 0, 0, 0],\n       [2, 1, 2, 0, 1, 0, 0, 0, 0, 0],\n       [2, 1, 1, 2, 0, 0, 0, 0, 0, 0],\n       [1, 2, 2, 1, 0, 0, 0, 0, 0, 0]])"
          },
          "metadata": {}
        }
      ]
    },
    {
      "cell_type": "code",
      "source": "fd = fermi(c).sum(axis=0)\nfd",
      "metadata": {
        "trusted": true
      },
      "execution_count": 20,
      "outputs": [
        {
          "execution_count": 20,
          "output_type": "execute_result",
          "data": {
            "text/plain": "array([9, 8, 6, 4, 2, 1, 0, 0, 0, 0])"
          },
          "metadata": {}
        }
      ]
    },
    {
      "cell_type": "code",
      "source": "e = np.arange(0,Et+1)\n\nplt.bar(e,fd/sum(fd));",
      "metadata": {
        "trusted": true
      },
      "execution_count": 21,
      "outputs": [
        {
          "output_type": "display_data",
          "data": {
            "text/plain": "<Figure size 640x480 with 1 Axes>",
            "image/png": "[encoded data removed]"
          },
          "metadata": {}
        }
      ]
    },
    {
      "cell_type": "markdown",
      "source": "### Degenerate levels\n\nTBD",
      "metadata": {}
    },
    {
      "cell_type": "markdown",
      "source": "---\n[Alberto Ruiz](http://dis.um.es/profesores/alberto), 2017/11",
      "metadata": {}
    }
  ]
}