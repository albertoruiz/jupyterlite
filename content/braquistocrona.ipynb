{
  "metadata": {
    "hide_input": false,
    "kernelspec": {
      "name": "python",
      "display_name": "Python (Pyodide)",
      "language": "python"
    },
    "language_info": {
      "codemirror_mode": {
        "name": "python",
        "version": 3
      },
      "file_extension": ".py",
      "mimetype": "text/x-python",
      "name": "python",
      "nbconvert_exporter": "python",
      "pygments_lexer": "ipython3",
      "version": "3.8"
    }
  },
  "nbformat_minor": 4,
  "nbformat": 4,
  "cells": [
    {
      "cell_type": "markdown",
      "source": "## Braquistocrona",
      "metadata": {}
    },
    {
      "cell_type": "markdown",
      "source": "Intentamos resolver el problema con sympy.\n\nEl tiempo en bajar por una curva $y(x)$ es la suma de los tiempos en recorrer cada trozo, a una velocidad $v \\equiv dl/dt$ cambiante, pero que podemos expresar en función de la propia solución $y(x)$ y su derivada.\n\n$$t = \\int_{x_0}^{x_1} dt(x) = \\int_{x_0}^{x_1} \\frac{dl(x)}{v(x)} dx$$\n\nEl diferencial de espacio recorrido $ dl^2 = dx^2 + dy^2$ en estos casos se escribe así:\n\n$$ dl(x) = dx \\; \\sqrt{1 + \\left( \\frac{dy(x)} {dx} \\right)^2 }$$\n\nY por conservación de la energía $m v^2/2 = m g y$ la velocidad en cada posición será $v(x) = \\sqrt{2gy(x)}$. Por tanto la trayectoria $y(x)$ se recorrerá en un tiempo\n\n$$t = \\frac{1}{\\sqrt{2g}}\\int_{x_0}^{x_1} \\sqrt\\frac{1+y'(x)^2}{y(x)} dx$$",
      "metadata": {}
    },
    {
      "cell_type": "markdown",
      "source": "Vamos a comprobar que esta expresión es consistente con el tiempo de descenso por una línea recta a $45^o$ desde (0,1) hasta (1,0), en la que tenemos una aceleración constante y el resultado es inmediato: $e = at^2/2$ implica $t=\\sqrt{2e/a}$. En este caso tenemos $e=\\sqrt{2}$ y $a = g \\cos(45^o) = g \\sqrt{2}/2$, y por tanto $t=2/\\sqrt{g}$. Con esta función $y(x) = 1-x$, la expresión general se reduce a una integral inmediata:\n\n$$t = \\frac{1}{\\sqrt{g}}\\int_{0}^{1} \\frac{1}{\\sqrt{1-x}} dx$$",
      "metadata": {}
    },
    {
      "cell_type": "code",
      "source": "import sympy as sym\n\nfrom sympy import sin, cos, exp, sqrt\nfrom sympy import pi, oo\nfrom sympy import symbols, integrate, diff\nfrom sympy.abc import x\n\nsym.init_printing(pretty_print=True)\n\nintegrate(1/sqrt(1-x),(x,0,1))",
      "metadata": {
        "trusted": true
      },
      "execution_count": null,
      "outputs": []
    },
    {
      "cell_type": "markdown",
      "source": "La curva más rápida es la solución de la ecuación de Euler-Lagrange\n\n$$ \\frac{\\partial L}{\\partial y} = \\frac{d}{dx}\\frac{\\partial L}{\\partial y'} $$\n\nDonde el funcional es\n\n$$ L(x,y,y') = \\sqrt{\\frac{1+y'^2}{y}}$$",
      "metadata": {}
    },
    {
      "cell_type": "code",
      "source": "y = sym.Function('y')\n\nL = sqrt((1+diff(y(x),x)**2)/(y(x)))\n\nL",
      "metadata": {
        "trusted": true
      },
      "execution_count": null,
      "outputs": []
    },
    {
      "cell_type": "code",
      "source": "diff(L,y(x))",
      "metadata": {
        "trusted": true
      },
      "execution_count": null,
      "outputs": []
    },
    {
      "cell_type": "code",
      "source": "diff(L,diff(y(x),x))",
      "metadata": {
        "trusted": true
      },
      "execution_count": null,
      "outputs": []
    },
    {
      "cell_type": "code",
      "source": "diff(diff(L,diff(y(x),x)),x).simplify()",
      "metadata": {
        "trusted": true
      },
      "execution_count": null,
      "outputs": []
    },
    {
      "cell_type": "code",
      "source": "(diff(L,y(x)) - diff(diff(L,diff(y(x),x)),x)).simplify()",
      "metadata": {
        "trusted": true
      },
      "execution_count": null,
      "outputs": []
    },
    {
      "cell_type": "markdown",
      "source": "Yo diría que lo anterior es cero si\n\n$$ 2 y y'' + y'^2 + 1 = 0 $$",
      "metadata": {}
    },
    {
      "cell_type": "code",
      "source": "eq = 2*y(x)*diff(y(x),x,x) + diff(y(x),x)**2 + 1\neq",
      "metadata": {
        "trusted": true
      },
      "execution_count": null,
      "outputs": []
    },
    {
      "cell_type": "code",
      "source": "# sym.dsolve(eq, y(x))\n# NotImplementedError",
      "metadata": {
        "trusted": true
      },
      "execution_count": null,
      "outputs": []
    },
    {
      "cell_type": "markdown",
      "source": "Wolfram Alpha sí la resolvía, pero con arctan",
      "metadata": {}
    },
    {
      "cell_type": "markdown",
      "source": "Pero mejor vamos a intentar con Beltrami:\n\n$$L - y' \\frac{\\partial L}{\\partial y'} = C$$\n\no sea",
      "metadata": {}
    },
    {
      "cell_type": "code",
      "source": "eq = 1/((L - diff(y(x),x) * diff(L,diff(y(x),x)))**2).simplify()\neq",
      "metadata": {
        "trusted": true
      },
      "execution_count": null,
      "outputs": []
    },
    {
      "cell_type": "markdown",
      "source": "Donde hemos elevado al cuadrado e invertido, dado que seguirá siendo una constante. A ver ahora, que quedará de primer orden:",
      "metadata": {}
    },
    {
      "cell_type": "code",
      "source": "eq = (eq-symbols('k',positive=True)).expand()\neq",
      "metadata": {
        "trusted": true
      },
      "execution_count": null,
      "outputs": []
    },
    {
      "cell_type": "code",
      "source": "sym.dsolve(eq, y(x))",
      "metadata": {
        "trusted": true
      },
      "execution_count": null,
      "outputs": []
    },
    {
      "cell_type": "markdown",
      "source": "En una versión anterior de sympy no podía. Ahora no sé cómo interpretarlo... Wolfram Alpha obtenía la misma solución que arriba, con otras constantes.",
      "metadata": {}
    },
    {
      "cell_type": "code",
      "source": "_[0]",
      "metadata": {
        "trusted": true
      },
      "execution_count": null,
      "outputs": []
    },
    {
      "cell_type": "code",
      "source": "print(_)",
      "metadata": {
        "trusted": true
      },
      "execution_count": null,
      "outputs": []
    }
  ]
}