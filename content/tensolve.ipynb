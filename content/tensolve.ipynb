{
  "metadata": {
    "hide_input": false,
    "kernelspec": {
      "name": "python",
      "display_name": "Python (Pyodide)",
      "language": "python"
    },
    "language_info": {
      "codemirror_mode": {
        "name": "python",
        "version": 3
      },
      "file_extension": ".py",
      "mimetype": "text/x-python",
      "name": "python",
      "nbconvert_exporter": "python",
      "pygments_lexer": "ipython3",
      "version": "3.8"
    }
  },
  "nbformat_minor": 4,
  "nbformat": 4,
  "cells": [
    {
      "cell_type": "markdown",
      "source": "# Tensor equations",
      "metadata": {}
    },
    {
      "cell_type": "markdown",
      "source": "A numpy reimplementation of [hTensor](http://dis.um.es/profesores/alberto/material/hTensor.pdf). See also [Multilinear Algebra for Visual Geometry](http://dis.um.es/profesores/alberto/material/mvigro-td.pdf)",
      "metadata": {
        "tags": []
      }
    },
    {
      "cell_type": "code",
      "source": "import sympy\nimport numpy as np\nimport numpy.linalg as la\n\nfrom umucv.tensor import T, mul, mapAt\n\ndef info(x):\n    print(x.A.shape,x.idx)\n\ndef sht(t):\n    return Matrix(t.A.tolist())\n\ndef delta(n):\n    return T(np.eye(n))",
      "metadata": {
        "collapsed": false,
        "jupyter": {
          "outputs_hidden": false
        },
        "trusted": true
      },
      "execution_count": null,
      "outputs": []
    },
    {
      "cell_type": "markdown",
      "source": "## Simple example",
      "metadata": {
        "heading_collapsed": true
      }
    },
    {
      "cell_type": "code",
      "source": "i,j,k,l,p,q = 2,3,4,5,6,7\na = T(np.random.randn(i*j*k*l).reshape(i,j,k,l),'ijkl')\nx = T(np.random.randn(p*q*k*l).reshape(p,q,k,l),'pqkl')\n\nb = a @ x\n\ninfo(a)\ninfo(x)\ninfo(b)\n\ns = b / a\n\ninfo(s)\n\nprint(la.norm((a @ s - b).A))",
      "metadata": {
        "trusted": true
      },
      "execution_count": null,
      "outputs": []
    },
    {
      "cell_type": "code",
      "source": "M1 = np.matrix('1 2 3; 4 5 7').A\nM2 = np.matrix('2 1 1; 1 -1 5').A",
      "metadata": {
        "hidden": true,
        "tags": [],
        "trusted": true
      },
      "execution_count": null,
      "outputs": []
    },
    {
      "cell_type": "code",
      "source": "M = T(np.array([M1,M2]),'cvw')\n\nM",
      "metadata": {
        "collapsed": false,
        "hidden": true,
        "jupyter": {
          "outputs_hidden": false
        },
        "trusted": true
      },
      "execution_count": null,
      "outputs": []
    },
    {
      "cell_type": "code",
      "source": "X = T(np.array([7,0,7]),'w')\n\nX",
      "metadata": {
        "collapsed": false,
        "hidden": true,
        "jupyter": {
          "outputs_hidden": false
        },
        "trusted": true
      },
      "execution_count": null,
      "outputs": []
    },
    {
      "cell_type": "code",
      "source": "v = M @ X\n\nv",
      "metadata": {
        "collapsed": false,
        "hidden": true,
        "jupyter": {
          "outputs_hidden": false
        },
        "trusted": true
      },
      "execution_count": null,
      "outputs": []
    },
    {
      "cell_type": "code",
      "source": "v / M",
      "metadata": {
        "collapsed": false,
        "hidden": true,
        "jupyter": {
          "outputs_hidden": false
        },
        "trusted": true
      },
      "execution_count": null,
      "outputs": []
    },
    {
      "cell_type": "code",
      "source": "X = T(np.array([[7,0,7],[3,3,1]]),'nw')\n\nX",
      "metadata": {
        "collapsed": false,
        "hidden": true,
        "jupyter": {
          "outputs_hidden": false
        },
        "trusted": true
      },
      "execution_count": null,
      "outputs": []
    },
    {
      "cell_type": "code",
      "source": "v = M @ X\n\nv",
      "metadata": {
        "collapsed": false,
        "hidden": true,
        "jupyter": {
          "outputs_hidden": false
        },
        "trusted": true
      },
      "execution_count": null,
      "outputs": []
    },
    {
      "cell_type": "code",
      "source": "v / M",
      "metadata": {
        "collapsed": false,
        "hidden": true,
        "jupyter": {
          "outputs_hidden": false
        },
        "trusted": true
      },
      "execution_count": null,
      "outputs": []
    },
    {
      "cell_type": "markdown",
      "source": "## Fundamental matrix",
      "metadata": {
        "heading_collapsed": true
      }
    },
    {
      "cell_type": "code",
      "source": "v1s = '''\n 0.131250  -0.321875\n-0.046875  -0.225000\n-0.206250  -0.121875\n-0.353125  -0.043750\n 0.156250  -0.200000\n-0.037500  -0.100000\n-0.215625   0.006250\n-0.356250   0.093750\n 0.187500  -0.040625\n-0.012500   0.068750\n-0.215625   0.168750\n-0.381250   0.250000\n 0.237500   0.159375\n 0.009375   0.256250\n-0.218750   0.359375\n-0.396875   0.446875\n 0.362500   0.290625\n 0.137500   0.393750\n-0.062500   0.478125\n-0.234375   0.550000\n 0.462500   0.415625\n 0.256250   0.490625\n 0.056250   0.578125\n-0.109375   0.628125\n 0.543750   0.496875\n 0.343750   0.568750\n 0.146875   0.634375\n 0.006250   0.684375\n'''\n\nv2s ='''\n 0.425000  -0.496875\n 0.293750  -0.556250\n 0.134375  -0.606250\n-0.056250  -0.687500\n 0.465625  -0.368750\n 0.325000  -0.418750\n 0.146875  -0.481250\n-0.034375  -0.537500\n 0.515625  -0.209375\n 0.365625  -0.253125\n 0.181250  -0.318750\n-0.012500  -0.368750\n 0.568750  -0.034375\n 0.403125  -0.078125\n 0.212500  -0.137500\n-0.003125  -0.184375\n 0.418750   0.068750\n 0.271875   0.040625\n 0.090625  -0.000000\n-0.115625  -0.046875\n 0.293750   0.162500\n 0.159375   0.137500\n-0.021875   0.106250\n-0.209375   0.062500\n 0.196875   0.218750\n 0.065625   0.196875\n-0.100000   0.171875\n-0.278125   0.143750\n'''\n\nimport cv2\nfrom io import StringIO\nfrom umucv.htrans import homog, inhomog\n\nv1 = T(homog(np.loadtxt(StringIO(v1s))),'ni')\nv2 = T(homog(np.loadtxt(StringIO(v2s))),'nj')",
      "metadata": {
        "collapsed": false,
        "hidden": true,
        "jupyter": {
          "outputs_hidden": false
        },
        "trusted": true
      },
      "execution_count": null,
      "outputs": []
    },
    {
      "cell_type": "code",
      "source": "v1",
      "metadata": {
        "collapsed": false,
        "hidden": true,
        "jupyter": {
          "outputs_hidden": false
        },
        "trusted": true
      },
      "execution_count": null,
      "outputs": []
    },
    {
      "cell_type": "code",
      "source": "v2",
      "metadata": {
        "collapsed": false,
        "hidden": true,
        "jupyter": {
          "outputs_hidden": false
        },
        "trusted": true
      },
      "execution_count": null,
      "outputs": []
    },
    {
      "cell_type": "code",
      "source": "D = v1 * v2\n\nD.reorder('nij')",
      "metadata": {
        "collapsed": false,
        "hidden": true,
        "jupyter": {
          "outputs_hidden": false
        },
        "trusted": true
      },
      "execution_count": null,
      "outputs": []
    },
    {
      "cell_type": "code",
      "source": "from umucv.tensor import nullTensor\n\nF = nullTensor(D,'ji')\n\nF",
      "metadata": {
        "collapsed": false,
        "hidden": true,
        "jupyter": {
          "outputs_hidden": false
        },
        "trusted": true
      },
      "execution_count": null,
      "outputs": []
    },
    {
      "cell_type": "code",
      "source": "D @ F",
      "metadata": {
        "collapsed": false,
        "hidden": true,
        "jupyter": {
          "outputs_hidden": false
        },
        "trusted": true
      },
      "execution_count": null,
      "outputs": []
    },
    {
      "cell_type": "code",
      "source": "D @ F.reorder('ji')",
      "metadata": {
        "collapsed": false,
        "hidden": true,
        "jupyter": {
          "outputs_hidden": false
        },
        "trusted": true
      },
      "execution_count": null,
      "outputs": []
    },
    {
      "cell_type": "code",
      "source": "D @ F('ji')",
      "metadata": {
        "collapsed": false,
        "hidden": true,
        "jupyter": {
          "outputs_hidden": false
        },
        "trusted": true
      },
      "execution_count": null,
      "outputs": []
    },
    {
      "cell_type": "markdown",
      "source": "## Homography estimation",
      "metadata": {
        "heading_collapsed": true
      }
    },
    {
      "cell_type": "code",
      "source": "x = v1\nh = np.array([[1,2,3],\n              [4,5,6],\n              [1,1,1]])\ny = T(homog(inhomog(v1.A @ h.T)), 'nj')",
      "metadata": {
        "collapsed": false,
        "hidden": true,
        "jupyter": {
          "outputs_hidden": false
        },
        "trusted": true
      },
      "execution_count": null,
      "outputs": []
    },
    {
      "cell_type": "code",
      "source": "y",
      "metadata": {
        "collapsed": false,
        "hidden": true,
        "jupyter": {
          "outputs_hidden": false
        },
        "trusted": true
      },
      "execution_count": null,
      "outputs": []
    },
    {
      "cell_type": "code",
      "source": "from umucv.tensor import eps3",
      "metadata": {
        "hidden": true,
        "tags": [],
        "trusted": true
      },
      "execution_count": null,
      "outputs": []
    },
    {
      "cell_type": "code",
      "source": "D = x * y\n\nH = nullTensor(D @ eps3('ikl'), 'kj')\n\nH",
      "metadata": {
        "collapsed": false,
        "hidden": true,
        "jupyter": {
          "outputs_hidden": false
        },
        "trusted": true
      },
      "execution_count": null,
      "outputs": []
    },
    {
      "cell_type": "code",
      "source": "H.A / H.A[2,2]",
      "metadata": {
        "collapsed": false,
        "hidden": true,
        "jupyter": {
          "outputs_hidden": false
        },
        "trusted": true
      },
      "execution_count": null,
      "outputs": []
    },
    {
      "cell_type": "code",
      "source": "H = nullTensor(D @ eps3('jkl'), 'ki')\n\nH",
      "metadata": {
        "collapsed": false,
        "hidden": true,
        "jupyter": {
          "outputs_hidden": false
        },
        "trusted": true
      },
      "execution_count": null,
      "outputs": []
    },
    {
      "cell_type": "code",
      "source": "H.A / H.A[2,2]",
      "metadata": {
        "collapsed": false,
        "hidden": true,
        "jupyter": {
          "outputs_hidden": false
        },
        "trusted": true
      },
      "execution_count": null,
      "outputs": []
    },
    {
      "cell_type": "markdown",
      "source": "## Triangulation",
      "metadata": {
        "heading_collapsed": true
      }
    },
    {
      "cell_type": "markdown",
      "source": "Interesting example of diagonal extraction, or zipping of structures.",
      "metadata": {
        "hidden": true
      }
    },
    {
      "cell_type": "code",
      "source": "cam1 = np.array(\n [[ 512.,    0.,  320.,    0.],\n  [   0.,  512.,  240.,    0.],\n  [   0.,    0.,    1.,    0.]])\n\ncam2 = np.array(\n[[  27.505, -275.084,  536.765, -352.55 ],\n [  83.161,  429.114,  358.733,    4.747],\n [  -0.711,    0.118,    0.693,    0.365]])",
      "metadata": {
        "collapsed": false,
        "hidden": true,
        "jupyter": {
          "outputs_hidden": false
        },
        "trusted": true
      },
      "execution_count": null,
      "outputs": []
    },
    {
      "cell_type": "code",
      "source": "C = T(np.array([cam1,cam2]),'cvw')\n\nwith np.printoptions(precision=2, suppress=True, threshold=5):\n    print(C)",
      "metadata": {
        "collapsed": false,
        "hidden": true,
        "jupyter": {
          "outputs_hidden": false
        },
        "trusted": true
      },
      "execution_count": null,
      "outputs": []
    },
    {
      "cell_type": "code",
      "source": "p3d = np.array(\n    [[-0.11067118,  0.23208958,  1.22959005],\n    [ 0.02605047,  0.15929016,  1.24963072],\n    [ 0.15278893,  0.07876401,  1.27626139],\n    [ 0.28030864,  0.01599885,  1.32861132],\n    [-0.11708948,  0.12661194,  1.11779301],\n    [ 0.01689746,  0.05494264,  1.14177591],\n    [ 0.14953718, -0.02034495,  1.17971911],\n    [ 0.26161823, -0.08734784,  1.21791671],\n    [-0.12340494,  0.01364562,  0.99764912],\n    [ 0.00155168, -0.05596433,  1.02972522],\n    [ 0.1373791 , -0.12411526,  1.06717139],\n    [ 0.2536887 , -0.18816734,  1.10157925],\n    [-0.1350337 , -0.09502867,  0.88719839],\n    [-0.01000757, -0.15792879,  0.92912773],\n    [ 0.12754962, -0.22443005,  0.9629846 ],\n    [ 0.24391027, -0.29002987,  1.003195  ],\n    [-0.2249506 , -0.18288471,  0.98481174],\n    [-0.08823046, -0.25155878,  1.00771513],\n    [ 0.03940784, -0.31658844,  1.04822339],\n    [ 0.15922148, -0.37992148,  1.09645965],\n    [-0.31134116, -0.28020144,  1.07610716],\n    [-0.1769637 , -0.33922077,  1.09961827],\n    [-0.03994644, -0.41138884,  1.13923163],\n    [ 0.08090013, -0.46762971,  1.18893698],\n    [-0.39645445, -0.35924587,  1.17213933],\n    [-0.25438077, -0.41932229,  1.19260766],\n    [-0.11169695, -0.48399993,  1.22616359],\n    [-0.00422111, -0.5485228 ,  1.28709172]])",
      "metadata": {
        "hidden": true,
        "tags": [],
        "trusted": true
      },
      "execution_count": null,
      "outputs": []
    },
    {
      "cell_type": "code",
      "source": "#views = C @ T(homog(p3d[[0,1],:]),'nw')\n#views",
      "metadata": {
        "collapsed": false,
        "hidden": true,
        "jupyter": {
          "outputs_hidden": false
        },
        "trusted": true
      },
      "execution_count": null,
      "outputs": []
    },
    {
      "cell_type": "code",
      "source": "views = C @ T(homog(p3d[0]),'w')\nviews = T(homog(np.random.rand(2,2)+inhomog(views.A)),'cv')",
      "metadata": {
        "collapsed": false,
        "hidden": true,
        "jupyter": {
          "outputs_hidden": false
        },
        "trusted": true
      },
      "execution_count": null,
      "outputs": []
    },
    {
      "cell_type": "code",
      "source": "views",
      "metadata": {
        "collapsed": false,
        "hidden": true,
        "jupyter": {
          "outputs_hidden": false
        },
        "trusted": true
      },
      "execution_count": null,
      "outputs": []
    },
    {
      "cell_type": "code",
      "source": "p3d[0]",
      "metadata": {
        "collapsed": false,
        "hidden": true,
        "jupyter": {
          "outputs_hidden": false
        },
        "trusted": true
      },
      "execution_count": null,
      "outputs": []
    },
    {
      "cell_type": "code",
      "source": "X =  T(homog(p3d[0]),'w')",
      "metadata": {
        "hidden": true,
        "tags": [],
        "trusted": true
      },
      "execution_count": null,
      "outputs": []
    },
    {
      "cell_type": "code",
      "source": "C @ X",
      "metadata": {
        "collapsed": false,
        "hidden": true,
        "jupyter": {
          "outputs_hidden": false
        },
        "trusted": true
      },
      "execution_count": null,
      "outputs": []
    },
    {
      "cell_type": "code",
      "source": "C @ X @ eps3('vij')",
      "metadata": {
        "collapsed": false,
        "hidden": true,
        "jupyter": {
          "outputs_hidden": false
        },
        "trusted": true
      },
      "execution_count": null,
      "outputs": []
    },
    {
      "cell_type": "code",
      "source": "C @ X @ eps3('vij')  @ views('qi')",
      "metadata": {
        "collapsed": false,
        "hidden": true,
        "jupyter": {
          "outputs_hidden": false
        },
        "trusted": true
      },
      "execution_count": null,
      "outputs": []
    },
    {
      "cell_type": "code",
      "source": "mul(C @ X @ eps3('vij')  , views('ci'), sum='i')",
      "metadata": {
        "collapsed": false,
        "hidden": true,
        "jupyter": {
          "outputs_hidden": false
        },
        "trusted": true
      },
      "execution_count": null,
      "outputs": []
    },
    {
      "cell_type": "code",
      "source": "mul(C @ eps3('vij')  , views('ci'), 'i')",
      "metadata": {
        "collapsed": false,
        "hidden": true,
        "jupyter": {
          "outputs_hidden": false
        },
        "trusted": true
      },
      "execution_count": null,
      "outputs": []
    },
    {
      "cell_type": "code",
      "source": "nullTensor( mul(C @ eps3('vij')  , views('ci'), 'i'), 'w')",
      "metadata": {
        "collapsed": false,
        "hidden": true,
        "jupyter": {
          "outputs_hidden": false
        },
        "trusted": true
      },
      "execution_count": null,
      "outputs": []
    },
    {
      "cell_type": "code",
      "source": "inhomog(_.A)",
      "metadata": {
        "collapsed": false,
        "hidden": true,
        "jupyter": {
          "outputs_hidden": false
        },
        "trusted": true
      },
      "execution_count": null,
      "outputs": []
    },
    {
      "cell_type": "code",
      "source": "p3d[0]",
      "metadata": {
        "collapsed": false,
        "hidden": true,
        "jupyter": {
          "outputs_hidden": false
        },
        "trusted": true
      },
      "execution_count": null,
      "outputs": []
    },
    {
      "cell_type": "code",
      "source": "nullTensor(C @ eps3('vij')  @ views('ci'), 'w')",
      "metadata": {
        "collapsed": false,
        "hidden": true,
        "jupyter": {
          "outputs_hidden": false
        },
        "trusted": true
      },
      "execution_count": null,
      "outputs": []
    },
    {
      "cell_type": "code",
      "source": "inhomog(_.A)",
      "metadata": {
        "collapsed": false,
        "hidden": true,
        "jupyter": {
          "outputs_hidden": false
        },
        "trusted": true
      },
      "execution_count": null,
      "outputs": []
    },
    {
      "cell_type": "code",
      "source": "C",
      "metadata": {
        "collapsed": false,
        "hidden": true,
        "jupyter": {
          "outputs_hidden": false
        },
        "trusted": true
      },
      "execution_count": null,
      "outputs": []
    },
    {
      "cell_type": "code",
      "source": "mapAt(lambda c: c @ X, C ,'c')",
      "metadata": {
        "collapsed": false,
        "hidden": true,
        "jupyter": {
          "outputs_hidden": false
        },
        "trusted": true
      },
      "execution_count": null,
      "outputs": []
    },
    {
      "cell_type": "code",
      "source": "C @ X",
      "metadata": {
        "collapsed": false,
        "hidden": true,
        "jupyter": {
          "outputs_hidden": false
        },
        "trusted": true
      },
      "execution_count": null,
      "outputs": []
    },
    {
      "cell_type": "markdown",
      "source": "## Exterior product and dual",
      "metadata": {
        "heading_collapsed": true
      }
    },
    {
      "cell_type": "code",
      "source": "(T([1,0,0]) ^ T([0,1,0])) @ eps3",
      "metadata": {
        "collapsed": false,
        "hidden": true,
        "jupyter": {
          "outputs_hidden": false
        },
        "trusted": true
      },
      "execution_count": null,
      "outputs": []
    },
    {
      "cell_type": "code",
      "source": "from umucv.tensor import eps4",
      "metadata": {
        "collapsed": false,
        "hidden": true,
        "jupyter": {
          "outputs_hidden": false
        },
        "trusted": true
      },
      "execution_count": null,
      "outputs": []
    },
    {
      "cell_type": "code",
      "source": "eps4",
      "metadata": {
        "collapsed": false,
        "hidden": true,
        "jupyter": {
          "outputs_hidden": false
        },
        "trusted": true
      },
      "execution_count": null,
      "outputs": []
    },
    {
      "cell_type": "code",
      "source": "p = T([1,0,0,1])\nq = T([0,1,0,1])\nl = p ^ q",
      "metadata": {
        "hidden": true,
        "tags": [],
        "trusted": true
      },
      "execution_count": null,
      "outputs": []
    },
    {
      "cell_type": "code",
      "source": "l",
      "metadata": {
        "collapsed": false,
        "hidden": true,
        "jupyter": {
          "outputs_hidden": false
        },
        "trusted": true
      },
      "execution_count": null,
      "outputs": []
    },
    {
      "cell_type": "code",
      "source": "l @ eps4",
      "metadata": {
        "collapsed": false,
        "hidden": true,
        "jupyter": {
          "outputs_hidden": false
        },
        "trusted": true
      },
      "execution_count": null,
      "outputs": []
    },
    {
      "cell_type": "code",
      "source": "(l @ eps4) @ eps4",
      "metadata": {
        "collapsed": false,
        "hidden": true,
        "jupyter": {
          "outputs_hidden": false
        },
        "trusted": true
      },
      "execution_count": null,
      "outputs": []
    },
    {
      "cell_type": "code",
      "source": "eps4 @ eps4",
      "metadata": {
        "collapsed": false,
        "hidden": true,
        "jupyter": {
          "outputs_hidden": false
        },
        "trusted": true
      },
      "execution_count": null,
      "outputs": []
    },
    {
      "cell_type": "code",
      "source": "eps4 @ eps4('jklb')",
      "metadata": {
        "collapsed": false,
        "hidden": true,
        "jupyter": {
          "outputs_hidden": false
        },
        "trusted": true
      },
      "execution_count": null,
      "outputs": []
    }
  ]
}