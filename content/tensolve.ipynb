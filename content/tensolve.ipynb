{
  "metadata": {
    "hide_input": false,
    "kernelspec": {
      "name": "python",
      "display_name": "Python (Pyodide)",
      "language": "python"
    },
    "language_info": {
      "codemirror_mode": {
        "name": "python",
        "version": 3
      },
      "file_extension": ".py",
      "mimetype": "text/x-python",
      "name": "python",
      "nbconvert_exporter": "python",
      "pygments_lexer": "ipython3",
      "version": "3.8"
    }
  },
  "nbformat_minor": 4,
  "nbformat": 4,
  "cells": [
    {
      "cell_type": "markdown",
      "source": "# Tensor equations",
      "metadata": {}
    },
    {
      "cell_type": "markdown",
      "source": "A reimplementation of my loved *[hTensor](http://dis.um.es/profesores/alberto/material/hTensor.pdf)* con numpy.",
      "metadata": {
        "tags": []
      }
    },
    {
      "cell_type": "markdown",
      "source": "See also [Multilinear Algebra for Visual Geometry](http://dis.um.es/profesores/alberto/material/mvigro-td.pdf)",
      "metadata": {}
    },
    {
      "cell_type": "code",
      "source": "import sympy\nimport numpy as np\nimport numpy.linalg as la\n\nfrom umucv.tensor import T, mul, mapAt\n\ndef sht(t):\n    return Matrix(t.A.tolist())\n\ndef delta(n):\n    return T(np.eye(n))",
      "metadata": {
        "collapsed": false,
        "jupyter": {
          "outputs_hidden": false
        },
        "trusted": true
      },
      "execution_count": 1,
      "outputs": []
    },
    {
      "cell_type": "markdown",
      "source": "## Simple example",
      "metadata": {
        "heading_collapsed": true
      }
    },
    {
      "cell_type": "code",
      "source": "M1 = np.matrix('1 2 3; 4 5 7').A\nM2 = np.matrix('2 1 1; 1 -1 5').A",
      "metadata": {
        "hidden": true,
        "tags": [],
        "trusted": true
      },
      "execution_count": 2,
      "outputs": []
    },
    {
      "cell_type": "code",
      "source": "M = T(np.array([M1,M2]),'cvw')\n\nM",
      "metadata": {
        "collapsed": false,
        "hidden": true,
        "jupyter": {
          "outputs_hidden": false
        },
        "trusted": true
      },
      "execution_count": 3,
      "outputs": [
        {
          "execution_count": 3,
          "output_type": "execute_result",
          "data": {
            "text/plain": "T([[[ 1,  2,  3],\n    [ 4,  5,  7]],\n\n   [[ 2,  1,  1],\n    [ 1, -1,  5]]],'cvw')"
          },
          "metadata": {}
        }
      ]
    },
    {
      "cell_type": "code",
      "source": "X = T(np.array([7,0,7]),'w')\n\nX",
      "metadata": {
        "collapsed": false,
        "hidden": true,
        "jupyter": {
          "outputs_hidden": false
        },
        "trusted": true
      },
      "execution_count": 4,
      "outputs": [
        {
          "execution_count": 4,
          "output_type": "execute_result",
          "data": {
            "text/plain": "T([7, 0, 7],'w')"
          },
          "metadata": {}
        }
      ]
    },
    {
      "cell_type": "code",
      "source": "v = M @ X\n\nv",
      "metadata": {
        "collapsed": false,
        "hidden": true,
        "jupyter": {
          "outputs_hidden": false
        },
        "trusted": true
      },
      "execution_count": 5,
      "outputs": [
        {
          "execution_count": 5,
          "output_type": "execute_result",
          "data": {
            "text/plain": "T([[28, 77],\n   [21, 42]],'cv')"
          },
          "metadata": {}
        }
      ]
    },
    {
      "cell_type": "code",
      "source": "v / M",
      "metadata": {
        "collapsed": false,
        "hidden": true,
        "jupyter": {
          "outputs_hidden": false
        },
        "trusted": true
      },
      "execution_count": 6,
      "outputs": [
        {
          "name": "stdout",
          "text": "\u001b[31m [2 2] [3] [2 2] [] (4, 3) (4, 1) \u001b[0m\n",
          "output_type": "stream"
        },
        {
          "execution_count": 6,
          "output_type": "execute_result",
          "data": {
            "text/plain": "T([7.00000000e+00, 2.66453526e-15, 7.00000000e+00],'w')"
          },
          "metadata": {}
        }
      ]
    },
    {
      "cell_type": "code",
      "source": "X = T(np.array([[7,0,7],[3,3,1]]),'nw')\n\nX",
      "metadata": {
        "collapsed": false,
        "hidden": true,
        "jupyter": {
          "outputs_hidden": false
        },
        "trusted": true
      },
      "execution_count": 7,
      "outputs": [
        {
          "execution_count": 7,
          "output_type": "execute_result",
          "data": {
            "text/plain": "T([[7, 0, 7],\n   [3, 3, 1]],'nw')"
          },
          "metadata": {}
        }
      ]
    },
    {
      "cell_type": "code",
      "source": "v = M @ X\n\nv",
      "metadata": {
        "collapsed": false,
        "hidden": true,
        "jupyter": {
          "outputs_hidden": false
        },
        "trusted": true
      },
      "execution_count": 8,
      "outputs": [
        {
          "execution_count": 8,
          "output_type": "execute_result",
          "data": {
            "text/plain": "T([[[28, 77],\n    [12, 34]],\n\n   [[21, 42],\n    [10,  5]]],'cnv')"
          },
          "metadata": {}
        }
      ]
    },
    {
      "cell_type": "code",
      "source": "v / M",
      "metadata": {
        "collapsed": false,
        "hidden": true,
        "jupyter": {
          "outputs_hidden": false
        },
        "trusted": true
      },
      "execution_count": 9,
      "outputs": [
        {
          "name": "stdout",
          "text": "\u001b[31m [2 2] [3] [2 2] [2] (4, 3) (4, 2) \u001b[0m\n",
          "output_type": "stream"
        },
        {
          "execution_count": 9,
          "output_type": "execute_result",
          "data": {
            "text/plain": "T([[7.00000000e+00, 3.00000000e+00],\n   [2.66453526e-15, 3.00000000e+00],\n   [7.00000000e+00, 1.00000000e+00]],'wn')"
          },
          "metadata": {}
        }
      ]
    },
    {
      "cell_type": "markdown",
      "source": "## Fundamental matrix",
      "metadata": {
        "heading_collapsed": true
      }
    },
    {
      "cell_type": "code",
      "source": "v1s = '''\n 0.131250  -0.321875\n-0.046875  -0.225000\n-0.206250  -0.121875\n-0.353125  -0.043750\n 0.156250  -0.200000\n-0.037500  -0.100000\n-0.215625   0.006250\n-0.356250   0.093750\n 0.187500  -0.040625\n-0.012500   0.068750\n-0.215625   0.168750\n-0.381250   0.250000\n 0.237500   0.159375\n 0.009375   0.256250\n-0.218750   0.359375\n-0.396875   0.446875\n 0.362500   0.290625\n 0.137500   0.393750\n-0.062500   0.478125\n-0.234375   0.550000\n 0.462500   0.415625\n 0.256250   0.490625\n 0.056250   0.578125\n-0.109375   0.628125\n 0.543750   0.496875\n 0.343750   0.568750\n 0.146875   0.634375\n 0.006250   0.684375\n'''\n\nv2s ='''\n 0.425000  -0.496875\n 0.293750  -0.556250\n 0.134375  -0.606250\n-0.056250  -0.687500\n 0.465625  -0.368750\n 0.325000  -0.418750\n 0.146875  -0.481250\n-0.034375  -0.537500\n 0.515625  -0.209375\n 0.365625  -0.253125\n 0.181250  -0.318750\n-0.012500  -0.368750\n 0.568750  -0.034375\n 0.403125  -0.078125\n 0.212500  -0.137500\n-0.003125  -0.184375\n 0.418750   0.068750\n 0.271875   0.040625\n 0.090625  -0.000000\n-0.115625  -0.046875\n 0.293750   0.162500\n 0.159375   0.137500\n-0.021875   0.106250\n-0.209375   0.062500\n 0.196875   0.218750\n 0.065625   0.196875\n-0.100000   0.171875\n-0.278125   0.143750\n'''\n\nimport cv2\nfrom io import StringIO\nfrom umucv.htrans import homog, inhomog\n\nv1 = T(homog(np.loadtxt(StringIO(v1s))),'ni')\nv2 = T(homog(np.loadtxt(StringIO(v2s))),'nj')",
      "metadata": {
        "collapsed": false,
        "hidden": true,
        "jupyter": {
          "outputs_hidden": false
        },
        "trusted": true
      },
      "execution_count": 10,
      "outputs": []
    },
    {
      "cell_type": "code",
      "source": "v1",
      "metadata": {
        "collapsed": false,
        "hidden": true,
        "jupyter": {
          "outputs_hidden": false
        },
        "trusted": true
      },
      "execution_count": 11,
      "outputs": [
        {
          "execution_count": 11,
          "output_type": "execute_result",
          "data": {
            "text/plain": "T([[ 0.13125 , -0.321875,  1.      ],\n   [-0.046875, -0.225   ,  1.      ],\n   [-0.20625 , -0.121875,  1.      ],\n   [-0.353125, -0.04375 ,  1.      ],\n   [ 0.15625 , -0.2     ,  1.      ],\n   [-0.0375  , -0.1     ,  1.      ],\n   [-0.215625,  0.00625 ,  1.      ],\n   [-0.35625 ,  0.09375 ,  1.      ],\n   [ 0.1875  , -0.040625,  1.      ],\n   [-0.0125  ,  0.06875 ,  1.      ],\n   [-0.215625,  0.16875 ,  1.      ],\n   [-0.38125 ,  0.25    ,  1.      ],\n   [ 0.2375  ,  0.159375,  1.      ],\n   [ 0.009375,  0.25625 ,  1.      ],\n   [-0.21875 ,  0.359375,  1.      ],\n   [-0.396875,  0.446875,  1.      ],\n   [ 0.3625  ,  0.290625,  1.      ],\n   [ 0.1375  ,  0.39375 ,  1.      ],\n   [-0.0625  ,  0.478125,  1.      ],\n   [-0.234375,  0.55    ,  1.      ],\n   [ 0.4625  ,  0.415625,  1.      ],\n   [ 0.25625 ,  0.490625,  1.      ],\n   [ 0.05625 ,  0.578125,  1.      ],\n   [-0.109375,  0.628125,  1.      ],\n   [ 0.54375 ,  0.496875,  1.      ],\n   [ 0.34375 ,  0.56875 ,  1.      ],\n   [ 0.146875,  0.634375,  1.      ],\n   [ 0.00625 ,  0.684375,  1.      ]],'ni')"
          },
          "metadata": {}
        }
      ]
    },
    {
      "cell_type": "code",
      "source": "v2",
      "metadata": {
        "collapsed": false,
        "hidden": true,
        "jupyter": {
          "outputs_hidden": false
        },
        "trusted": true
      },
      "execution_count": 12,
      "outputs": [
        {
          "execution_count": 12,
          "output_type": "execute_result",
          "data": {
            "text/plain": "T([[ 0.425   , -0.496875,  1.      ],\n   [ 0.29375 , -0.55625 ,  1.      ],\n   [ 0.134375, -0.60625 ,  1.      ],\n   [-0.05625 , -0.6875  ,  1.      ],\n   [ 0.465625, -0.36875 ,  1.      ],\n   [ 0.325   , -0.41875 ,  1.      ],\n   [ 0.146875, -0.48125 ,  1.      ],\n   [-0.034375, -0.5375  ,  1.      ],\n   [ 0.515625, -0.209375,  1.      ],\n   [ 0.365625, -0.253125,  1.      ],\n   [ 0.18125 , -0.31875 ,  1.      ],\n   [-0.0125  , -0.36875 ,  1.      ],\n   [ 0.56875 , -0.034375,  1.      ],\n   [ 0.403125, -0.078125,  1.      ],\n   [ 0.2125  , -0.1375  ,  1.      ],\n   [-0.003125, -0.184375,  1.      ],\n   [ 0.41875 ,  0.06875 ,  1.      ],\n   [ 0.271875,  0.040625,  1.      ],\n   [ 0.090625, -0.      ,  1.      ],\n   [-0.115625, -0.046875,  1.      ],\n   [ 0.29375 ,  0.1625  ,  1.      ],\n   [ 0.159375,  0.1375  ,  1.      ],\n   [-0.021875,  0.10625 ,  1.      ],\n   [-0.209375,  0.0625  ,  1.      ],\n   [ 0.196875,  0.21875 ,  1.      ],\n   [ 0.065625,  0.196875,  1.      ],\n   [-0.1     ,  0.171875,  1.      ],\n   [-0.278125,  0.14375 ,  1.      ]],'nj')"
          },
          "metadata": {}
        }
      ]
    },
    {
      "cell_type": "code",
      "source": "D = v1 * v2\n\nD.reorder('nij')",
      "metadata": {
        "collapsed": false,
        "hidden": true,
        "jupyter": {
          "outputs_hidden": false
        },
        "trusted": true
      },
      "execution_count": 13,
      "outputs": [
        {
          "execution_count": 13,
          "output_type": "execute_result",
          "data": {
            "text/plain": "T([[[ 5.57812500e-02, -6.52148438e-02,  1.31250000e-01],\n    [-1.36796875e-01,  1.59931641e-01, -3.21875000e-01],\n    [ 4.25000000e-01, -4.96875000e-01,  1.00000000e+00]],\n\n   [[-1.37695313e-02,  2.60742188e-02, -4.68750000e-02],\n    [-6.60937500e-02,  1.25156250e-01, -2.25000000e-01],\n    [ 2.93750000e-01, -5.56250000e-01,  1.00000000e+00]],\n\n   [[-2.77148437e-02,  1.25039062e-01, -2.06250000e-01],\n    [-1.63769531e-02,  7.38867187e-02, -1.21875000e-01],\n    [ 1.34375000e-01, -6.06250000e-01,  1.00000000e+00]],\n\n   [[ 1.98632813e-02,  2.42773438e-01, -3.53125000e-01],\n    [ 2.46093750e-03,  3.00781250e-02, -4.37500000e-02],\n    [-5.62500000e-02, -6.87500000e-01,  1.00000000e+00]],\n\n   [[ 7.27539062e-02, -5.76171875e-02,  1.56250000e-01],\n    [-9.31250000e-02,  7.37500000e-02, -2.00000000e-01],\n    [ 4.65625000e-01, -3.68750000e-01,  1.00000000e+00]],\n\n   [[-1.21875000e-02,  1.57031250e-02, -3.75000000e-02],\n    [-3.25000000e-02,  4.18750000e-02, -1.00000000e-01],\n    [ 3.25000000e-01, -4.18750000e-01,  1.00000000e+00]],\n\n   [[-3.16699219e-02,  1.03769531e-01, -2.15625000e-01],\n    [ 9.17968750e-04, -3.00781250e-03,  6.25000000e-03],\n    [ 1.46875000e-01, -4.81250000e-01,  1.00000000e+00]],\n\n   [[ 1.22460938e-02,  1.91484375e-01, -3.56250000e-01],\n    [-3.22265625e-03, -5.03906250e-02,  9.37500000e-02],\n    [-3.43750000e-02, -5.37500000e-01,  1.00000000e+00]],\n\n   [[ 9.66796875e-02, -3.92578125e-02,  1.87500000e-01],\n    [-2.09472656e-02,  8.50585938e-03, -4.06250000e-02],\n    [ 5.15625000e-01, -2.09375000e-01,  1.00000000e+00]],\n\n   [[-4.57031250e-03,  3.16406250e-03, -1.25000000e-02],\n    [ 2.51367188e-02, -1.74023438e-02,  6.87500000e-02],\n    [ 3.65625000e-01, -2.53125000e-01,  1.00000000e+00]],\n\n   [[-3.90820313e-02,  6.87304687e-02, -2.15625000e-01],\n    [ 3.05859375e-02, -5.37890625e-02,  1.68750000e-01],\n    [ 1.81250000e-01, -3.18750000e-01,  1.00000000e+00]],\n\n   [[ 4.76562500e-03,  1.40585938e-01, -3.81250000e-01],\n    [-3.12500000e-03, -9.21875000e-02,  2.50000000e-01],\n    [-1.25000000e-02, -3.68750000e-01,  1.00000000e+00]],\n\n   [[ 1.35078125e-01, -8.16406250e-03,  2.37500000e-01],\n    [ 9.06445312e-02, -5.47851563e-03,  1.59375000e-01],\n    [ 5.68750000e-01, -3.43750000e-02,  1.00000000e+00]],\n\n   [[ 3.77929688e-03, -7.32421875e-04,  9.37500000e-03],\n    [ 1.03300781e-01, -2.00195312e-02,  2.56250000e-01],\n    [ 4.03125000e-01, -7.81250000e-02,  1.00000000e+00]],\n\n   [[-4.64843750e-02,  3.00781250e-02, -2.18750000e-01],\n    [ 7.63671875e-02, -4.94140625e-02,  3.59375000e-01],\n    [ 2.12500000e-01, -1.37500000e-01,  1.00000000e+00]],\n\n   [[ 1.24023438e-03,  7.31738281e-02, -3.96875000e-01],\n    [-1.39648438e-03, -8.23925781e-02,  4.46875000e-01],\n    [-3.12500000e-03, -1.84375000e-01,  1.00000000e+00]],\n\n   [[ 1.51796875e-01,  2.49218750e-02,  3.62500000e-01],\n    [ 1.21699219e-01,  1.99804688e-02,  2.90625000e-01],\n    [ 4.18750000e-01,  6.87500000e-02,  1.00000000e+00]],\n\n   [[ 3.73828125e-02,  5.58593750e-03,  1.37500000e-01],\n    [ 1.07050781e-01,  1.59960937e-02,  3.93750000e-01],\n    [ 2.71875000e-01,  4.06250000e-02,  1.00000000e+00]],\n\n   [[-5.66406250e-03,  0.00000000e+00, -6.25000000e-02],\n    [ 4.33300781e-02,  0.00000000e+00,  4.78125000e-01],\n    [ 9.06250000e-02,  0.00000000e+00,  1.00000000e+00]],\n\n   [[ 2.70996094e-02,  1.09863281e-02, -2.34375000e-01],\n    [-6.35937500e-02, -2.57812500e-02,  5.50000000e-01],\n    [-1.15625000e-01, -4.68750000e-02,  1.00000000e+00]],\n\n   [[ 1.35859375e-01,  7.51562500e-02,  4.62500000e-01],\n    [ 1.22089844e-01,  6.75390625e-02,  4.15625000e-01],\n    [ 2.93750000e-01,  1.62500000e-01,  1.00000000e+00]],\n\n   [[ 4.08398437e-02,  3.52343750e-02,  2.56250000e-01],\n    [ 7.81933594e-02,  6.74609375e-02,  4.90625000e-01],\n    [ 1.59375000e-01,  1.37500000e-01,  1.00000000e+00]],\n\n   [[-1.23046875e-03,  5.97656250e-03,  5.62500000e-02],\n    [-1.26464844e-02,  6.14257812e-02,  5.78125000e-01],\n    [-2.18750000e-02,  1.06250000e-01,  1.00000000e+00]],\n\n   [[ 2.29003906e-02, -6.83593750e-03, -1.09375000e-01],\n    [-1.31513672e-01,  3.92578125e-02,  6.28125000e-01],\n    [-2.09375000e-01,  6.25000000e-02,  1.00000000e+00]],\n\n   [[ 1.07050781e-01,  1.18945312e-01,  5.43750000e-01],\n    [ 9.78222656e-02,  1.08691406e-01,  4.96875000e-01],\n    [ 1.96875000e-01,  2.18750000e-01,  1.00000000e+00]],\n\n   [[ 2.25585938e-02,  6.76757812e-02,  3.43750000e-01],\n    [ 3.73242187e-02,  1.11972656e-01,  5.68750000e-01],\n    [ 6.56250000e-02,  1.96875000e-01,  1.00000000e+00]],\n\n   [[-1.46875000e-02,  2.52441406e-02,  1.46875000e-01],\n    [-6.34375000e-02,  1.09033203e-01,  6.34375000e-01],\n    [-1.00000000e-01,  1.71875000e-01,  1.00000000e+00]],\n\n   [[-1.73828125e-03,  8.98437500e-04,  6.25000000e-03],\n    [-1.90341797e-01,  9.83789062e-02,  6.84375000e-01],\n    [-2.78125000e-01,  1.43750000e-01,  1.00000000e+00]]],'nij')"
          },
          "metadata": {}
        }
      ]
    },
    {
      "cell_type": "code",
      "source": "from umucv.tensor import nullTensor\n\nF = nullTensor(D,'ji')\n\nF",
      "metadata": {
        "collapsed": false,
        "hidden": true,
        "jupyter": {
          "outputs_hidden": false
        },
        "trusted": true
      },
      "execution_count": 14,
      "outputs": [
        {
          "name": "stdout",
          "text": "\u001b[31m [28] [3 3] (28, 9) 9 \u001b[0m\n",
          "output_type": "stream"
        },
        {
          "execution_count": 14,
          "output_type": "execute_result",
          "data": {
            "text/plain": "T([[ 0.03389614,  0.17832885, -0.25265227],\n   [ 0.15881605,  0.08356661, -0.58058121],\n   [-0.2051127 ,  0.64632575,  0.27226467]],'ij')"
          },
          "metadata": {}
        }
      ]
    },
    {
      "cell_type": "code",
      "source": "D @ F",
      "metadata": {
        "collapsed": false,
        "hidden": true,
        "jupyter": {
          "outputs_hidden": false
        },
        "trusted": true
      },
      "execution_count": 15,
      "outputs": [
        {
          "execution_count": 15,
          "output_type": "execute_result",
          "data": {
            "text/plain": "T([-4.36888426e-04, -8.86855987e-04,  6.67711016e-04,  9.42722057e-04,\n   -1.36967090e-03,  3.21175112e-03, -7.29968251e-04, -2.66729279e-03,\n    1.05309555e-03, -1.40489810e-04, -3.12881420e-03,  4.70629769e-03,\n   -2.08495303e-03,  2.67220711e-03, -1.78313610e-03,  5.47466046e-04,\n    1.07785934e-03,  1.44822223e-05, -1.43377528e-03, -3.79639562e-03,\n    1.92647423e-03,  4.57827863e-03, -2.87820782e-04,  5.13116845e-04,\n   -3.13039574e-03, -2.88720220e-03,  1.48921717e-03,  1.39977555e-03],'n')"
          },
          "metadata": {}
        }
      ]
    },
    {
      "cell_type": "code",
      "source": "D @ F.reorder('ji')",
      "metadata": {
        "collapsed": false,
        "hidden": true,
        "jupyter": {
          "outputs_hidden": false
        },
        "trusted": true
      },
      "execution_count": 16,
      "outputs": [
        {
          "execution_count": 16,
          "output_type": "execute_result",
          "data": {
            "text/plain": "T([-4.36888426e-04, -8.86855987e-04,  6.67711016e-04,  9.42722057e-04,\n   -1.36967090e-03,  3.21175112e-03, -7.29968251e-04, -2.66729279e-03,\n    1.05309555e-03, -1.40489810e-04, -3.12881420e-03,  4.70629769e-03,\n   -2.08495303e-03,  2.67220711e-03, -1.78313610e-03,  5.47466046e-04,\n    1.07785934e-03,  1.44822223e-05, -1.43377528e-03, -3.79639562e-03,\n    1.92647423e-03,  4.57827863e-03, -2.87820782e-04,  5.13116845e-04,\n   -3.13039574e-03, -2.88720220e-03,  1.48921717e-03,  1.39977555e-03],'n')"
          },
          "metadata": {}
        }
      ]
    },
    {
      "cell_type": "code",
      "source": "D @ F('ji')",
      "metadata": {
        "collapsed": false,
        "hidden": true,
        "jupyter": {
          "outputs_hidden": false
        },
        "trusted": true
      },
      "execution_count": 17,
      "outputs": [
        {
          "execution_count": 17,
          "output_type": "execute_result",
          "data": {
            "text/plain": "T([0.19891031, 0.38753445, 0.57599818, 0.7719616 , 0.19027047,\n   0.37611467, 0.57814716, 0.75271665, 0.19285201, 0.37722304,\n   0.57537676, 0.74352056, 0.22180882, 0.39623049, 0.58823805,\n   0.7548587 , 0.27251214, 0.42885774, 0.57874711, 0.72141311,\n   0.32142541, 0.44327345, 0.58200954, 0.69680351, 0.35418122,\n   0.46599852, 0.57893959, 0.67448378],'n')"
          },
          "metadata": {}
        }
      ]
    },
    {
      "cell_type": "markdown",
      "source": "## Homography estimation",
      "metadata": {
        "heading_collapsed": true
      }
    },
    {
      "cell_type": "code",
      "source": "x = v1\nh = np.array([[1,2,3],\n              [4,5,6],\n              [1,1,1]])\ny = T(homog(inhomog(v1.A @ h.T)), 'nj')",
      "metadata": {
        "collapsed": false,
        "hidden": true,
        "jupyter": {
          "outputs_hidden": false
        },
        "trusted": true
      },
      "execution_count": 18,
      "outputs": []
    },
    {
      "cell_type": "code",
      "source": "y",
      "metadata": {
        "collapsed": false,
        "hidden": true,
        "jupyter": {
          "outputs_hidden": false
        },
        "trusted": true
      },
      "execution_count": 19,
      "outputs": [
        {
          "execution_count": 19,
          "output_type": "execute_result",
          "data": {
            "text/plain": "T([[3.07335907, 6.07335907, 1.        ],\n   [3.43776824, 6.43776824, 1.        ],\n   [3.79534884, 6.79534884, 1.        ],\n   [4.24352332, 7.24352332, 1.        ],\n   [2.88235294, 5.88235294, 1.        ],\n   [3.20289855, 6.20289855, 1.        ],\n   [3.53754941, 6.53754941, 1.        ],\n   [3.83898305, 6.83898305, 1.        ],\n   [2.70844687, 5.70844687, 1.        ],\n   [2.95857988, 5.95857988, 1.        ],\n   [3.27540984, 6.27540984, 1.        ],\n   [3.58992806, 6.58992806, 1.        ],\n   [2.5458613 , 5.5458613 , 1.        ],\n   [2.78271605, 5.78271605, 1.        ],\n   [3.06849315, 6.06849315, 1.        ],\n   [3.33035714, 6.33035714, 1.        ],\n   [2.38563327, 5.38563327, 1.        ],\n   [2.56326531, 5.56326531, 1.        ],\n   [2.75055188, 5.75055188, 1.        ],\n   [2.93824228, 5.93824228, 1.        ],\n   [2.28618968, 5.28618968, 1.        ],\n   [2.42576029, 5.42576029, 1.        ],\n   [2.57743786, 5.57743786, 1.        ],\n   [2.73045267, 5.73045267, 1.        ],\n   [2.22358346, 5.22358346, 1.        ],\n   [2.34313725, 5.34313725, 1.        ],\n   [2.47894737, 5.47894737, 1.        ],\n   [2.58780037, 5.58780037, 1.        ]],'nj')"
          },
          "metadata": {}
        }
      ]
    },
    {
      "cell_type": "code",
      "source": "from umucv.tensor import eps3",
      "metadata": {
        "hidden": true,
        "tags": [],
        "trusted": true
      },
      "execution_count": 20,
      "outputs": []
    },
    {
      "cell_type": "code",
      "source": "D = x * y\n\nH = nullTensor(D @ eps3('ikl'), 'kj')\n\nH",
      "metadata": {
        "collapsed": false,
        "hidden": true,
        "jupyter": {
          "outputs_hidden": false
        },
        "trusted": true
      },
      "execution_count": 21,
      "outputs": [
        {
          "name": "stdout",
          "text": "\u001b[31m [ 3 28] [3 3] (84, 9) 6 \u001b[0m\n",
          "output_type": "stream"
        },
        {
          "execution_count": 21,
          "output_type": "execute_result",
          "data": {
            "text/plain": "T([[ 0.01439106,  0.05603656, -0.29590859],\n   [-0.01439106, -0.05603656,  0.29590859],\n   [ 0.04317319,  0.16810968, -0.88772576]],'jk')"
          },
          "metadata": {}
        }
      ]
    },
    {
      "cell_type": "code",
      "source": "H.A / H.A[2,2]",
      "metadata": {
        "collapsed": false,
        "hidden": true,
        "jupyter": {
          "outputs_hidden": false
        },
        "trusted": true
      },
      "execution_count": 22,
      "outputs": [
        {
          "execution_count": 22,
          "output_type": "execute_result",
          "data": {
            "text/plain": "array([[-0.01621116, -0.06312373,  0.33333333],\n       [ 0.01621116,  0.06312373, -0.33333333],\n       [-0.04863348, -0.18937118,  1.        ]])"
          },
          "metadata": {}
        }
      ]
    },
    {
      "cell_type": "code",
      "source": "H = nullTensor(D @ eps3('jkl'), 'ki')\n\nH",
      "metadata": {
        "collapsed": false,
        "hidden": true,
        "jupyter": {
          "outputs_hidden": false
        },
        "trusted": true
      },
      "execution_count": 23,
      "outputs": [
        {
          "name": "stdout",
          "text": "\u001b[31m [ 3 28] [3 3] (84, 9) 8 \u001b[0m\n",
          "output_type": "stream"
        },
        {
          "execution_count": 23,
          "output_type": "execute_result",
          "data": {
            "text/plain": "T([[0.10314212, 0.4125685 , 0.10314212],\n   [0.20628425, 0.51571062, 0.10314212],\n   [0.30942637, 0.61885275, 0.10314212]],'ik')"
          },
          "metadata": {}
        }
      ]
    },
    {
      "cell_type": "code",
      "source": "H.A / H.A[2,2]",
      "metadata": {
        "collapsed": false,
        "hidden": true,
        "jupyter": {
          "outputs_hidden": false
        },
        "trusted": true
      },
      "execution_count": 24,
      "outputs": [
        {
          "execution_count": 24,
          "output_type": "execute_result",
          "data": {
            "text/plain": "array([[1., 4., 1.],\n       [2., 5., 1.],\n       [3., 6., 1.]])"
          },
          "metadata": {}
        }
      ]
    },
    {
      "cell_type": "markdown",
      "source": "## Triangulation",
      "metadata": {
        "heading_collapsed": true
      }
    },
    {
      "cell_type": "markdown",
      "source": "Interesting example of diagonal extraction, or zipping of structures.",
      "metadata": {
        "hidden": true
      }
    },
    {
      "cell_type": "code",
      "source": "cam1 = np.array([[ 512.,    0.,  320.,    0.],\n       [   0.,  512.,  240.,    0.],\n       [   0.,    0.,    1.,    0.]])\n\ncam2 = np.array([[  27.505, -275.084,  536.765, -352.55 ],\n [  83.161,  429.114,  358.733,    4.747],\n [  -0.711,    0.118,    0.693,    0.365]])",
      "metadata": {
        "collapsed": false,
        "hidden": true,
        "jupyter": {
          "outputs_hidden": false
        },
        "trusted": true
      },
      "execution_count": 25,
      "outputs": []
    },
    {
      "cell_type": "code",
      "source": "C = T(np.array([cam1,cam2]),'cvw')\n\nwith np.printoptions(precision=2, suppress=True, threshold=5):\n    print(C)",
      "metadata": {
        "collapsed": false,
        "hidden": true,
        "jupyter": {
          "outputs_hidden": false
        },
        "trusted": true
      },
      "execution_count": 26,
      "outputs": [
        {
          "name": "stdout",
          "text": "cvw\n[[[ 512.      0.    320.      0.  ]\n  [   0.    512.    240.      0.  ]\n  [   0.      0.      1.      0.  ]]\n\n [[  27.5  -275.08  536.76 -352.55]\n  [  83.16  429.11  358.73    4.75]\n  [  -0.71    0.12    0.69    0.36]]]\n",
          "output_type": "stream"
        }
      ]
    },
    {
      "cell_type": "code",
      "source": "p3d = np.array([[-0.11067118,  0.23208958,  1.22959005],\n       [ 0.02605047,  0.15929016,  1.24963072],\n       [ 0.15278893,  0.07876401,  1.27626139],\n       [ 0.28030864,  0.01599885,  1.32861132],\n       [-0.11708948,  0.12661194,  1.11779301],\n       [ 0.01689746,  0.05494264,  1.14177591],\n       [ 0.14953718, -0.02034495,  1.17971911],\n       [ 0.26161823, -0.08734784,  1.21791671],\n       [-0.12340494,  0.01364562,  0.99764912],\n       [ 0.00155168, -0.05596433,  1.02972522],\n       [ 0.1373791 , -0.12411526,  1.06717139],\n       [ 0.2536887 , -0.18816734,  1.10157925],\n       [-0.1350337 , -0.09502867,  0.88719839],\n       [-0.01000757, -0.15792879,  0.92912773],\n       [ 0.12754962, -0.22443005,  0.9629846 ],\n       [ 0.24391027, -0.29002987,  1.003195  ],\n       [-0.2249506 , -0.18288471,  0.98481174],\n       [-0.08823046, -0.25155878,  1.00771513],\n       [ 0.03940784, -0.31658844,  1.04822339],\n       [ 0.15922148, -0.37992148,  1.09645965],\n       [-0.31134116, -0.28020144,  1.07610716],\n       [-0.1769637 , -0.33922077,  1.09961827],\n       [-0.03994644, -0.41138884,  1.13923163],\n       [ 0.08090013, -0.46762971,  1.18893698],\n       [-0.39645445, -0.35924587,  1.17213933],\n       [-0.25438077, -0.41932229,  1.19260766],\n       [-0.11169695, -0.48399993,  1.22616359],\n       [-0.00422111, -0.5485228 ,  1.28709172]])",
      "metadata": {
        "hidden": true,
        "tags": [],
        "trusted": true
      },
      "execution_count": 27,
      "outputs": []
    },
    {
      "cell_type": "code",
      "source": "#views = C @ T(homog(p3d[[0,1],:]),'nw')\n#views",
      "metadata": {
        "collapsed": false,
        "hidden": true,
        "jupyter": {
          "outputs_hidden": false
        },
        "trusted": true
      },
      "execution_count": 28,
      "outputs": []
    },
    {
      "cell_type": "code",
      "source": "views = C @ T(homog(p3d[0]),'w')\nviews = T(homog(np.random.rand(2,2)+inhomog(views.A)),'cv')",
      "metadata": {
        "collapsed": false,
        "hidden": true,
        "jupyter": {
          "outputs_hidden": false
        },
        "trusted": true
      },
      "execution_count": 29,
      "outputs": []
    },
    {
      "cell_type": "code",
      "source": "views",
      "metadata": {
        "collapsed": false,
        "hidden": true,
        "jupyter": {
          "outputs_hidden": false
        },
        "trusted": true
      },
      "execution_count": 30,
      "outputs": [
        {
          "execution_count": 30,
          "output_type": "execute_result",
          "data": {
            "text/plain": "T([[273.92989893, 337.53856129,   1.        ],\n   [182.70483509, 405.45428912,   1.        ]],'cv')"
          },
          "metadata": {}
        }
      ]
    },
    {
      "cell_type": "code",
      "source": "p3d[0]",
      "metadata": {
        "collapsed": false,
        "hidden": true,
        "jupyter": {
          "outputs_hidden": false
        },
        "trusted": true
      },
      "execution_count": 31,
      "outputs": [
        {
          "execution_count": 31,
          "output_type": "execute_result",
          "data": {
            "text/plain": "array([-0.11067118,  0.23208958,  1.22959005])"
          },
          "metadata": {}
        }
      ]
    },
    {
      "cell_type": "code",
      "source": "X =  T(homog(p3d[0]),'w')",
      "metadata": {
        "hidden": true,
        "tags": [],
        "trusted": true
      },
      "execution_count": 32,
      "outputs": []
    },
    {
      "cell_type": "code",
      "source": "C @ X",
      "metadata": {
        "collapsed": false,
        "hidden": true,
        "jupyter": {
          "outputs_hidden": false
        },
        "trusted": true
      },
      "execution_count": 33,
      "outputs": [
        {
          "execution_count": 33,
          "output_type": "execute_result",
          "data": {
            "text/plain": "T([[336.80517184, 413.93147696,   1.22959005],\n   [240.56276236, 536.23088944,   1.32317968]],'cv')"
          },
          "metadata": {}
        }
      ]
    },
    {
      "cell_type": "code",
      "source": "C @ X @ eps3('vij')",
      "metadata": {
        "collapsed": false,
        "hidden": true,
        "jupyter": {
          "outputs_hidden": false
        },
        "trusted": true
      },
      "execution_count": 34,
      "outputs": [
        {
          "execution_count": 34,
          "output_type": "execute_result",
          "data": {
            "text/plain": "T([[[   0.        ,    1.22959005, -413.93147696],\n    [  -1.22959005,    0.        ,  336.80517184],\n    [ 413.93147696, -336.80517184,    0.        ]],\n\n   [[   0.        ,    1.32317968, -536.23088944],\n    [  -1.32317968,    0.        ,  240.56276236],\n    [ 536.23088944, -240.56276236,    0.        ]]],'cij')"
          },
          "metadata": {}
        }
      ]
    },
    {
      "cell_type": "code",
      "source": "C @ X @ eps3('vij')  @ views('qi')",
      "metadata": {
        "collapsed": false,
        "hidden": true,
        "jupyter": {
          "outputs_hidden": false
        },
        "trusted": true
      },
      "execution_count": 35,
      "outputs": [
        {
          "execution_count": 35,
          "output_type": "execute_result",
          "data": {
            "text/plain": "T([[[-1.10257950e+00, -8.46110827e+01],\n    [ 1.63062861e-02, -1.12153125e+02],\n    [ 2.96525490e+02,  6.09318193e+04]],\n\n   [[ 8.96067225e+01, -2.57988745e-01],\n    [ 1.21895715e+02,  1.18856361e+00],\n    [-6.56904646e+04, -4.34772423e+02]]],'cjq')"
          },
          "metadata": {}
        }
      ]
    },
    {
      "cell_type": "code",
      "source": "mul(C @ X @ eps3('vij')  , views('ci'), sum='i')",
      "metadata": {
        "collapsed": false,
        "hidden": true,
        "jupyter": {
          "outputs_hidden": false
        },
        "trusted": true
      },
      "execution_count": 36,
      "outputs": [
        {
          "execution_count": 36,
          "output_type": "execute_result",
          "data": {
            "text/plain": "T([[-1.10257950e+00,  1.63062861e-02,  2.96525490e+02],\n   [-2.57988745e-01,  1.18856361e+00, -4.34772423e+02]],'cj')"
          },
          "metadata": {}
        }
      ]
    },
    {
      "cell_type": "code",
      "source": "mul(C @ eps3('vij')  , views('ci'), 'i')",
      "metadata": {
        "collapsed": false,
        "hidden": true,
        "jupyter": {
          "outputs_hidden": false
        },
        "trusted": true
      },
      "execution_count": 37,
      "outputs": [
        {
          "execution_count": 37,
          "output_type": "execute_result",
          "data": {
            "text/plain": "T([[[ 0.00000000e+00,  5.12000000e+02, -9.75385613e+01,\n      0.00000000e+00],\n    [-5.12000000e+02,  0.00000000e+00, -4.60701011e+01,\n      0.00000000e+00],\n    [ 1.72819743e+05, -1.40252108e+05,  4.22691639e+04,\n      0.00000000e+00]],\n\n   [[ 3.71439000e+02,  3.81270394e+02,  7.77531776e+01,\n     -1.43243816e+02],\n    [-1.57408138e+02,  2.96643171e+02, -4.10150549e+02,\n      4.19237265e+02],\n    [-4.04189657e+03, -1.89935190e+05,  1.52091418e+05,\n     -1.43810209e+05]]],'cjw')"
          },
          "metadata": {}
        }
      ]
    },
    {
      "cell_type": "code",
      "source": "nullTensor( mul(C @ eps3('vij')  , views('ci'), 'i'), 'w')",
      "metadata": {
        "collapsed": false,
        "hidden": true,
        "jupyter": {
          "outputs_hidden": false
        },
        "trusted": true
      },
      "execution_count": 38,
      "outputs": [
        {
          "name": "stdout",
          "text": "\u001b[31m [2 3] [4] (6, 4) 4 \u001b[0m\n",
          "output_type": "stream"
        },
        {
          "execution_count": 38,
          "output_type": "execute_result",
          "data": {
            "text/plain": "T([ 0.06957238, -0.14543335, -0.76700866, -0.62105277],'w')"
          },
          "metadata": {}
        }
      ]
    },
    {
      "cell_type": "code",
      "source": "inhomog(_.A)",
      "metadata": {
        "collapsed": false,
        "hidden": true,
        "jupyter": {
          "outputs_hidden": false
        },
        "trusted": true
      },
      "execution_count": 39,
      "outputs": [
        {
          "execution_count": 39,
          "output_type": "execute_result",
          "data": {
            "text/plain": "array([-0.1120233 ,  0.23417229,  1.23501367])"
          },
          "metadata": {}
        }
      ]
    },
    {
      "cell_type": "code",
      "source": "p3d[0]",
      "metadata": {
        "collapsed": false,
        "hidden": true,
        "jupyter": {
          "outputs_hidden": false
        },
        "trusted": true
      },
      "execution_count": 40,
      "outputs": [
        {
          "execution_count": 40,
          "output_type": "execute_result",
          "data": {
            "text/plain": "array([-0.11067118,  0.23208958,  1.22959005])"
          },
          "metadata": {}
        }
      ]
    },
    {
      "cell_type": "code",
      "source": "nullTensor(C @ eps3('vij')  @ views('ci'), 'w')",
      "metadata": {
        "collapsed": false,
        "hidden": true,
        "jupyter": {
          "outputs_hidden": false
        },
        "trusted": true
      },
      "execution_count": 41,
      "outputs": [
        {
          "name": "stdout",
          "text": "\u001b[31m [3] [4] (3, 4) 3 \u001b[0m\n",
          "output_type": "stream"
        },
        {
          "execution_count": 41,
          "output_type": "execute_result",
          "data": {
            "text/plain": "T([-0.0676642 ,  0.14496995,  0.76585353,  0.62279503],'w')"
          },
          "metadata": {}
        }
      ]
    },
    {
      "cell_type": "code",
      "source": "inhomog(_.A)",
      "metadata": {
        "collapsed": false,
        "hidden": true,
        "jupyter": {
          "outputs_hidden": false
        },
        "trusted": true
      },
      "execution_count": 42,
      "outputs": [
        {
          "execution_count": 42,
          "output_type": "execute_result",
          "data": {
            "text/plain": "array([-0.10864601,  0.23277313,  1.22970398])"
          },
          "metadata": {}
        }
      ]
    },
    {
      "cell_type": "code",
      "source": "C",
      "metadata": {
        "collapsed": false,
        "hidden": true,
        "jupyter": {
          "outputs_hidden": false
        },
        "trusted": true
      },
      "execution_count": 43,
      "outputs": [
        {
          "execution_count": 43,
          "output_type": "execute_result",
          "data": {
            "text/plain": "T([[[ 5.12000e+02,  0.00000e+00,  3.20000e+02,  0.00000e+00],\n    [ 0.00000e+00,  5.12000e+02,  2.40000e+02,  0.00000e+00],\n    [ 0.00000e+00,  0.00000e+00,  1.00000e+00,  0.00000e+00]],\n\n   [[ 2.75050e+01, -2.75084e+02,  5.36765e+02, -3.52550e+02],\n    [ 8.31610e+01,  4.29114e+02,  3.58733e+02,  4.74700e+00],\n    [-7.11000e-01,  1.18000e-01,  6.93000e-01,  3.65000e-01]]],'cvw')"
          },
          "metadata": {}
        }
      ]
    },
    {
      "cell_type": "code",
      "source": "mapAt(lambda c: c @ X, C ,'c')",
      "metadata": {
        "collapsed": false,
        "hidden": true,
        "jupyter": {
          "outputs_hidden": false
        },
        "trusted": true
      },
      "execution_count": 44,
      "outputs": [
        {
          "execution_count": 44,
          "output_type": "execute_result",
          "data": {
            "text/plain": "T([[336.80517184, 413.93147696,   1.22959005],\n   [240.56276236, 536.23088944,   1.32317968]],'cv')"
          },
          "metadata": {}
        }
      ]
    },
    {
      "cell_type": "code",
      "source": "C @ X",
      "metadata": {
        "collapsed": false,
        "hidden": true,
        "jupyter": {
          "outputs_hidden": false
        },
        "trusted": true
      },
      "execution_count": 45,
      "outputs": [
        {
          "execution_count": 45,
          "output_type": "execute_result",
          "data": {
            "text/plain": "T([[336.80517184, 413.93147696,   1.22959005],\n   [240.56276236, 536.23088944,   1.32317968]],'cv')"
          },
          "metadata": {}
        }
      ]
    },
    {
      "cell_type": "markdown",
      "source": "## Exterior product and dual",
      "metadata": {
        "heading_collapsed": true
      }
    },
    {
      "cell_type": "code",
      "source": "(T([1,0,0]) ^ T([0,1,0])) @ eps3",
      "metadata": {
        "collapsed": false,
        "hidden": true,
        "jupyter": {
          "outputs_hidden": false
        },
        "trusted": true
      },
      "execution_count": 46,
      "outputs": [
        {
          "execution_count": 46,
          "output_type": "execute_result",
          "data": {
            "text/plain": "T([0., 0., 2.],'k')"
          },
          "metadata": {}
        }
      ]
    },
    {
      "cell_type": "code",
      "source": "from umucv.tensor import eps4",
      "metadata": {
        "collapsed": false,
        "hidden": true,
        "jupyter": {
          "outputs_hidden": false
        },
        "trusted": true
      },
      "execution_count": 47,
      "outputs": []
    },
    {
      "cell_type": "code",
      "source": "eps4",
      "metadata": {
        "collapsed": false,
        "hidden": true,
        "jupyter": {
          "outputs_hidden": false
        },
        "trusted": true
      },
      "execution_count": 48,
      "outputs": [
        {
          "execution_count": 48,
          "output_type": "execute_result",
          "data": {
            "text/plain": "T([[[[ 0.,  0.,  0.,  0.],\n     [ 0.,  0.,  0.,  0.],\n     [ 0.,  0.,  0.,  0.],\n     [ 0.,  0.,  0.,  0.]],\n\n    [[ 0.,  0.,  0.,  0.],\n     [ 0.,  0.,  0.,  0.],\n     [ 0.,  0.,  0.,  1.],\n     [ 0.,  0., -1.,  0.]],\n\n    [[ 0.,  0.,  0.,  0.],\n     [ 0.,  0.,  0., -1.],\n     [ 0.,  0.,  0.,  0.],\n     [ 0.,  1.,  0.,  0.]],\n\n    [[ 0.,  0.,  0.,  0.],\n     [ 0.,  0.,  1.,  0.],\n     [ 0., -1.,  0.,  0.],\n     [ 0.,  0.,  0.,  0.]]],\n\n\n   [[[ 0.,  0.,  0.,  0.],\n     [ 0.,  0.,  0.,  0.],\n     [ 0.,  0.,  0., -1.],\n     [ 0.,  0.,  1.,  0.]],\n\n    [[ 0.,  0.,  0.,  0.],\n     [ 0.,  0.,  0.,  0.],\n     [ 0.,  0.,  0.,  0.],\n     [ 0.,  0.,  0.,  0.]],\n\n    [[ 0.,  0.,  0.,  1.],\n     [ 0.,  0.,  0.,  0.],\n     [ 0.,  0.,  0.,  0.],\n     [-1.,  0.,  0.,  0.]],\n\n    [[ 0.,  0., -1.,  0.],\n     [ 0.,  0.,  0.,  0.],\n     [ 1.,  0.,  0.,  0.],\n     [ 0.,  0.,  0.,  0.]]],\n\n\n   [[[ 0.,  0.,  0.,  0.],\n     [ 0.,  0.,  0.,  1.],\n     [ 0.,  0.,  0.,  0.],\n     [ 0., -1.,  0.,  0.]],\n\n    [[ 0.,  0.,  0., -1.],\n     [ 0.,  0.,  0.,  0.],\n     [ 0.,  0.,  0.,  0.],\n     [ 1.,  0.,  0.,  0.]],\n\n    [[ 0.,  0.,  0.,  0.],\n     [ 0.,  0.,  0.,  0.],\n     [ 0.,  0.,  0.,  0.],\n     [ 0.,  0.,  0.,  0.]],\n\n    [[ 0.,  1.,  0.,  0.],\n     [-1.,  0.,  0.,  0.],\n     [ 0.,  0.,  0.,  0.],\n     [ 0.,  0.,  0.,  0.]]],\n\n\n   [[[ 0.,  0.,  0.,  0.],\n     [ 0.,  0., -1.,  0.],\n     [ 0.,  1.,  0.,  0.],\n     [ 0.,  0.,  0.,  0.]],\n\n    [[ 0.,  0.,  1.,  0.],\n     [ 0.,  0.,  0.,  0.],\n     [-1.,  0.,  0.,  0.],\n     [ 0.,  0.,  0.,  0.]],\n\n    [[ 0., -1.,  0.,  0.],\n     [ 1.,  0.,  0.,  0.],\n     [ 0.,  0.,  0.,  0.],\n     [ 0.,  0.,  0.,  0.]],\n\n    [[ 0.,  0.,  0.,  0.],\n     [ 0.,  0.,  0.,  0.],\n     [ 0.,  0.,  0.,  0.],\n     [ 0.,  0.,  0.,  0.]]]],'ijkl')"
          },
          "metadata": {}
        }
      ]
    },
    {
      "cell_type": "code",
      "source": "p = T([1,0,0,1])\nq = T([0,1,0,1])\nl = p ^ q",
      "metadata": {
        "hidden": true,
        "tags": [],
        "trusted": true
      },
      "execution_count": 49,
      "outputs": []
    },
    {
      "cell_type": "code",
      "source": "l",
      "metadata": {
        "collapsed": false,
        "hidden": true,
        "jupyter": {
          "outputs_hidden": false
        },
        "trusted": true
      },
      "execution_count": 50,
      "outputs": [
        {
          "execution_count": 50,
          "output_type": "execute_result",
          "data": {
            "text/plain": "T([[ 0,  1,  0,  1],\n   [-1,  0,  0, -1],\n   [ 0,  0,  0,  0],\n   [-1,  1,  0,  0]],'ij')"
          },
          "metadata": {}
        }
      ]
    },
    {
      "cell_type": "code",
      "source": "l @ eps4",
      "metadata": {
        "collapsed": false,
        "hidden": true,
        "jupyter": {
          "outputs_hidden": false
        },
        "trusted": true
      },
      "execution_count": 51,
      "outputs": [
        {
          "execution_count": 51,
          "output_type": "execute_result",
          "data": {
            "text/plain": "T([[ 0.,  0.,  2.,  0.],\n   [ 0.,  0.,  2.,  0.],\n   [-2., -2.,  0.,  2.],\n   [ 0.,  0., -2.,  0.]],'kl')"
          },
          "metadata": {}
        }
      ]
    },
    {
      "cell_type": "code",
      "source": "(l @ eps4) @ eps4",
      "metadata": {
        "collapsed": false,
        "hidden": true,
        "jupyter": {
          "outputs_hidden": false
        },
        "trusted": true
      },
      "execution_count": 52,
      "outputs": [
        {
          "execution_count": 52,
          "output_type": "execute_result",
          "data": {
            "text/plain": "T([[ 0.,  4.,  0.,  4.],\n   [-4.,  0.,  0., -4.],\n   [ 0.,  0.,  0.,  0.],\n   [-4.,  4.,  0.,  0.]],'ij')"
          },
          "metadata": {}
        }
      ]
    },
    {
      "cell_type": "code",
      "source": "eps4 @ eps4",
      "metadata": {
        "collapsed": false,
        "hidden": true,
        "jupyter": {
          "outputs_hidden": false
        },
        "trusted": true
      },
      "execution_count": 53,
      "outputs": [
        {
          "execution_count": 53,
          "output_type": "execute_result",
          "data": {
            "text/plain": "T(24.,'')"
          },
          "metadata": {}
        }
      ]
    },
    {
      "cell_type": "code",
      "source": "eps4 @ eps4('jklb')",
      "metadata": {
        "collapsed": false,
        "hidden": true,
        "jupyter": {
          "outputs_hidden": false
        },
        "trusted": true
      },
      "execution_count": 54,
      "outputs": [
        {
          "execution_count": 54,
          "output_type": "execute_result",
          "data": {
            "text/plain": "T([[-6.,  0.,  0.,  0.],\n   [ 0., -6.,  0.,  0.],\n   [ 0.,  0., -6.,  0.],\n   [ 0.,  0.,  0., -6.]],'bi')"
          },
          "metadata": {}
        }
      ]
    }
  ]
}