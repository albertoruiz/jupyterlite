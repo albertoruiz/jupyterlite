{
  "metadata": {
    "anaconda-cloud": {},
    "kernelspec": {
      "name": "python",
      "display_name": "Python (Pyodide)",
      "language": "python"
    },
    "language_info": {
      "codemirror_mode": {
        "name": "python",
        "version": 3
      },
      "file_extension": ".py",
      "mimetype": "text/x-python",
      "name": "python",
      "nbconvert_exporter": "python",
      "pygments_lexer": "ipython3",
      "version": "3.8"
    }
  },
  "nbformat_minor": 4,
  "nbformat": 4,
  "cells": [
    {
      "cell_type": "markdown",
      "source": "# Series para $\\pi$",
      "metadata": {
        "trusted": true
      }
    },
    {
      "cell_type": "markdown",
      "source": "## Basadas en ArcTan",
      "metadata": {
        "tags": [],
        "trusted": true
      }
    },
    {
      "cell_type": "markdown",
      "source": "El siguiente rompecabezas matemático abre un montón de temas interesantes. Se trata de demostrar que los ángulos $b+c=a$.",
      "metadata": {}
    },
    {
      "cell_type": "code",
      "source": "from IPython.display import SVG, HTML, display\n\nHTML('''<svg width=\"310\" height=\"110\">\n  <rect x=\"5\" y=\"5\" width=\"100\" height=\"100\" stroke=\"black\" stroke-width=\"2\" fill=\"none\" />\n  <rect x=\"105\" y=\"5\" width=\"100\" height=\"100\" stroke=\"black\" stroke-width=\"2\" fill=\"none\" />\n  <rect x=\"205\" y=\"5\" width=\"100\" height=\"100\" stroke=\"black\" stroke-width=\"2\" fill=\"none\" />\n  <line x1=\"5\" y1=\"105\" x2=\"105\" y2=\"5\" stroke=\"black\" stroke-width=\"2\" />\n  <line x1=\"5\" y1=\"105\" x2=\"205\" y2=\"5\" stroke=\"black\" stroke-width=\"2\" />\n  <line x1=\"5\" y1=\"105\" x2=\"305\" y2=\"5\" stroke=\"black\" stroke-width=\"2\" />\n  <text x=\"70\" y=\"20\">a</text>\n  <text x=\"155\" y=\"20\">b</text>\n  <text x=\"240\" y=\"20\">c</text>\n</svg>\n''')",
      "metadata": {
        "tags": [],
        "jupyter": {
          "source_hidden": true
        },
        "trusted": true
      },
      "execution_count": 1,
      "outputs": [
        {
          "execution_count": 1,
          "output_type": "execute_result",
          "data": {
            "text/plain": "<IPython.core.display.HTML object>",
            "text/html": "<svg width=\"310\" height=\"110\">\n  <rect x=\"5\" y=\"5\" width=\"100\" height=\"100\" stroke=\"black\" stroke-width=\"2\" fill=\"none\" />\n  <rect x=\"105\" y=\"5\" width=\"100\" height=\"100\" stroke=\"black\" stroke-width=\"2\" fill=\"none\" />\n  <rect x=\"205\" y=\"5\" width=\"100\" height=\"100\" stroke=\"black\" stroke-width=\"2\" fill=\"none\" />\n  <line x1=\"5\" y1=\"105\" x2=\"105\" y2=\"5\" stroke=\"black\" stroke-width=\"2\" />\n  <line x1=\"5\" y1=\"105\" x2=\"205\" y2=\"5\" stroke=\"black\" stroke-width=\"2\" />\n  <line x1=\"5\" y1=\"105\" x2=\"305\" y2=\"5\" stroke=\"black\" stroke-width=\"2\" />\n  <text x=\"70\" y=\"20\">a</text>\n  <text x=\"155\" y=\"20\">b</text>\n  <text x=\"240\" y=\"20\">c</text>\n</svg>\n"
          },
          "metadata": {}
        }
      ]
    },
    {
      "cell_type": "markdown",
      "source": "Es fácil demostrarlo con la siguiente construcción, en la que construimos un triángulo sobre el otro con las proporciones adecuadas:",
      "metadata": {}
    },
    {
      "cell_type": "code",
      "source": "import matplotlib.pyplot as plt\n\nplt.figure(figsize=(4,4))\nfor k in range(-1,7):\n    plt.plot([-1,6],[k,k],color='gray', lw=1)\n    plt.plot([k,k],[-1,6],color='gray', lw=1)\n    plt.plot([5,-1,0],[5,2,0],color='gray', lw=0.5)\n    plt.plot([2,1],[1,3],color='gray', lw=0.5)\n    plt.plot([4,3],[2,4],color='gray', lw=0.5)\n    plt.plot([0,6,5,0],[0,3,5,0],color='black', lw=2)\n    plt.plot([0,2,2],[0,0,1],color='black', lw=2)\nplt.axis('equal');\nplt.axis('off');\nplt.tight_layout;",
      "metadata": {
        "tags": [],
        "jupyter": {
          "source_hidden": true
        },
        "trusted": true
      },
      "execution_count": null,
      "outputs": []
    },
    {
      "cell_type": "markdown",
      "source": "Nos da una bonita expresión para $\\pi$:\n\n$$\\frac{\\pi}{4} = \\arctan 1 = \\arctan\\frac{1}{2} + \\arctan\\frac{1}{3} $$",
      "metadata": {}
    },
    {
      "cell_type": "markdown",
      "source": "Se trata de una \"[Machin-like formula](https://en.wikipedia.org/wiki/Machin-like_formula)\", que trata de expresar una fracción de $\\pi$ mediante la suma de arcos cuya tangente sea una fracción pequeña , para meterla en la serie de la arcotangente y conseguir una convergencia rápida. Porque en principio se podría con la arcotangente de 1, pero es salvajemente lento.",
      "metadata": {
        "trusted": true
      }
    },
    {
      "cell_type": "markdown",
      "source": "En general\n\n$$\\arctan\\frac{b}{a} + \\arctan\\frac{d}{c} = \\arctan\\frac{ac-bd}{ad+bc}$$\n\nque es exactamente lo mismo que la suma de fases en el producto de números complejos (cuyas operaciones podrían interpretarse como transformaciones de triángulos rectángulos).",
      "metadata": {}
    },
    {
      "cell_type": "code",
      "source": "import fractions as f\nimport math as m",
      "metadata": {
        "tags": [],
        "trusted": true
      },
      "execution_count": null,
      "outputs": []
    },
    {
      "cell_type": "code",
      "source": "m.pi/(m.atan(f.Fraction('1/2'))+m.atan(f.Fraction('1/3')))",
      "metadata": {
        "jupyter": {
          "outputs_hidden": false
        },
        "collapsed": false,
        "trusted": true
      },
      "execution_count": null,
      "outputs": []
    },
    {
      "cell_type": "code",
      "source": "m.pi/(2*m.atan(f.Fraction('1/3'))+m.atan(f.Fraction('1/7')))",
      "metadata": {
        "jupyter": {
          "outputs_hidden": false
        },
        "collapsed": false,
        "trusted": true
      },
      "execution_count": null,
      "outputs": []
    },
    {
      "cell_type": "code",
      "source": "m.pi/(m.atan(f.Fraction('1/2'))+m.atan(f.Fraction('1/5'))+m.atan(f.Fraction('1/8')))",
      "metadata": {
        "jupyter": {
          "outputs_hidden": false
        },
        "collapsed": false,
        "trusted": true
      },
      "execution_count": null,
      "outputs": []
    },
    {
      "cell_type": "markdown",
      "source": "Cuanto menor sea el argumentos la serie converge más rápido:",
      "metadata": {
        "trusted": true
      }
    },
    {
      "cell_type": "code",
      "source": "def atan(x,n):\n    return sum([(-1)**k*x**(2*k+1)/(2*k+1) for k in range(n)])",
      "metadata": {
        "tags": [],
        "trusted": true
      },
      "execution_count": null,
      "outputs": []
    },
    {
      "cell_type": "code",
      "source": "m.atan(f.Fraction('1/8'))",
      "metadata": {
        "tags": [],
        "trusted": true
      },
      "execution_count": null,
      "outputs": []
    },
    {
      "cell_type": "code",
      "source": "atan(f.Fraction('1/8'),3)",
      "metadata": {
        "jupyter": {
          "outputs_hidden": false
        },
        "collapsed": false,
        "trusted": true
      },
      "execution_count": null,
      "outputs": []
    },
    {
      "cell_type": "code",
      "source": "float(_)",
      "metadata": {
        "jupyter": {
          "outputs_hidden": false
        },
        "collapsed": false,
        "trusted": true
      },
      "execution_count": null,
      "outputs": []
    },
    {
      "cell_type": "markdown",
      "source": "5 ó 6 decimales correctos.",
      "metadata": {
        "trusted": true
      }
    },
    {
      "cell_type": "code",
      "source": "m.atan(f.Fraction('1/57'))",
      "metadata": {
        "tags": [],
        "trusted": true
      },
      "execution_count": null,
      "outputs": []
    },
    {
      "cell_type": "code",
      "source": "atan(f.Fraction('1/57'),3)",
      "metadata": {
        "jupyter": {
          "outputs_hidden": false
        },
        "collapsed": false,
        "trusted": true
      },
      "execution_count": null,
      "outputs": []
    },
    {
      "cell_type": "code",
      "source": "float(_)",
      "metadata": {
        "jupyter": {
          "outputs_hidden": false
        },
        "collapsed": false,
        "trusted": true
      },
      "execution_count": null,
      "outputs": []
    },
    {
      "cell_type": "markdown",
      "source": "13 decimales correctos.",
      "metadata": {
        "trusted": true
      }
    },
    {
      "cell_type": "markdown",
      "source": "Aquí hay una fórmula sencilla para descomponer un ángulo con tangente racional en dos trozos, todo con numeradores 1.",
      "metadata": {
        "trusted": true
      }
    },
    {
      "cell_type": "code",
      "source": "def find(c):\n    for a in range(c+1,200):\n        d = a-c\n        n = a*c+1\n        b = n//d\n        if n%d == 0 and a<=b:\n            print(f\"{c} => {a} | {b}\")",
      "metadata": {
        "jupyter": {
          "outputs_hidden": false
        },
        "collapsed": false,
        "trusted": true
      },
      "execution_count": null,
      "outputs": []
    },
    {
      "cell_type": "code",
      "source": "find(1)",
      "metadata": {
        "jupyter": {
          "outputs_hidden": false
        },
        "collapsed": false,
        "trusted": true
      },
      "execution_count": null,
      "outputs": []
    },
    {
      "cell_type": "code",
      "source": "find(2)",
      "metadata": {
        "jupyter": {
          "outputs_hidden": false
        },
        "collapsed": false,
        "trusted": true
      },
      "execution_count": null,
      "outputs": []
    },
    {
      "cell_type": "code",
      "source": "find(3)",
      "metadata": {
        "jupyter": {
          "outputs_hidden": false
        },
        "collapsed": false,
        "trusted": true
      },
      "execution_count": null,
      "outputs": []
    },
    {
      "cell_type": "code",
      "source": "find(4)",
      "metadata": {
        "jupyter": {
          "outputs_hidden": false
        },
        "collapsed": false,
        "trusted": true
      },
      "execution_count": null,
      "outputs": []
    },
    {
      "cell_type": "code",
      "source": "find(7)",
      "metadata": {
        "jupyter": {
          "outputs_hidden": false
        },
        "collapsed": false,
        "trusted": true
      },
      "execution_count": null,
      "outputs": []
    },
    {
      "cell_type": "code",
      "source": "find(8)",
      "metadata": {
        "jupyter": {
          "outputs_hidden": false
        },
        "collapsed": false,
        "trusted": true
      },
      "execution_count": null,
      "outputs": []
    },
    {
      "cell_type": "code",
      "source": "find(13)",
      "metadata": {
        "jupyter": {
          "outputs_hidden": false
        },
        "collapsed": false,
        "trusted": true
      },
      "execution_count": null,
      "outputs": []
    },
    {
      "cell_type": "code",
      "source": "for c in range(1,20):\n    find(c)",
      "metadata": {
        "jupyter": {
          "outputs_hidden": false
        },
        "collapsed": false,
        "trusted": true
      },
      "execution_count": null,
      "outputs": []
    },
    {
      "cell_type": "markdown",
      "source": "Hay que intentar que aparezcan pocos términos pequeños diferentes. Esta es la mejor que he conseguido:",
      "metadata": {
        "trusted": true
      }
    },
    {
      "cell_type": "code",
      "source": "m.pi/(2*m.atan(f.Fraction('1/18'))+5*m.atan(f.Fraction('1/8'))+3*m.atan(f.Fraction('1/57')))",
      "metadata": {
        "jupyter": {
          "outputs_hidden": false
        },
        "collapsed": false,
        "trusted": true
      },
      "execution_count": null,
      "outputs": []
    },
    {
      "cell_type": "markdown",
      "source": "Pero hay otras \"Machin-like expressions\" mucho mejores.",
      "metadata": {
        "trusted": true
      }
    },
    {
      "cell_type": "markdown",
      "source": "## Expansión binomial generalizada",
      "metadata": {
        "tags": [],
        "trusted": true
      }
    },
    {
      "cell_type": "markdown",
      "source": "Una posible aproximación a $\\pi$ integrando $\\sqrt{1-x^2}$ entre 0 y 1, mediante un desarrollo en serie con la [expansión binomial generalizada](https://en.wikipedia.org/wiki/Binomial_theorem#Newton's_generalized_binomial_theorem).",
      "metadata": {
        "trusted": true
      }
    },
    {
      "cell_type": "code",
      "source": "import sympy as sym\n\nfrom sympy import sin, cos, exp, sqrt\nfrom sympy import pi, oo\nfrom sympy import symbols, N\nfrom sympy.abc import a, b, x, r\n\nsym.init_printing(pretty_print=True)\n\nrat = sym.Rational\n\nsym.__version__",
      "metadata": {
        "trusted": true
      },
      "execution_count": null,
      "outputs": []
    },
    {
      "cell_type": "markdown",
      "source": "Coeficiente binomial\n\n$$\\binom{r}{k} = \\frac{r!}{k!(r-k)!} = \\frac{r(r-1)\\ldots(r-k+1)}{k!} $$",
      "metadata": {
        "trusted": true
      }
    },
    {
      "cell_type": "code",
      "source": "def bin(r,k):\n    return sym.prod([r-j for j in range(0,k)])/sym.factorial(k)",
      "metadata": {
        "trusted": true
      },
      "execution_count": null,
      "outputs": []
    },
    {
      "cell_type": "code",
      "source": "bin(r,5)",
      "metadata": {
        "trusted": true
      },
      "execution_count": null,
      "outputs": []
    },
    {
      "cell_type": "code",
      "source": "def series(x,y,r,n):\n    return sum([bin(r,k)*x**(r-k)*y**k for k in range(n)])",
      "metadata": {
        "trusted": true
      },
      "execution_count": null,
      "outputs": []
    },
    {
      "cell_type": "code",
      "source": "series(a,b,4,7)",
      "metadata": {
        "trusted": true
      },
      "execution_count": null,
      "outputs": []
    },
    {
      "cell_type": "markdown",
      "source": "Sorprendentemente, también funciona con potencias no enteras. Queda una suma infinita, ya que los coeficientes no llegan a anularse, como sí ocurre con un $r$ entero.",
      "metadata": {
        "trusted": true
      }
    },
    {
      "cell_type": "code",
      "source": "bin(rat(1,2),2)",
      "metadata": {
        "tags": [],
        "trusted": true
      },
      "execution_count": null,
      "outputs": []
    },
    {
      "cell_type": "markdown",
      "source": "La serie para $\\sqrt{1+x}$ empieza así:",
      "metadata": {
        "trusted": true
      }
    },
    {
      "cell_type": "code",
      "source": "series(1,x,rat(1,2),4)",
      "metadata": {
        "trusted": true
      },
      "execution_count": null,
      "outputs": []
    },
    {
      "cell_type": "markdown",
      "source": "La serie geométrica $\\frac{1}{1-x}$ es un caso particular:",
      "metadata": {
        "trusted": true
      }
    },
    {
      "cell_type": "code",
      "source": "series(1,-x,rat(-1,1),7)",
      "metadata": {
        "trusted": true
      },
      "execution_count": null,
      "outputs": []
    },
    {
      "cell_type": "markdown",
      "source": "En nuestro caso queremos la serie para $\\sqrt{1-x^2}$:",
      "metadata": {
        "trusted": true
      }
    },
    {
      "cell_type": "code",
      "source": "fun = series(1,-x**2,rat(1,2),7)\nfun",
      "metadata": {
        "trusted": true
      },
      "execution_count": null,
      "outputs": []
    },
    {
      "cell_type": "code",
      "source": "sym.Integral(fun,(x,0,1))",
      "metadata": {
        "trusted": true
      },
      "execution_count": null,
      "outputs": []
    },
    {
      "cell_type": "code",
      "source": "_.doit()",
      "metadata": {
        "trusted": true
      },
      "execution_count": null,
      "outputs": []
    },
    {
      "cell_type": "code",
      "source": "float(_)*4",
      "metadata": {
        "trusted": true
      },
      "execution_count": null,
      "outputs": []
    },
    {
      "cell_type": "markdown",
      "source": "Vemos los términos individuales:",
      "metadata": {
        "trusted": true
      }
    },
    {
      "cell_type": "code",
      "source": "sym.Integral(fun,x)",
      "metadata": {
        "trusted": true
      },
      "execution_count": null,
      "outputs": []
    },
    {
      "cell_type": "code",
      "source": "_.doit()",
      "metadata": {
        "trusted": true
      },
      "execution_count": null,
      "outputs": []
    },
    {
      "cell_type": "markdown",
      "source": "Los calculamos explícitamente:",
      "metadata": {
        "trusted": true
      }
    },
    {
      "cell_type": "code",
      "source": "[(-1)**n * bin(rat(1,2),n)/(2*n+1) for n in range(30)]",
      "metadata": {
        "trusted": true
      },
      "execution_count": null,
      "outputs": []
    },
    {
      "cell_type": "code",
      "source": "sum(_)",
      "metadata": {
        "trusted": true
      },
      "execution_count": null,
      "outputs": []
    },
    {
      "cell_type": "code",
      "source": "float(_)",
      "metadata": {
        "trusted": true
      },
      "execution_count": null,
      "outputs": []
    },
    {
      "cell_type": "code",
      "source": "4*_",
      "metadata": {
        "trusted": true
      },
      "execution_count": null,
      "outputs": []
    },
    {
      "cell_type": "markdown",
      "source": "La convergencia es lenta pero el método es muy curioso. (La integral original queda en función de $\\arcsin(1)=\\pi/2$, que necesita una serie más complicada.)",
      "metadata": {
        "trusted": true
      }
    }
  ]
}