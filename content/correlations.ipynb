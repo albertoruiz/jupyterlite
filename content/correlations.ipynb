{
  "metadata": {
    "kernelspec": {
      "name": "python",
      "display_name": "Python (Pyodide)",
      "language": "python"
    },
    "language_info": {
      "codemirror_mode": {
        "name": "python",
        "version": 3
      },
      "file_extension": ".py",
      "mimetype": "text/x-python",
      "name": "python",
      "nbconvert_exporter": "python",
      "pygments_lexer": "ipython3",
      "version": "3.8"
    }
  },
  "nbformat_minor": 4,
  "nbformat": 4,
  "cells": [
    {
      "cell_type": "markdown",
      "source": "# Transitive Correlation (WIP)",
      "metadata": {
        "tags": []
      }
    },
    {
      "cell_type": "code",
      "source": "import numpy as np\nimport matplotlib.pyplot as plt\n\nimport umucv.prob as pr\n\nfrom itertools import repeat\nfrom collections import Counter\n\ndef uniform(s):\n    return pr.P({x : 1 for x in s})\n\ndef bernoulli(p,a,b):\n    return pr.P({a:p, b:1-p},norm=False)\n\ndef S(k):\n    return lambda x: x[k]\n\ndef equal(k,v):\n    return lambda x: x[k] == v",
      "metadata": {
        "hidden": true,
        "lang": "es",
        "trusted": true
      },
      "execution_count": null,
      "outputs": []
    },
    {
      "cell_type": "code",
      "source": "X = uniform([\"0\", \"1\"])\nX",
      "metadata": {
        "trusted": true
      },
      "execution_count": null,
      "outputs": []
    },
    {
      "cell_type": "code",
      "source": "p = 0.8\nXY = X & {'0': bernoulli(p,\"0\",\"1\"), '1': bernoulli(p,\"1\",\"0\")}\nXY",
      "metadata": {
        "trusted": true
      },
      "execution_count": null,
      "outputs": []
    },
    {
      "cell_type": "code",
      "source": "XY >> S(0)",
      "metadata": {
        "trusted": true
      },
      "execution_count": null,
      "outputs": []
    },
    {
      "cell_type": "code",
      "source": "XY >> S(1)",
      "metadata": {
        "trusted": true
      },
      "execution_count": null,
      "outputs": []
    },
    {
      "cell_type": "code",
      "source": "q = 0.8;  a =  0\n\nXYZ = XY & { ('0','0'): bernoulli(q+a,\"0\",\"1\"), ('1','0'): bernoulli(q-a,\"0\",\"1\"),\n             ('0','1'): bernoulli(q-a,\"1\",\"0\"), ('1','1'): bernoulli(q+a,\"1\",\"0\") }\nXYZ",
      "metadata": {
        "trusted": true
      },
      "execution_count": null,
      "outputs": []
    },
    {
      "cell_type": "code",
      "source": "XYZ >> S(0)",
      "metadata": {
        "trusted": true
      },
      "execution_count": null,
      "outputs": []
    },
    {
      "cell_type": "code",
      "source": "XYZ >> S(1)",
      "metadata": {
        "trusted": true
      },
      "execution_count": null,
      "outputs": []
    },
    {
      "cell_type": "code",
      "source": "XYZ >> S(2)",
      "metadata": {
        "trusted": true
      },
      "execution_count": null,
      "outputs": []
    },
    {
      "cell_type": "code",
      "source": "XYZ.prob(lambda w: w[0]==w[1])",
      "metadata": {
        "trusted": true
      },
      "execution_count": null,
      "outputs": []
    },
    {
      "cell_type": "code",
      "source": "XYZ.prob(lambda w: w[1]==w[2])",
      "metadata": {
        "trusted": true
      },
      "execution_count": null,
      "outputs": []
    },
    {
      "cell_type": "code",
      "source": "XYZ.prob(lambda w: w[0]==w[2])",
      "metadata": {
        "trusted": true
      },
      "execution_count": null,
      "outputs": []
    },
    {
      "cell_type": "code",
      "source": "p**2  + (1-p)**2",
      "metadata": {
        "trusted": true
      },
      "execution_count": null,
      "outputs": []
    },
    {
      "cell_type": "code",
      "source": "q = 0.7;  a =  0.165\n#q = 0.799; a =  0\n\nXYZ = XY & { ('0','0'): bernoulli(q+a,\"0\",\"1\"), ('1','0'): bernoulli(q-a,\"0\",\"1\"),\n             ('0','1'): bernoulli(q-a,\"1\",\"0\"), ('1','1'): bernoulli(q+a,\"1\",\"0\") }\nXYZ",
      "metadata": {
        "trusted": true
      },
      "execution_count": null,
      "outputs": []
    },
    {
      "cell_type": "code",
      "source": "XYZ >> S(0)",
      "metadata": {
        "trusted": true
      },
      "execution_count": null,
      "outputs": []
    },
    {
      "cell_type": "code",
      "source": "XYZ >> S(1)",
      "metadata": {
        "trusted": true
      },
      "execution_count": null,
      "outputs": []
    },
    {
      "cell_type": "code",
      "source": "XYZ >> S(2)",
      "metadata": {
        "trusted": true
      },
      "execution_count": null,
      "outputs": []
    },
    {
      "cell_type": "code",
      "source": "XYZ.prob(lambda w: w[0]==w[1])",
      "metadata": {
        "trusted": true
      },
      "execution_count": null,
      "outputs": []
    },
    {
      "cell_type": "code",
      "source": "XYZ.prob(lambda w: w[1]==w[2])",
      "metadata": {
        "trusted": true
      },
      "execution_count": null,
      "outputs": []
    },
    {
      "cell_type": "code",
      "source": "XYZ.prob(lambda w: w[0]==w[2])",
      "metadata": {
        "trusted": true
      },
      "execution_count": null,
      "outputs": []
    },
    {
      "cell_type": "code",
      "source": "def exper_transit(p,q1,q2):\n    X   = uniform([\"0\", \"1\"])\n    XY  = X & {'0': bernoulli(p,\"0\",\"1\"), '1': bernoulli(p,\"1\",\"0\")}\n    XYZ = XY & { ('0','0'): bernoulli(q1,\"0\",\"1\"), ('1','0'): bernoulli(q2,\"0\",\"1\"),\n                 ('0','1'): bernoulli(q2,\"1\",\"0\"), ('1','1'): bernoulli(q1,\"1\",\"0\") }\n    return XYZ",
      "metadata": {
        "trusted": true
      },
      "execution_count": null,
      "outputs": []
    },
    {
      "cell_type": "code",
      "source": "def exper_common(p,q):\n    X   = uniform([\"0\", \"1\"])\n    XY  = X & {'0': bernoulli(p,\"0\",\"1\"), '1': bernoulli(p,\"1\",\"0\")}\n    XYZ = XY & { ('0','0'): bernoulli(q,\"0\",\"1\"), ('1','0'): bernoulli(q,\"1\",\"0\"),\n                 ('0','1'): bernoulli(q,\"0\",\"1\"), ('1','1'): bernoulli(q,\"1\",\"0\") }\n    return XYZ",
      "metadata": {
        "trusted": true
      },
      "execution_count": null,
      "outputs": []
    },
    {
      "cell_type": "code",
      "source": "def info(P):\n    print('xyz')\n    print(P)\n    print('x')\n    print(P>>S(0))\n    print('y')\n    print(P>>S(1))\n    print('z')\n    print(P>>S(2))\n    print('xy')\n    print(P>>(lambda w: (w[0],w[1])))\n    print('yz')\n    print(P>>(lambda w: (w[1],w[2])))\n    print('xz')\n    print(P>>(lambda w: (w[0],w[2])))\n    print('y|x=0')\n    print((P | (lambda w : w[0] == '0')) >> S(1))\n    print('z|y=0')\n    print((P | (lambda w : w[1] == '0')) >> S(2))\n    print('z|x=0')\n    print((P | (lambda w : w[0] == '0')) >> S(2))\n    print('x=y')\n    print(P >> (lambda w: w[0]==w[1]))\n    print('y=z')\n    print(P >> (lambda w: w[1]==w[2]))\n    print('x=z')\n    print(P >> (lambda w: w[0]==w[2]))",
      "metadata": {
        "trusted": true
      },
      "execution_count": null,
      "outputs": []
    },
    {
      "cell_type": "code",
      "source": "a = 0\nP = exper_transit(0.8, 0.8+a, 0.8-a)\ninfo(P)",
      "metadata": {
        "trusted": true
      },
      "execution_count": null,
      "outputs": []
    },
    {
      "cell_type": "code",
      "source": "P = exper_common(0.8, 0.8)\ninfo(P)",
      "metadata": {
        "trusted": true
      },
      "execution_count": null,
      "outputs": []
    },
    {
      "cell_type": "code",
      "source": "a = 0.12\nP = exper_transit(0.8, 0.8+a, 0.8-a)\ninfo(P)",
      "metadata": {
        "trusted": true
      },
      "execution_count": null,
      "outputs": []
    },
    {
      "cell_type": "code",
      "source": "q = 0.872\na = 0\nP = exper_transit(0.8, q+a, q-a)\ninfo(P)",
      "metadata": {
        "trusted": true
      },
      "execution_count": null,
      "outputs": []
    }
  ]
}