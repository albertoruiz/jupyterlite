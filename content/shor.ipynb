{
  "metadata": {
    "kernelspec": {
      "name": "python",
      "display_name": "Python (Pyodide)",
      "language": "python"
    },
    "language_info": {
      "codemirror_mode": {
        "name": "python",
        "version": 3
      },
      "file_extension": ".py",
      "mimetype": "text/x-python",
      "name": "python",
      "nbconvert_exporter": "python",
      "pygments_lexer": "ipython3",
      "version": "3.8"
    }
  },
  "nbformat_minor": 4,
  "nbformat": 4,
  "cells": [
    {
      "cell_type": "markdown",
      "source": "# Shor's algorithm in a few lines of numpy",
      "metadata": {}
    },
    {
      "cell_type": "markdown",
      "source": "## Logical functions as linear transformations",
      "metadata": {
        "tags": []
      }
    },
    {
      "cell_type": "markdown",
      "source": "Implementación de funciones lógicas como transformaciones matriciales entre los espacios completos de configuraciones de entrada y salida.",
      "metadata": {}
    },
    {
      "cell_type": "code",
      "source": "import numpy as np\nimport matplotlib.pyplot as plt\n%matplotlib inline\n\nplt.rcParams[\"figure.figsize\"] = [3,3]\n\ndef showmat(m):\n    plt.imshow(m); plt.axis('off');",
      "metadata": {
        "trusted": true
      },
      "execution_count": null,
      "outputs": []
    },
    {
      "cell_type": "code",
      "source": "def decode(bits):\n    r = np.zeros(2**len(bits),int)\n    r[int(''.join([str(b) for b in bits ]),2)] = 1\n    return r\n\ndef encode(oneshot):\n    x = np.argmax(oneshot)\n    l = np.round(np.log2(len(oneshot))).astype(int)\n    fmt = f\"{{x:0{l}b}}\"\n    return list([int(d) for d in fmt.format(x=x) ])",
      "metadata": {
        "trusted": true
      },
      "execution_count": null,
      "outputs": []
    },
    {
      "cell_type": "code",
      "source": "import itertools\n\nbit = [0,1]\n\ndef bits(n):\n    return itertools.product(*[bit]*n)\n\ndef Oper(l):\n    return np.array([decode(x) for x in l]).T",
      "metadata": {
        "trusted": true
      },
      "execution_count": null,
      "outputs": []
    },
    {
      "cell_type": "code",
      "source": "def tp(A,B):\n    return np.vstack([np.hstack(x) for x in np.tensordot(A,B,axes=0)])\n\ndef tps(As):\n    if len(As) == 1:\n        return As[0]\n    else:\n        return tp(As[0],tps(As[1:]))",
      "metadata": {
        "trusted": true
      },
      "execution_count": null,
      "outputs": []
    },
    {
      "cell_type": "markdown",
      "source": "Las puertas lógicas más comunes:",
      "metadata": {}
    },
    {
      "cell_type": "code",
      "source": "WH = np.array([[1, 1],\n               [1,-1]])/np.sqrt(2)\n\nAnd = Oper([ [1 if x==1 and y==1 else 0] for x,y in bits(2) ])\n\nNot  = Oper([ [1-x] for x, in bits(1) ])\n\nId = Not@Not\n\nCNot = Oper([ [x,y if x==0 else 1-y] for x,y in bits(2) ])\n\nToffoli = Oper([ [x1, x2, 1-y if x1==1 and x2==1 else y] for x1,x2,y in bits(3) ])",
      "metadata": {
        "trusted": true
      },
      "execution_count": null,
      "outputs": []
    },
    {
      "cell_type": "markdown",
      "source": "## Classical gates",
      "metadata": {
        "tags": []
      }
    },
    {
      "cell_type": "markdown",
      "source": "Verificamos que el orden de expansión es consistente.",
      "metadata": {}
    },
    {
      "cell_type": "code",
      "source": "list(enumerate(bits(3)))",
      "metadata": {
        "trusted": true
      },
      "execution_count": null,
      "outputs": []
    },
    {
      "cell_type": "code",
      "source": "list(map(decode,bits(3)))",
      "metadata": {
        "trusted": true
      },
      "execution_count": null,
      "outputs": []
    },
    {
      "cell_type": "code",
      "source": "list(enumerate(map(encode, map(decode,bits(3)))))",
      "metadata": {
        "trusted": true
      },
      "execution_count": null,
      "outputs": []
    },
    {
      "cell_type": "code",
      "source": "showmat(Oper([[x,y,z] for x,y,z in bits(3)]))",
      "metadata": {
        "trusted": true
      },
      "execution_count": null,
      "outputs": []
    },
    {
      "cell_type": "markdown",
      "source": "La función tps hace el tensor product y por tanto actúa como combinación en paralelo.",
      "metadata": {}
    },
    {
      "cell_type": "code",
      "source": "for x,y,z in bits(3):\n    print(x,y,z,encode(tps([Not,Id,Id])@decode([x,y,z])))",
      "metadata": {
        "trusted": true
      },
      "execution_count": null,
      "outputs": []
    },
    {
      "cell_type": "code",
      "source": "Test  = Oper([ [x, y, z, z] for x,y,z in bits(3) ])",
      "metadata": {
        "trusted": true
      },
      "execution_count": null,
      "outputs": []
    },
    {
      "cell_type": "code",
      "source": "showmat(Test)",
      "metadata": {
        "trusted": true
      },
      "execution_count": null,
      "outputs": []
    },
    {
      "cell_type": "code",
      "source": "for x,y,z in bits(3):\n    print(x,y,z,encode(Test@decode([x,y,z])))",
      "metadata": {
        "trusted": true
      },
      "execution_count": null,
      "outputs": []
    },
    {
      "cell_type": "markdown",
      "source": "Empezamos probando operaciones clásicas:",
      "metadata": {}
    },
    {
      "cell_type": "code",
      "source": "plt.figure(figsize=(3,3))\nshowmat(And)",
      "metadata": {
        "trusted": true
      },
      "execution_count": null,
      "outputs": []
    },
    {
      "cell_type": "code",
      "source": "for x,y in bits(2):\n    print(x,y,encode(And@decode([x,y])))",
      "metadata": {
        "trusted": true
      },
      "execution_count": null,
      "outputs": []
    },
    {
      "cell_type": "code",
      "source": "Or = Not @ And @ tps([Not,Not])",
      "metadata": {
        "trusted": true
      },
      "execution_count": null,
      "outputs": []
    },
    {
      "cell_type": "code",
      "source": "plt.figure(figsize=(3,3))\nshowmat(Or)",
      "metadata": {
        "trusted": true
      },
      "execution_count": null,
      "outputs": []
    },
    {
      "cell_type": "code",
      "source": "for x,y in bits(2):\n    print(x,y,encode(Or@decode([x,y])))",
      "metadata": {
        "trusted": true
      },
      "execution_count": null,
      "outputs": []
    },
    {
      "cell_type": "markdown",
      "source": "La gracia está en combinar circuitos fijos, expandiendo entradas adecuadamente con tensor products.",
      "metadata": {}
    },
    {
      "cell_type": "markdown",
      "source": "## Adder",
      "metadata": {}
    },
    {
      "cell_type": "markdown",
      "source": "Construimos un sumador de 4 bits encadenando 4 de 1 bit:",
      "metadata": {}
    },
    {
      "cell_type": "code",
      "source": "adder = Oper([( (x+y+s)%2,(x+y+s)//2) for s,x,y in bits(3) ])",
      "metadata": {
        "trusted": true
      },
      "execution_count": null,
      "outputs": []
    },
    {
      "cell_type": "code",
      "source": "for s,x,y in bits(3):\n    print(s,x,y,encode(adder@decode([s,x,y])))",
      "metadata": {
        "trusted": true
      },
      "execution_count": null,
      "outputs": []
    },
    {
      "cell_type": "markdown",
      "source": "Para conectarlos hay que dejar pasar las entradas y salidas en los canales adecuados en cada etapa:",
      "metadata": {}
    },
    {
      "cell_type": "code",
      "source": "step1 = tps([adder,Id,Id,Id,Id,Id,Id])\nshowmat(step1); plt.show()\nstep2 = tps([Id,adder,Id,Id,Id,Id])\nshowmat(step2); plt.show()\nstep3 = tps([Id,Id,adder,Id,Id])\nshowmat(step3); plt.show()\nstep4 = tps([Id,Id,Id,adder])\nshowmat(step4); plt.show()",
      "metadata": {
        "trusted": true
      },
      "execution_count": null,
      "outputs": []
    },
    {
      "cell_type": "code",
      "source": "adder4 = step4 @ step3 @ step2 @ step1\nprint(adder4.shape)\nplt.figure(figsize=(8,3))\nshowmat(adder4)",
      "metadata": {
        "trusted": true
      },
      "execution_count": null,
      "outputs": []
    },
    {
      "cell_type": "markdown",
      "source": "Utilidades de conversión decimal $\\leftrightarrow$ binario:",
      "metadata": {}
    },
    {
      "cell_type": "code",
      "source": "def dec(x):\n    return sum([v * 2**k for k,v in enumerate(reversed(x))])",
      "metadata": {
        "trusted": true
      },
      "execution_count": null,
      "outputs": []
    },
    {
      "cell_type": "code",
      "source": "dec([1,1,0])",
      "metadata": {
        "trusted": true
      },
      "execution_count": null,
      "outputs": []
    },
    {
      "cell_type": "code",
      "source": "def binary(num,length=4):\n    fmt = '{:0'+str(length)+'b}'\n    return  [int(c) for c in fmt.format(num)]",
      "metadata": {
        "trusted": true
      },
      "execution_count": null,
      "outputs": []
    },
    {
      "cell_type": "code",
      "source": "binary(6,8)",
      "metadata": {
        "trusted": true
      },
      "execution_count": null,
      "outputs": []
    },
    {
      "cell_type": "markdown",
      "source": "Construimos la entrada alternando los bits de cada número, con los bits más significativos al final.",
      "metadata": {}
    },
    {
      "cell_type": "code",
      "source": "def rev(x): return list(reversed(x))",
      "metadata": {
        "trusted": true
      },
      "execution_count": null,
      "outputs": []
    },
    {
      "cell_type": "code",
      "source": "a = 8\nb = 7\nab = [0]+list(np.array(list(zip(reversed(binary(a)),reversed(binary(b))))).flatten())\nab",
      "metadata": {
        "trusted": true
      },
      "execution_count": null,
      "outputs": []
    },
    {
      "cell_type": "code",
      "source": "encode(adder4 @ decode(ab))",
      "metadata": {
        "trusted": true
      },
      "execution_count": null,
      "outputs": []
    },
    {
      "cell_type": "code",
      "source": "c = dec(rev(_))\nc, c==a+b",
      "metadata": {
        "trusted": true
      },
      "execution_count": null,
      "outputs": []
    },
    {
      "cell_type": "markdown",
      "source": "Estos circuitos son deterministas: cada elemento de la base de estados de entrada produce sin ambiguedad una configuración de salida. Cada columna solo tiene un uno. Pero es normal que varios estados de entrada vayan al mismo de salida. Cada fila es un posible resultado, y los unos en ella indican los estados de entrada que lo producen.",
      "metadata": {}
    },
    {
      "cell_type": "code",
      "source": "c = 7\n\npos = dec(rev(binary(c,5)))",
      "metadata": {
        "trusted": true
      },
      "execution_count": null,
      "outputs": []
    },
    {
      "cell_type": "code",
      "source": "list(np.where(adder4[pos])[0])",
      "metadata": {
        "trusted": true
      },
      "execution_count": null,
      "outputs": []
    },
    {
      "cell_type": "code",
      "source": "bs = binary(100,9)\nprint(bs)\nbs[0], dec(list(reversed(bs[1::2]))), dec(list(reversed(bs[2::2])))",
      "metadata": {
        "trusted": true
      },
      "execution_count": null,
      "outputs": []
    },
    {
      "cell_type": "code",
      "source": "bs = binary(280,9)\nprint(bs)\nbs[0], dec(list(reversed(bs[1::2]))), dec(list(reversed(bs[2::2])))",
      "metadata": {
        "trusted": true
      },
      "execution_count": null,
      "outputs": []
    },
    {
      "cell_type": "code",
      "source": "def permute(js,n):\n    join  = Oper( [ [xs[k] for k in js] + [xs[k] for k in range(n) if k not in js] for xs in bits(n)] )\n    return join\n\ndef extend(gate, tot):\n    o,i = gate.shape\n    n = round(np.log2(i))\n    return tps([gate]+[Id]*(tot-n))\n\ndef operateWith(gate,js,n):\n    join = permute(js, n)\n    return join.T @ extend(gate, n) @ join",
      "metadata": {
        "trusted": true
      },
      "execution_count": null,
      "outputs": []
    },
    {
      "cell_type": "markdown",
      "source": "$$[x,y,z,0,0] \\rightarrow [x,\\, y,\\, z,\\, x \\land y,\\, x \\land y \\land z]$$",
      "metadata": {}
    },
    {
      "cell_type": "code",
      "source": "encode(operateWith(Toffoli,[2,3,4],5) @ operateWith(Toffoli,[0,1,3],5) @ decode([1,1,1]+[0]*2))",
      "metadata": {
        "trusted": true
      },
      "execution_count": null,
      "outputs": []
    },
    {
      "cell_type": "code",
      "source": "for x,y,z in bits(3):\n    print(encode(operateWith(Toffoli,[2,3,4],5) @ operateWith(Toffoli,[0,1,3],5) @ decode([x,y,z]+[0]*2)))",
      "metadata": {
        "trusted": true
      },
      "execution_count": null,
      "outputs": []
    },
    {
      "cell_type": "markdown",
      "source": "## Uncertainty",
      "metadata": {
        "tags": []
      }
    },
    {
      "cell_type": "markdown",
      "source": "Estas matrices de transformación son un caso particular de las [matrices estocásticas](https://en.wikipedia.org/wiki/Stochastic_matrix), que transforman densidades de probabilidad en densidades de probabilidad. Recordemos que producto matriz vector implementa la contracción P(y) = Sum P(y|x) P(x). Las matrices estocásticas son probabilidades condicionadas, en las que cada columna suma 1. Los circuitos lógicos anteriores son transformaciones deterministas donde las columnas solo tienen un uno. Pero pueden utilizarse sin problema para transformar distribuciones de probabilidad.",
      "metadata": {}
    },
    {
      "cell_type": "markdown",
      "source": "Con esta operación construimos un bit completamente incierto:",
      "metadata": {}
    },
    {
      "cell_type": "code",
      "source": "erase = np.array([[1,1],\n                  [1,1]])/2",
      "metadata": {
        "trusted": true
      },
      "execution_count": null,
      "outputs": []
    },
    {
      "cell_type": "code",
      "source": "erase @ [0.2, 0.8]",
      "metadata": {
        "trusted": true
      },
      "execution_count": null,
      "outputs": []
    },
    {
      "cell_type": "code",
      "source": "erase @ erase @ [0.2, 0.8]",
      "metadata": {
        "trusted": true
      },
      "execution_count": null,
      "outputs": []
    },
    {
      "cell_type": "markdown",
      "source": "En el  sumador anterior metemos un bit incierto:",
      "metadata": {}
    },
    {
      "cell_type": "code",
      "source": "probs = adder4 @ tps([Id,erase,Id,Id,Id,Id,Id,Id,Id]) @ decode(ab)\nprobs",
      "metadata": {
        "trusted": true
      },
      "execution_count": null,
      "outputs": []
    },
    {
      "cell_type": "code",
      "source": "for ik,p in enumerate(probs):\n    k = dec(rev(binary(ik,5)))\n    if p >0:\n        print(k,p)",
      "metadata": {
        "trusted": true
      },
      "execution_count": null,
      "outputs": []
    },
    {
      "cell_type": "markdown",
      "source": "O sea, (8 ó 9) + 7 = 15 ó 16",
      "metadata": {}
    },
    {
      "cell_type": "markdown",
      "source": "Con dos bits inciertos:",
      "metadata": {}
    },
    {
      "cell_type": "code",
      "source": "probs = adder4 @ tps([Id,erase,Id,Id,Id,Id,erase,Id,Id]) @ decode(ab)\nprobs",
      "metadata": {
        "trusted": true
      },
      "execution_count": null,
      "outputs": []
    },
    {
      "cell_type": "code",
      "source": "for ik,p in enumerate(probs):\n    k = dec(rev(binary(ik,5)))\n    if p >0:\n        print(k,p)",
      "metadata": {
        "trusted": true
      },
      "execution_count": null,
      "outputs": []
    },
    {
      "cell_type": "markdown",
      "source": "O sea, (8 ó 9) + (3 ó 7) = 11 ó 12 ó 15 ó 16",
      "metadata": {}
    },
    {
      "cell_type": "code",
      "source": "plt.figure(figsize=(8,3))\nshowmat(adder4 @ tps([Id,erase,Id,Id,Id,Id,erase,Id,Id]))",
      "metadata": {
        "trusted": true
      },
      "execution_count": null,
      "outputs": []
    },
    {
      "cell_type": "markdown",
      "source": "## Reversible computation",
      "metadata": {
        "tags": []
      }
    },
    {
      "cell_type": "markdown",
      "source": "Si la matriz tiene inversa significa que la computación se puede deshacer, del estado final se puede volver al de partida. La matriz de suma del ejemplo anterior claramente no es invertible a menos que nos las arreglemos para mantener las entradas, explícita o implícitameante en el resultado.",
      "metadata": {}
    },
    {
      "cell_type": "markdown",
      "source": "Afortunadamente existen juegos universales de puertas lógicas reversibles, lo cual implica que en principio se puede computar sin consumir energía. La que se haya consumido se recupera deshaciendo la operación.",
      "metadata": {}
    },
    {
      "cell_type": "markdown",
      "source": "Los circuitos lógicos reversibles se corresponden con matrices de permutación, tienen un uno en cada fila y columna.",
      "metadata": {}
    },
    {
      "cell_type": "markdown",
      "source": "## Quantum gates",
      "metadata": {
        "tags": []
      }
    },
    {
      "cell_type": "markdown",
      "source": "CNOT: $(x,y) \\rightarrow (x,x \\oplus y)$",
      "metadata": {}
    },
    {
      "cell_type": "code",
      "source": "plt.figure(figsize=(3,3))\nshowmat(CNot)",
      "metadata": {
        "trusted": true
      },
      "execution_count": null,
      "outputs": []
    },
    {
      "cell_type": "code",
      "source": "for x,y in bits(2):\n    print(x,y,encode(CNot@decode([x,y])))",
      "metadata": {
        "trusted": true
      },
      "execution_count": null,
      "outputs": []
    },
    {
      "cell_type": "markdown",
      "source": "Toffoli = CCNOT: $(x,y,z) \\rightarrow (x,y,(x \\land y) \\oplus z )$",
      "metadata": {}
    },
    {
      "cell_type": "code",
      "source": "plt.figure(figsize=(3,3))\nshowmat(Toffoli)",
      "metadata": {
        "trusted": true
      },
      "execution_count": null,
      "outputs": []
    },
    {
      "cell_type": "code",
      "source": "for c1,c2,y in bits(3):\n    print(c1,c2,y,encode(Toffoli@decode([c1,c2,y])))",
      "metadata": {
        "trusted": true
      },
      "execution_count": null,
      "outputs": []
    },
    {
      "cell_type": "markdown",
      "source": "Reversible And",
      "metadata": {}
    },
    {
      "cell_type": "code",
      "source": "for x,y in bits(2):\n    print(x,y,encode(Toffoli@decode([x,y,0])))",
      "metadata": {
        "trusted": true
      },
      "execution_count": null,
      "outputs": []
    },
    {
      "cell_type": "markdown",
      "source": "Reversible Or",
      "metadata": {}
    },
    {
      "cell_type": "code",
      "source": "ROr = tps([Not,Not,Not]) @ Toffoli @ tps([Not,Not,Id])",
      "metadata": {
        "trusted": true
      },
      "execution_count": null,
      "outputs": []
    },
    {
      "cell_type": "code",
      "source": "for x,y in bits(2):\n    print(x,y,encode(ROr@decode([x,y,0])))",
      "metadata": {
        "trusted": true
      },
      "execution_count": null,
      "outputs": []
    },
    {
      "cell_type": "markdown",
      "source": "Reversible XOR:",
      "metadata": {}
    },
    {
      "cell_type": "code",
      "source": "for x,y in bits(2):\n    print(x,y,encode(Toffoli@decode([1,x,y])))",
      "metadata": {
        "trusted": true
      },
      "execution_count": null,
      "outputs": []
    },
    {
      "cell_type": "markdown",
      "source": "## Wiring",
      "metadata": {}
    },
    {
      "cell_type": "markdown",
      "source": "The logic gates must be \"extended\" to operate with all the variables in the circuit. The permutation matrices play the role of the wires connecting the inputs and outputs of each gate to the others.",
      "metadata": {}
    },
    {
      "cell_type": "code",
      "source": "def permute(js,n):\n    join  = Oper( [ [xs[k] for k in js] + [xs[k] for k in range(n) if k not in js] for xs in bits(n)] )\n    return join\n\ndef extend(gate, tot):\n    o,i = gate.shape\n    n = round(np.log2(i))\n    return tps([gate]+[Id]*(tot-n))\n\ndef operateWith(gate,js,n):\n    join = permute(js, n)\n    return join.T @ extend(gate, n) @ join",
      "metadata": {
        "trusted": true
      },
      "execution_count": null,
      "outputs": []
    },
    {
      "cell_type": "markdown",
      "source": "As an example, we compute $x \\land y \\land z$ using two Toffoli gates. We need two control inputs set to zero. We organize the computation so that the inputs keep the original order and the succesive zeros are changed to the intermediate results.\n\n$$[x,y,z,0,0] \\rightarrow [x,\\, y,\\, z,\\, x \\land y,\\, x \\land y \\land z]$$",
      "metadata": {}
    },
    {
      "cell_type": "code",
      "source": "And3 = operateWith(Toffoli,[2,3,4],5) @ operateWith(Toffoli,[0,1,3],5)\n\nencode(And3 @ decode([1,1,1]+[0]*2))",
      "metadata": {
        "trusted": true
      },
      "execution_count": null,
      "outputs": []
    },
    {
      "cell_type": "code",
      "source": "for x,y,z in bits(3):\n    print(encode( And3 @ decode([x,y,z]+[0]*2)))",
      "metadata": {
        "trusted": true
      },
      "execution_count": null,
      "outputs": []
    },
    {
      "cell_type": "markdown",
      "source": "## Ancilla bits",
      "metadata": {}
    },
    {
      "cell_type": "markdown",
      "source": "Cada puerta necesita un bit constante auxiliar. Evidentemente, no tiene sentido introducir una nueva entrada por cada puerta lógica. Afortunadamente, dado que estamos utilizando computación reversible, podemos \"descomputar\" los resultados intermedios que no necesitemos con la operación inversa para recuperar la energía consumida y reutilizar los bits auxiliares o las entradas en operaciones posteriores.",
      "metadata": {}
    },
    {
      "cell_type": "code",
      "source": "And3b = operateWith(Toffoli,[0,1,3],5).T @ operateWith(Toffoli,[2,3,4],5) @ operateWith(Toffoli,[0,1,3],5)",
      "metadata": {
        "trusted": true
      },
      "execution_count": null,
      "outputs": []
    },
    {
      "cell_type": "code",
      "source": "for x,y,z in bits(3):\n    print(encode( And3b @ decode([x,y,z]+[0]*2)))",
      "metadata": {
        "trusted": true
      },
      "execution_count": null,
      "outputs": []
    },
    {
      "cell_type": "markdown",
      "source": "## Deutchs-Jozsa",
      "metadata": {
        "tags": []
      }
    },
    {
      "cell_type": "markdown",
      "source": "El ejemplo más simple de computación cuántica. Podemos determinar con una sola llamada si una función desconocida (tenemos su implementación oculta en una caja negra) que solo puede ser constante o \"balanceada\".",
      "metadata": {}
    },
    {
      "cell_type": "code",
      "source": "# two WH gates in parallel for two bits\nmix = tp(WH,WH)\n\ndef konst(x):\n    return 1\n\ndef balanced(x):\n    return 1 if x == 1 else 0\n\nfun = balanced\n#fun = konst\n\ndef xor(x,y):\n    return 1 if x!=y else 0\n\n# creates a reversible operation with an auxiliary input\nreverK = Oper([( x, xor(y, konst(x)) ) for x,y in bits(2) ])\n\nreverB = Oper([( x, xor(y, balanced(x)) ) for x,y in bits(2) ])\n\n# check the operation and the order of bits\nfor x,y in bits(2):\n    xs, yf = encode(reverK @ decode([x,y]))\n    print (x,y, xs == x, yf == xor(y,konst(x)))\n    xs, yf = encode(reverB @ decode([x,y]))\n    print (x,y, xs == x, yf == xor(y,balanced(x)))",
      "metadata": {
        "trusted": true
      },
      "execution_count": null,
      "outputs": []
    },
    {
      "cell_type": "markdown",
      "source": "El primer bit de la salida nos da la solución: 0: constant, 1: balanced.",
      "metadata": {}
    },
    {
      "cell_type": "code",
      "source": "# constant\namps = mix @ reverK @ mix @ decode([0,1])\nprint('Amplitudes:', amps)\n\nprobs = np.abs(amps)**2\n\nprint('probabilities:')\nfor k,v in zip(bits(2), probs):\n    if v >0:\n        print(k,v)",
      "metadata": {
        "trusted": true
      },
      "execution_count": null,
      "outputs": []
    },
    {
      "cell_type": "code",
      "source": "# balanced\namps = mix @ reverB @ mix @ decode([0,1])\nprint('Amplitudes:', amps)\n\nprobs = np.abs(amps)**2\n\nprint('probabilities:')\nfor k,v in zip(bits(2), probs):\n    if v >0:\n        print(k,v)",
      "metadata": {
        "trusted": true
      },
      "execution_count": null,
      "outputs": []
    },
    {
      "cell_type": "code",
      "source": "# with the identity in the auxiliary first bit, it remains uncertain\namps = tp(WH,Id) @ reverB @ mix @ decode([0,1])\nprint('Amplitudes:', amps)\n\nprobs = np.abs(amps)**2\n\nprint('probabilities:')\nfor k,v in zip(bits(2), probs):\n    if v >0:\n        print(k,v)",
      "metadata": {
        "trusted": true
      },
      "execution_count": null,
      "outputs": []
    },
    {
      "cell_type": "code",
      "source": "showmat(reverK)",
      "metadata": {
        "trusted": true
      },
      "execution_count": null,
      "outputs": []
    },
    {
      "cell_type": "code",
      "source": "showmat(reverB)",
      "metadata": {
        "trusted": true
      },
      "execution_count": null,
      "outputs": []
    },
    {
      "cell_type": "markdown",
      "source": "## Bernstein-Vazirani",
      "metadata": {}
    },
    {
      "cell_type": "markdown",
      "source": "Partimos de una función como caja negra que implementa el producto escalar mod 2 con un vector binario secreto.",
      "metadata": {}
    },
    {
      "cell_type": "code",
      "source": "secret = [0,1,1,0]\nn = len(secret)\n\ndef dot(ss,xs):\n    return sum([s*x for s,x in zip(ss,xs)]) % 2\n\nbervaz = Oper([ X + [xor(y, dot(secret,X))] for X in map(list,bits(n)) for y in bit])\n\nshowmat(bervaz)\nbervaz.shape",
      "metadata": {
        "trusted": true
      },
      "execution_count": null,
      "outputs": []
    },
    {
      "cell_type": "markdown",
      "source": "Para determinar este vector mediante operaciones clásicas tenemos que evaluar la función una vez para cada elemento.",
      "metadata": {}
    },
    {
      "cell_type": "code",
      "source": "for k in range(n):\n    print(encode(bervaz @ decode(list(np.eye(4)[k].astype(int))+[0])))",
      "metadata": {
        "trusted": true
      },
      "execution_count": null,
      "outputs": []
    },
    {
      "cell_type": "markdown",
      "source": "Con puertas cuánticas podemos crear una superposición que obtiene el vector con una sola evaluación:",
      "metadata": {}
    },
    {
      "cell_type": "code",
      "source": "amps = tps([WH]*(n+1)) @ (bervaz @ (tps([WH]*(n+1)) @ decode(([0]*(n)+[1]))))",
      "metadata": {
        "trusted": true
      },
      "execution_count": null,
      "outputs": []
    },
    {
      "cell_type": "code",
      "source": "probs = np.abs(amps)**2\nfor k,v in zip(bits(n+1), probs):\n    if v > 1/100:\n        print(f'{k[:n]} | {k[-1]}   {100*v:.2f}%')",
      "metadata": {
        "trusted": true
      },
      "execution_count": null,
      "outputs": []
    },
    {
      "cell_type": "markdown",
      "source": "## Shor",
      "metadata": {
        "tags": []
      }
    },
    {
      "cell_type": "markdown",
      "source": "La factorización de enteros se reduce a encontrar una raíz cuadrada modular no trivial de la unidad, que a su vez se reduce a encontrar el período de una secuencia.",
      "metadata": {}
    },
    {
      "cell_type": "markdown",
      "source": "Vamos a construir el circuito para $f(x)=a^x \\mod N$",
      "metadata": {}
    },
    {
      "cell_type": "markdown",
      "source": "(Empezamos con un registro n=4 para comprobar los cálculos.)",
      "metadata": {}
    },
    {
      "cell_type": "code",
      "source": "a = 13\nN = 15\n\nn = 4\nq = 4\n\ndef f(x):\n    r = a**x % N\n    return r, binary(r,q)",
      "metadata": {
        "trusted": true
      },
      "execution_count": null,
      "outputs": []
    },
    {
      "cell_type": "code",
      "source": "for k in range(2**n):\n    print(k, f(k))",
      "metadata": {
        "trusted": true
      },
      "execution_count": null,
      "outputs": []
    },
    {
      "cell_type": "markdown",
      "source": "Se observa la periodicidad que el algoritmo tendrá que detectar.",
      "metadata": {}
    },
    {
      "cell_type": "markdown",
      "source": "Construimos el circuito que la implementa, que produce la misma entrada y el resultado de la función. En una implementación física real esto habría que hacerlo con puertas lógicas reversibles. Es la parte más complicada (ver *Reversible Adder* más abajo).",
      "metadata": {}
    },
    {
      "cell_type": "code",
      "source": "expmod =Oper([ xs + f(dec(xs))[1] for zs in bits(n+q) for xs in [list(zs[:n])]])",
      "metadata": {
        "trusted": true
      },
      "execution_count": null,
      "outputs": []
    },
    {
      "cell_type": "code",
      "source": "showmat(expmod)",
      "metadata": {
        "trusted": true
      },
      "execution_count": null,
      "outputs": []
    },
    {
      "cell_type": "markdown",
      "source": "Verificamos que funciona correctamente con la organizacion de bits establecida.",
      "metadata": {}
    },
    {
      "cell_type": "code",
      "source": "bs = encode(expmod @ decode(binary(14,n)+[0]*q))\nprint(bs)\ndec(bs[:n]), dec(bs[n:])",
      "metadata": {
        "tags": [],
        "trusted": true
      },
      "execution_count": null,
      "outputs": []
    },
    {
      "cell_type": "code",
      "source": "bs = encode(expmod @ decode(binary(11,n)+[0]*q))\nprint(bs)\ndec(bs[:n]), dec(bs[n:])",
      "metadata": {
        "tags": [],
        "trusted": true
      },
      "execution_count": null,
      "outputs": []
    },
    {
      "cell_type": "markdown",
      "source": "Alimentamos el circuito con una superposición de todas las entradas:",
      "metadata": {}
    },
    {
      "cell_type": "code",
      "source": "amps = expmod @ (tps([WH]*n + [Id]*q) @ decode([0]*(n+q)))\namps",
      "metadata": {
        "trusted": true
      },
      "execution_count": null,
      "outputs": []
    },
    {
      "cell_type": "markdown",
      "source": "Si observamos todos los bits del resultado, puede salir cualquier configuración de entrada con su salida asociada.",
      "metadata": {}
    },
    {
      "cell_type": "code",
      "source": "def shprobs(amps,tol=1):\n    probs = np.abs(amps)**2\n    for k,v in zip(bits(n+q), probs):\n        if v>tol/100:\n            print(f'{dec(k[:n]):2} -> {dec(k[n:]):2}   {100*v:.2f}%')",
      "metadata": {
        "trusted": true
      },
      "execution_count": null,
      "outputs": []
    },
    {
      "cell_type": "code",
      "source": "print('Probabilities:')\nshprobs(amps)",
      "metadata": {
        "trusted": true
      },
      "execution_count": null,
      "outputs": []
    },
    {
      "cell_type": "markdown",
      "source": "Se obtienen exactamente las mismas probabilidades si se introduce un valor incierto clásico (usando el operadore `erase` anterior en vez de la puerta de Walsh-Hadamard). Esto significa que si desconocemos completamente qué entrada concreta se ha introducido, la salida puede ser cualquiera de las posibles con igual probabilidad.\n\nEn el caso cuántico se introduce un estado de superposición perfectamente definido y conocido, que se transforma, y al medirse en la base computacional se proyecta alguno de los resultados posibles.",
      "metadata": {}
    },
    {
      "cell_type": "code",
      "source": "# Partial measurement of the bits in ks\n\ndef measure(state, ks):\n    n = round(np.log2(len(state)))\n    r = np.random.choice(np.arange(len(state)), p=np.abs(state)**2)\n    print(r)\n    xs = binary(r,n)\n    print(xs)\n    obs = np.array(xs)[ks]\n    print(obs)\n    newamps = np.array([ a if np.array_equal(np.array(bs)[ks] , obs) else 0 for bs, a in zip(bits(n), state) ])\n    newamps = newamps/np.linalg.norm(newamps)\n    return newamps",
      "metadata": {
        "trusted": true
      },
      "execution_count": null,
      "outputs": []
    },
    {
      "cell_type": "markdown",
      "source": "La primera idea clave del algoritmo de Shor es que al observar el valor de la función el estado de los qbits no observados, los que copian la entrada, queda en una superposición de los valores que producen este resultado concreto observado.",
      "metadata": {}
    },
    {
      "cell_type": "code",
      "source": "collapsed = measure(amps, list(range(n,n+q)))\n\nshprobs(collapsed)",
      "metadata": {
        "tags": [],
        "trusted": true
      },
      "execution_count": null,
      "outputs": []
    },
    {
      "cell_type": "markdown",
      "source": "En el caso clásico, esto nos diría que una de esas entradas es la que se introdujo concretamente en el circuito. En el caso cuántico tenemos un estado que mantiene todas las posibilidades. Si lo observamos obtendríamos una de ellas, igual que en el caso clásico.\n\nSi de alguna manera pudiéramos medir estos qbits varias veces sin alterar el estado, obtendríamos diferentes valores con una sola ejecución de la exponenciación modular y podríamos deducir el período (la diferencia entre ellos es un múltiplo del período). Pero esto es físicamente imposible, no se puede clonar un estado cuántico. Habría que repetir el proceso ejecutando de nuevo la función desde el principio. En casos realistas de números grandes es muy improbable que se repita el resultado.",
      "metadata": {}
    },
    {
      "cell_type": "code",
      "source": "collapsed = measure(amps, list(range(n,n+q)))\n\nshprobs(collapsed)",
      "metadata": {
        "trusted": true
      },
      "execution_count": null,
      "outputs": []
    },
    {
      "cell_type": "markdown",
      "source": "La segunda clave del algoritmo de Shor es aplicar la transformada de Fourier a la parte del estado que contiene todas las entradas que producen el valor de salida observado, para determinar el período.",
      "metadata": {}
    },
    {
      "cell_type": "markdown",
      "source": "Hay que aumentar el número de qbits del registro que contiene la entrada para que se produzca un número suficiente de repeticiones. Se supone que debe ser $N^2 < 2^n < 2N^2$, pero en alguno de estos experimentos parece que funciona con valores menores.",
      "metadata": {}
    },
    {
      "cell_type": "code",
      "source": "n = 6\n\nexpmod =Oper([ xs + f(dec(xs))[1] for zs in bits(n+q) for xs in [list(zs[:n])]])\namps = expmod @ (tps([WH]*n + [Id]*q) @ decode([0]*(n+q)))\nprint('Probabilities')\nshprobs(amps)",
      "metadata": {
        "trusted": true
      },
      "execution_count": null,
      "outputs": []
    },
    {
      "cell_type": "code",
      "source": "collapsed = measure(amps, list(range(n,n+q)))",
      "metadata": {
        "trusted": true
      },
      "execution_count": null,
      "outputs": []
    },
    {
      "cell_type": "markdown",
      "source": "Queda una superposición de los valores de entrada que producen el mismo resultado:",
      "metadata": {}
    },
    {
      "cell_type": "code",
      "source": "plt.rcParams[\"figure.figsize\"] = [8,3]\nplt.plot(collapsed);",
      "metadata": {
        "trusted": true
      },
      "execution_count": null,
      "outputs": []
    },
    {
      "cell_type": "code",
      "source": "pos = np.where(abs(collapsed)>0.1)[0]\nprint(pos)\nprint(pos[1:] - pos[:-1])\n(pos[1]-pos[0])/2**q",
      "metadata": {
        "trusted": true
      },
      "execution_count": null,
      "outputs": []
    },
    {
      "cell_type": "markdown",
      "source": "(El período en el espacio expandido va multiplicado por el tamaño del otro registro.)",
      "metadata": {}
    },
    {
      "cell_type": "markdown",
      "source": "Como comprobación, extraemos las amplitudes de las configuraciones no observadas.",
      "metadata": {}
    },
    {
      "cell_type": "code",
      "source": "def showprobs2():\n    sa = np.zeros(2**n)\n    print('Probabilities:')\n    for k,a in zip(bits(n+q), collapsed):\n        x = dec(k[:n])\n        v = np.abs(a)**2\n        sa[x] += a\n        if v >0:\n            print(f'{x:3} -> {dec(k[n:]):3}   {100*v:.2f}%')\n\n    plt.bar(np.arange(len(sa)),np.abs(sa),width=0.5);\n    plt.xlabel('x'); plt.ylabel('amp');\n    return sa",
      "metadata": {
        "trusted": true
      },
      "execution_count": null,
      "outputs": []
    },
    {
      "cell_type": "code",
      "source": "sa = showprobs2()",
      "metadata": {
        "trusted": true
      },
      "execution_count": null,
      "outputs": []
    },
    {
      "cell_type": "markdown",
      "source": "The [Quantum Fourier Transform](https://en.wikipedia.org/wiki/Quantum_Fourier_transform) aplica la TF a la secuencia de amplitudes de un estado cuántico, ordenadas de acuerdo con la enumeración binaria de los qubits... Se puede realizar físicamente con puertas de forma eficiente.",
      "metadata": {}
    },
    {
      "cell_type": "code",
      "source": "def QFT(n):\n    N = 2**n\n    w = np.exp(1j*2*np.pi/N)\n    r = np.array([[ w**(k*j) for k in range(N)] for j in range(N)]) / np.sqrt(N)\n    return r",
      "metadata": {
        "trusted": true
      },
      "execution_count": null,
      "outputs": []
    },
    {
      "cell_type": "code",
      "source": "abs(QFT(4)@np.conj(QFT(4).T) - np.eye(16)).max()",
      "metadata": {
        "trusted": true
      },
      "execution_count": null,
      "outputs": []
    },
    {
      "cell_type": "code",
      "source": "showmat(np.hstack([np.real(QFT(5)),np.imag(QFT(5))]))",
      "metadata": {
        "tags": [],
        "trusted": true
      },
      "execution_count": null,
      "outputs": []
    },
    {
      "cell_type": "code",
      "source": "plt.figure(figsize=(6,3))\npf = np.abs(QFT(n) @ sa)**2\nplt.plot(pf);\nnp.where(pf>1/100)",
      "metadata": {
        "trusted": true
      },
      "execution_count": null,
      "outputs": []
    },
    {
      "cell_type": "markdown",
      "source": "Since the period probably will seldom be an exact divisor of the length we need the convergents (see below). We include here a simple implementation to compute the sequence of convergents of the continuous fraction expansion of a given fraction.",
      "metadata": {}
    },
    {
      "cell_type": "code",
      "source": "from theonum import cf_expansion, convergents",
      "metadata": {
        "tags": [],
        "trusted": true
      },
      "execution_count": null,
      "outputs": []
    },
    {
      "cell_type": "code",
      "source": "print('Probabilities:')\nfor j,v in enumerate(pf):\n    if v > 1/100:\n        cs = list(convergents(cf_expansion(j,2**n)))\n        print(f'{100*v:6.2f}%   {j:3}  {cs}')",
      "metadata": {
        "trusted": true
      },
      "execution_count": null,
      "outputs": []
    },
    {
      "cell_type": "markdown",
      "source": "With the candidates we verify that we have found the modular square root of one. ",
      "metadata": {}
    },
    {
      "cell_type": "code",
      "source": "a**2 % N, a**4 % N",
      "metadata": {
        "trusted": true
      },
      "execution_count": null,
      "outputs": []
    },
    {
      "cell_type": "markdown",
      "source": "And finally we obtain the factors:",
      "metadata": {}
    },
    {
      "cell_type": "code",
      "source": "from math import gcd\n\nr = 4\np = gcd(a**(r//2)-1, N)\n\np, N//p, N%p",
      "metadata": {
        "trusted": true
      },
      "execution_count": null,
      "outputs": []
    },
    {
      "cell_type": "markdown",
      "source": "Lo que ocurre se ve casi mejor en el espacio completo. Preparamos el circuito para otra factorización:",
      "metadata": {}
    },
    {
      "cell_type": "code",
      "source": "a = 19\nN = 21\n\nn = 6\nq = 5\n\nfor k in range(2*N):\n    print(k, f(k))\nprint('...')\n\nexpmod =Oper([ xs + f(dec(xs))[1] for zs in bits(n+q) for xs in [list(zs[:n])]])\n\namps0 = expmod @ (tps([WH]*n + [Id]*q) @ decode([0]*(n+q)))\nprint('Probabilities')\nshprobs(amps0)\n\namps = tps([QFT(n)]+[Id]*q) @ (expmod @ (tps([WH]*n + [Id]*q) @ decode([0]*(n+q))))\nprint('\\nWith QFT')\nshprobs(amps,tol=1)",
      "metadata": {
        "trusted": true
      },
      "execution_count": null,
      "outputs": []
    },
    {
      "cell_type": "markdown",
      "source": "Repitiendo el experimento varias veces, aunque el valor de la función sea distinto, el resultado de la TF es siempre un múltiplo del período.",
      "metadata": {}
    },
    {
      "cell_type": "code",
      "source": "probs0 = np.abs( measure(amps0, list(range(n,n+q))) )**2\nplt.plot(probs0)\nplt.show()\nprobs = np.abs( measure(amps, list(range(n,n+q))) )**2\nplt.plot(probs);",
      "metadata": {
        "trusted": true
      },
      "execution_count": null,
      "outputs": []
    },
    {
      "cell_type": "code",
      "source": "for k,v in zip(bits(n+q), probs):\n    j = dec(k[:n])\n    if v>5/100:\n        cs = list(convergents(cf_expansion(j,2**n)))\n        print(f'{100*v:6.2f}%   {j:3} - {dec(k[n:]):2}:  {cs}')\n        for _,d in cs:\n            if  a**d % N == 1:\n                r = d\n                break\nprint(r)\np = gcd(a**(r//2)-1, N)\np, N//p, N%p",
      "metadata": {
        "trusted": true
      },
      "execution_count": null,
      "outputs": []
    },
    {
      "cell_type": "markdown",
      "source": "## FFT for non-integer frequencies",
      "metadata": {
        "tags": []
      }
    },
    {
      "cell_type": "code",
      "source": "def shqft():\n    x = np.zeros(256)\n    x[5::9] = 1\n    plt.plot(x);\n    plt.title(f'period=9,  length=256,  true freq={256/9:.2f},  peaks={sum(x>0.5)}')\n    plt.show()\n\n    f = abs(np.fft.ifft(x))\n    plt.plot(f,'.-');\n    h = 0.04\n    ks = list(np.where(f>h)[0])\n    plt.plot([0,255],[h,h],color='gray',ls='dotted')\n    sks = f'{ks[1:7]}'[1:-1]\n    plt.title(f'FFT big peaks at {sks}, ...')\n    return ks",
      "metadata": {
        "trusted": true
      },
      "execution_count": null,
      "outputs": []
    },
    {
      "cell_type": "code",
      "source": "ks = shqft()",
      "metadata": {
        "trusted": true
      },
      "execution_count": null,
      "outputs": []
    },
    {
      "cell_type": "code",
      "source": "[(k,list(convergents(cf_expansion(k,256)))) for k in ks]",
      "metadata": {
        "trusted": true
      },
      "execution_count": null,
      "outputs": []
    },
    {
      "cell_type": "markdown",
      "source": "## Reversible adder",
      "metadata": {}
    },
    {
      "cell_type": "markdown",
      "source": "The most complex part of Shor's algorithm is the circuit for modular exponentiation ([Pavlidis & Gizopoulos, 2014](https://arxiv.org/abs/1207.0511)). To get an idea we build an adder from scratch using just Toffoli gates.",
      "metadata": {}
    },
    {
      "cell_type": "markdown",
      "source": "The operation of a reversible one-bit full adder must be some something like\n\n$$(x,y,c,0,\\ldots) \\rightarrow (\\ldots,\\; x\\oplus y \\oplus c,\\;\\, xy+xc+yc,\\;\\ldots)$$\n\nwhere \"$\\ldots$\" denotes auxiliary constant bits and intermediate results or inputs required for a reversible operation. A more or less direct translation of the above formulas may not be optimal. The following circuit by Feynman shown in the [Wikipedia article](https://en.wikipedia.org/wiki/Quantum_logic_gate) only requires two CCNOT and two CNOT gates (or three if we need B):\n\n![Feynman adder](https://upload.wikimedia.org/wikipedia/commons/thumb/0/0a/Quantum_Full_Adder.png/350px-Quantum_Full_Adder.png)",
      "metadata": {}
    },
    {
      "cell_type": "code",
      "source": "def op(g,*xs): return operateWith(g,[*xs],4)\n\nFAdd = op(CNot,1,2) @ op(Toffoli,1,2,3) @ op(CNot,0,1) @ op(Toffoli,0,1,3)\nshowmat(FAdd)\n\nfor x,y,c in bits(3):\n    print([x,y,c], encode(FAdd @ decode([x,y,c,0])))",
      "metadata": {
        "trusted": true
      },
      "execution_count": null,
      "outputs": []
    },
    {
      "cell_type": "markdown",
      "source": "Circuits for multiplier, divider, and powermod operations are left as an exercise ;)",
      "metadata": {}
    },
    {
      "cell_type": "markdown",
      "source": "## QFT from quantum gates",
      "metadata": {}
    },
    {
      "cell_type": "code",
      "source": "# direct sum: if control bit=0 then A else B\ndef DSUM(A,B):\n    na = len(A)\n    nb = len(B)\n    X = np.zeros([na+nb,na+nb],complex)\n    X[:na,:na] = A\n    X[-nb:,-nb:] = B\n    return X\n\n# phase shift\ndef R(n):\n    return np.array([[1,0],[0,np.exp(2j*np.pi/2**n)]])\n\n# controlled phase shift\ndef CR(n):\n    return DSUM(Id,R(n))\n\n# permutation matrix for bit reversal\ndef BitReversal(n):\n    return  Oper([ list(reversed(bs)) for bs in bits(n) ])\n\nshowmat(BitReversal(3))",
      "metadata": {
        "trusted": true
      },
      "execution_count": null,
      "outputs": []
    },
    {
      "cell_type": "code",
      "source": "def op(g,*xs): return operateWith(g,[*xs],5)\n\nQ1 = op(CR(5),4,0) @ op(CR(4),3,0) @ op(CR(3),2,0) @ op(CR(2),1,0) @ op(WH,0)\nQ2 = op(CR(4),4,1) @ op(CR(3),3,1) @ op(CR(2),2,1) @ op(WH,1)\nQ3 = op(CR(3),4,2) @ op(CR(2),3,2) @ op(WH,2)\nQ4 = op(CR(2),4,3) @ op(WH,3)\nQ5 = op(WH,4)\n\nQ = BitReversal(5) @ Q5 @ Q4 @ Q3 @ Q2 @ Q1\nshowmat(np.hstack([np.real(Q),np.imag(Q)]))",
      "metadata": {
        "trusted": true
      },
      "execution_count": null,
      "outputs": []
    },
    {
      "cell_type": "markdown",
      "source": "All operators are very sparse:",
      "metadata": {}
    },
    {
      "cell_type": "code",
      "source": "showmat(op(WH,2))",
      "metadata": {
        "trusted": true
      },
      "execution_count": null,
      "outputs": []
    },
    {
      "cell_type": "code",
      "source": "T  = op(CR(2),3,2)\nshowmat(np.hstack([np.real(T),np.imag(T)]))",
      "metadata": {
        "trusted": true
      },
      "execution_count": null,
      "outputs": []
    },
    {
      "cell_type": "markdown",
      "source": "## Tensors",
      "metadata": {}
    },
    {
      "cell_type": "markdown",
      "source": "Instead of this costly explicit representation of the operators over the full tensor product space of all state variables, we can work with proper tensors and apply simple operations along the required dimensions.",
      "metadata": {}
    },
    {
      "cell_type": "markdown",
      "source": "We use the utilities based on [numpy.einsum](https://numpy.org/doc/stable/reference/generated/numpy.einsum.html) described [here](tensolve.ipynb).",
      "metadata": {}
    },
    {
      "cell_type": "code",
      "source": "import sympy # not used here but required by the next import\nimport umucv.tensor as tensor\nfrom umucv.tensor import T",
      "metadata": {
        "trusted": true
      },
      "execution_count": null,
      "outputs": []
    },
    {
      "cell_type": "code",
      "source": "zero = T([1,0])\none  = T([0,1])\n\nH = T(np.array(\n    [[1, 1],\n    [1,-1]])/np.sqrt(2))",
      "metadata": {
        "trusted": true
      },
      "execution_count": null,
      "outputs": []
    },
    {
      "cell_type": "code",
      "source": "qbit = T(2)*zero + T(5)*one\nqbit",
      "metadata": {
        "trusted": true
      },
      "execution_count": null,
      "outputs": []
    },
    {
      "cell_type": "code",
      "source": "state = zero('i') @ zero('j')\nstate",
      "metadata": {
        "trusted": true
      },
      "execution_count": null,
      "outputs": []
    },
    {
      "cell_type": "code",
      "source": "H('iq') @ state('qj')",
      "metadata": {
        "trusted": true
      },
      "execution_count": null,
      "outputs": []
    },
    {
      "cell_type": "code",
      "source": "H('jq') @ state('iq')",
      "metadata": {
        "trusted": true
      },
      "execution_count": null,
      "outputs": []
    },
    {
      "cell_type": "code",
      "source": "H('il') @ H('jq') @ state('ql')",
      "metadata": {
        "trusted": true
      },
      "execution_count": null,
      "outputs": []
    },
    {
      "cell_type": "markdown",
      "source": "This is the Walsh-Hadamard transform in factorized form:",
      "metadata": {}
    },
    {
      "cell_type": "code",
      "source": "H('il') @ H('jq')",
      "metadata": {
        "trusted": true
      },
      "execution_count": null,
      "outputs": []
    },
    {
      "cell_type": "markdown",
      "source": "The Toffoli universal reversible gate is a rank 6 tensor:",
      "metadata": {}
    },
    {
      "cell_type": "code",
      "source": "Tof = T(np.array(\n      [[1, 0, 0, 0, 0, 0, 0, 0],\n       [0, 1, 0, 0, 0, 0, 0, 0],\n       [0, 0, 1, 0, 0, 0, 0, 0],\n       [0, 0, 0, 1, 0, 0, 0, 0],\n       [0, 0, 0, 0, 1, 0, 0, 0],\n       [0, 0, 0, 0, 0, 1, 0, 0],\n       [0, 0, 0, 0, 0, 0, 0, 1],\n       [0, 0, 0, 0, 0, 0, 1, 0]]).reshape(2,2,2,2,2,2))\n\nfor a in [zero('l'),one('l')]:\n    for b in [zero('m'),one('m')]:\n        r = Tof @ a @ b @ zero('n')\n        print(encode(r.A.flatten()))",
      "metadata": {
        "trusted": true
      },
      "execution_count": null,
      "outputs": []
    },
    {
      "cell_type": "markdown",
      "source": "The composition of operators is just contractions of the connected input/output ports. The tensor product implementing the parallel combination of operations is not explicitly computed.",
      "metadata": {}
    },
    {
      "cell_type": "code",
      "source": "Not = T(np.array(\n      [[0, 1],\n       [1, 0]]))\n\nOr = Tof('abcpqn') @ Not('lp') @ Not('mq') @ Not('ia') @ Not('jb') @ Not('kc')\n\nfor a in [zero('l'),one('l')]:\n    for b in [zero('m'),one('m')]:\n        r = Or @ a @ b @ zero('n')\n        print(encode(r.A.flatten()))",
      "metadata": {
        "trusted": true
      },
      "execution_count": null,
      "outputs": []
    },
    {
      "cell_type": "markdown",
      "source": "The inverse operation of the reversible gates is achieved just by changing the input/output role of the slots.",
      "metadata": {}
    },
    {
      "cell_type": "code",
      "source": "state = zero('l') @ one('j') @ zero('n')\nstate",
      "metadata": {
        "trusted": true
      },
      "execution_count": null,
      "outputs": []
    },
    {
      "cell_type": "code",
      "source": "result = state @ H('il') @ H('kn') @ Tof('rstijk')\nresult",
      "metadata": {
        "trusted": true
      },
      "execution_count": null,
      "outputs": []
    },
    {
      "cell_type": "code",
      "source": "back = result @ H('li') @ H('nk') @ Tof('rstijk')\nback",
      "metadata": {
        "trusted": true
      },
      "execution_count": null,
      "outputs": []
    },
    {
      "cell_type": "markdown",
      "source": "(The inverse operation of general unitary gates with complex components also requires conjugation.)",
      "metadata": {
        "tags": []
      }
    },
    {
      "cell_type": "markdown",
      "source": "A few more experiments with the tensor representation of states and gates.",
      "metadata": {}
    },
    {
      "cell_type": "code",
      "source": "def normalize(t):\n    return t @ T(1/np.linalg.norm(t.A.flatten()))\n\ndef probs(st):\n    \"\"\"show the probabilities of the possible measurements of a state\"\"\"\n    print(st.idx)\n    for amp, reg in zip(st.A.flatten(),bits(len(st.A.shape))):\n        p = amp * np.conj(amp)\n        if p > 0.01:\n            print(f\"{p:.3f} {reg}\")",
      "metadata": {
        "trusted": true
      },
      "execution_count": null,
      "outputs": []
    },
    {
      "cell_type": "code",
      "source": "state = zero('a') @ zero('b') @ H('ka') @ one('c')\nprint(state)",
      "metadata": {
        "trusted": true
      },
      "execution_count": null,
      "outputs": []
    },
    {
      "cell_type": "code",
      "source": "probs(state)",
      "metadata": {
        "trusted": true
      },
      "execution_count": null,
      "outputs": []
    },
    {
      "cell_type": "code",
      "source": "CNOT =T(CNot.reshape(2,2,2,2))\n\nfor a in [zero('k'),one('k')]:\n    for b in [zero('l'),one('l')]:\n        r = CNOT @ a @ b\n        print(encode(r.A.flatten()))",
      "metadata": {
        "trusted": true
      },
      "execution_count": null,
      "outputs": []
    },
    {
      "cell_type": "markdown",
      "source": "In the Bell states the bits are entagled: the state cannot be factorized:",
      "metadata": {}
    },
    {
      "cell_type": "code",
      "source": "bell = zero('a') @ zero('b') @ H('ka') @ CNOT('ijkb')\nbell",
      "metadata": {
        "trusted": true
      },
      "execution_count": null,
      "outputs": []
    },
    {
      "cell_type": "code",
      "source": "probs(bell)",
      "metadata": {
        "trusted": true
      },
      "execution_count": null,
      "outputs": []
    },
    {
      "cell_type": "markdown",
      "source": "A reversible 1-bit full adder in tensor form:",
      "metadata": {}
    },
    {
      "cell_type": "code",
      "source": "ADD = T(FAdd.reshape(2,2,2,2,2,2,2,2))\nprint(ADD.idx)",
      "metadata": {
        "trusted": true
      },
      "execution_count": null,
      "outputs": []
    },
    {
      "cell_type": "code",
      "source": "def tb(t): return encode(t.A.flatten())\n\nfor a in [zero('m'),one('m')]:\n    for b in [zero('n'),one('n')]:\n        for c in [zero('o'),one('o')]:\n            r = ADD @ a @ b @ c @ zero('p')\n            print([tb(a),tb(b),tb(c)], r.idx, encode(r.A.flatten()))",
      "metadata": {
        "trusted": true
      },
      "execution_count": null,
      "outputs": []
    },
    {
      "cell_type": "markdown",
      "source": "Ojo: es reversible pero no para cualquier selección de entradas/salidas. Algunas son ambiguas y otras imposibles. La reordenación del tensor da lugar a una matriz que no es una permutación y la norma del estado resultante no es uno.",
      "metadata": {}
    },
    {
      "cell_type": "markdown",
      "source": "We can build multibit adders as a sequence of 16x16 tensor gates, acting on a bigger space.  ",
      "metadata": {}
    },
    {
      "cell_type": "code",
      "source": "#        11 + 7\nbs = '0 1011 0111 0000'.replace(' ','')\njs = 'm dcba hgfe ijkl'.replace(' ','')\n\nlstate = [ (zero if b=='0' else one)(k) for k,b in zip(js,bs) ]\nstate = tensor.prod(lstate)\nstate.idx",
      "metadata": {
        "trusted": true
      },
      "execution_count": null,
      "outputs": []
    },
    {
      "cell_type": "code",
      "source": "state.A.size, round(np.sqrt(ADD.A.size))",
      "metadata": {
        "trusted": true
      },
      "execution_count": null,
      "outputs": []
    },
    {
      "cell_type": "markdown",
      "source": "TODO: include diagram to make sense of the indexes.",
      "metadata": {}
    },
    {
      "cell_type": "code",
      "source": "ADDER_4 = [ ADD('nopqaemi'), ADD('rstubfqj'), ADD('vwxycguk'), ADD('zABCdhyl') ]\n\nresult = tensor.prod( [state] + ADDER_4 )\nprobs(result.reorder('zvrnAwsoCBxtp'))",
      "metadata": {
        "tags": [],
        "trusted": true
      },
      "execution_count": null,
      "outputs": []
    },
    {
      "cell_type": "markdown",
      "source": "(The tensor is reordered to show the sum in the last five bits.)",
      "metadata": {}
    },
    {
      "cell_type": "markdown",
      "source": "We can operate on superpositions:",
      "metadata": {}
    },
    {
      "cell_type": "code",
      "source": "# (10_11) + 7 --> 17_18\nresult = tensor.prod ( [state('Xbcdefghijklm') @ H('aX')] + ADDER_4 )\nprobs(result.reorder('zvrnAwsoCBxtp'))",
      "metadata": {
        "tags": [],
        "trusted": true
      },
      "execution_count": null,
      "outputs": []
    },
    {
      "cell_type": "markdown",
      "source": "With a Bell state we have two inputs with correlated bits (opposite in this case):",
      "metadata": {}
    },
    {
      "cell_type": "code",
      "source": "#    10_11      7_6\nstate_b = state('XbcdYfghijklm') @ H('UX') @ CNOT('aeUY')\nprobs(state_b.reorder(js))",
      "metadata": {
        "tags": [],
        "trusted": true
      },
      "execution_count": null,
      "outputs": []
    },
    {
      "cell_type": "markdown",
      "source": "Which produce the same final result:",
      "metadata": {}
    },
    {
      "cell_type": "code",
      "source": "result = tensor.prod ( [state_b] + ADDER_4 )\nprobs(result.reorder('zvrnAwsoCBxtp'))",
      "metadata": {
        "tags": [],
        "trusted": true
      },
      "execution_count": null,
      "outputs": []
    },
    {
      "cell_type": "markdown",
      "source": "We introduce another superposition in the intial carry bit. We copy it to another qubit because this input is not preserved in the adder output, and we want to measure it.  ",
      "metadata": {}
    },
    {
      "cell_type": "code",
      "source": "result = result = tensor.prod ( [state_b('abcdefghijklX') @ H('MX') @ zero('E') @ CNOT('mNME')] + ADDER_4 )\nprobs(result.reorder('NzvrnAwsoCBxtp'))",
      "metadata": {
        "tags": [],
        "trusted": true
      },
      "execution_count": null,
      "outputs": []
    },
    {
      "cell_type": "markdown",
      "source": "In order to simulate a partial readout we must set to zero the amplitudes of the possibilities inconsistent with the measurement. This projection can be done with explicit assignments, but the most natural way is just a contraction with the observed partial state. For instance, if we observe the qbit which contains the superposition of the initial carry bit (index \"m\" in this case) and see a \"1\", the state collapses to:",
      "metadata": {}
    },
    {
      "cell_type": "code",
      "source": "m2 = normalize(result @ one('N'))\nprobs(m2.reorder('zvrnAwsoCBxtp'))",
      "metadata": {
        "trusted": true
      },
      "execution_count": null,
      "outputs": []
    },
    {
      "cell_type": "markdown",
      "source": "If we instead osbserve the least significant bit of the result and it happens to be a \"1\", then the observation of the copy of the initial carry will be '0'.",
      "metadata": {}
    },
    {
      "cell_type": "code",
      "source": "m2 = normalize(result @ one('p'))\nprobs(m2.reorder('NzvrnAwsoCBxt'))",
      "metadata": {
        "trusted": true
      },
      "execution_count": null,
      "outputs": []
    },
    {
      "cell_type": "markdown",
      "source": "A partial readout on a Bell state:",
      "metadata": {}
    },
    {
      "cell_type": "code",
      "source": "probs(bell)",
      "metadata": {
        "trusted": true
      },
      "execution_count": null,
      "outputs": []
    },
    {
      "cell_type": "code",
      "source": "probs(normalize(bell @ one('j')))",
      "metadata": {
        "trusted": true
      },
      "execution_count": null,
      "outputs": []
    },
    {
      "cell_type": "code",
      "source": "probs(normalize(bell @ zero('i')))",
      "metadata": {
        "tags": [],
        "trusted": true
      },
      "execution_count": null,
      "outputs": []
    },
    {
      "cell_type": "markdown",
      "source": "The tensor formalism is particularly nice for this kind of computations. La contracción es una generalización de la operación de  indexado de un array.",
      "metadata": {}
    },
    {
      "cell_type": "markdown",
      "source": "Volviendo al sumador, podemos operar con una superposición de todas las posibilidades:",
      "metadata": {}
    },
    {
      "cell_type": "code",
      "source": "def mkState(bs,js):\n    lstate = [ (zero if b=='0' else one)(k) for k,b in zip(js,bs) ]\n    return tensor.prod(lstate)",
      "metadata": {
        "trusted": true
      },
      "execution_count": null,
      "outputs": []
    },
    {
      "cell_type": "code",
      "source": "NA = mkState('0000','ABCD') @ H('aA') @ H('bB') @ H('cC') @ H('dD')\nNB = mkState('0101','hgfe')\nNZ = mkState('0000','ijlk')",
      "metadata": {
        "trusted": true
      },
      "execution_count": null,
      "outputs": []
    },
    {
      "cell_type": "code",
      "source": "m3 = tensor.prod( [NA, NB, NZ, zero('m')] + ADDER_4 )\nprobs(m3.reorder('zvrnAwsoCBxtp'))",
      "metadata": {
        "trusted": true
      },
      "execution_count": null,
      "outputs": []
    },
    {
      "cell_type": "markdown",
      "source": "We get subtraction for free:",
      "metadata": {}
    },
    {
      "cell_type": "code",
      "source": "NS = mkState('11001','CBxtp')  # 25\nNA = mkState('1011','dcba')    # 11\nNZ = mkState('0000','ijkl') @ zero('m')\n\nm4 = tensor.prod( [NA, NS, NZ] + ADDER_4[::-1] )\nprint(m4.idx, len(m4.idx), np.linalg.norm(m4.A.flatten()))\nprobs(m4.reorder('Anorsvwzhgfe'))",
      "metadata": {
        "trusted": true
      },
      "execution_count": null,
      "outputs": []
    },
    {
      "cell_type": "code",
      "source": "NS = mkState('01101','CBxtp')  # 13\nNA = mkState('1011','dcba')    # 11\nNZ = mkState('0000','ijkl') @ one('m')\n\nm4 = tensor.prod( [NA, NS, NZ] + ADDER_4[::-1] )\nprint(m4.idx, len(m4.idx), np.linalg.norm(m4.A.flatten()))\nprobs(m4.reorder('Anorsvwzhgfe'))",
      "metadata": {
        "trusted": true
      },
      "execution_count": null,
      "outputs": []
    },
    {
      "cell_type": "markdown",
      "source": "Es necesario establecer el initial carry porque si no la operación no es invertible con las entradas / salidas establecidas. Además, hay operaciones imposibles:",
      "metadata": {}
    },
    {
      "cell_type": "code",
      "source": "NS = mkState('00101','CBxtp')  # 5\nNA = mkState('0111','dcba')    # 7\nNZ = mkState('0000','ijkl') @ zero('m')\n\nm4 = tensor.prod( [NA, NS, NZ] + ADDER_4[::-1] )\nprint(m4.idx, len(m4.idx), np.linalg.norm(m4.A.flatten()))\nprobs(m4.reorder('Anorsvwzhgfe'))",
      "metadata": {
        "trusted": true
      },
      "execution_count": null,
      "outputs": []
    },
    {
      "cell_type": "code",
      "source": "NS = mkState('01101','CBxtp')  # 13\nNA = mkState('1011','dcba')    # 11\nNZ = mkState('0000','ijkl')\n\nm4 = tensor.prod( [NA, NS, NZ] + ADDER_4[::-1] )\nprint(m4.idx, len(m4.idx), np.linalg.norm(m4.A.flatten()))\nprobs(m4.reorder('mAnorsvwzhgfe'))",
      "metadata": {
        "trusted": true
      },
      "execution_count": null,
      "outputs": []
    },
    {
      "cell_type": "markdown",
      "source": "Esto significa, creo, que aunque el tensor matemático permita elegir las entradas / salidas y, de alguna manera, resuelve lo mejor posible la operación, la puerta física solo es unitaria para unas entradas / salidas predeterminadas.",
      "metadata": {}
    }
  ]
}