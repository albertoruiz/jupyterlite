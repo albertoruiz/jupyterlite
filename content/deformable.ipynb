{
  "metadata": {
    "kernelspec": {
      "name": "python",
      "display_name": "Python (Pyodide)",
      "language": "python"
    },
    "language_info": {
      "codemirror_mode": {
        "name": "python",
        "version": 3
      },
      "file_extension": ".py",
      "mimetype": "text/x-python",
      "name": "python",
      "nbconvert_exporter": "python",
      "pygments_lexer": "ipython3",
      "version": "3.8"
    }
  },
  "nbformat_minor": 4,
  "nbformat": 4,
  "cells": [
    {
      "cell_type": "markdown",
      "source": "# Grid deformations",
      "metadata": {}
    },
    {
      "cell_type": "code",
      "source": "import numpy as np\nimport matplotlib.pyplot as plt",
      "metadata": {
        "trusted": true
      },
      "execution_count": null,
      "outputs": []
    },
    {
      "cell_type": "code",
      "source": "def fig(w,h):\n    plt.figure(figsize=(w,h))\n    plt.axis('equal');\n    plt.axis('off');",
      "metadata": {
        "trusted": true
      },
      "execution_count": null,
      "outputs": []
    },
    {
      "cell_type": "code",
      "source": "X = np.linspace(0,2,21)\nY = np.linspace(0,1,11)\n\norig = np.array([[x+1j*y for x in X] for y in Y])",
      "metadata": {
        "trusted": true
      },
      "execution_count": null,
      "outputs": []
    },
    {
      "cell_type": "code",
      "source": "def to2d(zv):\n    return (np.real(zv),np.imag(zv))",
      "metadata": {
        "trusted": true
      },
      "execution_count": null,
      "outputs": []
    },
    {
      "cell_type": "code",
      "source": "def drawGrid(carr):\n    r,c = carr.shape\n    for k in range(r):\n        plt.plot(*to2d(carr[k]),color=\"gray\",lw=1)\n    carrt = carr.T\n    for k in range(c):\n        plt.plot(*to2d(carrt[k]),color=\"gray\",lw=1)",
      "metadata": {
        "trusted": true
      },
      "execution_count": null,
      "outputs": []
    },
    {
      "cell_type": "code",
      "source": "fig(6,3)\ndrawGrid(orig)",
      "metadata": {
        "trusted": true
      },
      "execution_count": null,
      "outputs": []
    },
    {
      "cell_type": "markdown",
      "source": "## Experiments",
      "metadata": {}
    },
    {
      "cell_type": "code",
      "source": "dv = 0.1\ndh = 0.1\n\nX1 = orig[0] + 3*dv*1j*np.sin(X/2*np.pi)\nX2 = orig[-1] + dv*1j*np.sin(X/2*np.pi)\nY1 = orig.T[0] + dh*1*np.sin(Y/1*np.pi)\nY2 = orig.T[-1] + dh*1*np.sin(Y/1*np.pi)\n\nfig(6,3)\nplt.plot(*to2d(X1), 'o-', color='gray');\nplt.plot(*to2d(X2), 'o-', color='gray');\nplt.plot(*to2d(Y1), 'o-', color='gray');\nplt.plot(*to2d(Y2), 'o-', color='gray');\n\nX1 = orig[0] + 2*3*dv*1j*np.sin(X/2*np.pi)\nX2 = orig[-1] + 2*dv*1j*np.sin(X/2*np.pi)\nY1 = orig.T[0] + 2*dh*1*np.sin(Y/1*np.pi)\nY2 = orig.T[-1] + 2*dh*1*np.sin(Y/1*np.pi)\n\ngrid = np.zeros([len(X2),len(Y1)],complex)\n\nfor k,(x1,x2) in enumerate(zip(X1,X2)):\n    alpha = k/(len(X1)-1)\n    for j, (y1,y2) in enumerate(zip(Y1,Y2)):\n        beta = j/(len(Y1)-1)\n        #print(alpha,beta)\n        z1 =  beta*x2  + (1-beta)*x1\n        z2 = alpha*y2 + (1-alpha)*y1\n\n        gamma = 0.5\n        z = gamma*z1 + (1-gamma)*z2\n        grid[k,j] = z\n        plt.plot(*to2d(z),'o',color='red',markersize=3)",
      "metadata": {
        "trusted": true
      },
      "execution_count": null,
      "outputs": []
    },
    {
      "cell_type": "code",
      "source": "fig(6,3)\ndrawGrid(grid)",
      "metadata": {
        "trusted": true
      },
      "execution_count": null,
      "outputs": []
    },
    {
      "cell_type": "markdown",
      "source": "## Final code",
      "metadata": {}
    },
    {
      "cell_type": "code",
      "source": "def showBorder(X1,X2,Y1,Y2):\n    for z in [X1,X2,Y1,Y2]:\n            plt.plot(*to2d(z), '.-', color='red',markersize=7);\n\ndef prepare(Z):\n    n = len(Z)\n    base = np.array([Z[-1]*alpha + Z[0]*(1-alpha) for alpha in np.linspace(0,1,n)])\n    return Z - base/2\n\ndef makeGrid(X1,X2,Y1,Y2, show=False):\n\n    CX1 = prepare(X1)\n    CX2 = prepare(X2)\n    CY1 = prepare(Y1)\n    CY2 = prepare(Y2)\n\n    if show:\n        for z in [CX1,CX2,CY1,CY2]:\n            plt.plot(*to2d(2*z), color='lightgray');\n\n    grid = np.zeros([len(CX1),len(CY1)],complex)\n\n    for k,(x1,x2) in enumerate(zip(CX1,CX2)):\n        alpha = k/(len(X1)-1)\n        for j, (y1,y2) in enumerate(zip(CY1,CY2)):\n            beta = j/(len(Y1)-1)\n            z1 =  beta*x2  + (1-beta)*x1\n            z2 = alpha*y2 + (1-alpha)*y1\n            z = z1+z2\n            grid[k,j] = z\n            #plt.plot(*to2d(z),'o',color='red',markersize=3)\n\n    return grid",
      "metadata": {
        "trusted": true
      },
      "execution_count": null,
      "outputs": []
    },
    {
      "cell_type": "markdown",
      "source": "## Examples",
      "metadata": {}
    },
    {
      "cell_type": "code",
      "source": "X1 = orig[0] + 3*dv*1j*np.sin(X/2*np.pi)\nX2 = orig[-1] + dv*1j*np.sin(X/2*np.pi)\nY1 = orig.T[0] + dh*1*np.sin(Y/1*np.pi)\nY2 = orig.T[-1] + dh*1*np.sin(Y/1*np.pi)\n\nfig(6,4) \ndrawGrid(makeGrid(X1,X2,Y1,Y2,show=True))\nshowBorder(X1,X2,Y1,Y2)",
      "metadata": {
        "trusted": true
      },
      "execution_count": null,
      "outputs": []
    },
    {
      "cell_type": "code",
      "source": "def deform(Z):\n    return (Z + (1+Z**3)/10)*np.exp(1j*0.1)",
      "metadata": {
        "trusted": true
      },
      "execution_count": null,
      "outputs": []
    },
    {
      "cell_type": "code",
      "source": "X1 = orig[0] + 3*dv*1j*np.sin(X/2*np.pi)\nX2 = orig[-1] + dv*1j*np.sin(X/2*np.pi)\nY1 = orig.T[0] + dh*1*np.sin(Y/1*np.pi)\nY2 = orig.T[-1] + 1*dh*1*np.sin(Y/1*np.pi)\n\nX1 = deform(X1)\nX2 = deform(X2)\nY1 = deform(Y1)\nY2 = deform(Y2)\n\nfig(6,4)\ndrawGrid(makeGrid(X1,X2,Y1,Y2,show=True))\nshowBorder(X1,X2,Y1,Y2)",
      "metadata": {
        "trusted": true
      },
      "execution_count": null,
      "outputs": []
    },
    {
      "cell_type": "code",
      "source": "X1 = orig[0] + 3*dv*1j*np.sin(X/1*np.pi)\nX2 = orig[-1] + dv*1j*np.sin(X/2*np.pi)\nY1 = orig.T[0] + dh*1*np.sin(Y/1*np.pi)\nY2 = orig.T[-1] + 1*dh*1*np.sin(Y/1*np.pi)\n\nX1 = deform(X1)\nX2 = deform(X2)\nY1 = deform(Y1)\nY2 = deform(Y2)\n\nfig(6,4)\ndrawGrid(makeGrid(X1,X2,Y1,Y2,show=False))\n#showBorder(X1,X2,Y1,Y2)",
      "metadata": {
        "trusted": true
      },
      "execution_count": null,
      "outputs": []
    },
    {
      "cell_type": "code",
      "source": "X1 = orig[0] + 4*dv*1j*np.sin(X/1*np.pi)\nX2 = orig[-1] + 2*dv*1j*np.sin(X/1*np.pi)\nY1 = orig.T[0] + 2*dh*1*np.sin(Y/1*np.pi)\nY2 = orig.T[-1] + dh*1*np.sin(Y/1*np.pi)\n\nfig(5,4)\ndrawGrid(makeGrid(X1,X2,Y1,Y2,show=False))\n#showBorder(X1,X2,Y1,Y2)",
      "metadata": {
        "trusted": true
      },
      "execution_count": null,
      "outputs": []
    },
    {
      "cell_type": "code",
      "source": "X1 = np.array([1*np.exp(1j*t) for t in np.linspace(0,np.pi,20)])\nX2 = np.array([2*np.exp(1j*t) for t in np.linspace(0,np.pi,20)])\nY1 = np.array([t for t in np.linspace(1,2,10)])\nY2 = -Y1 #np.array([t for t in np.linspace(-1,-2,10)])\n\nfig(6,4)\ndrawGrid(makeGrid(X1,X2,Y1,Y2,show=False))\nshowBorder(X1,X2,Y1,Y2)",
      "metadata": {
        "trusted": true
      },
      "execution_count": null,
      "outputs": []
    },
    {
      "cell_type": "code",
      "source": "X1 = np.array([1*np.exp(1j*t) for t in np.linspace(0,3*np.pi/2,40)])\nX2 = np.array([2*np.exp(1j*t) for t in np.linspace(0,3*np.pi/2,40)])\nY1 = np.array([t for t in np.linspace(1,2,10)])\nY2 = np.array([-1j*t for t in np.linspace(1,2,10)])\n\nfig(5,5)\ndrawGrid(makeGrid(X1,X2,Y1,Y2,show=False))\nshowBorder(X1,X2,Y1,Y2)",
      "metadata": {
        "trusted": true
      },
      "execution_count": null,
      "outputs": []
    },
    {
      "cell_type": "code",
      "source": "X1 = np.array([1*np.exp(1j*t) for t in np.linspace(0,3*np.pi/2,40)])\nX2 = np.array([2*np.exp(1j*t) for t in np.linspace(0,3*np.pi/2,40)])\nY1 = np.array([t + 0.3*1j*np.sin((t-1)*np.pi) for t in np.linspace(1,2,10)])\nY2 = np.array([-1j*t for t in np.linspace(1,2,10)])\n\nfig(5,5)\ndrawGrid(makeGrid(X1,X2,Y1,Y2,show=False))\nshowBorder(X1,X2,Y1,Y2)",
      "metadata": {
        "trusted": true
      },
      "execution_count": null,
      "outputs": []
    },
    {
      "cell_type": "code",
      "source": "X1 = np.array([1*np.exp(1j*t) for t in np.linspace(0,3*np.pi/2,40)])\nX2 = np.array([2*np.exp(1j*t) for t in np.linspace(0,3*np.pi/2,40)])\nY1 = np.array([t + 0.7*1j*np.sin((t-1)*np.pi) for t in np.linspace(1,2,10)])\nY2 = np.array([-1j*t for t in np.linspace(1,2,10)])\n\nfig(5,5)\ndrawGrid(makeGrid(X1,X2,Y1,Y2,show=False))\n#showBorder(X1,X2,Y1,Y2)",
      "metadata": {
        "trusted": true
      },
      "execution_count": null,
      "outputs": []
    }
  ]
}