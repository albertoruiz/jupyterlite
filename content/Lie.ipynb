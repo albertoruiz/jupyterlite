{
  "metadata": {
    "language_info": {
      "codemirror_mode": {
        "name": "python",
        "version": 3
      },
      "file_extension": ".py",
      "mimetype": "text/x-python",
      "name": "python",
      "nbconvert_exporter": "python",
      "pygments_lexer": "ipython3",
      "version": "3.8"
    },
    "kernelspec": {
      "name": "python",
      "display_name": "Python (Pyodide)",
      "language": "python"
    }
  },
  "nbformat_minor": 4,
  "nbformat": 4,
  "cells": [
    {
      "cell_type": "markdown",
      "source": "# Exponential Map",
      "metadata": {}
    },
    {
      "cell_type": "code",
      "source": "import numpy as np\n\nfrom sympy.algebras.quaternion import Quaternion\n\nfrom scipy.linalg import expm, logm",
      "metadata": {
        "trusted": true
      },
      "execution_count": null,
      "outputs": []
    },
    {
      "cell_type": "code",
      "source": "# different brackets\n\ndef C(x,y):\n    return x@y - y@x\n\ndef Q(x,y):\n    return x*y - y*x\n\ndef R(x,y):\n    return np.cross(x,y)-np.cross(y,x)\n\n# initial terms of Baker-Campbell-Hausdorff\ndef baker(x,y,B):\n    return x+y + B(x,y)/2 + B(x,B(x,y))/12 + B(y,B(x,y))/12\n\ndeg = np.pi/180",
      "metadata": {
        "trusted": true
      },
      "execution_count": null,
      "outputs": []
    },
    {
      "cell_type": "code",
      "source": "np.set_printoptions(precision=3, suppress=True)",
      "metadata": {
        "trusted": true
      },
      "execution_count": null,
      "outputs": []
    },
    {
      "cell_type": "markdown",
      "source": "## Simple example in Aff(1)",
      "metadata": {}
    },
    {
      "cell_type": "markdown",
      "source": "An element of the group:",
      "metadata": {}
    },
    {
      "cell_type": "code",
      "source": "m1 = np.array( [[1,2],[0,1]] )\nm1",
      "metadata": {
        "trusted": true
      },
      "execution_count": null,
      "outputs": []
    },
    {
      "cell_type": "markdown",
      "source": "The corresponding element of the Algebra:",
      "metadata": {}
    },
    {
      "cell_type": "code",
      "source": "t1 = logm(m1)\nt1",
      "metadata": {
        "trusted": true
      },
      "execution_count": null,
      "outputs": []
    },
    {
      "cell_type": "markdown",
      "source": "Another element:",
      "metadata": {}
    },
    {
      "cell_type": "code",
      "source": "m2 = np.array( [[4,3],[0,1]] )\nt2 = logm(m2)",
      "metadata": {
        "trusted": true
      },
      "execution_count": null,
      "outputs": []
    },
    {
      "cell_type": "markdown",
      "source": "Composition in the group:",
      "metadata": {}
    },
    {
      "cell_type": "code",
      "source": "m1 @ m2",
      "metadata": {
        "trusted": true
      },
      "execution_count": null,
      "outputs": []
    },
    {
      "cell_type": "markdown",
      "source": "The exponential property $e^Ae^B = e^{A+B}$ fails because the group is not commutative.",
      "metadata": {}
    },
    {
      "cell_type": "code",
      "source": "expm(t1+t2)",
      "metadata": {
        "trusted": true
      },
      "execution_count": null,
      "outputs": []
    },
    {
      "cell_type": "markdown",
      "source": "The Baker-campbell-Hausdorff formula gives a good approximation:",
      "metadata": {}
    },
    {
      "cell_type": "code",
      "source": "expm(baker(t1,t2,C))",
      "metadata": {
        "trusted": true
      },
      "execution_count": null,
      "outputs": []
    },
    {
      "cell_type": "markdown",
      "source": "In the other direction:",
      "metadata": {}
    },
    {
      "cell_type": "code",
      "source": "m2 @ m1",
      "metadata": {
        "trusted": true
      },
      "execution_count": null,
      "outputs": []
    },
    {
      "cell_type": "code",
      "source": "expm(baker(t2,t1,C))",
      "metadata": {
        "trusted": true
      },
      "execution_count": null,
      "outputs": []
    },
    {
      "cell_type": "markdown",
      "source": "## Example in SO(3)",
      "metadata": {}
    },
    {
      "cell_type": "code",
      "source": "def rot3(ang):\n    c = np.cos(ang)\n    s = np.sin(ang)\n    return np.array([[c, -s, 0]\n                  ,[s,  c, 0]\n                  ,[0,  0, 1]])\n\ndef rot1(ang):\n    c = np.cos(ang)\n    s = np.sin(ang)\n    return np.array([[1, 0,  0]\n                  ,[0, c, -s]\n                  ,[0, s,  c]])\n\ndef rot2(ang):\n    c = np.cos(ang)\n    s = np.sin(ang)\n    return np.array([[ c, 0, s]\n                  ,[ 0, 1, 0]\n                  ,[-s, 0, c]])",
      "metadata": {
        "trusted": true
      },
      "execution_count": null,
      "outputs": []
    },
    {
      "cell_type": "markdown",
      "source": "We repeat the same experiment in the group or 3D rotations:",
      "metadata": {}
    },
    {
      "cell_type": "code",
      "source": "m1 = rot3(30*deg)\nt1 = logm(m1)\n\nm2 = rot1(40*deg)\nt2 = logm(m2)",
      "metadata": {
        "trusted": true
      },
      "execution_count": null,
      "outputs": []
    },
    {
      "cell_type": "code",
      "source": "m1",
      "metadata": {
        "trusted": true
      },
      "execution_count": null,
      "outputs": []
    },
    {
      "cell_type": "code",
      "source": "t1",
      "metadata": {
        "trusted": true
      },
      "execution_count": null,
      "outputs": []
    },
    {
      "cell_type": "markdown",
      "source": "The matrix logarithm of the rotation gives the angle (see the last section).",
      "metadata": {}
    },
    {
      "cell_type": "code",
      "source": "t1/deg",
      "metadata": {
        "trusted": true
      },
      "execution_count": null,
      "outputs": []
    },
    {
      "cell_type": "code",
      "source": "m1 @ m2",
      "metadata": {
        "trusted": true
      },
      "execution_count": null,
      "outputs": []
    },
    {
      "cell_type": "code",
      "source": "expm(t1+t2)",
      "metadata": {
        "trusted": true
      },
      "execution_count": null,
      "outputs": []
    },
    {
      "cell_type": "markdown",
      "source": "Again, we need the BCH formula to get a good approximation in the tangent space:",
      "metadata": {}
    },
    {
      "cell_type": "code",
      "source": "expm(baker(t1,t2,C))",
      "metadata": {
        "trusted": true
      },
      "execution_count": null,
      "outputs": []
    },
    {
      "cell_type": "code",
      "source": "m2 @ m1",
      "metadata": {
        "trusted": true
      },
      "execution_count": null,
      "outputs": []
    },
    {
      "cell_type": "code",
      "source": "expm(baker(t2,t1,C))",
      "metadata": {
        "trusted": true
      },
      "execution_count": null,
      "outputs": []
    },
    {
      "cell_type": "markdown",
      "source": "We now check the represention of rotations by unit quaternions. First we define two elements and verify that they correspond to the expected matrices.",
      "metadata": {}
    },
    {
      "cell_type": "code",
      "source": "u1 = np.array([0,0,1])\na1 = 30*deg\nu2 = np.array([1,0,0])\na2 = 40*deg\n\nq1 = Quaternion(np.cos(a1/2),*(np.sin(a1/2)*u1))\nq2 = Quaternion(np.cos(a2/2),*(np.sin(a2/2)*u2))",
      "metadata": {
        "trusted": true
      },
      "execution_count": null,
      "outputs": []
    },
    {
      "cell_type": "code",
      "source": "q1",
      "metadata": {
        "trusted": true
      },
      "execution_count": null,
      "outputs": []
    },
    {
      "cell_type": "code",
      "source": "q1.to_axis_angle()",
      "metadata": {
        "trusted": true
      },
      "execution_count": null,
      "outputs": []
    },
    {
      "cell_type": "code",
      "source": "q1.to_rotation_matrix()",
      "metadata": {
        "tags": [],
        "trusted": true
      },
      "execution_count": null,
      "outputs": []
    },
    {
      "cell_type": "code",
      "source": "m1",
      "metadata": {
        "trusted": true
      },
      "execution_count": null,
      "outputs": []
    },
    {
      "cell_type": "code",
      "source": "q2",
      "metadata": {
        "trusted": true
      },
      "execution_count": null,
      "outputs": []
    },
    {
      "cell_type": "code",
      "source": "q2.to_axis_angle()",
      "metadata": {
        "trusted": true
      },
      "execution_count": null,
      "outputs": []
    },
    {
      "cell_type": "code",
      "source": "q2.to_rotation_matrix()",
      "metadata": {
        "tags": [],
        "trusted": true
      },
      "execution_count": null,
      "outputs": []
    },
    {
      "cell_type": "code",
      "source": "m2",
      "metadata": {
        "trusted": true
      },
      "execution_count": null,
      "outputs": []
    },
    {
      "cell_type": "markdown",
      "source": "Then we create the composition $q_2q_1$ and obtain the rotation matrix by conjugation of the basis:",
      "metadata": {}
    },
    {
      "cell_type": "code",
      "source": "q = q2*q1\n\nnp.array([(q*Quaternion(0,*b)*q.inverse()).args[1:] for b in np.eye(3)]).T.astype(float)",
      "metadata": {
        "trusted": true
      },
      "execution_count": null,
      "outputs": []
    },
    {
      "cell_type": "code",
      "source": "m2@m1",
      "metadata": {
        "trusted": true
      },
      "execution_count": null,
      "outputs": []
    },
    {
      "cell_type": "code",
      "source": "q.to_rotation_matrix()",
      "metadata": {
        "trusted": true
      },
      "execution_count": null,
      "outputs": []
    },
    {
      "cell_type": "markdown",
      "source": "Now check the approximation in the tangent space:",
      "metadata": {}
    },
    {
      "cell_type": "code",
      "source": "tq1=Quaternion(0,0,0,a1/2)\ntq2=Quaternion(0,a2/2,0,0)",
      "metadata": {
        "trusted": true
      },
      "execution_count": null,
      "outputs": []
    },
    {
      "cell_type": "markdown",
      "source": "First we check that the elements of the algebra, which are pure imaginary quaternions, are correct (it seems that the quaternion logarithm is not implemented). This is the quaternion exponential:",
      "metadata": {}
    },
    {
      "cell_type": "code",
      "source": "tq1.exp()",
      "metadata": {
        "trusted": true
      },
      "execution_count": null,
      "outputs": []
    },
    {
      "cell_type": "markdown",
      "source": "Then check the BCH formula:",
      "metadata": {}
    },
    {
      "cell_type": "code",
      "source": "baker(tq2,tq1,Q)",
      "metadata": {
        "trusted": true
      },
      "execution_count": null,
      "outputs": []
    },
    {
      "cell_type": "code",
      "source": "baker(tq2,tq1,Q).exp()",
      "metadata": {
        "trusted": true
      },
      "execution_count": null,
      "outputs": []
    },
    {
      "cell_type": "markdown",
      "source": "We get the expected good approximation:",
      "metadata": {}
    },
    {
      "cell_type": "code",
      "source": "baker(tq2,tq1,Q).exp().to_rotation_matrix()",
      "metadata": {
        "tags": [],
        "trusted": true
      },
      "execution_count": null,
      "outputs": []
    },
    {
      "cell_type": "code",
      "source": "m2@m1",
      "metadata": {
        "trusted": true
      },
      "execution_count": null,
      "outputs": []
    },
    {
      "cell_type": "markdown",
      "source": "Finally, we check that the Lie Bracket is equivalent to the standard cross product:",
      "metadata": {}
    },
    {
      "cell_type": "code",
      "source": "v1 = np.array(tq1.args[1:]).astype(float)\nv2 = np.array(tq2.args[1:]).astype(float)",
      "metadata": {
        "trusted": true
      },
      "execution_count": null,
      "outputs": []
    },
    {
      "cell_type": "code",
      "source": "baker(v2,v1,R)",
      "metadata": {
        "trusted": true
      },
      "execution_count": null,
      "outputs": []
    },
    {
      "cell_type": "code",
      "source": "baker(tq2,tq1,Q)",
      "metadata": {
        "trusted": true
      },
      "execution_count": null,
      "outputs": []
    },
    {
      "cell_type": "markdown",
      "source": "## Exponential and logarithm of rotations",
      "metadata": {}
    },
    {
      "cell_type": "code",
      "source": "import sympy as sym\n\nI = sym.I\ndef mat(x1,x2,x3,x4):\n    return sym.Matrix([[x1,x2],[x3,x4]])\n\ntheta = sym.Symbol('theta',Real=True)\nm = mat(0,-theta,theta,0)\nm",
      "metadata": {
        "trusted": true
      },
      "execution_count": null,
      "outputs": []
    },
    {
      "cell_type": "code",
      "source": "m.exp()",
      "metadata": {
        "trusted": true
      },
      "execution_count": null,
      "outputs": []
    },
    {
      "cell_type": "markdown",
      "source": "We explicitly compute the matrix exponential from the factorization.",
      "metadata": {}
    },
    {
      "cell_type": "code",
      "source": "m.eigenvects()",
      "metadata": {
        "trusted": true
      },
      "execution_count": null,
      "outputs": []
    },
    {
      "cell_type": "code",
      "source": "mat(-I,I,1,1) * mat(-I*theta,0,0,I*theta)* mat(-I,I,1,1).inv()",
      "metadata": {
        "trusted": true
      },
      "execution_count": null,
      "outputs": []
    },
    {
      "cell_type": "code",
      "source": "r = mat(-I,I,1,1) * mat(sym.exp(-I*theta),0,0,sym.exp(I*theta))* mat(-I,I,1,1).inv()\nr",
      "metadata": {
        "trusted": true
      },
      "execution_count": null,
      "outputs": []
    },
    {
      "cell_type": "code",
      "source": "sym.simplify(r)",
      "metadata": {
        "trusted": true
      },
      "execution_count": null,
      "outputs": []
    }
  ]
}