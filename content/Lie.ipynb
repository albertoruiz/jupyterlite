{
  "metadata": {
    "language_info": {
      "codemirror_mode": {
        "name": "python",
        "version": 3
      },
      "file_extension": ".py",
      "mimetype": "text/x-python",
      "name": "python",
      "nbconvert_exporter": "python",
      "pygments_lexer": "ipython3",
      "version": "3.8"
    },
    "kernelspec": {
      "name": "python",
      "display_name": "Python (Pyodide)",
      "language": "python"
    }
  },
  "nbformat_minor": 4,
  "nbformat": 4,
  "cells": [
    {
      "cell_type": "markdown",
      "source": "# Exponential Map",
      "metadata": {}
    },
    {
      "cell_type": "code",
      "source": "import numpy as np\n\nfrom sympy.algebras.quaternion import Quaternion\n\nfrom scipy.linalg import expm, logm",
      "metadata": {
        "trusted": true
      },
      "execution_count": null,
      "outputs": []
    },
    {
      "cell_type": "code",
      "source": "def C(x,y):\n    return x@y - y@x\n\ndef Q(x,y):\n    return x*y - y*x\n\ndef R(x,y):\n    return np.cross(x,y)-np.cross(y,x)\n\ndef baker(x,y,B):\n    return x+y + B(x,y)/2 + B(x,B(x,y))/12 + B(y,B(x,y))/12\n\ndeg = np.pi/180",
      "metadata": {
        "trusted": true
      },
      "execution_count": null,
      "outputs": []
    },
    {
      "cell_type": "markdown",
      "source": "Ejemplo simple en Aff(1):",
      "metadata": {}
    },
    {
      "cell_type": "code",
      "source": "m1 = np.array( [[1,2],[0,1]] )\nm2 = np.array( [[4,3],[0,1]] )\nt1 = logm(m1)\nt2 = logm(m2)",
      "metadata": {
        "trusted": true
      },
      "execution_count": null,
      "outputs": []
    },
    {
      "cell_type": "code",
      "source": "m1@m2",
      "metadata": {
        "trusted": true
      },
      "execution_count": null,
      "outputs": []
    },
    {
      "cell_type": "code",
      "source": "expm(t1+t2)",
      "metadata": {
        "trusted": true
      },
      "execution_count": null,
      "outputs": []
    },
    {
      "cell_type": "code",
      "source": "expm(baker(t1,t2,C))",
      "metadata": {
        "trusted": true
      },
      "execution_count": null,
      "outputs": []
    },
    {
      "cell_type": "code",
      "source": "m2@m1",
      "metadata": {
        "trusted": true
      },
      "execution_count": null,
      "outputs": []
    },
    {
      "cell_type": "code",
      "source": "expm(baker(t2,t1,C))",
      "metadata": {
        "trusted": true
      },
      "execution_count": null,
      "outputs": []
    },
    {
      "cell_type": "markdown",
      "source": "Ejemplo en SO(3)",
      "metadata": {}
    },
    {
      "cell_type": "code",
      "source": "def rot3(ang):\n    c = np.cos(ang)\n    s = np.sin(ang)\n    return np.array([[c, -s, 0]\n                  ,[s,  c, 0]\n                  ,[0,  0, 1]])\n\ndef rot1(ang):\n    c = np.cos(ang)\n    s = np.sin(ang)\n    return np.array([[1, 0,  0]\n                  ,[0, c, -s]\n                  ,[0, s,  c]])\n\ndef rot2(ang):\n    c = np.cos(ang)\n    s = np.sin(ang)\n    return np.array([[ c, 0, s]\n                  ,[ 0, 1, 0]\n                  ,[-s, 0, c]])",
      "metadata": {
        "trusted": true
      },
      "execution_count": null,
      "outputs": []
    },
    {
      "cell_type": "code",
      "source": "m1 = rot3(30*deg)\nm2 = rot1(40*deg)\nt1 = logm(m1)\nt2 = logm(m2)",
      "metadata": {
        "trusted": true
      },
      "execution_count": null,
      "outputs": []
    },
    {
      "cell_type": "code",
      "source": "m1 @ m2",
      "metadata": {
        "trusted": true
      },
      "execution_count": null,
      "outputs": []
    },
    {
      "cell_type": "code",
      "source": "expm(t1+t2)",
      "metadata": {
        "trusted": true
      },
      "execution_count": null,
      "outputs": []
    },
    {
      "cell_type": "code",
      "source": "expm(baker(t1,t2,C))",
      "metadata": {
        "trusted": true
      },
      "execution_count": null,
      "outputs": []
    },
    {
      "cell_type": "code",
      "source": "m2 @ m1",
      "metadata": {
        "trusted": true
      },
      "execution_count": null,
      "outputs": []
    },
    {
      "cell_type": "code",
      "source": "expm(baker(t2,t1,C))",
      "metadata": {
        "trusted": true
      },
      "execution_count": null,
      "outputs": []
    },
    {
      "cell_type": "code",
      "source": "t1",
      "metadata": {
        "hidden": true,
        "trusted": true
      },
      "execution_count": null,
      "outputs": []
    },
    {
      "cell_type": "code",
      "source": "u1 = np.array([0,0,1])\na1 = 30*deg\nu2 = np.array([1,0,0])\na2 = 40*deg\n\nq1 = Quaternion(np.cos(a1/2),*(np.sin(a1/2)*u1))\nq2 = Quaternion(np.cos(a2/2),*(np.sin(a2/2)*u2))",
      "metadata": {
        "trusted": true
      },
      "execution_count": null,
      "outputs": []
    },
    {
      "cell_type": "code",
      "source": "q1",
      "metadata": {
        "trusted": true
      },
      "execution_count": null,
      "outputs": []
    },
    {
      "cell_type": "code",
      "source": "q1.to_axis_angle()",
      "metadata": {
        "trusted": true
      },
      "execution_count": null,
      "outputs": []
    },
    {
      "cell_type": "code",
      "source": "q1.to_rotation_matrix()",
      "metadata": {
        "tags": [],
        "trusted": true
      },
      "execution_count": null,
      "outputs": []
    },
    {
      "cell_type": "code",
      "source": "m1",
      "metadata": {
        "trusted": true
      },
      "execution_count": null,
      "outputs": []
    },
    {
      "cell_type": "code",
      "source": "q2",
      "metadata": {
        "trusted": true
      },
      "execution_count": null,
      "outputs": []
    },
    {
      "cell_type": "code",
      "source": "q2.to_axis_angle()",
      "metadata": {
        "trusted": true
      },
      "execution_count": null,
      "outputs": []
    },
    {
      "cell_type": "code",
      "source": "q2.to_rotation_matrix()",
      "metadata": {
        "tags": [],
        "trusted": true
      },
      "execution_count": null,
      "outputs": []
    },
    {
      "cell_type": "code",
      "source": "m2",
      "metadata": {
        "trusted": true
      },
      "execution_count": null,
      "outputs": []
    },
    {
      "cell_type": "code",
      "source": "m2@m1",
      "metadata": {
        "trusted": true
      },
      "execution_count": null,
      "outputs": []
    },
    {
      "cell_type": "code",
      "source": "np.array([(q2*q1*Quaternion(0,*b)*q1.inverse()*q2.inverse()).args[1:] for b in np.eye(3)]).T",
      "metadata": {
        "trusted": true
      },
      "execution_count": null,
      "outputs": []
    },
    {
      "cell_type": "code",
      "source": "tq1=Quaternion(0,0,0,a1/2)\ntq2=Quaternion(0,a2/2,0,0)",
      "metadata": {
        "trusted": true
      },
      "execution_count": null,
      "outputs": []
    },
    {
      "cell_type": "code",
      "source": "tq1.exp()",
      "metadata": {
        "trusted": true
      },
      "execution_count": null,
      "outputs": []
    },
    {
      "cell_type": "code",
      "source": "baker(tq2,tq1,Q)",
      "metadata": {
        "trusted": true
      },
      "execution_count": null,
      "outputs": []
    },
    {
      "cell_type": "code",
      "source": "baker(tq2,tq1,Q).exp()",
      "metadata": {
        "trusted": true
      },
      "execution_count": null,
      "outputs": []
    },
    {
      "cell_type": "code",
      "source": "baker(tq2,tq1,Q).exp().to_rotation_matrix()",
      "metadata": {
        "trusted": true
      },
      "execution_count": null,
      "outputs": []
    },
    {
      "cell_type": "code",
      "source": "v1 = np.array(tq1.args[1:]).astype(float)\nv2 = np.array(tq2.args[1:]).astype(float)",
      "metadata": {
        "trusted": true
      },
      "execution_count": null,
      "outputs": []
    },
    {
      "cell_type": "code",
      "source": "baker(v2,v1,R)",
      "metadata": {
        "trusted": true
      },
      "execution_count": null,
      "outputs": []
    }
  ]
}